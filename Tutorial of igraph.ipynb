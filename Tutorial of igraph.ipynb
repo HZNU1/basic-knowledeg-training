{
 "cells": [
  {
   "cell_type": "markdown",
   "metadata": {},
   "source": [
    "# Tutorial of igraph \n",
    "参考：http://www.cs.rhul.ac.uk/home/tamas/development/igraph/tutorial/tutorial.html\n",
    "\n",
    "python2.7  \n",
    "igraph 0.7.1\n"
   ]
  },
  {
   "cell_type": "markdown",
   "metadata": {},
   "source": [
    "#  1.starting igraph"
   ]
  },
  {
   "cell_type": "code",
   "execution_count": 1,
   "metadata": {
    "collapsed": true
   },
   "outputs": [],
   "source": [
    "import igraph"
   ]
  },
  {
   "cell_type": "code",
   "execution_count": 2,
   "metadata": {},
   "outputs": [
    {
     "name": "stdout",
     "output_type": "stream",
     "text": [
      "0.7.1\n"
     ]
    }
   ],
   "source": [
    "print igraph.__version__"
   ]
  },
  {
   "cell_type": "code",
   "execution_count": 3,
   "metadata": {
    "collapsed": true
   },
   "outputs": [],
   "source": [
    "from igraph import *"
   ]
  },
  {
   "cell_type": "markdown",
   "metadata": {},
   "source": [
    "# 2.creating a graph from scratch "
   ]
  },
  {
   "cell_type": "code",
   "execution_count": 4,
   "metadata": {
    "collapsed": true
   },
   "outputs": [],
   "source": [
    "g=Graph(1) #设立一个点"
   ]
  },
  {
   "cell_type": "code",
   "execution_count": 5,
   "metadata": {},
   "outputs": [
    {
     "data": {
      "text/plain": [
       "<igraph.Graph at 0x62b4e58>"
      ]
     },
     "execution_count": 5,
     "metadata": {},
     "output_type": "execute_result"
    }
   ],
   "source": [
    "g"
   ]
  },
  {
   "cell_type": "code",
   "execution_count": 6,
   "metadata": {},
   "outputs": [
    {
     "name": "stdout",
     "output_type": "stream",
     "text": [
      "IGRAPH U--- 1 0 --\n"
     ]
    }
   ],
   "source": [
    "print g #一个点，零条边"
   ]
  },
  {
   "cell_type": "code",
   "execution_count": 7,
   "metadata": {
    "collapsed": true
   },
   "outputs": [],
   "source": [
    "g.add_vertices(2) #增加两顶点"
   ]
  },
  {
   "cell_type": "code",
   "execution_count": 8,
   "metadata": {
    "collapsed": true
   },
   "outputs": [],
   "source": [
    "g.add_edges([(0,1),(1,2)]) #igraph0.7 至少两条边"
   ]
  },
  {
   "cell_type": "code",
   "execution_count": 9,
   "metadata": {},
   "outputs": [
    {
     "ename": "TypeError",
     "evalue": "iterable must return pairs of integers or strings",
     "output_type": "error",
     "traceback": [
      "\u001b[1;31m---------------------------------------------------------------------------\u001b[0m",
      "\u001b[1;31mTypeError\u001b[0m                                 Traceback (most recent call last)",
      "\u001b[1;32m<ipython-input-9-4c142c252807>\u001b[0m in \u001b[0;36m<module>\u001b[1;34m()\u001b[0m\n\u001b[1;32m----> 1\u001b[1;33m \u001b[0mg\u001b[0m\u001b[1;33m.\u001b[0m\u001b[0madd_edges\u001b[0m\u001b[1;33m(\u001b[0m\u001b[1;33m(\u001b[0m\u001b[1;36m5\u001b[0m\u001b[1;33m,\u001b[0m\u001b[1;36m0\u001b[0m\u001b[1;33m)\u001b[0m\u001b[1;33m)\u001b[0m \u001b[1;31m#一个错误的例子,体现了igraph的报错功能\u001b[0m\u001b[1;33m\u001b[0m\u001b[0m\n\u001b[0m",
      "\u001b[1;32mC:\\Users\\yxf\\Anaconda2\\lib\\site-packages\\igraph\\__init__.pyc\u001b[0m in \u001b[0;36madd_edges\u001b[1;34m(self, es)\u001b[0m\n\u001b[0;32m    253\u001b[0m           \u001b[0mendpoints\u001b[0m\u001b[1;33m.\u001b[0m \u001b[0mVertices\u001b[0m \u001b[0mare\u001b[0m \u001b[0menumerated\u001b[0m \u001b[1;32mfrom\u001b[0m \u001b[0mzero\u001b[0m\u001b[1;33m.\u001b[0m\u001b[1;33m\u001b[0m\u001b[0m\n\u001b[0;32m    254\u001b[0m         \"\"\"\n\u001b[1;32m--> 255\u001b[1;33m         \u001b[1;32mreturn\u001b[0m \u001b[0mGraphBase\u001b[0m\u001b[1;33m.\u001b[0m\u001b[0madd_edges\u001b[0m\u001b[1;33m(\u001b[0m\u001b[0mself\u001b[0m\u001b[1;33m,\u001b[0m \u001b[0mes\u001b[0m\u001b[1;33m)\u001b[0m\u001b[1;33m\u001b[0m\u001b[0m\n\u001b[0m\u001b[0;32m    256\u001b[0m \u001b[1;33m\u001b[0m\u001b[0m\n\u001b[0;32m    257\u001b[0m     \u001b[1;32mdef\u001b[0m \u001b[0madd_vertex\u001b[0m\u001b[1;33m(\u001b[0m\u001b[0mself\u001b[0m\u001b[1;33m,\u001b[0m \u001b[0mname\u001b[0m\u001b[1;33m=\u001b[0m\u001b[0mNone\u001b[0m\u001b[1;33m,\u001b[0m \u001b[1;33m**\u001b[0m\u001b[0mkwds\u001b[0m\u001b[1;33m)\u001b[0m\u001b[1;33m:\u001b[0m\u001b[1;33m\u001b[0m\u001b[0m\n",
      "\u001b[1;31mTypeError\u001b[0m: iterable must return pairs of integers or strings"
     ]
    }
   ],
   "source": [
    "g.add_edges((5,0)) #一个错误的例子,体现了igraph的报错功能"
   ]
  },
  {
   "cell_type": "code",
   "execution_count": 10,
   "metadata": {
    "collapsed": true
   },
   "outputs": [],
   "source": [
    "g.add_vertices(3)"
   ]
  },
  {
   "cell_type": "code",
   "execution_count": 11,
   "metadata": {
    "collapsed": true
   },
   "outputs": [],
   "source": [
    "g.add_edges([(0,2),(2,3),(3,4),(4,5),(5,3)])"
   ]
  },
  {
   "cell_type": "code",
   "execution_count": 12,
   "metadata": {},
   "outputs": [
    {
     "name": "stdout",
     "output_type": "stream",
     "text": [
      "IGRAPH U--- 6 7 --\n",
      "+ edges:\n",
      "0--1 1--2 0--2 2--3 3--4 4--5 3--5\n"
     ]
    }
   ],
   "source": [
    "print g"
   ]
  },
  {
   "cell_type": "code",
   "execution_count": 13,
   "metadata": {},
   "outputs": [
    {
     "data": {
      "text/plain": [
       "3"
      ]
     },
     "execution_count": 13,
     "metadata": {},
     "output_type": "execute_result"
    }
   ],
   "source": [
    "g.get_eid(2,3)#通过两个顶点ID确定边ID"
   ]
  },
  {
   "cell_type": "code",
   "execution_count": 14,
   "metadata": {
    "collapsed": true
   },
   "outputs": [],
   "source": [
    "g.delete_edges(3)"
   ]
  },
  {
   "cell_type": "code",
   "execution_count": 15,
   "metadata": {},
   "outputs": [
    {
     "name": "stdout",
     "output_type": "stream",
     "text": [
      "IGRAPH U--- 6 6 -- \n"
     ]
    }
   ],
   "source": [
    "summary(g)"
   ]
  },
  {
   "cell_type": "markdown",
   "metadata": {},
   "source": [
    "# 3.Generating graphs"
   ]
  },
  {
   "cell_type": "code",
   "execution_count": 16,
   "metadata": {
    "collapsed": true
   },
   "outputs": [],
   "source": [
    "g1=Graph.Tree(127,2) #127顶点和每个顶点有两个子节点"
   ]
  },
  {
   "cell_type": "code",
   "execution_count": 17,
   "metadata": {},
   "outputs": [
    {
     "data": {
      "image/svg+xml": [
       "<?xml version=\"1.0\" encoding=\"UTF-8\"?>\n",
       "<svg xmlns=\"http://www.w3.org/2000/svg\" xmlns:xlink=\"http://www.w3.org/1999/xlink\" width=\"600pt\" height=\"600pt\" viewBox=\"0 0 600 600\" version=\"1.1\">\n",
       "<g id=\"surface2\">\n",
       "<rect x=\"0\" y=\"0\" width=\"600\" height=\"600\" style=\"fill:rgb(100%,100%,100%);fill-opacity:1;stroke:none;\"/>\n",
       "<path style=\"fill:none;stroke-width:1;stroke-linecap:butt;stroke-linejoin:miter;stroke:rgb(26.666667%,26.666667%,26.666667%);stroke-opacity:1;stroke-miterlimit:10;\" d=\"M 286.421875 311.230469 L 253.53125 253.230469 \"/>\n",
       "<path style=\"fill:none;stroke-width:1;stroke-linecap:butt;stroke-linejoin:miter;stroke:rgb(26.666667%,26.666667%,26.666667%);stroke-opacity:1;stroke-miterlimit:10;\" d=\"M 286.421875 311.230469 L 334.292969 348.839844 \"/>\n",
       "<path style=\"fill:none;stroke-width:1;stroke-linecap:butt;stroke-linejoin:miter;stroke:rgb(26.666667%,26.666667%,26.666667%);stroke-opacity:1;stroke-miterlimit:10;\" d=\"M 253.53125 253.230469 L 290.753906 244.332031 \"/>\n",
       "<path style=\"fill:none;stroke-width:1;stroke-linecap:butt;stroke-linejoin:miter;stroke:rgb(26.666667%,26.666667%,26.666667%);stroke-opacity:1;stroke-miterlimit:10;\" d=\"M 253.53125 253.230469 L 204.714844 206.1875 \"/>\n",
       "<path style=\"fill:none;stroke-width:1;stroke-linecap:butt;stroke-linejoin:miter;stroke:rgb(26.666667%,26.666667%,26.666667%);stroke-opacity:1;stroke-miterlimit:10;\" d=\"M 334.292969 348.839844 L 416.417969 305.382813 \"/>\n",
       "<path style=\"fill:none;stroke-width:1;stroke-linecap:butt;stroke-linejoin:miter;stroke:rgb(26.666667%,26.666667%,26.666667%);stroke-opacity:1;stroke-miterlimit:10;\" d=\"M 334.292969 348.839844 L 278.769531 412.660156 \"/>\n",
       "<path style=\"fill:none;stroke-width:1;stroke-linecap:butt;stroke-linejoin:miter;stroke:rgb(26.666667%,26.666667%,26.666667%);stroke-opacity:1;stroke-miterlimit:10;\" d=\"M 290.753906 244.332031 L 351.144531 276.023438 \"/>\n",
       "<path style=\"fill:none;stroke-width:1;stroke-linecap:butt;stroke-linejoin:miter;stroke:rgb(26.666667%,26.666667%,26.666667%);stroke-opacity:1;stroke-miterlimit:10;\" d=\"M 290.753906 244.332031 L 233.460938 227.1875 \"/>\n",
       "<path style=\"fill:none;stroke-width:1;stroke-linecap:butt;stroke-linejoin:miter;stroke:rgb(26.666667%,26.666667%,26.666667%);stroke-opacity:1;stroke-miterlimit:10;\" d=\"M 204.714844 206.1875 L 168.324219 240.550781 \"/>\n",
       "<path style=\"fill:none;stroke-width:1;stroke-linecap:butt;stroke-linejoin:miter;stroke:rgb(26.666667%,26.666667%,26.666667%);stroke-opacity:1;stroke-miterlimit:10;\" d=\"M 204.714844 206.1875 L 195.097656 144.589844 \"/>\n",
       "<path style=\"fill:none;stroke-width:1;stroke-linecap:butt;stroke-linejoin:miter;stroke:rgb(26.666667%,26.666667%,26.666667%);stroke-opacity:1;stroke-miterlimit:10;\" d=\"M 416.417969 305.382813 L 454.285156 227.753906 \"/>\n",
       "<path style=\"fill:none;stroke-width:1;stroke-linecap:butt;stroke-linejoin:miter;stroke:rgb(26.666667%,26.666667%,26.666667%);stroke-opacity:1;stroke-miterlimit:10;\" d=\"M 416.417969 305.382813 L 470.613281 344.125 \"/>\n",
       "<path style=\"fill:none;stroke-width:1;stroke-linecap:butt;stroke-linejoin:miter;stroke:rgb(26.666667%,26.666667%,26.666667%);stroke-opacity:1;stroke-miterlimit:10;\" d=\"M 278.769531 412.660156 L 299.835938 470.5 \"/>\n",
       "<path style=\"fill:none;stroke-width:1;stroke-linecap:butt;stroke-linejoin:miter;stroke:rgb(26.666667%,26.666667%,26.666667%);stroke-opacity:1;stroke-miterlimit:10;\" d=\"M 278.769531 412.660156 L 202.679688 427.972656 \"/>\n",
       "<path style=\"fill:none;stroke-width:1;stroke-linecap:butt;stroke-linejoin:miter;stroke:rgb(26.666667%,26.666667%,26.666667%);stroke-opacity:1;stroke-miterlimit:10;\" d=\"M 351.144531 276.023438 L 377.511719 231.980469 \"/>\n",
       "<path style=\"fill:none;stroke-width:1;stroke-linecap:butt;stroke-linejoin:miter;stroke:rgb(26.666667%,26.666667%,26.666667%);stroke-opacity:1;stroke-miterlimit:10;\" d=\"M 351.144531 276.023438 L 376.496094 340.414063 \"/>\n",
       "<path style=\"fill:none;stroke-width:1;stroke-linecap:butt;stroke-linejoin:miter;stroke:rgb(26.666667%,26.666667%,26.666667%);stroke-opacity:1;stroke-miterlimit:10;\" d=\"M 233.460938 227.1875 L 167.714844 270.953125 \"/>\n",
       "<path style=\"fill:none;stroke-width:1;stroke-linecap:butt;stroke-linejoin:miter;stroke:rgb(26.666667%,26.666667%,26.666667%);stroke-opacity:1;stroke-miterlimit:10;\" d=\"M 233.460938 227.1875 L 266.269531 170.820313 \"/>\n",
       "<path style=\"fill:none;stroke-width:1;stroke-linecap:butt;stroke-linejoin:miter;stroke:rgb(26.666667%,26.666667%,26.666667%);stroke-opacity:1;stroke-miterlimit:10;\" d=\"M 168.324219 240.550781 L 106.671875 235.21875 \"/>\n",
       "<path style=\"fill:none;stroke-width:1;stroke-linecap:butt;stroke-linejoin:miter;stroke:rgb(26.666667%,26.666667%,26.666667%);stroke-opacity:1;stroke-miterlimit:10;\" d=\"M 168.324219 240.550781 L 208.628906 289.914063 \"/>\n",
       "<path style=\"fill:none;stroke-width:1;stroke-linecap:butt;stroke-linejoin:miter;stroke:rgb(26.666667%,26.666667%,26.666667%);stroke-opacity:1;stroke-miterlimit:10;\" d=\"M 195.097656 144.589844 L 222.328125 89.597656 \"/>\n",
       "<path style=\"fill:none;stroke-width:1;stroke-linecap:butt;stroke-linejoin:miter;stroke:rgb(26.666667%,26.666667%,26.666667%);stroke-opacity:1;stroke-miterlimit:10;\" d=\"M 195.097656 144.589844 L 150.722656 134.171875 \"/>\n",
       "<path style=\"fill:none;stroke-width:1;stroke-linecap:butt;stroke-linejoin:miter;stroke:rgb(26.666667%,26.666667%,26.666667%);stroke-opacity:1;stroke-miterlimit:10;\" d=\"M 454.285156 227.753906 L 449.570313 153.226563 \"/>\n",
       "<path style=\"fill:none;stroke-width:1;stroke-linecap:butt;stroke-linejoin:miter;stroke:rgb(26.666667%,26.666667%,26.666667%);stroke-opacity:1;stroke-miterlimit:10;\" d=\"M 454.285156 227.753906 L 498.457031 205.015625 \"/>\n",
       "<path style=\"fill:none;stroke-width:1;stroke-linecap:butt;stroke-linejoin:miter;stroke:rgb(26.666667%,26.666667%,26.666667%);stroke-opacity:1;stroke-miterlimit:10;\" d=\"M 470.613281 344.125 L 489.402344 402.117188 \"/>\n",
       "<path style=\"fill:none;stroke-width:1;stroke-linecap:butt;stroke-linejoin:miter;stroke:rgb(26.666667%,26.666667%,26.666667%);stroke-opacity:1;stroke-miterlimit:10;\" d=\"M 470.613281 344.125 L 514.75 330.855469 \"/>\n",
       "<path style=\"fill:none;stroke-width:1;stroke-linecap:butt;stroke-linejoin:miter;stroke:rgb(26.666667%,26.666667%,26.666667%);stroke-opacity:1;stroke-miterlimit:10;\" d=\"M 299.835938 470.5 L 345.277344 501.136719 \"/>\n",
       "<path style=\"fill:none;stroke-width:1;stroke-linecap:butt;stroke-linejoin:miter;stroke:rgb(26.666667%,26.666667%,26.666667%);stroke-opacity:1;stroke-miterlimit:10;\" d=\"M 299.835938 470.5 L 276.8125 512.085938 \"/>\n",
       "<path style=\"fill:none;stroke-width:1;stroke-linecap:butt;stroke-linejoin:miter;stroke:rgb(26.666667%,26.666667%,26.666667%);stroke-opacity:1;stroke-miterlimit:10;\" d=\"M 202.679688 427.972656 L 173.464844 462.964844 \"/>\n",
       "<path style=\"fill:none;stroke-width:1;stroke-linecap:butt;stroke-linejoin:miter;stroke:rgb(26.666667%,26.666667%,26.666667%);stroke-opacity:1;stroke-miterlimit:10;\" d=\"M 202.679688 427.972656 L 133.800781 420.148438 \"/>\n",
       "<path style=\"fill:none;stroke-width:1;stroke-linecap:butt;stroke-linejoin:miter;stroke:rgb(26.666667%,26.666667%,26.666667%);stroke-opacity:1;stroke-miterlimit:10;\" d=\"M 377.511719 231.980469 L 379.609375 184.007813 \"/>\n",
       "<path style=\"fill:none;stroke-width:1;stroke-linecap:butt;stroke-linejoin:miter;stroke:rgb(26.666667%,26.666667%,26.666667%);stroke-opacity:1;stroke-miterlimit:10;\" d=\"M 377.511719 231.980469 L 416.996094 237.3125 \"/>\n",
       "<path style=\"fill:none;stroke-width:1;stroke-linecap:butt;stroke-linejoin:miter;stroke:rgb(26.666667%,26.666667%,26.666667%);stroke-opacity:1;stroke-miterlimit:10;\" d=\"M 376.496094 340.414063 L 366.457031 392.960938 \"/>\n",
       "<path style=\"fill:none;stroke-width:1;stroke-linecap:butt;stroke-linejoin:miter;stroke:rgb(26.666667%,26.666667%,26.666667%);stroke-opacity:1;stroke-miterlimit:10;\" d=\"M 376.496094 340.414063 L 411.527344 373.589844 \"/>\n",
       "<path style=\"fill:none;stroke-width:1;stroke-linecap:butt;stroke-linejoin:miter;stroke:rgb(26.666667%,26.666667%,26.666667%);stroke-opacity:1;stroke-miterlimit:10;\" d=\"M 167.714844 270.953125 L 141.734375 315.632813 \"/>\n",
       "<path style=\"fill:none;stroke-width:1;stroke-linecap:butt;stroke-linejoin:miter;stroke:rgb(26.666667%,26.666667%,26.666667%);stroke-opacity:1;stroke-miterlimit:10;\" d=\"M 167.714844 270.953125 L 111.570313 287.03125 \"/>\n",
       "<path style=\"fill:none;stroke-width:1;stroke-linecap:butt;stroke-linejoin:miter;stroke:rgb(26.666667%,26.666667%,26.666667%);stroke-opacity:1;stroke-miterlimit:10;\" d=\"M 266.269531 170.820313 L 269.648438 141.277344 \"/>\n",
       "<path style=\"fill:none;stroke-width:1;stroke-linecap:butt;stroke-linejoin:miter;stroke:rgb(26.666667%,26.666667%,26.666667%);stroke-opacity:1;stroke-miterlimit:10;\" d=\"M 266.269531 170.820313 L 304.09375 118.433594 \"/>\n",
       "<path style=\"fill:none;stroke-width:1;stroke-linecap:butt;stroke-linejoin:miter;stroke:rgb(26.666667%,26.666667%,26.666667%);stroke-opacity:1;stroke-miterlimit:10;\" d=\"M 106.671875 235.21875 L 53.875 251.1875 \"/>\n",
       "<path style=\"fill:none;stroke-width:1;stroke-linecap:butt;stroke-linejoin:miter;stroke:rgb(26.666667%,26.666667%,26.666667%);stroke-opacity:1;stroke-miterlimit:10;\" d=\"M 106.671875 235.21875 L 77.183594 209.707031 \"/>\n",
       "<path style=\"fill:none;stroke-width:1;stroke-linecap:butt;stroke-linejoin:miter;stroke:rgb(26.666667%,26.666667%,26.666667%);stroke-opacity:1;stroke-miterlimit:10;\" d=\"M 208.628906 289.914063 L 211.496094 340.5625 \"/>\n",
       "<path style=\"fill:none;stroke-width:1;stroke-linecap:butt;stroke-linejoin:miter;stroke:rgb(26.666667%,26.666667%,26.666667%);stroke-opacity:1;stroke-miterlimit:10;\" d=\"M 208.628906 289.914063 L 261.992188 296.214844 \"/>\n",
       "<path style=\"fill:none;stroke-width:1;stroke-linecap:butt;stroke-linejoin:miter;stroke:rgb(26.666667%,26.666667%,26.666667%);stroke-opacity:1;stroke-miterlimit:10;\" d=\"M 222.328125 89.597656 L 213.214844 53.859375 \"/>\n",
       "<path style=\"fill:none;stroke-width:1;stroke-linecap:butt;stroke-linejoin:miter;stroke:rgb(26.666667%,26.666667%,26.666667%);stroke-opacity:1;stroke-miterlimit:10;\" d=\"M 222.328125 89.597656 L 265.230469 52.511719 \"/>\n",
       "<path style=\"fill:none;stroke-width:1;stroke-linecap:butt;stroke-linejoin:miter;stroke:rgb(26.666667%,26.666667%,26.666667%);stroke-opacity:1;stroke-miterlimit:10;\" d=\"M 150.722656 134.171875 L 107.640625 136.574219 \"/>\n",
       "<path style=\"fill:none;stroke-width:1;stroke-linecap:butt;stroke-linejoin:miter;stroke:rgb(26.666667%,26.666667%,26.666667%);stroke-opacity:1;stroke-miterlimit:10;\" d=\"M 150.722656 134.171875 L 141.898438 100.070313 \"/>\n",
       "<path style=\"fill:none;stroke-width:1;stroke-linecap:butt;stroke-linejoin:miter;stroke:rgb(26.666667%,26.666667%,26.666667%);stroke-opacity:1;stroke-miterlimit:10;\" d=\"M 449.570313 153.226563 L 466.359375 111.75 \"/>\n",
       "<path style=\"fill:none;stroke-width:1;stroke-linecap:butt;stroke-linejoin:miter;stroke:rgb(26.666667%,26.666667%,26.666667%);stroke-opacity:1;stroke-miterlimit:10;\" d=\"M 449.570313 153.226563 L 423.449219 98.539063 \"/>\n",
       "<path style=\"fill:none;stroke-width:1;stroke-linecap:butt;stroke-linejoin:miter;stroke:rgb(26.666667%,26.666667%,26.666667%);stroke-opacity:1;stroke-miterlimit:10;\" d=\"M 498.457031 205.015625 L 534.417969 218.125 \"/>\n",
       "<path style=\"fill:none;stroke-width:1;stroke-linecap:butt;stroke-linejoin:miter;stroke:rgb(26.666667%,26.666667%,26.666667%);stroke-opacity:1;stroke-miterlimit:10;\" d=\"M 498.457031 205.015625 L 519.996094 170.066406 \"/>\n",
       "<path style=\"fill:none;stroke-width:1;stroke-linecap:butt;stroke-linejoin:miter;stroke:rgb(26.666667%,26.666667%,26.666667%);stroke-opacity:1;stroke-miterlimit:10;\" d=\"M 489.402344 402.117188 L 520.585938 429.015625 \"/>\n",
       "<path style=\"fill:none;stroke-width:1;stroke-linecap:butt;stroke-linejoin:miter;stroke:rgb(26.666667%,26.666667%,26.666667%);stroke-opacity:1;stroke-miterlimit:10;\" d=\"M 489.402344 402.117188 L 482.335938 451.335938 \"/>\n",
       "<path style=\"fill:none;stroke-width:1;stroke-linecap:butt;stroke-linejoin:miter;stroke:rgb(26.666667%,26.666667%,26.666667%);stroke-opacity:1;stroke-miterlimit:10;\" d=\"M 514.75 330.855469 L 546.648438 304.675781 \"/>\n",
       "<path style=\"fill:none;stroke-width:1;stroke-linecap:butt;stroke-linejoin:miter;stroke:rgb(26.666667%,26.666667%,26.666667%);stroke-opacity:1;stroke-miterlimit:10;\" d=\"M 514.75 330.855469 L 544.984375 352.902344 \"/>\n",
       "<path style=\"fill:none;stroke-width:1;stroke-linecap:butt;stroke-linejoin:miter;stroke:rgb(26.666667%,26.666667%,26.666667%);stroke-opacity:1;stroke-miterlimit:10;\" d=\"M 345.277344 501.136719 L 361.410156 540.058594 \"/>\n",
       "<path style=\"fill:none;stroke-width:1;stroke-linecap:butt;stroke-linejoin:miter;stroke:rgb(26.666667%,26.666667%,26.666667%);stroke-opacity:1;stroke-miterlimit:10;\" d=\"M 345.277344 501.136719 L 390.1875 509.515625 \"/>\n",
       "<path style=\"fill:none;stroke-width:1;stroke-linecap:butt;stroke-linejoin:miter;stroke:rgb(26.666667%,26.666667%,26.666667%);stroke-opacity:1;stroke-miterlimit:10;\" d=\"M 276.8125 512.085938 L 242.332031 540.289063 \"/>\n",
       "<path style=\"fill:none;stroke-width:1;stroke-linecap:butt;stroke-linejoin:miter;stroke:rgb(26.666667%,26.666667%,26.666667%);stroke-opacity:1;stroke-miterlimit:10;\" d=\"M 276.8125 512.085938 L 288.679688 547.488281 \"/>\n",
       "<path style=\"fill:none;stroke-width:1;stroke-linecap:butt;stroke-linejoin:miter;stroke:rgb(26.666667%,26.666667%,26.666667%);stroke-opacity:1;stroke-miterlimit:10;\" d=\"M 173.464844 462.964844 L 138.921875 490.242188 \"/>\n",
       "<path style=\"fill:none;stroke-width:1;stroke-linecap:butt;stroke-linejoin:miter;stroke:rgb(26.666667%,26.666667%,26.666667%);stroke-opacity:1;stroke-miterlimit:10;\" d=\"M 173.464844 462.964844 L 190.929688 491.597656 \"/>\n",
       "<path style=\"fill:none;stroke-width:1;stroke-linecap:butt;stroke-linejoin:miter;stroke:rgb(26.666667%,26.666667%,26.666667%);stroke-opacity:1;stroke-miterlimit:10;\" d=\"M 133.800781 420.148438 L 93.398438 438.121094 \"/>\n",
       "<path style=\"fill:none;stroke-width:1;stroke-linecap:butt;stroke-linejoin:miter;stroke:rgb(26.666667%,26.666667%,26.666667%);stroke-opacity:1;stroke-miterlimit:10;\" d=\"M 133.800781 420.148438 L 81.953125 397.121094 \"/>\n",
       "<path style=\"fill:none;stroke-width:1;stroke-linecap:butt;stroke-linejoin:miter;stroke:rgb(26.666667%,26.666667%,26.666667%);stroke-opacity:1;stroke-miterlimit:10;\" d=\"M 379.609375 184.007813 L 367.050781 151.898438 \"/>\n",
       "<path style=\"fill:none;stroke-width:1;stroke-linecap:butt;stroke-linejoin:miter;stroke:rgb(26.666667%,26.666667%,26.666667%);stroke-opacity:1;stroke-miterlimit:10;\" d=\"M 379.609375 184.007813 L 399.554688 153.328125 \"/>\n",
       "<path style=\"fill:none;stroke-width:1;stroke-linecap:butt;stroke-linejoin:miter;stroke:rgb(26.666667%,26.666667%,26.666667%);stroke-opacity:1;stroke-miterlimit:10;\" d=\"M 416.996094 237.3125 L 445.265625 263.085938 \"/>\n",
       "<path style=\"fill:none;stroke-width:1;stroke-linecap:butt;stroke-linejoin:miter;stroke:rgb(26.666667%,26.666667%,26.666667%);stroke-opacity:1;stroke-miterlimit:10;\" d=\"M 416.996094 237.3125 L 430.519531 205.5625 \"/>\n",
       "<path style=\"fill:none;stroke-width:1;stroke-linecap:butt;stroke-linejoin:miter;stroke:rgb(26.666667%,26.666667%,26.666667%);stroke-opacity:1;stroke-miterlimit:10;\" d=\"M 366.457031 392.960938 L 342.140625 420 \"/>\n",
       "<path style=\"fill:none;stroke-width:1;stroke-linecap:butt;stroke-linejoin:miter;stroke:rgb(26.666667%,26.666667%,26.666667%);stroke-opacity:1;stroke-miterlimit:10;\" d=\"M 366.457031 392.960938 L 376.808594 430.457031 \"/>\n",
       "<path style=\"fill:none;stroke-width:1;stroke-linecap:butt;stroke-linejoin:miter;stroke:rgb(26.666667%,26.666667%,26.666667%);stroke-opacity:1;stroke-miterlimit:10;\" d=\"M 411.527344 373.589844 L 422.410156 410.648438 \"/>\n",
       "<path style=\"fill:none;stroke-width:1;stroke-linecap:butt;stroke-linejoin:miter;stroke:rgb(26.666667%,26.666667%,26.666667%);stroke-opacity:1;stroke-miterlimit:10;\" d=\"M 411.527344 373.589844 L 443.84375 381.46875 \"/>\n",
       "<path style=\"fill:none;stroke-width:1;stroke-linecap:butt;stroke-linejoin:miter;stroke:rgb(26.666667%,26.666667%,26.666667%);stroke-opacity:1;stroke-miterlimit:10;\" d=\"M 141.734375 315.632813 L 109.25 337.511719 \"/>\n",
       "<path style=\"fill:none;stroke-width:1;stroke-linecap:butt;stroke-linejoin:miter;stroke:rgb(26.666667%,26.666667%,26.666667%);stroke-opacity:1;stroke-miterlimit:10;\" d=\"M 141.734375 315.632813 L 138.796875 351.800781 \"/>\n",
       "<path style=\"fill:none;stroke-width:1;stroke-linecap:butt;stroke-linejoin:miter;stroke:rgb(26.666667%,26.666667%,26.666667%);stroke-opacity:1;stroke-miterlimit:10;\" d=\"M 111.570313 287.03125 L 73.773438 313.109375 \"/>\n",
       "<path style=\"fill:none;stroke-width:1;stroke-linecap:butt;stroke-linejoin:miter;stroke:rgb(26.666667%,26.666667%,26.666667%);stroke-opacity:1;stroke-miterlimit:10;\" d=\"M 111.570313 287.03125 L 76.621094 285.140625 \"/>\n",
       "<path style=\"fill:none;stroke-width:1;stroke-linecap:butt;stroke-linejoin:miter;stroke:rgb(26.666667%,26.666667%,26.666667%);stroke-opacity:1;stroke-miterlimit:10;\" d=\"M 269.648438 141.277344 L 254.765625 113.503906 \"/>\n",
       "<path style=\"fill:none;stroke-width:1;stroke-linecap:butt;stroke-linejoin:miter;stroke:rgb(26.666667%,26.666667%,26.666667%);stroke-opacity:1;stroke-miterlimit:10;\" d=\"M 269.648438 141.277344 L 301.84375 151.714844 \"/>\n",
       "<path style=\"fill:none;stroke-width:1;stroke-linecap:butt;stroke-linejoin:miter;stroke:rgb(26.666667%,26.666667%,26.666667%);stroke-opacity:1;stroke-miterlimit:10;\" d=\"M 304.09375 118.433594 L 338.539063 96.417969 \"/>\n",
       "<path style=\"fill:none;stroke-width:1;stroke-linecap:butt;stroke-linejoin:miter;stroke:rgb(26.666667%,26.666667%,26.666667%);stroke-opacity:1;stroke-miterlimit:10;\" d=\"M 304.09375 118.433594 L 316.164063 79.421875 \"/>\n",
       "<path style=\"fill:none;stroke-width:1;stroke-linecap:butt;stroke-linejoin:miter;stroke:rgb(26.666667%,26.666667%,26.666667%);stroke-opacity:1;stroke-miterlimit:10;\" d=\"M 53.875 251.1875 L 24.675781 279.539063 \"/>\n",
       "<path style=\"fill:none;stroke-width:1;stroke-linecap:butt;stroke-linejoin:miter;stroke:rgb(26.666667%,26.666667%,26.666667%);stroke-opacity:1;stroke-miterlimit:10;\" d=\"M 53.875 251.1875 L 20 245.070313 \"/>\n",
       "<path style=\"fill:none;stroke-width:1;stroke-linecap:butt;stroke-linejoin:miter;stroke:rgb(26.666667%,26.666667%,26.666667%);stroke-opacity:1;stroke-miterlimit:10;\" d=\"M 77.183594 209.707031 L 43.816406 197.148438 \"/>\n",
       "<path style=\"fill:none;stroke-width:1;stroke-linecap:butt;stroke-linejoin:miter;stroke:rgb(26.666667%,26.666667%,26.666667%);stroke-opacity:1;stroke-miterlimit:10;\" d=\"M 77.183594 209.707031 L 95.808594 188.515625 \"/>\n",
       "<path style=\"fill:none;stroke-width:1;stroke-linecap:butt;stroke-linejoin:miter;stroke:rgb(26.666667%,26.666667%,26.666667%);stroke-opacity:1;stroke-miterlimit:10;\" d=\"M 211.496094 340.5625 L 191.320313 370.433594 \"/>\n",
       "<path style=\"fill:none;stroke-width:1;stroke-linecap:butt;stroke-linejoin:miter;stroke:rgb(26.666667%,26.666667%,26.666667%);stroke-opacity:1;stroke-miterlimit:10;\" d=\"M 211.496094 340.5625 L 229.011719 373.527344 \"/>\n",
       "<path style=\"fill:none;stroke-width:1;stroke-linecap:butt;stroke-linejoin:miter;stroke:rgb(26.666667%,26.666667%,26.666667%);stroke-opacity:1;stroke-miterlimit:10;\" d=\"M 261.992188 296.214844 L 300.878906 276.914063 \"/>\n",
       "<path style=\"fill:none;stroke-width:1;stroke-linecap:butt;stroke-linejoin:miter;stroke:rgb(26.666667%,26.666667%,26.666667%);stroke-opacity:1;stroke-miterlimit:10;\" d=\"M 261.992188 296.214844 L 304.796875 314.679688 \"/>\n",
       "<path style=\"fill:none;stroke-width:1;stroke-linecap:butt;stroke-linejoin:miter;stroke:rgb(26.666667%,26.666667%,26.666667%);stroke-opacity:1;stroke-miterlimit:10;\" d=\"M 213.214844 53.859375 L 227.367188 24.671875 \"/>\n",
       "<path style=\"fill:none;stroke-width:1;stroke-linecap:butt;stroke-linejoin:miter;stroke:rgb(26.666667%,26.666667%,26.666667%);stroke-opacity:1;stroke-miterlimit:10;\" d=\"M 213.214844 53.859375 L 188.351563 36.96875 \"/>\n",
       "<path style=\"fill:none;stroke-width:1;stroke-linecap:butt;stroke-linejoin:miter;stroke:rgb(26.666667%,26.666667%,26.666667%);stroke-opacity:1;stroke-miterlimit:10;\" d=\"M 265.230469 52.511719 L 304.058594 34.925781 \"/>\n",
       "<path style=\"fill:none;stroke-width:1;stroke-linecap:butt;stroke-linejoin:miter;stroke:rgb(26.666667%,26.666667%,26.666667%);stroke-opacity:1;stroke-miterlimit:10;\" d=\"M 265.230469 52.511719 L 278.746094 20 \"/>\n",
       "<path style=\"fill:none;stroke-width:1;stroke-linecap:butt;stroke-linejoin:miter;stroke:rgb(26.666667%,26.666667%,26.666667%);stroke-opacity:1;stroke-miterlimit:10;\" d=\"M 107.640625 136.574219 L 81.734375 116.964844 \"/>\n",
       "<path style=\"fill:none;stroke-width:1;stroke-linecap:butt;stroke-linejoin:miter;stroke:rgb(26.666667%,26.666667%,26.666667%);stroke-opacity:1;stroke-miterlimit:10;\" d=\"M 107.640625 136.574219 L 73.984375 147.757813 \"/>\n",
       "<path style=\"fill:none;stroke-width:1;stroke-linecap:butt;stroke-linejoin:miter;stroke:rgb(26.666667%,26.666667%,26.666667%);stroke-opacity:1;stroke-miterlimit:10;\" d=\"M 141.898438 100.070313 L 154.457031 72.96875 \"/>\n",
       "<path style=\"fill:none;stroke-width:1;stroke-linecap:butt;stroke-linejoin:miter;stroke:rgb(26.666667%,26.666667%,26.666667%);stroke-opacity:1;stroke-miterlimit:10;\" d=\"M 141.898438 100.070313 L 117.492188 80.148438 \"/>\n",
       "<path style=\"fill:none;stroke-width:1;stroke-linecap:butt;stroke-linejoin:miter;stroke:rgb(26.666667%,26.666667%,26.666667%);stroke-opacity:1;stroke-miterlimit:10;\" d=\"M 466.359375 111.75 L 493.230469 94.9375 \"/>\n",
       "<path style=\"fill:none;stroke-width:1;stroke-linecap:butt;stroke-linejoin:miter;stroke:rgb(26.666667%,26.666667%,26.666667%);stroke-opacity:1;stroke-miterlimit:10;\" d=\"M 466.359375 111.75 L 463.511719 75.894531 \"/>\n",
       "<path style=\"fill:none;stroke-width:1;stroke-linecap:butt;stroke-linejoin:miter;stroke:rgb(26.666667%,26.666667%,26.666667%);stroke-opacity:1;stroke-miterlimit:10;\" d=\"M 423.449219 98.539063 L 421.398438 58.214844 \"/>\n",
       "<path style=\"fill:none;stroke-width:1;stroke-linecap:butt;stroke-linejoin:miter;stroke:rgb(26.666667%,26.666667%,26.666667%);stroke-opacity:1;stroke-miterlimit:10;\" d=\"M 423.449219 98.539063 L 395.640625 69.402344 \"/>\n",
       "<path style=\"fill:none;stroke-width:1;stroke-linecap:butt;stroke-linejoin:miter;stroke:rgb(26.666667%,26.666667%,26.666667%);stroke-opacity:1;stroke-miterlimit:10;\" d=\"M 534.417969 218.125 L 532.3125 246.527344 \"/>\n",
       "<path style=\"fill:none;stroke-width:1;stroke-linecap:butt;stroke-linejoin:miter;stroke:rgb(26.666667%,26.666667%,26.666667%);stroke-opacity:1;stroke-miterlimit:10;\" d=\"M 534.417969 218.125 L 567.808594 216.632813 \"/>\n",
       "<path style=\"fill:none;stroke-width:1;stroke-linecap:butt;stroke-linejoin:miter;stroke:rgb(26.666667%,26.666667%,26.666667%);stroke-opacity:1;stroke-miterlimit:10;\" d=\"M 519.996094 170.066406 L 522.191406 137.875 \"/>\n",
       "<path style=\"fill:none;stroke-width:1;stroke-linecap:butt;stroke-linejoin:miter;stroke:rgb(26.666667%,26.666667%,26.666667%);stroke-opacity:1;stroke-miterlimit:10;\" d=\"M 519.996094 170.066406 L 550.925781 162.832031 \"/>\n",
       "<path style=\"fill:none;stroke-width:1;stroke-linecap:butt;stroke-linejoin:miter;stroke:rgb(26.666667%,26.666667%,26.666667%);stroke-opacity:1;stroke-miterlimit:10;\" d=\"M 520.585938 429.015625 L 530.261719 461.925781 \"/>\n",
       "<path style=\"fill:none;stroke-width:1;stroke-linecap:butt;stroke-linejoin:miter;stroke:rgb(26.666667%,26.666667%,26.666667%);stroke-opacity:1;stroke-miterlimit:10;\" d=\"M 520.585938 429.015625 L 551.796875 430.777344 \"/>\n",
       "<path style=\"fill:none;stroke-width:1;stroke-linecap:butt;stroke-linejoin:miter;stroke:rgb(26.666667%,26.666667%,26.666667%);stroke-opacity:1;stroke-miterlimit:10;\" d=\"M 482.335938 451.335938 L 463.5 477.679688 \"/>\n",
       "<path style=\"fill:none;stroke-width:1;stroke-linecap:butt;stroke-linejoin:miter;stroke:rgb(26.666667%,26.666667%,26.666667%);stroke-opacity:1;stroke-miterlimit:10;\" d=\"M 482.335938 451.335938 L 492.847656 489.039063 \"/>\n",
       "<path style=\"fill:none;stroke-width:1;stroke-linecap:butt;stroke-linejoin:miter;stroke:rgb(26.666667%,26.666667%,26.666667%);stroke-opacity:1;stroke-miterlimit:10;\" d=\"M 546.648438 304.675781 L 580 306.015625 \"/>\n",
       "<path style=\"fill:none;stroke-width:1;stroke-linecap:butt;stroke-linejoin:miter;stroke:rgb(26.666667%,26.666667%,26.666667%);stroke-opacity:1;stroke-miterlimit:10;\" d=\"M 546.648438 304.675781 L 565.359375 277.4375 \"/>\n",
       "<path style=\"fill:none;stroke-width:1;stroke-linecap:butt;stroke-linejoin:miter;stroke:rgb(26.666667%,26.666667%,26.666667%);stroke-opacity:1;stroke-miterlimit:10;\" d=\"M 544.984375 352.902344 L 577.828125 354.894531 \"/>\n",
       "<path style=\"fill:none;stroke-width:1;stroke-linecap:butt;stroke-linejoin:miter;stroke:rgb(26.666667%,26.666667%,26.666667%);stroke-opacity:1;stroke-miterlimit:10;\" d=\"M 544.984375 352.902344 L 553.386719 381.417969 \"/>\n",
       "<path style=\"fill:none;stroke-width:1;stroke-linecap:butt;stroke-linejoin:miter;stroke:rgb(26.666667%,26.666667%,26.666667%);stroke-opacity:1;stroke-miterlimit:10;\" d=\"M 361.410156 540.058594 L 390.460938 560.601563 \"/>\n",
       "<path style=\"fill:none;stroke-width:1;stroke-linecap:butt;stroke-linejoin:miter;stroke:rgb(26.666667%,26.666667%,26.666667%);stroke-opacity:1;stroke-miterlimit:10;\" d=\"M 361.410156 540.058594 L 358.277344 572.085938 \"/>\n",
       "<path style=\"fill:none;stroke-width:1;stroke-linecap:butt;stroke-linejoin:miter;stroke:rgb(26.666667%,26.666667%,26.666667%);stroke-opacity:1;stroke-miterlimit:10;\" d=\"M 390.1875 509.515625 L 422.214844 532.472656 \"/>\n",
       "<path style=\"fill:none;stroke-width:1;stroke-linecap:butt;stroke-linejoin:miter;stroke:rgb(26.666667%,26.666667%,26.666667%);stroke-opacity:1;stroke-miterlimit:10;\" d=\"M 390.1875 509.515625 L 418.816406 499.625 \"/>\n",
       "<path style=\"fill:none;stroke-width:1;stroke-linecap:butt;stroke-linejoin:miter;stroke:rgb(26.666667%,26.666667%,26.666667%);stroke-opacity:1;stroke-miterlimit:10;\" d=\"M 242.332031 540.289063 L 234.683594 572.675781 \"/>\n",
       "<path style=\"fill:none;stroke-width:1;stroke-linecap:butt;stroke-linejoin:miter;stroke:rgb(26.666667%,26.666667%,26.666667%);stroke-opacity:1;stroke-miterlimit:10;\" d=\"M 242.332031 540.289063 L 209.421875 553.722656 \"/>\n",
       "<path style=\"fill:none;stroke-width:1;stroke-linecap:butt;stroke-linejoin:miter;stroke:rgb(26.666667%,26.666667%,26.666667%);stroke-opacity:1;stroke-miterlimit:10;\" d=\"M 288.679688 547.488281 L 282.644531 580 \"/>\n",
       "<path style=\"fill:none;stroke-width:1;stroke-linecap:butt;stroke-linejoin:miter;stroke:rgb(26.666667%,26.666667%,26.666667%);stroke-opacity:1;stroke-miterlimit:10;\" d=\"M 288.679688 547.488281 L 313.554688 564.988281 \"/>\n",
       "<path style=\"fill:none;stroke-width:1;stroke-linecap:butt;stroke-linejoin:miter;stroke:rgb(26.666667%,26.666667%,26.666667%);stroke-opacity:1;stroke-miterlimit:10;\" d=\"M 138.921875 490.242188 L 107.65625 499.324219 \"/>\n",
       "<path style=\"fill:none;stroke-width:1;stroke-linecap:butt;stroke-linejoin:miter;stroke:rgb(26.666667%,26.666667%,26.666667%);stroke-opacity:1;stroke-miterlimit:10;\" d=\"M 138.921875 490.242188 L 132.464844 524.238281 \"/>\n",
       "<path style=\"fill:none;stroke-width:1;stroke-linecap:butt;stroke-linejoin:miter;stroke:rgb(26.666667%,26.666667%,26.666667%);stroke-opacity:1;stroke-miterlimit:10;\" d=\"M 190.929688 491.597656 L 221.558594 483.902344 \"/>\n",
       "<path style=\"fill:none;stroke-width:1;stroke-linecap:butt;stroke-linejoin:miter;stroke:rgb(26.666667%,26.666667%,26.666667%);stroke-opacity:1;stroke-miterlimit:10;\" d=\"M 190.929688 491.597656 L 179.203125 522.566406 \"/>\n",
       "<path style=\"fill:none;stroke-width:1;stroke-linecap:butt;stroke-linejoin:miter;stroke:rgb(26.666667%,26.666667%,26.666667%);stroke-opacity:1;stroke-miterlimit:10;\" d=\"M 93.398438 438.121094 L 57.621094 437.875 \"/>\n",
       "<path style=\"fill:none;stroke-width:1;stroke-linecap:butt;stroke-linejoin:miter;stroke:rgb(26.666667%,26.666667%,26.666667%);stroke-opacity:1;stroke-miterlimit:10;\" d=\"M 93.398438 438.121094 L 75.917969 465.421875 \"/>\n",
       "<path style=\"fill:none;stroke-width:1;stroke-linecap:butt;stroke-linejoin:miter;stroke:rgb(26.666667%,26.666667%,26.666667%);stroke-opacity:1;stroke-miterlimit:10;\" d=\"M 81.953125 397.121094 L 42.71875 397.640625 \"/>\n",
       "<path style=\"fill:none;stroke-width:1;stroke-linecap:butt;stroke-linejoin:miter;stroke:rgb(26.666667%,26.666667%,26.666667%);stroke-opacity:1;stroke-miterlimit:10;\" d=\"M 81.953125 397.121094 L 52.105469 371.371094 \"/>\n",
       "<path style=\"fill-rule:nonzero;fill:rgb(100%,0%,0%);fill-opacity:1;stroke-width:1;stroke-linecap:butt;stroke-linejoin:miter;stroke:rgb(0%,0%,0%);stroke-opacity:1;stroke-miterlimit:10;\" d=\"M 296.421875 311.230469 C 296.421875 316.753906 291.945313 321.230469 286.421875 321.230469 C 280.898438 321.230469 276.421875 316.753906 276.421875 311.230469 C 276.421875 305.707031 280.898438 301.230469 286.421875 301.230469 C 291.945313 301.230469 296.421875 305.707031 296.421875 311.230469 \"/>\n",
       "<path style=\"fill-rule:nonzero;fill:rgb(100%,0%,0%);fill-opacity:1;stroke-width:1;stroke-linecap:butt;stroke-linejoin:miter;stroke:rgb(0%,0%,0%);stroke-opacity:1;stroke-miterlimit:10;\" d=\"M 263.53125 253.230469 C 263.53125 258.753906 259.054688 263.230469 253.53125 263.230469 C 248.007813 263.230469 243.53125 258.753906 243.53125 253.230469 C 243.53125 247.710938 248.007813 243.230469 253.53125 243.230469 C 259.054688 243.230469 263.53125 247.710938 263.53125 253.230469 \"/>\n",
       "<path style=\"fill-rule:nonzero;fill:rgb(100%,0%,0%);fill-opacity:1;stroke-width:1;stroke-linecap:butt;stroke-linejoin:miter;stroke:rgb(0%,0%,0%);stroke-opacity:1;stroke-miterlimit:10;\" d=\"M 344.292969 348.839844 C 344.292969 354.363281 339.816406 358.839844 334.292969 358.839844 C 328.769531 358.839844 324.292969 354.363281 324.292969 348.839844 C 324.292969 343.316406 328.769531 338.839844 334.292969 338.839844 C 339.816406 338.839844 344.292969 343.316406 344.292969 348.839844 \"/>\n",
       "<path style=\"fill-rule:nonzero;fill:rgb(100%,0%,0%);fill-opacity:1;stroke-width:1;stroke-linecap:butt;stroke-linejoin:miter;stroke:rgb(0%,0%,0%);stroke-opacity:1;stroke-miterlimit:10;\" d=\"M 300.753906 244.332031 C 300.753906 249.851563 296.277344 254.332031 290.753906 254.332031 C 285.230469 254.332031 280.753906 249.851563 280.753906 244.332031 C 280.753906 238.808594 285.230469 234.332031 290.753906 234.332031 C 296.277344 234.332031 300.753906 238.808594 300.753906 244.332031 \"/>\n",
       "<path style=\"fill-rule:nonzero;fill:rgb(100%,0%,0%);fill-opacity:1;stroke-width:1;stroke-linecap:butt;stroke-linejoin:miter;stroke:rgb(0%,0%,0%);stroke-opacity:1;stroke-miterlimit:10;\" d=\"M 214.714844 206.1875 C 214.714844 211.710938 210.238281 216.1875 204.714844 216.1875 C 199.195313 216.1875 194.714844 211.710938 194.714844 206.1875 C 194.714844 200.664063 199.195313 196.1875 204.714844 196.1875 C 210.238281 196.1875 214.714844 200.664063 214.714844 206.1875 \"/>\n",
       "<path style=\"fill-rule:nonzero;fill:rgb(100%,0%,0%);fill-opacity:1;stroke-width:1;stroke-linecap:butt;stroke-linejoin:miter;stroke:rgb(0%,0%,0%);stroke-opacity:1;stroke-miterlimit:10;\" d=\"M 426.417969 305.382813 C 426.417969 310.90625 421.941406 315.382813 416.417969 315.382813 C 410.898438 315.382813 406.417969 310.90625 406.417969 305.382813 C 406.417969 299.863281 410.898438 295.382813 416.417969 295.382813 C 421.941406 295.382813 426.417969 299.863281 426.417969 305.382813 \"/>\n",
       "<path style=\"fill-rule:nonzero;fill:rgb(100%,0%,0%);fill-opacity:1;stroke-width:1;stroke-linecap:butt;stroke-linejoin:miter;stroke:rgb(0%,0%,0%);stroke-opacity:1;stroke-miterlimit:10;\" d=\"M 288.769531 412.660156 C 288.769531 418.183594 284.292969 422.660156 278.769531 422.660156 C 273.246094 422.660156 268.769531 418.183594 268.769531 412.660156 C 268.769531 407.140625 273.246094 402.660156 278.769531 402.660156 C 284.292969 402.660156 288.769531 407.140625 288.769531 412.660156 \"/>\n",
       "<path style=\"fill-rule:nonzero;fill:rgb(100%,0%,0%);fill-opacity:1;stroke-width:1;stroke-linecap:butt;stroke-linejoin:miter;stroke:rgb(0%,0%,0%);stroke-opacity:1;stroke-miterlimit:10;\" d=\"M 361.144531 276.023438 C 361.144531 281.546875 356.667969 286.023438 351.144531 286.023438 C 345.621094 286.023438 341.144531 281.546875 341.144531 276.023438 C 341.144531 270.5 345.621094 266.023438 351.144531 266.023438 C 356.667969 266.023438 361.144531 270.5 361.144531 276.023438 \"/>\n",
       "<path style=\"fill-rule:nonzero;fill:rgb(100%,0%,0%);fill-opacity:1;stroke-width:1;stroke-linecap:butt;stroke-linejoin:miter;stroke:rgb(0%,0%,0%);stroke-opacity:1;stroke-miterlimit:10;\" d=\"M 243.460938 227.1875 C 243.460938 232.710938 238.984375 237.1875 233.460938 237.1875 C 227.9375 237.1875 223.460938 232.710938 223.460938 227.1875 C 223.460938 221.664063 227.9375 217.1875 233.460938 217.1875 C 238.984375 217.1875 243.460938 221.664063 243.460938 227.1875 \"/>\n",
       "<path style=\"fill-rule:nonzero;fill:rgb(100%,0%,0%);fill-opacity:1;stroke-width:1;stroke-linecap:butt;stroke-linejoin:miter;stroke:rgb(0%,0%,0%);stroke-opacity:1;stroke-miterlimit:10;\" d=\"M 178.324219 240.550781 C 178.324219 246.074219 173.847656 250.550781 168.324219 250.550781 C 162.800781 250.550781 158.324219 246.074219 158.324219 240.550781 C 158.324219 235.027344 162.800781 230.550781 168.324219 230.550781 C 173.847656 230.550781 178.324219 235.027344 178.324219 240.550781 \"/>\n",
       "<path style=\"fill-rule:nonzero;fill:rgb(100%,0%,0%);fill-opacity:1;stroke-width:1;stroke-linecap:butt;stroke-linejoin:miter;stroke:rgb(0%,0%,0%);stroke-opacity:1;stroke-miterlimit:10;\" d=\"M 205.097656 144.589844 C 205.097656 150.113281 200.621094 154.589844 195.097656 154.589844 C 189.574219 154.589844 185.097656 150.113281 185.097656 144.589844 C 185.097656 139.066406 189.574219 134.589844 195.097656 134.589844 C 200.621094 134.589844 205.097656 139.066406 205.097656 144.589844 \"/>\n",
       "<path style=\"fill-rule:nonzero;fill:rgb(100%,0%,0%);fill-opacity:1;stroke-width:1;stroke-linecap:butt;stroke-linejoin:miter;stroke:rgb(0%,0%,0%);stroke-opacity:1;stroke-miterlimit:10;\" d=\"M 464.285156 227.753906 C 464.285156 233.277344 459.808594 237.753906 454.285156 237.753906 C 448.761719 237.753906 444.285156 233.277344 444.285156 227.753906 C 444.285156 222.234375 448.761719 217.753906 454.285156 217.753906 C 459.808594 217.753906 464.285156 222.234375 464.285156 227.753906 \"/>\n",
       "<path style=\"fill-rule:nonzero;fill:rgb(100%,0%,0%);fill-opacity:1;stroke-width:1;stroke-linecap:butt;stroke-linejoin:miter;stroke:rgb(0%,0%,0%);stroke-opacity:1;stroke-miterlimit:10;\" d=\"M 480.613281 344.125 C 480.613281 349.648438 476.136719 354.125 470.613281 354.125 C 465.089844 354.125 460.613281 349.648438 460.613281 344.125 C 460.613281 338.601563 465.089844 334.125 470.613281 334.125 C 476.136719 334.125 480.613281 338.601563 480.613281 344.125 \"/>\n",
       "<path style=\"fill-rule:nonzero;fill:rgb(100%,0%,0%);fill-opacity:1;stroke-width:1;stroke-linecap:butt;stroke-linejoin:miter;stroke:rgb(0%,0%,0%);stroke-opacity:1;stroke-miterlimit:10;\" d=\"M 309.835938 470.5 C 309.835938 476.023438 305.359375 480.5 299.835938 480.5 C 294.3125 480.5 289.835938 476.023438 289.835938 470.5 C 289.835938 464.976563 294.3125 460.5 299.835938 460.5 C 305.359375 460.5 309.835938 464.976563 309.835938 470.5 \"/>\n",
       "<path style=\"fill-rule:nonzero;fill:rgb(100%,0%,0%);fill-opacity:1;stroke-width:1;stroke-linecap:butt;stroke-linejoin:miter;stroke:rgb(0%,0%,0%);stroke-opacity:1;stroke-miterlimit:10;\" d=\"M 212.679688 427.972656 C 212.679688 433.492188 208.203125 437.972656 202.679688 437.972656 C 197.15625 437.972656 192.679688 433.492188 192.679688 427.972656 C 192.679688 422.449219 197.15625 417.972656 202.679688 417.972656 C 208.203125 417.972656 212.679688 422.449219 212.679688 427.972656 \"/>\n",
       "<path style=\"fill-rule:nonzero;fill:rgb(100%,0%,0%);fill-opacity:1;stroke-width:1;stroke-linecap:butt;stroke-linejoin:miter;stroke:rgb(0%,0%,0%);stroke-opacity:1;stroke-miterlimit:10;\" d=\"M 387.511719 231.980469 C 387.511719 237.503906 383.035156 241.980469 377.511719 241.980469 C 371.992188 241.980469 367.511719 237.503906 367.511719 231.980469 C 367.511719 226.457031 371.992188 221.980469 377.511719 221.980469 C 383.035156 221.980469 387.511719 226.457031 387.511719 231.980469 \"/>\n",
       "<path style=\"fill-rule:nonzero;fill:rgb(100%,0%,0%);fill-opacity:1;stroke-width:1;stroke-linecap:butt;stroke-linejoin:miter;stroke:rgb(0%,0%,0%);stroke-opacity:1;stroke-miterlimit:10;\" d=\"M 386.496094 340.414063 C 386.496094 345.9375 382.019531 350.414063 376.496094 350.414063 C 370.972656 350.414063 366.496094 345.9375 366.496094 340.414063 C 366.496094 334.890625 370.972656 330.414063 376.496094 330.414063 C 382.019531 330.414063 386.496094 334.890625 386.496094 340.414063 \"/>\n",
       "<path style=\"fill-rule:nonzero;fill:rgb(100%,0%,0%);fill-opacity:1;stroke-width:1;stroke-linecap:butt;stroke-linejoin:miter;stroke:rgb(0%,0%,0%);stroke-opacity:1;stroke-miterlimit:10;\" d=\"M 177.714844 270.953125 C 177.714844 276.476563 173.238281 280.953125 167.714844 280.953125 C 162.195313 280.953125 157.714844 276.476563 157.714844 270.953125 C 157.714844 265.429688 162.195313 260.953125 167.714844 260.953125 C 173.238281 260.953125 177.714844 265.429688 177.714844 270.953125 \"/>\n",
       "<path style=\"fill-rule:nonzero;fill:rgb(100%,0%,0%);fill-opacity:1;stroke-width:1;stroke-linecap:butt;stroke-linejoin:miter;stroke:rgb(0%,0%,0%);stroke-opacity:1;stroke-miterlimit:10;\" d=\"M 276.269531 170.820313 C 276.269531 176.34375 271.792969 180.820313 266.269531 180.820313 C 260.746094 180.820313 256.269531 176.34375 256.269531 170.820313 C 256.269531 165.296875 260.746094 160.820313 266.269531 160.820313 C 271.792969 160.820313 276.269531 165.296875 276.269531 170.820313 \"/>\n",
       "<path style=\"fill-rule:nonzero;fill:rgb(100%,0%,0%);fill-opacity:1;stroke-width:1;stroke-linecap:butt;stroke-linejoin:miter;stroke:rgb(0%,0%,0%);stroke-opacity:1;stroke-miterlimit:10;\" d=\"M 116.671875 235.21875 C 116.671875 240.742188 112.195313 245.21875 106.671875 245.21875 C 101.148438 245.21875 96.671875 240.742188 96.671875 235.21875 C 96.671875 229.695313 101.148438 225.21875 106.671875 225.21875 C 112.195313 225.21875 116.671875 229.695313 116.671875 235.21875 \"/>\n",
       "<path style=\"fill-rule:nonzero;fill:rgb(100%,0%,0%);fill-opacity:1;stroke-width:1;stroke-linecap:butt;stroke-linejoin:miter;stroke:rgb(0%,0%,0%);stroke-opacity:1;stroke-miterlimit:10;\" d=\"M 218.628906 289.914063 C 218.628906 295.4375 214.148438 299.914063 208.628906 299.914063 C 203.105469 299.914063 198.628906 295.4375 198.628906 289.914063 C 198.628906 284.394531 203.105469 279.914063 208.628906 279.914063 C 214.148438 279.914063 218.628906 284.394531 218.628906 289.914063 \"/>\n",
       "<path style=\"fill-rule:nonzero;fill:rgb(100%,0%,0%);fill-opacity:1;stroke-width:1;stroke-linecap:butt;stroke-linejoin:miter;stroke:rgb(0%,0%,0%);stroke-opacity:1;stroke-miterlimit:10;\" d=\"M 232.328125 89.597656 C 232.328125 95.121094 227.851563 99.597656 222.328125 99.597656 C 216.804688 99.597656 212.328125 95.121094 212.328125 89.597656 C 212.328125 84.074219 216.804688 79.597656 222.328125 79.597656 C 227.851563 79.597656 232.328125 84.074219 232.328125 89.597656 \"/>\n",
       "<path style=\"fill-rule:nonzero;fill:rgb(100%,0%,0%);fill-opacity:1;stroke-width:1;stroke-linecap:butt;stroke-linejoin:miter;stroke:rgb(0%,0%,0%);stroke-opacity:1;stroke-miterlimit:10;\" d=\"M 160.722656 134.171875 C 160.722656 139.695313 156.246094 144.171875 150.722656 144.171875 C 145.199219 144.171875 140.722656 139.695313 140.722656 134.171875 C 140.722656 128.648438 145.199219 124.171875 150.722656 124.171875 C 156.246094 124.171875 160.722656 128.648438 160.722656 134.171875 \"/>\n",
       "<path style=\"fill-rule:nonzero;fill:rgb(100%,0%,0%);fill-opacity:1;stroke-width:1;stroke-linecap:butt;stroke-linejoin:miter;stroke:rgb(0%,0%,0%);stroke-opacity:1;stroke-miterlimit:10;\" d=\"M 459.570313 153.226563 C 459.570313 158.75 455.09375 163.226563 449.570313 163.226563 C 444.046875 163.226563 439.570313 158.75 439.570313 153.226563 C 439.570313 147.707031 444.046875 143.226563 449.570313 143.226563 C 455.09375 143.226563 459.570313 147.707031 459.570313 153.226563 \"/>\n",
       "<path style=\"fill-rule:nonzero;fill:rgb(100%,0%,0%);fill-opacity:1;stroke-width:1;stroke-linecap:butt;stroke-linejoin:miter;stroke:rgb(0%,0%,0%);stroke-opacity:1;stroke-miterlimit:10;\" d=\"M 508.457031 205.015625 C 508.457031 210.539063 503.980469 215.015625 498.457031 215.015625 C 492.9375 215.015625 488.457031 210.539063 488.457031 205.015625 C 488.457031 199.492188 492.9375 195.015625 498.457031 195.015625 C 503.980469 195.015625 508.457031 199.492188 508.457031 205.015625 \"/>\n",
       "<path style=\"fill-rule:nonzero;fill:rgb(100%,0%,0%);fill-opacity:1;stroke-width:1;stroke-linecap:butt;stroke-linejoin:miter;stroke:rgb(0%,0%,0%);stroke-opacity:1;stroke-miterlimit:10;\" d=\"M 499.402344 402.117188 C 499.402344 407.640625 494.921875 412.117188 489.402344 412.117188 C 483.878906 412.117188 479.402344 407.640625 479.402344 402.117188 C 479.402344 396.59375 483.878906 392.117188 489.402344 392.117188 C 494.921875 392.117188 499.402344 396.59375 499.402344 402.117188 \"/>\n",
       "<path style=\"fill-rule:nonzero;fill:rgb(100%,0%,0%);fill-opacity:1;stroke-width:1;stroke-linecap:butt;stroke-linejoin:miter;stroke:rgb(0%,0%,0%);stroke-opacity:1;stroke-miterlimit:10;\" d=\"M 524.75 330.855469 C 524.75 336.378906 520.273438 340.855469 514.75 340.855469 C 509.226563 340.855469 504.75 336.378906 504.75 330.855469 C 504.75 325.332031 509.226563 320.855469 514.75 320.855469 C 520.273438 320.855469 524.75 325.332031 524.75 330.855469 \"/>\n",
       "<path style=\"fill-rule:nonzero;fill:rgb(100%,0%,0%);fill-opacity:1;stroke-width:1;stroke-linecap:butt;stroke-linejoin:miter;stroke:rgb(0%,0%,0%);stroke-opacity:1;stroke-miterlimit:10;\" d=\"M 355.277344 501.136719 C 355.277344 506.660156 350.800781 511.136719 345.277344 511.136719 C 339.753906 511.136719 335.277344 506.660156 335.277344 501.136719 C 335.277344 495.613281 339.753906 491.136719 345.277344 491.136719 C 350.800781 491.136719 355.277344 495.613281 355.277344 501.136719 \"/>\n",
       "<path style=\"fill-rule:nonzero;fill:rgb(100%,0%,0%);fill-opacity:1;stroke-width:1;stroke-linecap:butt;stroke-linejoin:miter;stroke:rgb(0%,0%,0%);stroke-opacity:1;stroke-miterlimit:10;\" d=\"M 286.8125 512.085938 C 286.8125 517.609375 282.335938 522.085938 276.8125 522.085938 C 271.289063 522.085938 266.8125 517.609375 266.8125 512.085938 C 266.8125 506.5625 271.289063 502.085938 276.8125 502.085938 C 282.335938 502.085938 286.8125 506.5625 286.8125 512.085938 \"/>\n",
       "<path style=\"fill-rule:nonzero;fill:rgb(100%,0%,0%);fill-opacity:1;stroke-width:1;stroke-linecap:butt;stroke-linejoin:miter;stroke:rgb(0%,0%,0%);stroke-opacity:1;stroke-miterlimit:10;\" d=\"M 183.464844 462.964844 C 183.464844 468.488281 178.988281 472.964844 173.464844 472.964844 C 167.941406 472.964844 163.464844 468.488281 163.464844 462.964844 C 163.464844 457.441406 167.941406 452.964844 173.464844 452.964844 C 178.988281 452.964844 183.464844 457.441406 183.464844 462.964844 \"/>\n",
       "<path style=\"fill-rule:nonzero;fill:rgb(100%,0%,0%);fill-opacity:1;stroke-width:1;stroke-linecap:butt;stroke-linejoin:miter;stroke:rgb(0%,0%,0%);stroke-opacity:1;stroke-miterlimit:10;\" d=\"M 143.800781 420.148438 C 143.800781 425.667969 139.324219 430.148438 133.800781 430.148438 C 128.277344 430.148438 123.800781 425.667969 123.800781 420.148438 C 123.800781 414.625 128.277344 410.148438 133.800781 410.148438 C 139.324219 410.148438 143.800781 414.625 143.800781 420.148438 \"/>\n",
       "<path style=\"fill-rule:nonzero;fill:rgb(100%,0%,0%);fill-opacity:1;stroke-width:1;stroke-linecap:butt;stroke-linejoin:miter;stroke:rgb(0%,0%,0%);stroke-opacity:1;stroke-miterlimit:10;\" d=\"M 389.609375 184.007813 C 389.609375 189.53125 385.132813 194.007813 379.609375 194.007813 C 374.089844 194.007813 369.609375 189.53125 369.609375 184.007813 C 369.609375 178.484375 374.089844 174.007813 379.609375 174.007813 C 385.132813 174.007813 389.609375 178.484375 389.609375 184.007813 \"/>\n",
       "<path style=\"fill-rule:nonzero;fill:rgb(100%,0%,0%);fill-opacity:1;stroke-width:1;stroke-linecap:butt;stroke-linejoin:miter;stroke:rgb(0%,0%,0%);stroke-opacity:1;stroke-miterlimit:10;\" d=\"M 426.996094 237.3125 C 426.996094 242.835938 422.519531 247.3125 416.996094 247.3125 C 411.472656 247.3125 406.996094 242.835938 406.996094 237.3125 C 406.996094 231.792969 411.472656 227.3125 416.996094 227.3125 C 422.519531 227.3125 426.996094 231.792969 426.996094 237.3125 \"/>\n",
       "<path style=\"fill-rule:nonzero;fill:rgb(100%,0%,0%);fill-opacity:1;stroke-width:1;stroke-linecap:butt;stroke-linejoin:miter;stroke:rgb(0%,0%,0%);stroke-opacity:1;stroke-miterlimit:10;\" d=\"M 376.457031 392.960938 C 376.457031 398.480469 371.980469 402.960938 366.457031 402.960938 C 360.933594 402.960938 356.457031 398.480469 356.457031 392.960938 C 356.457031 387.4375 360.933594 382.960938 366.457031 382.960938 C 371.980469 382.960938 376.457031 387.4375 376.457031 392.960938 \"/>\n",
       "<path style=\"fill-rule:nonzero;fill:rgb(100%,0%,0%);fill-opacity:1;stroke-width:1;stroke-linecap:butt;stroke-linejoin:miter;stroke:rgb(0%,0%,0%);stroke-opacity:1;stroke-miterlimit:10;\" d=\"M 421.527344 373.589844 C 421.527344 379.113281 417.050781 383.589844 411.527344 383.589844 C 406.003906 383.589844 401.527344 379.113281 401.527344 373.589844 C 401.527344 368.066406 406.003906 363.589844 411.527344 363.589844 C 417.050781 363.589844 421.527344 368.066406 421.527344 373.589844 \"/>\n",
       "<path style=\"fill-rule:nonzero;fill:rgb(100%,0%,0%);fill-opacity:1;stroke-width:1;stroke-linecap:butt;stroke-linejoin:miter;stroke:rgb(0%,0%,0%);stroke-opacity:1;stroke-miterlimit:10;\" d=\"M 151.734375 315.632813 C 151.734375 321.152344 147.257813 325.632813 141.734375 325.632813 C 136.210938 325.632813 131.734375 321.152344 131.734375 315.632813 C 131.734375 310.109375 136.210938 305.632813 141.734375 305.632813 C 147.257813 305.632813 151.734375 310.109375 151.734375 315.632813 \"/>\n",
       "<path style=\"fill-rule:nonzero;fill:rgb(100%,0%,0%);fill-opacity:1;stroke-width:1;stroke-linecap:butt;stroke-linejoin:miter;stroke:rgb(0%,0%,0%);stroke-opacity:1;stroke-miterlimit:10;\" d=\"M 121.570313 287.03125 C 121.570313 292.554688 117.09375 297.03125 111.570313 297.03125 C 106.046875 297.03125 101.570313 292.554688 101.570313 287.03125 C 101.570313 281.507813 106.046875 277.03125 111.570313 277.03125 C 117.09375 277.03125 121.570313 281.507813 121.570313 287.03125 \"/>\n",
       "<path style=\"fill-rule:nonzero;fill:rgb(100%,0%,0%);fill-opacity:1;stroke-width:1;stroke-linecap:butt;stroke-linejoin:miter;stroke:rgb(0%,0%,0%);stroke-opacity:1;stroke-miterlimit:10;\" d=\"M 279.648438 141.277344 C 279.648438 146.800781 275.171875 151.277344 269.648438 151.277344 C 264.125 151.277344 259.648438 146.800781 259.648438 141.277344 C 259.648438 135.753906 264.125 131.277344 269.648438 131.277344 C 275.171875 131.277344 279.648438 135.753906 279.648438 141.277344 \"/>\n",
       "<path style=\"fill-rule:nonzero;fill:rgb(100%,0%,0%);fill-opacity:1;stroke-width:1;stroke-linecap:butt;stroke-linejoin:miter;stroke:rgb(0%,0%,0%);stroke-opacity:1;stroke-miterlimit:10;\" d=\"M 314.09375 118.433594 C 314.09375 123.957031 309.617188 128.433594 304.09375 128.433594 C 298.570313 128.433594 294.09375 123.957031 294.09375 118.433594 C 294.09375 112.910156 298.570313 108.433594 304.09375 108.433594 C 309.617188 108.433594 314.09375 112.910156 314.09375 118.433594 \"/>\n",
       "<path style=\"fill-rule:nonzero;fill:rgb(100%,0%,0%);fill-opacity:1;stroke-width:1;stroke-linecap:butt;stroke-linejoin:miter;stroke:rgb(0%,0%,0%);stroke-opacity:1;stroke-miterlimit:10;\" d=\"M 63.875 251.1875 C 63.875 256.710938 59.394531 261.1875 53.875 261.1875 C 48.351563 261.1875 43.875 256.710938 43.875 251.1875 C 43.875 245.664063 48.351563 241.1875 53.875 241.1875 C 59.394531 241.1875 63.875 245.664063 63.875 251.1875 \"/>\n",
       "<path style=\"fill-rule:nonzero;fill:rgb(100%,0%,0%);fill-opacity:1;stroke-width:1;stroke-linecap:butt;stroke-linejoin:miter;stroke:rgb(0%,0%,0%);stroke-opacity:1;stroke-miterlimit:10;\" d=\"M 87.183594 209.707031 C 87.183594 215.230469 82.707031 219.707031 77.183594 219.707031 C 71.660156 219.707031 67.183594 215.230469 67.183594 209.707031 C 67.183594 204.183594 71.660156 199.707031 77.183594 199.707031 C 82.707031 199.707031 87.183594 204.183594 87.183594 209.707031 \"/>\n",
       "<path style=\"fill-rule:nonzero;fill:rgb(100%,0%,0%);fill-opacity:1;stroke-width:1;stroke-linecap:butt;stroke-linejoin:miter;stroke:rgb(0%,0%,0%);stroke-opacity:1;stroke-miterlimit:10;\" d=\"M 221.496094 340.5625 C 221.496094 346.082031 217.019531 350.5625 211.496094 350.5625 C 205.972656 350.5625 201.496094 346.082031 201.496094 340.5625 C 201.496094 335.039063 205.972656 330.5625 211.496094 330.5625 C 217.019531 330.5625 221.496094 335.039063 221.496094 340.5625 \"/>\n",
       "<path style=\"fill-rule:nonzero;fill:rgb(100%,0%,0%);fill-opacity:1;stroke-width:1;stroke-linecap:butt;stroke-linejoin:miter;stroke:rgb(0%,0%,0%);stroke-opacity:1;stroke-miterlimit:10;\" d=\"M 271.992188 296.214844 C 271.992188 301.738281 267.515625 306.214844 261.992188 306.214844 C 256.472656 306.214844 251.992188 301.738281 251.992188 296.214844 C 251.992188 290.691406 256.472656 286.214844 261.992188 286.214844 C 267.515625 286.214844 271.992188 290.691406 271.992188 296.214844 \"/>\n",
       "<path style=\"fill-rule:nonzero;fill:rgb(100%,0%,0%);fill-opacity:1;stroke-width:1;stroke-linecap:butt;stroke-linejoin:miter;stroke:rgb(0%,0%,0%);stroke-opacity:1;stroke-miterlimit:10;\" d=\"M 223.214844 53.859375 C 223.214844 59.382813 218.738281 63.859375 213.214844 63.859375 C 207.691406 63.859375 203.214844 59.382813 203.214844 53.859375 C 203.214844 48.335938 207.691406 43.859375 213.214844 43.859375 C 218.738281 43.859375 223.214844 48.335938 223.214844 53.859375 \"/>\n",
       "<path style=\"fill-rule:nonzero;fill:rgb(100%,0%,0%);fill-opacity:1;stroke-width:1;stroke-linecap:butt;stroke-linejoin:miter;stroke:rgb(0%,0%,0%);stroke-opacity:1;stroke-miterlimit:10;\" d=\"M 275.230469 52.511719 C 275.230469 58.035156 270.753906 62.511719 265.230469 62.511719 C 259.707031 62.511719 255.230469 58.035156 255.230469 52.511719 C 255.230469 46.992188 259.707031 42.511719 265.230469 42.511719 C 270.753906 42.511719 275.230469 46.992188 275.230469 52.511719 \"/>\n",
       "<path style=\"fill-rule:nonzero;fill:rgb(100%,0%,0%);fill-opacity:1;stroke-width:1;stroke-linecap:butt;stroke-linejoin:miter;stroke:rgb(0%,0%,0%);stroke-opacity:1;stroke-miterlimit:10;\" d=\"M 117.640625 136.574219 C 117.640625 142.097656 113.164063 146.574219 107.640625 146.574219 C 102.117188 146.574219 97.640625 142.097656 97.640625 136.574219 C 97.640625 131.050781 102.117188 126.574219 107.640625 126.574219 C 113.164063 126.574219 117.640625 131.050781 117.640625 136.574219 \"/>\n",
       "<path style=\"fill-rule:nonzero;fill:rgb(100%,0%,0%);fill-opacity:1;stroke-width:1;stroke-linecap:butt;stroke-linejoin:miter;stroke:rgb(0%,0%,0%);stroke-opacity:1;stroke-miterlimit:10;\" d=\"M 151.898438 100.070313 C 151.898438 105.59375 147.421875 110.070313 141.898438 110.070313 C 136.375 110.070313 131.898438 105.59375 131.898438 100.070313 C 131.898438 94.546875 136.375 90.070313 141.898438 90.070313 C 147.421875 90.070313 151.898438 94.546875 151.898438 100.070313 \"/>\n",
       "<path style=\"fill-rule:nonzero;fill:rgb(100%,0%,0%);fill-opacity:1;stroke-width:1;stroke-linecap:butt;stroke-linejoin:miter;stroke:rgb(0%,0%,0%);stroke-opacity:1;stroke-miterlimit:10;\" d=\"M 476.359375 111.75 C 476.359375 117.269531 471.878906 121.75 466.359375 121.75 C 460.835938 121.75 456.359375 117.269531 456.359375 111.75 C 456.359375 106.226563 460.835938 101.75 466.359375 101.75 C 471.878906 101.75 476.359375 106.226563 476.359375 111.75 \"/>\n",
       "<path style=\"fill-rule:nonzero;fill:rgb(100%,0%,0%);fill-opacity:1;stroke-width:1;stroke-linecap:butt;stroke-linejoin:miter;stroke:rgb(0%,0%,0%);stroke-opacity:1;stroke-miterlimit:10;\" d=\"M 433.449219 98.539063 C 433.449219 104.058594 428.972656 108.539063 423.449219 108.539063 C 417.925781 108.539063 413.449219 104.058594 413.449219 98.539063 C 413.449219 93.015625 417.925781 88.539063 423.449219 88.539063 C 428.972656 88.539063 433.449219 93.015625 433.449219 98.539063 \"/>\n",
       "<path style=\"fill-rule:nonzero;fill:rgb(100%,0%,0%);fill-opacity:1;stroke-width:1;stroke-linecap:butt;stroke-linejoin:miter;stroke:rgb(0%,0%,0%);stroke-opacity:1;stroke-miterlimit:10;\" d=\"M 544.417969 218.125 C 544.417969 223.648438 539.941406 228.125 534.417969 228.125 C 528.894531 228.125 524.417969 223.648438 524.417969 218.125 C 524.417969 212.601563 528.894531 208.125 534.417969 208.125 C 539.941406 208.125 544.417969 212.601563 544.417969 218.125 \"/>\n",
       "<path style=\"fill-rule:nonzero;fill:rgb(100%,0%,0%);fill-opacity:1;stroke-width:1;stroke-linecap:butt;stroke-linejoin:miter;stroke:rgb(0%,0%,0%);stroke-opacity:1;stroke-miterlimit:10;\" d=\"M 529.996094 170.066406 C 529.996094 175.589844 525.519531 180.066406 519.996094 180.066406 C 514.472656 180.066406 509.996094 175.589844 509.996094 170.066406 C 509.996094 164.542969 514.472656 160.066406 519.996094 160.066406 C 525.519531 160.066406 529.996094 164.542969 529.996094 170.066406 \"/>\n",
       "<path style=\"fill-rule:nonzero;fill:rgb(100%,0%,0%);fill-opacity:1;stroke-width:1;stroke-linecap:butt;stroke-linejoin:miter;stroke:rgb(0%,0%,0%);stroke-opacity:1;stroke-miterlimit:10;\" d=\"M 530.585938 429.015625 C 530.585938 434.535156 526.109375 439.015625 520.585938 439.015625 C 515.0625 439.015625 510.585938 434.535156 510.585938 429.015625 C 510.585938 423.492188 515.0625 419.015625 520.585938 419.015625 C 526.109375 419.015625 530.585938 423.492188 530.585938 429.015625 \"/>\n",
       "<path style=\"fill-rule:nonzero;fill:rgb(100%,0%,0%);fill-opacity:1;stroke-width:1;stroke-linecap:butt;stroke-linejoin:miter;stroke:rgb(0%,0%,0%);stroke-opacity:1;stroke-miterlimit:10;\" d=\"M 492.335938 451.335938 C 492.335938 456.859375 487.859375 461.335938 482.335938 461.335938 C 476.8125 461.335938 472.335938 456.859375 472.335938 451.335938 C 472.335938 445.816406 476.8125 441.335938 482.335938 441.335938 C 487.859375 441.335938 492.335938 445.816406 492.335938 451.335938 \"/>\n",
       "<path style=\"fill-rule:nonzero;fill:rgb(100%,0%,0%);fill-opacity:1;stroke-width:1;stroke-linecap:butt;stroke-linejoin:miter;stroke:rgb(0%,0%,0%);stroke-opacity:1;stroke-miterlimit:10;\" d=\"M 556.648438 304.675781 C 556.648438 310.199219 552.167969 314.675781 546.648438 314.675781 C 541.125 314.675781 536.648438 310.199219 536.648438 304.675781 C 536.648438 299.152344 541.125 294.675781 546.648438 294.675781 C 552.167969 294.675781 556.648438 299.152344 556.648438 304.675781 \"/>\n",
       "<path style=\"fill-rule:nonzero;fill:rgb(100%,0%,0%);fill-opacity:1;stroke-width:1;stroke-linecap:butt;stroke-linejoin:miter;stroke:rgb(0%,0%,0%);stroke-opacity:1;stroke-miterlimit:10;\" d=\"M 554.984375 352.902344 C 554.984375 358.425781 550.507813 362.902344 544.984375 362.902344 C 539.464844 362.902344 534.984375 358.425781 534.984375 352.902344 C 534.984375 347.378906 539.464844 342.902344 544.984375 342.902344 C 550.507813 342.902344 554.984375 347.378906 554.984375 352.902344 \"/>\n",
       "<path style=\"fill-rule:nonzero;fill:rgb(100%,0%,0%);fill-opacity:1;stroke-width:1;stroke-linecap:butt;stroke-linejoin:miter;stroke:rgb(0%,0%,0%);stroke-opacity:1;stroke-miterlimit:10;\" d=\"M 371.410156 540.058594 C 371.410156 545.582031 366.933594 550.058594 361.410156 550.058594 C 355.886719 550.058594 351.410156 545.582031 351.410156 540.058594 C 351.410156 534.535156 355.886719 530.058594 361.410156 530.058594 C 366.933594 530.058594 371.410156 534.535156 371.410156 540.058594 \"/>\n",
       "<path style=\"fill-rule:nonzero;fill:rgb(100%,0%,0%);fill-opacity:1;stroke-width:1;stroke-linecap:butt;stroke-linejoin:miter;stroke:rgb(0%,0%,0%);stroke-opacity:1;stroke-miterlimit:10;\" d=\"M 400.1875 509.515625 C 400.1875 515.039063 395.707031 519.515625 390.1875 519.515625 C 384.664063 519.515625 380.1875 515.039063 380.1875 509.515625 C 380.1875 503.992188 384.664063 499.515625 390.1875 499.515625 C 395.707031 499.515625 400.1875 503.992188 400.1875 509.515625 \"/>\n",
       "<path style=\"fill-rule:nonzero;fill:rgb(100%,0%,0%);fill-opacity:1;stroke-width:1;stroke-linecap:butt;stroke-linejoin:miter;stroke:rgb(0%,0%,0%);stroke-opacity:1;stroke-miterlimit:10;\" d=\"M 252.332031 540.289063 C 252.332031 545.8125 247.851563 550.289063 242.332031 550.289063 C 236.808594 550.289063 232.332031 545.8125 232.332031 540.289063 C 232.332031 534.765625 236.808594 530.289063 242.332031 530.289063 C 247.851563 530.289063 252.332031 534.765625 252.332031 540.289063 \"/>\n",
       "<path style=\"fill-rule:nonzero;fill:rgb(100%,0%,0%);fill-opacity:1;stroke-width:1;stroke-linecap:butt;stroke-linejoin:miter;stroke:rgb(0%,0%,0%);stroke-opacity:1;stroke-miterlimit:10;\" d=\"M 298.679688 547.488281 C 298.679688 553.011719 294.203125 557.488281 288.679688 557.488281 C 283.160156 557.488281 278.679688 553.011719 278.679688 547.488281 C 278.679688 541.964844 283.160156 537.488281 288.679688 537.488281 C 294.203125 537.488281 298.679688 541.964844 298.679688 547.488281 \"/>\n",
       "<path style=\"fill-rule:nonzero;fill:rgb(100%,0%,0%);fill-opacity:1;stroke-width:1;stroke-linecap:butt;stroke-linejoin:miter;stroke:rgb(0%,0%,0%);stroke-opacity:1;stroke-miterlimit:10;\" d=\"M 148.921875 490.242188 C 148.921875 495.761719 144.441406 500.242188 138.921875 500.242188 C 133.398438 500.242188 128.921875 495.761719 128.921875 490.242188 C 128.921875 484.71875 133.398438 480.242188 138.921875 480.242188 C 144.441406 480.242188 148.921875 484.71875 148.921875 490.242188 \"/>\n",
       "<path style=\"fill-rule:nonzero;fill:rgb(100%,0%,0%);fill-opacity:1;stroke-width:1;stroke-linecap:butt;stroke-linejoin:miter;stroke:rgb(0%,0%,0%);stroke-opacity:1;stroke-miterlimit:10;\" d=\"M 200.929688 491.597656 C 200.929688 497.121094 196.453125 501.597656 190.929688 501.597656 C 185.40625 501.597656 180.929688 497.121094 180.929688 491.597656 C 180.929688 486.074219 185.40625 481.597656 190.929688 481.597656 C 196.453125 481.597656 200.929688 486.074219 200.929688 491.597656 \"/>\n",
       "<path style=\"fill-rule:nonzero;fill:rgb(100%,0%,0%);fill-opacity:1;stroke-width:1;stroke-linecap:butt;stroke-linejoin:miter;stroke:rgb(0%,0%,0%);stroke-opacity:1;stroke-miterlimit:10;\" d=\"M 103.398438 438.121094 C 103.398438 443.644531 98.921875 448.121094 93.398438 448.121094 C 87.875 448.121094 83.398438 443.644531 83.398438 438.121094 C 83.398438 432.597656 87.875 428.121094 93.398438 428.121094 C 98.921875 428.121094 103.398438 432.597656 103.398438 438.121094 \"/>\n",
       "<path style=\"fill-rule:nonzero;fill:rgb(100%,0%,0%);fill-opacity:1;stroke-width:1;stroke-linecap:butt;stroke-linejoin:miter;stroke:rgb(0%,0%,0%);stroke-opacity:1;stroke-miterlimit:10;\" d=\"M 91.953125 397.121094 C 91.953125 402.644531 87.472656 407.121094 81.953125 407.121094 C 76.429688 407.121094 71.953125 402.644531 71.953125 397.121094 C 71.953125 391.597656 76.429688 387.121094 81.953125 387.121094 C 87.472656 387.121094 91.953125 391.597656 91.953125 397.121094 \"/>\n",
       "<path style=\"fill-rule:nonzero;fill:rgb(100%,0%,0%);fill-opacity:1;stroke-width:1;stroke-linecap:butt;stroke-linejoin:miter;stroke:rgb(0%,0%,0%);stroke-opacity:1;stroke-miterlimit:10;\" d=\"M 377.050781 151.898438 C 377.050781 157.421875 372.574219 161.898438 367.050781 161.898438 C 361.53125 161.898438 357.050781 157.421875 357.050781 151.898438 C 357.050781 146.378906 361.53125 141.898438 367.050781 141.898438 C 372.574219 141.898438 377.050781 146.378906 377.050781 151.898438 \"/>\n",
       "<path style=\"fill-rule:nonzero;fill:rgb(100%,0%,0%);fill-opacity:1;stroke-width:1;stroke-linecap:butt;stroke-linejoin:miter;stroke:rgb(0%,0%,0%);stroke-opacity:1;stroke-miterlimit:10;\" d=\"M 409.554688 153.328125 C 409.554688 158.851563 405.078125 163.328125 399.554688 163.328125 C 394.03125 163.328125 389.554688 158.851563 389.554688 153.328125 C 389.554688 147.804688 394.03125 143.328125 399.554688 143.328125 C 405.078125 143.328125 409.554688 147.804688 409.554688 153.328125 \"/>\n",
       "<path style=\"fill-rule:nonzero;fill:rgb(100%,0%,0%);fill-opacity:1;stroke-width:1;stroke-linecap:butt;stroke-linejoin:miter;stroke:rgb(0%,0%,0%);stroke-opacity:1;stroke-miterlimit:10;\" d=\"M 455.265625 263.085938 C 455.265625 268.609375 450.789063 273.085938 445.265625 273.085938 C 439.742188 273.085938 435.265625 268.609375 435.265625 263.085938 C 435.265625 257.5625 439.742188 253.085938 445.265625 253.085938 C 450.789063 253.085938 455.265625 257.5625 455.265625 263.085938 \"/>\n",
       "<path style=\"fill-rule:nonzero;fill:rgb(100%,0%,0%);fill-opacity:1;stroke-width:1;stroke-linecap:butt;stroke-linejoin:miter;stroke:rgb(0%,0%,0%);stroke-opacity:1;stroke-miterlimit:10;\" d=\"M 440.519531 205.5625 C 440.519531 211.085938 436.042969 215.5625 430.519531 215.5625 C 425 215.5625 420.519531 211.085938 420.519531 205.5625 C 420.519531 200.042969 425 195.5625 430.519531 195.5625 C 436.042969 195.5625 440.519531 200.042969 440.519531 205.5625 \"/>\n",
       "<path style=\"fill-rule:nonzero;fill:rgb(100%,0%,0%);fill-opacity:1;stroke-width:1;stroke-linecap:butt;stroke-linejoin:miter;stroke:rgb(0%,0%,0%);stroke-opacity:1;stroke-miterlimit:10;\" d=\"M 352.140625 420 C 352.140625 425.523438 347.664063 430 342.140625 430 C 336.617188 430 332.140625 425.523438 332.140625 420 C 332.140625 414.476563 336.617188 410 342.140625 410 C 347.664063 410 352.140625 414.476563 352.140625 420 \"/>\n",
       "<path style=\"fill-rule:nonzero;fill:rgb(100%,0%,0%);fill-opacity:1;stroke-width:1;stroke-linecap:butt;stroke-linejoin:miter;stroke:rgb(0%,0%,0%);stroke-opacity:1;stroke-miterlimit:10;\" d=\"M 386.808594 430.457031 C 386.808594 435.980469 382.332031 440.457031 376.808594 440.457031 C 371.285156 440.457031 366.808594 435.980469 366.808594 430.457031 C 366.808594 424.933594 371.285156 420.457031 376.808594 420.457031 C 382.332031 420.457031 386.808594 424.933594 386.808594 430.457031 \"/>\n",
       "<path style=\"fill-rule:nonzero;fill:rgb(100%,0%,0%);fill-opacity:1;stroke-width:1;stroke-linecap:butt;stroke-linejoin:miter;stroke:rgb(0%,0%,0%);stroke-opacity:1;stroke-miterlimit:10;\" d=\"M 432.410156 410.648438 C 432.410156 416.171875 427.933594 420.648438 422.410156 420.648438 C 416.886719 420.648438 412.410156 416.171875 412.410156 410.648438 C 412.410156 405.128906 416.886719 400.648438 422.410156 400.648438 C 427.933594 400.648438 432.410156 405.128906 432.410156 410.648438 \"/>\n",
       "<path style=\"fill-rule:nonzero;fill:rgb(100%,0%,0%);fill-opacity:1;stroke-width:1;stroke-linecap:butt;stroke-linejoin:miter;stroke:rgb(0%,0%,0%);stroke-opacity:1;stroke-miterlimit:10;\" d=\"M 453.84375 381.46875 C 453.84375 386.992188 449.367188 391.46875 443.84375 391.46875 C 438.320313 391.46875 433.84375 386.992188 433.84375 381.46875 C 433.84375 375.945313 438.320313 371.46875 443.84375 371.46875 C 449.367188 371.46875 453.84375 375.945313 453.84375 381.46875 \"/>\n",
       "<path style=\"fill-rule:nonzero;fill:rgb(100%,0%,0%);fill-opacity:1;stroke-width:1;stroke-linecap:butt;stroke-linejoin:miter;stroke:rgb(0%,0%,0%);stroke-opacity:1;stroke-miterlimit:10;\" d=\"M 119.25 337.511719 C 119.25 343.035156 114.773438 347.511719 109.25 347.511719 C 103.726563 347.511719 99.25 343.035156 99.25 337.511719 C 99.25 331.992188 103.726563 327.511719 109.25 327.511719 C 114.773438 327.511719 119.25 331.992188 119.25 337.511719 \"/>\n",
       "<path style=\"fill-rule:nonzero;fill:rgb(100%,0%,0%);fill-opacity:1;stroke-width:1;stroke-linecap:butt;stroke-linejoin:miter;stroke:rgb(0%,0%,0%);stroke-opacity:1;stroke-miterlimit:10;\" d=\"M 148.796875 351.800781 C 148.796875 357.320313 144.320313 361.800781 138.796875 361.800781 C 133.277344 361.800781 128.796875 357.320313 128.796875 351.800781 C 128.796875 346.277344 133.277344 341.800781 138.796875 341.800781 C 144.320313 341.800781 148.796875 346.277344 148.796875 351.800781 \"/>\n",
       "<path style=\"fill-rule:nonzero;fill:rgb(100%,0%,0%);fill-opacity:1;stroke-width:1;stroke-linecap:butt;stroke-linejoin:miter;stroke:rgb(0%,0%,0%);stroke-opacity:1;stroke-miterlimit:10;\" d=\"M 83.773438 313.109375 C 83.773438 318.632813 79.296875 323.109375 73.773438 323.109375 C 68.25 323.109375 63.773438 318.632813 63.773438 313.109375 C 63.773438 307.585938 68.25 303.109375 73.773438 303.109375 C 79.296875 303.109375 83.773438 307.585938 83.773438 313.109375 \"/>\n",
       "<path style=\"fill-rule:nonzero;fill:rgb(100%,0%,0%);fill-opacity:1;stroke-width:1;stroke-linecap:butt;stroke-linejoin:miter;stroke:rgb(0%,0%,0%);stroke-opacity:1;stroke-miterlimit:10;\" d=\"M 86.621094 285.140625 C 86.621094 290.664063 82.144531 295.140625 76.621094 295.140625 C 71.097656 295.140625 66.621094 290.664063 66.621094 285.140625 C 66.621094 279.617188 71.097656 275.140625 76.621094 275.140625 C 82.144531 275.140625 86.621094 279.617188 86.621094 285.140625 \"/>\n",
       "<path style=\"fill-rule:nonzero;fill:rgb(100%,0%,0%);fill-opacity:1;stroke-width:1;stroke-linecap:butt;stroke-linejoin:miter;stroke:rgb(0%,0%,0%);stroke-opacity:1;stroke-miterlimit:10;\" d=\"M 264.765625 113.503906 C 264.765625 119.027344 260.289063 123.503906 254.765625 123.503906 C 249.242188 123.503906 244.765625 119.027344 244.765625 113.503906 C 244.765625 107.980469 249.242188 103.503906 254.765625 103.503906 C 260.289063 103.503906 264.765625 107.980469 264.765625 113.503906 \"/>\n",
       "<path style=\"fill-rule:nonzero;fill:rgb(100%,0%,0%);fill-opacity:1;stroke-width:1;stroke-linecap:butt;stroke-linejoin:miter;stroke:rgb(0%,0%,0%);stroke-opacity:1;stroke-miterlimit:10;\" d=\"M 311.84375 151.714844 C 311.84375 157.234375 307.367188 161.714844 301.84375 161.714844 C 296.320313 161.714844 291.84375 157.234375 291.84375 151.714844 C 291.84375 146.191406 296.320313 141.714844 301.84375 141.714844 C 307.367188 141.714844 311.84375 146.191406 311.84375 151.714844 \"/>\n",
       "<path style=\"fill-rule:nonzero;fill:rgb(100%,0%,0%);fill-opacity:1;stroke-width:1;stroke-linecap:butt;stroke-linejoin:miter;stroke:rgb(0%,0%,0%);stroke-opacity:1;stroke-miterlimit:10;\" d=\"M 348.539063 96.417969 C 348.539063 101.941406 344.058594 106.417969 338.539063 106.417969 C 333.015625 106.417969 328.539063 101.941406 328.539063 96.417969 C 328.539063 90.894531 333.015625 86.417969 338.539063 86.417969 C 344.058594 86.417969 348.539063 90.894531 348.539063 96.417969 \"/>\n",
       "<path style=\"fill-rule:nonzero;fill:rgb(100%,0%,0%);fill-opacity:1;stroke-width:1;stroke-linecap:butt;stroke-linejoin:miter;stroke:rgb(0%,0%,0%);stroke-opacity:1;stroke-miterlimit:10;\" d=\"M 326.164063 79.421875 C 326.164063 84.945313 321.6875 89.421875 316.164063 89.421875 C 310.640625 89.421875 306.164063 84.945313 306.164063 79.421875 C 306.164063 73.898438 310.640625 69.421875 316.164063 69.421875 C 321.6875 69.421875 326.164063 73.898438 326.164063 79.421875 \"/>\n",
       "<path style=\"fill-rule:nonzero;fill:rgb(100%,0%,0%);fill-opacity:1;stroke-width:1;stroke-linecap:butt;stroke-linejoin:miter;stroke:rgb(0%,0%,0%);stroke-opacity:1;stroke-miterlimit:10;\" d=\"M 34.675781 279.539063 C 34.675781 285.0625 30.195313 289.539063 24.675781 289.539063 C 19.152344 289.539063 14.675781 285.0625 14.675781 279.539063 C 14.675781 274.015625 19.152344 269.539063 24.675781 269.539063 C 30.195313 269.539063 34.675781 274.015625 34.675781 279.539063 \"/>\n",
       "<path style=\"fill-rule:nonzero;fill:rgb(100%,0%,0%);fill-opacity:1;stroke-width:1;stroke-linecap:butt;stroke-linejoin:miter;stroke:rgb(0%,0%,0%);stroke-opacity:1;stroke-miterlimit:10;\" d=\"M 30 245.070313 C 30 250.59375 25.523438 255.070313 20 255.070313 C 14.476563 255.070313 10 250.59375 10 245.070313 C 10 239.546875 14.476563 235.070313 20 235.070313 C 25.523438 235.070313 30 239.546875 30 245.070313 \"/>\n",
       "<path style=\"fill-rule:nonzero;fill:rgb(100%,0%,0%);fill-opacity:1;stroke-width:1;stroke-linecap:butt;stroke-linejoin:miter;stroke:rgb(0%,0%,0%);stroke-opacity:1;stroke-miterlimit:10;\" d=\"M 53.816406 197.148438 C 53.816406 202.671875 49.339844 207.148438 43.816406 207.148438 C 38.292969 207.148438 33.816406 202.671875 33.816406 197.148438 C 33.816406 191.625 38.292969 187.148438 43.816406 187.148438 C 49.339844 187.148438 53.816406 191.625 53.816406 197.148438 \"/>\n",
       "<path style=\"fill-rule:nonzero;fill:rgb(100%,0%,0%);fill-opacity:1;stroke-width:1;stroke-linecap:butt;stroke-linejoin:miter;stroke:rgb(0%,0%,0%);stroke-opacity:1;stroke-miterlimit:10;\" d=\"M 105.808594 188.515625 C 105.808594 194.039063 101.328125 198.515625 95.808594 198.515625 C 90.285156 198.515625 85.808594 194.039063 85.808594 188.515625 C 85.808594 182.992188 90.285156 178.515625 95.808594 178.515625 C 101.328125 178.515625 105.808594 182.992188 105.808594 188.515625 \"/>\n",
       "<path style=\"fill-rule:nonzero;fill:rgb(100%,0%,0%);fill-opacity:1;stroke-width:1;stroke-linecap:butt;stroke-linejoin:miter;stroke:rgb(0%,0%,0%);stroke-opacity:1;stroke-miterlimit:10;\" d=\"M 201.320313 370.433594 C 201.320313 375.957031 196.84375 380.433594 191.320313 380.433594 C 185.796875 380.433594 181.320313 375.957031 181.320313 370.433594 C 181.320313 364.910156 185.796875 360.433594 191.320313 360.433594 C 196.84375 360.433594 201.320313 364.910156 201.320313 370.433594 \"/>\n",
       "<path style=\"fill-rule:nonzero;fill:rgb(100%,0%,0%);fill-opacity:1;stroke-width:1;stroke-linecap:butt;stroke-linejoin:miter;stroke:rgb(0%,0%,0%);stroke-opacity:1;stroke-miterlimit:10;\" d=\"M 239.011719 373.527344 C 239.011719 379.050781 234.535156 383.527344 229.011719 383.527344 C 223.488281 383.527344 219.011719 379.050781 219.011719 373.527344 C 219.011719 368.003906 223.488281 363.527344 229.011719 363.527344 C 234.535156 363.527344 239.011719 368.003906 239.011719 373.527344 \"/>\n",
       "<path style=\"fill-rule:nonzero;fill:rgb(100%,0%,0%);fill-opacity:1;stroke-width:1;stroke-linecap:butt;stroke-linejoin:miter;stroke:rgb(0%,0%,0%);stroke-opacity:1;stroke-miterlimit:10;\" d=\"M 310.878906 276.914063 C 310.878906 282.4375 306.402344 286.914063 300.878906 286.914063 C 295.355469 286.914063 290.878906 282.4375 290.878906 276.914063 C 290.878906 271.390625 295.355469 266.914063 300.878906 266.914063 C 306.402344 266.914063 310.878906 271.390625 310.878906 276.914063 \"/>\n",
       "<path style=\"fill-rule:nonzero;fill:rgb(100%,0%,0%);fill-opacity:1;stroke-width:1;stroke-linecap:butt;stroke-linejoin:miter;stroke:rgb(0%,0%,0%);stroke-opacity:1;stroke-miterlimit:10;\" d=\"M 314.796875 314.679688 C 314.796875 320.203125 310.320313 324.679688 304.796875 324.679688 C 299.273438 324.679688 294.796875 320.203125 294.796875 314.679688 C 294.796875 309.15625 299.273438 304.679688 304.796875 304.679688 C 310.320313 304.679688 314.796875 309.15625 314.796875 314.679688 \"/>\n",
       "<path style=\"fill-rule:nonzero;fill:rgb(100%,0%,0%);fill-opacity:1;stroke-width:1;stroke-linecap:butt;stroke-linejoin:miter;stroke:rgb(0%,0%,0%);stroke-opacity:1;stroke-miterlimit:10;\" d=\"M 237.367188 24.671875 C 237.367188 30.195313 232.886719 34.671875 227.367188 34.671875 C 221.84375 34.671875 217.367188 30.195313 217.367188 24.671875 C 217.367188 19.148438 221.84375 14.671875 227.367188 14.671875 C 232.886719 14.671875 237.367188 19.148438 237.367188 24.671875 \"/>\n",
       "<path style=\"fill-rule:nonzero;fill:rgb(100%,0%,0%);fill-opacity:1;stroke-width:1;stroke-linecap:butt;stroke-linejoin:miter;stroke:rgb(0%,0%,0%);stroke-opacity:1;stroke-miterlimit:10;\" d=\"M 198.351563 36.96875 C 198.351563 42.492188 193.875 46.96875 188.351563 46.96875 C 182.828125 46.96875 178.351563 42.492188 178.351563 36.96875 C 178.351563 31.445313 182.828125 26.96875 188.351563 26.96875 C 193.875 26.96875 198.351563 31.445313 198.351563 36.96875 \"/>\n",
       "<path style=\"fill-rule:nonzero;fill:rgb(100%,0%,0%);fill-opacity:1;stroke-width:1;stroke-linecap:butt;stroke-linejoin:miter;stroke:rgb(0%,0%,0%);stroke-opacity:1;stroke-miterlimit:10;\" d=\"M 314.058594 34.925781 C 314.058594 40.449219 309.582031 44.925781 304.058594 44.925781 C 298.535156 44.925781 294.058594 40.449219 294.058594 34.925781 C 294.058594 29.402344 298.535156 24.925781 304.058594 24.925781 C 309.582031 24.925781 314.058594 29.402344 314.058594 34.925781 \"/>\n",
       "<path style=\"fill-rule:nonzero;fill:rgb(100%,0%,0%);fill-opacity:1;stroke-width:1;stroke-linecap:butt;stroke-linejoin:miter;stroke:rgb(0%,0%,0%);stroke-opacity:1;stroke-miterlimit:10;\" d=\"M 288.746094 20 C 288.746094 25.523438 284.265625 30 278.746094 30 C 273.222656 30 268.746094 25.523438 268.746094 20 C 268.746094 14.476563 273.222656 10 278.746094 10 C 284.265625 10 288.746094 14.476563 288.746094 20 \"/>\n",
       "<path style=\"fill-rule:nonzero;fill:rgb(100%,0%,0%);fill-opacity:1;stroke-width:1;stroke-linecap:butt;stroke-linejoin:miter;stroke:rgb(0%,0%,0%);stroke-opacity:1;stroke-miterlimit:10;\" d=\"M 91.734375 116.964844 C 91.734375 122.488281 87.257813 126.964844 81.734375 126.964844 C 76.210938 126.964844 71.734375 122.488281 71.734375 116.964844 C 71.734375 111.441406 76.210938 106.964844 81.734375 106.964844 C 87.257813 106.964844 91.734375 111.441406 91.734375 116.964844 \"/>\n",
       "<path style=\"fill-rule:nonzero;fill:rgb(100%,0%,0%);fill-opacity:1;stroke-width:1;stroke-linecap:butt;stroke-linejoin:miter;stroke:rgb(0%,0%,0%);stroke-opacity:1;stroke-miterlimit:10;\" d=\"M 83.984375 147.757813 C 83.984375 153.28125 79.507813 157.757813 73.984375 157.757813 C 68.460938 157.757813 63.984375 153.28125 63.984375 147.757813 C 63.984375 142.234375 68.460938 137.757813 73.984375 137.757813 C 79.507813 137.757813 83.984375 142.234375 83.984375 147.757813 \"/>\n",
       "<path style=\"fill-rule:nonzero;fill:rgb(100%,0%,0%);fill-opacity:1;stroke-width:1;stroke-linecap:butt;stroke-linejoin:miter;stroke:rgb(0%,0%,0%);stroke-opacity:1;stroke-miterlimit:10;\" d=\"M 164.457031 72.96875 C 164.457031 78.492188 159.980469 82.96875 154.457031 82.96875 C 148.9375 82.96875 144.457031 78.492188 144.457031 72.96875 C 144.457031 67.449219 148.9375 62.96875 154.457031 62.96875 C 159.980469 62.96875 164.457031 67.449219 164.457031 72.96875 \"/>\n",
       "<path style=\"fill-rule:nonzero;fill:rgb(100%,0%,0%);fill-opacity:1;stroke-width:1;stroke-linecap:butt;stroke-linejoin:miter;stroke:rgb(0%,0%,0%);stroke-opacity:1;stroke-miterlimit:10;\" d=\"M 127.492188 80.148438 C 127.492188 85.671875 123.015625 90.148438 117.492188 90.148438 C 111.96875 90.148438 107.492188 85.671875 107.492188 80.148438 C 107.492188 74.628906 111.96875 70.148438 117.492188 70.148438 C 123.015625 70.148438 127.492188 74.628906 127.492188 80.148438 \"/>\n",
       "<path style=\"fill-rule:nonzero;fill:rgb(100%,0%,0%);fill-opacity:1;stroke-width:1;stroke-linecap:butt;stroke-linejoin:miter;stroke:rgb(0%,0%,0%);stroke-opacity:1;stroke-miterlimit:10;\" d=\"M 503.230469 94.9375 C 503.230469 100.460938 498.753906 104.9375 493.230469 104.9375 C 487.707031 104.9375 483.230469 100.460938 483.230469 94.9375 C 483.230469 89.414063 487.707031 84.9375 493.230469 84.9375 C 498.753906 84.9375 503.230469 89.414063 503.230469 94.9375 \"/>\n",
       "<path style=\"fill-rule:nonzero;fill:rgb(100%,0%,0%);fill-opacity:1;stroke-width:1;stroke-linecap:butt;stroke-linejoin:miter;stroke:rgb(0%,0%,0%);stroke-opacity:1;stroke-miterlimit:10;\" d=\"M 473.511719 75.894531 C 473.511719 81.414063 469.035156 85.894531 463.511719 85.894531 C 457.988281 85.894531 453.511719 81.414063 453.511719 75.894531 C 453.511719 70.371094 457.988281 65.894531 463.511719 65.894531 C 469.035156 65.894531 473.511719 70.371094 473.511719 75.894531 \"/>\n",
       "<path style=\"fill-rule:nonzero;fill:rgb(100%,0%,0%);fill-opacity:1;stroke-width:1;stroke-linecap:butt;stroke-linejoin:miter;stroke:rgb(0%,0%,0%);stroke-opacity:1;stroke-miterlimit:10;\" d=\"M 431.398438 58.214844 C 431.398438 63.738281 426.921875 68.214844 421.398438 68.214844 C 415.875 68.214844 411.398438 63.738281 411.398438 58.214844 C 411.398438 52.691406 415.875 48.214844 421.398438 48.214844 C 426.921875 48.214844 431.398438 52.691406 431.398438 58.214844 \"/>\n",
       "<path style=\"fill-rule:nonzero;fill:rgb(100%,0%,0%);fill-opacity:1;stroke-width:1;stroke-linecap:butt;stroke-linejoin:miter;stroke:rgb(0%,0%,0%);stroke-opacity:1;stroke-miterlimit:10;\" d=\"M 405.640625 69.402344 C 405.640625 74.925781 401.160156 79.402344 395.640625 79.402344 C 390.117188 79.402344 385.640625 74.925781 385.640625 69.402344 C 385.640625 63.878906 390.117188 59.402344 395.640625 59.402344 C 401.160156 59.402344 405.640625 63.878906 405.640625 69.402344 \"/>\n",
       "<path style=\"fill-rule:nonzero;fill:rgb(100%,0%,0%);fill-opacity:1;stroke-width:1;stroke-linecap:butt;stroke-linejoin:miter;stroke:rgb(0%,0%,0%);stroke-opacity:1;stroke-miterlimit:10;\" d=\"M 542.3125 246.527344 C 542.3125 252.050781 537.835938 256.527344 532.3125 256.527344 C 526.789063 256.527344 522.3125 252.050781 522.3125 246.527344 C 522.3125 241.003906 526.789063 236.527344 532.3125 236.527344 C 537.835938 236.527344 542.3125 241.003906 542.3125 246.527344 \"/>\n",
       "<path style=\"fill-rule:nonzero;fill:rgb(100%,0%,0%);fill-opacity:1;stroke-width:1;stroke-linecap:butt;stroke-linejoin:miter;stroke:rgb(0%,0%,0%);stroke-opacity:1;stroke-miterlimit:10;\" d=\"M 577.808594 216.632813 C 577.808594 222.15625 573.332031 226.632813 567.808594 226.632813 C 562.289063 226.632813 557.808594 222.15625 557.808594 216.632813 C 557.808594 211.113281 562.289063 206.632813 567.808594 206.632813 C 573.332031 206.632813 577.808594 211.113281 577.808594 216.632813 \"/>\n",
       "<path style=\"fill-rule:nonzero;fill:rgb(100%,0%,0%);fill-opacity:1;stroke-width:1;stroke-linecap:butt;stroke-linejoin:miter;stroke:rgb(0%,0%,0%);stroke-opacity:1;stroke-miterlimit:10;\" d=\"M 532.191406 137.875 C 532.191406 143.398438 527.714844 147.875 522.191406 147.875 C 516.667969 147.875 512.191406 143.398438 512.191406 137.875 C 512.191406 132.351563 516.667969 127.875 522.191406 127.875 C 527.714844 127.875 532.191406 132.351563 532.191406 137.875 \"/>\n",
       "<path style=\"fill-rule:nonzero;fill:rgb(100%,0%,0%);fill-opacity:1;stroke-width:1;stroke-linecap:butt;stroke-linejoin:miter;stroke:rgb(0%,0%,0%);stroke-opacity:1;stroke-miterlimit:10;\" d=\"M 560.925781 162.832031 C 560.925781 168.355469 556.449219 172.832031 550.925781 172.832031 C 545.402344 172.832031 540.925781 168.355469 540.925781 162.832031 C 540.925781 157.308594 545.402344 152.832031 550.925781 152.832031 C 556.449219 152.832031 560.925781 157.308594 560.925781 162.832031 \"/>\n",
       "<path style=\"fill-rule:nonzero;fill:rgb(100%,0%,0%);fill-opacity:1;stroke-width:1;stroke-linecap:butt;stroke-linejoin:miter;stroke:rgb(0%,0%,0%);stroke-opacity:1;stroke-miterlimit:10;\" d=\"M 540.261719 461.925781 C 540.261719 467.449219 535.785156 471.925781 530.261719 471.925781 C 524.738281 471.925781 520.261719 467.449219 520.261719 461.925781 C 520.261719 456.402344 524.738281 451.925781 530.261719 451.925781 C 535.785156 451.925781 540.261719 456.402344 540.261719 461.925781 \"/>\n",
       "<path style=\"fill-rule:nonzero;fill:rgb(100%,0%,0%);fill-opacity:1;stroke-width:1;stroke-linecap:butt;stroke-linejoin:miter;stroke:rgb(0%,0%,0%);stroke-opacity:1;stroke-miterlimit:10;\" d=\"M 561.796875 430.777344 C 561.796875 436.300781 557.320313 440.777344 551.796875 440.777344 C 546.273438 440.777344 541.796875 436.300781 541.796875 430.777344 C 541.796875 425.253906 546.273438 420.777344 551.796875 420.777344 C 557.320313 420.777344 561.796875 425.253906 561.796875 430.777344 \"/>\n",
       "<path style=\"fill-rule:nonzero;fill:rgb(100%,0%,0%);fill-opacity:1;stroke-width:1;stroke-linecap:butt;stroke-linejoin:miter;stroke:rgb(0%,0%,0%);stroke-opacity:1;stroke-miterlimit:10;\" d=\"M 473.5 477.679688 C 473.5 483.199219 469.023438 487.679688 463.5 487.679688 C 457.980469 487.679688 453.5 483.199219 453.5 477.679688 C 453.5 472.15625 457.980469 467.679688 463.5 467.679688 C 469.023438 467.679688 473.5 472.15625 473.5 477.679688 \"/>\n",
       "<path style=\"fill-rule:nonzero;fill:rgb(100%,0%,0%);fill-opacity:1;stroke-width:1;stroke-linecap:butt;stroke-linejoin:miter;stroke:rgb(0%,0%,0%);stroke-opacity:1;stroke-miterlimit:10;\" d=\"M 502.847656 489.039063 C 502.847656 494.5625 498.371094 499.039063 492.847656 499.039063 C 487.324219 499.039063 482.847656 494.5625 482.847656 489.039063 C 482.847656 483.515625 487.324219 479.039063 492.847656 479.039063 C 498.371094 479.039063 502.847656 483.515625 502.847656 489.039063 \"/>\n",
       "<path style=\"fill-rule:nonzero;fill:rgb(100%,0%,0%);fill-opacity:1;stroke-width:1;stroke-linecap:butt;stroke-linejoin:miter;stroke:rgb(0%,0%,0%);stroke-opacity:1;stroke-miterlimit:10;\" d=\"M 590 306.015625 C 590 311.539063 585.523438 316.015625 580 316.015625 C 574.476563 316.015625 570 311.539063 570 306.015625 C 570 300.492188 574.476563 296.015625 580 296.015625 C 585.523438 296.015625 590 300.492188 590 306.015625 \"/>\n",
       "<path style=\"fill-rule:nonzero;fill:rgb(100%,0%,0%);fill-opacity:1;stroke-width:1;stroke-linecap:butt;stroke-linejoin:miter;stroke:rgb(0%,0%,0%);stroke-opacity:1;stroke-miterlimit:10;\" d=\"M 575.359375 277.4375 C 575.359375 282.960938 570.882813 287.4375 565.359375 287.4375 C 559.835938 287.4375 555.359375 282.960938 555.359375 277.4375 C 555.359375 271.914063 559.835938 267.4375 565.359375 267.4375 C 570.882813 267.4375 575.359375 271.914063 575.359375 277.4375 \"/>\n",
       "<path style=\"fill-rule:nonzero;fill:rgb(100%,0%,0%);fill-opacity:1;stroke-width:1;stroke-linecap:butt;stroke-linejoin:miter;stroke:rgb(0%,0%,0%);stroke-opacity:1;stroke-miterlimit:10;\" d=\"M 587.828125 354.894531 C 587.828125 360.417969 583.347656 364.894531 577.828125 364.894531 C 572.304688 364.894531 567.828125 360.417969 567.828125 354.894531 C 567.828125 349.371094 572.304688 344.894531 577.828125 344.894531 C 583.347656 344.894531 587.828125 349.371094 587.828125 354.894531 \"/>\n",
       "<path style=\"fill-rule:nonzero;fill:rgb(100%,0%,0%);fill-opacity:1;stroke-width:1;stroke-linecap:butt;stroke-linejoin:miter;stroke:rgb(0%,0%,0%);stroke-opacity:1;stroke-miterlimit:10;\" d=\"M 563.386719 381.417969 C 563.386719 386.941406 558.90625 391.417969 553.386719 391.417969 C 547.863281 391.417969 543.386719 386.941406 543.386719 381.417969 C 543.386719 375.894531 547.863281 371.417969 553.386719 371.417969 C 558.90625 371.417969 563.386719 375.894531 563.386719 381.417969 \"/>\n",
       "<path style=\"fill-rule:nonzero;fill:rgb(100%,0%,0%);fill-opacity:1;stroke-width:1;stroke-linecap:butt;stroke-linejoin:miter;stroke:rgb(0%,0%,0%);stroke-opacity:1;stroke-miterlimit:10;\" d=\"M 400.460938 560.601563 C 400.460938 566.125 395.980469 570.601563 390.460938 570.601563 C 384.9375 570.601563 380.460938 566.125 380.460938 560.601563 C 380.460938 555.078125 384.9375 550.601563 390.460938 550.601563 C 395.980469 550.601563 400.460938 555.078125 400.460938 560.601563 \"/>\n",
       "<path style=\"fill-rule:nonzero;fill:rgb(100%,0%,0%);fill-opacity:1;stroke-width:1;stroke-linecap:butt;stroke-linejoin:miter;stroke:rgb(0%,0%,0%);stroke-opacity:1;stroke-miterlimit:10;\" d=\"M 368.277344 572.085938 C 368.277344 577.609375 363.800781 582.085938 358.277344 582.085938 C 352.753906 582.085938 348.277344 577.609375 348.277344 572.085938 C 348.277344 566.5625 352.753906 562.085938 358.277344 562.085938 C 363.800781 562.085938 368.277344 566.5625 368.277344 572.085938 \"/>\n",
       "<path style=\"fill-rule:nonzero;fill:rgb(100%,0%,0%);fill-opacity:1;stroke-width:1;stroke-linecap:butt;stroke-linejoin:miter;stroke:rgb(0%,0%,0%);stroke-opacity:1;stroke-miterlimit:10;\" d=\"M 432.214844 532.472656 C 432.214844 537.992188 427.738281 542.472656 422.214844 542.472656 C 416.695313 542.472656 412.214844 537.992188 412.214844 532.472656 C 412.214844 526.949219 416.695313 522.472656 422.214844 522.472656 C 427.738281 522.472656 432.214844 526.949219 432.214844 532.472656 \"/>\n",
       "<path style=\"fill-rule:nonzero;fill:rgb(100%,0%,0%);fill-opacity:1;stroke-width:1;stroke-linecap:butt;stroke-linejoin:miter;stroke:rgb(0%,0%,0%);stroke-opacity:1;stroke-miterlimit:10;\" d=\"M 428.816406 499.625 C 428.816406 505.148438 424.339844 509.625 418.816406 509.625 C 413.292969 509.625 408.816406 505.148438 408.816406 499.625 C 408.816406 494.105469 413.292969 489.625 418.816406 489.625 C 424.339844 489.625 428.816406 494.105469 428.816406 499.625 \"/>\n",
       "<path style=\"fill-rule:nonzero;fill:rgb(100%,0%,0%);fill-opacity:1;stroke-width:1;stroke-linecap:butt;stroke-linejoin:miter;stroke:rgb(0%,0%,0%);stroke-opacity:1;stroke-miterlimit:10;\" d=\"M 244.683594 572.675781 C 244.683594 578.199219 240.203125 582.675781 234.683594 582.675781 C 229.160156 582.675781 224.683594 578.199219 224.683594 572.675781 C 224.683594 567.152344 229.160156 562.675781 234.683594 562.675781 C 240.203125 562.675781 244.683594 567.152344 244.683594 572.675781 \"/>\n",
       "<path style=\"fill-rule:nonzero;fill:rgb(100%,0%,0%);fill-opacity:1;stroke-width:1;stroke-linecap:butt;stroke-linejoin:miter;stroke:rgb(0%,0%,0%);stroke-opacity:1;stroke-miterlimit:10;\" d=\"M 219.421875 553.722656 C 219.421875 559.246094 214.945313 563.722656 209.421875 563.722656 C 203.898438 563.722656 199.421875 559.246094 199.421875 553.722656 C 199.421875 548.203125 203.898438 543.722656 209.421875 543.722656 C 214.945313 543.722656 219.421875 548.203125 219.421875 553.722656 \"/>\n",
       "<path style=\"fill-rule:nonzero;fill:rgb(100%,0%,0%);fill-opacity:1;stroke-width:1;stroke-linecap:butt;stroke-linejoin:miter;stroke:rgb(0%,0%,0%);stroke-opacity:1;stroke-miterlimit:10;\" d=\"M 292.644531 580 C 292.644531 585.523438 288.167969 590 282.644531 590 C 277.121094 590 272.644531 585.523438 272.644531 580 C 272.644531 574.476563 277.121094 570 282.644531 570 C 288.167969 570 292.644531 574.476563 292.644531 580 \"/>\n",
       "<path style=\"fill-rule:nonzero;fill:rgb(100%,0%,0%);fill-opacity:1;stroke-width:1;stroke-linecap:butt;stroke-linejoin:miter;stroke:rgb(0%,0%,0%);stroke-opacity:1;stroke-miterlimit:10;\" d=\"M 323.554688 564.988281 C 323.554688 570.511719 319.078125 574.988281 313.554688 574.988281 C 308.03125 574.988281 303.554688 570.511719 303.554688 564.988281 C 303.554688 559.464844 308.03125 554.988281 313.554688 554.988281 C 319.078125 554.988281 323.554688 559.464844 323.554688 564.988281 \"/>\n",
       "<path style=\"fill-rule:nonzero;fill:rgb(100%,0%,0%);fill-opacity:1;stroke-width:1;stroke-linecap:butt;stroke-linejoin:miter;stroke:rgb(0%,0%,0%);stroke-opacity:1;stroke-miterlimit:10;\" d=\"M 117.65625 499.324219 C 117.65625 504.847656 113.179688 509.324219 107.65625 509.324219 C 102.136719 509.324219 97.65625 504.847656 97.65625 499.324219 C 97.65625 493.804688 102.136719 489.324219 107.65625 489.324219 C 113.179688 489.324219 117.65625 493.804688 117.65625 499.324219 \"/>\n",
       "<path style=\"fill-rule:nonzero;fill:rgb(100%,0%,0%);fill-opacity:1;stroke-width:1;stroke-linecap:butt;stroke-linejoin:miter;stroke:rgb(0%,0%,0%);stroke-opacity:1;stroke-miterlimit:10;\" d=\"M 142.464844 524.238281 C 142.464844 529.757813 137.988281 534.238281 132.464844 534.238281 C 126.941406 534.238281 122.464844 529.757813 122.464844 524.238281 C 122.464844 518.714844 126.941406 514.238281 132.464844 514.238281 C 137.988281 514.238281 142.464844 518.714844 142.464844 524.238281 \"/>\n",
       "<path style=\"fill-rule:nonzero;fill:rgb(100%,0%,0%);fill-opacity:1;stroke-width:1;stroke-linecap:butt;stroke-linejoin:miter;stroke:rgb(0%,0%,0%);stroke-opacity:1;stroke-miterlimit:10;\" d=\"M 231.558594 483.902344 C 231.558594 489.425781 227.082031 493.902344 221.558594 493.902344 C 216.035156 493.902344 211.558594 489.425781 211.558594 483.902344 C 211.558594 478.378906 216.035156 473.902344 221.558594 473.902344 C 227.082031 473.902344 231.558594 478.378906 231.558594 483.902344 \"/>\n",
       "<path style=\"fill-rule:nonzero;fill:rgb(100%,0%,0%);fill-opacity:1;stroke-width:1;stroke-linecap:butt;stroke-linejoin:miter;stroke:rgb(0%,0%,0%);stroke-opacity:1;stroke-miterlimit:10;\" d=\"M 189.203125 522.566406 C 189.203125 528.085938 184.726563 532.566406 179.203125 532.566406 C 173.679688 532.566406 169.203125 528.085938 169.203125 522.566406 C 169.203125 517.042969 173.679688 512.566406 179.203125 512.566406 C 184.726563 512.566406 189.203125 517.042969 189.203125 522.566406 \"/>\n",
       "<path style=\"fill-rule:nonzero;fill:rgb(100%,0%,0%);fill-opacity:1;stroke-width:1;stroke-linecap:butt;stroke-linejoin:miter;stroke:rgb(0%,0%,0%);stroke-opacity:1;stroke-miterlimit:10;\" d=\"M 67.621094 437.875 C 67.621094 443.398438 63.144531 447.875 57.621094 447.875 C 52.097656 447.875 47.621094 443.398438 47.621094 437.875 C 47.621094 432.351563 52.097656 427.875 57.621094 427.875 C 63.144531 427.875 67.621094 432.351563 67.621094 437.875 \"/>\n",
       "<path style=\"fill-rule:nonzero;fill:rgb(100%,0%,0%);fill-opacity:1;stroke-width:1;stroke-linecap:butt;stroke-linejoin:miter;stroke:rgb(0%,0%,0%);stroke-opacity:1;stroke-miterlimit:10;\" d=\"M 85.917969 465.421875 C 85.917969 470.945313 81.441406 475.421875 75.917969 475.421875 C 70.394531 475.421875 65.917969 470.945313 65.917969 465.421875 C 65.917969 459.898438 70.394531 455.421875 75.917969 455.421875 C 81.441406 455.421875 85.917969 459.898438 85.917969 465.421875 \"/>\n",
       "<path style=\"fill-rule:nonzero;fill:rgb(100%,0%,0%);fill-opacity:1;stroke-width:1;stroke-linecap:butt;stroke-linejoin:miter;stroke:rgb(0%,0%,0%);stroke-opacity:1;stroke-miterlimit:10;\" d=\"M 52.71875 397.640625 C 52.71875 403.164063 48.242188 407.640625 42.71875 407.640625 C 37.195313 407.640625 32.71875 403.164063 32.71875 397.640625 C 32.71875 392.121094 37.195313 387.640625 42.71875 387.640625 C 48.242188 387.640625 52.71875 392.121094 52.71875 397.640625 \"/>\n",
       "<path style=\"fill-rule:nonzero;fill:rgb(100%,0%,0%);fill-opacity:1;stroke-width:1;stroke-linecap:butt;stroke-linejoin:miter;stroke:rgb(0%,0%,0%);stroke-opacity:1;stroke-miterlimit:10;\" d=\"M 62.105469 371.371094 C 62.105469 376.894531 57.628906 381.371094 52.105469 381.371094 C 46.582031 381.371094 42.105469 376.894531 42.105469 371.371094 C 42.105469 365.847656 46.582031 361.371094 52.105469 361.371094 C 57.628906 361.371094 62.105469 365.847656 62.105469 371.371094 \"/>\n",
       "</g>\n",
       "</svg>\n"
      ],
      "text/plain": [
       "<igraph.drawing.Plot at 0x6438c88>"
      ]
     },
     "execution_count": 17,
     "metadata": {},
     "output_type": "execute_result"
    }
   ],
   "source": [
    "plot(g1)"
   ]
  },
  {
   "cell_type": "code",
   "execution_count": 18,
   "metadata": {},
   "outputs": [
    {
     "name": "stdout",
     "output_type": "stream",
     "text": [
      "IGRAPH U--- 127 126 -- \n"
     ]
    }
   ],
   "source": [
    "summary(g1)"
   ]
  },
  {
   "cell_type": "code",
   "execution_count": 19,
   "metadata": {
    "collapsed": true
   },
   "outputs": [],
   "source": [
    "g2=Graph.Tree(127,2)"
   ]
  },
  {
   "cell_type": "code",
   "execution_count": 20,
   "metadata": {},
   "outputs": [
    {
     "data": {
      "text/plain": [
       "True"
      ]
     },
     "execution_count": 20,
     "metadata": {},
     "output_type": "execute_result"
    }
   ],
   "source": [
    "g2.get_edgelist()==g1.get_edgelist()"
   ]
  },
  {
   "cell_type": "code",
   "execution_count": 21,
   "metadata": {},
   "outputs": [
    {
     "data": {
      "text/plain": [
       "[(0, 1),\n",
       " (0, 2),\n",
       " (1, 3),\n",
       " (1, 4),\n",
       " (2, 5),\n",
       " (2, 6),\n",
       " (3, 7),\n",
       " (3, 8),\n",
       " (4, 9),\n",
       " (4, 10)]"
      ]
     },
     "execution_count": 21,
     "metadata": {},
     "output_type": "execute_result"
    }
   ],
   "source": [
    "g2.get_edgelist()[0:10] #得到前10个元素"
   ]
  },
  {
   "cell_type": "code",
   "execution_count": 22,
   "metadata": {
    "collapsed": true
   },
   "outputs": [],
   "source": [
    "# GRG:geometric random graph 几何随机图。\n",
    "# 在单位正方形内部随机均匀地选择n个点，并且通过边缘连接彼此比预定距离d更接近的点对。 在我们的例子中，n是100，d是0.2。\n",
    "\n",
    "g=Graph.GRG(100,0.2) "
   ]
  },
  {
   "cell_type": "code",
   "execution_count": 23,
   "metadata": {},
   "outputs": [
    {
     "data": {
      "image/svg+xml": [
       "<?xml version=\"1.0\" encoding=\"UTF-8\"?>\n",
       "<svg xmlns=\"http://www.w3.org/2000/svg\" xmlns:xlink=\"http://www.w3.org/1999/xlink\" width=\"600pt\" height=\"600pt\" viewBox=\"0 0 600 600\" version=\"1.1\">\n",
       "<g id=\"surface8\">\n",
       "<rect x=\"0\" y=\"0\" width=\"600\" height=\"600\" style=\"fill:rgb(100%,100%,100%);fill-opacity:1;stroke:none;\"/>\n",
       "<path style=\"fill:none;stroke-width:1;stroke-linecap:butt;stroke-linejoin:miter;stroke:rgb(26.666667%,26.666667%,26.666667%);stroke-opacity:1;stroke-miterlimit:10;\" d=\"M 20 305.351563 L 27.015625 301.066406 \"/>\n",
       "<path style=\"fill:none;stroke-width:1;stroke-linecap:butt;stroke-linejoin:miter;stroke:rgb(26.666667%,26.666667%,26.666667%);stroke-opacity:1;stroke-miterlimit:10;\" d=\"M 20 305.351563 L 39.085938 320.054688 \"/>\n",
       "<path style=\"fill:none;stroke-width:1;stroke-linecap:butt;stroke-linejoin:miter;stroke:rgb(26.666667%,26.666667%,26.666667%);stroke-opacity:1;stroke-miterlimit:10;\" d=\"M 20 305.351563 L 40.507813 304.5625 \"/>\n",
       "<path style=\"fill:none;stroke-width:1;stroke-linecap:butt;stroke-linejoin:miter;stroke:rgb(26.666667%,26.666667%,26.666667%);stroke-opacity:1;stroke-miterlimit:10;\" d=\"M 20 305.351563 L 57.089844 244.988281 \"/>\n",
       "<path style=\"fill:none;stroke-width:1;stroke-linecap:butt;stroke-linejoin:miter;stroke:rgb(26.666667%,26.666667%,26.666667%);stroke-opacity:1;stroke-miterlimit:10;\" d=\"M 20 305.351563 L 91.414063 391.121094 \"/>\n",
       "<path style=\"fill:none;stroke-width:1;stroke-linecap:butt;stroke-linejoin:miter;stroke:rgb(26.666667%,26.666667%,26.666667%);stroke-opacity:1;stroke-miterlimit:10;\" d=\"M 20 305.351563 L 97.242188 370.636719 \"/>\n",
       "<path style=\"fill:none;stroke-width:1;stroke-linecap:butt;stroke-linejoin:miter;stroke:rgb(26.666667%,26.666667%,26.666667%);stroke-opacity:1;stroke-miterlimit:10;\" d=\"M 27.015625 301.066406 L 39.085938 320.054688 \"/>\n",
       "<path style=\"fill:none;stroke-width:1;stroke-linecap:butt;stroke-linejoin:miter;stroke:rgb(26.666667%,26.666667%,26.666667%);stroke-opacity:1;stroke-miterlimit:10;\" d=\"M 27.015625 301.066406 L 40.507813 304.5625 \"/>\n",
       "<path style=\"fill:none;stroke-width:1;stroke-linecap:butt;stroke-linejoin:miter;stroke:rgb(26.666667%,26.666667%,26.666667%);stroke-opacity:1;stroke-miterlimit:10;\" d=\"M 27.015625 301.066406 L 57.089844 244.988281 \"/>\n",
       "<path style=\"fill:none;stroke-width:1;stroke-linecap:butt;stroke-linejoin:miter;stroke:rgb(26.666667%,26.666667%,26.666667%);stroke-opacity:1;stroke-miterlimit:10;\" d=\"M 27.015625 301.066406 L 91.414063 391.121094 \"/>\n",
       "<path style=\"fill:none;stroke-width:1;stroke-linecap:butt;stroke-linejoin:miter;stroke:rgb(26.666667%,26.666667%,26.666667%);stroke-opacity:1;stroke-miterlimit:10;\" d=\"M 27.015625 301.066406 L 97.242188 370.636719 \"/>\n",
       "<path style=\"fill:none;stroke-width:1;stroke-linecap:butt;stroke-linejoin:miter;stroke:rgb(26.666667%,26.666667%,26.666667%);stroke-opacity:1;stroke-miterlimit:10;\" d=\"M 30.269531 558.347656 L 36.761719 517.191406 \"/>\n",
       "<path style=\"fill:none;stroke-width:1;stroke-linecap:butt;stroke-linejoin:miter;stroke:rgb(26.666667%,26.666667%,26.666667%);stroke-opacity:1;stroke-miterlimit:10;\" d=\"M 30.269531 558.347656 L 39.761719 565.542969 \"/>\n",
       "<path style=\"fill:none;stroke-width:1;stroke-linecap:butt;stroke-linejoin:miter;stroke:rgb(26.666667%,26.666667%,26.666667%);stroke-opacity:1;stroke-miterlimit:10;\" d=\"M 30.269531 558.347656 L 55.101563 580 \"/>\n",
       "<path style=\"fill:none;stroke-width:1;stroke-linecap:butt;stroke-linejoin:miter;stroke:rgb(26.666667%,26.666667%,26.666667%);stroke-opacity:1;stroke-miterlimit:10;\" d=\"M 30.269531 558.347656 L 66.136719 474.6875 \"/>\n",
       "<path style=\"fill:none;stroke-width:1;stroke-linecap:butt;stroke-linejoin:miter;stroke:rgb(26.666667%,26.666667%,26.666667%);stroke-opacity:1;stroke-miterlimit:10;\" d=\"M 30.269531 558.347656 L 105.285156 579.144531 \"/>\n",
       "<path style=\"fill:none;stroke-width:1;stroke-linecap:butt;stroke-linejoin:miter;stroke:rgb(26.666667%,26.666667%,26.666667%);stroke-opacity:1;stroke-miterlimit:10;\" d=\"M 30.269531 558.347656 L 133.1875 533.15625 \"/>\n",
       "<path style=\"fill:none;stroke-width:1;stroke-linecap:butt;stroke-linejoin:miter;stroke:rgb(26.666667%,26.666667%,26.666667%);stroke-opacity:1;stroke-miterlimit:10;\" d=\"M 36.074219 437.21875 L 36.761719 517.191406 \"/>\n",
       "<path style=\"fill:none;stroke-width:1;stroke-linecap:butt;stroke-linejoin:miter;stroke:rgb(26.666667%,26.666667%,26.666667%);stroke-opacity:1;stroke-miterlimit:10;\" d=\"M 36.074219 437.21875 L 66.136719 474.6875 \"/>\n",
       "<path style=\"fill:none;stroke-width:1;stroke-linecap:butt;stroke-linejoin:miter;stroke:rgb(26.666667%,26.666667%,26.666667%);stroke-opacity:1;stroke-miterlimit:10;\" d=\"M 36.074219 437.21875 L 82.996094 403.160156 \"/>\n",
       "<path style=\"fill:none;stroke-width:1;stroke-linecap:butt;stroke-linejoin:miter;stroke:rgb(26.666667%,26.666667%,26.666667%);stroke-opacity:1;stroke-miterlimit:10;\" d=\"M 36.074219 437.21875 L 84.445313 422.046875 \"/>\n",
       "<path style=\"fill:none;stroke-width:1;stroke-linecap:butt;stroke-linejoin:miter;stroke:rgb(26.666667%,26.666667%,26.666667%);stroke-opacity:1;stroke-miterlimit:10;\" d=\"M 36.074219 437.21875 L 91.414063 391.121094 \"/>\n",
       "<path style=\"fill:none;stroke-width:1;stroke-linecap:butt;stroke-linejoin:miter;stroke:rgb(26.666667%,26.666667%,26.666667%);stroke-opacity:1;stroke-miterlimit:10;\" d=\"M 36.074219 437.21875 L 97.242188 370.636719 \"/>\n",
       "<path style=\"fill:none;stroke-width:1;stroke-linecap:butt;stroke-linejoin:miter;stroke:rgb(26.666667%,26.666667%,26.666667%);stroke-opacity:1;stroke-miterlimit:10;\" d=\"M 36.761719 517.191406 L 39.761719 565.542969 \"/>\n",
       "<path style=\"fill:none;stroke-width:1;stroke-linecap:butt;stroke-linejoin:miter;stroke:rgb(26.666667%,26.666667%,26.666667%);stroke-opacity:1;stroke-miterlimit:10;\" d=\"M 36.761719 517.191406 L 55.101563 580 \"/>\n",
       "<path style=\"fill:none;stroke-width:1;stroke-linecap:butt;stroke-linejoin:miter;stroke:rgb(26.666667%,26.666667%,26.666667%);stroke-opacity:1;stroke-miterlimit:10;\" d=\"M 36.761719 517.191406 L 66.136719 474.6875 \"/>\n",
       "<path style=\"fill:none;stroke-width:1;stroke-linecap:butt;stroke-linejoin:miter;stroke:rgb(26.666667%,26.666667%,26.666667%);stroke-opacity:1;stroke-miterlimit:10;\" d=\"M 36.761719 517.191406 L 84.445313 422.046875 \"/>\n",
       "<path style=\"fill:none;stroke-width:1;stroke-linecap:butt;stroke-linejoin:miter;stroke:rgb(26.666667%,26.666667%,26.666667%);stroke-opacity:1;stroke-miterlimit:10;\" d=\"M 36.761719 517.191406 L 105.285156 579.144531 \"/>\n",
       "<path style=\"fill:none;stroke-width:1;stroke-linecap:butt;stroke-linejoin:miter;stroke:rgb(26.666667%,26.666667%,26.666667%);stroke-opacity:1;stroke-miterlimit:10;\" d=\"M 36.761719 517.191406 L 133.1875 533.15625 \"/>\n",
       "<path style=\"fill:none;stroke-width:1;stroke-linecap:butt;stroke-linejoin:miter;stroke:rgb(26.666667%,26.666667%,26.666667%);stroke-opacity:1;stroke-miterlimit:10;\" d=\"M 39.085938 320.054688 L 40.507813 304.5625 \"/>\n",
       "<path style=\"fill:none;stroke-width:1;stroke-linecap:butt;stroke-linejoin:miter;stroke:rgb(26.666667%,26.666667%,26.666667%);stroke-opacity:1;stroke-miterlimit:10;\" d=\"M 39.085938 320.054688 L 57.089844 244.988281 \"/>\n",
       "<path style=\"fill:none;stroke-width:1;stroke-linecap:butt;stroke-linejoin:miter;stroke:rgb(26.666667%,26.666667%,26.666667%);stroke-opacity:1;stroke-miterlimit:10;\" d=\"M 39.085938 320.054688 L 82.996094 403.160156 \"/>\n",
       "<path style=\"fill:none;stroke-width:1;stroke-linecap:butt;stroke-linejoin:miter;stroke:rgb(26.666667%,26.666667%,26.666667%);stroke-opacity:1;stroke-miterlimit:10;\" d=\"M 39.085938 320.054688 L 84.445313 422.046875 \"/>\n",
       "<path style=\"fill:none;stroke-width:1;stroke-linecap:butt;stroke-linejoin:miter;stroke:rgb(26.666667%,26.666667%,26.666667%);stroke-opacity:1;stroke-miterlimit:10;\" d=\"M 39.085938 320.054688 L 91.414063 391.121094 \"/>\n",
       "<path style=\"fill:none;stroke-width:1;stroke-linecap:butt;stroke-linejoin:miter;stroke:rgb(26.666667%,26.666667%,26.666667%);stroke-opacity:1;stroke-miterlimit:10;\" d=\"M 39.085938 320.054688 L 97.242188 370.636719 \"/>\n",
       "<path style=\"fill:none;stroke-width:1;stroke-linecap:butt;stroke-linejoin:miter;stroke:rgb(26.666667%,26.666667%,26.666667%);stroke-opacity:1;stroke-miterlimit:10;\" d=\"M 39.085938 320.054688 L 136.058594 336.804688 \"/>\n",
       "<path style=\"fill:none;stroke-width:1;stroke-linecap:butt;stroke-linejoin:miter;stroke:rgb(26.666667%,26.666667%,26.666667%);stroke-opacity:1;stroke-miterlimit:10;\" d=\"M 39.761719 565.542969 L 55.101563 580 \"/>\n",
       "<path style=\"fill:none;stroke-width:1;stroke-linecap:butt;stroke-linejoin:miter;stroke:rgb(26.666667%,26.666667%,26.666667%);stroke-opacity:1;stroke-miterlimit:10;\" d=\"M 39.761719 565.542969 L 66.136719 474.6875 \"/>\n",
       "<path style=\"fill:none;stroke-width:1;stroke-linecap:butt;stroke-linejoin:miter;stroke:rgb(26.666667%,26.666667%,26.666667%);stroke-opacity:1;stroke-miterlimit:10;\" d=\"M 39.761719 565.542969 L 105.285156 579.144531 \"/>\n",
       "<path style=\"fill:none;stroke-width:1;stroke-linecap:butt;stroke-linejoin:miter;stroke:rgb(26.666667%,26.666667%,26.666667%);stroke-opacity:1;stroke-miterlimit:10;\" d=\"M 39.761719 565.542969 L 133.1875 533.15625 \"/>\n",
       "<path style=\"fill:none;stroke-width:1;stroke-linecap:butt;stroke-linejoin:miter;stroke:rgb(26.666667%,26.666667%,26.666667%);stroke-opacity:1;stroke-miterlimit:10;\" d=\"M 40.507813 304.5625 L 57.089844 244.988281 \"/>\n",
       "<path style=\"fill:none;stroke-width:1;stroke-linecap:butt;stroke-linejoin:miter;stroke:rgb(26.666667%,26.666667%,26.666667%);stroke-opacity:1;stroke-miterlimit:10;\" d=\"M 40.507813 304.5625 L 82.996094 403.160156 \"/>\n",
       "<path style=\"fill:none;stroke-width:1;stroke-linecap:butt;stroke-linejoin:miter;stroke:rgb(26.666667%,26.666667%,26.666667%);stroke-opacity:1;stroke-miterlimit:10;\" d=\"M 40.507813 304.5625 L 91.414063 391.121094 \"/>\n",
       "<path style=\"fill:none;stroke-width:1;stroke-linecap:butt;stroke-linejoin:miter;stroke:rgb(26.666667%,26.666667%,26.666667%);stroke-opacity:1;stroke-miterlimit:10;\" d=\"M 40.507813 304.5625 L 97.242188 370.636719 \"/>\n",
       "<path style=\"fill:none;stroke-width:1;stroke-linecap:butt;stroke-linejoin:miter;stroke:rgb(26.666667%,26.666667%,26.666667%);stroke-opacity:1;stroke-miterlimit:10;\" d=\"M 40.507813 304.5625 L 136.058594 336.804688 \"/>\n",
       "<path style=\"fill:none;stroke-width:1;stroke-linecap:butt;stroke-linejoin:miter;stroke:rgb(26.666667%,26.666667%,26.666667%);stroke-opacity:1;stroke-miterlimit:10;\" d=\"M 41.4375 64.097656 L 64.867188 156.015625 \"/>\n",
       "<path style=\"fill:none;stroke-width:1;stroke-linecap:butt;stroke-linejoin:miter;stroke:rgb(26.666667%,26.666667%,26.666667%);stroke-opacity:1;stroke-miterlimit:10;\" d=\"M 41.4375 64.097656 L 69.015625 111.015625 \"/>\n",
       "<path style=\"fill:none;stroke-width:1;stroke-linecap:butt;stroke-linejoin:miter;stroke:rgb(26.666667%,26.666667%,26.666667%);stroke-opacity:1;stroke-miterlimit:10;\" d=\"M 41.4375 64.097656 L 76.011719 102.992188 \"/>\n",
       "<path style=\"fill:none;stroke-width:1;stroke-linecap:butt;stroke-linejoin:miter;stroke:rgb(26.666667%,26.666667%,26.666667%);stroke-opacity:1;stroke-miterlimit:10;\" d=\"M 41.4375 64.097656 L 101.800781 22.425781 \"/>\n",
       "<path style=\"fill:none;stroke-width:1;stroke-linecap:butt;stroke-linejoin:miter;stroke:rgb(26.666667%,26.666667%,26.666667%);stroke-opacity:1;stroke-miterlimit:10;\" d=\"M 41.4375 64.097656 L 135.417969 23.199219 \"/>\n",
       "<path style=\"fill:none;stroke-width:1;stroke-linecap:butt;stroke-linejoin:miter;stroke:rgb(26.666667%,26.666667%,26.666667%);stroke-opacity:1;stroke-miterlimit:10;\" d=\"M 55.101563 580 L 66.136719 474.6875 \"/>\n",
       "<path style=\"fill:none;stroke-width:1;stroke-linecap:butt;stroke-linejoin:miter;stroke:rgb(26.666667%,26.666667%,26.666667%);stroke-opacity:1;stroke-miterlimit:10;\" d=\"M 55.101563 580 L 105.285156 579.144531 \"/>\n",
       "<path style=\"fill:none;stroke-width:1;stroke-linecap:butt;stroke-linejoin:miter;stroke:rgb(26.666667%,26.666667%,26.666667%);stroke-opacity:1;stroke-miterlimit:10;\" d=\"M 55.101563 580 L 133.1875 533.15625 \"/>\n",
       "<path style=\"fill:none;stroke-width:1;stroke-linecap:butt;stroke-linejoin:miter;stroke:rgb(26.666667%,26.666667%,26.666667%);stroke-opacity:1;stroke-miterlimit:10;\" d=\"M 57.089844 244.988281 L 64.867188 156.015625 \"/>\n",
       "<path style=\"fill:none;stroke-width:1;stroke-linecap:butt;stroke-linejoin:miter;stroke:rgb(26.666667%,26.666667%,26.666667%);stroke-opacity:1;stroke-miterlimit:10;\" d=\"M 57.089844 244.988281 L 89.820313 188.011719 \"/>\n",
       "<path style=\"fill:none;stroke-width:1;stroke-linecap:butt;stroke-linejoin:miter;stroke:rgb(26.666667%,26.666667%,26.666667%);stroke-opacity:1;stroke-miterlimit:10;\" d=\"M 64.867188 156.015625 L 69.015625 111.015625 \"/>\n",
       "<path style=\"fill:none;stroke-width:1;stroke-linecap:butt;stroke-linejoin:miter;stroke:rgb(26.666667%,26.666667%,26.666667%);stroke-opacity:1;stroke-miterlimit:10;\" d=\"M 64.867188 156.015625 L 76.011719 102.992188 \"/>\n",
       "<path style=\"fill:none;stroke-width:1;stroke-linecap:butt;stroke-linejoin:miter;stroke:rgb(26.666667%,26.666667%,26.666667%);stroke-opacity:1;stroke-miterlimit:10;\" d=\"M 64.867188 156.015625 L 89.820313 188.011719 \"/>\n",
       "<path style=\"fill:none;stroke-width:1;stroke-linecap:butt;stroke-linejoin:miter;stroke:rgb(26.666667%,26.666667%,26.666667%);stroke-opacity:1;stroke-miterlimit:10;\" d=\"M 64.867188 156.015625 L 151.542969 143.816406 \"/>\n",
       "<path style=\"fill:none;stroke-width:1;stroke-linecap:butt;stroke-linejoin:miter;stroke:rgb(26.666667%,26.666667%,26.666667%);stroke-opacity:1;stroke-miterlimit:10;\" d=\"M 66.136719 474.6875 L 82.996094 403.160156 \"/>\n",
       "<path style=\"fill:none;stroke-width:1;stroke-linecap:butt;stroke-linejoin:miter;stroke:rgb(26.666667%,26.666667%,26.666667%);stroke-opacity:1;stroke-miterlimit:10;\" d=\"M 66.136719 474.6875 L 84.445313 422.046875 \"/>\n",
       "<path style=\"fill:none;stroke-width:1;stroke-linecap:butt;stroke-linejoin:miter;stroke:rgb(26.666667%,26.666667%,26.666667%);stroke-opacity:1;stroke-miterlimit:10;\" d=\"M 66.136719 474.6875 L 91.414063 391.121094 \"/>\n",
       "<path style=\"fill:none;stroke-width:1;stroke-linecap:butt;stroke-linejoin:miter;stroke:rgb(26.666667%,26.666667%,26.666667%);stroke-opacity:1;stroke-miterlimit:10;\" d=\"M 66.136719 474.6875 L 97.242188 370.636719 \"/>\n",
       "<path style=\"fill:none;stroke-width:1;stroke-linecap:butt;stroke-linejoin:miter;stroke:rgb(26.666667%,26.666667%,26.666667%);stroke-opacity:1;stroke-miterlimit:10;\" d=\"M 66.136719 474.6875 L 105.285156 579.144531 \"/>\n",
       "<path style=\"fill:none;stroke-width:1;stroke-linecap:butt;stroke-linejoin:miter;stroke:rgb(26.666667%,26.666667%,26.666667%);stroke-opacity:1;stroke-miterlimit:10;\" d=\"M 66.136719 474.6875 L 133.1875 533.15625 \"/>\n",
       "<path style=\"fill:none;stroke-width:1;stroke-linecap:butt;stroke-linejoin:miter;stroke:rgb(26.666667%,26.666667%,26.666667%);stroke-opacity:1;stroke-miterlimit:10;\" d=\"M 69.015625 111.015625 L 76.011719 102.992188 \"/>\n",
       "<path style=\"fill:none;stroke-width:1;stroke-linecap:butt;stroke-linejoin:miter;stroke:rgb(26.666667%,26.666667%,26.666667%);stroke-opacity:1;stroke-miterlimit:10;\" d=\"M 69.015625 111.015625 L 89.820313 188.011719 \"/>\n",
       "<path style=\"fill:none;stroke-width:1;stroke-linecap:butt;stroke-linejoin:miter;stroke:rgb(26.666667%,26.666667%,26.666667%);stroke-opacity:1;stroke-miterlimit:10;\" d=\"M 69.015625 111.015625 L 101.800781 22.425781 \"/>\n",
       "<path style=\"fill:none;stroke-width:1;stroke-linecap:butt;stroke-linejoin:miter;stroke:rgb(26.666667%,26.666667%,26.666667%);stroke-opacity:1;stroke-miterlimit:10;\" d=\"M 69.015625 111.015625 L 135.417969 23.199219 \"/>\n",
       "<path style=\"fill:none;stroke-width:1;stroke-linecap:butt;stroke-linejoin:miter;stroke:rgb(26.666667%,26.666667%,26.666667%);stroke-opacity:1;stroke-miterlimit:10;\" d=\"M 69.015625 111.015625 L 151.542969 143.816406 \"/>\n",
       "<path style=\"fill:none;stroke-width:1;stroke-linecap:butt;stroke-linejoin:miter;stroke:rgb(26.666667%,26.666667%,26.666667%);stroke-opacity:1;stroke-miterlimit:10;\" d=\"M 69.015625 111.015625 L 165.398438 91.011719 \"/>\n",
       "<path style=\"fill:none;stroke-width:1;stroke-linecap:butt;stroke-linejoin:miter;stroke:rgb(26.666667%,26.666667%,26.666667%);stroke-opacity:1;stroke-miterlimit:10;\" d=\"M 69.015625 111.015625 L 167.820313 98 \"/>\n",
       "<path style=\"fill:none;stroke-width:1;stroke-linecap:butt;stroke-linejoin:miter;stroke:rgb(26.666667%,26.666667%,26.666667%);stroke-opacity:1;stroke-miterlimit:10;\" d=\"M 76.011719 102.992188 L 89.820313 188.011719 \"/>\n",
       "<path style=\"fill:none;stroke-width:1;stroke-linecap:butt;stroke-linejoin:miter;stroke:rgb(26.666667%,26.666667%,26.666667%);stroke-opacity:1;stroke-miterlimit:10;\" d=\"M 76.011719 102.992188 L 101.800781 22.425781 \"/>\n",
       "<path style=\"fill:none;stroke-width:1;stroke-linecap:butt;stroke-linejoin:miter;stroke:rgb(26.666667%,26.666667%,26.666667%);stroke-opacity:1;stroke-miterlimit:10;\" d=\"M 76.011719 102.992188 L 135.417969 23.199219 \"/>\n",
       "<path style=\"fill:none;stroke-width:1;stroke-linecap:butt;stroke-linejoin:miter;stroke:rgb(26.666667%,26.666667%,26.666667%);stroke-opacity:1;stroke-miterlimit:10;\" d=\"M 76.011719 102.992188 L 151.542969 143.816406 \"/>\n",
       "<path style=\"fill:none;stroke-width:1;stroke-linecap:butt;stroke-linejoin:miter;stroke:rgb(26.666667%,26.666667%,26.666667%);stroke-opacity:1;stroke-miterlimit:10;\" d=\"M 76.011719 102.992188 L 165.398438 91.011719 \"/>\n",
       "<path style=\"fill:none;stroke-width:1;stroke-linecap:butt;stroke-linejoin:miter;stroke:rgb(26.666667%,26.666667%,26.666667%);stroke-opacity:1;stroke-miterlimit:10;\" d=\"M 76.011719 102.992188 L 167.820313 98 \"/>\n",
       "<path style=\"fill:none;stroke-width:1;stroke-linecap:butt;stroke-linejoin:miter;stroke:rgb(26.666667%,26.666667%,26.666667%);stroke-opacity:1;stroke-miterlimit:10;\" d=\"M 82.996094 403.160156 L 84.445313 422.046875 \"/>\n",
       "<path style=\"fill:none;stroke-width:1;stroke-linecap:butt;stroke-linejoin:miter;stroke:rgb(26.666667%,26.666667%,26.666667%);stroke-opacity:1;stroke-miterlimit:10;\" d=\"M 82.996094 403.160156 L 91.414063 391.121094 \"/>\n",
       "<path style=\"fill:none;stroke-width:1;stroke-linecap:butt;stroke-linejoin:miter;stroke:rgb(26.666667%,26.666667%,26.666667%);stroke-opacity:1;stroke-miterlimit:10;\" d=\"M 82.996094 403.160156 L 97.242188 370.636719 \"/>\n",
       "<path style=\"fill:none;stroke-width:1;stroke-linecap:butt;stroke-linejoin:miter;stroke:rgb(26.666667%,26.666667%,26.666667%);stroke-opacity:1;stroke-miterlimit:10;\" d=\"M 82.996094 403.160156 L 136.058594 336.804688 \"/>\n",
       "<path style=\"fill:none;stroke-width:1;stroke-linecap:butt;stroke-linejoin:miter;stroke:rgb(26.666667%,26.666667%,26.666667%);stroke-opacity:1;stroke-miterlimit:10;\" d=\"M 82.996094 403.160156 L 161.101563 354.777344 \"/>\n",
       "<path style=\"fill:none;stroke-width:1;stroke-linecap:butt;stroke-linejoin:miter;stroke:rgb(26.666667%,26.666667%,26.666667%);stroke-opacity:1;stroke-miterlimit:10;\" d=\"M 82.996094 403.160156 L 172.605469 346.925781 \"/>\n",
       "<path style=\"fill:none;stroke-width:1;stroke-linecap:butt;stroke-linejoin:miter;stroke:rgb(26.666667%,26.666667%,26.666667%);stroke-opacity:1;stroke-miterlimit:10;\" d=\"M 84.445313 422.046875 L 91.414063 391.121094 \"/>\n",
       "<path style=\"fill:none;stroke-width:1;stroke-linecap:butt;stroke-linejoin:miter;stroke:rgb(26.666667%,26.666667%,26.666667%);stroke-opacity:1;stroke-miterlimit:10;\" d=\"M 84.445313 422.046875 L 97.242188 370.636719 \"/>\n",
       "<path style=\"fill:none;stroke-width:1;stroke-linecap:butt;stroke-linejoin:miter;stroke:rgb(26.666667%,26.666667%,26.666667%);stroke-opacity:1;stroke-miterlimit:10;\" d=\"M 84.445313 422.046875 L 136.058594 336.804688 \"/>\n",
       "<path style=\"fill:none;stroke-width:1;stroke-linecap:butt;stroke-linejoin:miter;stroke:rgb(26.666667%,26.666667%,26.666667%);stroke-opacity:1;stroke-miterlimit:10;\" d=\"M 84.445313 422.046875 L 161.101563 354.777344 \"/>\n",
       "<path style=\"fill:none;stroke-width:1;stroke-linecap:butt;stroke-linejoin:miter;stroke:rgb(26.666667%,26.666667%,26.666667%);stroke-opacity:1;stroke-miterlimit:10;\" d=\"M 89.820313 188.011719 L 151.542969 143.816406 \"/>\n",
       "<path style=\"fill:none;stroke-width:1;stroke-linecap:butt;stroke-linejoin:miter;stroke:rgb(26.666667%,26.666667%,26.666667%);stroke-opacity:1;stroke-miterlimit:10;\" d=\"M 91.414063 391.121094 L 97.242188 370.636719 \"/>\n",
       "<path style=\"fill:none;stroke-width:1;stroke-linecap:butt;stroke-linejoin:miter;stroke:rgb(26.666667%,26.666667%,26.666667%);stroke-opacity:1;stroke-miterlimit:10;\" d=\"M 91.414063 391.121094 L 136.058594 336.804688 \"/>\n",
       "<path style=\"fill:none;stroke-width:1;stroke-linecap:butt;stroke-linejoin:miter;stroke:rgb(26.666667%,26.666667%,26.666667%);stroke-opacity:1;stroke-miterlimit:10;\" d=\"M 91.414063 391.121094 L 161.101563 354.777344 \"/>\n",
       "<path style=\"fill:none;stroke-width:1;stroke-linecap:butt;stroke-linejoin:miter;stroke:rgb(26.666667%,26.666667%,26.666667%);stroke-opacity:1;stroke-miterlimit:10;\" d=\"M 91.414063 391.121094 L 172.605469 346.925781 \"/>\n",
       "<path style=\"fill:none;stroke-width:1;stroke-linecap:butt;stroke-linejoin:miter;stroke:rgb(26.666667%,26.666667%,26.666667%);stroke-opacity:1;stroke-miterlimit:10;\" d=\"M 91.414063 391.121094 L 196.996094 391.988281 \"/>\n",
       "<path style=\"fill:none;stroke-width:1;stroke-linecap:butt;stroke-linejoin:miter;stroke:rgb(26.666667%,26.666667%,26.666667%);stroke-opacity:1;stroke-miterlimit:10;\" d=\"M 91.414063 391.121094 L 201.992188 410.558594 \"/>\n",
       "<path style=\"fill:none;stroke-width:1;stroke-linecap:butt;stroke-linejoin:miter;stroke:rgb(26.666667%,26.666667%,26.666667%);stroke-opacity:1;stroke-miterlimit:10;\" d=\"M 97.242188 370.636719 L 136.058594 336.804688 \"/>\n",
       "<path style=\"fill:none;stroke-width:1;stroke-linecap:butt;stroke-linejoin:miter;stroke:rgb(26.666667%,26.666667%,26.666667%);stroke-opacity:1;stroke-miterlimit:10;\" d=\"M 97.242188 370.636719 L 161.101563 354.777344 \"/>\n",
       "<path style=\"fill:none;stroke-width:1;stroke-linecap:butt;stroke-linejoin:miter;stroke:rgb(26.666667%,26.666667%,26.666667%);stroke-opacity:1;stroke-miterlimit:10;\" d=\"M 97.242188 370.636719 L 172.605469 346.925781 \"/>\n",
       "<path style=\"fill:none;stroke-width:1;stroke-linecap:butt;stroke-linejoin:miter;stroke:rgb(26.666667%,26.666667%,26.666667%);stroke-opacity:1;stroke-miterlimit:10;\" d=\"M 97.242188 370.636719 L 196.996094 391.988281 \"/>\n",
       "<path style=\"fill:none;stroke-width:1;stroke-linecap:butt;stroke-linejoin:miter;stroke:rgb(26.666667%,26.666667%,26.666667%);stroke-opacity:1;stroke-miterlimit:10;\" d=\"M 97.242188 370.636719 L 201.992188 410.558594 \"/>\n",
       "<path style=\"fill:none;stroke-width:1;stroke-linecap:butt;stroke-linejoin:miter;stroke:rgb(26.666667%,26.666667%,26.666667%);stroke-opacity:1;stroke-miterlimit:10;\" d=\"M 97.242188 370.636719 L 209.992188 359.6875 \"/>\n",
       "<path style=\"fill:none;stroke-width:1;stroke-linecap:butt;stroke-linejoin:miter;stroke:rgb(26.666667%,26.666667%,26.666667%);stroke-opacity:1;stroke-miterlimit:10;\" d=\"M 101.800781 22.425781 L 135.417969 23.199219 \"/>\n",
       "<path style=\"fill:none;stroke-width:1;stroke-linecap:butt;stroke-linejoin:miter;stroke:rgb(26.666667%,26.666667%,26.666667%);stroke-opacity:1;stroke-miterlimit:10;\" d=\"M 101.800781 22.425781 L 165.398438 91.011719 \"/>\n",
       "<path style=\"fill:none;stroke-width:1;stroke-linecap:butt;stroke-linejoin:miter;stroke:rgb(26.666667%,26.666667%,26.666667%);stroke-opacity:1;stroke-miterlimit:10;\" d=\"M 101.800781 22.425781 L 167.820313 98 \"/>\n",
       "<path style=\"fill:none;stroke-width:1;stroke-linecap:butt;stroke-linejoin:miter;stroke:rgb(26.666667%,26.666667%,26.666667%);stroke-opacity:1;stroke-miterlimit:10;\" d=\"M 101.800781 22.425781 L 210.867188 33.207031 \"/>\n",
       "<path style=\"fill:none;stroke-width:1;stroke-linecap:butt;stroke-linejoin:miter;stroke:rgb(26.666667%,26.666667%,26.666667%);stroke-opacity:1;stroke-miterlimit:10;\" d=\"M 105.285156 579.144531 L 133.1875 533.15625 \"/>\n",
       "<path style=\"fill:none;stroke-width:1;stroke-linecap:butt;stroke-linejoin:miter;stroke:rgb(26.666667%,26.666667%,26.666667%);stroke-opacity:1;stroke-miterlimit:10;\" d=\"M 105.285156 579.144531 L 172.691406 549.578125 \"/>\n",
       "<path style=\"fill:none;stroke-width:1;stroke-linecap:butt;stroke-linejoin:miter;stroke:rgb(26.666667%,26.666667%,26.666667%);stroke-opacity:1;stroke-miterlimit:10;\" d=\"M 133.1875 533.15625 L 172.691406 549.578125 \"/>\n",
       "<path style=\"fill:none;stroke-width:1;stroke-linecap:butt;stroke-linejoin:miter;stroke:rgb(26.666667%,26.666667%,26.666667%);stroke-opacity:1;stroke-miterlimit:10;\" d=\"M 133.1875 533.15625 L 221.703125 554.644531 \"/>\n",
       "<path style=\"fill:none;stroke-width:1;stroke-linecap:butt;stroke-linejoin:miter;stroke:rgb(26.666667%,26.666667%,26.666667%);stroke-opacity:1;stroke-miterlimit:10;\" d=\"M 133.1875 533.15625 L 230.273438 503.261719 \"/>\n",
       "<path style=\"fill:none;stroke-width:1;stroke-linecap:butt;stroke-linejoin:miter;stroke:rgb(26.666667%,26.666667%,26.666667%);stroke-opacity:1;stroke-miterlimit:10;\" d=\"M 135.417969 23.199219 L 165.398438 91.011719 \"/>\n",
       "<path style=\"fill:none;stroke-width:1;stroke-linecap:butt;stroke-linejoin:miter;stroke:rgb(26.666667%,26.666667%,26.666667%);stroke-opacity:1;stroke-miterlimit:10;\" d=\"M 135.417969 23.199219 L 167.820313 98 \"/>\n",
       "<path style=\"fill:none;stroke-width:1;stroke-linecap:butt;stroke-linejoin:miter;stroke:rgb(26.666667%,26.666667%,26.666667%);stroke-opacity:1;stroke-miterlimit:10;\" d=\"M 135.417969 23.199219 L 203.203125 86.972656 \"/>\n",
       "<path style=\"fill:none;stroke-width:1;stroke-linecap:butt;stroke-linejoin:miter;stroke:rgb(26.666667%,26.666667%,26.666667%);stroke-opacity:1;stroke-miterlimit:10;\" d=\"M 135.417969 23.199219 L 210.867188 33.207031 \"/>\n",
       "<path style=\"fill:none;stroke-width:1;stroke-linecap:butt;stroke-linejoin:miter;stroke:rgb(26.666667%,26.666667%,26.666667%);stroke-opacity:1;stroke-miterlimit:10;\" d=\"M 136.058594 336.804688 L 161.101563 354.777344 \"/>\n",
       "<path style=\"fill:none;stroke-width:1;stroke-linecap:butt;stroke-linejoin:miter;stroke:rgb(26.666667%,26.666667%,26.666667%);stroke-opacity:1;stroke-miterlimit:10;\" d=\"M 136.058594 336.804688 L 172.605469 346.925781 \"/>\n",
       "<path style=\"fill:none;stroke-width:1;stroke-linecap:butt;stroke-linejoin:miter;stroke:rgb(26.666667%,26.666667%,26.666667%);stroke-opacity:1;stroke-miterlimit:10;\" d=\"M 136.058594 336.804688 L 196.996094 391.988281 \"/>\n",
       "<path style=\"fill:none;stroke-width:1;stroke-linecap:butt;stroke-linejoin:miter;stroke:rgb(26.666667%,26.666667%,26.666667%);stroke-opacity:1;stroke-miterlimit:10;\" d=\"M 136.058594 336.804688 L 201.992188 410.558594 \"/>\n",
       "<path style=\"fill:none;stroke-width:1;stroke-linecap:butt;stroke-linejoin:miter;stroke:rgb(26.666667%,26.666667%,26.666667%);stroke-opacity:1;stroke-miterlimit:10;\" d=\"M 136.058594 336.804688 L 209.992188 359.6875 \"/>\n",
       "<path style=\"fill:none;stroke-width:1;stroke-linecap:butt;stroke-linejoin:miter;stroke:rgb(26.666667%,26.666667%,26.666667%);stroke-opacity:1;stroke-miterlimit:10;\" d=\"M 136.058594 336.804688 L 210.46875 295.957031 \"/>\n",
       "<path style=\"fill:none;stroke-width:1;stroke-linecap:butt;stroke-linejoin:miter;stroke:rgb(26.666667%,26.666667%,26.666667%);stroke-opacity:1;stroke-miterlimit:10;\" d=\"M 136.058594 336.804688 L 244.84375 311.238281 \"/>\n",
       "<path style=\"fill:none;stroke-width:1;stroke-linecap:butt;stroke-linejoin:miter;stroke:rgb(26.666667%,26.666667%,26.666667%);stroke-opacity:1;stroke-miterlimit:10;\" d=\"M 151.542969 143.816406 L 165.398438 91.011719 \"/>\n",
       "<path style=\"fill:none;stroke-width:1;stroke-linecap:butt;stroke-linejoin:miter;stroke:rgb(26.666667%,26.666667%,26.666667%);stroke-opacity:1;stroke-miterlimit:10;\" d=\"M 151.542969 143.816406 L 167.820313 98 \"/>\n",
       "<path style=\"fill:none;stroke-width:1;stroke-linecap:butt;stroke-linejoin:miter;stroke:rgb(26.666667%,26.666667%,26.666667%);stroke-opacity:1;stroke-miterlimit:10;\" d=\"M 151.542969 143.816406 L 203.203125 86.972656 \"/>\n",
       "<path style=\"fill:none;stroke-width:1;stroke-linecap:butt;stroke-linejoin:miter;stroke:rgb(26.666667%,26.666667%,26.666667%);stroke-opacity:1;stroke-miterlimit:10;\" d=\"M 151.542969 143.816406 L 217.132813 223.738281 \"/>\n",
       "<path style=\"fill:none;stroke-width:1;stroke-linecap:butt;stroke-linejoin:miter;stroke:rgb(26.666667%,26.666667%,26.666667%);stroke-opacity:1;stroke-miterlimit:10;\" d=\"M 151.542969 143.816406 L 258.171875 104.753906 \"/>\n",
       "<path style=\"fill:none;stroke-width:1;stroke-linecap:butt;stroke-linejoin:miter;stroke:rgb(26.666667%,26.666667%,26.666667%);stroke-opacity:1;stroke-miterlimit:10;\" d=\"M 161.101563 354.777344 L 172.605469 346.925781 \"/>\n",
       "<path style=\"fill:none;stroke-width:1;stroke-linecap:butt;stroke-linejoin:miter;stroke:rgb(26.666667%,26.666667%,26.666667%);stroke-opacity:1;stroke-miterlimit:10;\" d=\"M 161.101563 354.777344 L 196.996094 391.988281 \"/>\n",
       "<path style=\"fill:none;stroke-width:1;stroke-linecap:butt;stroke-linejoin:miter;stroke:rgb(26.666667%,26.666667%,26.666667%);stroke-opacity:1;stroke-miterlimit:10;\" d=\"M 161.101563 354.777344 L 201.992188 410.558594 \"/>\n",
       "<path style=\"fill:none;stroke-width:1;stroke-linecap:butt;stroke-linejoin:miter;stroke:rgb(26.666667%,26.666667%,26.666667%);stroke-opacity:1;stroke-miterlimit:10;\" d=\"M 161.101563 354.777344 L 209.992188 359.6875 \"/>\n",
       "<path style=\"fill:none;stroke-width:1;stroke-linecap:butt;stroke-linejoin:miter;stroke:rgb(26.666667%,26.666667%,26.666667%);stroke-opacity:1;stroke-miterlimit:10;\" d=\"M 161.101563 354.777344 L 210.46875 295.957031 \"/>\n",
       "<path style=\"fill:none;stroke-width:1;stroke-linecap:butt;stroke-linejoin:miter;stroke:rgb(26.666667%,26.666667%,26.666667%);stroke-opacity:1;stroke-miterlimit:10;\" d=\"M 161.101563 354.777344 L 244.84375 311.238281 \"/>\n",
       "<path style=\"fill:none;stroke-width:1;stroke-linecap:butt;stroke-linejoin:miter;stroke:rgb(26.666667%,26.666667%,26.666667%);stroke-opacity:1;stroke-miterlimit:10;\" d=\"M 161.101563 354.777344 L 254.144531 417.886719 \"/>\n",
       "<path style=\"fill:none;stroke-width:1;stroke-linecap:butt;stroke-linejoin:miter;stroke:rgb(26.666667%,26.666667%,26.666667%);stroke-opacity:1;stroke-miterlimit:10;\" d=\"M 161.101563 354.777344 L 254.8125 407.835938 \"/>\n",
       "<path style=\"fill:none;stroke-width:1;stroke-linecap:butt;stroke-linejoin:miter;stroke:rgb(26.666667%,26.666667%,26.666667%);stroke-opacity:1;stroke-miterlimit:10;\" d=\"M 165.398438 91.011719 L 167.820313 98 \"/>\n",
       "<path style=\"fill:none;stroke-width:1;stroke-linecap:butt;stroke-linejoin:miter;stroke:rgb(26.666667%,26.666667%,26.666667%);stroke-opacity:1;stroke-miterlimit:10;\" d=\"M 165.398438 91.011719 L 203.203125 86.972656 \"/>\n",
       "<path style=\"fill:none;stroke-width:1;stroke-linecap:butt;stroke-linejoin:miter;stroke:rgb(26.666667%,26.666667%,26.666667%);stroke-opacity:1;stroke-miterlimit:10;\" d=\"M 165.398438 91.011719 L 210.867188 33.207031 \"/>\n",
       "<path style=\"fill:none;stroke-width:1;stroke-linecap:butt;stroke-linejoin:miter;stroke:rgb(26.666667%,26.666667%,26.666667%);stroke-opacity:1;stroke-miterlimit:10;\" d=\"M 165.398438 91.011719 L 253.222656 55.703125 \"/>\n",
       "<path style=\"fill:none;stroke-width:1;stroke-linecap:butt;stroke-linejoin:miter;stroke:rgb(26.666667%,26.666667%,26.666667%);stroke-opacity:1;stroke-miterlimit:10;\" d=\"M 165.398438 91.011719 L 258.171875 104.753906 \"/>\n",
       "<path style=\"fill:none;stroke-width:1;stroke-linecap:butt;stroke-linejoin:miter;stroke:rgb(26.666667%,26.666667%,26.666667%);stroke-opacity:1;stroke-miterlimit:10;\" d=\"M 167.820313 98 L 203.203125 86.972656 \"/>\n",
       "<path style=\"fill:none;stroke-width:1;stroke-linecap:butt;stroke-linejoin:miter;stroke:rgb(26.666667%,26.666667%,26.666667%);stroke-opacity:1;stroke-miterlimit:10;\" d=\"M 167.820313 98 L 210.867188 33.207031 \"/>\n",
       "<path style=\"fill:none;stroke-width:1;stroke-linecap:butt;stroke-linejoin:miter;stroke:rgb(26.666667%,26.666667%,26.666667%);stroke-opacity:1;stroke-miterlimit:10;\" d=\"M 167.820313 98 L 253.222656 55.703125 \"/>\n",
       "<path style=\"fill:none;stroke-width:1;stroke-linecap:butt;stroke-linejoin:miter;stroke:rgb(26.666667%,26.666667%,26.666667%);stroke-opacity:1;stroke-miterlimit:10;\" d=\"M 167.820313 98 L 258.171875 104.753906 \"/>\n",
       "<path style=\"fill:none;stroke-width:1;stroke-linecap:butt;stroke-linejoin:miter;stroke:rgb(26.666667%,26.666667%,26.666667%);stroke-opacity:1;stroke-miterlimit:10;\" d=\"M 172.605469 346.925781 L 196.996094 391.988281 \"/>\n",
       "<path style=\"fill:none;stroke-width:1;stroke-linecap:butt;stroke-linejoin:miter;stroke:rgb(26.666667%,26.666667%,26.666667%);stroke-opacity:1;stroke-miterlimit:10;\" d=\"M 172.605469 346.925781 L 201.992188 410.558594 \"/>\n",
       "<path style=\"fill:none;stroke-width:1;stroke-linecap:butt;stroke-linejoin:miter;stroke:rgb(26.666667%,26.666667%,26.666667%);stroke-opacity:1;stroke-miterlimit:10;\" d=\"M 172.605469 346.925781 L 209.992188 359.6875 \"/>\n",
       "<path style=\"fill:none;stroke-width:1;stroke-linecap:butt;stroke-linejoin:miter;stroke:rgb(26.666667%,26.666667%,26.666667%);stroke-opacity:1;stroke-miterlimit:10;\" d=\"M 172.605469 346.925781 L 210.46875 295.957031 \"/>\n",
       "<path style=\"fill:none;stroke-width:1;stroke-linecap:butt;stroke-linejoin:miter;stroke:rgb(26.666667%,26.666667%,26.666667%);stroke-opacity:1;stroke-miterlimit:10;\" d=\"M 172.605469 346.925781 L 244.84375 311.238281 \"/>\n",
       "<path style=\"fill:none;stroke-width:1;stroke-linecap:butt;stroke-linejoin:miter;stroke:rgb(26.666667%,26.666667%,26.666667%);stroke-opacity:1;stroke-miterlimit:10;\" d=\"M 172.605469 346.925781 L 254.144531 417.886719 \"/>\n",
       "<path style=\"fill:none;stroke-width:1;stroke-linecap:butt;stroke-linejoin:miter;stroke:rgb(26.666667%,26.666667%,26.666667%);stroke-opacity:1;stroke-miterlimit:10;\" d=\"M 172.605469 346.925781 L 254.8125 407.835938 \"/>\n",
       "<path style=\"fill:none;stroke-width:1;stroke-linecap:butt;stroke-linejoin:miter;stroke:rgb(26.666667%,26.666667%,26.666667%);stroke-opacity:1;stroke-miterlimit:10;\" d=\"M 172.691406 549.578125 L 221.703125 554.644531 \"/>\n",
       "<path style=\"fill:none;stroke-width:1;stroke-linecap:butt;stroke-linejoin:miter;stroke:rgb(26.666667%,26.666667%,26.666667%);stroke-opacity:1;stroke-miterlimit:10;\" d=\"M 172.691406 549.578125 L 230.273438 503.261719 \"/>\n",
       "<path style=\"fill:none;stroke-width:1;stroke-linecap:butt;stroke-linejoin:miter;stroke:rgb(26.666667%,26.666667%,26.666667%);stroke-opacity:1;stroke-miterlimit:10;\" d=\"M 172.691406 549.578125 L 258.660156 578.683594 \"/>\n",
       "<path style=\"fill:none;stroke-width:1;stroke-linecap:butt;stroke-linejoin:miter;stroke:rgb(26.666667%,26.666667%,26.666667%);stroke-opacity:1;stroke-miterlimit:10;\" d=\"M 196.996094 391.988281 L 201.992188 410.558594 \"/>\n",
       "<path style=\"fill:none;stroke-width:1;stroke-linecap:butt;stroke-linejoin:miter;stroke:rgb(26.666667%,26.666667%,26.666667%);stroke-opacity:1;stroke-miterlimit:10;\" d=\"M 196.996094 391.988281 L 209.992188 359.6875 \"/>\n",
       "<path style=\"fill:none;stroke-width:1;stroke-linecap:butt;stroke-linejoin:miter;stroke:rgb(26.666667%,26.666667%,26.666667%);stroke-opacity:1;stroke-miterlimit:10;\" d=\"M 196.996094 391.988281 L 210.46875 295.957031 \"/>\n",
       "<path style=\"fill:none;stroke-width:1;stroke-linecap:butt;stroke-linejoin:miter;stroke:rgb(26.666667%,26.666667%,26.666667%);stroke-opacity:1;stroke-miterlimit:10;\" d=\"M 196.996094 391.988281 L 244.84375 311.238281 \"/>\n",
       "<path style=\"fill:none;stroke-width:1;stroke-linecap:butt;stroke-linejoin:miter;stroke:rgb(26.666667%,26.666667%,26.666667%);stroke-opacity:1;stroke-miterlimit:10;\" d=\"M 196.996094 391.988281 L 254.144531 417.886719 \"/>\n",
       "<path style=\"fill:none;stroke-width:1;stroke-linecap:butt;stroke-linejoin:miter;stroke:rgb(26.666667%,26.666667%,26.666667%);stroke-opacity:1;stroke-miterlimit:10;\" d=\"M 196.996094 391.988281 L 254.8125 407.835938 \"/>\n",
       "<path style=\"fill:none;stroke-width:1;stroke-linecap:butt;stroke-linejoin:miter;stroke:rgb(26.666667%,26.666667%,26.666667%);stroke-opacity:1;stroke-miterlimit:10;\" d=\"M 201.992188 410.558594 L 209.992188 359.6875 \"/>\n",
       "<path style=\"fill:none;stroke-width:1;stroke-linecap:butt;stroke-linejoin:miter;stroke:rgb(26.666667%,26.666667%,26.666667%);stroke-opacity:1;stroke-miterlimit:10;\" d=\"M 201.992188 410.558594 L 210.46875 295.957031 \"/>\n",
       "<path style=\"fill:none;stroke-width:1;stroke-linecap:butt;stroke-linejoin:miter;stroke:rgb(26.666667%,26.666667%,26.666667%);stroke-opacity:1;stroke-miterlimit:10;\" d=\"M 201.992188 410.558594 L 230.273438 503.261719 \"/>\n",
       "<path style=\"fill:none;stroke-width:1;stroke-linecap:butt;stroke-linejoin:miter;stroke:rgb(26.666667%,26.666667%,26.666667%);stroke-opacity:1;stroke-miterlimit:10;\" d=\"M 201.992188 410.558594 L 244.84375 311.238281 \"/>\n",
       "<path style=\"fill:none;stroke-width:1;stroke-linecap:butt;stroke-linejoin:miter;stroke:rgb(26.666667%,26.666667%,26.666667%);stroke-opacity:1;stroke-miterlimit:10;\" d=\"M 201.992188 410.558594 L 254.144531 417.886719 \"/>\n",
       "<path style=\"fill:none;stroke-width:1;stroke-linecap:butt;stroke-linejoin:miter;stroke:rgb(26.666667%,26.666667%,26.666667%);stroke-opacity:1;stroke-miterlimit:10;\" d=\"M 201.992188 410.558594 L 254.8125 407.835938 \"/>\n",
       "<path style=\"fill:none;stroke-width:1;stroke-linecap:butt;stroke-linejoin:miter;stroke:rgb(26.666667%,26.666667%,26.666667%);stroke-opacity:1;stroke-miterlimit:10;\" d=\"M 201.992188 410.558594 L 275.816406 495.464844 \"/>\n",
       "<path style=\"fill:none;stroke-width:1;stroke-linecap:butt;stroke-linejoin:miter;stroke:rgb(26.666667%,26.666667%,26.666667%);stroke-opacity:1;stroke-miterlimit:10;\" d=\"M 203.203125 86.972656 L 210.867188 33.207031 \"/>\n",
       "<path style=\"fill:none;stroke-width:1;stroke-linecap:butt;stroke-linejoin:miter;stroke:rgb(26.666667%,26.666667%,26.666667%);stroke-opacity:1;stroke-miterlimit:10;\" d=\"M 203.203125 86.972656 L 253.222656 55.703125 \"/>\n",
       "<path style=\"fill:none;stroke-width:1;stroke-linecap:butt;stroke-linejoin:miter;stroke:rgb(26.666667%,26.666667%,26.666667%);stroke-opacity:1;stroke-miterlimit:10;\" d=\"M 203.203125 86.972656 L 258.171875 104.753906 \"/>\n",
       "<path style=\"fill:none;stroke-width:1;stroke-linecap:butt;stroke-linejoin:miter;stroke:rgb(26.666667%,26.666667%,26.666667%);stroke-opacity:1;stroke-miterlimit:10;\" d=\"M 203.203125 86.972656 L 263.386719 20 \"/>\n",
       "<path style=\"fill:none;stroke-width:1;stroke-linecap:butt;stroke-linejoin:miter;stroke:rgb(26.666667%,26.666667%,26.666667%);stroke-opacity:1;stroke-miterlimit:10;\" d=\"M 209.992188 359.6875 L 210.46875 295.957031 \"/>\n",
       "<path style=\"fill:none;stroke-width:1;stroke-linecap:butt;stroke-linejoin:miter;stroke:rgb(26.666667%,26.666667%,26.666667%);stroke-opacity:1;stroke-miterlimit:10;\" d=\"M 209.992188 359.6875 L 244.84375 311.238281 \"/>\n",
       "<path style=\"fill:none;stroke-width:1;stroke-linecap:butt;stroke-linejoin:miter;stroke:rgb(26.666667%,26.666667%,26.666667%);stroke-opacity:1;stroke-miterlimit:10;\" d=\"M 209.992188 359.6875 L 254.144531 417.886719 \"/>\n",
       "<path style=\"fill:none;stroke-width:1;stroke-linecap:butt;stroke-linejoin:miter;stroke:rgb(26.666667%,26.666667%,26.666667%);stroke-opacity:1;stroke-miterlimit:10;\" d=\"M 209.992188 359.6875 L 254.8125 407.835938 \"/>\n",
       "<path style=\"fill:none;stroke-width:1;stroke-linecap:butt;stroke-linejoin:miter;stroke:rgb(26.666667%,26.666667%,26.666667%);stroke-opacity:1;stroke-miterlimit:10;\" d=\"M 209.992188 359.6875 L 318.519531 393.109375 \"/>\n",
       "<path style=\"fill:none;stroke-width:1;stroke-linecap:butt;stroke-linejoin:miter;stroke:rgb(26.666667%,26.666667%,26.666667%);stroke-opacity:1;stroke-miterlimit:10;\" d=\"M 210.46875 295.957031 L 217.132813 223.738281 \"/>\n",
       "<path style=\"fill:none;stroke-width:1;stroke-linecap:butt;stroke-linejoin:miter;stroke:rgb(26.666667%,26.666667%,26.666667%);stroke-opacity:1;stroke-miterlimit:10;\" d=\"M 210.46875 295.957031 L 244.84375 311.238281 \"/>\n",
       "<path style=\"fill:none;stroke-width:1;stroke-linecap:butt;stroke-linejoin:miter;stroke:rgb(26.666667%,26.666667%,26.666667%);stroke-opacity:1;stroke-miterlimit:10;\" d=\"M 210.867188 33.207031 L 253.222656 55.703125 \"/>\n",
       "<path style=\"fill:none;stroke-width:1;stroke-linecap:butt;stroke-linejoin:miter;stroke:rgb(26.666667%,26.666667%,26.666667%);stroke-opacity:1;stroke-miterlimit:10;\" d=\"M 210.867188 33.207031 L 258.171875 104.753906 \"/>\n",
       "<path style=\"fill:none;stroke-width:1;stroke-linecap:butt;stroke-linejoin:miter;stroke:rgb(26.666667%,26.666667%,26.666667%);stroke-opacity:1;stroke-miterlimit:10;\" d=\"M 210.867188 33.207031 L 263.386719 20 \"/>\n",
       "<path style=\"fill:none;stroke-width:1;stroke-linecap:butt;stroke-linejoin:miter;stroke:rgb(26.666667%,26.666667%,26.666667%);stroke-opacity:1;stroke-miterlimit:10;\" d=\"M 217.132813 223.738281 L 244.84375 311.238281 \"/>\n",
       "<path style=\"fill:none;stroke-width:1;stroke-linecap:butt;stroke-linejoin:miter;stroke:rgb(26.666667%,26.666667%,26.666667%);stroke-opacity:1;stroke-miterlimit:10;\" d=\"M 221.703125 554.644531 L 230.273438 503.261719 \"/>\n",
       "<path style=\"fill:none;stroke-width:1;stroke-linecap:butt;stroke-linejoin:miter;stroke:rgb(26.666667%,26.666667%,26.666667%);stroke-opacity:1;stroke-miterlimit:10;\" d=\"M 221.703125 554.644531 L 258.660156 578.683594 \"/>\n",
       "<path style=\"fill:none;stroke-width:1;stroke-linecap:butt;stroke-linejoin:miter;stroke:rgb(26.666667%,26.666667%,26.666667%);stroke-opacity:1;stroke-miterlimit:10;\" d=\"M 221.703125 554.644531 L 275.816406 495.464844 \"/>\n",
       "<path style=\"fill:none;stroke-width:1;stroke-linecap:butt;stroke-linejoin:miter;stroke:rgb(26.666667%,26.666667%,26.666667%);stroke-opacity:1;stroke-miterlimit:10;\" d=\"M 221.703125 554.644531 L 295.761719 494.945313 \"/>\n",
       "<path style=\"fill:none;stroke-width:1;stroke-linecap:butt;stroke-linejoin:miter;stroke:rgb(26.666667%,26.666667%,26.666667%);stroke-opacity:1;stroke-miterlimit:10;\" d=\"M 221.703125 554.644531 L 303.046875 493.421875 \"/>\n",
       "<path style=\"fill:none;stroke-width:1;stroke-linecap:butt;stroke-linejoin:miter;stroke:rgb(26.666667%,26.666667%,26.666667%);stroke-opacity:1;stroke-miterlimit:10;\" d=\"M 230.273438 503.261719 L 254.144531 417.886719 \"/>\n",
       "<path style=\"fill:none;stroke-width:1;stroke-linecap:butt;stroke-linejoin:miter;stroke:rgb(26.666667%,26.666667%,26.666667%);stroke-opacity:1;stroke-miterlimit:10;\" d=\"M 230.273438 503.261719 L 254.8125 407.835938 \"/>\n",
       "<path style=\"fill:none;stroke-width:1;stroke-linecap:butt;stroke-linejoin:miter;stroke:rgb(26.666667%,26.666667%,26.666667%);stroke-opacity:1;stroke-miterlimit:10;\" d=\"M 230.273438 503.261719 L 258.660156 578.683594 \"/>\n",
       "<path style=\"fill:none;stroke-width:1;stroke-linecap:butt;stroke-linejoin:miter;stroke:rgb(26.666667%,26.666667%,26.666667%);stroke-opacity:1;stroke-miterlimit:10;\" d=\"M 230.273438 503.261719 L 275.816406 495.464844 \"/>\n",
       "<path style=\"fill:none;stroke-width:1;stroke-linecap:butt;stroke-linejoin:miter;stroke:rgb(26.666667%,26.666667%,26.666667%);stroke-opacity:1;stroke-miterlimit:10;\" d=\"M 230.273438 503.261719 L 295.761719 494.945313 \"/>\n",
       "<path style=\"fill:none;stroke-width:1;stroke-linecap:butt;stroke-linejoin:miter;stroke:rgb(26.666667%,26.666667%,26.666667%);stroke-opacity:1;stroke-miterlimit:10;\" d=\"M 230.273438 503.261719 L 303.046875 493.421875 \"/>\n",
       "<path style=\"fill:none;stroke-width:1;stroke-linecap:butt;stroke-linejoin:miter;stroke:rgb(26.666667%,26.666667%,26.666667%);stroke-opacity:1;stroke-miterlimit:10;\" d=\"M 230.273438 503.261719 L 336.09375 513.289063 \"/>\n",
       "<path style=\"fill:none;stroke-width:1;stroke-linecap:butt;stroke-linejoin:miter;stroke:rgb(26.666667%,26.666667%,26.666667%);stroke-opacity:1;stroke-miterlimit:10;\" d=\"M 230.273438 503.261719 L 339.367188 488.117188 \"/>\n",
       "<path style=\"fill:none;stroke-width:1;stroke-linecap:butt;stroke-linejoin:miter;stroke:rgb(26.666667%,26.666667%,26.666667%);stroke-opacity:1;stroke-miterlimit:10;\" d=\"M 244.84375 311.238281 L 254.144531 417.886719 \"/>\n",
       "<path style=\"fill:none;stroke-width:1;stroke-linecap:butt;stroke-linejoin:miter;stroke:rgb(26.666667%,26.666667%,26.666667%);stroke-opacity:1;stroke-miterlimit:10;\" d=\"M 244.84375 311.238281 L 254.8125 407.835938 \"/>\n",
       "<path style=\"fill:none;stroke-width:1;stroke-linecap:butt;stroke-linejoin:miter;stroke:rgb(26.666667%,26.666667%,26.666667%);stroke-opacity:1;stroke-miterlimit:10;\" d=\"M 244.84375 311.238281 L 318.519531 393.109375 \"/>\n",
       "<path style=\"fill:none;stroke-width:1;stroke-linecap:butt;stroke-linejoin:miter;stroke:rgb(26.666667%,26.666667%,26.666667%);stroke-opacity:1;stroke-miterlimit:10;\" d=\"M 244.84375 311.238281 L 337.386719 340.878906 \"/>\n",
       "<path style=\"fill:none;stroke-width:1;stroke-linecap:butt;stroke-linejoin:miter;stroke:rgb(26.666667%,26.666667%,26.666667%);stroke-opacity:1;stroke-miterlimit:10;\" d=\"M 244.84375 311.238281 L 337.507813 286.378906 \"/>\n",
       "<path style=\"fill:none;stroke-width:1;stroke-linecap:butt;stroke-linejoin:miter;stroke:rgb(26.666667%,26.666667%,26.666667%);stroke-opacity:1;stroke-miterlimit:10;\" d=\"M 244.84375 311.238281 L 352.226563 343.050781 \"/>\n",
       "<path style=\"fill:none;stroke-width:1;stroke-linecap:butt;stroke-linejoin:miter;stroke:rgb(26.666667%,26.666667%,26.666667%);stroke-opacity:1;stroke-miterlimit:10;\" d=\"M 253.222656 55.703125 L 258.171875 104.753906 \"/>\n",
       "<path style=\"fill:none;stroke-width:1;stroke-linecap:butt;stroke-linejoin:miter;stroke:rgb(26.666667%,26.666667%,26.666667%);stroke-opacity:1;stroke-miterlimit:10;\" d=\"M 253.222656 55.703125 L 263.386719 20 \"/>\n",
       "<path style=\"fill:none;stroke-width:1;stroke-linecap:butt;stroke-linejoin:miter;stroke:rgb(26.666667%,26.666667%,26.666667%);stroke-opacity:1;stroke-miterlimit:10;\" d=\"M 254.144531 417.886719 L 254.8125 407.835938 \"/>\n",
       "<path style=\"fill:none;stroke-width:1;stroke-linecap:butt;stroke-linejoin:miter;stroke:rgb(26.666667%,26.666667%,26.666667%);stroke-opacity:1;stroke-miterlimit:10;\" d=\"M 254.144531 417.886719 L 275.816406 495.464844 \"/>\n",
       "<path style=\"fill:none;stroke-width:1;stroke-linecap:butt;stroke-linejoin:miter;stroke:rgb(26.666667%,26.666667%,26.666667%);stroke-opacity:1;stroke-miterlimit:10;\" d=\"M 254.144531 417.886719 L 295.761719 494.945313 \"/>\n",
       "<path style=\"fill:none;stroke-width:1;stroke-linecap:butt;stroke-linejoin:miter;stroke:rgb(26.666667%,26.666667%,26.666667%);stroke-opacity:1;stroke-miterlimit:10;\" d=\"M 254.144531 417.886719 L 303.046875 493.421875 \"/>\n",
       "<path style=\"fill:none;stroke-width:1;stroke-linecap:butt;stroke-linejoin:miter;stroke:rgb(26.666667%,26.666667%,26.666667%);stroke-opacity:1;stroke-miterlimit:10;\" d=\"M 254.144531 417.886719 L 318.519531 393.109375 \"/>\n",
       "<path style=\"fill:none;stroke-width:1;stroke-linecap:butt;stroke-linejoin:miter;stroke:rgb(26.666667%,26.666667%,26.666667%);stroke-opacity:1;stroke-miterlimit:10;\" d=\"M 254.144531 417.886719 L 321.523438 416.574219 \"/>\n",
       "<path style=\"fill:none;stroke-width:1;stroke-linecap:butt;stroke-linejoin:miter;stroke:rgb(26.666667%,26.666667%,26.666667%);stroke-opacity:1;stroke-miterlimit:10;\" d=\"M 254.144531 417.886719 L 323.855469 401.292969 \"/>\n",
       "<path style=\"fill:none;stroke-width:1;stroke-linecap:butt;stroke-linejoin:miter;stroke:rgb(26.666667%,26.666667%,26.666667%);stroke-opacity:1;stroke-miterlimit:10;\" d=\"M 254.144531 417.886719 L 337.386719 340.878906 \"/>\n",
       "<path style=\"fill:none;stroke-width:1;stroke-linecap:butt;stroke-linejoin:miter;stroke:rgb(26.666667%,26.666667%,26.666667%);stroke-opacity:1;stroke-miterlimit:10;\" d=\"M 254.144531 417.886719 L 339.367188 488.117188 \"/>\n",
       "<path style=\"fill:none;stroke-width:1;stroke-linecap:butt;stroke-linejoin:miter;stroke:rgb(26.666667%,26.666667%,26.666667%);stroke-opacity:1;stroke-miterlimit:10;\" d=\"M 254.8125 407.835938 L 275.816406 495.464844 \"/>\n",
       "<path style=\"fill:none;stroke-width:1;stroke-linecap:butt;stroke-linejoin:miter;stroke:rgb(26.666667%,26.666667%,26.666667%);stroke-opacity:1;stroke-miterlimit:10;\" d=\"M 254.8125 407.835938 L 295.761719 494.945313 \"/>\n",
       "<path style=\"fill:none;stroke-width:1;stroke-linecap:butt;stroke-linejoin:miter;stroke:rgb(26.666667%,26.666667%,26.666667%);stroke-opacity:1;stroke-miterlimit:10;\" d=\"M 254.8125 407.835938 L 303.046875 493.421875 \"/>\n",
       "<path style=\"fill:none;stroke-width:1;stroke-linecap:butt;stroke-linejoin:miter;stroke:rgb(26.666667%,26.666667%,26.666667%);stroke-opacity:1;stroke-miterlimit:10;\" d=\"M 254.8125 407.835938 L 318.519531 393.109375 \"/>\n",
       "<path style=\"fill:none;stroke-width:1;stroke-linecap:butt;stroke-linejoin:miter;stroke:rgb(26.666667%,26.666667%,26.666667%);stroke-opacity:1;stroke-miterlimit:10;\" d=\"M 254.8125 407.835938 L 321.523438 416.574219 \"/>\n",
       "<path style=\"fill:none;stroke-width:1;stroke-linecap:butt;stroke-linejoin:miter;stroke:rgb(26.666667%,26.666667%,26.666667%);stroke-opacity:1;stroke-miterlimit:10;\" d=\"M 254.8125 407.835938 L 323.855469 401.292969 \"/>\n",
       "<path style=\"fill:none;stroke-width:1;stroke-linecap:butt;stroke-linejoin:miter;stroke:rgb(26.666667%,26.666667%,26.666667%);stroke-opacity:1;stroke-miterlimit:10;\" d=\"M 254.8125 407.835938 L 337.386719 340.878906 \"/>\n",
       "<path style=\"fill:none;stroke-width:1;stroke-linecap:butt;stroke-linejoin:miter;stroke:rgb(26.666667%,26.666667%,26.666667%);stroke-opacity:1;stroke-miterlimit:10;\" d=\"M 258.171875 104.753906 L 263.386719 20 \"/>\n",
       "<path style=\"fill:none;stroke-width:1;stroke-linecap:butt;stroke-linejoin:miter;stroke:rgb(26.666667%,26.666667%,26.666667%);stroke-opacity:1;stroke-miterlimit:10;\" d=\"M 258.660156 578.683594 L 275.816406 495.464844 \"/>\n",
       "<path style=\"fill:none;stroke-width:1;stroke-linecap:butt;stroke-linejoin:miter;stroke:rgb(26.666667%,26.666667%,26.666667%);stroke-opacity:1;stroke-miterlimit:10;\" d=\"M 258.660156 578.683594 L 295.761719 494.945313 \"/>\n",
       "<path style=\"fill:none;stroke-width:1;stroke-linecap:butt;stroke-linejoin:miter;stroke:rgb(26.666667%,26.666667%,26.666667%);stroke-opacity:1;stroke-miterlimit:10;\" d=\"M 258.660156 578.683594 L 303.046875 493.421875 \"/>\n",
       "<path style=\"fill:none;stroke-width:1;stroke-linecap:butt;stroke-linejoin:miter;stroke:rgb(26.666667%,26.666667%,26.666667%);stroke-opacity:1;stroke-miterlimit:10;\" d=\"M 258.660156 578.683594 L 336.09375 513.289063 \"/>\n",
       "<path style=\"fill:none;stroke-width:1;stroke-linecap:butt;stroke-linejoin:miter;stroke:rgb(26.666667%,26.666667%,26.666667%);stroke-opacity:1;stroke-miterlimit:10;\" d=\"M 258.660156 578.683594 L 345.4375 508.035156 \"/>\n",
       "<path style=\"fill:none;stroke-width:1;stroke-linecap:butt;stroke-linejoin:miter;stroke:rgb(26.666667%,26.666667%,26.666667%);stroke-opacity:1;stroke-miterlimit:10;\" d=\"M 258.660156 578.683594 L 351.28125 565.8125 \"/>\n",
       "<path style=\"fill:none;stroke-width:1;stroke-linecap:butt;stroke-linejoin:miter;stroke:rgb(26.666667%,26.666667%,26.666667%);stroke-opacity:1;stroke-miterlimit:10;\" d=\"M 275.816406 495.464844 L 295.761719 494.945313 \"/>\n",
       "<path style=\"fill:none;stroke-width:1;stroke-linecap:butt;stroke-linejoin:miter;stroke:rgb(26.666667%,26.666667%,26.666667%);stroke-opacity:1;stroke-miterlimit:10;\" d=\"M 275.816406 495.464844 L 303.046875 493.421875 \"/>\n",
       "<path style=\"fill:none;stroke-width:1;stroke-linecap:butt;stroke-linejoin:miter;stroke:rgb(26.666667%,26.666667%,26.666667%);stroke-opacity:1;stroke-miterlimit:10;\" d=\"M 275.816406 495.464844 L 318.519531 393.109375 \"/>\n",
       "<path style=\"fill:none;stroke-width:1;stroke-linecap:butt;stroke-linejoin:miter;stroke:rgb(26.666667%,26.666667%,26.666667%);stroke-opacity:1;stroke-miterlimit:10;\" d=\"M 275.816406 495.464844 L 321.523438 416.574219 \"/>\n",
       "<path style=\"fill:none;stroke-width:1;stroke-linecap:butt;stroke-linejoin:miter;stroke:rgb(26.666667%,26.666667%,26.666667%);stroke-opacity:1;stroke-miterlimit:10;\" d=\"M 275.816406 495.464844 L 323.855469 401.292969 \"/>\n",
       "<path style=\"fill:none;stroke-width:1;stroke-linecap:butt;stroke-linejoin:miter;stroke:rgb(26.666667%,26.666667%,26.666667%);stroke-opacity:1;stroke-miterlimit:10;\" d=\"M 275.816406 495.464844 L 336.09375 513.289063 \"/>\n",
       "<path style=\"fill:none;stroke-width:1;stroke-linecap:butt;stroke-linejoin:miter;stroke:rgb(26.666667%,26.666667%,26.666667%);stroke-opacity:1;stroke-miterlimit:10;\" d=\"M 275.816406 495.464844 L 339.367188 488.117188 \"/>\n",
       "<path style=\"fill:none;stroke-width:1;stroke-linecap:butt;stroke-linejoin:miter;stroke:rgb(26.666667%,26.666667%,26.666667%);stroke-opacity:1;stroke-miterlimit:10;\" d=\"M 275.816406 495.464844 L 345.4375 508.035156 \"/>\n",
       "<path style=\"fill:none;stroke-width:1;stroke-linecap:butt;stroke-linejoin:miter;stroke:rgb(26.666667%,26.666667%,26.666667%);stroke-opacity:1;stroke-miterlimit:10;\" d=\"M 275.816406 495.464844 L 351.28125 565.8125 \"/>\n",
       "<path style=\"fill:none;stroke-width:1;stroke-linecap:butt;stroke-linejoin:miter;stroke:rgb(26.666667%,26.666667%,26.666667%);stroke-opacity:1;stroke-miterlimit:10;\" d=\"M 295.761719 494.945313 L 303.046875 493.421875 \"/>\n",
       "<path style=\"fill:none;stroke-width:1;stroke-linecap:butt;stroke-linejoin:miter;stroke:rgb(26.666667%,26.666667%,26.666667%);stroke-opacity:1;stroke-miterlimit:10;\" d=\"M 295.761719 494.945313 L 318.519531 393.109375 \"/>\n",
       "<path style=\"fill:none;stroke-width:1;stroke-linecap:butt;stroke-linejoin:miter;stroke:rgb(26.666667%,26.666667%,26.666667%);stroke-opacity:1;stroke-miterlimit:10;\" d=\"M 295.761719 494.945313 L 321.523438 416.574219 \"/>\n",
       "<path style=\"fill:none;stroke-width:1;stroke-linecap:butt;stroke-linejoin:miter;stroke:rgb(26.666667%,26.666667%,26.666667%);stroke-opacity:1;stroke-miterlimit:10;\" d=\"M 295.761719 494.945313 L 323.855469 401.292969 \"/>\n",
       "<path style=\"fill:none;stroke-width:1;stroke-linecap:butt;stroke-linejoin:miter;stroke:rgb(26.666667%,26.666667%,26.666667%);stroke-opacity:1;stroke-miterlimit:10;\" d=\"M 295.761719 494.945313 L 336.09375 513.289063 \"/>\n",
       "<path style=\"fill:none;stroke-width:1;stroke-linecap:butt;stroke-linejoin:miter;stroke:rgb(26.666667%,26.666667%,26.666667%);stroke-opacity:1;stroke-miterlimit:10;\" d=\"M 295.761719 494.945313 L 339.367188 488.117188 \"/>\n",
       "<path style=\"fill:none;stroke-width:1;stroke-linecap:butt;stroke-linejoin:miter;stroke:rgb(26.666667%,26.666667%,26.666667%);stroke-opacity:1;stroke-miterlimit:10;\" d=\"M 295.761719 494.945313 L 345.4375 508.035156 \"/>\n",
       "<path style=\"fill:none;stroke-width:1;stroke-linecap:butt;stroke-linejoin:miter;stroke:rgb(26.666667%,26.666667%,26.666667%);stroke-opacity:1;stroke-miterlimit:10;\" d=\"M 295.761719 494.945313 L 351.28125 565.8125 \"/>\n",
       "<path style=\"fill:none;stroke-width:1;stroke-linecap:butt;stroke-linejoin:miter;stroke:rgb(26.666667%,26.666667%,26.666667%);stroke-opacity:1;stroke-miterlimit:10;\" d=\"M 303.046875 493.421875 L 318.519531 393.109375 \"/>\n",
       "<path style=\"fill:none;stroke-width:1;stroke-linecap:butt;stroke-linejoin:miter;stroke:rgb(26.666667%,26.666667%,26.666667%);stroke-opacity:1;stroke-miterlimit:10;\" d=\"M 303.046875 493.421875 L 321.523438 416.574219 \"/>\n",
       "<path style=\"fill:none;stroke-width:1;stroke-linecap:butt;stroke-linejoin:miter;stroke:rgb(26.666667%,26.666667%,26.666667%);stroke-opacity:1;stroke-miterlimit:10;\" d=\"M 303.046875 493.421875 L 323.855469 401.292969 \"/>\n",
       "<path style=\"fill:none;stroke-width:1;stroke-linecap:butt;stroke-linejoin:miter;stroke:rgb(26.666667%,26.666667%,26.666667%);stroke-opacity:1;stroke-miterlimit:10;\" d=\"M 303.046875 493.421875 L 336.09375 513.289063 \"/>\n",
       "<path style=\"fill:none;stroke-width:1;stroke-linecap:butt;stroke-linejoin:miter;stroke:rgb(26.666667%,26.666667%,26.666667%);stroke-opacity:1;stroke-miterlimit:10;\" d=\"M 303.046875 493.421875 L 339.367188 488.117188 \"/>\n",
       "<path style=\"fill:none;stroke-width:1;stroke-linecap:butt;stroke-linejoin:miter;stroke:rgb(26.666667%,26.666667%,26.666667%);stroke-opacity:1;stroke-miterlimit:10;\" d=\"M 303.046875 493.421875 L 345.4375 508.035156 \"/>\n",
       "<path style=\"fill:none;stroke-width:1;stroke-linecap:butt;stroke-linejoin:miter;stroke:rgb(26.666667%,26.666667%,26.666667%);stroke-opacity:1;stroke-miterlimit:10;\" d=\"M 303.046875 493.421875 L 351.28125 565.8125 \"/>\n",
       "<path style=\"fill:none;stroke-width:1;stroke-linecap:butt;stroke-linejoin:miter;stroke:rgb(26.666667%,26.666667%,26.666667%);stroke-opacity:1;stroke-miterlimit:10;\" d=\"M 303.046875 493.421875 L 410.023438 460.191406 \"/>\n",
       "<path style=\"fill:none;stroke-width:1;stroke-linecap:butt;stroke-linejoin:miter;stroke:rgb(26.666667%,26.666667%,26.666667%);stroke-opacity:1;stroke-miterlimit:10;\" d=\"M 318.519531 393.109375 L 321.523438 416.574219 \"/>\n",
       "<path style=\"fill:none;stroke-width:1;stroke-linecap:butt;stroke-linejoin:miter;stroke:rgb(26.666667%,26.666667%,26.666667%);stroke-opacity:1;stroke-miterlimit:10;\" d=\"M 318.519531 393.109375 L 323.855469 401.292969 \"/>\n",
       "<path style=\"fill:none;stroke-width:1;stroke-linecap:butt;stroke-linejoin:miter;stroke:rgb(26.666667%,26.666667%,26.666667%);stroke-opacity:1;stroke-miterlimit:10;\" d=\"M 318.519531 393.109375 L 337.386719 340.878906 \"/>\n",
       "<path style=\"fill:none;stroke-width:1;stroke-linecap:butt;stroke-linejoin:miter;stroke:rgb(26.666667%,26.666667%,26.666667%);stroke-opacity:1;stroke-miterlimit:10;\" d=\"M 318.519531 393.109375 L 337.507813 286.378906 \"/>\n",
       "<path style=\"fill:none;stroke-width:1;stroke-linecap:butt;stroke-linejoin:miter;stroke:rgb(26.666667%,26.666667%,26.666667%);stroke-opacity:1;stroke-miterlimit:10;\" d=\"M 318.519531 393.109375 L 339.367188 488.117188 \"/>\n",
       "<path style=\"fill:none;stroke-width:1;stroke-linecap:butt;stroke-linejoin:miter;stroke:rgb(26.666667%,26.666667%,26.666667%);stroke-opacity:1;stroke-miterlimit:10;\" d=\"M 318.519531 393.109375 L 352.226563 343.050781 \"/>\n",
       "<path style=\"fill:none;stroke-width:1;stroke-linecap:butt;stroke-linejoin:miter;stroke:rgb(26.666667%,26.666667%,26.666667%);stroke-opacity:1;stroke-miterlimit:10;\" d=\"M 318.519531 393.109375 L 410.023438 460.191406 \"/>\n",
       "<path style=\"fill:none;stroke-width:1;stroke-linecap:butt;stroke-linejoin:miter;stroke:rgb(26.666667%,26.666667%,26.666667%);stroke-opacity:1;stroke-miterlimit:10;\" d=\"M 318.519531 393.109375 L 412.664063 378.253906 \"/>\n",
       "<path style=\"fill:none;stroke-width:1;stroke-linecap:butt;stroke-linejoin:miter;stroke:rgb(26.666667%,26.666667%,26.666667%);stroke-opacity:1;stroke-miterlimit:10;\" d=\"M 318.519531 393.109375 L 415.359375 355.625 \"/>\n",
       "<path style=\"fill:none;stroke-width:1;stroke-linecap:butt;stroke-linejoin:miter;stroke:rgb(26.666667%,26.666667%,26.666667%);stroke-opacity:1;stroke-miterlimit:10;\" d=\"M 321.523438 416.574219 L 323.855469 401.292969 \"/>\n",
       "<path style=\"fill:none;stroke-width:1;stroke-linecap:butt;stroke-linejoin:miter;stroke:rgb(26.666667%,26.666667%,26.666667%);stroke-opacity:1;stroke-miterlimit:10;\" d=\"M 321.523438 416.574219 L 336.09375 513.289063 \"/>\n",
       "<path style=\"fill:none;stroke-width:1;stroke-linecap:butt;stroke-linejoin:miter;stroke:rgb(26.666667%,26.666667%,26.666667%);stroke-opacity:1;stroke-miterlimit:10;\" d=\"M 321.523438 416.574219 L 337.386719 340.878906 \"/>\n",
       "<path style=\"fill:none;stroke-width:1;stroke-linecap:butt;stroke-linejoin:miter;stroke:rgb(26.666667%,26.666667%,26.666667%);stroke-opacity:1;stroke-miterlimit:10;\" d=\"M 321.523438 416.574219 L 339.367188 488.117188 \"/>\n",
       "<path style=\"fill:none;stroke-width:1;stroke-linecap:butt;stroke-linejoin:miter;stroke:rgb(26.666667%,26.666667%,26.666667%);stroke-opacity:1;stroke-miterlimit:10;\" d=\"M 321.523438 416.574219 L 345.4375 508.035156 \"/>\n",
       "<path style=\"fill:none;stroke-width:1;stroke-linecap:butt;stroke-linejoin:miter;stroke:rgb(26.666667%,26.666667%,26.666667%);stroke-opacity:1;stroke-miterlimit:10;\" d=\"M 321.523438 416.574219 L 352.226563 343.050781 \"/>\n",
       "<path style=\"fill:none;stroke-width:1;stroke-linecap:butt;stroke-linejoin:miter;stroke:rgb(26.666667%,26.666667%,26.666667%);stroke-opacity:1;stroke-miterlimit:10;\" d=\"M 321.523438 416.574219 L 410.023438 460.191406 \"/>\n",
       "<path style=\"fill:none;stroke-width:1;stroke-linecap:butt;stroke-linejoin:miter;stroke:rgb(26.666667%,26.666667%,26.666667%);stroke-opacity:1;stroke-miterlimit:10;\" d=\"M 321.523438 416.574219 L 412.664063 378.253906 \"/>\n",
       "<path style=\"fill:none;stroke-width:1;stroke-linecap:butt;stroke-linejoin:miter;stroke:rgb(26.666667%,26.666667%,26.666667%);stroke-opacity:1;stroke-miterlimit:10;\" d=\"M 321.523438 416.574219 L 415.359375 355.625 \"/>\n",
       "<path style=\"fill:none;stroke-width:1;stroke-linecap:butt;stroke-linejoin:miter;stroke:rgb(26.666667%,26.666667%,26.666667%);stroke-opacity:1;stroke-miterlimit:10;\" d=\"M 323.855469 401.292969 L 336.09375 513.289063 \"/>\n",
       "<path style=\"fill:none;stroke-width:1;stroke-linecap:butt;stroke-linejoin:miter;stroke:rgb(26.666667%,26.666667%,26.666667%);stroke-opacity:1;stroke-miterlimit:10;\" d=\"M 323.855469 401.292969 L 337.386719 340.878906 \"/>\n",
       "<path style=\"fill:none;stroke-width:1;stroke-linecap:butt;stroke-linejoin:miter;stroke:rgb(26.666667%,26.666667%,26.666667%);stroke-opacity:1;stroke-miterlimit:10;\" d=\"M 323.855469 401.292969 L 339.367188 488.117188 \"/>\n",
       "<path style=\"fill:none;stroke-width:1;stroke-linecap:butt;stroke-linejoin:miter;stroke:rgb(26.666667%,26.666667%,26.666667%);stroke-opacity:1;stroke-miterlimit:10;\" d=\"M 323.855469 401.292969 L 345.4375 508.035156 \"/>\n",
       "<path style=\"fill:none;stroke-width:1;stroke-linecap:butt;stroke-linejoin:miter;stroke:rgb(26.666667%,26.666667%,26.666667%);stroke-opacity:1;stroke-miterlimit:10;\" d=\"M 323.855469 401.292969 L 352.226563 343.050781 \"/>\n",
       "<path style=\"fill:none;stroke-width:1;stroke-linecap:butt;stroke-linejoin:miter;stroke:rgb(26.666667%,26.666667%,26.666667%);stroke-opacity:1;stroke-miterlimit:10;\" d=\"M 323.855469 401.292969 L 410.023438 460.191406 \"/>\n",
       "<path style=\"fill:none;stroke-width:1;stroke-linecap:butt;stroke-linejoin:miter;stroke:rgb(26.666667%,26.666667%,26.666667%);stroke-opacity:1;stroke-miterlimit:10;\" d=\"M 323.855469 401.292969 L 412.664063 378.253906 \"/>\n",
       "<path style=\"fill:none;stroke-width:1;stroke-linecap:butt;stroke-linejoin:miter;stroke:rgb(26.666667%,26.666667%,26.666667%);stroke-opacity:1;stroke-miterlimit:10;\" d=\"M 323.855469 401.292969 L 415.359375 355.625 \"/>\n",
       "<path style=\"fill:none;stroke-width:1;stroke-linecap:butt;stroke-linejoin:miter;stroke:rgb(26.666667%,26.666667%,26.666667%);stroke-opacity:1;stroke-miterlimit:10;\" d=\"M 336.09375 513.289063 L 339.367188 488.117188 \"/>\n",
       "<path style=\"fill:none;stroke-width:1;stroke-linecap:butt;stroke-linejoin:miter;stroke:rgb(26.666667%,26.666667%,26.666667%);stroke-opacity:1;stroke-miterlimit:10;\" d=\"M 336.09375 513.289063 L 345.4375 508.035156 \"/>\n",
       "<path style=\"fill:none;stroke-width:1;stroke-linecap:butt;stroke-linejoin:miter;stroke:rgb(26.666667%,26.666667%,26.666667%);stroke-opacity:1;stroke-miterlimit:10;\" d=\"M 336.09375 513.289063 L 351.28125 565.8125 \"/>\n",
       "<path style=\"fill:none;stroke-width:1;stroke-linecap:butt;stroke-linejoin:miter;stroke:rgb(26.666667%,26.666667%,26.666667%);stroke-opacity:1;stroke-miterlimit:10;\" d=\"M 336.09375 513.289063 L 410.023438 460.191406 \"/>\n",
       "<path style=\"fill:none;stroke-width:1;stroke-linecap:butt;stroke-linejoin:miter;stroke:rgb(26.666667%,26.666667%,26.666667%);stroke-opacity:1;stroke-miterlimit:10;\" d=\"M 336.09375 513.289063 L 432.90625 500.394531 \"/>\n",
       "<path style=\"fill:none;stroke-width:1;stroke-linecap:butt;stroke-linejoin:miter;stroke:rgb(26.666667%,26.666667%,26.666667%);stroke-opacity:1;stroke-miterlimit:10;\" d=\"M 337.386719 340.878906 L 337.507813 286.378906 \"/>\n",
       "<path style=\"fill:none;stroke-width:1;stroke-linecap:butt;stroke-linejoin:miter;stroke:rgb(26.666667%,26.666667%,26.666667%);stroke-opacity:1;stroke-miterlimit:10;\" d=\"M 337.386719 340.878906 L 352.226563 343.050781 \"/>\n",
       "<path style=\"fill:none;stroke-width:1;stroke-linecap:butt;stroke-linejoin:miter;stroke:rgb(26.666667%,26.666667%,26.666667%);stroke-opacity:1;stroke-miterlimit:10;\" d=\"M 337.386719 340.878906 L 363.144531 268.527344 \"/>\n",
       "<path style=\"fill:none;stroke-width:1;stroke-linecap:butt;stroke-linejoin:miter;stroke:rgb(26.666667%,26.666667%,26.666667%);stroke-opacity:1;stroke-miterlimit:10;\" d=\"M 337.386719 340.878906 L 371.851563 243.960938 \"/>\n",
       "<path style=\"fill:none;stroke-width:1;stroke-linecap:butt;stroke-linejoin:miter;stroke:rgb(26.666667%,26.666667%,26.666667%);stroke-opacity:1;stroke-miterlimit:10;\" d=\"M 337.386719 340.878906 L 412.664063 378.253906 \"/>\n",
       "<path style=\"fill:none;stroke-width:1;stroke-linecap:butt;stroke-linejoin:miter;stroke:rgb(26.666667%,26.666667%,26.666667%);stroke-opacity:1;stroke-miterlimit:10;\" d=\"M 337.386719 340.878906 L 415.359375 355.625 \"/>\n",
       "<path style=\"fill:none;stroke-width:1;stroke-linecap:butt;stroke-linejoin:miter;stroke:rgb(26.666667%,26.666667%,26.666667%);stroke-opacity:1;stroke-miterlimit:10;\" d=\"M 337.386719 340.878906 L 422.457031 271.140625 \"/>\n",
       "<path style=\"fill:none;stroke-width:1;stroke-linecap:butt;stroke-linejoin:miter;stroke:rgb(26.666667%,26.666667%,26.666667%);stroke-opacity:1;stroke-miterlimit:10;\" d=\"M 337.507813 286.378906 L 352.226563 343.050781 \"/>\n",
       "<path style=\"fill:none;stroke-width:1;stroke-linecap:butt;stroke-linejoin:miter;stroke:rgb(26.666667%,26.666667%,26.666667%);stroke-opacity:1;stroke-miterlimit:10;\" d=\"M 337.507813 286.378906 L 363.144531 268.527344 \"/>\n",
       "<path style=\"fill:none;stroke-width:1;stroke-linecap:butt;stroke-linejoin:miter;stroke:rgb(26.666667%,26.666667%,26.666667%);stroke-opacity:1;stroke-miterlimit:10;\" d=\"M 337.507813 286.378906 L 371.851563 243.960938 \"/>\n",
       "<path style=\"fill:none;stroke-width:1;stroke-linecap:butt;stroke-linejoin:miter;stroke:rgb(26.666667%,26.666667%,26.666667%);stroke-opacity:1;stroke-miterlimit:10;\" d=\"M 337.507813 286.378906 L 406.644531 222.582031 \"/>\n",
       "<path style=\"fill:none;stroke-width:1;stroke-linecap:butt;stroke-linejoin:miter;stroke:rgb(26.666667%,26.666667%,26.666667%);stroke-opacity:1;stroke-miterlimit:10;\" d=\"M 337.507813 286.378906 L 415.359375 355.625 \"/>\n",
       "<path style=\"fill:none;stroke-width:1;stroke-linecap:butt;stroke-linejoin:miter;stroke:rgb(26.666667%,26.666667%,26.666667%);stroke-opacity:1;stroke-miterlimit:10;\" d=\"M 337.507813 286.378906 L 422.457031 271.140625 \"/>\n",
       "<path style=\"fill:none;stroke-width:1;stroke-linecap:butt;stroke-linejoin:miter;stroke:rgb(26.666667%,26.666667%,26.666667%);stroke-opacity:1;stroke-miterlimit:10;\" d=\"M 337.507813 286.378906 L 430.527344 258.816406 \"/>\n",
       "<path style=\"fill:none;stroke-width:1;stroke-linecap:butt;stroke-linejoin:miter;stroke:rgb(26.666667%,26.666667%,26.666667%);stroke-opacity:1;stroke-miterlimit:10;\" d=\"M 337.507813 286.378906 L 440.546875 256.554688 \"/>\n",
       "<path style=\"fill:none;stroke-width:1;stroke-linecap:butt;stroke-linejoin:miter;stroke:rgb(26.666667%,26.666667%,26.666667%);stroke-opacity:1;stroke-miterlimit:10;\" d=\"M 339.367188 488.117188 L 345.4375 508.035156 \"/>\n",
       "<path style=\"fill:none;stroke-width:1;stroke-linecap:butt;stroke-linejoin:miter;stroke:rgb(26.666667%,26.666667%,26.666667%);stroke-opacity:1;stroke-miterlimit:10;\" d=\"M 339.367188 488.117188 L 351.28125 565.8125 \"/>\n",
       "<path style=\"fill:none;stroke-width:1;stroke-linecap:butt;stroke-linejoin:miter;stroke:rgb(26.666667%,26.666667%,26.666667%);stroke-opacity:1;stroke-miterlimit:10;\" d=\"M 339.367188 488.117188 L 410.023438 460.191406 \"/>\n",
       "<path style=\"fill:none;stroke-width:1;stroke-linecap:butt;stroke-linejoin:miter;stroke:rgb(26.666667%,26.666667%,26.666667%);stroke-opacity:1;stroke-miterlimit:10;\" d=\"M 339.367188 488.117188 L 432.90625 500.394531 \"/>\n",
       "<path style=\"fill:none;stroke-width:1;stroke-linecap:butt;stroke-linejoin:miter;stroke:rgb(26.666667%,26.666667%,26.666667%);stroke-opacity:1;stroke-miterlimit:10;\" d=\"M 345.4375 508.035156 L 351.28125 565.8125 \"/>\n",
       "<path style=\"fill:none;stroke-width:1;stroke-linecap:butt;stroke-linejoin:miter;stroke:rgb(26.666667%,26.666667%,26.666667%);stroke-opacity:1;stroke-miterlimit:10;\" d=\"M 345.4375 508.035156 L 410.023438 460.191406 \"/>\n",
       "<path style=\"fill:none;stroke-width:1;stroke-linecap:butt;stroke-linejoin:miter;stroke:rgb(26.666667%,26.666667%,26.666667%);stroke-opacity:1;stroke-miterlimit:10;\" d=\"M 345.4375 508.035156 L 432.90625 500.394531 \"/>\n",
       "<path style=\"fill:none;stroke-width:1;stroke-linecap:butt;stroke-linejoin:miter;stroke:rgb(26.666667%,26.666667%,26.666667%);stroke-opacity:1;stroke-miterlimit:10;\" d=\"M 351.28125 565.8125 L 432.90625 500.394531 \"/>\n",
       "<path style=\"fill:none;stroke-width:1;stroke-linecap:butt;stroke-linejoin:miter;stroke:rgb(26.666667%,26.666667%,26.666667%);stroke-opacity:1;stroke-miterlimit:10;\" d=\"M 352.226563 343.050781 L 363.144531 268.527344 \"/>\n",
       "<path style=\"fill:none;stroke-width:1;stroke-linecap:butt;stroke-linejoin:miter;stroke:rgb(26.666667%,26.666667%,26.666667%);stroke-opacity:1;stroke-miterlimit:10;\" d=\"M 352.226563 343.050781 L 371.851563 243.960938 \"/>\n",
       "<path style=\"fill:none;stroke-width:1;stroke-linecap:butt;stroke-linejoin:miter;stroke:rgb(26.666667%,26.666667%,26.666667%);stroke-opacity:1;stroke-miterlimit:10;\" d=\"M 352.226563 343.050781 L 412.664063 378.253906 \"/>\n",
       "<path style=\"fill:none;stroke-width:1;stroke-linecap:butt;stroke-linejoin:miter;stroke:rgb(26.666667%,26.666667%,26.666667%);stroke-opacity:1;stroke-miterlimit:10;\" d=\"M 352.226563 343.050781 L 415.359375 355.625 \"/>\n",
       "<path style=\"fill:none;stroke-width:1;stroke-linecap:butt;stroke-linejoin:miter;stroke:rgb(26.666667%,26.666667%,26.666667%);stroke-opacity:1;stroke-miterlimit:10;\" d=\"M 352.226563 343.050781 L 422.457031 271.140625 \"/>\n",
       "<path style=\"fill:none;stroke-width:1;stroke-linecap:butt;stroke-linejoin:miter;stroke:rgb(26.666667%,26.666667%,26.666667%);stroke-opacity:1;stroke-miterlimit:10;\" d=\"M 363.144531 268.527344 L 371.851563 243.960938 \"/>\n",
       "<path style=\"fill:none;stroke-width:1;stroke-linecap:butt;stroke-linejoin:miter;stroke:rgb(26.666667%,26.666667%,26.666667%);stroke-opacity:1;stroke-miterlimit:10;\" d=\"M 363.144531 268.527344 L 406.644531 222.582031 \"/>\n",
       "<path style=\"fill:none;stroke-width:1;stroke-linecap:butt;stroke-linejoin:miter;stroke:rgb(26.666667%,26.666667%,26.666667%);stroke-opacity:1;stroke-miterlimit:10;\" d=\"M 363.144531 268.527344 L 415.359375 355.625 \"/>\n",
       "<path style=\"fill:none;stroke-width:1;stroke-linecap:butt;stroke-linejoin:miter;stroke:rgb(26.666667%,26.666667%,26.666667%);stroke-opacity:1;stroke-miterlimit:10;\" d=\"M 363.144531 268.527344 L 422.457031 271.140625 \"/>\n",
       "<path style=\"fill:none;stroke-width:1;stroke-linecap:butt;stroke-linejoin:miter;stroke:rgb(26.666667%,26.666667%,26.666667%);stroke-opacity:1;stroke-miterlimit:10;\" d=\"M 363.144531 268.527344 L 430.527344 258.816406 \"/>\n",
       "<path style=\"fill:none;stroke-width:1;stroke-linecap:butt;stroke-linejoin:miter;stroke:rgb(26.666667%,26.666667%,26.666667%);stroke-opacity:1;stroke-miterlimit:10;\" d=\"M 363.144531 268.527344 L 440.546875 256.554688 \"/>\n",
       "<path style=\"fill:none;stroke-width:1;stroke-linecap:butt;stroke-linejoin:miter;stroke:rgb(26.666667%,26.666667%,26.666667%);stroke-opacity:1;stroke-miterlimit:10;\" d=\"M 371.851563 243.960938 L 406.644531 222.582031 \"/>\n",
       "<path style=\"fill:none;stroke-width:1;stroke-linecap:butt;stroke-linejoin:miter;stroke:rgb(26.666667%,26.666667%,26.666667%);stroke-opacity:1;stroke-miterlimit:10;\" d=\"M 371.851563 243.960938 L 422.457031 271.140625 \"/>\n",
       "<path style=\"fill:none;stroke-width:1;stroke-linecap:butt;stroke-linejoin:miter;stroke:rgb(26.666667%,26.666667%,26.666667%);stroke-opacity:1;stroke-miterlimit:10;\" d=\"M 371.851563 243.960938 L 430.527344 258.816406 \"/>\n",
       "<path style=\"fill:none;stroke-width:1;stroke-linecap:butt;stroke-linejoin:miter;stroke:rgb(26.666667%,26.666667%,26.666667%);stroke-opacity:1;stroke-miterlimit:10;\" d=\"M 371.851563 243.960938 L 440.546875 256.554688 \"/>\n",
       "<path style=\"fill:none;stroke-width:1;stroke-linecap:butt;stroke-linejoin:miter;stroke:rgb(26.666667%,26.666667%,26.666667%);stroke-opacity:1;stroke-miterlimit:10;\" d=\"M 377.691406 51.375 L 383.644531 50.253906 \"/>\n",
       "<path style=\"fill:none;stroke-width:1;stroke-linecap:butt;stroke-linejoin:miter;stroke:rgb(26.666667%,26.666667%,26.666667%);stroke-opacity:1;stroke-miterlimit:10;\" d=\"M 377.691406 51.375 L 384.414063 40.558594 \"/>\n",
       "<path style=\"fill:none;stroke-width:1;stroke-linecap:butt;stroke-linejoin:miter;stroke:rgb(26.666667%,26.666667%,26.666667%);stroke-opacity:1;stroke-miterlimit:10;\" d=\"M 377.691406 51.375 L 386 64.605469 \"/>\n",
       "<path style=\"fill:none;stroke-width:1;stroke-linecap:butt;stroke-linejoin:miter;stroke:rgb(26.666667%,26.666667%,26.666667%);stroke-opacity:1;stroke-miterlimit:10;\" d=\"M 377.691406 51.375 L 435.125 86.226563 \"/>\n",
       "<path style=\"fill:none;stroke-width:1;stroke-linecap:butt;stroke-linejoin:miter;stroke:rgb(26.666667%,26.666667%,26.666667%);stroke-opacity:1;stroke-miterlimit:10;\" d=\"M 377.691406 51.375 L 440.996094 82.011719 \"/>\n",
       "<path style=\"fill:none;stroke-width:1;stroke-linecap:butt;stroke-linejoin:miter;stroke:rgb(26.666667%,26.666667%,26.666667%);stroke-opacity:1;stroke-miterlimit:10;\" d=\"M 377.691406 51.375 L 491.332031 43.902344 \"/>\n",
       "<path style=\"fill:none;stroke-width:1;stroke-linecap:butt;stroke-linejoin:miter;stroke:rgb(26.666667%,26.666667%,26.666667%);stroke-opacity:1;stroke-miterlimit:10;\" d=\"M 383.644531 50.253906 L 384.414063 40.558594 \"/>\n",
       "<path style=\"fill:none;stroke-width:1;stroke-linecap:butt;stroke-linejoin:miter;stroke:rgb(26.666667%,26.666667%,26.666667%);stroke-opacity:1;stroke-miterlimit:10;\" d=\"M 383.644531 50.253906 L 386 64.605469 \"/>\n",
       "<path style=\"fill:none;stroke-width:1;stroke-linecap:butt;stroke-linejoin:miter;stroke:rgb(26.666667%,26.666667%,26.666667%);stroke-opacity:1;stroke-miterlimit:10;\" d=\"M 383.644531 50.253906 L 435.125 86.226563 \"/>\n",
       "<path style=\"fill:none;stroke-width:1;stroke-linecap:butt;stroke-linejoin:miter;stroke:rgb(26.666667%,26.666667%,26.666667%);stroke-opacity:1;stroke-miterlimit:10;\" d=\"M 383.644531 50.253906 L 440.996094 82.011719 \"/>\n",
       "<path style=\"fill:none;stroke-width:1;stroke-linecap:butt;stroke-linejoin:miter;stroke:rgb(26.666667%,26.666667%,26.666667%);stroke-opacity:1;stroke-miterlimit:10;\" d=\"M 383.644531 50.253906 L 491.332031 43.902344 \"/>\n",
       "<path style=\"fill:none;stroke-width:1;stroke-linecap:butt;stroke-linejoin:miter;stroke:rgb(26.666667%,26.666667%,26.666667%);stroke-opacity:1;stroke-miterlimit:10;\" d=\"M 384.414063 40.558594 L 386 64.605469 \"/>\n",
       "<path style=\"fill:none;stroke-width:1;stroke-linecap:butt;stroke-linejoin:miter;stroke:rgb(26.666667%,26.666667%,26.666667%);stroke-opacity:1;stroke-miterlimit:10;\" d=\"M 384.414063 40.558594 L 435.125 86.226563 \"/>\n",
       "<path style=\"fill:none;stroke-width:1;stroke-linecap:butt;stroke-linejoin:miter;stroke:rgb(26.666667%,26.666667%,26.666667%);stroke-opacity:1;stroke-miterlimit:10;\" d=\"M 384.414063 40.558594 L 440.996094 82.011719 \"/>\n",
       "<path style=\"fill:none;stroke-width:1;stroke-linecap:butt;stroke-linejoin:miter;stroke:rgb(26.666667%,26.666667%,26.666667%);stroke-opacity:1;stroke-miterlimit:10;\" d=\"M 384.414063 40.558594 L 491.332031 43.902344 \"/>\n",
       "<path style=\"fill:none;stroke-width:1;stroke-linecap:butt;stroke-linejoin:miter;stroke:rgb(26.666667%,26.666667%,26.666667%);stroke-opacity:1;stroke-miterlimit:10;\" d=\"M 386 64.605469 L 435.125 86.226563 \"/>\n",
       "<path style=\"fill:none;stroke-width:1;stroke-linecap:butt;stroke-linejoin:miter;stroke:rgb(26.666667%,26.666667%,26.666667%);stroke-opacity:1;stroke-miterlimit:10;\" d=\"M 386 64.605469 L 440.996094 82.011719 \"/>\n",
       "<path style=\"fill:none;stroke-width:1;stroke-linecap:butt;stroke-linejoin:miter;stroke:rgb(26.666667%,26.666667%,26.666667%);stroke-opacity:1;stroke-miterlimit:10;\" d=\"M 386 64.605469 L 486.945313 108.121094 \"/>\n",
       "<path style=\"fill:none;stroke-width:1;stroke-linecap:butt;stroke-linejoin:miter;stroke:rgb(26.666667%,26.666667%,26.666667%);stroke-opacity:1;stroke-miterlimit:10;\" d=\"M 386 64.605469 L 491.332031 43.902344 \"/>\n",
       "<path style=\"fill:none;stroke-width:1;stroke-linecap:butt;stroke-linejoin:miter;stroke:rgb(26.666667%,26.666667%,26.666667%);stroke-opacity:1;stroke-miterlimit:10;\" d=\"M 406.644531 222.582031 L 422.457031 271.140625 \"/>\n",
       "<path style=\"fill:none;stroke-width:1;stroke-linecap:butt;stroke-linejoin:miter;stroke:rgb(26.666667%,26.666667%,26.666667%);stroke-opacity:1;stroke-miterlimit:10;\" d=\"M 406.644531 222.582031 L 430.527344 258.816406 \"/>\n",
       "<path style=\"fill:none;stroke-width:1;stroke-linecap:butt;stroke-linejoin:miter;stroke:rgb(26.666667%,26.666667%,26.666667%);stroke-opacity:1;stroke-miterlimit:10;\" d=\"M 406.644531 222.582031 L 440.546875 256.554688 \"/>\n",
       "<path style=\"fill:none;stroke-width:1;stroke-linecap:butt;stroke-linejoin:miter;stroke:rgb(26.666667%,26.666667%,26.666667%);stroke-opacity:1;stroke-miterlimit:10;\" d=\"M 406.644531 222.582031 L 482.421875 215.085938 \"/>\n",
       "<path style=\"fill:none;stroke-width:1;stroke-linecap:butt;stroke-linejoin:miter;stroke:rgb(26.666667%,26.666667%,26.666667%);stroke-opacity:1;stroke-miterlimit:10;\" d=\"M 406.644531 222.582031 L 485.261719 285.367188 \"/>\n",
       "<path style=\"fill:none;stroke-width:1;stroke-linecap:butt;stroke-linejoin:miter;stroke:rgb(26.666667%,26.666667%,26.666667%);stroke-opacity:1;stroke-miterlimit:10;\" d=\"M 406.644531 222.582031 L 486.253906 285.21875 \"/>\n",
       "<path style=\"fill:none;stroke-width:1;stroke-linecap:butt;stroke-linejoin:miter;stroke:rgb(26.666667%,26.666667%,26.666667%);stroke-opacity:1;stroke-miterlimit:10;\" d=\"M 406.644531 222.582031 L 511.542969 188.242188 \"/>\n",
       "<path style=\"fill:none;stroke-width:1;stroke-linecap:butt;stroke-linejoin:miter;stroke:rgb(26.666667%,26.666667%,26.666667%);stroke-opacity:1;stroke-miterlimit:10;\" d=\"M 410.023438 460.191406 L 412.664063 378.253906 \"/>\n",
       "<path style=\"fill:none;stroke-width:1;stroke-linecap:butt;stroke-linejoin:miter;stroke:rgb(26.666667%,26.666667%,26.666667%);stroke-opacity:1;stroke-miterlimit:10;\" d=\"M 410.023438 460.191406 L 415.359375 355.625 \"/>\n",
       "<path style=\"fill:none;stroke-width:1;stroke-linecap:butt;stroke-linejoin:miter;stroke:rgb(26.666667%,26.666667%,26.666667%);stroke-opacity:1;stroke-miterlimit:10;\" d=\"M 410.023438 460.191406 L 432.90625 500.394531 \"/>\n",
       "<path style=\"fill:none;stroke-width:1;stroke-linecap:butt;stroke-linejoin:miter;stroke:rgb(26.666667%,26.666667%,26.666667%);stroke-opacity:1;stroke-miterlimit:10;\" d=\"M 410.023438 460.191406 L 456.714844 469.589844 \"/>\n",
       "<path style=\"fill:none;stroke-width:1;stroke-linecap:butt;stroke-linejoin:miter;stroke:rgb(26.666667%,26.666667%,26.666667%);stroke-opacity:1;stroke-miterlimit:10;\" d=\"M 412.664063 378.253906 L 415.359375 355.625 \"/>\n",
       "<path style=\"fill:none;stroke-width:1;stroke-linecap:butt;stroke-linejoin:miter;stroke:rgb(26.666667%,26.666667%,26.666667%);stroke-opacity:1;stroke-miterlimit:10;\" d=\"M 412.664063 378.253906 L 422.457031 271.140625 \"/>\n",
       "<path style=\"fill:none;stroke-width:1;stroke-linecap:butt;stroke-linejoin:miter;stroke:rgb(26.666667%,26.666667%,26.666667%);stroke-opacity:1;stroke-miterlimit:10;\" d=\"M 412.664063 378.253906 L 456.714844 469.589844 \"/>\n",
       "<path style=\"fill:none;stroke-width:1;stroke-linecap:butt;stroke-linejoin:miter;stroke:rgb(26.666667%,26.666667%,26.666667%);stroke-opacity:1;stroke-miterlimit:10;\" d=\"M 412.664063 378.253906 L 505.261719 313.453125 \"/>\n",
       "<path style=\"fill:none;stroke-width:1;stroke-linecap:butt;stroke-linejoin:miter;stroke:rgb(26.666667%,26.666667%,26.666667%);stroke-opacity:1;stroke-miterlimit:10;\" d=\"M 412.664063 378.253906 L 524.097656 382.496094 \"/>\n",
       "<path style=\"fill:none;stroke-width:1;stroke-linecap:butt;stroke-linejoin:miter;stroke:rgb(26.666667%,26.666667%,26.666667%);stroke-opacity:1;stroke-miterlimit:10;\" d=\"M 415.359375 355.625 L 422.457031 271.140625 \"/>\n",
       "<path style=\"fill:none;stroke-width:1;stroke-linecap:butt;stroke-linejoin:miter;stroke:rgb(26.666667%,26.666667%,26.666667%);stroke-opacity:1;stroke-miterlimit:10;\" d=\"M 415.359375 355.625 L 430.527344 258.816406 \"/>\n",
       "<path style=\"fill:none;stroke-width:1;stroke-linecap:butt;stroke-linejoin:miter;stroke:rgb(26.666667%,26.666667%,26.666667%);stroke-opacity:1;stroke-miterlimit:10;\" d=\"M 415.359375 355.625 L 440.546875 256.554688 \"/>\n",
       "<path style=\"fill:none;stroke-width:1;stroke-linecap:butt;stroke-linejoin:miter;stroke:rgb(26.666667%,26.666667%,26.666667%);stroke-opacity:1;stroke-miterlimit:10;\" d=\"M 415.359375 355.625 L 485.261719 285.367188 \"/>\n",
       "<path style=\"fill:none;stroke-width:1;stroke-linecap:butt;stroke-linejoin:miter;stroke:rgb(26.666667%,26.666667%,26.666667%);stroke-opacity:1;stroke-miterlimit:10;\" d=\"M 415.359375 355.625 L 486.253906 285.21875 \"/>\n",
       "<path style=\"fill:none;stroke-width:1;stroke-linecap:butt;stroke-linejoin:miter;stroke:rgb(26.666667%,26.666667%,26.666667%);stroke-opacity:1;stroke-miterlimit:10;\" d=\"M 415.359375 355.625 L 505.261719 313.453125 \"/>\n",
       "<path style=\"fill:none;stroke-width:1;stroke-linecap:butt;stroke-linejoin:miter;stroke:rgb(26.666667%,26.666667%,26.666667%);stroke-opacity:1;stroke-miterlimit:10;\" d=\"M 415.359375 355.625 L 524.097656 382.496094 \"/>\n",
       "<path style=\"fill:none;stroke-width:1;stroke-linecap:butt;stroke-linejoin:miter;stroke:rgb(26.666667%,26.666667%,26.666667%);stroke-opacity:1;stroke-miterlimit:10;\" d=\"M 422.457031 271.140625 L 430.527344 258.816406 \"/>\n",
       "<path style=\"fill:none;stroke-width:1;stroke-linecap:butt;stroke-linejoin:miter;stroke:rgb(26.666667%,26.666667%,26.666667%);stroke-opacity:1;stroke-miterlimit:10;\" d=\"M 422.457031 271.140625 L 440.546875 256.554688 \"/>\n",
       "<path style=\"fill:none;stroke-width:1;stroke-linecap:butt;stroke-linejoin:miter;stroke:rgb(26.666667%,26.666667%,26.666667%);stroke-opacity:1;stroke-miterlimit:10;\" d=\"M 422.457031 271.140625 L 482.421875 215.085938 \"/>\n",
       "<path style=\"fill:none;stroke-width:1;stroke-linecap:butt;stroke-linejoin:miter;stroke:rgb(26.666667%,26.666667%,26.666667%);stroke-opacity:1;stroke-miterlimit:10;\" d=\"M 422.457031 271.140625 L 485.261719 285.367188 \"/>\n",
       "<path style=\"fill:none;stroke-width:1;stroke-linecap:butt;stroke-linejoin:miter;stroke:rgb(26.666667%,26.666667%,26.666667%);stroke-opacity:1;stroke-miterlimit:10;\" d=\"M 422.457031 271.140625 L 486.253906 285.21875 \"/>\n",
       "<path style=\"fill:none;stroke-width:1;stroke-linecap:butt;stroke-linejoin:miter;stroke:rgb(26.666667%,26.666667%,26.666667%);stroke-opacity:1;stroke-miterlimit:10;\" d=\"M 422.457031 271.140625 L 505.261719 313.453125 \"/>\n",
       "<path style=\"fill:none;stroke-width:1;stroke-linecap:butt;stroke-linejoin:miter;stroke:rgb(26.666667%,26.666667%,26.666667%);stroke-opacity:1;stroke-miterlimit:10;\" d=\"M 430.527344 258.816406 L 440.546875 256.554688 \"/>\n",
       "<path style=\"fill:none;stroke-width:1;stroke-linecap:butt;stroke-linejoin:miter;stroke:rgb(26.666667%,26.666667%,26.666667%);stroke-opacity:1;stroke-miterlimit:10;\" d=\"M 430.527344 258.816406 L 482.421875 215.085938 \"/>\n",
       "<path style=\"fill:none;stroke-width:1;stroke-linecap:butt;stroke-linejoin:miter;stroke:rgb(26.666667%,26.666667%,26.666667%);stroke-opacity:1;stroke-miterlimit:10;\" d=\"M 430.527344 258.816406 L 485.261719 285.367188 \"/>\n",
       "<path style=\"fill:none;stroke-width:1;stroke-linecap:butt;stroke-linejoin:miter;stroke:rgb(26.666667%,26.666667%,26.666667%);stroke-opacity:1;stroke-miterlimit:10;\" d=\"M 430.527344 258.816406 L 486.253906 285.21875 \"/>\n",
       "<path style=\"fill:none;stroke-width:1;stroke-linecap:butt;stroke-linejoin:miter;stroke:rgb(26.666667%,26.666667%,26.666667%);stroke-opacity:1;stroke-miterlimit:10;\" d=\"M 430.527344 258.816406 L 505.261719 313.453125 \"/>\n",
       "<path style=\"fill:none;stroke-width:1;stroke-linecap:butt;stroke-linejoin:miter;stroke:rgb(26.666667%,26.666667%,26.666667%);stroke-opacity:1;stroke-miterlimit:10;\" d=\"M 430.527344 258.816406 L 511.542969 188.242188 \"/>\n",
       "<path style=\"fill:none;stroke-width:1;stroke-linecap:butt;stroke-linejoin:miter;stroke:rgb(26.666667%,26.666667%,26.666667%);stroke-opacity:1;stroke-miterlimit:10;\" d=\"M 430.527344 258.816406 L 542.046875 256.992188 \"/>\n",
       "<path style=\"fill:none;stroke-width:1;stroke-linecap:butt;stroke-linejoin:miter;stroke:rgb(26.666667%,26.666667%,26.666667%);stroke-opacity:1;stroke-miterlimit:10;\" d=\"M 432.90625 500.394531 L 456.714844 469.589844 \"/>\n",
       "<path style=\"fill:none;stroke-width:1;stroke-linecap:butt;stroke-linejoin:miter;stroke:rgb(26.666667%,26.666667%,26.666667%);stroke-opacity:1;stroke-miterlimit:10;\" d=\"M 435.125 86.226563 L 440.996094 82.011719 \"/>\n",
       "<path style=\"fill:none;stroke-width:1;stroke-linecap:butt;stroke-linejoin:miter;stroke:rgb(26.666667%,26.666667%,26.666667%);stroke-opacity:1;stroke-miterlimit:10;\" d=\"M 435.125 86.226563 L 486.945313 108.121094 \"/>\n",
       "<path style=\"fill:none;stroke-width:1;stroke-linecap:butt;stroke-linejoin:miter;stroke:rgb(26.666667%,26.666667%,26.666667%);stroke-opacity:1;stroke-miterlimit:10;\" d=\"M 435.125 86.226563 L 491.332031 43.902344 \"/>\n",
       "<path style=\"fill:none;stroke-width:1;stroke-linecap:butt;stroke-linejoin:miter;stroke:rgb(26.666667%,26.666667%,26.666667%);stroke-opacity:1;stroke-miterlimit:10;\" d=\"M 435.125 86.226563 L 496.433594 103.894531 \"/>\n",
       "<path style=\"fill:none;stroke-width:1;stroke-linecap:butt;stroke-linejoin:miter;stroke:rgb(26.666667%,26.666667%,26.666667%);stroke-opacity:1;stroke-miterlimit:10;\" d=\"M 435.125 86.226563 L 498.054688 145.03125 \"/>\n",
       "<path style=\"fill:none;stroke-width:1;stroke-linecap:butt;stroke-linejoin:miter;stroke:rgb(26.666667%,26.666667%,26.666667%);stroke-opacity:1;stroke-miterlimit:10;\" d=\"M 435.125 86.226563 L 516.023438 54.867188 \"/>\n",
       "<path style=\"fill:none;stroke-width:1;stroke-linecap:butt;stroke-linejoin:miter;stroke:rgb(26.666667%,26.666667%,26.666667%);stroke-opacity:1;stroke-miterlimit:10;\" d=\"M 435.125 86.226563 L 520.570313 81.144531 \"/>\n",
       "<path style=\"fill:none;stroke-width:1;stroke-linecap:butt;stroke-linejoin:miter;stroke:rgb(26.666667%,26.666667%,26.666667%);stroke-opacity:1;stroke-miterlimit:10;\" d=\"M 440.546875 256.554688 L 482.421875 215.085938 \"/>\n",
       "<path style=\"fill:none;stroke-width:1;stroke-linecap:butt;stroke-linejoin:miter;stroke:rgb(26.666667%,26.666667%,26.666667%);stroke-opacity:1;stroke-miterlimit:10;\" d=\"M 440.546875 256.554688 L 485.261719 285.367188 \"/>\n",
       "<path style=\"fill:none;stroke-width:1;stroke-linecap:butt;stroke-linejoin:miter;stroke:rgb(26.666667%,26.666667%,26.666667%);stroke-opacity:1;stroke-miterlimit:10;\" d=\"M 440.546875 256.554688 L 486.253906 285.21875 \"/>\n",
       "<path style=\"fill:none;stroke-width:1;stroke-linecap:butt;stroke-linejoin:miter;stroke:rgb(26.666667%,26.666667%,26.666667%);stroke-opacity:1;stroke-miterlimit:10;\" d=\"M 440.546875 256.554688 L 505.261719 313.453125 \"/>\n",
       "<path style=\"fill:none;stroke-width:1;stroke-linecap:butt;stroke-linejoin:miter;stroke:rgb(26.666667%,26.666667%,26.666667%);stroke-opacity:1;stroke-miterlimit:10;\" d=\"M 440.546875 256.554688 L 511.542969 188.242188 \"/>\n",
       "<path style=\"fill:none;stroke-width:1;stroke-linecap:butt;stroke-linejoin:miter;stroke:rgb(26.666667%,26.666667%,26.666667%);stroke-opacity:1;stroke-miterlimit:10;\" d=\"M 440.546875 256.554688 L 540.339844 291.777344 \"/>\n",
       "<path style=\"fill:none;stroke-width:1;stroke-linecap:butt;stroke-linejoin:miter;stroke:rgb(26.666667%,26.666667%,26.666667%);stroke-opacity:1;stroke-miterlimit:10;\" d=\"M 440.546875 256.554688 L 542.046875 256.992188 \"/>\n",
       "<path style=\"fill:none;stroke-width:1;stroke-linecap:butt;stroke-linejoin:miter;stroke:rgb(26.666667%,26.666667%,26.666667%);stroke-opacity:1;stroke-miterlimit:10;\" d=\"M 440.546875 256.554688 L 542.976563 222.761719 \"/>\n",
       "<path style=\"fill:none;stroke-width:1;stroke-linecap:butt;stroke-linejoin:miter;stroke:rgb(26.666667%,26.666667%,26.666667%);stroke-opacity:1;stroke-miterlimit:10;\" d=\"M 440.996094 82.011719 L 486.945313 108.121094 \"/>\n",
       "<path style=\"fill:none;stroke-width:1;stroke-linecap:butt;stroke-linejoin:miter;stroke:rgb(26.666667%,26.666667%,26.666667%);stroke-opacity:1;stroke-miterlimit:10;\" d=\"M 440.996094 82.011719 L 491.332031 43.902344 \"/>\n",
       "<path style=\"fill:none;stroke-width:1;stroke-linecap:butt;stroke-linejoin:miter;stroke:rgb(26.666667%,26.666667%,26.666667%);stroke-opacity:1;stroke-miterlimit:10;\" d=\"M 440.996094 82.011719 L 496.433594 103.894531 \"/>\n",
       "<path style=\"fill:none;stroke-width:1;stroke-linecap:butt;stroke-linejoin:miter;stroke:rgb(26.666667%,26.666667%,26.666667%);stroke-opacity:1;stroke-miterlimit:10;\" d=\"M 440.996094 82.011719 L 498.054688 145.03125 \"/>\n",
       "<path style=\"fill:none;stroke-width:1;stroke-linecap:butt;stroke-linejoin:miter;stroke:rgb(26.666667%,26.666667%,26.666667%);stroke-opacity:1;stroke-miterlimit:10;\" d=\"M 440.996094 82.011719 L 516.023438 54.867188 \"/>\n",
       "<path style=\"fill:none;stroke-width:1;stroke-linecap:butt;stroke-linejoin:miter;stroke:rgb(26.666667%,26.666667%,26.666667%);stroke-opacity:1;stroke-miterlimit:10;\" d=\"M 440.996094 82.011719 L 520.570313 81.144531 \"/>\n",
       "<path style=\"fill:none;stroke-width:1;stroke-linecap:butt;stroke-linejoin:miter;stroke:rgb(26.666667%,26.666667%,26.666667%);stroke-opacity:1;stroke-miterlimit:10;\" d=\"M 456.714844 469.589844 L 524.097656 382.496094 \"/>\n",
       "<path style=\"fill:none;stroke-width:1;stroke-linecap:butt;stroke-linejoin:miter;stroke:rgb(26.666667%,26.666667%,26.666667%);stroke-opacity:1;stroke-miterlimit:10;\" d=\"M 456.714844 469.589844 L 534.109375 417.597656 \"/>\n",
       "<path style=\"fill:none;stroke-width:1;stroke-linecap:butt;stroke-linejoin:miter;stroke:rgb(26.666667%,26.666667%,26.666667%);stroke-opacity:1;stroke-miterlimit:10;\" d=\"M 482.421875 215.085938 L 485.261719 285.367188 \"/>\n",
       "<path style=\"fill:none;stroke-width:1;stroke-linecap:butt;stroke-linejoin:miter;stroke:rgb(26.666667%,26.666667%,26.666667%);stroke-opacity:1;stroke-miterlimit:10;\" d=\"M 482.421875 215.085938 L 486.253906 285.21875 \"/>\n",
       "<path style=\"fill:none;stroke-width:1;stroke-linecap:butt;stroke-linejoin:miter;stroke:rgb(26.666667%,26.666667%,26.666667%);stroke-opacity:1;stroke-miterlimit:10;\" d=\"M 482.421875 215.085938 L 486.945313 108.121094 \"/>\n",
       "<path style=\"fill:none;stroke-width:1;stroke-linecap:butt;stroke-linejoin:miter;stroke:rgb(26.666667%,26.666667%,26.666667%);stroke-opacity:1;stroke-miterlimit:10;\" d=\"M 482.421875 215.085938 L 496.433594 103.894531 \"/>\n",
       "<path style=\"fill:none;stroke-width:1;stroke-linecap:butt;stroke-linejoin:miter;stroke:rgb(26.666667%,26.666667%,26.666667%);stroke-opacity:1;stroke-miterlimit:10;\" d=\"M 482.421875 215.085938 L 498.054688 145.03125 \"/>\n",
       "<path style=\"fill:none;stroke-width:1;stroke-linecap:butt;stroke-linejoin:miter;stroke:rgb(26.666667%,26.666667%,26.666667%);stroke-opacity:1;stroke-miterlimit:10;\" d=\"M 482.421875 215.085938 L 505.261719 313.453125 \"/>\n",
       "<path style=\"fill:none;stroke-width:1;stroke-linecap:butt;stroke-linejoin:miter;stroke:rgb(26.666667%,26.666667%,26.666667%);stroke-opacity:1;stroke-miterlimit:10;\" d=\"M 482.421875 215.085938 L 511.542969 188.242188 \"/>\n",
       "<path style=\"fill:none;stroke-width:1;stroke-linecap:butt;stroke-linejoin:miter;stroke:rgb(26.666667%,26.666667%,26.666667%);stroke-opacity:1;stroke-miterlimit:10;\" d=\"M 482.421875 215.085938 L 540.339844 291.777344 \"/>\n",
       "<path style=\"fill:none;stroke-width:1;stroke-linecap:butt;stroke-linejoin:miter;stroke:rgb(26.666667%,26.666667%,26.666667%);stroke-opacity:1;stroke-miterlimit:10;\" d=\"M 482.421875 215.085938 L 542.046875 256.992188 \"/>\n",
       "<path style=\"fill:none;stroke-width:1;stroke-linecap:butt;stroke-linejoin:miter;stroke:rgb(26.666667%,26.666667%,26.666667%);stroke-opacity:1;stroke-miterlimit:10;\" d=\"M 482.421875 215.085938 L 542.976563 222.761719 \"/>\n",
       "<path style=\"fill:none;stroke-width:1;stroke-linecap:butt;stroke-linejoin:miter;stroke:rgb(26.666667%,26.666667%,26.666667%);stroke-opacity:1;stroke-miterlimit:10;\" d=\"M 482.421875 215.085938 L 543.664063 200.695313 \"/>\n",
       "<path style=\"fill:none;stroke-width:1;stroke-linecap:butt;stroke-linejoin:miter;stroke:rgb(26.666667%,26.666667%,26.666667%);stroke-opacity:1;stroke-miterlimit:10;\" d=\"M 482.421875 215.085938 L 567.148438 202.140625 \"/>\n",
       "<path style=\"fill:none;stroke-width:1;stroke-linecap:butt;stroke-linejoin:miter;stroke:rgb(26.666667%,26.666667%,26.666667%);stroke-opacity:1;stroke-miterlimit:10;\" d=\"M 485.261719 285.367188 L 486.253906 285.21875 \"/>\n",
       "<path style=\"fill:none;stroke-width:1;stroke-linecap:butt;stroke-linejoin:miter;stroke:rgb(26.666667%,26.666667%,26.666667%);stroke-opacity:1;stroke-miterlimit:10;\" d=\"M 485.261719 285.367188 L 505.261719 313.453125 \"/>\n",
       "<path style=\"fill:none;stroke-width:1;stroke-linecap:butt;stroke-linejoin:miter;stroke:rgb(26.666667%,26.666667%,26.666667%);stroke-opacity:1;stroke-miterlimit:10;\" d=\"M 485.261719 285.367188 L 511.542969 188.242188 \"/>\n",
       "<path style=\"fill:none;stroke-width:1;stroke-linecap:butt;stroke-linejoin:miter;stroke:rgb(26.666667%,26.666667%,26.666667%);stroke-opacity:1;stroke-miterlimit:10;\" d=\"M 485.261719 285.367188 L 524.097656 382.496094 \"/>\n",
       "<path style=\"fill:none;stroke-width:1;stroke-linecap:butt;stroke-linejoin:miter;stroke:rgb(26.666667%,26.666667%,26.666667%);stroke-opacity:1;stroke-miterlimit:10;\" d=\"M 485.261719 285.367188 L 540.339844 291.777344 \"/>\n",
       "<path style=\"fill:none;stroke-width:1;stroke-linecap:butt;stroke-linejoin:miter;stroke:rgb(26.666667%,26.666667%,26.666667%);stroke-opacity:1;stroke-miterlimit:10;\" d=\"M 485.261719 285.367188 L 542.046875 256.992188 \"/>\n",
       "<path style=\"fill:none;stroke-width:1;stroke-linecap:butt;stroke-linejoin:miter;stroke:rgb(26.666667%,26.666667%,26.666667%);stroke-opacity:1;stroke-miterlimit:10;\" d=\"M 485.261719 285.367188 L 542.976563 222.761719 \"/>\n",
       "<path style=\"fill:none;stroke-width:1;stroke-linecap:butt;stroke-linejoin:miter;stroke:rgb(26.666667%,26.666667%,26.666667%);stroke-opacity:1;stroke-miterlimit:10;\" d=\"M 485.261719 285.367188 L 543.664063 200.695313 \"/>\n",
       "<path style=\"fill:none;stroke-width:1;stroke-linecap:butt;stroke-linejoin:miter;stroke:rgb(26.666667%,26.666667%,26.666667%);stroke-opacity:1;stroke-miterlimit:10;\" d=\"M 485.261719 285.367188 L 568.910156 316.261719 \"/>\n",
       "<path style=\"fill:none;stroke-width:1;stroke-linecap:butt;stroke-linejoin:miter;stroke:rgb(26.666667%,26.666667%,26.666667%);stroke-opacity:1;stroke-miterlimit:10;\" d=\"M 485.261719 285.367188 L 572.824219 342 \"/>\n",
       "<path style=\"fill:none;stroke-width:1;stroke-linecap:butt;stroke-linejoin:miter;stroke:rgb(26.666667%,26.666667%,26.666667%);stroke-opacity:1;stroke-miterlimit:10;\" d=\"M 486.253906 285.21875 L 505.261719 313.453125 \"/>\n",
       "<path style=\"fill:none;stroke-width:1;stroke-linecap:butt;stroke-linejoin:miter;stroke:rgb(26.666667%,26.666667%,26.666667%);stroke-opacity:1;stroke-miterlimit:10;\" d=\"M 486.253906 285.21875 L 511.542969 188.242188 \"/>\n",
       "<path style=\"fill:none;stroke-width:1;stroke-linecap:butt;stroke-linejoin:miter;stroke:rgb(26.666667%,26.666667%,26.666667%);stroke-opacity:1;stroke-miterlimit:10;\" d=\"M 486.253906 285.21875 L 524.097656 382.496094 \"/>\n",
       "<path style=\"fill:none;stroke-width:1;stroke-linecap:butt;stroke-linejoin:miter;stroke:rgb(26.666667%,26.666667%,26.666667%);stroke-opacity:1;stroke-miterlimit:10;\" d=\"M 486.253906 285.21875 L 540.339844 291.777344 \"/>\n",
       "<path style=\"fill:none;stroke-width:1;stroke-linecap:butt;stroke-linejoin:miter;stroke:rgb(26.666667%,26.666667%,26.666667%);stroke-opacity:1;stroke-miterlimit:10;\" d=\"M 486.253906 285.21875 L 542.046875 256.992188 \"/>\n",
       "<path style=\"fill:none;stroke-width:1;stroke-linecap:butt;stroke-linejoin:miter;stroke:rgb(26.666667%,26.666667%,26.666667%);stroke-opacity:1;stroke-miterlimit:10;\" d=\"M 486.253906 285.21875 L 542.976563 222.761719 \"/>\n",
       "<path style=\"fill:none;stroke-width:1;stroke-linecap:butt;stroke-linejoin:miter;stroke:rgb(26.666667%,26.666667%,26.666667%);stroke-opacity:1;stroke-miterlimit:10;\" d=\"M 486.253906 285.21875 L 543.664063 200.695313 \"/>\n",
       "<path style=\"fill:none;stroke-width:1;stroke-linecap:butt;stroke-linejoin:miter;stroke:rgb(26.666667%,26.666667%,26.666667%);stroke-opacity:1;stroke-miterlimit:10;\" d=\"M 486.253906 285.21875 L 568.910156 316.261719 \"/>\n",
       "<path style=\"fill:none;stroke-width:1;stroke-linecap:butt;stroke-linejoin:miter;stroke:rgb(26.666667%,26.666667%,26.666667%);stroke-opacity:1;stroke-miterlimit:10;\" d=\"M 486.253906 285.21875 L 572.824219 342 \"/>\n",
       "<path style=\"fill:none;stroke-width:1;stroke-linecap:butt;stroke-linejoin:miter;stroke:rgb(26.666667%,26.666667%,26.666667%);stroke-opacity:1;stroke-miterlimit:10;\" d=\"M 486.945313 108.121094 L 491.332031 43.902344 \"/>\n",
       "<path style=\"fill:none;stroke-width:1;stroke-linecap:butt;stroke-linejoin:miter;stroke:rgb(26.666667%,26.666667%,26.666667%);stroke-opacity:1;stroke-miterlimit:10;\" d=\"M 486.945313 108.121094 L 496.433594 103.894531 \"/>\n",
       "<path style=\"fill:none;stroke-width:1;stroke-linecap:butt;stroke-linejoin:miter;stroke:rgb(26.666667%,26.666667%,26.666667%);stroke-opacity:1;stroke-miterlimit:10;\" d=\"M 486.945313 108.121094 L 498.054688 145.03125 \"/>\n",
       "<path style=\"fill:none;stroke-width:1;stroke-linecap:butt;stroke-linejoin:miter;stroke:rgb(26.666667%,26.666667%,26.666667%);stroke-opacity:1;stroke-miterlimit:10;\" d=\"M 486.945313 108.121094 L 511.542969 188.242188 \"/>\n",
       "<path style=\"fill:none;stroke-width:1;stroke-linecap:butt;stroke-linejoin:miter;stroke:rgb(26.666667%,26.666667%,26.666667%);stroke-opacity:1;stroke-miterlimit:10;\" d=\"M 486.945313 108.121094 L 516.023438 54.867188 \"/>\n",
       "<path style=\"fill:none;stroke-width:1;stroke-linecap:butt;stroke-linejoin:miter;stroke:rgb(26.666667%,26.666667%,26.666667%);stroke-opacity:1;stroke-miterlimit:10;\" d=\"M 486.945313 108.121094 L 520.570313 81.144531 \"/>\n",
       "<path style=\"fill:none;stroke-width:1;stroke-linecap:butt;stroke-linejoin:miter;stroke:rgb(26.666667%,26.666667%,26.666667%);stroke-opacity:1;stroke-miterlimit:10;\" d=\"M 486.945313 108.121094 L 543.664063 200.695313 \"/>\n",
       "<path style=\"fill:none;stroke-width:1;stroke-linecap:butt;stroke-linejoin:miter;stroke:rgb(26.666667%,26.666667%,26.666667%);stroke-opacity:1;stroke-miterlimit:10;\" d=\"M 491.332031 43.902344 L 496.433594 103.894531 \"/>\n",
       "<path style=\"fill:none;stroke-width:1;stroke-linecap:butt;stroke-linejoin:miter;stroke:rgb(26.666667%,26.666667%,26.666667%);stroke-opacity:1;stroke-miterlimit:10;\" d=\"M 491.332031 43.902344 L 498.054688 145.03125 \"/>\n",
       "<path style=\"fill:none;stroke-width:1;stroke-linecap:butt;stroke-linejoin:miter;stroke:rgb(26.666667%,26.666667%,26.666667%);stroke-opacity:1;stroke-miterlimit:10;\" d=\"M 491.332031 43.902344 L 516.023438 54.867188 \"/>\n",
       "<path style=\"fill:none;stroke-width:1;stroke-linecap:butt;stroke-linejoin:miter;stroke:rgb(26.666667%,26.666667%,26.666667%);stroke-opacity:1;stroke-miterlimit:10;\" d=\"M 491.332031 43.902344 L 520.570313 81.144531 \"/>\n",
       "<path style=\"fill:none;stroke-width:1;stroke-linecap:butt;stroke-linejoin:miter;stroke:rgb(26.666667%,26.666667%,26.666667%);stroke-opacity:1;stroke-miterlimit:10;\" d=\"M 496.433594 103.894531 L 498.054688 145.03125 \"/>\n",
       "<path style=\"fill:none;stroke-width:1;stroke-linecap:butt;stroke-linejoin:miter;stroke:rgb(26.666667%,26.666667%,26.666667%);stroke-opacity:1;stroke-miterlimit:10;\" d=\"M 496.433594 103.894531 L 511.542969 188.242188 \"/>\n",
       "<path style=\"fill:none;stroke-width:1;stroke-linecap:butt;stroke-linejoin:miter;stroke:rgb(26.666667%,26.666667%,26.666667%);stroke-opacity:1;stroke-miterlimit:10;\" d=\"M 496.433594 103.894531 L 516.023438 54.867188 \"/>\n",
       "<path style=\"fill:none;stroke-width:1;stroke-linecap:butt;stroke-linejoin:miter;stroke:rgb(26.666667%,26.666667%,26.666667%);stroke-opacity:1;stroke-miterlimit:10;\" d=\"M 496.433594 103.894531 L 520.570313 81.144531 \"/>\n",
       "<path style=\"fill:none;stroke-width:1;stroke-linecap:butt;stroke-linejoin:miter;stroke:rgb(26.666667%,26.666667%,26.666667%);stroke-opacity:1;stroke-miterlimit:10;\" d=\"M 496.433594 103.894531 L 543.664063 200.695313 \"/>\n",
       "<path style=\"fill:none;stroke-width:1;stroke-linecap:butt;stroke-linejoin:miter;stroke:rgb(26.666667%,26.666667%,26.666667%);stroke-opacity:1;stroke-miterlimit:10;\" d=\"M 498.054688 145.03125 L 511.542969 188.242188 \"/>\n",
       "<path style=\"fill:none;stroke-width:1;stroke-linecap:butt;stroke-linejoin:miter;stroke:rgb(26.666667%,26.666667%,26.666667%);stroke-opacity:1;stroke-miterlimit:10;\" d=\"M 498.054688 145.03125 L 516.023438 54.867188 \"/>\n",
       "<path style=\"fill:none;stroke-width:1;stroke-linecap:butt;stroke-linejoin:miter;stroke:rgb(26.666667%,26.666667%,26.666667%);stroke-opacity:1;stroke-miterlimit:10;\" d=\"M 498.054688 145.03125 L 520.570313 81.144531 \"/>\n",
       "<path style=\"fill:none;stroke-width:1;stroke-linecap:butt;stroke-linejoin:miter;stroke:rgb(26.666667%,26.666667%,26.666667%);stroke-opacity:1;stroke-miterlimit:10;\" d=\"M 498.054688 145.03125 L 542.976563 222.761719 \"/>\n",
       "<path style=\"fill:none;stroke-width:1;stroke-linecap:butt;stroke-linejoin:miter;stroke:rgb(26.666667%,26.666667%,26.666667%);stroke-opacity:1;stroke-miterlimit:10;\" d=\"M 498.054688 145.03125 L 543.664063 200.695313 \"/>\n",
       "<path style=\"fill:none;stroke-width:1;stroke-linecap:butt;stroke-linejoin:miter;stroke:rgb(26.666667%,26.666667%,26.666667%);stroke-opacity:1;stroke-miterlimit:10;\" d=\"M 498.054688 145.03125 L 567.148438 202.140625 \"/>\n",
       "<path style=\"fill:none;stroke-width:1;stroke-linecap:butt;stroke-linejoin:miter;stroke:rgb(26.666667%,26.666667%,26.666667%);stroke-opacity:1;stroke-miterlimit:10;\" d=\"M 505.261719 313.453125 L 524.097656 382.496094 \"/>\n",
       "<path style=\"fill:none;stroke-width:1;stroke-linecap:butt;stroke-linejoin:miter;stroke:rgb(26.666667%,26.666667%,26.666667%);stroke-opacity:1;stroke-miterlimit:10;\" d=\"M 505.261719 313.453125 L 534.109375 417.597656 \"/>\n",
       "<path style=\"fill:none;stroke-width:1;stroke-linecap:butt;stroke-linejoin:miter;stroke:rgb(26.666667%,26.666667%,26.666667%);stroke-opacity:1;stroke-miterlimit:10;\" d=\"M 505.261719 313.453125 L 540.339844 291.777344 \"/>\n",
       "<path style=\"fill:none;stroke-width:1;stroke-linecap:butt;stroke-linejoin:miter;stroke:rgb(26.666667%,26.666667%,26.666667%);stroke-opacity:1;stroke-miterlimit:10;\" d=\"M 505.261719 313.453125 L 542.046875 256.992188 \"/>\n",
       "<path style=\"fill:none;stroke-width:1;stroke-linecap:butt;stroke-linejoin:miter;stroke:rgb(26.666667%,26.666667%,26.666667%);stroke-opacity:1;stroke-miterlimit:10;\" d=\"M 505.261719 313.453125 L 542.976563 222.761719 \"/>\n",
       "<path style=\"fill:none;stroke-width:1;stroke-linecap:butt;stroke-linejoin:miter;stroke:rgb(26.666667%,26.666667%,26.666667%);stroke-opacity:1;stroke-miterlimit:10;\" d=\"M 505.261719 313.453125 L 551.925781 383.402344 \"/>\n",
       "<path style=\"fill:none;stroke-width:1;stroke-linecap:butt;stroke-linejoin:miter;stroke:rgb(26.666667%,26.666667%,26.666667%);stroke-opacity:1;stroke-miterlimit:10;\" d=\"M 505.261719 313.453125 L 567.148438 396.828125 \"/>\n",
       "<path style=\"fill:none;stroke-width:1;stroke-linecap:butt;stroke-linejoin:miter;stroke:rgb(26.666667%,26.666667%,26.666667%);stroke-opacity:1;stroke-miterlimit:10;\" d=\"M 505.261719 313.453125 L 568.910156 316.261719 \"/>\n",
       "<path style=\"fill:none;stroke-width:1;stroke-linecap:butt;stroke-linejoin:miter;stroke:rgb(26.666667%,26.666667%,26.666667%);stroke-opacity:1;stroke-miterlimit:10;\" d=\"M 505.261719 313.453125 L 572.824219 342 \"/>\n",
       "<path style=\"fill:none;stroke-width:1;stroke-linecap:butt;stroke-linejoin:miter;stroke:rgb(26.666667%,26.666667%,26.666667%);stroke-opacity:1;stroke-miterlimit:10;\" d=\"M 511.542969 188.242188 L 520.570313 81.144531 \"/>\n",
       "<path style=\"fill:none;stroke-width:1;stroke-linecap:butt;stroke-linejoin:miter;stroke:rgb(26.666667%,26.666667%,26.666667%);stroke-opacity:1;stroke-miterlimit:10;\" d=\"M 511.542969 188.242188 L 540.339844 291.777344 \"/>\n",
       "<path style=\"fill:none;stroke-width:1;stroke-linecap:butt;stroke-linejoin:miter;stroke:rgb(26.666667%,26.666667%,26.666667%);stroke-opacity:1;stroke-miterlimit:10;\" d=\"M 511.542969 188.242188 L 542.046875 256.992188 \"/>\n",
       "<path style=\"fill:none;stroke-width:1;stroke-linecap:butt;stroke-linejoin:miter;stroke:rgb(26.666667%,26.666667%,26.666667%);stroke-opacity:1;stroke-miterlimit:10;\" d=\"M 511.542969 188.242188 L 542.976563 222.761719 \"/>\n",
       "<path style=\"fill:none;stroke-width:1;stroke-linecap:butt;stroke-linejoin:miter;stroke:rgb(26.666667%,26.666667%,26.666667%);stroke-opacity:1;stroke-miterlimit:10;\" d=\"M 511.542969 188.242188 L 543.664063 200.695313 \"/>\n",
       "<path style=\"fill:none;stroke-width:1;stroke-linecap:butt;stroke-linejoin:miter;stroke:rgb(26.666667%,26.666667%,26.666667%);stroke-opacity:1;stroke-miterlimit:10;\" d=\"M 511.542969 188.242188 L 567.148438 202.140625 \"/>\n",
       "<path style=\"fill:none;stroke-width:1;stroke-linecap:butt;stroke-linejoin:miter;stroke:rgb(26.666667%,26.666667%,26.666667%);stroke-opacity:1;stroke-miterlimit:10;\" d=\"M 516.023438 54.867188 L 520.570313 81.144531 \"/>\n",
       "<path style=\"fill:none;stroke-width:1;stroke-linecap:butt;stroke-linejoin:miter;stroke:rgb(26.666667%,26.666667%,26.666667%);stroke-opacity:1;stroke-miterlimit:10;\" d=\"M 524.097656 382.496094 L 534.109375 417.597656 \"/>\n",
       "<path style=\"fill:none;stroke-width:1;stroke-linecap:butt;stroke-linejoin:miter;stroke:rgb(26.666667%,26.666667%,26.666667%);stroke-opacity:1;stroke-miterlimit:10;\" d=\"M 524.097656 382.496094 L 540.339844 291.777344 \"/>\n",
       "<path style=\"fill:none;stroke-width:1;stroke-linecap:butt;stroke-linejoin:miter;stroke:rgb(26.666667%,26.666667%,26.666667%);stroke-opacity:1;stroke-miterlimit:10;\" d=\"M 524.097656 382.496094 L 551.925781 383.402344 \"/>\n",
       "<path style=\"fill:none;stroke-width:1;stroke-linecap:butt;stroke-linejoin:miter;stroke:rgb(26.666667%,26.666667%,26.666667%);stroke-opacity:1;stroke-miterlimit:10;\" d=\"M 524.097656 382.496094 L 567.148438 396.828125 \"/>\n",
       "<path style=\"fill:none;stroke-width:1;stroke-linecap:butt;stroke-linejoin:miter;stroke:rgb(26.666667%,26.666667%,26.666667%);stroke-opacity:1;stroke-miterlimit:10;\" d=\"M 524.097656 382.496094 L 568.910156 316.261719 \"/>\n",
       "<path style=\"fill:none;stroke-width:1;stroke-linecap:butt;stroke-linejoin:miter;stroke:rgb(26.666667%,26.666667%,26.666667%);stroke-opacity:1;stroke-miterlimit:10;\" d=\"M 524.097656 382.496094 L 572.824219 342 \"/>\n",
       "<path style=\"fill:none;stroke-width:1;stroke-linecap:butt;stroke-linejoin:miter;stroke:rgb(26.666667%,26.666667%,26.666667%);stroke-opacity:1;stroke-miterlimit:10;\" d=\"M 524.097656 382.496094 L 580 419.800781 \"/>\n",
       "<path style=\"fill:none;stroke-width:1;stroke-linecap:butt;stroke-linejoin:miter;stroke:rgb(26.666667%,26.666667%,26.666667%);stroke-opacity:1;stroke-miterlimit:10;\" d=\"M 534.109375 417.597656 L 551.925781 383.402344 \"/>\n",
       "<path style=\"fill:none;stroke-width:1;stroke-linecap:butt;stroke-linejoin:miter;stroke:rgb(26.666667%,26.666667%,26.666667%);stroke-opacity:1;stroke-miterlimit:10;\" d=\"M 534.109375 417.597656 L 567.148438 396.828125 \"/>\n",
       "<path style=\"fill:none;stroke-width:1;stroke-linecap:butt;stroke-linejoin:miter;stroke:rgb(26.666667%,26.666667%,26.666667%);stroke-opacity:1;stroke-miterlimit:10;\" d=\"M 534.109375 417.597656 L 568.910156 316.261719 \"/>\n",
       "<path style=\"fill:none;stroke-width:1;stroke-linecap:butt;stroke-linejoin:miter;stroke:rgb(26.666667%,26.666667%,26.666667%);stroke-opacity:1;stroke-miterlimit:10;\" d=\"M 534.109375 417.597656 L 572.824219 342 \"/>\n",
       "<path style=\"fill:none;stroke-width:1;stroke-linecap:butt;stroke-linejoin:miter;stroke:rgb(26.666667%,26.666667%,26.666667%);stroke-opacity:1;stroke-miterlimit:10;\" d=\"M 534.109375 417.597656 L 580 419.800781 \"/>\n",
       "<path style=\"fill:none;stroke-width:1;stroke-linecap:butt;stroke-linejoin:miter;stroke:rgb(26.666667%,26.666667%,26.666667%);stroke-opacity:1;stroke-miterlimit:10;\" d=\"M 540.339844 291.777344 L 542.046875 256.992188 \"/>\n",
       "<path style=\"fill:none;stroke-width:1;stroke-linecap:butt;stroke-linejoin:miter;stroke:rgb(26.666667%,26.666667%,26.666667%);stroke-opacity:1;stroke-miterlimit:10;\" d=\"M 540.339844 291.777344 L 542.976563 222.761719 \"/>\n",
       "<path style=\"fill:none;stroke-width:1;stroke-linecap:butt;stroke-linejoin:miter;stroke:rgb(26.666667%,26.666667%,26.666667%);stroke-opacity:1;stroke-miterlimit:10;\" d=\"M 540.339844 291.777344 L 543.664063 200.695313 \"/>\n",
       "<path style=\"fill:none;stroke-width:1;stroke-linecap:butt;stroke-linejoin:miter;stroke:rgb(26.666667%,26.666667%,26.666667%);stroke-opacity:1;stroke-miterlimit:10;\" d=\"M 540.339844 291.777344 L 551.925781 383.402344 \"/>\n",
       "<path style=\"fill:none;stroke-width:1;stroke-linecap:butt;stroke-linejoin:miter;stroke:rgb(26.666667%,26.666667%,26.666667%);stroke-opacity:1;stroke-miterlimit:10;\" d=\"M 540.339844 291.777344 L 567.148438 396.828125 \"/>\n",
       "<path style=\"fill:none;stroke-width:1;stroke-linecap:butt;stroke-linejoin:miter;stroke:rgb(26.666667%,26.666667%,26.666667%);stroke-opacity:1;stroke-miterlimit:10;\" d=\"M 540.339844 291.777344 L 567.148438 202.140625 \"/>\n",
       "<path style=\"fill:none;stroke-width:1;stroke-linecap:butt;stroke-linejoin:miter;stroke:rgb(26.666667%,26.666667%,26.666667%);stroke-opacity:1;stroke-miterlimit:10;\" d=\"M 540.339844 291.777344 L 568.910156 316.261719 \"/>\n",
       "<path style=\"fill:none;stroke-width:1;stroke-linecap:butt;stroke-linejoin:miter;stroke:rgb(26.666667%,26.666667%,26.666667%);stroke-opacity:1;stroke-miterlimit:10;\" d=\"M 540.339844 291.777344 L 572.824219 342 \"/>\n",
       "<path style=\"fill:none;stroke-width:1;stroke-linecap:butt;stroke-linejoin:miter;stroke:rgb(26.666667%,26.666667%,26.666667%);stroke-opacity:1;stroke-miterlimit:10;\" d=\"M 542.046875 256.992188 L 542.976563 222.761719 \"/>\n",
       "<path style=\"fill:none;stroke-width:1;stroke-linecap:butt;stroke-linejoin:miter;stroke:rgb(26.666667%,26.666667%,26.666667%);stroke-opacity:1;stroke-miterlimit:10;\" d=\"M 542.046875 256.992188 L 543.664063 200.695313 \"/>\n",
       "<path style=\"fill:none;stroke-width:1;stroke-linecap:butt;stroke-linejoin:miter;stroke:rgb(26.666667%,26.666667%,26.666667%);stroke-opacity:1;stroke-miterlimit:10;\" d=\"M 542.046875 256.992188 L 567.148438 202.140625 \"/>\n",
       "<path style=\"fill:none;stroke-width:1;stroke-linecap:butt;stroke-linejoin:miter;stroke:rgb(26.666667%,26.666667%,26.666667%);stroke-opacity:1;stroke-miterlimit:10;\" d=\"M 542.046875 256.992188 L 568.910156 316.261719 \"/>\n",
       "<path style=\"fill:none;stroke-width:1;stroke-linecap:butt;stroke-linejoin:miter;stroke:rgb(26.666667%,26.666667%,26.666667%);stroke-opacity:1;stroke-miterlimit:10;\" d=\"M 542.046875 256.992188 L 572.824219 342 \"/>\n",
       "<path style=\"fill:none;stroke-width:1;stroke-linecap:butt;stroke-linejoin:miter;stroke:rgb(26.666667%,26.666667%,26.666667%);stroke-opacity:1;stroke-miterlimit:10;\" d=\"M 542.976563 222.761719 L 543.664063 200.695313 \"/>\n",
       "<path style=\"fill:none;stroke-width:1;stroke-linecap:butt;stroke-linejoin:miter;stroke:rgb(26.666667%,26.666667%,26.666667%);stroke-opacity:1;stroke-miterlimit:10;\" d=\"M 542.976563 222.761719 L 567.148438 202.140625 \"/>\n",
       "<path style=\"fill:none;stroke-width:1;stroke-linecap:butt;stroke-linejoin:miter;stroke:rgb(26.666667%,26.666667%,26.666667%);stroke-opacity:1;stroke-miterlimit:10;\" d=\"M 542.976563 222.761719 L 568.910156 316.261719 \"/>\n",
       "<path style=\"fill:none;stroke-width:1;stroke-linecap:butt;stroke-linejoin:miter;stroke:rgb(26.666667%,26.666667%,26.666667%);stroke-opacity:1;stroke-miterlimit:10;\" d=\"M 543.664063 200.695313 L 567.148438 202.140625 \"/>\n",
       "<path style=\"fill:none;stroke-width:1;stroke-linecap:butt;stroke-linejoin:miter;stroke:rgb(26.666667%,26.666667%,26.666667%);stroke-opacity:1;stroke-miterlimit:10;\" d=\"M 551.925781 383.402344 L 567.148438 396.828125 \"/>\n",
       "<path style=\"fill:none;stroke-width:1;stroke-linecap:butt;stroke-linejoin:miter;stroke:rgb(26.666667%,26.666667%,26.666667%);stroke-opacity:1;stroke-miterlimit:10;\" d=\"M 551.925781 383.402344 L 568.910156 316.261719 \"/>\n",
       "<path style=\"fill:none;stroke-width:1;stroke-linecap:butt;stroke-linejoin:miter;stroke:rgb(26.666667%,26.666667%,26.666667%);stroke-opacity:1;stroke-miterlimit:10;\" d=\"M 551.925781 383.402344 L 572.824219 342 \"/>\n",
       "<path style=\"fill:none;stroke-width:1;stroke-linecap:butt;stroke-linejoin:miter;stroke:rgb(26.666667%,26.666667%,26.666667%);stroke-opacity:1;stroke-miterlimit:10;\" d=\"M 551.925781 383.402344 L 580 419.800781 \"/>\n",
       "<path style=\"fill:none;stroke-width:1;stroke-linecap:butt;stroke-linejoin:miter;stroke:rgb(26.666667%,26.666667%,26.666667%);stroke-opacity:1;stroke-miterlimit:10;\" d=\"M 567.148438 396.828125 L 568.910156 316.261719 \"/>\n",
       "<path style=\"fill:none;stroke-width:1;stroke-linecap:butt;stroke-linejoin:miter;stroke:rgb(26.666667%,26.666667%,26.666667%);stroke-opacity:1;stroke-miterlimit:10;\" d=\"M 567.148438 396.828125 L 572.824219 342 \"/>\n",
       "<path style=\"fill:none;stroke-width:1;stroke-linecap:butt;stroke-linejoin:miter;stroke:rgb(26.666667%,26.666667%,26.666667%);stroke-opacity:1;stroke-miterlimit:10;\" d=\"M 567.148438 396.828125 L 580 419.800781 \"/>\n",
       "<path style=\"fill:none;stroke-width:1;stroke-linecap:butt;stroke-linejoin:miter;stroke:rgb(26.666667%,26.666667%,26.666667%);stroke-opacity:1;stroke-miterlimit:10;\" d=\"M 567.148438 202.140625 L 568.910156 316.261719 \"/>\n",
       "<path style=\"fill:none;stroke-width:1;stroke-linecap:butt;stroke-linejoin:miter;stroke:rgb(26.666667%,26.666667%,26.666667%);stroke-opacity:1;stroke-miterlimit:10;\" d=\"M 568.910156 316.261719 L 572.824219 342 \"/>\n",
       "<path style=\"fill:none;stroke-width:1;stroke-linecap:butt;stroke-linejoin:miter;stroke:rgb(26.666667%,26.666667%,26.666667%);stroke-opacity:1;stroke-miterlimit:10;\" d=\"M 568.910156 316.261719 L 580 419.800781 \"/>\n",
       "<path style=\"fill:none;stroke-width:1;stroke-linecap:butt;stroke-linejoin:miter;stroke:rgb(26.666667%,26.666667%,26.666667%);stroke-opacity:1;stroke-miterlimit:10;\" d=\"M 572.824219 342 L 580 419.800781 \"/>\n",
       "<path style=\"fill-rule:nonzero;fill:rgb(100%,0%,0%);fill-opacity:1;stroke-width:1;stroke-linecap:butt;stroke-linejoin:miter;stroke:rgb(0%,0%,0%);stroke-opacity:1;stroke-miterlimit:10;\" d=\"M 30 305.351563 C 30 310.875 25.523438 315.351563 20 315.351563 C 14.476563 315.351563 10 310.875 10 305.351563 C 10 299.828125 14.476563 295.351563 20 295.351563 C 25.523438 295.351563 30 299.828125 30 305.351563 \"/>\n",
       "<path style=\"fill-rule:nonzero;fill:rgb(100%,0%,0%);fill-opacity:1;stroke-width:1;stroke-linecap:butt;stroke-linejoin:miter;stroke:rgb(0%,0%,0%);stroke-opacity:1;stroke-miterlimit:10;\" d=\"M 37.015625 301.066406 C 37.015625 306.589844 32.539063 311.066406 27.015625 311.066406 C 21.492188 311.066406 17.015625 306.589844 17.015625 301.066406 C 17.015625 295.542969 21.492188 291.066406 27.015625 291.066406 C 32.539063 291.066406 37.015625 295.542969 37.015625 301.066406 \"/>\n",
       "<path style=\"fill-rule:nonzero;fill:rgb(100%,0%,0%);fill-opacity:1;stroke-width:1;stroke-linecap:butt;stroke-linejoin:miter;stroke:rgb(0%,0%,0%);stroke-opacity:1;stroke-miterlimit:10;\" d=\"M 40.269531 558.347656 C 40.269531 563.871094 35.792969 568.347656 30.269531 568.347656 C 24.75 568.347656 20.269531 563.871094 20.269531 558.347656 C 20.269531 552.824219 24.75 548.347656 30.269531 548.347656 C 35.792969 548.347656 40.269531 552.824219 40.269531 558.347656 \"/>\n",
       "<path style=\"fill-rule:nonzero;fill:rgb(100%,0%,0%);fill-opacity:1;stroke-width:1;stroke-linecap:butt;stroke-linejoin:miter;stroke:rgb(0%,0%,0%);stroke-opacity:1;stroke-miterlimit:10;\" d=\"M 46.074219 437.21875 C 46.074219 442.742188 41.597656 447.21875 36.074219 447.21875 C 30.550781 447.21875 26.074219 442.742188 26.074219 437.21875 C 26.074219 431.695313 30.550781 427.21875 36.074219 427.21875 C 41.597656 427.21875 46.074219 431.695313 46.074219 437.21875 \"/>\n",
       "<path style=\"fill-rule:nonzero;fill:rgb(100%,0%,0%);fill-opacity:1;stroke-width:1;stroke-linecap:butt;stroke-linejoin:miter;stroke:rgb(0%,0%,0%);stroke-opacity:1;stroke-miterlimit:10;\" d=\"M 46.761719 517.191406 C 46.761719 522.710938 42.285156 527.191406 36.761719 527.191406 C 31.238281 527.191406 26.761719 522.710938 26.761719 517.191406 C 26.761719 511.667969 31.238281 507.191406 36.761719 507.191406 C 42.285156 507.191406 46.761719 511.667969 46.761719 517.191406 \"/>\n",
       "<path style=\"fill-rule:nonzero;fill:rgb(100%,0%,0%);fill-opacity:1;stroke-width:1;stroke-linecap:butt;stroke-linejoin:miter;stroke:rgb(0%,0%,0%);stroke-opacity:1;stroke-miterlimit:10;\" d=\"M 49.085938 320.054688 C 49.085938 325.578125 44.605469 330.054688 39.085938 330.054688 C 33.5625 330.054688 29.085938 325.578125 29.085938 320.054688 C 29.085938 314.53125 33.5625 310.054688 39.085938 310.054688 C 44.605469 310.054688 49.085938 314.53125 49.085938 320.054688 \"/>\n",
       "<path style=\"fill-rule:nonzero;fill:rgb(100%,0%,0%);fill-opacity:1;stroke-width:1;stroke-linecap:butt;stroke-linejoin:miter;stroke:rgb(0%,0%,0%);stroke-opacity:1;stroke-miterlimit:10;\" d=\"M 49.761719 565.542969 C 49.761719 571.066406 45.285156 575.542969 39.761719 575.542969 C 34.238281 575.542969 29.761719 571.066406 29.761719 565.542969 C 29.761719 560.023438 34.238281 555.542969 39.761719 555.542969 C 45.285156 555.542969 49.761719 560.023438 49.761719 565.542969 \"/>\n",
       "<path style=\"fill-rule:nonzero;fill:rgb(100%,0%,0%);fill-opacity:1;stroke-width:1;stroke-linecap:butt;stroke-linejoin:miter;stroke:rgb(0%,0%,0%);stroke-opacity:1;stroke-miterlimit:10;\" d=\"M 50.507813 304.5625 C 50.507813 310.085938 46.03125 314.5625 40.507813 314.5625 C 34.984375 314.5625 30.507813 310.085938 30.507813 304.5625 C 30.507813 299.039063 34.984375 294.5625 40.507813 294.5625 C 46.03125 294.5625 50.507813 299.039063 50.507813 304.5625 \"/>\n",
       "<path style=\"fill-rule:nonzero;fill:rgb(100%,0%,0%);fill-opacity:1;stroke-width:1;stroke-linecap:butt;stroke-linejoin:miter;stroke:rgb(0%,0%,0%);stroke-opacity:1;stroke-miterlimit:10;\" d=\"M 51.4375 64.097656 C 51.4375 69.621094 46.960938 74.097656 41.4375 74.097656 C 35.914063 74.097656 31.4375 69.621094 31.4375 64.097656 C 31.4375 58.574219 35.914063 54.097656 41.4375 54.097656 C 46.960938 54.097656 51.4375 58.574219 51.4375 64.097656 \"/>\n",
       "<path style=\"fill-rule:nonzero;fill:rgb(100%,0%,0%);fill-opacity:1;stroke-width:1;stroke-linecap:butt;stroke-linejoin:miter;stroke:rgb(0%,0%,0%);stroke-opacity:1;stroke-miterlimit:10;\" d=\"M 65.101563 580 C 65.101563 585.523438 60.625 590 55.101563 590 C 49.578125 590 45.101563 585.523438 45.101563 580 C 45.101563 574.476563 49.578125 570 55.101563 570 C 60.625 570 65.101563 574.476563 65.101563 580 \"/>\n",
       "<path style=\"fill-rule:nonzero;fill:rgb(100%,0%,0%);fill-opacity:1;stroke-width:1;stroke-linecap:butt;stroke-linejoin:miter;stroke:rgb(0%,0%,0%);stroke-opacity:1;stroke-miterlimit:10;\" d=\"M 67.089844 244.988281 C 67.089844 250.511719 62.609375 254.988281 57.089844 254.988281 C 51.566406 254.988281 47.089844 250.511719 47.089844 244.988281 C 47.089844 239.464844 51.566406 234.988281 57.089844 234.988281 C 62.609375 234.988281 67.089844 239.464844 67.089844 244.988281 \"/>\n",
       "<path style=\"fill-rule:nonzero;fill:rgb(100%,0%,0%);fill-opacity:1;stroke-width:1;stroke-linecap:butt;stroke-linejoin:miter;stroke:rgb(0%,0%,0%);stroke-opacity:1;stroke-miterlimit:10;\" d=\"M 74.867188 156.015625 C 74.867188 161.539063 70.390625 166.015625 64.867188 166.015625 C 59.34375 166.015625 54.867188 161.539063 54.867188 156.015625 C 54.867188 150.492188 59.34375 146.015625 64.867188 146.015625 C 70.390625 146.015625 74.867188 150.492188 74.867188 156.015625 \"/>\n",
       "<path style=\"fill-rule:nonzero;fill:rgb(100%,0%,0%);fill-opacity:1;stroke-width:1;stroke-linecap:butt;stroke-linejoin:miter;stroke:rgb(0%,0%,0%);stroke-opacity:1;stroke-miterlimit:10;\" d=\"M 76.136719 474.6875 C 76.136719 480.210938 71.660156 484.6875 66.136719 484.6875 C 60.617188 484.6875 56.136719 480.210938 56.136719 474.6875 C 56.136719 469.164063 60.617188 464.6875 66.136719 464.6875 C 71.660156 464.6875 76.136719 469.164063 76.136719 474.6875 \"/>\n",
       "<path style=\"fill-rule:nonzero;fill:rgb(100%,0%,0%);fill-opacity:1;stroke-width:1;stroke-linecap:butt;stroke-linejoin:miter;stroke:rgb(0%,0%,0%);stroke-opacity:1;stroke-miterlimit:10;\" d=\"M 79.015625 111.015625 C 79.015625 116.539063 74.539063 121.015625 69.015625 121.015625 C 63.496094 121.015625 59.015625 116.539063 59.015625 111.015625 C 59.015625 105.496094 63.496094 101.015625 69.015625 101.015625 C 74.539063 101.015625 79.015625 105.496094 79.015625 111.015625 \"/>\n",
       "<path style=\"fill-rule:nonzero;fill:rgb(100%,0%,0%);fill-opacity:1;stroke-width:1;stroke-linecap:butt;stroke-linejoin:miter;stroke:rgb(0%,0%,0%);stroke-opacity:1;stroke-miterlimit:10;\" d=\"M 86.011719 102.992188 C 86.011719 108.515625 81.535156 112.992188 76.011719 112.992188 C 70.488281 112.992188 66.011719 108.515625 66.011719 102.992188 C 66.011719 97.46875 70.488281 92.992188 76.011719 92.992188 C 81.535156 92.992188 86.011719 97.46875 86.011719 102.992188 \"/>\n",
       "<path style=\"fill-rule:nonzero;fill:rgb(100%,0%,0%);fill-opacity:1;stroke-width:1;stroke-linecap:butt;stroke-linejoin:miter;stroke:rgb(0%,0%,0%);stroke-opacity:1;stroke-miterlimit:10;\" d=\"M 92.996094 403.160156 C 92.996094 408.683594 88.519531 413.160156 82.996094 413.160156 C 77.476563 413.160156 72.996094 408.683594 72.996094 403.160156 C 72.996094 397.636719 77.476563 393.160156 82.996094 393.160156 C 88.519531 393.160156 92.996094 397.636719 92.996094 403.160156 \"/>\n",
       "<path style=\"fill-rule:nonzero;fill:rgb(100%,0%,0%);fill-opacity:1;stroke-width:1;stroke-linecap:butt;stroke-linejoin:miter;stroke:rgb(0%,0%,0%);stroke-opacity:1;stroke-miterlimit:10;\" d=\"M 94.445313 422.046875 C 94.445313 427.570313 89.96875 432.046875 84.445313 432.046875 C 78.921875 432.046875 74.445313 427.570313 74.445313 422.046875 C 74.445313 416.523438 78.921875 412.046875 84.445313 412.046875 C 89.96875 412.046875 94.445313 416.523438 94.445313 422.046875 \"/>\n",
       "<path style=\"fill-rule:nonzero;fill:rgb(100%,0%,0%);fill-opacity:1;stroke-width:1;stroke-linecap:butt;stroke-linejoin:miter;stroke:rgb(0%,0%,0%);stroke-opacity:1;stroke-miterlimit:10;\" d=\"M 99.820313 188.011719 C 99.820313 193.535156 95.34375 198.011719 89.820313 198.011719 C 84.296875 198.011719 79.820313 193.535156 79.820313 188.011719 C 79.820313 182.488281 84.296875 178.011719 89.820313 178.011719 C 95.34375 178.011719 99.820313 182.488281 99.820313 188.011719 \"/>\n",
       "<path style=\"fill-rule:nonzero;fill:rgb(100%,0%,0%);fill-opacity:1;stroke-width:1;stroke-linecap:butt;stroke-linejoin:miter;stroke:rgb(0%,0%,0%);stroke-opacity:1;stroke-miterlimit:10;\" d=\"M 101.414063 391.121094 C 101.414063 396.644531 96.9375 401.121094 91.414063 401.121094 C 85.890625 401.121094 81.414063 396.644531 81.414063 391.121094 C 81.414063 385.597656 85.890625 381.121094 91.414063 381.121094 C 96.9375 381.121094 101.414063 385.597656 101.414063 391.121094 \"/>\n",
       "<path style=\"fill-rule:nonzero;fill:rgb(100%,0%,0%);fill-opacity:1;stroke-width:1;stroke-linecap:butt;stroke-linejoin:miter;stroke:rgb(0%,0%,0%);stroke-opacity:1;stroke-miterlimit:10;\" d=\"M 107.242188 370.636719 C 107.242188 376.160156 102.765625 380.636719 97.242188 380.636719 C 91.71875 380.636719 87.242188 376.160156 87.242188 370.636719 C 87.242188 365.117188 91.71875 360.636719 97.242188 360.636719 C 102.765625 360.636719 107.242188 365.117188 107.242188 370.636719 \"/>\n",
       "<path style=\"fill-rule:nonzero;fill:rgb(100%,0%,0%);fill-opacity:1;stroke-width:1;stroke-linecap:butt;stroke-linejoin:miter;stroke:rgb(0%,0%,0%);stroke-opacity:1;stroke-miterlimit:10;\" d=\"M 111.800781 22.425781 C 111.800781 27.949219 107.324219 32.425781 101.800781 32.425781 C 96.277344 32.425781 91.800781 27.949219 91.800781 22.425781 C 91.800781 16.90625 96.277344 12.425781 101.800781 12.425781 C 107.324219 12.425781 111.800781 16.90625 111.800781 22.425781 \"/>\n",
       "<path style=\"fill-rule:nonzero;fill:rgb(100%,0%,0%);fill-opacity:1;stroke-width:1;stroke-linecap:butt;stroke-linejoin:miter;stroke:rgb(0%,0%,0%);stroke-opacity:1;stroke-miterlimit:10;\" d=\"M 115.285156 579.144531 C 115.285156 584.667969 110.808594 589.144531 105.285156 589.144531 C 99.761719 589.144531 95.285156 584.667969 95.285156 579.144531 C 95.285156 573.621094 99.761719 569.144531 105.285156 569.144531 C 110.808594 569.144531 115.285156 573.621094 115.285156 579.144531 \"/>\n",
       "<path style=\"fill-rule:nonzero;fill:rgb(100%,0%,0%);fill-opacity:1;stroke-width:1;stroke-linecap:butt;stroke-linejoin:miter;stroke:rgb(0%,0%,0%);stroke-opacity:1;stroke-miterlimit:10;\" d=\"M 143.1875 533.15625 C 143.1875 538.679688 138.707031 543.15625 133.1875 543.15625 C 127.664063 543.15625 123.1875 538.679688 123.1875 533.15625 C 123.1875 527.632813 127.664063 523.15625 133.1875 523.15625 C 138.707031 523.15625 143.1875 527.632813 143.1875 533.15625 \"/>\n",
       "<path style=\"fill-rule:nonzero;fill:rgb(100%,0%,0%);fill-opacity:1;stroke-width:1;stroke-linecap:butt;stroke-linejoin:miter;stroke:rgb(0%,0%,0%);stroke-opacity:1;stroke-miterlimit:10;\" d=\"M 145.417969 23.199219 C 145.417969 28.722656 140.941406 33.199219 135.417969 33.199219 C 129.894531 33.199219 125.417969 28.722656 125.417969 23.199219 C 125.417969 17.675781 129.894531 13.199219 135.417969 13.199219 C 140.941406 13.199219 145.417969 17.675781 145.417969 23.199219 \"/>\n",
       "<path style=\"fill-rule:nonzero;fill:rgb(100%,0%,0%);fill-opacity:1;stroke-width:1;stroke-linecap:butt;stroke-linejoin:miter;stroke:rgb(0%,0%,0%);stroke-opacity:1;stroke-miterlimit:10;\" d=\"M 146.058594 336.804688 C 146.058594 342.324219 141.582031 346.804688 136.058594 346.804688 C 130.535156 346.804688 126.058594 342.324219 126.058594 336.804688 C 126.058594 331.28125 130.535156 326.804688 136.058594 326.804688 C 141.582031 326.804688 146.058594 331.28125 146.058594 336.804688 \"/>\n",
       "<path style=\"fill-rule:nonzero;fill:rgb(100%,0%,0%);fill-opacity:1;stroke-width:1;stroke-linecap:butt;stroke-linejoin:miter;stroke:rgb(0%,0%,0%);stroke-opacity:1;stroke-miterlimit:10;\" d=\"M 161.542969 143.816406 C 161.542969 149.339844 157.066406 153.816406 151.542969 153.816406 C 146.019531 153.816406 141.542969 149.339844 141.542969 143.816406 C 141.542969 138.292969 146.019531 133.816406 151.542969 133.816406 C 157.066406 133.816406 161.542969 138.292969 161.542969 143.816406 \"/>\n",
       "<path style=\"fill-rule:nonzero;fill:rgb(100%,0%,0%);fill-opacity:1;stroke-width:1;stroke-linecap:butt;stroke-linejoin:miter;stroke:rgb(0%,0%,0%);stroke-opacity:1;stroke-miterlimit:10;\" d=\"M 171.101563 354.777344 C 171.101563 360.300781 166.625 364.777344 161.101563 364.777344 C 155.582031 364.777344 151.101563 360.300781 151.101563 354.777344 C 151.101563 349.253906 155.582031 344.777344 161.101563 344.777344 C 166.625 344.777344 171.101563 349.253906 171.101563 354.777344 \"/>\n",
       "<path style=\"fill-rule:nonzero;fill:rgb(100%,0%,0%);fill-opacity:1;stroke-width:1;stroke-linecap:butt;stroke-linejoin:miter;stroke:rgb(0%,0%,0%);stroke-opacity:1;stroke-miterlimit:10;\" d=\"M 175.398438 91.011719 C 175.398438 96.53125 170.917969 101.011719 165.398438 101.011719 C 159.875 101.011719 155.398438 96.53125 155.398438 91.011719 C 155.398438 85.488281 159.875 81.011719 165.398438 81.011719 C 170.917969 81.011719 175.398438 85.488281 175.398438 91.011719 \"/>\n",
       "<path style=\"fill-rule:nonzero;fill:rgb(100%,0%,0%);fill-opacity:1;stroke-width:1;stroke-linecap:butt;stroke-linejoin:miter;stroke:rgb(0%,0%,0%);stroke-opacity:1;stroke-miterlimit:10;\" d=\"M 177.820313 98 C 177.820313 103.519531 173.34375 108 167.820313 108 C 162.296875 108 157.820313 103.519531 157.820313 98 C 157.820313 92.476563 162.296875 88 167.820313 88 C 173.34375 88 177.820313 92.476563 177.820313 98 \"/>\n",
       "<path style=\"fill-rule:nonzero;fill:rgb(100%,0%,0%);fill-opacity:1;stroke-width:1;stroke-linecap:butt;stroke-linejoin:miter;stroke:rgb(0%,0%,0%);stroke-opacity:1;stroke-miterlimit:10;\" d=\"M 182.605469 346.925781 C 182.605469 352.449219 178.128906 356.925781 172.605469 356.925781 C 167.082031 356.925781 162.605469 352.449219 162.605469 346.925781 C 162.605469 341.402344 167.082031 336.925781 172.605469 336.925781 C 178.128906 336.925781 182.605469 341.402344 182.605469 346.925781 \"/>\n",
       "<path style=\"fill-rule:nonzero;fill:rgb(100%,0%,0%);fill-opacity:1;stroke-width:1;stroke-linecap:butt;stroke-linejoin:miter;stroke:rgb(0%,0%,0%);stroke-opacity:1;stroke-miterlimit:10;\" d=\"M 182.691406 549.578125 C 182.691406 555.101563 178.214844 559.578125 172.691406 559.578125 C 167.171875 559.578125 162.691406 555.101563 162.691406 549.578125 C 162.691406 544.054688 167.171875 539.578125 172.691406 539.578125 C 178.214844 539.578125 182.691406 544.054688 182.691406 549.578125 \"/>\n",
       "<path style=\"fill-rule:nonzero;fill:rgb(100%,0%,0%);fill-opacity:1;stroke-width:1;stroke-linecap:butt;stroke-linejoin:miter;stroke:rgb(0%,0%,0%);stroke-opacity:1;stroke-miterlimit:10;\" d=\"M 206.996094 391.988281 C 206.996094 397.511719 202.519531 401.988281 196.996094 401.988281 C 191.472656 401.988281 186.996094 397.511719 186.996094 391.988281 C 186.996094 386.464844 191.472656 381.988281 196.996094 381.988281 C 202.519531 381.988281 206.996094 386.464844 206.996094 391.988281 \"/>\n",
       "<path style=\"fill-rule:nonzero;fill:rgb(100%,0%,0%);fill-opacity:1;stroke-width:1;stroke-linecap:butt;stroke-linejoin:miter;stroke:rgb(0%,0%,0%);stroke-opacity:1;stroke-miterlimit:10;\" d=\"M 211.992188 410.558594 C 211.992188 416.082031 207.515625 420.558594 201.992188 420.558594 C 196.46875 420.558594 191.992188 416.082031 191.992188 410.558594 C 191.992188 405.035156 196.46875 400.558594 201.992188 400.558594 C 207.515625 400.558594 211.992188 405.035156 211.992188 410.558594 \"/>\n",
       "<path style=\"fill-rule:nonzero;fill:rgb(100%,0%,0%);fill-opacity:1;stroke-width:1;stroke-linecap:butt;stroke-linejoin:miter;stroke:rgb(0%,0%,0%);stroke-opacity:1;stroke-miterlimit:10;\" d=\"M 213.203125 86.972656 C 213.203125 92.496094 208.726563 96.972656 203.203125 96.972656 C 197.683594 96.972656 193.203125 92.496094 193.203125 86.972656 C 193.203125 81.449219 197.683594 76.972656 203.203125 76.972656 C 208.726563 76.972656 213.203125 81.449219 213.203125 86.972656 \"/>\n",
       "<path style=\"fill-rule:nonzero;fill:rgb(100%,0%,0%);fill-opacity:1;stroke-width:1;stroke-linecap:butt;stroke-linejoin:miter;stroke:rgb(0%,0%,0%);stroke-opacity:1;stroke-miterlimit:10;\" d=\"M 219.992188 359.6875 C 219.992188 365.207031 215.515625 369.6875 209.992188 369.6875 C 204.46875 369.6875 199.992188 365.207031 199.992188 359.6875 C 199.992188 354.164063 204.46875 349.6875 209.992188 349.6875 C 215.515625 349.6875 219.992188 354.164063 219.992188 359.6875 \"/>\n",
       "<path style=\"fill-rule:nonzero;fill:rgb(100%,0%,0%);fill-opacity:1;stroke-width:1;stroke-linecap:butt;stroke-linejoin:miter;stroke:rgb(0%,0%,0%);stroke-opacity:1;stroke-miterlimit:10;\" d=\"M 220.46875 295.957031 C 220.46875 301.476563 215.988281 305.957031 210.46875 305.957031 C 204.945313 305.957031 200.46875 301.476563 200.46875 295.957031 C 200.46875 290.433594 204.945313 285.957031 210.46875 285.957031 C 215.988281 285.957031 220.46875 290.433594 220.46875 295.957031 \"/>\n",
       "<path style=\"fill-rule:nonzero;fill:rgb(100%,0%,0%);fill-opacity:1;stroke-width:1;stroke-linecap:butt;stroke-linejoin:miter;stroke:rgb(0%,0%,0%);stroke-opacity:1;stroke-miterlimit:10;\" d=\"M 220.867188 33.207031 C 220.867188 38.730469 216.390625 43.207031 210.867188 43.207031 C 205.34375 43.207031 200.867188 38.730469 200.867188 33.207031 C 200.867188 27.683594 205.34375 23.207031 210.867188 23.207031 C 216.390625 23.207031 220.867188 27.683594 220.867188 33.207031 \"/>\n",
       "<path style=\"fill-rule:nonzero;fill:rgb(100%,0%,0%);fill-opacity:1;stroke-width:1;stroke-linecap:butt;stroke-linejoin:miter;stroke:rgb(0%,0%,0%);stroke-opacity:1;stroke-miterlimit:10;\" d=\"M 227.132813 223.738281 C 227.132813 229.261719 222.65625 233.738281 217.132813 233.738281 C 211.609375 233.738281 207.132813 229.261719 207.132813 223.738281 C 207.132813 218.214844 211.609375 213.738281 217.132813 213.738281 C 222.65625 213.738281 227.132813 218.214844 227.132813 223.738281 \"/>\n",
       "<path style=\"fill-rule:nonzero;fill:rgb(100%,0%,0%);fill-opacity:1;stroke-width:1;stroke-linecap:butt;stroke-linejoin:miter;stroke:rgb(0%,0%,0%);stroke-opacity:1;stroke-miterlimit:10;\" d=\"M 231.703125 554.644531 C 231.703125 560.167969 227.226563 564.644531 221.703125 564.644531 C 216.179688 564.644531 211.703125 560.167969 211.703125 554.644531 C 211.703125 549.121094 216.179688 544.644531 221.703125 544.644531 C 227.226563 544.644531 231.703125 549.121094 231.703125 554.644531 \"/>\n",
       "<path style=\"fill-rule:nonzero;fill:rgb(100%,0%,0%);fill-opacity:1;stroke-width:1;stroke-linecap:butt;stroke-linejoin:miter;stroke:rgb(0%,0%,0%);stroke-opacity:1;stroke-miterlimit:10;\" d=\"M 240.273438 503.261719 C 240.273438 508.785156 235.796875 513.261719 230.273438 513.261719 C 224.753906 513.261719 220.273438 508.785156 220.273438 503.261719 C 220.273438 497.738281 224.753906 493.261719 230.273438 493.261719 C 235.796875 493.261719 240.273438 497.738281 240.273438 503.261719 \"/>\n",
       "<path style=\"fill-rule:nonzero;fill:rgb(100%,0%,0%);fill-opacity:1;stroke-width:1;stroke-linecap:butt;stroke-linejoin:miter;stroke:rgb(0%,0%,0%);stroke-opacity:1;stroke-miterlimit:10;\" d=\"M 254.84375 311.238281 C 254.84375 316.761719 250.367188 321.238281 244.84375 321.238281 C 239.320313 321.238281 234.84375 316.761719 234.84375 311.238281 C 234.84375 305.71875 239.320313 301.238281 244.84375 301.238281 C 250.367188 301.238281 254.84375 305.71875 254.84375 311.238281 \"/>\n",
       "<path style=\"fill-rule:nonzero;fill:rgb(100%,0%,0%);fill-opacity:1;stroke-width:1;stroke-linecap:butt;stroke-linejoin:miter;stroke:rgb(0%,0%,0%);stroke-opacity:1;stroke-miterlimit:10;\" d=\"M 263.222656 55.703125 C 263.222656 61.226563 258.746094 65.703125 253.222656 65.703125 C 247.699219 65.703125 243.222656 61.226563 243.222656 55.703125 C 243.222656 50.179688 247.699219 45.703125 253.222656 45.703125 C 258.746094 45.703125 263.222656 50.179688 263.222656 55.703125 \"/>\n",
       "<path style=\"fill-rule:nonzero;fill:rgb(100%,0%,0%);fill-opacity:1;stroke-width:1;stroke-linecap:butt;stroke-linejoin:miter;stroke:rgb(0%,0%,0%);stroke-opacity:1;stroke-miterlimit:10;\" d=\"M 264.144531 417.886719 C 264.144531 423.40625 259.667969 427.886719 254.144531 427.886719 C 248.621094 427.886719 244.144531 423.40625 244.144531 417.886719 C 244.144531 412.363281 248.621094 407.886719 254.144531 407.886719 C 259.667969 407.886719 264.144531 412.363281 264.144531 417.886719 \"/>\n",
       "<path style=\"fill-rule:nonzero;fill:rgb(100%,0%,0%);fill-opacity:1;stroke-width:1;stroke-linecap:butt;stroke-linejoin:miter;stroke:rgb(0%,0%,0%);stroke-opacity:1;stroke-miterlimit:10;\" d=\"M 264.8125 407.835938 C 264.8125 413.355469 260.335938 417.835938 254.8125 417.835938 C 249.292969 417.835938 244.8125 413.355469 244.8125 407.835938 C 244.8125 402.3125 249.292969 397.835938 254.8125 397.835938 C 260.335938 397.835938 264.8125 402.3125 264.8125 407.835938 \"/>\n",
       "<path style=\"fill-rule:nonzero;fill:rgb(100%,0%,0%);fill-opacity:1;stroke-width:1;stroke-linecap:butt;stroke-linejoin:miter;stroke:rgb(0%,0%,0%);stroke-opacity:1;stroke-miterlimit:10;\" d=\"M 268.171875 104.753906 C 268.171875 110.277344 263.691406 114.753906 258.171875 114.753906 C 252.648438 114.753906 248.171875 110.277344 248.171875 104.753906 C 248.171875 99.230469 252.648438 94.753906 258.171875 94.753906 C 263.691406 94.753906 268.171875 99.230469 268.171875 104.753906 \"/>\n",
       "<path style=\"fill-rule:nonzero;fill:rgb(100%,0%,0%);fill-opacity:1;stroke-width:1;stroke-linecap:butt;stroke-linejoin:miter;stroke:rgb(0%,0%,0%);stroke-opacity:1;stroke-miterlimit:10;\" d=\"M 268.660156 578.683594 C 268.660156 584.207031 264.183594 588.683594 258.660156 588.683594 C 253.136719 588.683594 248.660156 584.207031 248.660156 578.683594 C 248.660156 573.160156 253.136719 568.683594 258.660156 568.683594 C 264.183594 568.683594 268.660156 573.160156 268.660156 578.683594 \"/>\n",
       "<path style=\"fill-rule:nonzero;fill:rgb(100%,0%,0%);fill-opacity:1;stroke-width:1;stroke-linecap:butt;stroke-linejoin:miter;stroke:rgb(0%,0%,0%);stroke-opacity:1;stroke-miterlimit:10;\" d=\"M 273.386719 20 C 273.386719 25.523438 268.910156 30 263.386719 30 C 257.863281 30 253.386719 25.523438 253.386719 20 C 253.386719 14.476563 257.863281 10 263.386719 10 C 268.910156 10 273.386719 14.476563 273.386719 20 \"/>\n",
       "<path style=\"fill-rule:nonzero;fill:rgb(100%,0%,0%);fill-opacity:1;stroke-width:1;stroke-linecap:butt;stroke-linejoin:miter;stroke:rgb(0%,0%,0%);stroke-opacity:1;stroke-miterlimit:10;\" d=\"M 285.816406 495.464844 C 285.816406 500.988281 281.339844 505.464844 275.816406 505.464844 C 270.296875 505.464844 265.816406 500.988281 265.816406 495.464844 C 265.816406 489.941406 270.296875 485.464844 275.816406 485.464844 C 281.339844 485.464844 285.816406 489.941406 285.816406 495.464844 \"/>\n",
       "<path style=\"fill-rule:nonzero;fill:rgb(100%,0%,0%);fill-opacity:1;stroke-width:1;stroke-linecap:butt;stroke-linejoin:miter;stroke:rgb(0%,0%,0%);stroke-opacity:1;stroke-miterlimit:10;\" d=\"M 305.761719 494.945313 C 305.761719 500.46875 301.285156 504.945313 295.761719 504.945313 C 290.238281 504.945313 285.761719 500.46875 285.761719 494.945313 C 285.761719 489.421875 290.238281 484.945313 295.761719 484.945313 C 301.285156 484.945313 305.761719 489.421875 305.761719 494.945313 \"/>\n",
       "<path style=\"fill-rule:nonzero;fill:rgb(100%,0%,0%);fill-opacity:1;stroke-width:1;stroke-linecap:butt;stroke-linejoin:miter;stroke:rgb(0%,0%,0%);stroke-opacity:1;stroke-miterlimit:10;\" d=\"M 313.046875 493.421875 C 313.046875 498.945313 308.570313 503.421875 303.046875 503.421875 C 297.523438 503.421875 293.046875 498.945313 293.046875 493.421875 C 293.046875 487.898438 297.523438 483.421875 303.046875 483.421875 C 308.570313 483.421875 313.046875 487.898438 313.046875 493.421875 \"/>\n",
       "<path style=\"fill-rule:nonzero;fill:rgb(100%,0%,0%);fill-opacity:1;stroke-width:1;stroke-linecap:butt;stroke-linejoin:miter;stroke:rgb(0%,0%,0%);stroke-opacity:1;stroke-miterlimit:10;\" d=\"M 328.519531 393.109375 C 328.519531 398.632813 324.042969 403.109375 318.519531 403.109375 C 313 403.109375 308.519531 398.632813 308.519531 393.109375 C 308.519531 387.585938 313 383.109375 318.519531 383.109375 C 324.042969 383.109375 328.519531 387.585938 328.519531 393.109375 \"/>\n",
       "<path style=\"fill-rule:nonzero;fill:rgb(100%,0%,0%);fill-opacity:1;stroke-width:1;stroke-linecap:butt;stroke-linejoin:miter;stroke:rgb(0%,0%,0%);stroke-opacity:1;stroke-miterlimit:10;\" d=\"M 331.523438 416.574219 C 331.523438 422.097656 327.046875 426.574219 321.523438 426.574219 C 316.003906 426.574219 311.523438 422.097656 311.523438 416.574219 C 311.523438 411.054688 316.003906 406.574219 321.523438 406.574219 C 327.046875 406.574219 331.523438 411.054688 331.523438 416.574219 \"/>\n",
       "<path style=\"fill-rule:nonzero;fill:rgb(100%,0%,0%);fill-opacity:1;stroke-width:1;stroke-linecap:butt;stroke-linejoin:miter;stroke:rgb(0%,0%,0%);stroke-opacity:1;stroke-miterlimit:10;\" d=\"M 333.855469 401.292969 C 333.855469 406.816406 329.378906 411.292969 323.855469 411.292969 C 318.332031 411.292969 313.855469 406.816406 313.855469 401.292969 C 313.855469 395.773438 318.332031 391.292969 323.855469 391.292969 C 329.378906 391.292969 333.855469 395.773438 333.855469 401.292969 \"/>\n",
       "<path style=\"fill-rule:nonzero;fill:rgb(100%,0%,0%);fill-opacity:1;stroke-width:1;stroke-linecap:butt;stroke-linejoin:miter;stroke:rgb(0%,0%,0%);stroke-opacity:1;stroke-miterlimit:10;\" d=\"M 346.09375 513.289063 C 346.09375 518.8125 341.613281 523.289063 336.09375 523.289063 C 330.570313 523.289063 326.09375 518.8125 326.09375 513.289063 C 326.09375 507.769531 330.570313 503.289063 336.09375 503.289063 C 341.613281 503.289063 346.09375 507.769531 346.09375 513.289063 \"/>\n",
       "<path style=\"fill-rule:nonzero;fill:rgb(100%,0%,0%);fill-opacity:1;stroke-width:1;stroke-linecap:butt;stroke-linejoin:miter;stroke:rgb(0%,0%,0%);stroke-opacity:1;stroke-miterlimit:10;\" d=\"M 347.386719 340.878906 C 347.386719 346.402344 342.910156 350.878906 337.386719 350.878906 C 331.863281 350.878906 327.386719 346.402344 327.386719 340.878906 C 327.386719 335.355469 331.863281 330.878906 337.386719 330.878906 C 342.910156 330.878906 347.386719 335.355469 347.386719 340.878906 \"/>\n",
       "<path style=\"fill-rule:nonzero;fill:rgb(100%,0%,0%);fill-opacity:1;stroke-width:1;stroke-linecap:butt;stroke-linejoin:miter;stroke:rgb(0%,0%,0%);stroke-opacity:1;stroke-miterlimit:10;\" d=\"M 347.507813 286.378906 C 347.507813 291.898438 343.027344 296.378906 337.507813 296.378906 C 331.984375 296.378906 327.507813 291.898438 327.507813 286.378906 C 327.507813 280.855469 331.984375 276.378906 337.507813 276.378906 C 343.027344 276.378906 347.507813 280.855469 347.507813 286.378906 \"/>\n",
       "<path style=\"fill-rule:nonzero;fill:rgb(100%,0%,0%);fill-opacity:1;stroke-width:1;stroke-linecap:butt;stroke-linejoin:miter;stroke:rgb(0%,0%,0%);stroke-opacity:1;stroke-miterlimit:10;\" d=\"M 349.367188 488.117188 C 349.367188 493.640625 344.886719 498.117188 339.367188 498.117188 C 333.84375 498.117188 329.367188 493.640625 329.367188 488.117188 C 329.367188 482.59375 333.84375 478.117188 339.367188 478.117188 C 344.886719 478.117188 349.367188 482.59375 349.367188 488.117188 \"/>\n",
       "<path style=\"fill-rule:nonzero;fill:rgb(100%,0%,0%);fill-opacity:1;stroke-width:1;stroke-linecap:butt;stroke-linejoin:miter;stroke:rgb(0%,0%,0%);stroke-opacity:1;stroke-miterlimit:10;\" d=\"M 355.4375 508.035156 C 355.4375 513.558594 350.960938 518.035156 345.4375 518.035156 C 339.914063 518.035156 335.4375 513.558594 335.4375 508.035156 C 335.4375 502.511719 339.914063 498.035156 345.4375 498.035156 C 350.960938 498.035156 355.4375 502.511719 355.4375 508.035156 \"/>\n",
       "<path style=\"fill-rule:nonzero;fill:rgb(100%,0%,0%);fill-opacity:1;stroke-width:1;stroke-linecap:butt;stroke-linejoin:miter;stroke:rgb(0%,0%,0%);stroke-opacity:1;stroke-miterlimit:10;\" d=\"M 361.28125 565.8125 C 361.28125 571.335938 356.804688 575.8125 351.28125 575.8125 C 345.757813 575.8125 341.28125 571.335938 341.28125 565.8125 C 341.28125 560.289063 345.757813 555.8125 351.28125 555.8125 C 356.804688 555.8125 361.28125 560.289063 361.28125 565.8125 \"/>\n",
       "<path style=\"fill-rule:nonzero;fill:rgb(100%,0%,0%);fill-opacity:1;stroke-width:1;stroke-linecap:butt;stroke-linejoin:miter;stroke:rgb(0%,0%,0%);stroke-opacity:1;stroke-miterlimit:10;\" d=\"M 362.226563 343.050781 C 362.226563 348.574219 357.75 353.050781 352.226563 353.050781 C 346.703125 353.050781 342.226563 348.574219 342.226563 343.050781 C 342.226563 337.527344 346.703125 333.050781 352.226563 333.050781 C 357.75 333.050781 362.226563 337.527344 362.226563 343.050781 \"/>\n",
       "<path style=\"fill-rule:nonzero;fill:rgb(100%,0%,0%);fill-opacity:1;stroke-width:1;stroke-linecap:butt;stroke-linejoin:miter;stroke:rgb(0%,0%,0%);stroke-opacity:1;stroke-miterlimit:10;\" d=\"M 373.144531 268.527344 C 373.144531 274.050781 368.664063 278.527344 363.144531 278.527344 C 357.621094 278.527344 353.144531 274.050781 353.144531 268.527344 C 353.144531 263.003906 357.621094 258.527344 363.144531 258.527344 C 368.664063 258.527344 373.144531 263.003906 373.144531 268.527344 \"/>\n",
       "<path style=\"fill-rule:nonzero;fill:rgb(100%,0%,0%);fill-opacity:1;stroke-width:1;stroke-linecap:butt;stroke-linejoin:miter;stroke:rgb(0%,0%,0%);stroke-opacity:1;stroke-miterlimit:10;\" d=\"M 381.851563 243.960938 C 381.851563 249.484375 377.375 253.960938 371.851563 253.960938 C 366.328125 253.960938 361.851563 249.484375 361.851563 243.960938 C 361.851563 238.4375 366.328125 233.960938 371.851563 233.960938 C 377.375 233.960938 381.851563 238.4375 381.851563 243.960938 \"/>\n",
       "<path style=\"fill-rule:nonzero;fill:rgb(100%,0%,0%);fill-opacity:1;stroke-width:1;stroke-linecap:butt;stroke-linejoin:miter;stroke:rgb(0%,0%,0%);stroke-opacity:1;stroke-miterlimit:10;\" d=\"M 387.691406 51.375 C 387.691406 56.898438 383.214844 61.375 377.691406 61.375 C 372.167969 61.375 367.691406 56.898438 367.691406 51.375 C 367.691406 45.855469 372.167969 41.375 377.691406 41.375 C 383.214844 41.375 387.691406 45.855469 387.691406 51.375 \"/>\n",
       "<path style=\"fill-rule:nonzero;fill:rgb(100%,0%,0%);fill-opacity:1;stroke-width:1;stroke-linecap:butt;stroke-linejoin:miter;stroke:rgb(0%,0%,0%);stroke-opacity:1;stroke-miterlimit:10;\" d=\"M 393.644531 50.253906 C 393.644531 55.773438 389.167969 60.253906 383.644531 60.253906 C 378.121094 60.253906 373.644531 55.773438 373.644531 50.253906 C 373.644531 44.730469 378.121094 40.253906 383.644531 40.253906 C 389.167969 40.253906 393.644531 44.730469 393.644531 50.253906 \"/>\n",
       "<path style=\"fill-rule:nonzero;fill:rgb(100%,0%,0%);fill-opacity:1;stroke-width:1;stroke-linecap:butt;stroke-linejoin:miter;stroke:rgb(0%,0%,0%);stroke-opacity:1;stroke-miterlimit:10;\" d=\"M 394.414063 40.558594 C 394.414063 46.082031 389.9375 50.558594 384.414063 50.558594 C 378.890625 50.558594 374.414063 46.082031 374.414063 40.558594 C 374.414063 35.035156 378.890625 30.558594 384.414063 30.558594 C 389.9375 30.558594 394.414063 35.035156 394.414063 40.558594 \"/>\n",
       "<path style=\"fill-rule:nonzero;fill:rgb(100%,0%,0%);fill-opacity:1;stroke-width:1;stroke-linecap:butt;stroke-linejoin:miter;stroke:rgb(0%,0%,0%);stroke-opacity:1;stroke-miterlimit:10;\" d=\"M 396 64.605469 C 396 70.128906 391.523438 74.605469 386 74.605469 C 380.476563 74.605469 376 70.128906 376 64.605469 C 376 59.082031 380.476563 54.605469 386 54.605469 C 391.523438 54.605469 396 59.082031 396 64.605469 \"/>\n",
       "<path style=\"fill-rule:nonzero;fill:rgb(100%,0%,0%);fill-opacity:1;stroke-width:1;stroke-linecap:butt;stroke-linejoin:miter;stroke:rgb(0%,0%,0%);stroke-opacity:1;stroke-miterlimit:10;\" d=\"M 416.644531 222.582031 C 416.644531 228.101563 412.167969 232.582031 406.644531 232.582031 C 401.121094 232.582031 396.644531 228.101563 396.644531 222.582031 C 396.644531 217.058594 401.121094 212.582031 406.644531 212.582031 C 412.167969 212.582031 416.644531 217.058594 416.644531 222.582031 \"/>\n",
       "<path style=\"fill-rule:nonzero;fill:rgb(100%,0%,0%);fill-opacity:1;stroke-width:1;stroke-linecap:butt;stroke-linejoin:miter;stroke:rgb(0%,0%,0%);stroke-opacity:1;stroke-miterlimit:10;\" d=\"M 420.023438 460.191406 C 420.023438 465.714844 415.542969 470.191406 410.023438 470.191406 C 404.5 470.191406 400.023438 465.714844 400.023438 460.191406 C 400.023438 454.667969 404.5 450.191406 410.023438 450.191406 C 415.542969 450.191406 420.023438 454.667969 420.023438 460.191406 \"/>\n",
       "<path style=\"fill-rule:nonzero;fill:rgb(100%,0%,0%);fill-opacity:1;stroke-width:1;stroke-linecap:butt;stroke-linejoin:miter;stroke:rgb(0%,0%,0%);stroke-opacity:1;stroke-miterlimit:10;\" d=\"M 422.664063 378.253906 C 422.664063 383.777344 418.1875 388.253906 412.664063 388.253906 C 407.140625 388.253906 402.664063 383.777344 402.664063 378.253906 C 402.664063 372.730469 407.140625 368.253906 412.664063 368.253906 C 418.1875 368.253906 422.664063 372.730469 422.664063 378.253906 \"/>\n",
       "<path style=\"fill-rule:nonzero;fill:rgb(100%,0%,0%);fill-opacity:1;stroke-width:1;stroke-linecap:butt;stroke-linejoin:miter;stroke:rgb(0%,0%,0%);stroke-opacity:1;stroke-miterlimit:10;\" d=\"M 425.359375 355.625 C 425.359375 361.148438 420.882813 365.625 415.359375 365.625 C 409.835938 365.625 405.359375 361.148438 405.359375 355.625 C 405.359375 350.101563 409.835938 345.625 415.359375 345.625 C 420.882813 345.625 425.359375 350.101563 425.359375 355.625 \"/>\n",
       "<path style=\"fill-rule:nonzero;fill:rgb(100%,0%,0%);fill-opacity:1;stroke-width:1;stroke-linecap:butt;stroke-linejoin:miter;stroke:rgb(0%,0%,0%);stroke-opacity:1;stroke-miterlimit:10;\" d=\"M 432.457031 271.140625 C 432.457031 276.660156 427.980469 281.140625 422.457031 281.140625 C 416.933594 281.140625 412.457031 276.660156 412.457031 271.140625 C 412.457031 265.617188 416.933594 261.140625 422.457031 261.140625 C 427.980469 261.140625 432.457031 265.617188 432.457031 271.140625 \"/>\n",
       "<path style=\"fill-rule:nonzero;fill:rgb(100%,0%,0%);fill-opacity:1;stroke-width:1;stroke-linecap:butt;stroke-linejoin:miter;stroke:rgb(0%,0%,0%);stroke-opacity:1;stroke-miterlimit:10;\" d=\"M 440.527344 258.816406 C 440.527344 264.339844 436.050781 268.816406 430.527344 268.816406 C 425.003906 268.816406 420.527344 264.339844 420.527344 258.816406 C 420.527344 253.292969 425.003906 248.816406 430.527344 248.816406 C 436.050781 248.816406 440.527344 253.292969 440.527344 258.816406 \"/>\n",
       "<path style=\"fill-rule:nonzero;fill:rgb(100%,0%,0%);fill-opacity:1;stroke-width:1;stroke-linecap:butt;stroke-linejoin:miter;stroke:rgb(0%,0%,0%);stroke-opacity:1;stroke-miterlimit:10;\" d=\"M 442.90625 500.394531 C 442.90625 505.917969 438.429688 510.394531 432.90625 510.394531 C 427.382813 510.394531 422.90625 505.917969 422.90625 500.394531 C 422.90625 494.871094 427.382813 490.394531 432.90625 490.394531 C 438.429688 490.394531 442.90625 494.871094 442.90625 500.394531 \"/>\n",
       "<path style=\"fill-rule:nonzero;fill:rgb(100%,0%,0%);fill-opacity:1;stroke-width:1;stroke-linecap:butt;stroke-linejoin:miter;stroke:rgb(0%,0%,0%);stroke-opacity:1;stroke-miterlimit:10;\" d=\"M 445.125 86.226563 C 445.125 91.75 440.648438 96.226563 435.125 96.226563 C 429.601563 96.226563 425.125 91.75 425.125 86.226563 C 425.125 80.703125 429.601563 76.226563 435.125 76.226563 C 440.648438 76.226563 445.125 80.703125 445.125 86.226563 \"/>\n",
       "<path style=\"fill-rule:nonzero;fill:rgb(100%,0%,0%);fill-opacity:1;stroke-width:1;stroke-linecap:butt;stroke-linejoin:miter;stroke:rgb(0%,0%,0%);stroke-opacity:1;stroke-miterlimit:10;\" d=\"M 450.546875 256.554688 C 450.546875 262.074219 446.066406 266.554688 440.546875 266.554688 C 435.023438 266.554688 430.546875 262.074219 430.546875 256.554688 C 430.546875 251.03125 435.023438 246.554688 440.546875 246.554688 C 446.066406 246.554688 450.546875 251.03125 450.546875 256.554688 \"/>\n",
       "<path style=\"fill-rule:nonzero;fill:rgb(100%,0%,0%);fill-opacity:1;stroke-width:1;stroke-linecap:butt;stroke-linejoin:miter;stroke:rgb(0%,0%,0%);stroke-opacity:1;stroke-miterlimit:10;\" d=\"M 450.996094 82.011719 C 450.996094 87.535156 446.515625 92.011719 440.996094 92.011719 C 435.472656 92.011719 430.996094 87.535156 430.996094 82.011719 C 430.996094 76.488281 435.472656 72.011719 440.996094 72.011719 C 446.515625 72.011719 450.996094 76.488281 450.996094 82.011719 \"/>\n",
       "<path style=\"fill-rule:nonzero;fill:rgb(100%,0%,0%);fill-opacity:1;stroke-width:1;stroke-linecap:butt;stroke-linejoin:miter;stroke:rgb(0%,0%,0%);stroke-opacity:1;stroke-miterlimit:10;\" d=\"M 466.714844 469.589844 C 466.714844 475.109375 462.238281 479.589844 456.714844 479.589844 C 451.195313 479.589844 446.714844 475.109375 446.714844 469.589844 C 446.714844 464.066406 451.195313 459.589844 456.714844 459.589844 C 462.238281 459.589844 466.714844 464.066406 466.714844 469.589844 \"/>\n",
       "<path style=\"fill-rule:nonzero;fill:rgb(100%,0%,0%);fill-opacity:1;stroke-width:1;stroke-linecap:butt;stroke-linejoin:miter;stroke:rgb(0%,0%,0%);stroke-opacity:1;stroke-miterlimit:10;\" d=\"M 492.421875 215.085938 C 492.421875 220.605469 487.941406 225.085938 482.421875 225.085938 C 476.898438 225.085938 472.421875 220.605469 472.421875 215.085938 C 472.421875 209.5625 476.898438 205.085938 482.421875 205.085938 C 487.941406 205.085938 492.421875 209.5625 492.421875 215.085938 \"/>\n",
       "<path style=\"fill-rule:nonzero;fill:rgb(100%,0%,0%);fill-opacity:1;stroke-width:1;stroke-linecap:butt;stroke-linejoin:miter;stroke:rgb(0%,0%,0%);stroke-opacity:1;stroke-miterlimit:10;\" d=\"M 495.261719 285.367188 C 495.261719 290.890625 490.785156 295.367188 485.261719 295.367188 C 479.742188 295.367188 475.261719 290.890625 475.261719 285.367188 C 475.261719 279.84375 479.742188 275.367188 485.261719 275.367188 C 490.785156 275.367188 495.261719 279.84375 495.261719 285.367188 \"/>\n",
       "<path style=\"fill-rule:nonzero;fill:rgb(100%,0%,0%);fill-opacity:1;stroke-width:1;stroke-linecap:butt;stroke-linejoin:miter;stroke:rgb(0%,0%,0%);stroke-opacity:1;stroke-miterlimit:10;\" d=\"M 496.253906 285.21875 C 496.253906 290.742188 491.777344 295.21875 486.253906 295.21875 C 480.730469 295.21875 476.253906 290.742188 476.253906 285.21875 C 476.253906 279.695313 480.730469 275.21875 486.253906 275.21875 C 491.777344 275.21875 496.253906 279.695313 496.253906 285.21875 \"/>\n",
       "<path style=\"fill-rule:nonzero;fill:rgb(100%,0%,0%);fill-opacity:1;stroke-width:1;stroke-linecap:butt;stroke-linejoin:miter;stroke:rgb(0%,0%,0%);stroke-opacity:1;stroke-miterlimit:10;\" d=\"M 496.945313 108.121094 C 496.945313 113.644531 492.46875 118.121094 486.945313 118.121094 C 481.421875 118.121094 476.945313 113.644531 476.945313 108.121094 C 476.945313 102.597656 481.421875 98.121094 486.945313 98.121094 C 492.46875 98.121094 496.945313 102.597656 496.945313 108.121094 \"/>\n",
       "<path style=\"fill-rule:nonzero;fill:rgb(100%,0%,0%);fill-opacity:1;stroke-width:1;stroke-linecap:butt;stroke-linejoin:miter;stroke:rgb(0%,0%,0%);stroke-opacity:1;stroke-miterlimit:10;\" d=\"M 501.332031 43.902344 C 501.332031 49.425781 496.855469 53.902344 491.332031 53.902344 C 485.808594 53.902344 481.332031 49.425781 481.332031 43.902344 C 481.332031 38.378906 485.808594 33.902344 491.332031 33.902344 C 496.855469 33.902344 501.332031 38.378906 501.332031 43.902344 \"/>\n",
       "<path style=\"fill-rule:nonzero;fill:rgb(100%,0%,0%);fill-opacity:1;stroke-width:1;stroke-linecap:butt;stroke-linejoin:miter;stroke:rgb(0%,0%,0%);stroke-opacity:1;stroke-miterlimit:10;\" d=\"M 506.433594 103.894531 C 506.433594 109.414063 501.953125 113.894531 496.433594 113.894531 C 490.910156 113.894531 486.433594 109.414063 486.433594 103.894531 C 486.433594 98.371094 490.910156 93.894531 496.433594 93.894531 C 501.953125 93.894531 506.433594 98.371094 506.433594 103.894531 \"/>\n",
       "<path style=\"fill-rule:nonzero;fill:rgb(100%,0%,0%);fill-opacity:1;stroke-width:1;stroke-linecap:butt;stroke-linejoin:miter;stroke:rgb(0%,0%,0%);stroke-opacity:1;stroke-miterlimit:10;\" d=\"M 508.054688 145.03125 C 508.054688 150.554688 503.578125 155.03125 498.054688 155.03125 C 492.53125 155.03125 488.054688 150.554688 488.054688 145.03125 C 488.054688 139.507813 492.53125 135.03125 498.054688 135.03125 C 503.578125 135.03125 508.054688 139.507813 508.054688 145.03125 \"/>\n",
       "<path style=\"fill-rule:nonzero;fill:rgb(100%,0%,0%);fill-opacity:1;stroke-width:1;stroke-linecap:butt;stroke-linejoin:miter;stroke:rgb(0%,0%,0%);stroke-opacity:1;stroke-miterlimit:10;\" d=\"M 515.261719 313.453125 C 515.261719 318.972656 510.785156 323.453125 505.261719 323.453125 C 499.738281 323.453125 495.261719 318.972656 495.261719 313.453125 C 495.261719 307.929688 499.738281 303.453125 505.261719 303.453125 C 510.785156 303.453125 515.261719 307.929688 515.261719 313.453125 \"/>\n",
       "<path style=\"fill-rule:nonzero;fill:rgb(100%,0%,0%);fill-opacity:1;stroke-width:1;stroke-linecap:butt;stroke-linejoin:miter;stroke:rgb(0%,0%,0%);stroke-opacity:1;stroke-miterlimit:10;\" d=\"M 521.542969 188.242188 C 521.542969 193.765625 517.066406 198.242188 511.542969 198.242188 C 506.019531 198.242188 501.542969 193.765625 501.542969 188.242188 C 501.542969 182.71875 506.019531 178.242188 511.542969 178.242188 C 517.066406 178.242188 521.542969 182.71875 521.542969 188.242188 \"/>\n",
       "<path style=\"fill-rule:nonzero;fill:rgb(100%,0%,0%);fill-opacity:1;stroke-width:1;stroke-linecap:butt;stroke-linejoin:miter;stroke:rgb(0%,0%,0%);stroke-opacity:1;stroke-miterlimit:10;\" d=\"M 526.023438 54.867188 C 526.023438 60.390625 521.546875 64.867188 516.023438 64.867188 C 510.5 64.867188 506.023438 60.390625 506.023438 54.867188 C 506.023438 49.34375 510.5 44.867188 516.023438 44.867188 C 521.546875 44.867188 526.023438 49.34375 526.023438 54.867188 \"/>\n",
       "<path style=\"fill-rule:nonzero;fill:rgb(100%,0%,0%);fill-opacity:1;stroke-width:1;stroke-linecap:butt;stroke-linejoin:miter;stroke:rgb(0%,0%,0%);stroke-opacity:1;stroke-miterlimit:10;\" d=\"M 530.570313 81.144531 C 530.570313 86.667969 526.09375 91.144531 520.570313 91.144531 C 515.046875 91.144531 510.570313 86.667969 510.570313 81.144531 C 510.570313 75.625 515.046875 71.144531 520.570313 71.144531 C 526.09375 71.144531 530.570313 75.625 530.570313 81.144531 \"/>\n",
       "<path style=\"fill-rule:nonzero;fill:rgb(100%,0%,0%);fill-opacity:1;stroke-width:1;stroke-linecap:butt;stroke-linejoin:miter;stroke:rgb(0%,0%,0%);stroke-opacity:1;stroke-miterlimit:10;\" d=\"M 534.097656 382.496094 C 534.097656 388.015625 529.621094 392.496094 524.097656 392.496094 C 518.574219 392.496094 514.097656 388.015625 514.097656 382.496094 C 514.097656 376.972656 518.574219 372.496094 524.097656 372.496094 C 529.621094 372.496094 534.097656 376.972656 534.097656 382.496094 \"/>\n",
       "<path style=\"fill-rule:nonzero;fill:rgb(100%,0%,0%);fill-opacity:1;stroke-width:1;stroke-linecap:butt;stroke-linejoin:miter;stroke:rgb(0%,0%,0%);stroke-opacity:1;stroke-miterlimit:10;\" d=\"M 544.109375 417.597656 C 544.109375 423.121094 539.628906 427.597656 534.109375 427.597656 C 528.585938 427.597656 524.109375 423.121094 524.109375 417.597656 C 524.109375 412.074219 528.585938 407.597656 534.109375 407.597656 C 539.628906 407.597656 544.109375 412.074219 544.109375 417.597656 \"/>\n",
       "<path style=\"fill-rule:nonzero;fill:rgb(100%,0%,0%);fill-opacity:1;stroke-width:1;stroke-linecap:butt;stroke-linejoin:miter;stroke:rgb(0%,0%,0%);stroke-opacity:1;stroke-miterlimit:10;\" d=\"M 550.339844 291.777344 C 550.339844 297.300781 545.863281 301.777344 540.339844 301.777344 C 534.816406 301.777344 530.339844 297.300781 530.339844 291.777344 C 530.339844 286.253906 534.816406 281.777344 540.339844 281.777344 C 545.863281 281.777344 550.339844 286.253906 550.339844 291.777344 \"/>\n",
       "<path style=\"fill-rule:nonzero;fill:rgb(100%,0%,0%);fill-opacity:1;stroke-width:1;stroke-linecap:butt;stroke-linejoin:miter;stroke:rgb(0%,0%,0%);stroke-opacity:1;stroke-miterlimit:10;\" d=\"M 552.046875 256.992188 C 552.046875 262.515625 547.570313 266.992188 542.046875 266.992188 C 536.523438 266.992188 532.046875 262.515625 532.046875 256.992188 C 532.046875 251.46875 536.523438 246.992188 542.046875 246.992188 C 547.570313 246.992188 552.046875 251.46875 552.046875 256.992188 \"/>\n",
       "<path style=\"fill-rule:nonzero;fill:rgb(100%,0%,0%);fill-opacity:1;stroke-width:1;stroke-linecap:butt;stroke-linejoin:miter;stroke:rgb(0%,0%,0%);stroke-opacity:1;stroke-miterlimit:10;\" d=\"M 552.976563 222.761719 C 552.976563 228.285156 548.5 232.761719 542.976563 232.761719 C 537.453125 232.761719 532.976563 228.285156 532.976563 222.761719 C 532.976563 217.238281 537.453125 212.761719 542.976563 212.761719 C 548.5 212.761719 552.976563 217.238281 552.976563 222.761719 \"/>\n",
       "<path style=\"fill-rule:nonzero;fill:rgb(100%,0%,0%);fill-opacity:1;stroke-width:1;stroke-linecap:butt;stroke-linejoin:miter;stroke:rgb(0%,0%,0%);stroke-opacity:1;stroke-miterlimit:10;\" d=\"M 553.664063 200.695313 C 553.664063 206.21875 549.1875 210.695313 543.664063 210.695313 C 538.140625 210.695313 533.664063 206.21875 533.664063 200.695313 C 533.664063 195.171875 538.140625 190.695313 543.664063 190.695313 C 549.1875 190.695313 553.664063 195.171875 553.664063 200.695313 \"/>\n",
       "<path style=\"fill-rule:nonzero;fill:rgb(100%,0%,0%);fill-opacity:1;stroke-width:1;stroke-linecap:butt;stroke-linejoin:miter;stroke:rgb(0%,0%,0%);stroke-opacity:1;stroke-miterlimit:10;\" d=\"M 561.925781 383.402344 C 561.925781 388.925781 557.449219 393.402344 551.925781 393.402344 C 546.402344 393.402344 541.925781 388.925781 541.925781 383.402344 C 541.925781 377.878906 546.402344 373.402344 551.925781 373.402344 C 557.449219 373.402344 561.925781 377.878906 561.925781 383.402344 \"/>\n",
       "<path style=\"fill-rule:nonzero;fill:rgb(100%,0%,0%);fill-opacity:1;stroke-width:1;stroke-linecap:butt;stroke-linejoin:miter;stroke:rgb(0%,0%,0%);stroke-opacity:1;stroke-miterlimit:10;\" d=\"M 577.148438 396.828125 C 577.148438 402.351563 572.671875 406.828125 567.148438 406.828125 C 561.625 406.828125 557.148438 402.351563 557.148438 396.828125 C 557.148438 391.304688 561.625 386.828125 567.148438 386.828125 C 572.671875 386.828125 577.148438 391.304688 577.148438 396.828125 \"/>\n",
       "<path style=\"fill-rule:nonzero;fill:rgb(100%,0%,0%);fill-opacity:1;stroke-width:1;stroke-linecap:butt;stroke-linejoin:miter;stroke:rgb(0%,0%,0%);stroke-opacity:1;stroke-miterlimit:10;\" d=\"M 577.148438 202.140625 C 577.148438 207.664063 572.671875 212.140625 567.148438 212.140625 C 561.628906 212.140625 557.148438 207.664063 557.148438 202.140625 C 557.148438 196.617188 561.628906 192.140625 567.148438 192.140625 C 572.671875 192.140625 577.148438 196.617188 577.148438 202.140625 \"/>\n",
       "<path style=\"fill-rule:nonzero;fill:rgb(100%,0%,0%);fill-opacity:1;stroke-width:1;stroke-linecap:butt;stroke-linejoin:miter;stroke:rgb(0%,0%,0%);stroke-opacity:1;stroke-miterlimit:10;\" d=\"M 578.910156 316.261719 C 578.910156 321.785156 574.433594 326.261719 568.910156 326.261719 C 563.390625 326.261719 558.910156 321.785156 558.910156 316.261719 C 558.910156 310.738281 563.390625 306.261719 568.910156 306.261719 C 574.433594 306.261719 578.910156 310.738281 578.910156 316.261719 \"/>\n",
       "<path style=\"fill-rule:nonzero;fill:rgb(100%,0%,0%);fill-opacity:1;stroke-width:1;stroke-linecap:butt;stroke-linejoin:miter;stroke:rgb(0%,0%,0%);stroke-opacity:1;stroke-miterlimit:10;\" d=\"M 582.824219 342 C 582.824219 347.523438 578.34375 352 572.824219 352 C 567.300781 352 562.824219 347.523438 562.824219 342 C 562.824219 336.476563 567.300781 332 572.824219 332 C 578.34375 332 582.824219 336.476563 582.824219 342 \"/>\n",
       "<path style=\"fill-rule:nonzero;fill:rgb(100%,0%,0%);fill-opacity:1;stroke-width:1;stroke-linecap:butt;stroke-linejoin:miter;stroke:rgb(0%,0%,0%);stroke-opacity:1;stroke-miterlimit:10;\" d=\"M 590 419.800781 C 590 425.320313 585.523438 429.800781 580 429.800781 C 574.476563 429.800781 570 425.320313 570 419.800781 C 570 414.277344 574.476563 409.800781 580 409.800781 C 585.523438 409.800781 590 414.277344 590 419.800781 \"/>\n",
       "</g>\n",
       "</svg>\n"
      ],
      "text/plain": [
       "<igraph.drawing.Plot at 0x645ddd8>"
      ]
     },
     "execution_count": 23,
     "metadata": {},
     "output_type": "execute_result"
    }
   ],
   "source": [
    "plot(g)"
   ]
  },
  {
   "cell_type": "code",
   "execution_count": 24,
   "metadata": {},
   "outputs": [
    {
     "name": "stdout",
     "output_type": "stream",
     "text": [
      "IGRAPH U--- 127 126 -- \n"
     ]
    }
   ],
   "source": [
    "summary(g2)"
   ]
  },
  {
   "cell_type": "code",
   "execution_count": 25,
   "metadata": {
    "collapsed": true
   },
   "outputs": [],
   "source": [
    "g2=Graph.GRG(100,0.2)"
   ]
  },
  {
   "cell_type": "code",
   "execution_count": 26,
   "metadata": {},
   "outputs": [
    {
     "data": {
      "image/svg+xml": [
       "<?xml version=\"1.0\" encoding=\"UTF-8\"?>\n",
       "<svg xmlns=\"http://www.w3.org/2000/svg\" xmlns:xlink=\"http://www.w3.org/1999/xlink\" width=\"600pt\" height=\"600pt\" viewBox=\"0 0 600 600\" version=\"1.1\">\n",
       "<g id=\"surface14\">\n",
       "<rect x=\"0\" y=\"0\" width=\"600\" height=\"600\" style=\"fill:rgb(100%,100%,100%);fill-opacity:1;stroke:none;\"/>\n",
       "<path style=\"fill:none;stroke-width:1;stroke-linecap:butt;stroke-linejoin:miter;stroke:rgb(26.666667%,26.666667%,26.666667%);stroke-opacity:1;stroke-miterlimit:10;\" d=\"M 20 128.152344 L 37.539063 189.707031 \"/>\n",
       "<path style=\"fill:none;stroke-width:1;stroke-linecap:butt;stroke-linejoin:miter;stroke:rgb(26.666667%,26.666667%,26.666667%);stroke-opacity:1;stroke-miterlimit:10;\" d=\"M 20 128.152344 L 46.535156 235.261719 \"/>\n",
       "<path style=\"fill:none;stroke-width:1;stroke-linecap:butt;stroke-linejoin:miter;stroke:rgb(26.666667%,26.666667%,26.666667%);stroke-opacity:1;stroke-miterlimit:10;\" d=\"M 20 128.152344 L 103.34375 194.03125 \"/>\n",
       "<path style=\"fill:none;stroke-width:1;stroke-linecap:butt;stroke-linejoin:miter;stroke:rgb(26.666667%,26.666667%,26.666667%);stroke-opacity:1;stroke-miterlimit:10;\" d=\"M 37.539063 189.707031 L 46.535156 235.261719 \"/>\n",
       "<path style=\"fill:none;stroke-width:1;stroke-linecap:butt;stroke-linejoin:miter;stroke:rgb(26.666667%,26.666667%,26.666667%);stroke-opacity:1;stroke-miterlimit:10;\" d=\"M 37.539063 189.707031 L 58.3125 276.046875 \"/>\n",
       "<path style=\"fill:none;stroke-width:1;stroke-linecap:butt;stroke-linejoin:miter;stroke:rgb(26.666667%,26.666667%,26.666667%);stroke-opacity:1;stroke-miterlimit:10;\" d=\"M 37.539063 189.707031 L 103.34375 194.03125 \"/>\n",
       "<path style=\"fill:none;stroke-width:1;stroke-linecap:butt;stroke-linejoin:miter;stroke:rgb(26.666667%,26.666667%,26.666667%);stroke-opacity:1;stroke-miterlimit:10;\" d=\"M 37.539063 189.707031 L 140.328125 173.648438 \"/>\n",
       "<path style=\"fill:none;stroke-width:1;stroke-linecap:butt;stroke-linejoin:miter;stroke:rgb(26.666667%,26.666667%,26.666667%);stroke-opacity:1;stroke-miterlimit:10;\" d=\"M 37.539063 189.707031 L 148.304688 189.125 \"/>\n",
       "<path style=\"fill:none;stroke-width:1;stroke-linecap:butt;stroke-linejoin:miter;stroke:rgb(26.666667%,26.666667%,26.666667%);stroke-opacity:1;stroke-miterlimit:10;\" d=\"M 45.753906 580 L 53.6875 523.011719 \"/>\n",
       "<path style=\"fill:none;stroke-width:1;stroke-linecap:butt;stroke-linejoin:miter;stroke:rgb(26.666667%,26.666667%,26.666667%);stroke-opacity:1;stroke-miterlimit:10;\" d=\"M 45.753906 580 L 61.738281 538.597656 \"/>\n",
       "<path style=\"fill:none;stroke-width:1;stroke-linecap:butt;stroke-linejoin:miter;stroke:rgb(26.666667%,26.666667%,26.666667%);stroke-opacity:1;stroke-miterlimit:10;\" d=\"M 45.753906 580 L 66.902344 579.507813 \"/>\n",
       "<path style=\"fill:none;stroke-width:1;stroke-linecap:butt;stroke-linejoin:miter;stroke:rgb(26.666667%,26.666667%,26.666667%);stroke-opacity:1;stroke-miterlimit:10;\" d=\"M 45.753906 580 L 72.300781 522.167969 \"/>\n",
       "<path style=\"fill:none;stroke-width:1;stroke-linecap:butt;stroke-linejoin:miter;stroke:rgb(26.666667%,26.666667%,26.666667%);stroke-opacity:1;stroke-miterlimit:10;\" d=\"M 45.753906 580 L 85.867188 549.738281 \"/>\n",
       "<path style=\"fill:none;stroke-width:1;stroke-linecap:butt;stroke-linejoin:miter;stroke:rgb(26.666667%,26.666667%,26.666667%);stroke-opacity:1;stroke-miterlimit:10;\" d=\"M 46.308594 444.988281 L 53.6875 523.011719 \"/>\n",
       "<path style=\"fill:none;stroke-width:1;stroke-linecap:butt;stroke-linejoin:miter;stroke:rgb(26.666667%,26.666667%,26.666667%);stroke-opacity:1;stroke-miterlimit:10;\" d=\"M 46.308594 444.988281 L 61.738281 538.597656 \"/>\n",
       "<path style=\"fill:none;stroke-width:1;stroke-linecap:butt;stroke-linejoin:miter;stroke:rgb(26.666667%,26.666667%,26.666667%);stroke-opacity:1;stroke-miterlimit:10;\" d=\"M 46.308594 444.988281 L 72.300781 522.167969 \"/>\n",
       "<path style=\"fill:none;stroke-width:1;stroke-linecap:butt;stroke-linejoin:miter;stroke:rgb(26.666667%,26.666667%,26.666667%);stroke-opacity:1;stroke-miterlimit:10;\" d=\"M 46.308594 444.988281 L 79.019531 335.609375 \"/>\n",
       "<path style=\"fill:none;stroke-width:1;stroke-linecap:butt;stroke-linejoin:miter;stroke:rgb(26.666667%,26.666667%,26.666667%);stroke-opacity:1;stroke-miterlimit:10;\" d=\"M 46.308594 444.988281 L 85.867188 549.738281 \"/>\n",
       "<path style=\"fill:none;stroke-width:1;stroke-linecap:butt;stroke-linejoin:miter;stroke:rgb(26.666667%,26.666667%,26.666667%);stroke-opacity:1;stroke-miterlimit:10;\" d=\"M 46.308594 444.988281 L 119.335938 477.847656 \"/>\n",
       "<path style=\"fill:none;stroke-width:1;stroke-linecap:butt;stroke-linejoin:miter;stroke:rgb(26.666667%,26.666667%,26.666667%);stroke-opacity:1;stroke-miterlimit:10;\" d=\"M 46.308594 444.988281 L 133.03125 408.851563 \"/>\n",
       "<path style=\"fill:none;stroke-width:1;stroke-linecap:butt;stroke-linejoin:miter;stroke:rgb(26.666667%,26.666667%,26.666667%);stroke-opacity:1;stroke-miterlimit:10;\" d=\"M 46.308594 444.988281 L 145.839844 410.804688 \"/>\n",
       "<path style=\"fill:none;stroke-width:1;stroke-linecap:butt;stroke-linejoin:miter;stroke:rgb(26.666667%,26.666667%,26.666667%);stroke-opacity:1;stroke-miterlimit:10;\" d=\"M 46.535156 235.261719 L 58.3125 276.046875 \"/>\n",
       "<path style=\"fill:none;stroke-width:1;stroke-linecap:butt;stroke-linejoin:miter;stroke:rgb(26.666667%,26.666667%,26.666667%);stroke-opacity:1;stroke-miterlimit:10;\" d=\"M 46.535156 235.261719 L 73.171875 312.273438 \"/>\n",
       "<path style=\"fill:none;stroke-width:1;stroke-linecap:butt;stroke-linejoin:miter;stroke:rgb(26.666667%,26.666667%,26.666667%);stroke-opacity:1;stroke-miterlimit:10;\" d=\"M 46.535156 235.261719 L 79.019531 335.609375 \"/>\n",
       "<path style=\"fill:none;stroke-width:1;stroke-linecap:butt;stroke-linejoin:miter;stroke:rgb(26.666667%,26.666667%,26.666667%);stroke-opacity:1;stroke-miterlimit:10;\" d=\"M 46.535156 235.261719 L 103.34375 194.03125 \"/>\n",
       "<path style=\"fill:none;stroke-width:1;stroke-linecap:butt;stroke-linejoin:miter;stroke:rgb(26.666667%,26.666667%,26.666667%);stroke-opacity:1;stroke-miterlimit:10;\" d=\"M 46.535156 235.261719 L 103.808594 311.441406 \"/>\n",
       "<path style=\"fill:none;stroke-width:1;stroke-linecap:butt;stroke-linejoin:miter;stroke:rgb(26.666667%,26.666667%,26.666667%);stroke-opacity:1;stroke-miterlimit:10;\" d=\"M 46.535156 235.261719 L 106.972656 287.65625 \"/>\n",
       "<path style=\"fill:none;stroke-width:1;stroke-linecap:butt;stroke-linejoin:miter;stroke:rgb(26.666667%,26.666667%,26.666667%);stroke-opacity:1;stroke-miterlimit:10;\" d=\"M 46.535156 235.261719 L 140.328125 173.648438 \"/>\n",
       "<path style=\"fill:none;stroke-width:1;stroke-linecap:butt;stroke-linejoin:miter;stroke:rgb(26.666667%,26.666667%,26.666667%);stroke-opacity:1;stroke-miterlimit:10;\" d=\"M 46.535156 235.261719 L 143.957031 247.65625 \"/>\n",
       "<path style=\"fill:none;stroke-width:1;stroke-linecap:butt;stroke-linejoin:miter;stroke:rgb(26.666667%,26.666667%,26.666667%);stroke-opacity:1;stroke-miterlimit:10;\" d=\"M 46.535156 235.261719 L 148.304688 189.125 \"/>\n",
       "<path style=\"fill:none;stroke-width:1;stroke-linecap:butt;stroke-linejoin:miter;stroke:rgb(26.666667%,26.666667%,26.666667%);stroke-opacity:1;stroke-miterlimit:10;\" d=\"M 53.6875 523.011719 L 61.738281 538.597656 \"/>\n",
       "<path style=\"fill:none;stroke-width:1;stroke-linecap:butt;stroke-linejoin:miter;stroke:rgb(26.666667%,26.666667%,26.666667%);stroke-opacity:1;stroke-miterlimit:10;\" d=\"M 53.6875 523.011719 L 66.902344 579.507813 \"/>\n",
       "<path style=\"fill:none;stroke-width:1;stroke-linecap:butt;stroke-linejoin:miter;stroke:rgb(26.666667%,26.666667%,26.666667%);stroke-opacity:1;stroke-miterlimit:10;\" d=\"M 53.6875 523.011719 L 72.300781 522.167969 \"/>\n",
       "<path style=\"fill:none;stroke-width:1;stroke-linecap:butt;stroke-linejoin:miter;stroke:rgb(26.666667%,26.666667%,26.666667%);stroke-opacity:1;stroke-miterlimit:10;\" d=\"M 53.6875 523.011719 L 85.867188 549.738281 \"/>\n",
       "<path style=\"fill:none;stroke-width:1;stroke-linecap:butt;stroke-linejoin:miter;stroke:rgb(26.666667%,26.666667%,26.666667%);stroke-opacity:1;stroke-miterlimit:10;\" d=\"M 53.6875 523.011719 L 119.335938 477.847656 \"/>\n",
       "<path style=\"fill:none;stroke-width:1;stroke-linecap:butt;stroke-linejoin:miter;stroke:rgb(26.666667%,26.666667%,26.666667%);stroke-opacity:1;stroke-miterlimit:10;\" d=\"M 58.3125 276.046875 L 73.171875 312.273438 \"/>\n",
       "<path style=\"fill:none;stroke-width:1;stroke-linecap:butt;stroke-linejoin:miter;stroke:rgb(26.666667%,26.666667%,26.666667%);stroke-opacity:1;stroke-miterlimit:10;\" d=\"M 58.3125 276.046875 L 79.019531 335.609375 \"/>\n",
       "<path style=\"fill:none;stroke-width:1;stroke-linecap:butt;stroke-linejoin:miter;stroke:rgb(26.666667%,26.666667%,26.666667%);stroke-opacity:1;stroke-miterlimit:10;\" d=\"M 58.3125 276.046875 L 103.34375 194.03125 \"/>\n",
       "<path style=\"fill:none;stroke-width:1;stroke-linecap:butt;stroke-linejoin:miter;stroke:rgb(26.666667%,26.666667%,26.666667%);stroke-opacity:1;stroke-miterlimit:10;\" d=\"M 58.3125 276.046875 L 103.808594 311.441406 \"/>\n",
       "<path style=\"fill:none;stroke-width:1;stroke-linecap:butt;stroke-linejoin:miter;stroke:rgb(26.666667%,26.666667%,26.666667%);stroke-opacity:1;stroke-miterlimit:10;\" d=\"M 58.3125 276.046875 L 106.972656 287.65625 \"/>\n",
       "<path style=\"fill:none;stroke-width:1;stroke-linecap:butt;stroke-linejoin:miter;stroke:rgb(26.666667%,26.666667%,26.666667%);stroke-opacity:1;stroke-miterlimit:10;\" d=\"M 58.3125 276.046875 L 127.433594 323.914063 \"/>\n",
       "<path style=\"fill:none;stroke-width:1;stroke-linecap:butt;stroke-linejoin:miter;stroke:rgb(26.666667%,26.666667%,26.666667%);stroke-opacity:1;stroke-miterlimit:10;\" d=\"M 58.3125 276.046875 L 137.644531 338.773438 \"/>\n",
       "<path style=\"fill:none;stroke-width:1;stroke-linecap:butt;stroke-linejoin:miter;stroke:rgb(26.666667%,26.666667%,26.666667%);stroke-opacity:1;stroke-miterlimit:10;\" d=\"M 58.3125 276.046875 L 143.957031 247.65625 \"/>\n",
       "<path style=\"fill:none;stroke-width:1;stroke-linecap:butt;stroke-linejoin:miter;stroke:rgb(26.666667%,26.666667%,26.666667%);stroke-opacity:1;stroke-miterlimit:10;\" d=\"M 58.3125 276.046875 L 168.960938 281.59375 \"/>\n",
       "<path style=\"fill:none;stroke-width:1;stroke-linecap:butt;stroke-linejoin:miter;stroke:rgb(26.666667%,26.666667%,26.666667%);stroke-opacity:1;stroke-miterlimit:10;\" d=\"M 61.738281 538.597656 L 66.902344 579.507813 \"/>\n",
       "<path style=\"fill:none;stroke-width:1;stroke-linecap:butt;stroke-linejoin:miter;stroke:rgb(26.666667%,26.666667%,26.666667%);stroke-opacity:1;stroke-miterlimit:10;\" d=\"M 61.738281 538.597656 L 72.300781 522.167969 \"/>\n",
       "<path style=\"fill:none;stroke-width:1;stroke-linecap:butt;stroke-linejoin:miter;stroke:rgb(26.666667%,26.666667%,26.666667%);stroke-opacity:1;stroke-miterlimit:10;\" d=\"M 61.738281 538.597656 L 85.867188 549.738281 \"/>\n",
       "<path style=\"fill:none;stroke-width:1;stroke-linecap:butt;stroke-linejoin:miter;stroke:rgb(26.666667%,26.666667%,26.666667%);stroke-opacity:1;stroke-miterlimit:10;\" d=\"M 61.738281 538.597656 L 119.335938 477.847656 \"/>\n",
       "<path style=\"fill:none;stroke-width:1;stroke-linecap:butt;stroke-linejoin:miter;stroke:rgb(26.666667%,26.666667%,26.666667%);stroke-opacity:1;stroke-miterlimit:10;\" d=\"M 66.902344 579.507813 L 72.300781 522.167969 \"/>\n",
       "<path style=\"fill:none;stroke-width:1;stroke-linecap:butt;stroke-linejoin:miter;stroke:rgb(26.666667%,26.666667%,26.666667%);stroke-opacity:1;stroke-miterlimit:10;\" d=\"M 66.902344 579.507813 L 85.867188 549.738281 \"/>\n",
       "<path style=\"fill:none;stroke-width:1;stroke-linecap:butt;stroke-linejoin:miter;stroke:rgb(26.666667%,26.666667%,26.666667%);stroke-opacity:1;stroke-miterlimit:10;\" d=\"M 66.902344 579.507813 L 119.335938 477.847656 \"/>\n",
       "<path style=\"fill:none;stroke-width:1;stroke-linecap:butt;stroke-linejoin:miter;stroke:rgb(26.666667%,26.666667%,26.666667%);stroke-opacity:1;stroke-miterlimit:10;\" d=\"M 72.300781 522.167969 L 85.867188 549.738281 \"/>\n",
       "<path style=\"fill:none;stroke-width:1;stroke-linecap:butt;stroke-linejoin:miter;stroke:rgb(26.666667%,26.666667%,26.666667%);stroke-opacity:1;stroke-miterlimit:10;\" d=\"M 72.300781 522.167969 L 119.335938 477.847656 \"/>\n",
       "<path style=\"fill:none;stroke-width:1;stroke-linecap:butt;stroke-linejoin:miter;stroke:rgb(26.666667%,26.666667%,26.666667%);stroke-opacity:1;stroke-miterlimit:10;\" d=\"M 72.300781 522.167969 L 183.335938 524.640625 \"/>\n",
       "<path style=\"fill:none;stroke-width:1;stroke-linecap:butt;stroke-linejoin:miter;stroke:rgb(26.666667%,26.666667%,26.666667%);stroke-opacity:1;stroke-miterlimit:10;\" d=\"M 73.171875 312.273438 L 79.019531 335.609375 \"/>\n",
       "<path style=\"fill:none;stroke-width:1;stroke-linecap:butt;stroke-linejoin:miter;stroke:rgb(26.666667%,26.666667%,26.666667%);stroke-opacity:1;stroke-miterlimit:10;\" d=\"M 73.171875 312.273438 L 103.808594 311.441406 \"/>\n",
       "<path style=\"fill:none;stroke-width:1;stroke-linecap:butt;stroke-linejoin:miter;stroke:rgb(26.666667%,26.666667%,26.666667%);stroke-opacity:1;stroke-miterlimit:10;\" d=\"M 73.171875 312.273438 L 106.972656 287.65625 \"/>\n",
       "<path style=\"fill:none;stroke-width:1;stroke-linecap:butt;stroke-linejoin:miter;stroke:rgb(26.666667%,26.666667%,26.666667%);stroke-opacity:1;stroke-miterlimit:10;\" d=\"M 73.171875 312.273438 L 127.433594 323.914063 \"/>\n",
       "<path style=\"fill:none;stroke-width:1;stroke-linecap:butt;stroke-linejoin:miter;stroke:rgb(26.666667%,26.666667%,26.666667%);stroke-opacity:1;stroke-miterlimit:10;\" d=\"M 73.171875 312.273438 L 133.03125 408.851563 \"/>\n",
       "<path style=\"fill:none;stroke-width:1;stroke-linecap:butt;stroke-linejoin:miter;stroke:rgb(26.666667%,26.666667%,26.666667%);stroke-opacity:1;stroke-miterlimit:10;\" d=\"M 73.171875 312.273438 L 137.644531 338.773438 \"/>\n",
       "<path style=\"fill:none;stroke-width:1;stroke-linecap:butt;stroke-linejoin:miter;stroke:rgb(26.666667%,26.666667%,26.666667%);stroke-opacity:1;stroke-miterlimit:10;\" d=\"M 73.171875 312.273438 L 143.957031 247.65625 \"/>\n",
       "<path style=\"fill:none;stroke-width:1;stroke-linecap:butt;stroke-linejoin:miter;stroke:rgb(26.666667%,26.666667%,26.666667%);stroke-opacity:1;stroke-miterlimit:10;\" d=\"M 73.171875 312.273438 L 168.960938 281.59375 \"/>\n",
       "<path style=\"fill:none;stroke-width:1;stroke-linecap:butt;stroke-linejoin:miter;stroke:rgb(26.666667%,26.666667%,26.666667%);stroke-opacity:1;stroke-miterlimit:10;\" d=\"M 79.019531 335.609375 L 103.808594 311.441406 \"/>\n",
       "<path style=\"fill:none;stroke-width:1;stroke-linecap:butt;stroke-linejoin:miter;stroke:rgb(26.666667%,26.666667%,26.666667%);stroke-opacity:1;stroke-miterlimit:10;\" d=\"M 79.019531 335.609375 L 106.972656 287.65625 \"/>\n",
       "<path style=\"fill:none;stroke-width:1;stroke-linecap:butt;stroke-linejoin:miter;stroke:rgb(26.666667%,26.666667%,26.666667%);stroke-opacity:1;stroke-miterlimit:10;\" d=\"M 79.019531 335.609375 L 127.433594 323.914063 \"/>\n",
       "<path style=\"fill:none;stroke-width:1;stroke-linecap:butt;stroke-linejoin:miter;stroke:rgb(26.666667%,26.666667%,26.666667%);stroke-opacity:1;stroke-miterlimit:10;\" d=\"M 79.019531 335.609375 L 133.03125 408.851563 \"/>\n",
       "<path style=\"fill:none;stroke-width:1;stroke-linecap:butt;stroke-linejoin:miter;stroke:rgb(26.666667%,26.666667%,26.666667%);stroke-opacity:1;stroke-miterlimit:10;\" d=\"M 79.019531 335.609375 L 137.644531 338.773438 \"/>\n",
       "<path style=\"fill:none;stroke-width:1;stroke-linecap:butt;stroke-linejoin:miter;stroke:rgb(26.666667%,26.666667%,26.666667%);stroke-opacity:1;stroke-miterlimit:10;\" d=\"M 79.019531 335.609375 L 143.957031 247.65625 \"/>\n",
       "<path style=\"fill:none;stroke-width:1;stroke-linecap:butt;stroke-linejoin:miter;stroke:rgb(26.666667%,26.666667%,26.666667%);stroke-opacity:1;stroke-miterlimit:10;\" d=\"M 79.019531 335.609375 L 145.839844 410.804688 \"/>\n",
       "<path style=\"fill:none;stroke-width:1;stroke-linecap:butt;stroke-linejoin:miter;stroke:rgb(26.666667%,26.666667%,26.666667%);stroke-opacity:1;stroke-miterlimit:10;\" d=\"M 79.019531 335.609375 L 168.960938 281.59375 \"/>\n",
       "<path style=\"fill:none;stroke-width:1;stroke-linecap:butt;stroke-linejoin:miter;stroke:rgb(26.666667%,26.666667%,26.666667%);stroke-opacity:1;stroke-miterlimit:10;\" d=\"M 85.867188 549.738281 L 119.335938 477.847656 \"/>\n",
       "<path style=\"fill:none;stroke-width:1;stroke-linecap:butt;stroke-linejoin:miter;stroke:rgb(26.666667%,26.666667%,26.666667%);stroke-opacity:1;stroke-miterlimit:10;\" d=\"M 85.867188 549.738281 L 183.335938 524.640625 \"/>\n",
       "<path style=\"fill:none;stroke-width:1;stroke-linecap:butt;stroke-linejoin:miter;stroke:rgb(26.666667%,26.666667%,26.666667%);stroke-opacity:1;stroke-miterlimit:10;\" d=\"M 103.34375 194.03125 L 103.808594 311.441406 \"/>\n",
       "<path style=\"fill:none;stroke-width:1;stroke-linecap:butt;stroke-linejoin:miter;stroke:rgb(26.666667%,26.666667%,26.666667%);stroke-opacity:1;stroke-miterlimit:10;\" d=\"M 103.34375 194.03125 L 106.972656 287.65625 \"/>\n",
       "<path style=\"fill:none;stroke-width:1;stroke-linecap:butt;stroke-linejoin:miter;stroke:rgb(26.666667%,26.666667%,26.666667%);stroke-opacity:1;stroke-miterlimit:10;\" d=\"M 103.34375 194.03125 L 140.328125 173.648438 \"/>\n",
       "<path style=\"fill:none;stroke-width:1;stroke-linecap:butt;stroke-linejoin:miter;stroke:rgb(26.666667%,26.666667%,26.666667%);stroke-opacity:1;stroke-miterlimit:10;\" d=\"M 103.34375 194.03125 L 143.957031 247.65625 \"/>\n",
       "<path style=\"fill:none;stroke-width:1;stroke-linecap:butt;stroke-linejoin:miter;stroke:rgb(26.666667%,26.666667%,26.666667%);stroke-opacity:1;stroke-miterlimit:10;\" d=\"M 103.34375 194.03125 L 148.304688 189.125 \"/>\n",
       "<path style=\"fill:none;stroke-width:1;stroke-linecap:butt;stroke-linejoin:miter;stroke:rgb(26.666667%,26.666667%,26.666667%);stroke-opacity:1;stroke-miterlimit:10;\" d=\"M 103.34375 194.03125 L 168.960938 281.59375 \"/>\n",
       "<path style=\"fill:none;stroke-width:1;stroke-linecap:butt;stroke-linejoin:miter;stroke:rgb(26.666667%,26.666667%,26.666667%);stroke-opacity:1;stroke-miterlimit:10;\" d=\"M 103.34375 194.03125 L 208.351563 180.722656 \"/>\n",
       "<path style=\"fill:none;stroke-width:1;stroke-linecap:butt;stroke-linejoin:miter;stroke:rgb(26.666667%,26.666667%,26.666667%);stroke-opacity:1;stroke-miterlimit:10;\" d=\"M 103.808594 311.441406 L 106.972656 287.65625 \"/>\n",
       "<path style=\"fill:none;stroke-width:1;stroke-linecap:butt;stroke-linejoin:miter;stroke:rgb(26.666667%,26.666667%,26.666667%);stroke-opacity:1;stroke-miterlimit:10;\" d=\"M 103.808594 311.441406 L 127.433594 323.914063 \"/>\n",
       "<path style=\"fill:none;stroke-width:1;stroke-linecap:butt;stroke-linejoin:miter;stroke:rgb(26.666667%,26.666667%,26.666667%);stroke-opacity:1;stroke-miterlimit:10;\" d=\"M 103.808594 311.441406 L 133.03125 408.851563 \"/>\n",
       "<path style=\"fill:none;stroke-width:1;stroke-linecap:butt;stroke-linejoin:miter;stroke:rgb(26.666667%,26.666667%,26.666667%);stroke-opacity:1;stroke-miterlimit:10;\" d=\"M 103.808594 311.441406 L 137.644531 338.773438 \"/>\n",
       "<path style=\"fill:none;stroke-width:1;stroke-linecap:butt;stroke-linejoin:miter;stroke:rgb(26.666667%,26.666667%,26.666667%);stroke-opacity:1;stroke-miterlimit:10;\" d=\"M 103.808594 311.441406 L 143.957031 247.65625 \"/>\n",
       "<path style=\"fill:none;stroke-width:1;stroke-linecap:butt;stroke-linejoin:miter;stroke:rgb(26.666667%,26.666667%,26.666667%);stroke-opacity:1;stroke-miterlimit:10;\" d=\"M 103.808594 311.441406 L 145.839844 410.804688 \"/>\n",
       "<path style=\"fill:none;stroke-width:1;stroke-linecap:butt;stroke-linejoin:miter;stroke:rgb(26.666667%,26.666667%,26.666667%);stroke-opacity:1;stroke-miterlimit:10;\" d=\"M 103.808594 311.441406 L 168.960938 281.59375 \"/>\n",
       "<path style=\"fill:none;stroke-width:1;stroke-linecap:butt;stroke-linejoin:miter;stroke:rgb(26.666667%,26.666667%,26.666667%);stroke-opacity:1;stroke-miterlimit:10;\" d=\"M 104.019531 24.214844 L 211.402344 57.609375 \"/>\n",
       "<path style=\"fill:none;stroke-width:1;stroke-linecap:butt;stroke-linejoin:miter;stroke:rgb(26.666667%,26.666667%,26.666667%);stroke-opacity:1;stroke-miterlimit:10;\" d=\"M 106.972656 287.65625 L 127.433594 323.914063 \"/>\n",
       "<path style=\"fill:none;stroke-width:1;stroke-linecap:butt;stroke-linejoin:miter;stroke:rgb(26.666667%,26.666667%,26.666667%);stroke-opacity:1;stroke-miterlimit:10;\" d=\"M 106.972656 287.65625 L 137.644531 338.773438 \"/>\n",
       "<path style=\"fill:none;stroke-width:1;stroke-linecap:butt;stroke-linejoin:miter;stroke:rgb(26.666667%,26.666667%,26.666667%);stroke-opacity:1;stroke-miterlimit:10;\" d=\"M 106.972656 287.65625 L 143.957031 247.65625 \"/>\n",
       "<path style=\"fill:none;stroke-width:1;stroke-linecap:butt;stroke-linejoin:miter;stroke:rgb(26.666667%,26.666667%,26.666667%);stroke-opacity:1;stroke-miterlimit:10;\" d=\"M 106.972656 287.65625 L 148.304688 189.125 \"/>\n",
       "<path style=\"fill:none;stroke-width:1;stroke-linecap:butt;stroke-linejoin:miter;stroke:rgb(26.666667%,26.666667%,26.666667%);stroke-opacity:1;stroke-miterlimit:10;\" d=\"M 106.972656 287.65625 L 168.960938 281.59375 \"/>\n",
       "<path style=\"fill:none;stroke-width:1;stroke-linecap:butt;stroke-linejoin:miter;stroke:rgb(26.666667%,26.666667%,26.666667%);stroke-opacity:1;stroke-miterlimit:10;\" d=\"M 119.335938 477.847656 L 133.03125 408.851563 \"/>\n",
       "<path style=\"fill:none;stroke-width:1;stroke-linecap:butt;stroke-linejoin:miter;stroke:rgb(26.666667%,26.666667%,26.666667%);stroke-opacity:1;stroke-miterlimit:10;\" d=\"M 119.335938 477.847656 L 145.839844 410.804688 \"/>\n",
       "<path style=\"fill:none;stroke-width:1;stroke-linecap:butt;stroke-linejoin:miter;stroke:rgb(26.666667%,26.666667%,26.666667%);stroke-opacity:1;stroke-miterlimit:10;\" d=\"M 119.335938 477.847656 L 183.335938 524.640625 \"/>\n",
       "<path style=\"fill:none;stroke-width:1;stroke-linecap:butt;stroke-linejoin:miter;stroke:rgb(26.666667%,26.666667%,26.666667%);stroke-opacity:1;stroke-miterlimit:10;\" d=\"M 119.335938 477.847656 L 226.03125 483.527344 \"/>\n",
       "<path style=\"fill:none;stroke-width:1;stroke-linecap:butt;stroke-linejoin:miter;stroke:rgb(26.666667%,26.666667%,26.666667%);stroke-opacity:1;stroke-miterlimit:10;\" d=\"M 127.433594 323.914063 L 133.03125 408.851563 \"/>\n",
       "<path style=\"fill:none;stroke-width:1;stroke-linecap:butt;stroke-linejoin:miter;stroke:rgb(26.666667%,26.666667%,26.666667%);stroke-opacity:1;stroke-miterlimit:10;\" d=\"M 127.433594 323.914063 L 137.644531 338.773438 \"/>\n",
       "<path style=\"fill:none;stroke-width:1;stroke-linecap:butt;stroke-linejoin:miter;stroke:rgb(26.666667%,26.666667%,26.666667%);stroke-opacity:1;stroke-miterlimit:10;\" d=\"M 127.433594 323.914063 L 143.957031 247.65625 \"/>\n",
       "<path style=\"fill:none;stroke-width:1;stroke-linecap:butt;stroke-linejoin:miter;stroke:rgb(26.666667%,26.666667%,26.666667%);stroke-opacity:1;stroke-miterlimit:10;\" d=\"M 127.433594 323.914063 L 145.839844 410.804688 \"/>\n",
       "<path style=\"fill:none;stroke-width:1;stroke-linecap:butt;stroke-linejoin:miter;stroke:rgb(26.666667%,26.666667%,26.666667%);stroke-opacity:1;stroke-miterlimit:10;\" d=\"M 127.433594 323.914063 L 168.960938 281.59375 \"/>\n",
       "<path style=\"fill:none;stroke-width:1;stroke-linecap:butt;stroke-linejoin:miter;stroke:rgb(26.666667%,26.666667%,26.666667%);stroke-opacity:1;stroke-miterlimit:10;\" d=\"M 133.03125 408.851563 L 137.644531 338.773438 \"/>\n",
       "<path style=\"fill:none;stroke-width:1;stroke-linecap:butt;stroke-linejoin:miter;stroke:rgb(26.666667%,26.666667%,26.666667%);stroke-opacity:1;stroke-miterlimit:10;\" d=\"M 133.03125 408.851563 L 145.839844 410.804688 \"/>\n",
       "<path style=\"fill:none;stroke-width:1;stroke-linecap:butt;stroke-linejoin:miter;stroke:rgb(26.666667%,26.666667%,26.666667%);stroke-opacity:1;stroke-miterlimit:10;\" d=\"M 133.03125 408.851563 L 219.734375 421.523438 \"/>\n",
       "<path style=\"fill:none;stroke-width:1;stroke-linecap:butt;stroke-linejoin:miter;stroke:rgb(26.666667%,26.666667%,26.666667%);stroke-opacity:1;stroke-miterlimit:10;\" d=\"M 137.644531 338.773438 L 143.957031 247.65625 \"/>\n",
       "<path style=\"fill:none;stroke-width:1;stroke-linecap:butt;stroke-linejoin:miter;stroke:rgb(26.666667%,26.666667%,26.666667%);stroke-opacity:1;stroke-miterlimit:10;\" d=\"M 137.644531 338.773438 L 145.839844 410.804688 \"/>\n",
       "<path style=\"fill:none;stroke-width:1;stroke-linecap:butt;stroke-linejoin:miter;stroke:rgb(26.666667%,26.666667%,26.666667%);stroke-opacity:1;stroke-miterlimit:10;\" d=\"M 137.644531 338.773438 L 168.960938 281.59375 \"/>\n",
       "<path style=\"fill:none;stroke-width:1;stroke-linecap:butt;stroke-linejoin:miter;stroke:rgb(26.666667%,26.666667%,26.666667%);stroke-opacity:1;stroke-miterlimit:10;\" d=\"M 137.644531 338.773438 L 250.699219 340.722656 \"/>\n",
       "<path style=\"fill:none;stroke-width:1;stroke-linecap:butt;stroke-linejoin:miter;stroke:rgb(26.666667%,26.666667%,26.666667%);stroke-opacity:1;stroke-miterlimit:10;\" d=\"M 140.328125 173.648438 L 143.957031 247.65625 \"/>\n",
       "<path style=\"fill:none;stroke-width:1;stroke-linecap:butt;stroke-linejoin:miter;stroke:rgb(26.666667%,26.666667%,26.666667%);stroke-opacity:1;stroke-miterlimit:10;\" d=\"M 140.328125 173.648438 L 148.304688 189.125 \"/>\n",
       "<path style=\"fill:none;stroke-width:1;stroke-linecap:butt;stroke-linejoin:miter;stroke:rgb(26.666667%,26.666667%,26.666667%);stroke-opacity:1;stroke-miterlimit:10;\" d=\"M 140.328125 173.648438 L 168.960938 281.59375 \"/>\n",
       "<path style=\"fill:none;stroke-width:1;stroke-linecap:butt;stroke-linejoin:miter;stroke:rgb(26.666667%,26.666667%,26.666667%);stroke-opacity:1;stroke-miterlimit:10;\" d=\"M 140.328125 173.648438 L 208.351563 180.722656 \"/>\n",
       "<path style=\"fill:none;stroke-width:1;stroke-linecap:butt;stroke-linejoin:miter;stroke:rgb(26.666667%,26.666667%,26.666667%);stroke-opacity:1;stroke-miterlimit:10;\" d=\"M 140.328125 173.648438 L 229.152344 158.191406 \"/>\n",
       "<path style=\"fill:none;stroke-width:1;stroke-linecap:butt;stroke-linejoin:miter;stroke:rgb(26.666667%,26.666667%,26.666667%);stroke-opacity:1;stroke-miterlimit:10;\" d=\"M 143.957031 247.65625 L 148.304688 189.125 \"/>\n",
       "<path style=\"fill:none;stroke-width:1;stroke-linecap:butt;stroke-linejoin:miter;stroke:rgb(26.666667%,26.666667%,26.666667%);stroke-opacity:1;stroke-miterlimit:10;\" d=\"M 143.957031 247.65625 L 168.960938 281.59375 \"/>\n",
       "<path style=\"fill:none;stroke-width:1;stroke-linecap:butt;stroke-linejoin:miter;stroke:rgb(26.666667%,26.666667%,26.666667%);stroke-opacity:1;stroke-miterlimit:10;\" d=\"M 143.957031 247.65625 L 208.351563 180.722656 \"/>\n",
       "<path style=\"fill:none;stroke-width:1;stroke-linecap:butt;stroke-linejoin:miter;stroke:rgb(26.666667%,26.666667%,26.666667%);stroke-opacity:1;stroke-miterlimit:10;\" d=\"M 145.839844 410.804688 L 219.734375 421.523438 \"/>\n",
       "<path style=\"fill:none;stroke-width:1;stroke-linecap:butt;stroke-linejoin:miter;stroke:rgb(26.666667%,26.666667%,26.666667%);stroke-opacity:1;stroke-miterlimit:10;\" d=\"M 145.839844 410.804688 L 226.03125 483.527344 \"/>\n",
       "<path style=\"fill:none;stroke-width:1;stroke-linecap:butt;stroke-linejoin:miter;stroke:rgb(26.666667%,26.666667%,26.666667%);stroke-opacity:1;stroke-miterlimit:10;\" d=\"M 148.304688 189.125 L 168.960938 281.59375 \"/>\n",
       "<path style=\"fill:none;stroke-width:1;stroke-linecap:butt;stroke-linejoin:miter;stroke:rgb(26.666667%,26.666667%,26.666667%);stroke-opacity:1;stroke-miterlimit:10;\" d=\"M 148.304688 189.125 L 208.351563 180.722656 \"/>\n",
       "<path style=\"fill:none;stroke-width:1;stroke-linecap:butt;stroke-linejoin:miter;stroke:rgb(26.666667%,26.666667%,26.666667%);stroke-opacity:1;stroke-miterlimit:10;\" d=\"M 148.304688 189.125 L 229.152344 158.191406 \"/>\n",
       "<path style=\"fill:none;stroke-width:1;stroke-linecap:butt;stroke-linejoin:miter;stroke:rgb(26.666667%,26.666667%,26.666667%);stroke-opacity:1;stroke-miterlimit:10;\" d=\"M 168.960938 281.59375 L 208.351563 180.722656 \"/>\n",
       "<path style=\"fill:none;stroke-width:1;stroke-linecap:butt;stroke-linejoin:miter;stroke:rgb(26.666667%,26.666667%,26.666667%);stroke-opacity:1;stroke-miterlimit:10;\" d=\"M 168.960938 281.59375 L 250.699219 340.722656 \"/>\n",
       "<path style=\"fill:none;stroke-width:1;stroke-linecap:butt;stroke-linejoin:miter;stroke:rgb(26.666667%,26.666667%,26.666667%);stroke-opacity:1;stroke-miterlimit:10;\" d=\"M 168.960938 281.59375 L 275.480469 283.492188 \"/>\n",
       "<path style=\"fill:none;stroke-width:1;stroke-linecap:butt;stroke-linejoin:miter;stroke:rgb(26.666667%,26.666667%,26.666667%);stroke-opacity:1;stroke-miterlimit:10;\" d=\"M 183.335938 524.640625 L 219.734375 421.523438 \"/>\n",
       "<path style=\"fill:none;stroke-width:1;stroke-linecap:butt;stroke-linejoin:miter;stroke:rgb(26.666667%,26.666667%,26.666667%);stroke-opacity:1;stroke-miterlimit:10;\" d=\"M 183.335938 524.640625 L 226.03125 483.527344 \"/>\n",
       "<path style=\"fill:none;stroke-width:1;stroke-linecap:butt;stroke-linejoin:miter;stroke:rgb(26.666667%,26.666667%,26.666667%);stroke-opacity:1;stroke-miterlimit:10;\" d=\"M 183.335938 524.640625 L 261.53125 516.679688 \"/>\n",
       "<path style=\"fill:none;stroke-width:1;stroke-linecap:butt;stroke-linejoin:miter;stroke:rgb(26.666667%,26.666667%,26.666667%);stroke-opacity:1;stroke-miterlimit:10;\" d=\"M 183.335938 524.640625 L 288.660156 482.234375 \"/>\n",
       "<path style=\"fill:none;stroke-width:1;stroke-linecap:butt;stroke-linejoin:miter;stroke:rgb(26.666667%,26.666667%,26.666667%);stroke-opacity:1;stroke-miterlimit:10;\" d=\"M 208.351563 180.722656 L 229.152344 158.191406 \"/>\n",
       "<path style=\"fill:none;stroke-width:1;stroke-linecap:butt;stroke-linejoin:miter;stroke:rgb(26.666667%,26.666667%,26.666667%);stroke-opacity:1;stroke-miterlimit:10;\" d=\"M 208.351563 180.722656 L 243.253906 76.382813 \"/>\n",
       "<path style=\"fill:none;stroke-width:1;stroke-linecap:butt;stroke-linejoin:miter;stroke:rgb(26.666667%,26.666667%,26.666667%);stroke-opacity:1;stroke-miterlimit:10;\" d=\"M 208.351563 180.722656 L 255.457031 124.144531 \"/>\n",
       "<path style=\"fill:none;stroke-width:1;stroke-linecap:butt;stroke-linejoin:miter;stroke:rgb(26.666667%,26.666667%,26.666667%);stroke-opacity:1;stroke-miterlimit:10;\" d=\"M 208.351563 180.722656 L 257.554688 98.214844 \"/>\n",
       "<path style=\"fill:none;stroke-width:1;stroke-linecap:butt;stroke-linejoin:miter;stroke:rgb(26.666667%,26.666667%,26.666667%);stroke-opacity:1;stroke-miterlimit:10;\" d=\"M 208.351563 180.722656 L 263.652344 90.828125 \"/>\n",
       "<path style=\"fill:none;stroke-width:1;stroke-linecap:butt;stroke-linejoin:miter;stroke:rgb(26.666667%,26.666667%,26.666667%);stroke-opacity:1;stroke-miterlimit:10;\" d=\"M 208.351563 180.722656 L 265.402344 136.371094 \"/>\n",
       "<path style=\"fill:none;stroke-width:1;stroke-linecap:butt;stroke-linejoin:miter;stroke:rgb(26.666667%,26.666667%,26.666667%);stroke-opacity:1;stroke-miterlimit:10;\" d=\"M 208.351563 180.722656 L 265.785156 98.652344 \"/>\n",
       "<path style=\"fill:none;stroke-width:1;stroke-linecap:butt;stroke-linejoin:miter;stroke:rgb(26.666667%,26.666667%,26.666667%);stroke-opacity:1;stroke-miterlimit:10;\" d=\"M 211.402344 57.609375 L 229.152344 158.191406 \"/>\n",
       "<path style=\"fill:none;stroke-width:1;stroke-linecap:butt;stroke-linejoin:miter;stroke:rgb(26.666667%,26.666667%,26.666667%);stroke-opacity:1;stroke-miterlimit:10;\" d=\"M 211.402344 57.609375 L 243.253906 76.382813 \"/>\n",
       "<path style=\"fill:none;stroke-width:1;stroke-linecap:butt;stroke-linejoin:miter;stroke:rgb(26.666667%,26.666667%,26.666667%);stroke-opacity:1;stroke-miterlimit:10;\" d=\"M 211.402344 57.609375 L 255.457031 124.144531 \"/>\n",
       "<path style=\"fill:none;stroke-width:1;stroke-linecap:butt;stroke-linejoin:miter;stroke:rgb(26.666667%,26.666667%,26.666667%);stroke-opacity:1;stroke-miterlimit:10;\" d=\"M 211.402344 57.609375 L 257.554688 98.214844 \"/>\n",
       "<path style=\"fill:none;stroke-width:1;stroke-linecap:butt;stroke-linejoin:miter;stroke:rgb(26.666667%,26.666667%,26.666667%);stroke-opacity:1;stroke-miterlimit:10;\" d=\"M 211.402344 57.609375 L 263.652344 90.828125 \"/>\n",
       "<path style=\"fill:none;stroke-width:1;stroke-linecap:butt;stroke-linejoin:miter;stroke:rgb(26.666667%,26.666667%,26.666667%);stroke-opacity:1;stroke-miterlimit:10;\" d=\"M 211.402344 57.609375 L 265.402344 136.371094 \"/>\n",
       "<path style=\"fill:none;stroke-width:1;stroke-linecap:butt;stroke-linejoin:miter;stroke:rgb(26.666667%,26.666667%,26.666667%);stroke-opacity:1;stroke-miterlimit:10;\" d=\"M 211.402344 57.609375 L 265.785156 98.652344 \"/>\n",
       "<path style=\"fill:none;stroke-width:1;stroke-linecap:butt;stroke-linejoin:miter;stroke:rgb(26.666667%,26.666667%,26.666667%);stroke-opacity:1;stroke-miterlimit:10;\" d=\"M 211.402344 57.609375 L 266.183594 20 \"/>\n",
       "<path style=\"fill:none;stroke-width:1;stroke-linecap:butt;stroke-linejoin:miter;stroke:rgb(26.666667%,26.666667%,26.666667%);stroke-opacity:1;stroke-miterlimit:10;\" d=\"M 211.402344 57.609375 L 292.925781 46.511719 \"/>\n",
       "<path style=\"fill:none;stroke-width:1;stroke-linecap:butt;stroke-linejoin:miter;stroke:rgb(26.666667%,26.666667%,26.666667%);stroke-opacity:1;stroke-miterlimit:10;\" d=\"M 211.402344 57.609375 L 318.34375 90.804688 \"/>\n",
       "<path style=\"fill:none;stroke-width:1;stroke-linecap:butt;stroke-linejoin:miter;stroke:rgb(26.666667%,26.666667%,26.666667%);stroke-opacity:1;stroke-miterlimit:10;\" d=\"M 219.734375 421.523438 L 226.03125 483.527344 \"/>\n",
       "<path style=\"fill:none;stroke-width:1;stroke-linecap:butt;stroke-linejoin:miter;stroke:rgb(26.666667%,26.666667%,26.666667%);stroke-opacity:1;stroke-miterlimit:10;\" d=\"M 219.734375 421.523438 L 250.699219 340.722656 \"/>\n",
       "<path style=\"fill:none;stroke-width:1;stroke-linecap:butt;stroke-linejoin:miter;stroke:rgb(26.666667%,26.666667%,26.666667%);stroke-opacity:1;stroke-miterlimit:10;\" d=\"M 219.734375 421.523438 L 259.015625 376.601563 \"/>\n",
       "<path style=\"fill:none;stroke-width:1;stroke-linecap:butt;stroke-linejoin:miter;stroke:rgb(26.666667%,26.666667%,26.666667%);stroke-opacity:1;stroke-miterlimit:10;\" d=\"M 219.734375 421.523438 L 261.53125 516.679688 \"/>\n",
       "<path style=\"fill:none;stroke-width:1;stroke-linecap:butt;stroke-linejoin:miter;stroke:rgb(26.666667%,26.666667%,26.666667%);stroke-opacity:1;stroke-miterlimit:10;\" d=\"M 219.734375 421.523438 L 288.660156 482.234375 \"/>\n",
       "<path style=\"fill:none;stroke-width:1;stroke-linecap:butt;stroke-linejoin:miter;stroke:rgb(26.666667%,26.666667%,26.666667%);stroke-opacity:1;stroke-miterlimit:10;\" d=\"M 219.734375 421.523438 L 302.808594 494.929688 \"/>\n",
       "<path style=\"fill:none;stroke-width:1;stroke-linecap:butt;stroke-linejoin:miter;stroke:rgb(26.666667%,26.666667%,26.666667%);stroke-opacity:1;stroke-miterlimit:10;\" d=\"M 226.03125 483.527344 L 259.015625 376.601563 \"/>\n",
       "<path style=\"fill:none;stroke-width:1;stroke-linecap:butt;stroke-linejoin:miter;stroke:rgb(26.666667%,26.666667%,26.666667%);stroke-opacity:1;stroke-miterlimit:10;\" d=\"M 226.03125 483.527344 L 261.53125 516.679688 \"/>\n",
       "<path style=\"fill:none;stroke-width:1;stroke-linecap:butt;stroke-linejoin:miter;stroke:rgb(26.666667%,26.666667%,26.666667%);stroke-opacity:1;stroke-miterlimit:10;\" d=\"M 226.03125 483.527344 L 288.660156 482.234375 \"/>\n",
       "<path style=\"fill:none;stroke-width:1;stroke-linecap:butt;stroke-linejoin:miter;stroke:rgb(26.666667%,26.666667%,26.666667%);stroke-opacity:1;stroke-miterlimit:10;\" d=\"M 226.03125 483.527344 L 302.808594 494.929688 \"/>\n",
       "<path style=\"fill:none;stroke-width:1;stroke-linecap:butt;stroke-linejoin:miter;stroke:rgb(26.666667%,26.666667%,26.666667%);stroke-opacity:1;stroke-miterlimit:10;\" d=\"M 226.03125 483.527344 L 317.503906 500.929688 \"/>\n",
       "<path style=\"fill:none;stroke-width:1;stroke-linecap:butt;stroke-linejoin:miter;stroke:rgb(26.666667%,26.666667%,26.666667%);stroke-opacity:1;stroke-miterlimit:10;\" d=\"M 229.152344 158.191406 L 243.253906 76.382813 \"/>\n",
       "<path style=\"fill:none;stroke-width:1;stroke-linecap:butt;stroke-linejoin:miter;stroke:rgb(26.666667%,26.666667%,26.666667%);stroke-opacity:1;stroke-miterlimit:10;\" d=\"M 229.152344 158.191406 L 255.457031 124.144531 \"/>\n",
       "<path style=\"fill:none;stroke-width:1;stroke-linecap:butt;stroke-linejoin:miter;stroke:rgb(26.666667%,26.666667%,26.666667%);stroke-opacity:1;stroke-miterlimit:10;\" d=\"M 229.152344 158.191406 L 257.554688 98.214844 \"/>\n",
       "<path style=\"fill:none;stroke-width:1;stroke-linecap:butt;stroke-linejoin:miter;stroke:rgb(26.666667%,26.666667%,26.666667%);stroke-opacity:1;stroke-miterlimit:10;\" d=\"M 229.152344 158.191406 L 263.652344 90.828125 \"/>\n",
       "<path style=\"fill:none;stroke-width:1;stroke-linecap:butt;stroke-linejoin:miter;stroke:rgb(26.666667%,26.666667%,26.666667%);stroke-opacity:1;stroke-miterlimit:10;\" d=\"M 229.152344 158.191406 L 265.402344 136.371094 \"/>\n",
       "<path style=\"fill:none;stroke-width:1;stroke-linecap:butt;stroke-linejoin:miter;stroke:rgb(26.666667%,26.666667%,26.666667%);stroke-opacity:1;stroke-miterlimit:10;\" d=\"M 229.152344 158.191406 L 265.785156 98.652344 \"/>\n",
       "<path style=\"fill:none;stroke-width:1;stroke-linecap:butt;stroke-linejoin:miter;stroke:rgb(26.666667%,26.666667%,26.666667%);stroke-opacity:1;stroke-miterlimit:10;\" d=\"M 229.152344 158.191406 L 318.34375 90.804688 \"/>\n",
       "<path style=\"fill:none;stroke-width:1;stroke-linecap:butt;stroke-linejoin:miter;stroke:rgb(26.666667%,26.666667%,26.666667%);stroke-opacity:1;stroke-miterlimit:10;\" d=\"M 229.152344 158.191406 L 321.125 110.582031 \"/>\n",
       "<path style=\"fill:none;stroke-width:1;stroke-linecap:butt;stroke-linejoin:miter;stroke:rgb(26.666667%,26.666667%,26.666667%);stroke-opacity:1;stroke-miterlimit:10;\" d=\"M 243.253906 76.382813 L 255.457031 124.144531 \"/>\n",
       "<path style=\"fill:none;stroke-width:1;stroke-linecap:butt;stroke-linejoin:miter;stroke:rgb(26.666667%,26.666667%,26.666667%);stroke-opacity:1;stroke-miterlimit:10;\" d=\"M 243.253906 76.382813 L 257.554688 98.214844 \"/>\n",
       "<path style=\"fill:none;stroke-width:1;stroke-linecap:butt;stroke-linejoin:miter;stroke:rgb(26.666667%,26.666667%,26.666667%);stroke-opacity:1;stroke-miterlimit:10;\" d=\"M 243.253906 76.382813 L 263.652344 90.828125 \"/>\n",
       "<path style=\"fill:none;stroke-width:1;stroke-linecap:butt;stroke-linejoin:miter;stroke:rgb(26.666667%,26.666667%,26.666667%);stroke-opacity:1;stroke-miterlimit:10;\" d=\"M 243.253906 76.382813 L 265.402344 136.371094 \"/>\n",
       "<path style=\"fill:none;stroke-width:1;stroke-linecap:butt;stroke-linejoin:miter;stroke:rgb(26.666667%,26.666667%,26.666667%);stroke-opacity:1;stroke-miterlimit:10;\" d=\"M 243.253906 76.382813 L 265.785156 98.652344 \"/>\n",
       "<path style=\"fill:none;stroke-width:1;stroke-linecap:butt;stroke-linejoin:miter;stroke:rgb(26.666667%,26.666667%,26.666667%);stroke-opacity:1;stroke-miterlimit:10;\" d=\"M 243.253906 76.382813 L 266.183594 20 \"/>\n",
       "<path style=\"fill:none;stroke-width:1;stroke-linecap:butt;stroke-linejoin:miter;stroke:rgb(26.666667%,26.666667%,26.666667%);stroke-opacity:1;stroke-miterlimit:10;\" d=\"M 243.253906 76.382813 L 292.925781 46.511719 \"/>\n",
       "<path style=\"fill:none;stroke-width:1;stroke-linecap:butt;stroke-linejoin:miter;stroke:rgb(26.666667%,26.666667%,26.666667%);stroke-opacity:1;stroke-miterlimit:10;\" d=\"M 243.253906 76.382813 L 318.34375 90.804688 \"/>\n",
       "<path style=\"fill:none;stroke-width:1;stroke-linecap:butt;stroke-linejoin:miter;stroke:rgb(26.666667%,26.666667%,26.666667%);stroke-opacity:1;stroke-miterlimit:10;\" d=\"M 243.253906 76.382813 L 321.125 110.582031 \"/>\n",
       "<path style=\"fill:none;stroke-width:1;stroke-linecap:butt;stroke-linejoin:miter;stroke:rgb(26.666667%,26.666667%,26.666667%);stroke-opacity:1;stroke-miterlimit:10;\" d=\"M 243.253906 76.382813 L 335.960938 53.847656 \"/>\n",
       "<path style=\"fill:none;stroke-width:1;stroke-linecap:butt;stroke-linejoin:miter;stroke:rgb(26.666667%,26.666667%,26.666667%);stroke-opacity:1;stroke-miterlimit:10;\" d=\"M 250.699219 340.722656 L 259.015625 376.601563 \"/>\n",
       "<path style=\"fill:none;stroke-width:1;stroke-linecap:butt;stroke-linejoin:miter;stroke:rgb(26.666667%,26.666667%,26.666667%);stroke-opacity:1;stroke-miterlimit:10;\" d=\"M 250.699219 340.722656 L 275.480469 283.492188 \"/>\n",
       "<path style=\"fill:none;stroke-width:1;stroke-linecap:butt;stroke-linejoin:miter;stroke:rgb(26.666667%,26.666667%,26.666667%);stroke-opacity:1;stroke-miterlimit:10;\" d=\"M 250.699219 340.722656 L 300.421875 258.496094 \"/>\n",
       "<path style=\"fill:none;stroke-width:1;stroke-linecap:butt;stroke-linejoin:miter;stroke:rgb(26.666667%,26.666667%,26.666667%);stroke-opacity:1;stroke-miterlimit:10;\" d=\"M 250.699219 340.722656 L 314.46875 295.644531 \"/>\n",
       "<path style=\"fill:none;stroke-width:1;stroke-linecap:butt;stroke-linejoin:miter;stroke:rgb(26.666667%,26.666667%,26.666667%);stroke-opacity:1;stroke-miterlimit:10;\" d=\"M 255.457031 124.144531 L 257.554688 98.214844 \"/>\n",
       "<path style=\"fill:none;stroke-width:1;stroke-linecap:butt;stroke-linejoin:miter;stroke:rgb(26.666667%,26.666667%,26.666667%);stroke-opacity:1;stroke-miterlimit:10;\" d=\"M 255.457031 124.144531 L 263.652344 90.828125 \"/>\n",
       "<path style=\"fill:none;stroke-width:1;stroke-linecap:butt;stroke-linejoin:miter;stroke:rgb(26.666667%,26.666667%,26.666667%);stroke-opacity:1;stroke-miterlimit:10;\" d=\"M 255.457031 124.144531 L 265.402344 136.371094 \"/>\n",
       "<path style=\"fill:none;stroke-width:1;stroke-linecap:butt;stroke-linejoin:miter;stroke:rgb(26.666667%,26.666667%,26.666667%);stroke-opacity:1;stroke-miterlimit:10;\" d=\"M 255.457031 124.144531 L 265.785156 98.652344 \"/>\n",
       "<path style=\"fill:none;stroke-width:1;stroke-linecap:butt;stroke-linejoin:miter;stroke:rgb(26.666667%,26.666667%,26.666667%);stroke-opacity:1;stroke-miterlimit:10;\" d=\"M 255.457031 124.144531 L 266.183594 20 \"/>\n",
       "<path style=\"fill:none;stroke-width:1;stroke-linecap:butt;stroke-linejoin:miter;stroke:rgb(26.666667%,26.666667%,26.666667%);stroke-opacity:1;stroke-miterlimit:10;\" d=\"M 255.457031 124.144531 L 292.925781 46.511719 \"/>\n",
       "<path style=\"fill:none;stroke-width:1;stroke-linecap:butt;stroke-linejoin:miter;stroke:rgb(26.666667%,26.666667%,26.666667%);stroke-opacity:1;stroke-miterlimit:10;\" d=\"M 255.457031 124.144531 L 318.34375 90.804688 \"/>\n",
       "<path style=\"fill:none;stroke-width:1;stroke-linecap:butt;stroke-linejoin:miter;stroke:rgb(26.666667%,26.666667%,26.666667%);stroke-opacity:1;stroke-miterlimit:10;\" d=\"M 255.457031 124.144531 L 321.125 110.582031 \"/>\n",
       "<path style=\"fill:none;stroke-width:1;stroke-linecap:butt;stroke-linejoin:miter;stroke:rgb(26.666667%,26.666667%,26.666667%);stroke-opacity:1;stroke-miterlimit:10;\" d=\"M 255.457031 124.144531 L 335.960938 53.847656 \"/>\n",
       "<path style=\"fill:none;stroke-width:1;stroke-linecap:butt;stroke-linejoin:miter;stroke:rgb(26.666667%,26.666667%,26.666667%);stroke-opacity:1;stroke-miterlimit:10;\" d=\"M 255.457031 124.144531 L 341.757813 185.039063 \"/>\n",
       "<path style=\"fill:none;stroke-width:1;stroke-linecap:butt;stroke-linejoin:miter;stroke:rgb(26.666667%,26.666667%,26.666667%);stroke-opacity:1;stroke-miterlimit:10;\" d=\"M 257.554688 98.214844 L 263.652344 90.828125 \"/>\n",
       "<path style=\"fill:none;stroke-width:1;stroke-linecap:butt;stroke-linejoin:miter;stroke:rgb(26.666667%,26.666667%,26.666667%);stroke-opacity:1;stroke-miterlimit:10;\" d=\"M 257.554688 98.214844 L 265.402344 136.371094 \"/>\n",
       "<path style=\"fill:none;stroke-width:1;stroke-linecap:butt;stroke-linejoin:miter;stroke:rgb(26.666667%,26.666667%,26.666667%);stroke-opacity:1;stroke-miterlimit:10;\" d=\"M 257.554688 98.214844 L 265.785156 98.652344 \"/>\n",
       "<path style=\"fill:none;stroke-width:1;stroke-linecap:butt;stroke-linejoin:miter;stroke:rgb(26.666667%,26.666667%,26.666667%);stroke-opacity:1;stroke-miterlimit:10;\" d=\"M 257.554688 98.214844 L 266.183594 20 \"/>\n",
       "<path style=\"fill:none;stroke-width:1;stroke-linecap:butt;stroke-linejoin:miter;stroke:rgb(26.666667%,26.666667%,26.666667%);stroke-opacity:1;stroke-miterlimit:10;\" d=\"M 257.554688 98.214844 L 292.925781 46.511719 \"/>\n",
       "<path style=\"fill:none;stroke-width:1;stroke-linecap:butt;stroke-linejoin:miter;stroke:rgb(26.666667%,26.666667%,26.666667%);stroke-opacity:1;stroke-miterlimit:10;\" d=\"M 257.554688 98.214844 L 318.34375 90.804688 \"/>\n",
       "<path style=\"fill:none;stroke-width:1;stroke-linecap:butt;stroke-linejoin:miter;stroke:rgb(26.666667%,26.666667%,26.666667%);stroke-opacity:1;stroke-miterlimit:10;\" d=\"M 257.554688 98.214844 L 321.125 110.582031 \"/>\n",
       "<path style=\"fill:none;stroke-width:1;stroke-linecap:butt;stroke-linejoin:miter;stroke:rgb(26.666667%,26.666667%,26.666667%);stroke-opacity:1;stroke-miterlimit:10;\" d=\"M 257.554688 98.214844 L 335.960938 53.847656 \"/>\n",
       "<path style=\"fill:none;stroke-width:1;stroke-linecap:butt;stroke-linejoin:miter;stroke:rgb(26.666667%,26.666667%,26.666667%);stroke-opacity:1;stroke-miterlimit:10;\" d=\"M 257.554688 98.214844 L 353.722656 37.527344 \"/>\n",
       "<path style=\"fill:none;stroke-width:1;stroke-linecap:butt;stroke-linejoin:miter;stroke:rgb(26.666667%,26.666667%,26.666667%);stroke-opacity:1;stroke-miterlimit:10;\" d=\"M 259.015625 376.601563 L 275.480469 283.492188 \"/>\n",
       "<path style=\"fill:none;stroke-width:1;stroke-linecap:butt;stroke-linejoin:miter;stroke:rgb(26.666667%,26.666667%,26.666667%);stroke-opacity:1;stroke-miterlimit:10;\" d=\"M 259.015625 376.601563 L 288.660156 482.234375 \"/>\n",
       "<path style=\"fill:none;stroke-width:1;stroke-linecap:butt;stroke-linejoin:miter;stroke:rgb(26.666667%,26.666667%,26.666667%);stroke-opacity:1;stroke-miterlimit:10;\" d=\"M 259.015625 376.601563 L 314.46875 295.644531 \"/>\n",
       "<path style=\"fill:none;stroke-width:1;stroke-linecap:butt;stroke-linejoin:miter;stroke:rgb(26.666667%,26.666667%,26.666667%);stroke-opacity:1;stroke-miterlimit:10;\" d=\"M 259.015625 376.601563 L 342.671875 419.175781 \"/>\n",
       "<path style=\"fill:none;stroke-width:1;stroke-linecap:butt;stroke-linejoin:miter;stroke:rgb(26.666667%,26.666667%,26.666667%);stroke-opacity:1;stroke-miterlimit:10;\" d=\"M 259.015625 376.601563 L 352.621094 400.988281 \"/>\n",
       "<path style=\"fill:none;stroke-width:1;stroke-linecap:butt;stroke-linejoin:miter;stroke:rgb(26.666667%,26.666667%,26.666667%);stroke-opacity:1;stroke-miterlimit:10;\" d=\"M 261.53125 516.679688 L 288.660156 482.234375 \"/>\n",
       "<path style=\"fill:none;stroke-width:1;stroke-linecap:butt;stroke-linejoin:miter;stroke:rgb(26.666667%,26.666667%,26.666667%);stroke-opacity:1;stroke-miterlimit:10;\" d=\"M 261.53125 516.679688 L 302.808594 494.929688 \"/>\n",
       "<path style=\"fill:none;stroke-width:1;stroke-linecap:butt;stroke-linejoin:miter;stroke:rgb(26.666667%,26.666667%,26.666667%);stroke-opacity:1;stroke-miterlimit:10;\" d=\"M 261.53125 516.679688 L 317.503906 500.929688 \"/>\n",
       "<path style=\"fill:none;stroke-width:1;stroke-linecap:butt;stroke-linejoin:miter;stroke:rgb(26.666667%,26.666667%,26.666667%);stroke-opacity:1;stroke-miterlimit:10;\" d=\"M 263.652344 90.828125 L 265.402344 136.371094 \"/>\n",
       "<path style=\"fill:none;stroke-width:1;stroke-linecap:butt;stroke-linejoin:miter;stroke:rgb(26.666667%,26.666667%,26.666667%);stroke-opacity:1;stroke-miterlimit:10;\" d=\"M 263.652344 90.828125 L 265.785156 98.652344 \"/>\n",
       "<path style=\"fill:none;stroke-width:1;stroke-linecap:butt;stroke-linejoin:miter;stroke:rgb(26.666667%,26.666667%,26.666667%);stroke-opacity:1;stroke-miterlimit:10;\" d=\"M 263.652344 90.828125 L 266.183594 20 \"/>\n",
       "<path style=\"fill:none;stroke-width:1;stroke-linecap:butt;stroke-linejoin:miter;stroke:rgb(26.666667%,26.666667%,26.666667%);stroke-opacity:1;stroke-miterlimit:10;\" d=\"M 263.652344 90.828125 L 292.925781 46.511719 \"/>\n",
       "<path style=\"fill:none;stroke-width:1;stroke-linecap:butt;stroke-linejoin:miter;stroke:rgb(26.666667%,26.666667%,26.666667%);stroke-opacity:1;stroke-miterlimit:10;\" d=\"M 263.652344 90.828125 L 318.34375 90.804688 \"/>\n",
       "<path style=\"fill:none;stroke-width:1;stroke-linecap:butt;stroke-linejoin:miter;stroke:rgb(26.666667%,26.666667%,26.666667%);stroke-opacity:1;stroke-miterlimit:10;\" d=\"M 263.652344 90.828125 L 321.125 110.582031 \"/>\n",
       "<path style=\"fill:none;stroke-width:1;stroke-linecap:butt;stroke-linejoin:miter;stroke:rgb(26.666667%,26.666667%,26.666667%);stroke-opacity:1;stroke-miterlimit:10;\" d=\"M 263.652344 90.828125 L 335.960938 53.847656 \"/>\n",
       "<path style=\"fill:none;stroke-width:1;stroke-linecap:butt;stroke-linejoin:miter;stroke:rgb(26.666667%,26.666667%,26.666667%);stroke-opacity:1;stroke-miterlimit:10;\" d=\"M 263.652344 90.828125 L 353.722656 37.527344 \"/>\n",
       "<path style=\"fill:none;stroke-width:1;stroke-linecap:butt;stroke-linejoin:miter;stroke:rgb(26.666667%,26.666667%,26.666667%);stroke-opacity:1;stroke-miterlimit:10;\" d=\"M 265.402344 136.371094 L 265.785156 98.652344 \"/>\n",
       "<path style=\"fill:none;stroke-width:1;stroke-linecap:butt;stroke-linejoin:miter;stroke:rgb(26.666667%,26.666667%,26.666667%);stroke-opacity:1;stroke-miterlimit:10;\" d=\"M 265.402344 136.371094 L 266.183594 20 \"/>\n",
       "<path style=\"fill:none;stroke-width:1;stroke-linecap:butt;stroke-linejoin:miter;stroke:rgb(26.666667%,26.666667%,26.666667%);stroke-opacity:1;stroke-miterlimit:10;\" d=\"M 265.402344 136.371094 L 292.925781 46.511719 \"/>\n",
       "<path style=\"fill:none;stroke-width:1;stroke-linecap:butt;stroke-linejoin:miter;stroke:rgb(26.666667%,26.666667%,26.666667%);stroke-opacity:1;stroke-miterlimit:10;\" d=\"M 265.402344 136.371094 L 318.34375 90.804688 \"/>\n",
       "<path style=\"fill:none;stroke-width:1;stroke-linecap:butt;stroke-linejoin:miter;stroke:rgb(26.666667%,26.666667%,26.666667%);stroke-opacity:1;stroke-miterlimit:10;\" d=\"M 265.402344 136.371094 L 321.125 110.582031 \"/>\n",
       "<path style=\"fill:none;stroke-width:1;stroke-linecap:butt;stroke-linejoin:miter;stroke:rgb(26.666667%,26.666667%,26.666667%);stroke-opacity:1;stroke-miterlimit:10;\" d=\"M 265.402344 136.371094 L 335.960938 53.847656 \"/>\n",
       "<path style=\"fill:none;stroke-width:1;stroke-linecap:butt;stroke-linejoin:miter;stroke:rgb(26.666667%,26.666667%,26.666667%);stroke-opacity:1;stroke-miterlimit:10;\" d=\"M 265.402344 136.371094 L 341.757813 185.039063 \"/>\n",
       "<path style=\"fill:none;stroke-width:1;stroke-linecap:butt;stroke-linejoin:miter;stroke:rgb(26.666667%,26.666667%,26.666667%);stroke-opacity:1;stroke-miterlimit:10;\" d=\"M 265.402344 136.371094 L 354.238281 207.875 \"/>\n",
       "<path style=\"fill:none;stroke-width:1;stroke-linecap:butt;stroke-linejoin:miter;stroke:rgb(26.666667%,26.666667%,26.666667%);stroke-opacity:1;stroke-miterlimit:10;\" d=\"M 265.402344 136.371094 L 357.851563 190.421875 \"/>\n",
       "<path style=\"fill:none;stroke-width:1;stroke-linecap:butt;stroke-linejoin:miter;stroke:rgb(26.666667%,26.666667%,26.666667%);stroke-opacity:1;stroke-miterlimit:10;\" d=\"M 265.785156 98.652344 L 266.183594 20 \"/>\n",
       "<path style=\"fill:none;stroke-width:1;stroke-linecap:butt;stroke-linejoin:miter;stroke:rgb(26.666667%,26.666667%,26.666667%);stroke-opacity:1;stroke-miterlimit:10;\" d=\"M 265.785156 98.652344 L 292.925781 46.511719 \"/>\n",
       "<path style=\"fill:none;stroke-width:1;stroke-linecap:butt;stroke-linejoin:miter;stroke:rgb(26.666667%,26.666667%,26.666667%);stroke-opacity:1;stroke-miterlimit:10;\" d=\"M 265.785156 98.652344 L 318.34375 90.804688 \"/>\n",
       "<path style=\"fill:none;stroke-width:1;stroke-linecap:butt;stroke-linejoin:miter;stroke:rgb(26.666667%,26.666667%,26.666667%);stroke-opacity:1;stroke-miterlimit:10;\" d=\"M 265.785156 98.652344 L 321.125 110.582031 \"/>\n",
       "<path style=\"fill:none;stroke-width:1;stroke-linecap:butt;stroke-linejoin:miter;stroke:rgb(26.666667%,26.666667%,26.666667%);stroke-opacity:1;stroke-miterlimit:10;\" d=\"M 265.785156 98.652344 L 335.960938 53.847656 \"/>\n",
       "<path style=\"fill:none;stroke-width:1;stroke-linecap:butt;stroke-linejoin:miter;stroke:rgb(26.666667%,26.666667%,26.666667%);stroke-opacity:1;stroke-miterlimit:10;\" d=\"M 265.785156 98.652344 L 341.757813 185.039063 \"/>\n",
       "<path style=\"fill:none;stroke-width:1;stroke-linecap:butt;stroke-linejoin:miter;stroke:rgb(26.666667%,26.666667%,26.666667%);stroke-opacity:1;stroke-miterlimit:10;\" d=\"M 265.785156 98.652344 L 353.722656 37.527344 \"/>\n",
       "<path style=\"fill:none;stroke-width:1;stroke-linecap:butt;stroke-linejoin:miter;stroke:rgb(26.666667%,26.666667%,26.666667%);stroke-opacity:1;stroke-miterlimit:10;\" d=\"M 266.183594 20 L 292.925781 46.511719 \"/>\n",
       "<path style=\"fill:none;stroke-width:1;stroke-linecap:butt;stroke-linejoin:miter;stroke:rgb(26.666667%,26.666667%,26.666667%);stroke-opacity:1;stroke-miterlimit:10;\" d=\"M 266.183594 20 L 318.34375 90.804688 \"/>\n",
       "<path style=\"fill:none;stroke-width:1;stroke-linecap:butt;stroke-linejoin:miter;stroke:rgb(26.666667%,26.666667%,26.666667%);stroke-opacity:1;stroke-miterlimit:10;\" d=\"M 266.183594 20 L 321.125 110.582031 \"/>\n",
       "<path style=\"fill:none;stroke-width:1;stroke-linecap:butt;stroke-linejoin:miter;stroke:rgb(26.666667%,26.666667%,26.666667%);stroke-opacity:1;stroke-miterlimit:10;\" d=\"M 266.183594 20 L 335.960938 53.847656 \"/>\n",
       "<path style=\"fill:none;stroke-width:1;stroke-linecap:butt;stroke-linejoin:miter;stroke:rgb(26.666667%,26.666667%,26.666667%);stroke-opacity:1;stroke-miterlimit:10;\" d=\"M 266.183594 20 L 353.722656 37.527344 \"/>\n",
       "<path style=\"fill:none;stroke-width:1;stroke-linecap:butt;stroke-linejoin:miter;stroke:rgb(26.666667%,26.666667%,26.666667%);stroke-opacity:1;stroke-miterlimit:10;\" d=\"M 275.480469 283.492188 L 300.421875 258.496094 \"/>\n",
       "<path style=\"fill:none;stroke-width:1;stroke-linecap:butt;stroke-linejoin:miter;stroke:rgb(26.666667%,26.666667%,26.666667%);stroke-opacity:1;stroke-miterlimit:10;\" d=\"M 275.480469 283.492188 L 314.46875 295.644531 \"/>\n",
       "<path style=\"fill:none;stroke-width:1;stroke-linecap:butt;stroke-linejoin:miter;stroke:rgb(26.666667%,26.666667%,26.666667%);stroke-opacity:1;stroke-miterlimit:10;\" d=\"M 275.480469 283.492188 L 348.980469 268.269531 \"/>\n",
       "<path style=\"fill:none;stroke-width:1;stroke-linecap:butt;stroke-linejoin:miter;stroke:rgb(26.666667%,26.666667%,26.666667%);stroke-opacity:1;stroke-miterlimit:10;\" d=\"M 275.480469 283.492188 L 354.238281 207.875 \"/>\n",
       "<path style=\"fill:none;stroke-width:1;stroke-linecap:butt;stroke-linejoin:miter;stroke:rgb(26.666667%,26.666667%,26.666667%);stroke-opacity:1;stroke-miterlimit:10;\" d=\"M 275.480469 283.492188 L 367.261719 272.402344 \"/>\n",
       "<path style=\"fill:none;stroke-width:1;stroke-linecap:butt;stroke-linejoin:miter;stroke:rgb(26.666667%,26.666667%,26.666667%);stroke-opacity:1;stroke-miterlimit:10;\" d=\"M 288.660156 482.234375 L 302.808594 494.929688 \"/>\n",
       "<path style=\"fill:none;stroke-width:1;stroke-linecap:butt;stroke-linejoin:miter;stroke:rgb(26.666667%,26.666667%,26.666667%);stroke-opacity:1;stroke-miterlimit:10;\" d=\"M 288.660156 482.234375 L 317.503906 500.929688 \"/>\n",
       "<path style=\"fill:none;stroke-width:1;stroke-linecap:butt;stroke-linejoin:miter;stroke:rgb(26.666667%,26.666667%,26.666667%);stroke-opacity:1;stroke-miterlimit:10;\" d=\"M 288.660156 482.234375 L 342.671875 419.175781 \"/>\n",
       "<path style=\"fill:none;stroke-width:1;stroke-linecap:butt;stroke-linejoin:miter;stroke:rgb(26.666667%,26.666667%,26.666667%);stroke-opacity:1;stroke-miterlimit:10;\" d=\"M 288.660156 482.234375 L 352.621094 400.988281 \"/>\n",
       "<path style=\"fill:none;stroke-width:1;stroke-linecap:butt;stroke-linejoin:miter;stroke:rgb(26.666667%,26.666667%,26.666667%);stroke-opacity:1;stroke-miterlimit:10;\" d=\"M 288.660156 482.234375 L 359.664063 449.144531 \"/>\n",
       "<path style=\"fill:none;stroke-width:1;stroke-linecap:butt;stroke-linejoin:miter;stroke:rgb(26.666667%,26.666667%,26.666667%);stroke-opacity:1;stroke-miterlimit:10;\" d=\"M 292.925781 46.511719 L 318.34375 90.804688 \"/>\n",
       "<path style=\"fill:none;stroke-width:1;stroke-linecap:butt;stroke-linejoin:miter;stroke:rgb(26.666667%,26.666667%,26.666667%);stroke-opacity:1;stroke-miterlimit:10;\" d=\"M 292.925781 46.511719 L 321.125 110.582031 \"/>\n",
       "<path style=\"fill:none;stroke-width:1;stroke-linecap:butt;stroke-linejoin:miter;stroke:rgb(26.666667%,26.666667%,26.666667%);stroke-opacity:1;stroke-miterlimit:10;\" d=\"M 292.925781 46.511719 L 335.960938 53.847656 \"/>\n",
       "<path style=\"fill:none;stroke-width:1;stroke-linecap:butt;stroke-linejoin:miter;stroke:rgb(26.666667%,26.666667%,26.666667%);stroke-opacity:1;stroke-miterlimit:10;\" d=\"M 292.925781 46.511719 L 353.722656 37.527344 \"/>\n",
       "<path style=\"fill:none;stroke-width:1;stroke-linecap:butt;stroke-linejoin:miter;stroke:rgb(26.666667%,26.666667%,26.666667%);stroke-opacity:1;stroke-miterlimit:10;\" d=\"M 300.421875 258.496094 L 314.46875 295.644531 \"/>\n",
       "<path style=\"fill:none;stroke-width:1;stroke-linecap:butt;stroke-linejoin:miter;stroke:rgb(26.666667%,26.666667%,26.666667%);stroke-opacity:1;stroke-miterlimit:10;\" d=\"M 300.421875 258.496094 L 341.757813 185.039063 \"/>\n",
       "<path style=\"fill:none;stroke-width:1;stroke-linecap:butt;stroke-linejoin:miter;stroke:rgb(26.666667%,26.666667%,26.666667%);stroke-opacity:1;stroke-miterlimit:10;\" d=\"M 300.421875 258.496094 L 348.980469 268.269531 \"/>\n",
       "<path style=\"fill:none;stroke-width:1;stroke-linecap:butt;stroke-linejoin:miter;stroke:rgb(26.666667%,26.666667%,26.666667%);stroke-opacity:1;stroke-miterlimit:10;\" d=\"M 300.421875 258.496094 L 354.238281 207.875 \"/>\n",
       "<path style=\"fill:none;stroke-width:1;stroke-linecap:butt;stroke-linejoin:miter;stroke:rgb(26.666667%,26.666667%,26.666667%);stroke-opacity:1;stroke-miterlimit:10;\" d=\"M 300.421875 258.496094 L 357.851563 190.421875 \"/>\n",
       "<path style=\"fill:none;stroke-width:1;stroke-linecap:butt;stroke-linejoin:miter;stroke:rgb(26.666667%,26.666667%,26.666667%);stroke-opacity:1;stroke-miterlimit:10;\" d=\"M 300.421875 258.496094 L 367.261719 272.402344 \"/>\n",
       "<path style=\"fill:none;stroke-width:1;stroke-linecap:butt;stroke-linejoin:miter;stroke:rgb(26.666667%,26.666667%,26.666667%);stroke-opacity:1;stroke-miterlimit:10;\" d=\"M 300.421875 258.496094 L 384.0625 327.136719 \"/>\n",
       "<path style=\"fill:none;stroke-width:1;stroke-linecap:butt;stroke-linejoin:miter;stroke:rgb(26.666667%,26.666667%,26.666667%);stroke-opacity:1;stroke-miterlimit:10;\" d=\"M 300.421875 258.496094 L 394.085938 325.675781 \"/>\n",
       "<path style=\"fill:none;stroke-width:1;stroke-linecap:butt;stroke-linejoin:miter;stroke:rgb(26.666667%,26.666667%,26.666667%);stroke-opacity:1;stroke-miterlimit:10;\" d=\"M 302.808594 494.929688 L 317.503906 500.929688 \"/>\n",
       "<path style=\"fill:none;stroke-width:1;stroke-linecap:butt;stroke-linejoin:miter;stroke:rgb(26.666667%,26.666667%,26.666667%);stroke-opacity:1;stroke-miterlimit:10;\" d=\"M 302.808594 494.929688 L 342.671875 419.175781 \"/>\n",
       "<path style=\"fill:none;stroke-width:1;stroke-linecap:butt;stroke-linejoin:miter;stroke:rgb(26.666667%,26.666667%,26.666667%);stroke-opacity:1;stroke-miterlimit:10;\" d=\"M 302.808594 494.929688 L 352.621094 400.988281 \"/>\n",
       "<path style=\"fill:none;stroke-width:1;stroke-linecap:butt;stroke-linejoin:miter;stroke:rgb(26.666667%,26.666667%,26.666667%);stroke-opacity:1;stroke-miterlimit:10;\" d=\"M 302.808594 494.929688 L 359.664063 449.144531 \"/>\n",
       "<path style=\"fill:none;stroke-width:1;stroke-linecap:butt;stroke-linejoin:miter;stroke:rgb(26.666667%,26.666667%,26.666667%);stroke-opacity:1;stroke-miterlimit:10;\" d=\"M 302.808594 494.929688 L 374.617188 566.457031 \"/>\n",
       "<path style=\"fill:none;stroke-width:1;stroke-linecap:butt;stroke-linejoin:miter;stroke:rgb(26.666667%,26.666667%,26.666667%);stroke-opacity:1;stroke-miterlimit:10;\" d=\"M 314.46875 295.644531 L 341.757813 185.039063 \"/>\n",
       "<path style=\"fill:none;stroke-width:1;stroke-linecap:butt;stroke-linejoin:miter;stroke:rgb(26.666667%,26.666667%,26.666667%);stroke-opacity:1;stroke-miterlimit:10;\" d=\"M 314.46875 295.644531 L 348.980469 268.269531 \"/>\n",
       "<path style=\"fill:none;stroke-width:1;stroke-linecap:butt;stroke-linejoin:miter;stroke:rgb(26.666667%,26.666667%,26.666667%);stroke-opacity:1;stroke-miterlimit:10;\" d=\"M 314.46875 295.644531 L 352.621094 400.988281 \"/>\n",
       "<path style=\"fill:none;stroke-width:1;stroke-linecap:butt;stroke-linejoin:miter;stroke:rgb(26.666667%,26.666667%,26.666667%);stroke-opacity:1;stroke-miterlimit:10;\" d=\"M 314.46875 295.644531 L 354.238281 207.875 \"/>\n",
       "<path style=\"fill:none;stroke-width:1;stroke-linecap:butt;stroke-linejoin:miter;stroke:rgb(26.666667%,26.666667%,26.666667%);stroke-opacity:1;stroke-miterlimit:10;\" d=\"M 314.46875 295.644531 L 357.851563 190.421875 \"/>\n",
       "<path style=\"fill:none;stroke-width:1;stroke-linecap:butt;stroke-linejoin:miter;stroke:rgb(26.666667%,26.666667%,26.666667%);stroke-opacity:1;stroke-miterlimit:10;\" d=\"M 314.46875 295.644531 L 367.261719 272.402344 \"/>\n",
       "<path style=\"fill:none;stroke-width:1;stroke-linecap:butt;stroke-linejoin:miter;stroke:rgb(26.666667%,26.666667%,26.666667%);stroke-opacity:1;stroke-miterlimit:10;\" d=\"M 314.46875 295.644531 L 380.535156 383.453125 \"/>\n",
       "<path style=\"fill:none;stroke-width:1;stroke-linecap:butt;stroke-linejoin:miter;stroke:rgb(26.666667%,26.666667%,26.666667%);stroke-opacity:1;stroke-miterlimit:10;\" d=\"M 314.46875 295.644531 L 384.0625 327.136719 \"/>\n",
       "<path style=\"fill:none;stroke-width:1;stroke-linecap:butt;stroke-linejoin:miter;stroke:rgb(26.666667%,26.666667%,26.666667%);stroke-opacity:1;stroke-miterlimit:10;\" d=\"M 314.46875 295.644531 L 394.085938 325.675781 \"/>\n",
       "<path style=\"fill:none;stroke-width:1;stroke-linecap:butt;stroke-linejoin:miter;stroke:rgb(26.666667%,26.666667%,26.666667%);stroke-opacity:1;stroke-miterlimit:10;\" d=\"M 317.503906 500.929688 L 342.671875 419.175781 \"/>\n",
       "<path style=\"fill:none;stroke-width:1;stroke-linecap:butt;stroke-linejoin:miter;stroke:rgb(26.666667%,26.666667%,26.666667%);stroke-opacity:1;stroke-miterlimit:10;\" d=\"M 317.503906 500.929688 L 352.621094 400.988281 \"/>\n",
       "<path style=\"fill:none;stroke-width:1;stroke-linecap:butt;stroke-linejoin:miter;stroke:rgb(26.666667%,26.666667%,26.666667%);stroke-opacity:1;stroke-miterlimit:10;\" d=\"M 317.503906 500.929688 L 359.664063 449.144531 \"/>\n",
       "<path style=\"fill:none;stroke-width:1;stroke-linecap:butt;stroke-linejoin:miter;stroke:rgb(26.666667%,26.666667%,26.666667%);stroke-opacity:1;stroke-miterlimit:10;\" d=\"M 317.503906 500.929688 L 374.617188 566.457031 \"/>\n",
       "<path style=\"fill:none;stroke-width:1;stroke-linecap:butt;stroke-linejoin:miter;stroke:rgb(26.666667%,26.666667%,26.666667%);stroke-opacity:1;stroke-miterlimit:10;\" d=\"M 317.503906 500.929688 L 376.472656 400.414063 \"/>\n",
       "<path style=\"fill:none;stroke-width:1;stroke-linecap:butt;stroke-linejoin:miter;stroke:rgb(26.666667%,26.666667%,26.666667%);stroke-opacity:1;stroke-miterlimit:10;\" d=\"M 318.34375 90.804688 L 321.125 110.582031 \"/>\n",
       "<path style=\"fill:none;stroke-width:1;stroke-linecap:butt;stroke-linejoin:miter;stroke:rgb(26.666667%,26.666667%,26.666667%);stroke-opacity:1;stroke-miterlimit:10;\" d=\"M 318.34375 90.804688 L 335.960938 53.847656 \"/>\n",
       "<path style=\"fill:none;stroke-width:1;stroke-linecap:butt;stroke-linejoin:miter;stroke:rgb(26.666667%,26.666667%,26.666667%);stroke-opacity:1;stroke-miterlimit:10;\" d=\"M 318.34375 90.804688 L 341.757813 185.039063 \"/>\n",
       "<path style=\"fill:none;stroke-width:1;stroke-linecap:butt;stroke-linejoin:miter;stroke:rgb(26.666667%,26.666667%,26.666667%);stroke-opacity:1;stroke-miterlimit:10;\" d=\"M 318.34375 90.804688 L 353.722656 37.527344 \"/>\n",
       "<path style=\"fill:none;stroke-width:1;stroke-linecap:butt;stroke-linejoin:miter;stroke:rgb(26.666667%,26.666667%,26.666667%);stroke-opacity:1;stroke-miterlimit:10;\" d=\"M 318.34375 90.804688 L 357.851563 190.421875 \"/>\n",
       "<path style=\"fill:none;stroke-width:1;stroke-linecap:butt;stroke-linejoin:miter;stroke:rgb(26.666667%,26.666667%,26.666667%);stroke-opacity:1;stroke-miterlimit:10;\" d=\"M 318.34375 90.804688 L 393.878906 175.4375 \"/>\n",
       "<path style=\"fill:none;stroke-width:1;stroke-linecap:butt;stroke-linejoin:miter;stroke:rgb(26.666667%,26.666667%,26.666667%);stroke-opacity:1;stroke-miterlimit:10;\" d=\"M 318.34375 90.804688 L 397.328125 157.324219 \"/>\n",
       "<path style=\"fill:none;stroke-width:1;stroke-linecap:butt;stroke-linejoin:miter;stroke:rgb(26.666667%,26.666667%,26.666667%);stroke-opacity:1;stroke-miterlimit:10;\" d=\"M 321.125 110.582031 L 335.960938 53.847656 \"/>\n",
       "<path style=\"fill:none;stroke-width:1;stroke-linecap:butt;stroke-linejoin:miter;stroke:rgb(26.666667%,26.666667%,26.666667%);stroke-opacity:1;stroke-miterlimit:10;\" d=\"M 321.125 110.582031 L 341.757813 185.039063 \"/>\n",
       "<path style=\"fill:none;stroke-width:1;stroke-linecap:butt;stroke-linejoin:miter;stroke:rgb(26.666667%,26.666667%,26.666667%);stroke-opacity:1;stroke-miterlimit:10;\" d=\"M 321.125 110.582031 L 353.722656 37.527344 \"/>\n",
       "<path style=\"fill:none;stroke-width:1;stroke-linecap:butt;stroke-linejoin:miter;stroke:rgb(26.666667%,26.666667%,26.666667%);stroke-opacity:1;stroke-miterlimit:10;\" d=\"M 321.125 110.582031 L 354.238281 207.875 \"/>\n",
       "<path style=\"fill:none;stroke-width:1;stroke-linecap:butt;stroke-linejoin:miter;stroke:rgb(26.666667%,26.666667%,26.666667%);stroke-opacity:1;stroke-miterlimit:10;\" d=\"M 321.125 110.582031 L 357.851563 190.421875 \"/>\n",
       "<path style=\"fill:none;stroke-width:1;stroke-linecap:butt;stroke-linejoin:miter;stroke:rgb(26.666667%,26.666667%,26.666667%);stroke-opacity:1;stroke-miterlimit:10;\" d=\"M 321.125 110.582031 L 393.878906 175.4375 \"/>\n",
       "<path style=\"fill:none;stroke-width:1;stroke-linecap:butt;stroke-linejoin:miter;stroke:rgb(26.666667%,26.666667%,26.666667%);stroke-opacity:1;stroke-miterlimit:10;\" d=\"M 321.125 110.582031 L 397.328125 157.324219 \"/>\n",
       "<path style=\"fill:none;stroke-width:1;stroke-linecap:butt;stroke-linejoin:miter;stroke:rgb(26.666667%,26.666667%,26.666667%);stroke-opacity:1;stroke-miterlimit:10;\" d=\"M 335.960938 53.847656 L 353.722656 37.527344 \"/>\n",
       "<path style=\"fill:none;stroke-width:1;stroke-linecap:butt;stroke-linejoin:miter;stroke:rgb(26.666667%,26.666667%,26.666667%);stroke-opacity:1;stroke-miterlimit:10;\" d=\"M 335.960938 53.847656 L 440.914063 52.488281 \"/>\n",
       "<path style=\"fill:none;stroke-width:1;stroke-linecap:butt;stroke-linejoin:miter;stroke:rgb(26.666667%,26.666667%,26.666667%);stroke-opacity:1;stroke-miterlimit:10;\" d=\"M 335.960938 53.847656 L 442.976563 26.867188 \"/>\n",
       "<path style=\"fill:none;stroke-width:1;stroke-linecap:butt;stroke-linejoin:miter;stroke:rgb(26.666667%,26.666667%,26.666667%);stroke-opacity:1;stroke-miterlimit:10;\" d=\"M 341.757813 185.039063 L 348.980469 268.269531 \"/>\n",
       "<path style=\"fill:none;stroke-width:1;stroke-linecap:butt;stroke-linejoin:miter;stroke:rgb(26.666667%,26.666667%,26.666667%);stroke-opacity:1;stroke-miterlimit:10;\" d=\"M 341.757813 185.039063 L 354.238281 207.875 \"/>\n",
       "<path style=\"fill:none;stroke-width:1;stroke-linecap:butt;stroke-linejoin:miter;stroke:rgb(26.666667%,26.666667%,26.666667%);stroke-opacity:1;stroke-miterlimit:10;\" d=\"M 341.757813 185.039063 L 357.851563 190.421875 \"/>\n",
       "<path style=\"fill:none;stroke-width:1;stroke-linecap:butt;stroke-linejoin:miter;stroke:rgb(26.666667%,26.666667%,26.666667%);stroke-opacity:1;stroke-miterlimit:10;\" d=\"M 341.757813 185.039063 L 367.261719 272.402344 \"/>\n",
       "<path style=\"fill:none;stroke-width:1;stroke-linecap:butt;stroke-linejoin:miter;stroke:rgb(26.666667%,26.666667%,26.666667%);stroke-opacity:1;stroke-miterlimit:10;\" d=\"M 341.757813 185.039063 L 393.878906 175.4375 \"/>\n",
       "<path style=\"fill:none;stroke-width:1;stroke-linecap:butt;stroke-linejoin:miter;stroke:rgb(26.666667%,26.666667%,26.666667%);stroke-opacity:1;stroke-miterlimit:10;\" d=\"M 341.757813 185.039063 L 397.328125 157.324219 \"/>\n",
       "<path style=\"fill:none;stroke-width:1;stroke-linecap:butt;stroke-linejoin:miter;stroke:rgb(26.666667%,26.666667%,26.666667%);stroke-opacity:1;stroke-miterlimit:10;\" d=\"M 341.757813 185.039063 L 431.152344 166.148438 \"/>\n",
       "<path style=\"fill:none;stroke-width:1;stroke-linecap:butt;stroke-linejoin:miter;stroke:rgb(26.666667%,26.666667%,26.666667%);stroke-opacity:1;stroke-miterlimit:10;\" d=\"M 341.757813 185.039063 L 432.335938 154.742188 \"/>\n",
       "<path style=\"fill:none;stroke-width:1;stroke-linecap:butt;stroke-linejoin:miter;stroke:rgb(26.666667%,26.666667%,26.666667%);stroke-opacity:1;stroke-miterlimit:10;\" d=\"M 342.671875 419.175781 L 352.621094 400.988281 \"/>\n",
       "<path style=\"fill:none;stroke-width:1;stroke-linecap:butt;stroke-linejoin:miter;stroke:rgb(26.666667%,26.666667%,26.666667%);stroke-opacity:1;stroke-miterlimit:10;\" d=\"M 342.671875 419.175781 L 359.664063 449.144531 \"/>\n",
       "<path style=\"fill:none;stroke-width:1;stroke-linecap:butt;stroke-linejoin:miter;stroke:rgb(26.666667%,26.666667%,26.666667%);stroke-opacity:1;stroke-miterlimit:10;\" d=\"M 342.671875 419.175781 L 376.472656 400.414063 \"/>\n",
       "<path style=\"fill:none;stroke-width:1;stroke-linecap:butt;stroke-linejoin:miter;stroke:rgb(26.666667%,26.666667%,26.666667%);stroke-opacity:1;stroke-miterlimit:10;\" d=\"M 342.671875 419.175781 L 380.535156 383.453125 \"/>\n",
       "<path style=\"fill:none;stroke-width:1;stroke-linecap:butt;stroke-linejoin:miter;stroke:rgb(26.666667%,26.666667%,26.666667%);stroke-opacity:1;stroke-miterlimit:10;\" d=\"M 342.671875 419.175781 L 384.0625 327.136719 \"/>\n",
       "<path style=\"fill:none;stroke-width:1;stroke-linecap:butt;stroke-linejoin:miter;stroke:rgb(26.666667%,26.666667%,26.666667%);stroke-opacity:1;stroke-miterlimit:10;\" d=\"M 342.671875 419.175781 L 394.085938 325.675781 \"/>\n",
       "<path style=\"fill:none;stroke-width:1;stroke-linecap:butt;stroke-linejoin:miter;stroke:rgb(26.666667%,26.666667%,26.666667%);stroke-opacity:1;stroke-miterlimit:10;\" d=\"M 342.671875 419.175781 L 396.847656 396.8125 \"/>\n",
       "<path style=\"fill:none;stroke-width:1;stroke-linecap:butt;stroke-linejoin:miter;stroke:rgb(26.666667%,26.666667%,26.666667%);stroke-opacity:1;stroke-miterlimit:10;\" d=\"M 342.671875 419.175781 L 420.546875 383.070313 \"/>\n",
       "<path style=\"fill:none;stroke-width:1;stroke-linecap:butt;stroke-linejoin:miter;stroke:rgb(26.666667%,26.666667%,26.666667%);stroke-opacity:1;stroke-miterlimit:10;\" d=\"M 342.671875 419.175781 L 433.148438 436.820313 \"/>\n",
       "<path style=\"fill:none;stroke-width:1;stroke-linecap:butt;stroke-linejoin:miter;stroke:rgb(26.666667%,26.666667%,26.666667%);stroke-opacity:1;stroke-miterlimit:10;\" d=\"M 348.980469 268.269531 L 354.238281 207.875 \"/>\n",
       "<path style=\"fill:none;stroke-width:1;stroke-linecap:butt;stroke-linejoin:miter;stroke:rgb(26.666667%,26.666667%,26.666667%);stroke-opacity:1;stroke-miterlimit:10;\" d=\"M 348.980469 268.269531 L 357.851563 190.421875 \"/>\n",
       "<path style=\"fill:none;stroke-width:1;stroke-linecap:butt;stroke-linejoin:miter;stroke:rgb(26.666667%,26.666667%,26.666667%);stroke-opacity:1;stroke-miterlimit:10;\" d=\"M 348.980469 268.269531 L 367.261719 272.402344 \"/>\n",
       "<path style=\"fill:none;stroke-width:1;stroke-linecap:butt;stroke-linejoin:miter;stroke:rgb(26.666667%,26.666667%,26.666667%);stroke-opacity:1;stroke-miterlimit:10;\" d=\"M 348.980469 268.269531 L 384.0625 327.136719 \"/>\n",
       "<path style=\"fill:none;stroke-width:1;stroke-linecap:butt;stroke-linejoin:miter;stroke:rgb(26.666667%,26.666667%,26.666667%);stroke-opacity:1;stroke-miterlimit:10;\" d=\"M 348.980469 268.269531 L 393.878906 175.4375 \"/>\n",
       "<path style=\"fill:none;stroke-width:1;stroke-linecap:butt;stroke-linejoin:miter;stroke:rgb(26.666667%,26.666667%,26.666667%);stroke-opacity:1;stroke-miterlimit:10;\" d=\"M 348.980469 268.269531 L 394.085938 325.675781 \"/>\n",
       "<path style=\"fill:none;stroke-width:1;stroke-linecap:butt;stroke-linejoin:miter;stroke:rgb(26.666667%,26.666667%,26.666667%);stroke-opacity:1;stroke-miterlimit:10;\" d=\"M 348.980469 268.269531 L 427.242188 315.921875 \"/>\n",
       "<path style=\"fill:none;stroke-width:1;stroke-linecap:butt;stroke-linejoin:miter;stroke:rgb(26.666667%,26.666667%,26.666667%);stroke-opacity:1;stroke-miterlimit:10;\" d=\"M 348.980469 268.269531 L 445.046875 309.652344 \"/>\n",
       "<path style=\"fill:none;stroke-width:1;stroke-linecap:butt;stroke-linejoin:miter;stroke:rgb(26.666667%,26.666667%,26.666667%);stroke-opacity:1;stroke-miterlimit:10;\" d=\"M 348.980469 268.269531 L 457.007813 257.128906 \"/>\n",
       "<path style=\"fill:none;stroke-width:1;stroke-linecap:butt;stroke-linejoin:miter;stroke:rgb(26.666667%,26.666667%,26.666667%);stroke-opacity:1;stroke-miterlimit:10;\" d=\"M 352.621094 400.988281 L 359.664063 449.144531 \"/>\n",
       "<path style=\"fill:none;stroke-width:1;stroke-linecap:butt;stroke-linejoin:miter;stroke:rgb(26.666667%,26.666667%,26.666667%);stroke-opacity:1;stroke-miterlimit:10;\" d=\"M 352.621094 400.988281 L 376.472656 400.414063 \"/>\n",
       "<path style=\"fill:none;stroke-width:1;stroke-linecap:butt;stroke-linejoin:miter;stroke:rgb(26.666667%,26.666667%,26.666667%);stroke-opacity:1;stroke-miterlimit:10;\" d=\"M 352.621094 400.988281 L 380.535156 383.453125 \"/>\n",
       "<path style=\"fill:none;stroke-width:1;stroke-linecap:butt;stroke-linejoin:miter;stroke:rgb(26.666667%,26.666667%,26.666667%);stroke-opacity:1;stroke-miterlimit:10;\" d=\"M 352.621094 400.988281 L 384.0625 327.136719 \"/>\n",
       "<path style=\"fill:none;stroke-width:1;stroke-linecap:butt;stroke-linejoin:miter;stroke:rgb(26.666667%,26.666667%,26.666667%);stroke-opacity:1;stroke-miterlimit:10;\" d=\"M 352.621094 400.988281 L 394.085938 325.675781 \"/>\n",
       "<path style=\"fill:none;stroke-width:1;stroke-linecap:butt;stroke-linejoin:miter;stroke:rgb(26.666667%,26.666667%,26.666667%);stroke-opacity:1;stroke-miterlimit:10;\" d=\"M 352.621094 400.988281 L 396.847656 396.8125 \"/>\n",
       "<path style=\"fill:none;stroke-width:1;stroke-linecap:butt;stroke-linejoin:miter;stroke:rgb(26.666667%,26.666667%,26.666667%);stroke-opacity:1;stroke-miterlimit:10;\" d=\"M 352.621094 400.988281 L 420.546875 383.070313 \"/>\n",
       "<path style=\"fill:none;stroke-width:1;stroke-linecap:butt;stroke-linejoin:miter;stroke:rgb(26.666667%,26.666667%,26.666667%);stroke-opacity:1;stroke-miterlimit:10;\" d=\"M 352.621094 400.988281 L 427.242188 315.921875 \"/>\n",
       "<path style=\"fill:none;stroke-width:1;stroke-linecap:butt;stroke-linejoin:miter;stroke:rgb(26.666667%,26.666667%,26.666667%);stroke-opacity:1;stroke-miterlimit:10;\" d=\"M 352.621094 400.988281 L 433.148438 436.820313 \"/>\n",
       "<path style=\"fill:none;stroke-width:1;stroke-linecap:butt;stroke-linejoin:miter;stroke:rgb(26.666667%,26.666667%,26.666667%);stroke-opacity:1;stroke-miterlimit:10;\" d=\"M 353.722656 37.527344 L 440.914063 52.488281 \"/>\n",
       "<path style=\"fill:none;stroke-width:1;stroke-linecap:butt;stroke-linejoin:miter;stroke:rgb(26.666667%,26.666667%,26.666667%);stroke-opacity:1;stroke-miterlimit:10;\" d=\"M 353.722656 37.527344 L 442.976563 26.867188 \"/>\n",
       "<path style=\"fill:none;stroke-width:1;stroke-linecap:butt;stroke-linejoin:miter;stroke:rgb(26.666667%,26.666667%,26.666667%);stroke-opacity:1;stroke-miterlimit:10;\" d=\"M 353.722656 37.527344 L 460.007813 74.273438 \"/>\n",
       "<path style=\"fill:none;stroke-width:1;stroke-linecap:butt;stroke-linejoin:miter;stroke:rgb(26.666667%,26.666667%,26.666667%);stroke-opacity:1;stroke-miterlimit:10;\" d=\"M 354.238281 207.875 L 357.851563 190.421875 \"/>\n",
       "<path style=\"fill:none;stroke-width:1;stroke-linecap:butt;stroke-linejoin:miter;stroke:rgb(26.666667%,26.666667%,26.666667%);stroke-opacity:1;stroke-miterlimit:10;\" d=\"M 354.238281 207.875 L 367.261719 272.402344 \"/>\n",
       "<path style=\"fill:none;stroke-width:1;stroke-linecap:butt;stroke-linejoin:miter;stroke:rgb(26.666667%,26.666667%,26.666667%);stroke-opacity:1;stroke-miterlimit:10;\" d=\"M 354.238281 207.875 L 393.878906 175.4375 \"/>\n",
       "<path style=\"fill:none;stroke-width:1;stroke-linecap:butt;stroke-linejoin:miter;stroke:rgb(26.666667%,26.666667%,26.666667%);stroke-opacity:1;stroke-miterlimit:10;\" d=\"M 354.238281 207.875 L 397.328125 157.324219 \"/>\n",
       "<path style=\"fill:none;stroke-width:1;stroke-linecap:butt;stroke-linejoin:miter;stroke:rgb(26.666667%,26.666667%,26.666667%);stroke-opacity:1;stroke-miterlimit:10;\" d=\"M 354.238281 207.875 L 431.152344 166.148438 \"/>\n",
       "<path style=\"fill:none;stroke-width:1;stroke-linecap:butt;stroke-linejoin:miter;stroke:rgb(26.666667%,26.666667%,26.666667%);stroke-opacity:1;stroke-miterlimit:10;\" d=\"M 354.238281 207.875 L 432.335938 154.742188 \"/>\n",
       "<path style=\"fill:none;stroke-width:1;stroke-linecap:butt;stroke-linejoin:miter;stroke:rgb(26.666667%,26.666667%,26.666667%);stroke-opacity:1;stroke-miterlimit:10;\" d=\"M 354.238281 207.875 L 454.234375 162.15625 \"/>\n",
       "<path style=\"fill:none;stroke-width:1;stroke-linecap:butt;stroke-linejoin:miter;stroke:rgb(26.666667%,26.666667%,26.666667%);stroke-opacity:1;stroke-miterlimit:10;\" d=\"M 354.238281 207.875 L 457.007813 257.128906 \"/>\n",
       "<path style=\"fill:none;stroke-width:1;stroke-linecap:butt;stroke-linejoin:miter;stroke:rgb(26.666667%,26.666667%,26.666667%);stroke-opacity:1;stroke-miterlimit:10;\" d=\"M 357.851563 190.421875 L 367.261719 272.402344 \"/>\n",
       "<path style=\"fill:none;stroke-width:1;stroke-linecap:butt;stroke-linejoin:miter;stroke:rgb(26.666667%,26.666667%,26.666667%);stroke-opacity:1;stroke-miterlimit:10;\" d=\"M 357.851563 190.421875 L 393.878906 175.4375 \"/>\n",
       "<path style=\"fill:none;stroke-width:1;stroke-linecap:butt;stroke-linejoin:miter;stroke:rgb(26.666667%,26.666667%,26.666667%);stroke-opacity:1;stroke-miterlimit:10;\" d=\"M 357.851563 190.421875 L 397.328125 157.324219 \"/>\n",
       "<path style=\"fill:none;stroke-width:1;stroke-linecap:butt;stroke-linejoin:miter;stroke:rgb(26.666667%,26.666667%,26.666667%);stroke-opacity:1;stroke-miterlimit:10;\" d=\"M 357.851563 190.421875 L 431.152344 166.148438 \"/>\n",
       "<path style=\"fill:none;stroke-width:1;stroke-linecap:butt;stroke-linejoin:miter;stroke:rgb(26.666667%,26.666667%,26.666667%);stroke-opacity:1;stroke-miterlimit:10;\" d=\"M 357.851563 190.421875 L 432.335938 154.742188 \"/>\n",
       "<path style=\"fill:none;stroke-width:1;stroke-linecap:butt;stroke-linejoin:miter;stroke:rgb(26.666667%,26.666667%,26.666667%);stroke-opacity:1;stroke-miterlimit:10;\" d=\"M 357.851563 190.421875 L 454.234375 162.15625 \"/>\n",
       "<path style=\"fill:none;stroke-width:1;stroke-linecap:butt;stroke-linejoin:miter;stroke:rgb(26.666667%,26.666667%,26.666667%);stroke-opacity:1;stroke-miterlimit:10;\" d=\"M 357.851563 190.421875 L 467.769531 191.65625 \"/>\n",
       "<path style=\"fill:none;stroke-width:1;stroke-linecap:butt;stroke-linejoin:miter;stroke:rgb(26.666667%,26.666667%,26.666667%);stroke-opacity:1;stroke-miterlimit:10;\" d=\"M 359.664063 449.144531 L 374.617188 566.457031 \"/>\n",
       "<path style=\"fill:none;stroke-width:1;stroke-linecap:butt;stroke-linejoin:miter;stroke:rgb(26.666667%,26.666667%,26.666667%);stroke-opacity:1;stroke-miterlimit:10;\" d=\"M 359.664063 449.144531 L 376.472656 400.414063 \"/>\n",
       "<path style=\"fill:none;stroke-width:1;stroke-linecap:butt;stroke-linejoin:miter;stroke:rgb(26.666667%,26.666667%,26.666667%);stroke-opacity:1;stroke-miterlimit:10;\" d=\"M 359.664063 449.144531 L 380.535156 383.453125 \"/>\n",
       "<path style=\"fill:none;stroke-width:1;stroke-linecap:butt;stroke-linejoin:miter;stroke:rgb(26.666667%,26.666667%,26.666667%);stroke-opacity:1;stroke-miterlimit:10;\" d=\"M 359.664063 449.144531 L 396.847656 396.8125 \"/>\n",
       "<path style=\"fill:none;stroke-width:1;stroke-linecap:butt;stroke-linejoin:miter;stroke:rgb(26.666667%,26.666667%,26.666667%);stroke-opacity:1;stroke-miterlimit:10;\" d=\"M 359.664063 449.144531 L 420.546875 383.070313 \"/>\n",
       "<path style=\"fill:none;stroke-width:1;stroke-linecap:butt;stroke-linejoin:miter;stroke:rgb(26.666667%,26.666667%,26.666667%);stroke-opacity:1;stroke-miterlimit:10;\" d=\"M 359.664063 449.144531 L 433.148438 436.820313 \"/>\n",
       "<path style=\"fill:none;stroke-width:1;stroke-linecap:butt;stroke-linejoin:miter;stroke:rgb(26.666667%,26.666667%,26.666667%);stroke-opacity:1;stroke-miterlimit:10;\" d=\"M 359.664063 449.144531 L 463.132813 454.988281 \"/>\n",
       "<path style=\"fill:none;stroke-width:1;stroke-linecap:butt;stroke-linejoin:miter;stroke:rgb(26.666667%,26.666667%,26.666667%);stroke-opacity:1;stroke-miterlimit:10;\" d=\"M 367.261719 272.402344 L 380.535156 383.453125 \"/>\n",
       "<path style=\"fill:none;stroke-width:1;stroke-linecap:butt;stroke-linejoin:miter;stroke:rgb(26.666667%,26.666667%,26.666667%);stroke-opacity:1;stroke-miterlimit:10;\" d=\"M 367.261719 272.402344 L 384.0625 327.136719 \"/>\n",
       "<path style=\"fill:none;stroke-width:1;stroke-linecap:butt;stroke-linejoin:miter;stroke:rgb(26.666667%,26.666667%,26.666667%);stroke-opacity:1;stroke-miterlimit:10;\" d=\"M 367.261719 272.402344 L 393.878906 175.4375 \"/>\n",
       "<path style=\"fill:none;stroke-width:1;stroke-linecap:butt;stroke-linejoin:miter;stroke:rgb(26.666667%,26.666667%,26.666667%);stroke-opacity:1;stroke-miterlimit:10;\" d=\"M 367.261719 272.402344 L 394.085938 325.675781 \"/>\n",
       "<path style=\"fill:none;stroke-width:1;stroke-linecap:butt;stroke-linejoin:miter;stroke:rgb(26.666667%,26.666667%,26.666667%);stroke-opacity:1;stroke-miterlimit:10;\" d=\"M 367.261719 272.402344 L 427.242188 315.921875 \"/>\n",
       "<path style=\"fill:none;stroke-width:1;stroke-linecap:butt;stroke-linejoin:miter;stroke:rgb(26.666667%,26.666667%,26.666667%);stroke-opacity:1;stroke-miterlimit:10;\" d=\"M 367.261719 272.402344 L 445.046875 309.652344 \"/>\n",
       "<path style=\"fill:none;stroke-width:1;stroke-linecap:butt;stroke-linejoin:miter;stroke:rgb(26.666667%,26.666667%,26.666667%);stroke-opacity:1;stroke-miterlimit:10;\" d=\"M 367.261719 272.402344 L 457.007813 257.128906 \"/>\n",
       "<path style=\"fill:none;stroke-width:1;stroke-linecap:butt;stroke-linejoin:miter;stroke:rgb(26.666667%,26.666667%,26.666667%);stroke-opacity:1;stroke-miterlimit:10;\" d=\"M 376.472656 400.414063 L 380.535156 383.453125 \"/>\n",
       "<path style=\"fill:none;stroke-width:1;stroke-linecap:butt;stroke-linejoin:miter;stroke:rgb(26.666667%,26.666667%,26.666667%);stroke-opacity:1;stroke-miterlimit:10;\" d=\"M 376.472656 400.414063 L 384.0625 327.136719 \"/>\n",
       "<path style=\"fill:none;stroke-width:1;stroke-linecap:butt;stroke-linejoin:miter;stroke:rgb(26.666667%,26.666667%,26.666667%);stroke-opacity:1;stroke-miterlimit:10;\" d=\"M 376.472656 400.414063 L 394.085938 325.675781 \"/>\n",
       "<path style=\"fill:none;stroke-width:1;stroke-linecap:butt;stroke-linejoin:miter;stroke:rgb(26.666667%,26.666667%,26.666667%);stroke-opacity:1;stroke-miterlimit:10;\" d=\"M 376.472656 400.414063 L 396.847656 396.8125 \"/>\n",
       "<path style=\"fill:none;stroke-width:1;stroke-linecap:butt;stroke-linejoin:miter;stroke:rgb(26.666667%,26.666667%,26.666667%);stroke-opacity:1;stroke-miterlimit:10;\" d=\"M 376.472656 400.414063 L 420.546875 383.070313 \"/>\n",
       "<path style=\"fill:none;stroke-width:1;stroke-linecap:butt;stroke-linejoin:miter;stroke:rgb(26.666667%,26.666667%,26.666667%);stroke-opacity:1;stroke-miterlimit:10;\" d=\"M 376.472656 400.414063 L 427.242188 315.921875 \"/>\n",
       "<path style=\"fill:none;stroke-width:1;stroke-linecap:butt;stroke-linejoin:miter;stroke:rgb(26.666667%,26.666667%,26.666667%);stroke-opacity:1;stroke-miterlimit:10;\" d=\"M 376.472656 400.414063 L 433.148438 436.820313 \"/>\n",
       "<path style=\"fill:none;stroke-width:1;stroke-linecap:butt;stroke-linejoin:miter;stroke:rgb(26.666667%,26.666667%,26.666667%);stroke-opacity:1;stroke-miterlimit:10;\" d=\"M 376.472656 400.414063 L 445.046875 309.652344 \"/>\n",
       "<path style=\"fill:none;stroke-width:1;stroke-linecap:butt;stroke-linejoin:miter;stroke:rgb(26.666667%,26.666667%,26.666667%);stroke-opacity:1;stroke-miterlimit:10;\" d=\"M 376.472656 400.414063 L 461.898438 357.5 \"/>\n",
       "<path style=\"fill:none;stroke-width:1;stroke-linecap:butt;stroke-linejoin:miter;stroke:rgb(26.666667%,26.666667%,26.666667%);stroke-opacity:1;stroke-miterlimit:10;\" d=\"M 376.472656 400.414063 L 463.132813 454.988281 \"/>\n",
       "<path style=\"fill:none;stroke-width:1;stroke-linecap:butt;stroke-linejoin:miter;stroke:rgb(26.666667%,26.666667%,26.666667%);stroke-opacity:1;stroke-miterlimit:10;\" d=\"M 380.535156 383.453125 L 384.0625 327.136719 \"/>\n",
       "<path style=\"fill:none;stroke-width:1;stroke-linecap:butt;stroke-linejoin:miter;stroke:rgb(26.666667%,26.666667%,26.666667%);stroke-opacity:1;stroke-miterlimit:10;\" d=\"M 380.535156 383.453125 L 394.085938 325.675781 \"/>\n",
       "<path style=\"fill:none;stroke-width:1;stroke-linecap:butt;stroke-linejoin:miter;stroke:rgb(26.666667%,26.666667%,26.666667%);stroke-opacity:1;stroke-miterlimit:10;\" d=\"M 380.535156 383.453125 L 396.847656 396.8125 \"/>\n",
       "<path style=\"fill:none;stroke-width:1;stroke-linecap:butt;stroke-linejoin:miter;stroke:rgb(26.666667%,26.666667%,26.666667%);stroke-opacity:1;stroke-miterlimit:10;\" d=\"M 380.535156 383.453125 L 420.546875 383.070313 \"/>\n",
       "<path style=\"fill:none;stroke-width:1;stroke-linecap:butt;stroke-linejoin:miter;stroke:rgb(26.666667%,26.666667%,26.666667%);stroke-opacity:1;stroke-miterlimit:10;\" d=\"M 380.535156 383.453125 L 427.242188 315.921875 \"/>\n",
       "<path style=\"fill:none;stroke-width:1;stroke-linecap:butt;stroke-linejoin:miter;stroke:rgb(26.666667%,26.666667%,26.666667%);stroke-opacity:1;stroke-miterlimit:10;\" d=\"M 380.535156 383.453125 L 433.148438 436.820313 \"/>\n",
       "<path style=\"fill:none;stroke-width:1;stroke-linecap:butt;stroke-linejoin:miter;stroke:rgb(26.666667%,26.666667%,26.666667%);stroke-opacity:1;stroke-miterlimit:10;\" d=\"M 380.535156 383.453125 L 445.046875 309.652344 \"/>\n",
       "<path style=\"fill:none;stroke-width:1;stroke-linecap:butt;stroke-linejoin:miter;stroke:rgb(26.666667%,26.666667%,26.666667%);stroke-opacity:1;stroke-miterlimit:10;\" d=\"M 380.535156 383.453125 L 461.898438 357.5 \"/>\n",
       "<path style=\"fill:none;stroke-width:1;stroke-linecap:butt;stroke-linejoin:miter;stroke:rgb(26.666667%,26.666667%,26.666667%);stroke-opacity:1;stroke-miterlimit:10;\" d=\"M 380.535156 383.453125 L 463.132813 454.988281 \"/>\n",
       "<path style=\"fill:none;stroke-width:1;stroke-linecap:butt;stroke-linejoin:miter;stroke:rgb(26.666667%,26.666667%,26.666667%);stroke-opacity:1;stroke-miterlimit:10;\" d=\"M 384.0625 327.136719 L 394.085938 325.675781 \"/>\n",
       "<path style=\"fill:none;stroke-width:1;stroke-linecap:butt;stroke-linejoin:miter;stroke:rgb(26.666667%,26.666667%,26.666667%);stroke-opacity:1;stroke-miterlimit:10;\" d=\"M 384.0625 327.136719 L 396.847656 396.8125 \"/>\n",
       "<path style=\"fill:none;stroke-width:1;stroke-linecap:butt;stroke-linejoin:miter;stroke:rgb(26.666667%,26.666667%,26.666667%);stroke-opacity:1;stroke-miterlimit:10;\" d=\"M 384.0625 327.136719 L 420.546875 383.070313 \"/>\n",
       "<path style=\"fill:none;stroke-width:1;stroke-linecap:butt;stroke-linejoin:miter;stroke:rgb(26.666667%,26.666667%,26.666667%);stroke-opacity:1;stroke-miterlimit:10;\" d=\"M 384.0625 327.136719 L 427.242188 315.921875 \"/>\n",
       "<path style=\"fill:none;stroke-width:1;stroke-linecap:butt;stroke-linejoin:miter;stroke:rgb(26.666667%,26.666667%,26.666667%);stroke-opacity:1;stroke-miterlimit:10;\" d=\"M 384.0625 327.136719 L 445.046875 309.652344 \"/>\n",
       "<path style=\"fill:none;stroke-width:1;stroke-linecap:butt;stroke-linejoin:miter;stroke:rgb(26.666667%,26.666667%,26.666667%);stroke-opacity:1;stroke-miterlimit:10;\" d=\"M 384.0625 327.136719 L 457.007813 257.128906 \"/>\n",
       "<path style=\"fill:none;stroke-width:1;stroke-linecap:butt;stroke-linejoin:miter;stroke:rgb(26.666667%,26.666667%,26.666667%);stroke-opacity:1;stroke-miterlimit:10;\" d=\"M 384.0625 327.136719 L 461.898438 357.5 \"/>\n",
       "<path style=\"fill:none;stroke-width:1;stroke-linecap:butt;stroke-linejoin:miter;stroke:rgb(26.666667%,26.666667%,26.666667%);stroke-opacity:1;stroke-miterlimit:10;\" d=\"M 393.878906 175.4375 L 397.328125 157.324219 \"/>\n",
       "<path style=\"fill:none;stroke-width:1;stroke-linecap:butt;stroke-linejoin:miter;stroke:rgb(26.666667%,26.666667%,26.666667%);stroke-opacity:1;stroke-miterlimit:10;\" d=\"M 393.878906 175.4375 L 431.152344 166.148438 \"/>\n",
       "<path style=\"fill:none;stroke-width:1;stroke-linecap:butt;stroke-linejoin:miter;stroke:rgb(26.666667%,26.666667%,26.666667%);stroke-opacity:1;stroke-miterlimit:10;\" d=\"M 393.878906 175.4375 L 432.335938 154.742188 \"/>\n",
       "<path style=\"fill:none;stroke-width:1;stroke-linecap:butt;stroke-linejoin:miter;stroke:rgb(26.666667%,26.666667%,26.666667%);stroke-opacity:1;stroke-miterlimit:10;\" d=\"M 393.878906 175.4375 L 454.234375 162.15625 \"/>\n",
       "<path style=\"fill:none;stroke-width:1;stroke-linecap:butt;stroke-linejoin:miter;stroke:rgb(26.666667%,26.666667%,26.666667%);stroke-opacity:1;stroke-miterlimit:10;\" d=\"M 393.878906 175.4375 L 457.007813 257.128906 \"/>\n",
       "<path style=\"fill:none;stroke-width:1;stroke-linecap:butt;stroke-linejoin:miter;stroke:rgb(26.666667%,26.666667%,26.666667%);stroke-opacity:1;stroke-miterlimit:10;\" d=\"M 393.878906 175.4375 L 467.769531 191.65625 \"/>\n",
       "<path style=\"fill:none;stroke-width:1;stroke-linecap:butt;stroke-linejoin:miter;stroke:rgb(26.666667%,26.666667%,26.666667%);stroke-opacity:1;stroke-miterlimit:10;\" d=\"M 394.085938 325.675781 L 396.847656 396.8125 \"/>\n",
       "<path style=\"fill:none;stroke-width:1;stroke-linecap:butt;stroke-linejoin:miter;stroke:rgb(26.666667%,26.666667%,26.666667%);stroke-opacity:1;stroke-miterlimit:10;\" d=\"M 394.085938 325.675781 L 420.546875 383.070313 \"/>\n",
       "<path style=\"fill:none;stroke-width:1;stroke-linecap:butt;stroke-linejoin:miter;stroke:rgb(26.666667%,26.666667%,26.666667%);stroke-opacity:1;stroke-miterlimit:10;\" d=\"M 394.085938 325.675781 L 427.242188 315.921875 \"/>\n",
       "<path style=\"fill:none;stroke-width:1;stroke-linecap:butt;stroke-linejoin:miter;stroke:rgb(26.666667%,26.666667%,26.666667%);stroke-opacity:1;stroke-miterlimit:10;\" d=\"M 394.085938 325.675781 L 433.148438 436.820313 \"/>\n",
       "<path style=\"fill:none;stroke-width:1;stroke-linecap:butt;stroke-linejoin:miter;stroke:rgb(26.666667%,26.666667%,26.666667%);stroke-opacity:1;stroke-miterlimit:10;\" d=\"M 394.085938 325.675781 L 445.046875 309.652344 \"/>\n",
       "<path style=\"fill:none;stroke-width:1;stroke-linecap:butt;stroke-linejoin:miter;stroke:rgb(26.666667%,26.666667%,26.666667%);stroke-opacity:1;stroke-miterlimit:10;\" d=\"M 394.085938 325.675781 L 457.007813 257.128906 \"/>\n",
       "<path style=\"fill:none;stroke-width:1;stroke-linecap:butt;stroke-linejoin:miter;stroke:rgb(26.666667%,26.666667%,26.666667%);stroke-opacity:1;stroke-miterlimit:10;\" d=\"M 394.085938 325.675781 L 461.898438 357.5 \"/>\n",
       "<path style=\"fill:none;stroke-width:1;stroke-linecap:butt;stroke-linejoin:miter;stroke:rgb(26.666667%,26.666667%,26.666667%);stroke-opacity:1;stroke-miterlimit:10;\" d=\"M 394.085938 325.675781 L 487.148438 271.691406 \"/>\n",
       "<path style=\"fill:none;stroke-width:1;stroke-linecap:butt;stroke-linejoin:miter;stroke:rgb(26.666667%,26.666667%,26.666667%);stroke-opacity:1;stroke-miterlimit:10;\" d=\"M 394.085938 325.675781 L 504.375 352.316406 \"/>\n",
       "<path style=\"fill:none;stroke-width:1;stroke-linecap:butt;stroke-linejoin:miter;stroke:rgb(26.666667%,26.666667%,26.666667%);stroke-opacity:1;stroke-miterlimit:10;\" d=\"M 396.847656 396.8125 L 420.546875 383.070313 \"/>\n",
       "<path style=\"fill:none;stroke-width:1;stroke-linecap:butt;stroke-linejoin:miter;stroke:rgb(26.666667%,26.666667%,26.666667%);stroke-opacity:1;stroke-miterlimit:10;\" d=\"M 396.847656 396.8125 L 427.242188 315.921875 \"/>\n",
       "<path style=\"fill:none;stroke-width:1;stroke-linecap:butt;stroke-linejoin:miter;stroke:rgb(26.666667%,26.666667%,26.666667%);stroke-opacity:1;stroke-miterlimit:10;\" d=\"M 396.847656 396.8125 L 433.148438 436.820313 \"/>\n",
       "<path style=\"fill:none;stroke-width:1;stroke-linecap:butt;stroke-linejoin:miter;stroke:rgb(26.666667%,26.666667%,26.666667%);stroke-opacity:1;stroke-miterlimit:10;\" d=\"M 396.847656 396.8125 L 445.046875 309.652344 \"/>\n",
       "<path style=\"fill:none;stroke-width:1;stroke-linecap:butt;stroke-linejoin:miter;stroke:rgb(26.666667%,26.666667%,26.666667%);stroke-opacity:1;stroke-miterlimit:10;\" d=\"M 396.847656 396.8125 L 461.898438 357.5 \"/>\n",
       "<path style=\"fill:none;stroke-width:1;stroke-linecap:butt;stroke-linejoin:miter;stroke:rgb(26.666667%,26.666667%,26.666667%);stroke-opacity:1;stroke-miterlimit:10;\" d=\"M 396.847656 396.8125 L 463.132813 454.988281 \"/>\n",
       "<path style=\"fill:none;stroke-width:1;stroke-linecap:butt;stroke-linejoin:miter;stroke:rgb(26.666667%,26.666667%,26.666667%);stroke-opacity:1;stroke-miterlimit:10;\" d=\"M 397.328125 157.324219 L 431.152344 166.148438 \"/>\n",
       "<path style=\"fill:none;stroke-width:1;stroke-linecap:butt;stroke-linejoin:miter;stroke:rgb(26.666667%,26.666667%,26.666667%);stroke-opacity:1;stroke-miterlimit:10;\" d=\"M 397.328125 157.324219 L 432.335938 154.742188 \"/>\n",
       "<path style=\"fill:none;stroke-width:1;stroke-linecap:butt;stroke-linejoin:miter;stroke:rgb(26.666667%,26.666667%,26.666667%);stroke-opacity:1;stroke-miterlimit:10;\" d=\"M 397.328125 157.324219 L 440.914063 52.488281 \"/>\n",
       "<path style=\"fill:none;stroke-width:1;stroke-linecap:butt;stroke-linejoin:miter;stroke:rgb(26.666667%,26.666667%,26.666667%);stroke-opacity:1;stroke-miterlimit:10;\" d=\"M 397.328125 157.324219 L 454.234375 162.15625 \"/>\n",
       "<path style=\"fill:none;stroke-width:1;stroke-linecap:butt;stroke-linejoin:miter;stroke:rgb(26.666667%,26.666667%,26.666667%);stroke-opacity:1;stroke-miterlimit:10;\" d=\"M 397.328125 157.324219 L 457.007813 257.128906 \"/>\n",
       "<path style=\"fill:none;stroke-width:1;stroke-linecap:butt;stroke-linejoin:miter;stroke:rgb(26.666667%,26.666667%,26.666667%);stroke-opacity:1;stroke-miterlimit:10;\" d=\"M 397.328125 157.324219 L 460.007813 74.273438 \"/>\n",
       "<path style=\"fill:none;stroke-width:1;stroke-linecap:butt;stroke-linejoin:miter;stroke:rgb(26.666667%,26.666667%,26.666667%);stroke-opacity:1;stroke-miterlimit:10;\" d=\"M 397.328125 157.324219 L 467.769531 191.65625 \"/>\n",
       "<path style=\"fill:none;stroke-width:1;stroke-linecap:butt;stroke-linejoin:miter;stroke:rgb(26.666667%,26.666667%,26.666667%);stroke-opacity:1;stroke-miterlimit:10;\" d=\"M 420.546875 383.070313 L 427.242188 315.921875 \"/>\n",
       "<path style=\"fill:none;stroke-width:1;stroke-linecap:butt;stroke-linejoin:miter;stroke:rgb(26.666667%,26.666667%,26.666667%);stroke-opacity:1;stroke-miterlimit:10;\" d=\"M 420.546875 383.070313 L 433.148438 436.820313 \"/>\n",
       "<path style=\"fill:none;stroke-width:1;stroke-linecap:butt;stroke-linejoin:miter;stroke:rgb(26.666667%,26.666667%,26.666667%);stroke-opacity:1;stroke-miterlimit:10;\" d=\"M 420.546875 383.070313 L 445.046875 309.652344 \"/>\n",
       "<path style=\"fill:none;stroke-width:1;stroke-linecap:butt;stroke-linejoin:miter;stroke:rgb(26.666667%,26.666667%,26.666667%);stroke-opacity:1;stroke-miterlimit:10;\" d=\"M 420.546875 383.070313 L 461.898438 357.5 \"/>\n",
       "<path style=\"fill:none;stroke-width:1;stroke-linecap:butt;stroke-linejoin:miter;stroke:rgb(26.666667%,26.666667%,26.666667%);stroke-opacity:1;stroke-miterlimit:10;\" d=\"M 420.546875 383.070313 L 463.132813 454.988281 \"/>\n",
       "<path style=\"fill:none;stroke-width:1;stroke-linecap:butt;stroke-linejoin:miter;stroke:rgb(26.666667%,26.666667%,26.666667%);stroke-opacity:1;stroke-miterlimit:10;\" d=\"M 420.546875 383.070313 L 504.375 352.316406 \"/>\n",
       "<path style=\"fill:none;stroke-width:1;stroke-linecap:butt;stroke-linejoin:miter;stroke:rgb(26.666667%,26.666667%,26.666667%);stroke-opacity:1;stroke-miterlimit:10;\" d=\"M 427.242188 315.921875 L 445.046875 309.652344 \"/>\n",
       "<path style=\"fill:none;stroke-width:1;stroke-linecap:butt;stroke-linejoin:miter;stroke:rgb(26.666667%,26.666667%,26.666667%);stroke-opacity:1;stroke-miterlimit:10;\" d=\"M 427.242188 315.921875 L 457.007813 257.128906 \"/>\n",
       "<path style=\"fill:none;stroke-width:1;stroke-linecap:butt;stroke-linejoin:miter;stroke:rgb(26.666667%,26.666667%,26.666667%);stroke-opacity:1;stroke-miterlimit:10;\" d=\"M 427.242188 315.921875 L 461.898438 357.5 \"/>\n",
       "<path style=\"fill:none;stroke-width:1;stroke-linecap:butt;stroke-linejoin:miter;stroke:rgb(26.666667%,26.666667%,26.666667%);stroke-opacity:1;stroke-miterlimit:10;\" d=\"M 427.242188 315.921875 L 487.148438 271.691406 \"/>\n",
       "<path style=\"fill:none;stroke-width:1;stroke-linecap:butt;stroke-linejoin:miter;stroke:rgb(26.666667%,26.666667%,26.666667%);stroke-opacity:1;stroke-miterlimit:10;\" d=\"M 427.242188 315.921875 L 504.375 352.316406 \"/>\n",
       "<path style=\"fill:none;stroke-width:1;stroke-linecap:butt;stroke-linejoin:miter;stroke:rgb(26.666667%,26.666667%,26.666667%);stroke-opacity:1;stroke-miterlimit:10;\" d=\"M 431.152344 166.148438 L 432.335938 154.742188 \"/>\n",
       "<path style=\"fill:none;stroke-width:1;stroke-linecap:butt;stroke-linejoin:miter;stroke:rgb(26.666667%,26.666667%,26.666667%);stroke-opacity:1;stroke-miterlimit:10;\" d=\"M 431.152344 166.148438 L 440.914063 52.488281 \"/>\n",
       "<path style=\"fill:none;stroke-width:1;stroke-linecap:butt;stroke-linejoin:miter;stroke:rgb(26.666667%,26.666667%,26.666667%);stroke-opacity:1;stroke-miterlimit:10;\" d=\"M 431.152344 166.148438 L 454.234375 162.15625 \"/>\n",
       "<path style=\"fill:none;stroke-width:1;stroke-linecap:butt;stroke-linejoin:miter;stroke:rgb(26.666667%,26.666667%,26.666667%);stroke-opacity:1;stroke-miterlimit:10;\" d=\"M 431.152344 166.148438 L 457.007813 257.128906 \"/>\n",
       "<path style=\"fill:none;stroke-width:1;stroke-linecap:butt;stroke-linejoin:miter;stroke:rgb(26.666667%,26.666667%,26.666667%);stroke-opacity:1;stroke-miterlimit:10;\" d=\"M 431.152344 166.148438 L 460.007813 74.273438 \"/>\n",
       "<path style=\"fill:none;stroke-width:1;stroke-linecap:butt;stroke-linejoin:miter;stroke:rgb(26.666667%,26.666667%,26.666667%);stroke-opacity:1;stroke-miterlimit:10;\" d=\"M 431.152344 166.148438 L 467.769531 191.65625 \"/>\n",
       "<path style=\"fill:none;stroke-width:1;stroke-linecap:butt;stroke-linejoin:miter;stroke:rgb(26.666667%,26.666667%,26.666667%);stroke-opacity:1;stroke-miterlimit:10;\" d=\"M 431.152344 166.148438 L 503.222656 99.214844 \"/>\n",
       "<path style=\"fill:none;stroke-width:1;stroke-linecap:butt;stroke-linejoin:miter;stroke:rgb(26.666667%,26.666667%,26.666667%);stroke-opacity:1;stroke-miterlimit:10;\" d=\"M 431.152344 166.148438 L 519.804688 132.101563 \"/>\n",
       "<path style=\"fill:none;stroke-width:1;stroke-linecap:butt;stroke-linejoin:miter;stroke:rgb(26.666667%,26.666667%,26.666667%);stroke-opacity:1;stroke-miterlimit:10;\" d=\"M 431.152344 166.148438 L 523.804688 141.945313 \"/>\n",
       "<path style=\"fill:none;stroke-width:1;stroke-linecap:butt;stroke-linejoin:miter;stroke:rgb(26.666667%,26.666667%,26.666667%);stroke-opacity:1;stroke-miterlimit:10;\" d=\"M 432.335938 154.742188 L 440.914063 52.488281 \"/>\n",
       "<path style=\"fill:none;stroke-width:1;stroke-linecap:butt;stroke-linejoin:miter;stroke:rgb(26.666667%,26.666667%,26.666667%);stroke-opacity:1;stroke-miterlimit:10;\" d=\"M 432.335938 154.742188 L 454.234375 162.15625 \"/>\n",
       "<path style=\"fill:none;stroke-width:1;stroke-linecap:butt;stroke-linejoin:miter;stroke:rgb(26.666667%,26.666667%,26.666667%);stroke-opacity:1;stroke-miterlimit:10;\" d=\"M 432.335938 154.742188 L 457.007813 257.128906 \"/>\n",
       "<path style=\"fill:none;stroke-width:1;stroke-linecap:butt;stroke-linejoin:miter;stroke:rgb(26.666667%,26.666667%,26.666667%);stroke-opacity:1;stroke-miterlimit:10;\" d=\"M 432.335938 154.742188 L 460.007813 74.273438 \"/>\n",
       "<path style=\"fill:none;stroke-width:1;stroke-linecap:butt;stroke-linejoin:miter;stroke:rgb(26.666667%,26.666667%,26.666667%);stroke-opacity:1;stroke-miterlimit:10;\" d=\"M 432.335938 154.742188 L 467.769531 191.65625 \"/>\n",
       "<path style=\"fill:none;stroke-width:1;stroke-linecap:butt;stroke-linejoin:miter;stroke:rgb(26.666667%,26.666667%,26.666667%);stroke-opacity:1;stroke-miterlimit:10;\" d=\"M 432.335938 154.742188 L 503.222656 99.214844 \"/>\n",
       "<path style=\"fill:none;stroke-width:1;stroke-linecap:butt;stroke-linejoin:miter;stroke:rgb(26.666667%,26.666667%,26.666667%);stroke-opacity:1;stroke-miterlimit:10;\" d=\"M 432.335938 154.742188 L 519.804688 132.101563 \"/>\n",
       "<path style=\"fill:none;stroke-width:1;stroke-linecap:butt;stroke-linejoin:miter;stroke:rgb(26.666667%,26.666667%,26.666667%);stroke-opacity:1;stroke-miterlimit:10;\" d=\"M 432.335938 154.742188 L 523.804688 141.945313 \"/>\n",
       "<path style=\"fill:none;stroke-width:1;stroke-linecap:butt;stroke-linejoin:miter;stroke:rgb(26.666667%,26.666667%,26.666667%);stroke-opacity:1;stroke-miterlimit:10;\" d=\"M 433.148438 436.820313 L 461.898438 357.5 \"/>\n",
       "<path style=\"fill:none;stroke-width:1;stroke-linecap:butt;stroke-linejoin:miter;stroke:rgb(26.666667%,26.666667%,26.666667%);stroke-opacity:1;stroke-miterlimit:10;\" d=\"M 433.148438 436.820313 L 463.132813 454.988281 \"/>\n",
       "<path style=\"fill:none;stroke-width:1;stroke-linecap:butt;stroke-linejoin:miter;stroke:rgb(26.666667%,26.666667%,26.666667%);stroke-opacity:1;stroke-miterlimit:10;\" d=\"M 433.148438 436.820313 L 504.375 352.316406 \"/>\n",
       "<path style=\"fill:none;stroke-width:1;stroke-linecap:butt;stroke-linejoin:miter;stroke:rgb(26.666667%,26.666667%,26.666667%);stroke-opacity:1;stroke-miterlimit:10;\" d=\"M 440.914063 52.488281 L 442.976563 26.867188 \"/>\n",
       "<path style=\"fill:none;stroke-width:1;stroke-linecap:butt;stroke-linejoin:miter;stroke:rgb(26.666667%,26.666667%,26.666667%);stroke-opacity:1;stroke-miterlimit:10;\" d=\"M 440.914063 52.488281 L 454.234375 162.15625 \"/>\n",
       "<path style=\"fill:none;stroke-width:1;stroke-linecap:butt;stroke-linejoin:miter;stroke:rgb(26.666667%,26.666667%,26.666667%);stroke-opacity:1;stroke-miterlimit:10;\" d=\"M 440.914063 52.488281 L 460.007813 74.273438 \"/>\n",
       "<path style=\"fill:none;stroke-width:1;stroke-linecap:butt;stroke-linejoin:miter;stroke:rgb(26.666667%,26.666667%,26.666667%);stroke-opacity:1;stroke-miterlimit:10;\" d=\"M 440.914063 52.488281 L 503.222656 99.214844 \"/>\n",
       "<path style=\"fill:none;stroke-width:1;stroke-linecap:butt;stroke-linejoin:miter;stroke:rgb(26.666667%,26.666667%,26.666667%);stroke-opacity:1;stroke-miterlimit:10;\" d=\"M 440.914063 52.488281 L 519.804688 132.101563 \"/>\n",
       "<path style=\"fill:none;stroke-width:1;stroke-linecap:butt;stroke-linejoin:miter;stroke:rgb(26.666667%,26.666667%,26.666667%);stroke-opacity:1;stroke-miterlimit:10;\" d=\"M 442.976563 26.867188 L 460.007813 74.273438 \"/>\n",
       "<path style=\"fill:none;stroke-width:1;stroke-linecap:butt;stroke-linejoin:miter;stroke:rgb(26.666667%,26.666667%,26.666667%);stroke-opacity:1;stroke-miterlimit:10;\" d=\"M 442.976563 26.867188 L 503.222656 99.214844 \"/>\n",
       "<path style=\"fill:none;stroke-width:1;stroke-linecap:butt;stroke-linejoin:miter;stroke:rgb(26.666667%,26.666667%,26.666667%);stroke-opacity:1;stroke-miterlimit:10;\" d=\"M 445.046875 309.652344 L 457.007813 257.128906 \"/>\n",
       "<path style=\"fill:none;stroke-width:1;stroke-linecap:butt;stroke-linejoin:miter;stroke:rgb(26.666667%,26.666667%,26.666667%);stroke-opacity:1;stroke-miterlimit:10;\" d=\"M 445.046875 309.652344 L 461.898438 357.5 \"/>\n",
       "<path style=\"fill:none;stroke-width:1;stroke-linecap:butt;stroke-linejoin:miter;stroke:rgb(26.666667%,26.666667%,26.666667%);stroke-opacity:1;stroke-miterlimit:10;\" d=\"M 445.046875 309.652344 L 487.148438 271.691406 \"/>\n",
       "<path style=\"fill:none;stroke-width:1;stroke-linecap:butt;stroke-linejoin:miter;stroke:rgb(26.666667%,26.666667%,26.666667%);stroke-opacity:1;stroke-miterlimit:10;\" d=\"M 445.046875 309.652344 L 504.375 352.316406 \"/>\n",
       "<path style=\"fill:none;stroke-width:1;stroke-linecap:butt;stroke-linejoin:miter;stroke:rgb(26.666667%,26.666667%,26.666667%);stroke-opacity:1;stroke-miterlimit:10;\" d=\"M 445.046875 309.652344 L 533.402344 264.824219 \"/>\n",
       "<path style=\"fill:none;stroke-width:1;stroke-linecap:butt;stroke-linejoin:miter;stroke:rgb(26.666667%,26.666667%,26.666667%);stroke-opacity:1;stroke-miterlimit:10;\" d=\"M 454.234375 162.15625 L 457.007813 257.128906 \"/>\n",
       "<path style=\"fill:none;stroke-width:1;stroke-linecap:butt;stroke-linejoin:miter;stroke:rgb(26.666667%,26.666667%,26.666667%);stroke-opacity:1;stroke-miterlimit:10;\" d=\"M 454.234375 162.15625 L 460.007813 74.273438 \"/>\n",
       "<path style=\"fill:none;stroke-width:1;stroke-linecap:butt;stroke-linejoin:miter;stroke:rgb(26.666667%,26.666667%,26.666667%);stroke-opacity:1;stroke-miterlimit:10;\" d=\"M 454.234375 162.15625 L 467.769531 191.65625 \"/>\n",
       "<path style=\"fill:none;stroke-width:1;stroke-linecap:butt;stroke-linejoin:miter;stroke:rgb(26.666667%,26.666667%,26.666667%);stroke-opacity:1;stroke-miterlimit:10;\" d=\"M 454.234375 162.15625 L 487.148438 271.691406 \"/>\n",
       "<path style=\"fill:none;stroke-width:1;stroke-linecap:butt;stroke-linejoin:miter;stroke:rgb(26.666667%,26.666667%,26.666667%);stroke-opacity:1;stroke-miterlimit:10;\" d=\"M 454.234375 162.15625 L 503.222656 99.214844 \"/>\n",
       "<path style=\"fill:none;stroke-width:1;stroke-linecap:butt;stroke-linejoin:miter;stroke:rgb(26.666667%,26.666667%,26.666667%);stroke-opacity:1;stroke-miterlimit:10;\" d=\"M 454.234375 162.15625 L 519.804688 132.101563 \"/>\n",
       "<path style=\"fill:none;stroke-width:1;stroke-linecap:butt;stroke-linejoin:miter;stroke:rgb(26.666667%,26.666667%,26.666667%);stroke-opacity:1;stroke-miterlimit:10;\" d=\"M 454.234375 162.15625 L 523.804688 141.945313 \"/>\n",
       "<path style=\"fill:none;stroke-width:1;stroke-linecap:butt;stroke-linejoin:miter;stroke:rgb(26.666667%,26.666667%,26.666667%);stroke-opacity:1;stroke-miterlimit:10;\" d=\"M 454.234375 162.15625 L 553.355469 195.675781 \"/>\n",
       "<path style=\"fill:none;stroke-width:1;stroke-linecap:butt;stroke-linejoin:miter;stroke:rgb(26.666667%,26.666667%,26.666667%);stroke-opacity:1;stroke-miterlimit:10;\" d=\"M 454.234375 162.15625 L 561.679688 188.167969 \"/>\n",
       "<path style=\"fill:none;stroke-width:1;stroke-linecap:butt;stroke-linejoin:miter;stroke:rgb(26.666667%,26.666667%,26.666667%);stroke-opacity:1;stroke-miterlimit:10;\" d=\"M 457.007813 257.128906 L 461.898438 357.5 \"/>\n",
       "<path style=\"fill:none;stroke-width:1;stroke-linecap:butt;stroke-linejoin:miter;stroke:rgb(26.666667%,26.666667%,26.666667%);stroke-opacity:1;stroke-miterlimit:10;\" d=\"M 457.007813 257.128906 L 467.769531 191.65625 \"/>\n",
       "<path style=\"fill:none;stroke-width:1;stroke-linecap:butt;stroke-linejoin:miter;stroke:rgb(26.666667%,26.666667%,26.666667%);stroke-opacity:1;stroke-miterlimit:10;\" d=\"M 457.007813 257.128906 L 487.148438 271.691406 \"/>\n",
       "<path style=\"fill:none;stroke-width:1;stroke-linecap:butt;stroke-linejoin:miter;stroke:rgb(26.666667%,26.666667%,26.666667%);stroke-opacity:1;stroke-miterlimit:10;\" d=\"M 457.007813 257.128906 L 504.375 352.316406 \"/>\n",
       "<path style=\"fill:none;stroke-width:1;stroke-linecap:butt;stroke-linejoin:miter;stroke:rgb(26.666667%,26.666667%,26.666667%);stroke-opacity:1;stroke-miterlimit:10;\" d=\"M 457.007813 257.128906 L 533.402344 264.824219 \"/>\n",
       "<path style=\"fill:none;stroke-width:1;stroke-linecap:butt;stroke-linejoin:miter;stroke:rgb(26.666667%,26.666667%,26.666667%);stroke-opacity:1;stroke-miterlimit:10;\" d=\"M 457.007813 257.128906 L 553.355469 195.675781 \"/>\n",
       "<path style=\"fill:none;stroke-width:1;stroke-linecap:butt;stroke-linejoin:miter;stroke:rgb(26.666667%,26.666667%,26.666667%);stroke-opacity:1;stroke-miterlimit:10;\" d=\"M 457.007813 257.128906 L 569.964844 249.625 \"/>\n",
       "<path style=\"fill:none;stroke-width:1;stroke-linecap:butt;stroke-linejoin:miter;stroke:rgb(26.666667%,26.666667%,26.666667%);stroke-opacity:1;stroke-miterlimit:10;\" d=\"M 460.007813 74.273438 L 467.769531 191.65625 \"/>\n",
       "<path style=\"fill:none;stroke-width:1;stroke-linecap:butt;stroke-linejoin:miter;stroke:rgb(26.666667%,26.666667%,26.666667%);stroke-opacity:1;stroke-miterlimit:10;\" d=\"M 460.007813 74.273438 L 503.222656 99.214844 \"/>\n",
       "<path style=\"fill:none;stroke-width:1;stroke-linecap:butt;stroke-linejoin:miter;stroke:rgb(26.666667%,26.666667%,26.666667%);stroke-opacity:1;stroke-miterlimit:10;\" d=\"M 460.007813 74.273438 L 519.804688 132.101563 \"/>\n",
       "<path style=\"fill:none;stroke-width:1;stroke-linecap:butt;stroke-linejoin:miter;stroke:rgb(26.666667%,26.666667%,26.666667%);stroke-opacity:1;stroke-miterlimit:10;\" d=\"M 460.007813 74.273438 L 523.804688 141.945313 \"/>\n",
       "<path style=\"fill:none;stroke-width:1;stroke-linecap:butt;stroke-linejoin:miter;stroke:rgb(26.666667%,26.666667%,26.666667%);stroke-opacity:1;stroke-miterlimit:10;\" d=\"M 460.007813 74.273438 L 567.339844 48.714844 \"/>\n",
       "<path style=\"fill:none;stroke-width:1;stroke-linecap:butt;stroke-linejoin:miter;stroke:rgb(26.666667%,26.666667%,26.666667%);stroke-opacity:1;stroke-miterlimit:10;\" d=\"M 461.898438 357.5 L 463.132813 454.988281 \"/>\n",
       "<path style=\"fill:none;stroke-width:1;stroke-linecap:butt;stroke-linejoin:miter;stroke:rgb(26.666667%,26.666667%,26.666667%);stroke-opacity:1;stroke-miterlimit:10;\" d=\"M 461.898438 357.5 L 487.148438 271.691406 \"/>\n",
       "<path style=\"fill:none;stroke-width:1;stroke-linecap:butt;stroke-linejoin:miter;stroke:rgb(26.666667%,26.666667%,26.666667%);stroke-opacity:1;stroke-miterlimit:10;\" d=\"M 461.898438 357.5 L 504.375 352.316406 \"/>\n",
       "<path style=\"fill:none;stroke-width:1;stroke-linecap:butt;stroke-linejoin:miter;stroke:rgb(26.666667%,26.666667%,26.666667%);stroke-opacity:1;stroke-miterlimit:10;\" d=\"M 461.898438 357.5 L 550.875 414.515625 \"/>\n",
       "<path style=\"fill:none;stroke-width:1;stroke-linecap:butt;stroke-linejoin:miter;stroke:rgb(26.666667%,26.666667%,26.666667%);stroke-opacity:1;stroke-miterlimit:10;\" d=\"M 463.132813 454.988281 L 494.269531 550.808594 \"/>\n",
       "<path style=\"fill:none;stroke-width:1;stroke-linecap:butt;stroke-linejoin:miter;stroke:rgb(26.666667%,26.666667%,26.666667%);stroke-opacity:1;stroke-miterlimit:10;\" d=\"M 463.132813 454.988281 L 504.375 352.316406 \"/>\n",
       "<path style=\"fill:none;stroke-width:1;stroke-linecap:butt;stroke-linejoin:miter;stroke:rgb(26.666667%,26.666667%,26.666667%);stroke-opacity:1;stroke-miterlimit:10;\" d=\"M 463.132813 454.988281 L 550.875 414.515625 \"/>\n",
       "<path style=\"fill:none;stroke-width:1;stroke-linecap:butt;stroke-linejoin:miter;stroke:rgb(26.666667%,26.666667%,26.666667%);stroke-opacity:1;stroke-miterlimit:10;\" d=\"M 463.132813 454.988281 L 560.222656 466.296875 \"/>\n",
       "<path style=\"fill:none;stroke-width:1;stroke-linecap:butt;stroke-linejoin:miter;stroke:rgb(26.666667%,26.666667%,26.666667%);stroke-opacity:1;stroke-miterlimit:10;\" d=\"M 463.132813 454.988281 L 569.257813 489.128906 \"/>\n",
       "<path style=\"fill:none;stroke-width:1;stroke-linecap:butt;stroke-linejoin:miter;stroke:rgb(26.666667%,26.666667%,26.666667%);stroke-opacity:1;stroke-miterlimit:10;\" d=\"M 467.769531 191.65625 L 487.148438 271.691406 \"/>\n",
       "<path style=\"fill:none;stroke-width:1;stroke-linecap:butt;stroke-linejoin:miter;stroke:rgb(26.666667%,26.666667%,26.666667%);stroke-opacity:1;stroke-miterlimit:10;\" d=\"M 467.769531 191.65625 L 503.222656 99.214844 \"/>\n",
       "<path style=\"fill:none;stroke-width:1;stroke-linecap:butt;stroke-linejoin:miter;stroke:rgb(26.666667%,26.666667%,26.666667%);stroke-opacity:1;stroke-miterlimit:10;\" d=\"M 467.769531 191.65625 L 519.804688 132.101563 \"/>\n",
       "<path style=\"fill:none;stroke-width:1;stroke-linecap:butt;stroke-linejoin:miter;stroke:rgb(26.666667%,26.666667%,26.666667%);stroke-opacity:1;stroke-miterlimit:10;\" d=\"M 467.769531 191.65625 L 523.804688 141.945313 \"/>\n",
       "<path style=\"fill:none;stroke-width:1;stroke-linecap:butt;stroke-linejoin:miter;stroke:rgb(26.666667%,26.666667%,26.666667%);stroke-opacity:1;stroke-miterlimit:10;\" d=\"M 467.769531 191.65625 L 533.402344 264.824219 \"/>\n",
       "<path style=\"fill:none;stroke-width:1;stroke-linecap:butt;stroke-linejoin:miter;stroke:rgb(26.666667%,26.666667%,26.666667%);stroke-opacity:1;stroke-miterlimit:10;\" d=\"M 467.769531 191.65625 L 553.355469 195.675781 \"/>\n",
       "<path style=\"fill:none;stroke-width:1;stroke-linecap:butt;stroke-linejoin:miter;stroke:rgb(26.666667%,26.666667%,26.666667%);stroke-opacity:1;stroke-miterlimit:10;\" d=\"M 467.769531 191.65625 L 561.679688 188.167969 \"/>\n",
       "<path style=\"fill:none;stroke-width:1;stroke-linecap:butt;stroke-linejoin:miter;stroke:rgb(26.666667%,26.666667%,26.666667%);stroke-opacity:1;stroke-miterlimit:10;\" d=\"M 487.148438 271.691406 L 504.375 352.316406 \"/>\n",
       "<path style=\"fill:none;stroke-width:1;stroke-linecap:butt;stroke-linejoin:miter;stroke:rgb(26.666667%,26.666667%,26.666667%);stroke-opacity:1;stroke-miterlimit:10;\" d=\"M 487.148438 271.691406 L 533.402344 264.824219 \"/>\n",
       "<path style=\"fill:none;stroke-width:1;stroke-linecap:butt;stroke-linejoin:miter;stroke:rgb(26.666667%,26.666667%,26.666667%);stroke-opacity:1;stroke-miterlimit:10;\" d=\"M 487.148438 271.691406 L 553.355469 195.675781 \"/>\n",
       "<path style=\"fill:none;stroke-width:1;stroke-linecap:butt;stroke-linejoin:miter;stroke:rgb(26.666667%,26.666667%,26.666667%);stroke-opacity:1;stroke-miterlimit:10;\" d=\"M 487.148438 271.691406 L 561.679688 188.167969 \"/>\n",
       "<path style=\"fill:none;stroke-width:1;stroke-linecap:butt;stroke-linejoin:miter;stroke:rgb(26.666667%,26.666667%,26.666667%);stroke-opacity:1;stroke-miterlimit:10;\" d=\"M 487.148438 271.691406 L 569.964844 249.625 \"/>\n",
       "<path style=\"fill:none;stroke-width:1;stroke-linecap:butt;stroke-linejoin:miter;stroke:rgb(26.666667%,26.666667%,26.666667%);stroke-opacity:1;stroke-miterlimit:10;\" d=\"M 487.148438 271.691406 L 577.105469 311.191406 \"/>\n",
       "<path style=\"fill:none;stroke-width:1;stroke-linecap:butt;stroke-linejoin:miter;stroke:rgb(26.666667%,26.666667%,26.666667%);stroke-opacity:1;stroke-miterlimit:10;\" d=\"M 494.269531 550.808594 L 560.222656 466.296875 \"/>\n",
       "<path style=\"fill:none;stroke-width:1;stroke-linecap:butt;stroke-linejoin:miter;stroke:rgb(26.666667%,26.666667%,26.666667%);stroke-opacity:1;stroke-miterlimit:10;\" d=\"M 494.269531 550.808594 L 569.257813 489.128906 \"/>\n",
       "<path style=\"fill:none;stroke-width:1;stroke-linecap:butt;stroke-linejoin:miter;stroke:rgb(26.666667%,26.666667%,26.666667%);stroke-opacity:1;stroke-miterlimit:10;\" d=\"M 503.222656 99.214844 L 519.804688 132.101563 \"/>\n",
       "<path style=\"fill:none;stroke-width:1;stroke-linecap:butt;stroke-linejoin:miter;stroke:rgb(26.666667%,26.666667%,26.666667%);stroke-opacity:1;stroke-miterlimit:10;\" d=\"M 503.222656 99.214844 L 523.804688 141.945313 \"/>\n",
       "<path style=\"fill:none;stroke-width:1;stroke-linecap:butt;stroke-linejoin:miter;stroke:rgb(26.666667%,26.666667%,26.666667%);stroke-opacity:1;stroke-miterlimit:10;\" d=\"M 503.222656 99.214844 L 553.355469 195.675781 \"/>\n",
       "<path style=\"fill:none;stroke-width:1;stroke-linecap:butt;stroke-linejoin:miter;stroke:rgb(26.666667%,26.666667%,26.666667%);stroke-opacity:1;stroke-miterlimit:10;\" d=\"M 503.222656 99.214844 L 561.679688 188.167969 \"/>\n",
       "<path style=\"fill:none;stroke-width:1;stroke-linecap:butt;stroke-linejoin:miter;stroke:rgb(26.666667%,26.666667%,26.666667%);stroke-opacity:1;stroke-miterlimit:10;\" d=\"M 503.222656 99.214844 L 567.339844 48.714844 \"/>\n",
       "<path style=\"fill:none;stroke-width:1;stroke-linecap:butt;stroke-linejoin:miter;stroke:rgb(26.666667%,26.666667%,26.666667%);stroke-opacity:1;stroke-miterlimit:10;\" d=\"M 503.222656 99.214844 L 575.730469 37.644531 \"/>\n",
       "<path style=\"fill:none;stroke-width:1;stroke-linecap:butt;stroke-linejoin:miter;stroke:rgb(26.666667%,26.666667%,26.666667%);stroke-opacity:1;stroke-miterlimit:10;\" d=\"M 504.375 352.316406 L 533.402344 264.824219 \"/>\n",
       "<path style=\"fill:none;stroke-width:1;stroke-linecap:butt;stroke-linejoin:miter;stroke:rgb(26.666667%,26.666667%,26.666667%);stroke-opacity:1;stroke-miterlimit:10;\" d=\"M 504.375 352.316406 L 550.875 414.515625 \"/>\n",
       "<path style=\"fill:none;stroke-width:1;stroke-linecap:butt;stroke-linejoin:miter;stroke:rgb(26.666667%,26.666667%,26.666667%);stroke-opacity:1;stroke-miterlimit:10;\" d=\"M 504.375 352.316406 L 577.105469 311.191406 \"/>\n",
       "<path style=\"fill:none;stroke-width:1;stroke-linecap:butt;stroke-linejoin:miter;stroke:rgb(26.666667%,26.666667%,26.666667%);stroke-opacity:1;stroke-miterlimit:10;\" d=\"M 504.375 352.316406 L 580 410.253906 \"/>\n",
       "<path style=\"fill:none;stroke-width:1;stroke-linecap:butt;stroke-linejoin:miter;stroke:rgb(26.666667%,26.666667%,26.666667%);stroke-opacity:1;stroke-miterlimit:10;\" d=\"M 519.804688 132.101563 L 523.804688 141.945313 \"/>\n",
       "<path style=\"fill:none;stroke-width:1;stroke-linecap:butt;stroke-linejoin:miter;stroke:rgb(26.666667%,26.666667%,26.666667%);stroke-opacity:1;stroke-miterlimit:10;\" d=\"M 519.804688 132.101563 L 553.355469 195.675781 \"/>\n",
       "<path style=\"fill:none;stroke-width:1;stroke-linecap:butt;stroke-linejoin:miter;stroke:rgb(26.666667%,26.666667%,26.666667%);stroke-opacity:1;stroke-miterlimit:10;\" d=\"M 519.804688 132.101563 L 561.679688 188.167969 \"/>\n",
       "<path style=\"fill:none;stroke-width:1;stroke-linecap:butt;stroke-linejoin:miter;stroke:rgb(26.666667%,26.666667%,26.666667%);stroke-opacity:1;stroke-miterlimit:10;\" d=\"M 519.804688 132.101563 L 567.339844 48.714844 \"/>\n",
       "<path style=\"fill:none;stroke-width:1;stroke-linecap:butt;stroke-linejoin:miter;stroke:rgb(26.666667%,26.666667%,26.666667%);stroke-opacity:1;stroke-miterlimit:10;\" d=\"M 519.804688 132.101563 L 575.730469 37.644531 \"/>\n",
       "<path style=\"fill:none;stroke-width:1;stroke-linecap:butt;stroke-linejoin:miter;stroke:rgb(26.666667%,26.666667%,26.666667%);stroke-opacity:1;stroke-miterlimit:10;\" d=\"M 523.804688 141.945313 L 553.355469 195.675781 \"/>\n",
       "<path style=\"fill:none;stroke-width:1;stroke-linecap:butt;stroke-linejoin:miter;stroke:rgb(26.666667%,26.666667%,26.666667%);stroke-opacity:1;stroke-miterlimit:10;\" d=\"M 523.804688 141.945313 L 561.679688 188.167969 \"/>\n",
       "<path style=\"fill:none;stroke-width:1;stroke-linecap:butt;stroke-linejoin:miter;stroke:rgb(26.666667%,26.666667%,26.666667%);stroke-opacity:1;stroke-miterlimit:10;\" d=\"M 523.804688 141.945313 L 567.339844 48.714844 \"/>\n",
       "<path style=\"fill:none;stroke-width:1;stroke-linecap:butt;stroke-linejoin:miter;stroke:rgb(26.666667%,26.666667%,26.666667%);stroke-opacity:1;stroke-miterlimit:10;\" d=\"M 523.804688 141.945313 L 569.964844 249.625 \"/>\n",
       "<path style=\"fill:none;stroke-width:1;stroke-linecap:butt;stroke-linejoin:miter;stroke:rgb(26.666667%,26.666667%,26.666667%);stroke-opacity:1;stroke-miterlimit:10;\" d=\"M 523.804688 141.945313 L 575.730469 37.644531 \"/>\n",
       "<path style=\"fill:none;stroke-width:1;stroke-linecap:butt;stroke-linejoin:miter;stroke:rgb(26.666667%,26.666667%,26.666667%);stroke-opacity:1;stroke-miterlimit:10;\" d=\"M 533.402344 264.824219 L 553.355469 195.675781 \"/>\n",
       "<path style=\"fill:none;stroke-width:1;stroke-linecap:butt;stroke-linejoin:miter;stroke:rgb(26.666667%,26.666667%,26.666667%);stroke-opacity:1;stroke-miterlimit:10;\" d=\"M 533.402344 264.824219 L 561.679688 188.167969 \"/>\n",
       "<path style=\"fill:none;stroke-width:1;stroke-linecap:butt;stroke-linejoin:miter;stroke:rgb(26.666667%,26.666667%,26.666667%);stroke-opacity:1;stroke-miterlimit:10;\" d=\"M 533.402344 264.824219 L 569.964844 249.625 \"/>\n",
       "<path style=\"fill:none;stroke-width:1;stroke-linecap:butt;stroke-linejoin:miter;stroke:rgb(26.666667%,26.666667%,26.666667%);stroke-opacity:1;stroke-miterlimit:10;\" d=\"M 533.402344 264.824219 L 577.105469 311.191406 \"/>\n",
       "<path style=\"fill:none;stroke-width:1;stroke-linecap:butt;stroke-linejoin:miter;stroke:rgb(26.666667%,26.666667%,26.666667%);stroke-opacity:1;stroke-miterlimit:10;\" d=\"M 550.875 414.515625 L 560.222656 466.296875 \"/>\n",
       "<path style=\"fill:none;stroke-width:1;stroke-linecap:butt;stroke-linejoin:miter;stroke:rgb(26.666667%,26.666667%,26.666667%);stroke-opacity:1;stroke-miterlimit:10;\" d=\"M 550.875 414.515625 L 569.257813 489.128906 \"/>\n",
       "<path style=\"fill:none;stroke-width:1;stroke-linecap:butt;stroke-linejoin:miter;stroke:rgb(26.666667%,26.666667%,26.666667%);stroke-opacity:1;stroke-miterlimit:10;\" d=\"M 550.875 414.515625 L 577.105469 311.191406 \"/>\n",
       "<path style=\"fill:none;stroke-width:1;stroke-linecap:butt;stroke-linejoin:miter;stroke:rgb(26.666667%,26.666667%,26.666667%);stroke-opacity:1;stroke-miterlimit:10;\" d=\"M 550.875 414.515625 L 580 410.253906 \"/>\n",
       "<path style=\"fill:none;stroke-width:1;stroke-linecap:butt;stroke-linejoin:miter;stroke:rgb(26.666667%,26.666667%,26.666667%);stroke-opacity:1;stroke-miterlimit:10;\" d=\"M 553.355469 195.675781 L 561.679688 188.167969 \"/>\n",
       "<path style=\"fill:none;stroke-width:1;stroke-linecap:butt;stroke-linejoin:miter;stroke:rgb(26.666667%,26.666667%,26.666667%);stroke-opacity:1;stroke-miterlimit:10;\" d=\"M 553.355469 195.675781 L 569.964844 249.625 \"/>\n",
       "<path style=\"fill:none;stroke-width:1;stroke-linecap:butt;stroke-linejoin:miter;stroke:rgb(26.666667%,26.666667%,26.666667%);stroke-opacity:1;stroke-miterlimit:10;\" d=\"M 553.355469 195.675781 L 577.105469 311.191406 \"/>\n",
       "<path style=\"fill:none;stroke-width:1;stroke-linecap:butt;stroke-linejoin:miter;stroke:rgb(26.666667%,26.666667%,26.666667%);stroke-opacity:1;stroke-miterlimit:10;\" d=\"M 560.222656 466.296875 L 569.257813 489.128906 \"/>\n",
       "<path style=\"fill:none;stroke-width:1;stroke-linecap:butt;stroke-linejoin:miter;stroke:rgb(26.666667%,26.666667%,26.666667%);stroke-opacity:1;stroke-miterlimit:10;\" d=\"M 560.222656 466.296875 L 580 410.253906 \"/>\n",
       "<path style=\"fill:none;stroke-width:1;stroke-linecap:butt;stroke-linejoin:miter;stroke:rgb(26.666667%,26.666667%,26.666667%);stroke-opacity:1;stroke-miterlimit:10;\" d=\"M 561.679688 188.167969 L 569.964844 249.625 \"/>\n",
       "<path style=\"fill:none;stroke-width:1;stroke-linecap:butt;stroke-linejoin:miter;stroke:rgb(26.666667%,26.666667%,26.666667%);stroke-opacity:1;stroke-miterlimit:10;\" d=\"M 567.339844 48.714844 L 575.730469 37.644531 \"/>\n",
       "<path style=\"fill:none;stroke-width:1;stroke-linecap:butt;stroke-linejoin:miter;stroke:rgb(26.666667%,26.666667%,26.666667%);stroke-opacity:1;stroke-miterlimit:10;\" d=\"M 569.257813 489.128906 L 580 410.253906 \"/>\n",
       "<path style=\"fill:none;stroke-width:1;stroke-linecap:butt;stroke-linejoin:miter;stroke:rgb(26.666667%,26.666667%,26.666667%);stroke-opacity:1;stroke-miterlimit:10;\" d=\"M 569.964844 249.625 L 577.105469 311.191406 \"/>\n",
       "<path style=\"fill:none;stroke-width:1;stroke-linecap:butt;stroke-linejoin:miter;stroke:rgb(26.666667%,26.666667%,26.666667%);stroke-opacity:1;stroke-miterlimit:10;\" d=\"M 577.105469 311.191406 L 580 410.253906 \"/>\n",
       "<path style=\"fill-rule:nonzero;fill:rgb(100%,0%,0%);fill-opacity:1;stroke-width:1;stroke-linecap:butt;stroke-linejoin:miter;stroke:rgb(0%,0%,0%);stroke-opacity:1;stroke-miterlimit:10;\" d=\"M 30 128.152344 C 30 133.675781 25.523438 138.152344 20 138.152344 C 14.476563 138.152344 10 133.675781 10 128.152344 C 10 122.628906 14.476563 118.152344 20 118.152344 C 25.523438 118.152344 30 122.628906 30 128.152344 \"/>\n",
       "<path style=\"fill-rule:nonzero;fill:rgb(100%,0%,0%);fill-opacity:1;stroke-width:1;stroke-linecap:butt;stroke-linejoin:miter;stroke:rgb(0%,0%,0%);stroke-opacity:1;stroke-miterlimit:10;\" d=\"M 47.539063 189.707031 C 47.539063 195.226563 43.058594 199.707031 37.539063 199.707031 C 32.015625 199.707031 27.539063 195.226563 27.539063 189.707031 C 27.539063 184.183594 32.015625 179.707031 37.539063 179.707031 C 43.058594 179.707031 47.539063 184.183594 47.539063 189.707031 \"/>\n",
       "<path style=\"fill-rule:nonzero;fill:rgb(100%,0%,0%);fill-opacity:1;stroke-width:1;stroke-linecap:butt;stroke-linejoin:miter;stroke:rgb(0%,0%,0%);stroke-opacity:1;stroke-miterlimit:10;\" d=\"M 55.753906 580 C 55.753906 585.523438 51.277344 590 45.753906 590 C 40.230469 590 35.753906 585.523438 35.753906 580 C 35.753906 574.476563 40.230469 570 45.753906 570 C 51.277344 570 55.753906 574.476563 55.753906 580 \"/>\n",
       "<path style=\"fill-rule:nonzero;fill:rgb(100%,0%,0%);fill-opacity:1;stroke-width:1;stroke-linecap:butt;stroke-linejoin:miter;stroke:rgb(0%,0%,0%);stroke-opacity:1;stroke-miterlimit:10;\" d=\"M 56.308594 444.988281 C 56.308594 450.511719 51.832031 454.988281 46.308594 454.988281 C 40.785156 454.988281 36.308594 450.511719 36.308594 444.988281 C 36.308594 439.464844 40.785156 434.988281 46.308594 434.988281 C 51.832031 434.988281 56.308594 439.464844 56.308594 444.988281 \"/>\n",
       "<path style=\"fill-rule:nonzero;fill:rgb(100%,0%,0%);fill-opacity:1;stroke-width:1;stroke-linecap:butt;stroke-linejoin:miter;stroke:rgb(0%,0%,0%);stroke-opacity:1;stroke-miterlimit:10;\" d=\"M 56.535156 235.261719 C 56.535156 240.785156 52.054688 245.261719 46.535156 245.261719 C 41.011719 245.261719 36.535156 240.785156 36.535156 235.261719 C 36.535156 229.738281 41.011719 225.261719 46.535156 225.261719 C 52.054688 225.261719 56.535156 229.738281 56.535156 235.261719 \"/>\n",
       "<path style=\"fill-rule:nonzero;fill:rgb(100%,0%,0%);fill-opacity:1;stroke-width:1;stroke-linecap:butt;stroke-linejoin:miter;stroke:rgb(0%,0%,0%);stroke-opacity:1;stroke-miterlimit:10;\" d=\"M 63.6875 523.011719 C 63.6875 528.535156 59.210938 533.011719 53.6875 533.011719 C 48.164063 533.011719 43.6875 528.535156 43.6875 523.011719 C 43.6875 517.488281 48.164063 513.011719 53.6875 513.011719 C 59.210938 513.011719 63.6875 517.488281 63.6875 523.011719 \"/>\n",
       "<path style=\"fill-rule:nonzero;fill:rgb(100%,0%,0%);fill-opacity:1;stroke-width:1;stroke-linecap:butt;stroke-linejoin:miter;stroke:rgb(0%,0%,0%);stroke-opacity:1;stroke-miterlimit:10;\" d=\"M 68.3125 276.046875 C 68.3125 281.570313 63.832031 286.046875 58.3125 286.046875 C 52.789063 286.046875 48.3125 281.570313 48.3125 276.046875 C 48.3125 270.523438 52.789063 266.046875 58.3125 266.046875 C 63.832031 266.046875 68.3125 270.523438 68.3125 276.046875 \"/>\n",
       "<path style=\"fill-rule:nonzero;fill:rgb(100%,0%,0%);fill-opacity:1;stroke-width:1;stroke-linecap:butt;stroke-linejoin:miter;stroke:rgb(0%,0%,0%);stroke-opacity:1;stroke-miterlimit:10;\" d=\"M 71.738281 538.597656 C 71.738281 544.121094 67.261719 548.597656 61.738281 548.597656 C 56.21875 548.597656 51.738281 544.121094 51.738281 538.597656 C 51.738281 533.074219 56.21875 528.597656 61.738281 528.597656 C 67.261719 528.597656 71.738281 533.074219 71.738281 538.597656 \"/>\n",
       "<path style=\"fill-rule:nonzero;fill:rgb(100%,0%,0%);fill-opacity:1;stroke-width:1;stroke-linecap:butt;stroke-linejoin:miter;stroke:rgb(0%,0%,0%);stroke-opacity:1;stroke-miterlimit:10;\" d=\"M 76.902344 579.507813 C 76.902344 585.027344 72.425781 589.507813 66.902344 589.507813 C 61.378906 589.507813 56.902344 585.027344 56.902344 579.507813 C 56.902344 573.984375 61.378906 569.507813 66.902344 569.507813 C 72.425781 569.507813 76.902344 573.984375 76.902344 579.507813 \"/>\n",
       "<path style=\"fill-rule:nonzero;fill:rgb(100%,0%,0%);fill-opacity:1;stroke-width:1;stroke-linecap:butt;stroke-linejoin:miter;stroke:rgb(0%,0%,0%);stroke-opacity:1;stroke-miterlimit:10;\" d=\"M 82.300781 522.167969 C 82.300781 527.691406 77.824219 532.167969 72.300781 532.167969 C 66.777344 532.167969 62.300781 527.691406 62.300781 522.167969 C 62.300781 516.644531 66.777344 512.167969 72.300781 512.167969 C 77.824219 512.167969 82.300781 516.644531 82.300781 522.167969 \"/>\n",
       "<path style=\"fill-rule:nonzero;fill:rgb(100%,0%,0%);fill-opacity:1;stroke-width:1;stroke-linecap:butt;stroke-linejoin:miter;stroke:rgb(0%,0%,0%);stroke-opacity:1;stroke-miterlimit:10;\" d=\"M 83.171875 312.273438 C 83.171875 317.796875 78.691406 322.273438 73.171875 322.273438 C 67.648438 322.273438 63.171875 317.796875 63.171875 312.273438 C 63.171875 306.753906 67.648438 302.273438 73.171875 302.273438 C 78.691406 302.273438 83.171875 306.753906 83.171875 312.273438 \"/>\n",
       "<path style=\"fill-rule:nonzero;fill:rgb(100%,0%,0%);fill-opacity:1;stroke-width:1;stroke-linecap:butt;stroke-linejoin:miter;stroke:rgb(0%,0%,0%);stroke-opacity:1;stroke-miterlimit:10;\" d=\"M 89.019531 335.609375 C 89.019531 341.132813 84.539063 345.609375 79.019531 345.609375 C 73.496094 345.609375 69.019531 341.132813 69.019531 335.609375 C 69.019531 330.089844 73.496094 325.609375 79.019531 325.609375 C 84.539063 325.609375 89.019531 330.089844 89.019531 335.609375 \"/>\n",
       "<path style=\"fill-rule:nonzero;fill:rgb(100%,0%,0%);fill-opacity:1;stroke-width:1;stroke-linecap:butt;stroke-linejoin:miter;stroke:rgb(0%,0%,0%);stroke-opacity:1;stroke-miterlimit:10;\" d=\"M 95.867188 549.738281 C 95.867188 555.261719 91.390625 559.738281 85.867188 559.738281 C 80.34375 559.738281 75.867188 555.261719 75.867188 549.738281 C 75.867188 544.214844 80.34375 539.738281 85.867188 539.738281 C 91.390625 539.738281 95.867188 544.214844 95.867188 549.738281 \"/>\n",
       "<path style=\"fill-rule:nonzero;fill:rgb(100%,0%,0%);fill-opacity:1;stroke-width:1;stroke-linecap:butt;stroke-linejoin:miter;stroke:rgb(0%,0%,0%);stroke-opacity:1;stroke-miterlimit:10;\" d=\"M 113.34375 194.03125 C 113.34375 199.550781 108.867188 204.03125 103.34375 204.03125 C 97.820313 204.03125 93.34375 199.550781 93.34375 194.03125 C 93.34375 188.507813 97.820313 184.03125 103.34375 184.03125 C 108.867188 184.03125 113.34375 188.507813 113.34375 194.03125 \"/>\n",
       "<path style=\"fill-rule:nonzero;fill:rgb(100%,0%,0%);fill-opacity:1;stroke-width:1;stroke-linecap:butt;stroke-linejoin:miter;stroke:rgb(0%,0%,0%);stroke-opacity:1;stroke-miterlimit:10;\" d=\"M 113.808594 311.441406 C 113.808594 316.960938 109.328125 321.441406 103.808594 321.441406 C 98.285156 321.441406 93.808594 316.960938 93.808594 311.441406 C 93.808594 305.917969 98.285156 301.441406 103.808594 301.441406 C 109.328125 301.441406 113.808594 305.917969 113.808594 311.441406 \"/>\n",
       "<path style=\"fill-rule:nonzero;fill:rgb(100%,0%,0%);fill-opacity:1;stroke-width:1;stroke-linecap:butt;stroke-linejoin:miter;stroke:rgb(0%,0%,0%);stroke-opacity:1;stroke-miterlimit:10;\" d=\"M 114.019531 24.214844 C 114.019531 29.738281 109.542969 34.214844 104.019531 34.214844 C 98.496094 34.214844 94.019531 29.738281 94.019531 24.214844 C 94.019531 18.691406 98.496094 14.214844 104.019531 14.214844 C 109.542969 14.214844 114.019531 18.691406 114.019531 24.214844 \"/>\n",
       "<path style=\"fill-rule:nonzero;fill:rgb(100%,0%,0%);fill-opacity:1;stroke-width:1;stroke-linecap:butt;stroke-linejoin:miter;stroke:rgb(0%,0%,0%);stroke-opacity:1;stroke-miterlimit:10;\" d=\"M 116.972656 287.65625 C 116.972656 293.179688 112.496094 297.65625 106.972656 297.65625 C 101.449219 297.65625 96.972656 293.179688 96.972656 287.65625 C 96.972656 282.132813 101.449219 277.65625 106.972656 277.65625 C 112.496094 277.65625 116.972656 282.132813 116.972656 287.65625 \"/>\n",
       "<path style=\"fill-rule:nonzero;fill:rgb(100%,0%,0%);fill-opacity:1;stroke-width:1;stroke-linecap:butt;stroke-linejoin:miter;stroke:rgb(0%,0%,0%);stroke-opacity:1;stroke-miterlimit:10;\" d=\"M 129.335938 477.847656 C 129.335938 483.371094 124.859375 487.847656 119.335938 487.847656 C 113.816406 487.847656 109.335938 483.371094 109.335938 477.847656 C 109.335938 472.324219 113.816406 467.847656 119.335938 467.847656 C 124.859375 467.847656 129.335938 472.324219 129.335938 477.847656 \"/>\n",
       "<path style=\"fill-rule:nonzero;fill:rgb(100%,0%,0%);fill-opacity:1;stroke-width:1;stroke-linecap:butt;stroke-linejoin:miter;stroke:rgb(0%,0%,0%);stroke-opacity:1;stroke-miterlimit:10;\" d=\"M 137.433594 323.914063 C 137.433594 329.4375 132.957031 333.914063 127.433594 333.914063 C 121.910156 333.914063 117.433594 329.4375 117.433594 323.914063 C 117.433594 318.390625 121.910156 313.914063 127.433594 313.914063 C 132.957031 313.914063 137.433594 318.390625 137.433594 323.914063 \"/>\n",
       "<path style=\"fill-rule:nonzero;fill:rgb(100%,0%,0%);fill-opacity:1;stroke-width:1;stroke-linecap:butt;stroke-linejoin:miter;stroke:rgb(0%,0%,0%);stroke-opacity:1;stroke-miterlimit:10;\" d=\"M 143.03125 408.851563 C 143.03125 414.375 138.550781 418.851563 133.03125 418.851563 C 127.507813 418.851563 123.03125 414.375 123.03125 408.851563 C 123.03125 403.328125 127.507813 398.851563 133.03125 398.851563 C 138.550781 398.851563 143.03125 403.328125 143.03125 408.851563 \"/>\n",
       "<path style=\"fill-rule:nonzero;fill:rgb(100%,0%,0%);fill-opacity:1;stroke-width:1;stroke-linecap:butt;stroke-linejoin:miter;stroke:rgb(0%,0%,0%);stroke-opacity:1;stroke-miterlimit:10;\" d=\"M 147.644531 338.773438 C 147.644531 344.292969 143.167969 348.773438 137.644531 348.773438 C 132.121094 348.773438 127.644531 344.292969 127.644531 338.773438 C 127.644531 333.25 132.121094 328.773438 137.644531 328.773438 C 143.167969 328.773438 147.644531 333.25 147.644531 338.773438 \"/>\n",
       "<path style=\"fill-rule:nonzero;fill:rgb(100%,0%,0%);fill-opacity:1;stroke-width:1;stroke-linecap:butt;stroke-linejoin:miter;stroke:rgb(0%,0%,0%);stroke-opacity:1;stroke-miterlimit:10;\" d=\"M 150.328125 173.648438 C 150.328125 179.171875 145.851563 183.648438 140.328125 183.648438 C 134.808594 183.648438 130.328125 179.171875 130.328125 173.648438 C 130.328125 168.125 134.808594 163.648438 140.328125 163.648438 C 145.851563 163.648438 150.328125 168.125 150.328125 173.648438 \"/>\n",
       "<path style=\"fill-rule:nonzero;fill:rgb(100%,0%,0%);fill-opacity:1;stroke-width:1;stroke-linecap:butt;stroke-linejoin:miter;stroke:rgb(0%,0%,0%);stroke-opacity:1;stroke-miterlimit:10;\" d=\"M 153.957031 247.65625 C 153.957031 253.179688 149.480469 257.65625 143.957031 257.65625 C 138.433594 257.65625 133.957031 253.179688 133.957031 247.65625 C 133.957031 242.132813 138.433594 237.65625 143.957031 237.65625 C 149.480469 237.65625 153.957031 242.132813 153.957031 247.65625 \"/>\n",
       "<path style=\"fill-rule:nonzero;fill:rgb(100%,0%,0%);fill-opacity:1;stroke-width:1;stroke-linecap:butt;stroke-linejoin:miter;stroke:rgb(0%,0%,0%);stroke-opacity:1;stroke-miterlimit:10;\" d=\"M 155.839844 410.804688 C 155.839844 416.328125 151.363281 420.804688 145.839844 420.804688 C 140.316406 420.804688 135.839844 416.328125 135.839844 410.804688 C 135.839844 405.28125 140.316406 400.804688 145.839844 400.804688 C 151.363281 400.804688 155.839844 405.28125 155.839844 410.804688 \"/>\n",
       "<path style=\"fill-rule:nonzero;fill:rgb(100%,0%,0%);fill-opacity:1;stroke-width:1;stroke-linecap:butt;stroke-linejoin:miter;stroke:rgb(0%,0%,0%);stroke-opacity:1;stroke-miterlimit:10;\" d=\"M 158.304688 189.125 C 158.304688 194.644531 153.828125 199.125 148.304688 199.125 C 142.78125 199.125 138.304688 194.644531 138.304688 189.125 C 138.304688 183.601563 142.78125 179.125 148.304688 179.125 C 153.828125 179.125 158.304688 183.601563 158.304688 189.125 \"/>\n",
       "<path style=\"fill-rule:nonzero;fill:rgb(100%,0%,0%);fill-opacity:1;stroke-width:1;stroke-linecap:butt;stroke-linejoin:miter;stroke:rgb(0%,0%,0%);stroke-opacity:1;stroke-miterlimit:10;\" d=\"M 178.960938 281.59375 C 178.960938 287.117188 174.484375 291.59375 168.960938 291.59375 C 163.4375 291.59375 158.960938 287.117188 158.960938 281.59375 C 158.960938 276.070313 163.4375 271.59375 168.960938 271.59375 C 174.484375 271.59375 178.960938 276.070313 178.960938 281.59375 \"/>\n",
       "<path style=\"fill-rule:nonzero;fill:rgb(100%,0%,0%);fill-opacity:1;stroke-width:1;stroke-linecap:butt;stroke-linejoin:miter;stroke:rgb(0%,0%,0%);stroke-opacity:1;stroke-miterlimit:10;\" d=\"M 193.335938 524.640625 C 193.335938 530.164063 188.859375 534.640625 183.335938 534.640625 C 177.8125 534.640625 173.335938 530.164063 173.335938 524.640625 C 173.335938 519.117188 177.8125 514.640625 183.335938 514.640625 C 188.859375 514.640625 193.335938 519.117188 193.335938 524.640625 \"/>\n",
       "<path style=\"fill-rule:nonzero;fill:rgb(100%,0%,0%);fill-opacity:1;stroke-width:1;stroke-linecap:butt;stroke-linejoin:miter;stroke:rgb(0%,0%,0%);stroke-opacity:1;stroke-miterlimit:10;\" d=\"M 218.351563 180.722656 C 218.351563 186.246094 213.875 190.722656 208.351563 190.722656 C 202.828125 190.722656 198.351563 186.246094 198.351563 180.722656 C 198.351563 175.199219 202.828125 170.722656 208.351563 170.722656 C 213.875 170.722656 218.351563 175.199219 218.351563 180.722656 \"/>\n",
       "<path style=\"fill-rule:nonzero;fill:rgb(100%,0%,0%);fill-opacity:1;stroke-width:1;stroke-linecap:butt;stroke-linejoin:miter;stroke:rgb(0%,0%,0%);stroke-opacity:1;stroke-miterlimit:10;\" d=\"M 221.402344 57.609375 C 221.402344 63.132813 216.925781 67.609375 211.402344 67.609375 C 205.878906 67.609375 201.402344 63.132813 201.402344 57.609375 C 201.402344 52.085938 205.878906 47.609375 211.402344 47.609375 C 216.925781 47.609375 221.402344 52.085938 221.402344 57.609375 \"/>\n",
       "<path style=\"fill-rule:nonzero;fill:rgb(100%,0%,0%);fill-opacity:1;stroke-width:1;stroke-linecap:butt;stroke-linejoin:miter;stroke:rgb(0%,0%,0%);stroke-opacity:1;stroke-miterlimit:10;\" d=\"M 229.734375 421.523438 C 229.734375 427.046875 225.257813 431.523438 219.734375 431.523438 C 214.214844 431.523438 209.734375 427.046875 209.734375 421.523438 C 209.734375 416 214.214844 411.523438 219.734375 411.523438 C 225.257813 411.523438 229.734375 416 229.734375 421.523438 \"/>\n",
       "<path style=\"fill-rule:nonzero;fill:rgb(100%,0%,0%);fill-opacity:1;stroke-width:1;stroke-linecap:butt;stroke-linejoin:miter;stroke:rgb(0%,0%,0%);stroke-opacity:1;stroke-miterlimit:10;\" d=\"M 236.03125 483.527344 C 236.03125 489.046875 231.554688 493.527344 226.03125 493.527344 C 220.507813 493.527344 216.03125 489.046875 216.03125 483.527344 C 216.03125 478.003906 220.507813 473.527344 226.03125 473.527344 C 231.554688 473.527344 236.03125 478.003906 236.03125 483.527344 \"/>\n",
       "<path style=\"fill-rule:nonzero;fill:rgb(100%,0%,0%);fill-opacity:1;stroke-width:1;stroke-linecap:butt;stroke-linejoin:miter;stroke:rgb(0%,0%,0%);stroke-opacity:1;stroke-miterlimit:10;\" d=\"M 239.152344 158.191406 C 239.152344 163.710938 234.675781 168.191406 229.152344 168.191406 C 223.628906 168.191406 219.152344 163.710938 219.152344 158.191406 C 219.152344 152.667969 223.628906 148.191406 229.152344 148.191406 C 234.675781 148.191406 239.152344 152.667969 239.152344 158.191406 \"/>\n",
       "<path style=\"fill-rule:nonzero;fill:rgb(100%,0%,0%);fill-opacity:1;stroke-width:1;stroke-linecap:butt;stroke-linejoin:miter;stroke:rgb(0%,0%,0%);stroke-opacity:1;stroke-miterlimit:10;\" d=\"M 253.253906 76.382813 C 253.253906 81.90625 248.777344 86.382813 243.253906 86.382813 C 237.730469 86.382813 233.253906 81.90625 233.253906 76.382813 C 233.253906 70.859375 237.730469 66.382813 243.253906 66.382813 C 248.777344 66.382813 253.253906 70.859375 253.253906 76.382813 \"/>\n",
       "<path style=\"fill-rule:nonzero;fill:rgb(100%,0%,0%);fill-opacity:1;stroke-width:1;stroke-linecap:butt;stroke-linejoin:miter;stroke:rgb(0%,0%,0%);stroke-opacity:1;stroke-miterlimit:10;\" d=\"M 260.699219 340.722656 C 260.699219 346.246094 256.222656 350.722656 250.699219 350.722656 C 245.179688 350.722656 240.699219 346.246094 240.699219 340.722656 C 240.699219 335.199219 245.179688 330.722656 250.699219 330.722656 C 256.222656 330.722656 260.699219 335.199219 260.699219 340.722656 \"/>\n",
       "<path style=\"fill-rule:nonzero;fill:rgb(100%,0%,0%);fill-opacity:1;stroke-width:1;stroke-linecap:butt;stroke-linejoin:miter;stroke:rgb(0%,0%,0%);stroke-opacity:1;stroke-miterlimit:10;\" d=\"M 265.457031 124.144531 C 265.457031 129.667969 260.980469 134.144531 255.457031 134.144531 C 249.933594 134.144531 245.457031 129.667969 245.457031 124.144531 C 245.457031 118.621094 249.933594 114.144531 255.457031 114.144531 C 260.980469 114.144531 265.457031 118.621094 265.457031 124.144531 \"/>\n",
       "<path style=\"fill-rule:nonzero;fill:rgb(100%,0%,0%);fill-opacity:1;stroke-width:1;stroke-linecap:butt;stroke-linejoin:miter;stroke:rgb(0%,0%,0%);stroke-opacity:1;stroke-miterlimit:10;\" d=\"M 267.554688 98.214844 C 267.554688 103.738281 263.074219 108.214844 257.554688 108.214844 C 252.03125 108.214844 247.554688 103.738281 247.554688 98.214844 C 247.554688 92.695313 252.03125 88.214844 257.554688 88.214844 C 263.074219 88.214844 267.554688 92.695313 267.554688 98.214844 \"/>\n",
       "<path style=\"fill-rule:nonzero;fill:rgb(100%,0%,0%);fill-opacity:1;stroke-width:1;stroke-linecap:butt;stroke-linejoin:miter;stroke:rgb(0%,0%,0%);stroke-opacity:1;stroke-miterlimit:10;\" d=\"M 269.015625 376.601563 C 269.015625 382.125 264.539063 386.601563 259.015625 386.601563 C 253.492188 386.601563 249.015625 382.125 249.015625 376.601563 C 249.015625 371.082031 253.492188 366.601563 259.015625 366.601563 C 264.539063 366.601563 269.015625 371.082031 269.015625 376.601563 \"/>\n",
       "<path style=\"fill-rule:nonzero;fill:rgb(100%,0%,0%);fill-opacity:1;stroke-width:1;stroke-linecap:butt;stroke-linejoin:miter;stroke:rgb(0%,0%,0%);stroke-opacity:1;stroke-miterlimit:10;\" d=\"M 271.53125 516.679688 C 271.53125 522.203125 267.054688 526.679688 261.53125 526.679688 C 256.007813 526.679688 251.53125 522.203125 251.53125 516.679688 C 251.53125 511.15625 256.007813 506.679688 261.53125 506.679688 C 267.054688 506.679688 271.53125 511.15625 271.53125 516.679688 \"/>\n",
       "<path style=\"fill-rule:nonzero;fill:rgb(100%,0%,0%);fill-opacity:1;stroke-width:1;stroke-linecap:butt;stroke-linejoin:miter;stroke:rgb(0%,0%,0%);stroke-opacity:1;stroke-miterlimit:10;\" d=\"M 273.652344 90.828125 C 273.652344 96.351563 269.175781 100.828125 263.652344 100.828125 C 258.128906 100.828125 253.652344 96.351563 253.652344 90.828125 C 253.652344 85.304688 258.128906 80.828125 263.652344 80.828125 C 269.175781 80.828125 273.652344 85.304688 273.652344 90.828125 \"/>\n",
       "<path style=\"fill-rule:nonzero;fill:rgb(100%,0%,0%);fill-opacity:1;stroke-width:1;stroke-linecap:butt;stroke-linejoin:miter;stroke:rgb(0%,0%,0%);stroke-opacity:1;stroke-miterlimit:10;\" d=\"M 275.402344 136.371094 C 275.402344 141.894531 270.925781 146.371094 265.402344 146.371094 C 259.882813 146.371094 255.402344 141.894531 255.402344 136.371094 C 255.402344 130.851563 259.882813 126.371094 265.402344 126.371094 C 270.925781 126.371094 275.402344 130.851563 275.402344 136.371094 \"/>\n",
       "<path style=\"fill-rule:nonzero;fill:rgb(100%,0%,0%);fill-opacity:1;stroke-width:1;stroke-linecap:butt;stroke-linejoin:miter;stroke:rgb(0%,0%,0%);stroke-opacity:1;stroke-miterlimit:10;\" d=\"M 275.785156 98.652344 C 275.785156 104.175781 271.308594 108.652344 265.785156 108.652344 C 260.265625 108.652344 255.785156 104.175781 255.785156 98.652344 C 255.785156 93.128906 260.265625 88.652344 265.785156 88.652344 C 271.308594 88.652344 275.785156 93.128906 275.785156 98.652344 \"/>\n",
       "<path style=\"fill-rule:nonzero;fill:rgb(100%,0%,0%);fill-opacity:1;stroke-width:1;stroke-linecap:butt;stroke-linejoin:miter;stroke:rgb(0%,0%,0%);stroke-opacity:1;stroke-miterlimit:10;\" d=\"M 276.183594 20 C 276.183594 25.523438 271.707031 30 266.183594 30 C 260.660156 30 256.183594 25.523438 256.183594 20 C 256.183594 14.476563 260.660156 10 266.183594 10 C 271.707031 10 276.183594 14.476563 276.183594 20 \"/>\n",
       "<path style=\"fill-rule:nonzero;fill:rgb(100%,0%,0%);fill-opacity:1;stroke-width:1;stroke-linecap:butt;stroke-linejoin:miter;stroke:rgb(0%,0%,0%);stroke-opacity:1;stroke-miterlimit:10;\" d=\"M 285.480469 283.492188 C 285.480469 289.015625 281.003906 293.492188 275.480469 293.492188 C 269.957031 293.492188 265.480469 289.015625 265.480469 283.492188 C 265.480469 277.96875 269.957031 273.492188 275.480469 273.492188 C 281.003906 273.492188 285.480469 277.96875 285.480469 283.492188 \"/>\n",
       "<path style=\"fill-rule:nonzero;fill:rgb(100%,0%,0%);fill-opacity:1;stroke-width:1;stroke-linecap:butt;stroke-linejoin:miter;stroke:rgb(0%,0%,0%);stroke-opacity:1;stroke-miterlimit:10;\" d=\"M 298.660156 482.234375 C 298.660156 487.757813 294.183594 492.234375 288.660156 492.234375 C 283.136719 492.234375 278.660156 487.757813 278.660156 482.234375 C 278.660156 476.714844 283.136719 472.234375 288.660156 472.234375 C 294.183594 472.234375 298.660156 476.714844 298.660156 482.234375 \"/>\n",
       "<path style=\"fill-rule:nonzero;fill:rgb(100%,0%,0%);fill-opacity:1;stroke-width:1;stroke-linecap:butt;stroke-linejoin:miter;stroke:rgb(0%,0%,0%);stroke-opacity:1;stroke-miterlimit:10;\" d=\"M 302.925781 46.511719 C 302.925781 52.035156 298.445313 56.511719 292.925781 56.511719 C 287.402344 56.511719 282.925781 52.035156 282.925781 46.511719 C 282.925781 40.988281 287.402344 36.511719 292.925781 36.511719 C 298.445313 36.511719 302.925781 40.988281 302.925781 46.511719 \"/>\n",
       "<path style=\"fill-rule:nonzero;fill:rgb(100%,0%,0%);fill-opacity:1;stroke-width:1;stroke-linecap:butt;stroke-linejoin:miter;stroke:rgb(0%,0%,0%);stroke-opacity:1;stroke-miterlimit:10;\" d=\"M 310.421875 258.496094 C 310.421875 264.015625 305.945313 268.496094 300.421875 268.496094 C 294.898438 268.496094 290.421875 264.015625 290.421875 258.496094 C 290.421875 252.972656 294.898438 248.496094 300.421875 248.496094 C 305.945313 248.496094 310.421875 252.972656 310.421875 258.496094 \"/>\n",
       "<path style=\"fill-rule:nonzero;fill:rgb(100%,0%,0%);fill-opacity:1;stroke-width:1;stroke-linecap:butt;stroke-linejoin:miter;stroke:rgb(0%,0%,0%);stroke-opacity:1;stroke-miterlimit:10;\" d=\"M 312.808594 494.929688 C 312.808594 500.449219 308.332031 504.929688 302.808594 504.929688 C 297.289063 504.929688 292.808594 500.449219 292.808594 494.929688 C 292.808594 489.40625 297.289063 484.929688 302.808594 484.929688 C 308.332031 484.929688 312.808594 489.40625 312.808594 494.929688 \"/>\n",
       "<path style=\"fill-rule:nonzero;fill:rgb(100%,0%,0%);fill-opacity:1;stroke-width:1;stroke-linecap:butt;stroke-linejoin:miter;stroke:rgb(0%,0%,0%);stroke-opacity:1;stroke-miterlimit:10;\" d=\"M 324.46875 295.644531 C 324.46875 301.167969 319.992188 305.644531 314.46875 305.644531 C 308.945313 305.644531 304.46875 301.167969 304.46875 295.644531 C 304.46875 290.121094 308.945313 285.644531 314.46875 285.644531 C 319.992188 285.644531 324.46875 290.121094 324.46875 295.644531 \"/>\n",
       "<path style=\"fill-rule:nonzero;fill:rgb(100%,0%,0%);fill-opacity:1;stroke-width:1;stroke-linecap:butt;stroke-linejoin:miter;stroke:rgb(0%,0%,0%);stroke-opacity:1;stroke-miterlimit:10;\" d=\"M 327.503906 500.929688 C 327.503906 506.453125 323.023438 510.929688 317.503906 510.929688 C 311.980469 510.929688 307.503906 506.453125 307.503906 500.929688 C 307.503906 495.40625 311.980469 490.929688 317.503906 490.929688 C 323.023438 490.929688 327.503906 495.40625 327.503906 500.929688 \"/>\n",
       "<path style=\"fill-rule:nonzero;fill:rgb(100%,0%,0%);fill-opacity:1;stroke-width:1;stroke-linecap:butt;stroke-linejoin:miter;stroke:rgb(0%,0%,0%);stroke-opacity:1;stroke-miterlimit:10;\" d=\"M 328.34375 90.804688 C 328.34375 96.328125 323.867188 100.804688 318.34375 100.804688 C 312.820313 100.804688 308.34375 96.328125 308.34375 90.804688 C 308.34375 85.28125 312.820313 80.804688 318.34375 80.804688 C 323.867188 80.804688 328.34375 85.28125 328.34375 90.804688 \"/>\n",
       "<path style=\"fill-rule:nonzero;fill:rgb(100%,0%,0%);fill-opacity:1;stroke-width:1;stroke-linecap:butt;stroke-linejoin:miter;stroke:rgb(0%,0%,0%);stroke-opacity:1;stroke-miterlimit:10;\" d=\"M 331.125 110.582031 C 331.125 116.105469 326.648438 120.582031 321.125 120.582031 C 315.601563 120.582031 311.125 116.105469 311.125 110.582031 C 311.125 105.058594 315.601563 100.582031 321.125 100.582031 C 326.648438 100.582031 331.125 105.058594 331.125 110.582031 \"/>\n",
       "<path style=\"fill-rule:nonzero;fill:rgb(100%,0%,0%);fill-opacity:1;stroke-width:1;stroke-linecap:butt;stroke-linejoin:miter;stroke:rgb(0%,0%,0%);stroke-opacity:1;stroke-miterlimit:10;\" d=\"M 345.960938 53.847656 C 345.960938 59.371094 341.484375 63.847656 335.960938 63.847656 C 330.441406 63.847656 325.960938 59.371094 325.960938 53.847656 C 325.960938 48.328125 330.441406 43.847656 335.960938 43.847656 C 341.484375 43.847656 345.960938 48.328125 345.960938 53.847656 \"/>\n",
       "<path style=\"fill-rule:nonzero;fill:rgb(100%,0%,0%);fill-opacity:1;stroke-width:1;stroke-linecap:butt;stroke-linejoin:miter;stroke:rgb(0%,0%,0%);stroke-opacity:1;stroke-miterlimit:10;\" d=\"M 351.757813 185.039063 C 351.757813 190.5625 347.28125 195.039063 341.757813 195.039063 C 336.238281 195.039063 331.757813 190.5625 331.757813 185.039063 C 331.757813 179.515625 336.238281 175.039063 341.757813 175.039063 C 347.28125 175.039063 351.757813 179.515625 351.757813 185.039063 \"/>\n",
       "<path style=\"fill-rule:nonzero;fill:rgb(100%,0%,0%);fill-opacity:1;stroke-width:1;stroke-linecap:butt;stroke-linejoin:miter;stroke:rgb(0%,0%,0%);stroke-opacity:1;stroke-miterlimit:10;\" d=\"M 352.671875 419.175781 C 352.671875 424.695313 348.195313 429.175781 342.671875 429.175781 C 337.148438 429.175781 332.671875 424.695313 332.671875 419.175781 C 332.671875 413.652344 337.148438 409.175781 342.671875 409.175781 C 348.195313 409.175781 352.671875 413.652344 352.671875 419.175781 \"/>\n",
       "<path style=\"fill-rule:nonzero;fill:rgb(100%,0%,0%);fill-opacity:1;stroke-width:1;stroke-linecap:butt;stroke-linejoin:miter;stroke:rgb(0%,0%,0%);stroke-opacity:1;stroke-miterlimit:10;\" d=\"M 358.980469 268.269531 C 358.980469 273.792969 354.503906 278.269531 348.980469 278.269531 C 343.457031 278.269531 338.980469 273.792969 338.980469 268.269531 C 338.980469 262.746094 343.457031 258.269531 348.980469 258.269531 C 354.503906 258.269531 358.980469 262.746094 358.980469 268.269531 \"/>\n",
       "<path style=\"fill-rule:nonzero;fill:rgb(100%,0%,0%);fill-opacity:1;stroke-width:1;stroke-linecap:butt;stroke-linejoin:miter;stroke:rgb(0%,0%,0%);stroke-opacity:1;stroke-miterlimit:10;\" d=\"M 362.621094 400.988281 C 362.621094 406.507813 358.144531 410.988281 352.621094 410.988281 C 347.101563 410.988281 342.621094 406.507813 342.621094 400.988281 C 342.621094 395.464844 347.101563 390.988281 352.621094 390.988281 C 358.144531 390.988281 362.621094 395.464844 362.621094 400.988281 \"/>\n",
       "<path style=\"fill-rule:nonzero;fill:rgb(100%,0%,0%);fill-opacity:1;stroke-width:1;stroke-linecap:butt;stroke-linejoin:miter;stroke:rgb(0%,0%,0%);stroke-opacity:1;stroke-miterlimit:10;\" d=\"M 363.722656 37.527344 C 363.722656 43.050781 359.246094 47.527344 353.722656 47.527344 C 348.199219 47.527344 343.722656 43.050781 343.722656 37.527344 C 343.722656 32.003906 348.199219 27.527344 353.722656 27.527344 C 359.246094 27.527344 363.722656 32.003906 363.722656 37.527344 \"/>\n",
       "<path style=\"fill-rule:nonzero;fill:rgb(100%,0%,0%);fill-opacity:1;stroke-width:1;stroke-linecap:butt;stroke-linejoin:miter;stroke:rgb(0%,0%,0%);stroke-opacity:1;stroke-miterlimit:10;\" d=\"M 364.238281 207.875 C 364.238281 213.398438 359.761719 217.875 354.238281 217.875 C 348.714844 217.875 344.238281 213.398438 344.238281 207.875 C 344.238281 202.351563 348.714844 197.875 354.238281 197.875 C 359.761719 197.875 364.238281 202.351563 364.238281 207.875 \"/>\n",
       "<path style=\"fill-rule:nonzero;fill:rgb(100%,0%,0%);fill-opacity:1;stroke-width:1;stroke-linecap:butt;stroke-linejoin:miter;stroke:rgb(0%,0%,0%);stroke-opacity:1;stroke-miterlimit:10;\" d=\"M 367.851563 190.421875 C 367.851563 195.945313 363.375 200.421875 357.851563 200.421875 C 352.328125 200.421875 347.851563 195.945313 347.851563 190.421875 C 347.851563 184.902344 352.328125 180.421875 357.851563 180.421875 C 363.375 180.421875 367.851563 184.902344 367.851563 190.421875 \"/>\n",
       "<path style=\"fill-rule:nonzero;fill:rgb(100%,0%,0%);fill-opacity:1;stroke-width:1;stroke-linecap:butt;stroke-linejoin:miter;stroke:rgb(0%,0%,0%);stroke-opacity:1;stroke-miterlimit:10;\" d=\"M 369.664063 449.144531 C 369.664063 454.667969 365.1875 459.144531 359.664063 459.144531 C 354.140625 459.144531 349.664063 454.667969 349.664063 449.144531 C 349.664063 443.621094 354.140625 439.144531 359.664063 439.144531 C 365.1875 439.144531 369.664063 443.621094 369.664063 449.144531 \"/>\n",
       "<path style=\"fill-rule:nonzero;fill:rgb(100%,0%,0%);fill-opacity:1;stroke-width:1;stroke-linecap:butt;stroke-linejoin:miter;stroke:rgb(0%,0%,0%);stroke-opacity:1;stroke-miterlimit:10;\" d=\"M 377.261719 272.402344 C 377.261719 277.925781 372.785156 282.402344 367.261719 282.402344 C 361.738281 282.402344 357.261719 277.925781 357.261719 272.402344 C 357.261719 266.882813 361.738281 262.402344 367.261719 262.402344 C 372.785156 262.402344 377.261719 266.882813 377.261719 272.402344 \"/>\n",
       "<path style=\"fill-rule:nonzero;fill:rgb(100%,0%,0%);fill-opacity:1;stroke-width:1;stroke-linecap:butt;stroke-linejoin:miter;stroke:rgb(0%,0%,0%);stroke-opacity:1;stroke-miterlimit:10;\" d=\"M 384.617188 566.457031 C 384.617188 571.980469 380.140625 576.457031 374.617188 576.457031 C 369.09375 576.457031 364.617188 571.980469 364.617188 566.457031 C 364.617188 560.933594 369.09375 556.457031 374.617188 556.457031 C 380.140625 556.457031 384.617188 560.933594 384.617188 566.457031 \"/>\n",
       "<path style=\"fill-rule:nonzero;fill:rgb(100%,0%,0%);fill-opacity:1;stroke-width:1;stroke-linecap:butt;stroke-linejoin:miter;stroke:rgb(0%,0%,0%);stroke-opacity:1;stroke-miterlimit:10;\" d=\"M 386.472656 400.414063 C 386.472656 405.9375 381.996094 410.414063 376.472656 410.414063 C 370.949219 410.414063 366.472656 405.9375 366.472656 400.414063 C 366.472656 394.890625 370.949219 390.414063 376.472656 390.414063 C 381.996094 390.414063 386.472656 394.890625 386.472656 400.414063 \"/>\n",
       "<path style=\"fill-rule:nonzero;fill:rgb(100%,0%,0%);fill-opacity:1;stroke-width:1;stroke-linecap:butt;stroke-linejoin:miter;stroke:rgb(0%,0%,0%);stroke-opacity:1;stroke-miterlimit:10;\" d=\"M 390.535156 383.453125 C 390.535156 388.976563 386.054688 393.453125 380.535156 393.453125 C 375.011719 393.453125 370.535156 388.976563 370.535156 383.453125 C 370.535156 377.929688 375.011719 373.453125 380.535156 373.453125 C 386.054688 373.453125 390.535156 377.929688 390.535156 383.453125 \"/>\n",
       "<path style=\"fill-rule:nonzero;fill:rgb(100%,0%,0%);fill-opacity:1;stroke-width:1;stroke-linecap:butt;stroke-linejoin:miter;stroke:rgb(0%,0%,0%);stroke-opacity:1;stroke-miterlimit:10;\" d=\"M 394.0625 327.136719 C 394.0625 332.660156 389.585938 337.136719 384.0625 337.136719 C 378.539063 337.136719 374.0625 332.660156 374.0625 327.136719 C 374.0625 321.613281 378.539063 317.136719 384.0625 317.136719 C 389.585938 317.136719 394.0625 321.613281 394.0625 327.136719 \"/>\n",
       "<path style=\"fill-rule:nonzero;fill:rgb(100%,0%,0%);fill-opacity:1;stroke-width:1;stroke-linecap:butt;stroke-linejoin:miter;stroke:rgb(0%,0%,0%);stroke-opacity:1;stroke-miterlimit:10;\" d=\"M 403.878906 175.4375 C 403.878906 180.960938 399.402344 185.4375 393.878906 185.4375 C 388.355469 185.4375 383.878906 180.960938 383.878906 175.4375 C 383.878906 169.917969 388.355469 165.4375 393.878906 165.4375 C 399.402344 165.4375 403.878906 169.917969 403.878906 175.4375 \"/>\n",
       "<path style=\"fill-rule:nonzero;fill:rgb(100%,0%,0%);fill-opacity:1;stroke-width:1;stroke-linecap:butt;stroke-linejoin:miter;stroke:rgb(0%,0%,0%);stroke-opacity:1;stroke-miterlimit:10;\" d=\"M 404.085938 325.675781 C 404.085938 331.199219 399.609375 335.675781 394.085938 335.675781 C 388.5625 335.675781 384.085938 331.199219 384.085938 325.675781 C 384.085938 320.152344 388.5625 315.675781 394.085938 315.675781 C 399.609375 315.675781 404.085938 320.152344 404.085938 325.675781 \"/>\n",
       "<path style=\"fill-rule:nonzero;fill:rgb(100%,0%,0%);fill-opacity:1;stroke-width:1;stroke-linecap:butt;stroke-linejoin:miter;stroke:rgb(0%,0%,0%);stroke-opacity:1;stroke-miterlimit:10;\" d=\"M 406.847656 396.8125 C 406.847656 402.335938 402.371094 406.8125 396.847656 406.8125 C 391.324219 406.8125 386.847656 402.335938 386.847656 396.8125 C 386.847656 391.289063 391.324219 386.8125 396.847656 386.8125 C 402.371094 386.8125 406.847656 391.289063 406.847656 396.8125 \"/>\n",
       "<path style=\"fill-rule:nonzero;fill:rgb(100%,0%,0%);fill-opacity:1;stroke-width:1;stroke-linecap:butt;stroke-linejoin:miter;stroke:rgb(0%,0%,0%);stroke-opacity:1;stroke-miterlimit:10;\" d=\"M 407.328125 157.324219 C 407.328125 162.847656 402.851563 167.324219 397.328125 167.324219 C 391.804688 167.324219 387.328125 162.847656 387.328125 157.324219 C 387.328125 151.800781 391.804688 147.324219 397.328125 147.324219 C 402.851563 147.324219 407.328125 151.800781 407.328125 157.324219 \"/>\n",
       "<path style=\"fill-rule:nonzero;fill:rgb(100%,0%,0%);fill-opacity:1;stroke-width:1;stroke-linecap:butt;stroke-linejoin:miter;stroke:rgb(0%,0%,0%);stroke-opacity:1;stroke-miterlimit:10;\" d=\"M 430.546875 383.070313 C 430.546875 388.59375 426.070313 393.070313 420.546875 393.070313 C 415.023438 393.070313 410.546875 388.59375 410.546875 383.070313 C 410.546875 377.546875 415.023438 373.070313 420.546875 373.070313 C 426.070313 373.070313 430.546875 377.546875 430.546875 383.070313 \"/>\n",
       "<path style=\"fill-rule:nonzero;fill:rgb(100%,0%,0%);fill-opacity:1;stroke-width:1;stroke-linecap:butt;stroke-linejoin:miter;stroke:rgb(0%,0%,0%);stroke-opacity:1;stroke-miterlimit:10;\" d=\"M 437.242188 315.921875 C 437.242188 321.445313 432.765625 325.921875 427.242188 325.921875 C 421.71875 325.921875 417.242188 321.445313 417.242188 315.921875 C 417.242188 310.398438 421.71875 305.921875 427.242188 305.921875 C 432.765625 305.921875 437.242188 310.398438 437.242188 315.921875 \"/>\n",
       "<path style=\"fill-rule:nonzero;fill:rgb(100%,0%,0%);fill-opacity:1;stroke-width:1;stroke-linecap:butt;stroke-linejoin:miter;stroke:rgb(0%,0%,0%);stroke-opacity:1;stroke-miterlimit:10;\" d=\"M 441.152344 166.148438 C 441.152344 171.671875 436.671875 176.148438 431.152344 176.148438 C 425.628906 176.148438 421.152344 171.671875 421.152344 166.148438 C 421.152344 160.625 425.628906 156.148438 431.152344 156.148438 C 436.671875 156.148438 441.152344 160.625 441.152344 166.148438 \"/>\n",
       "<path style=\"fill-rule:nonzero;fill:rgb(100%,0%,0%);fill-opacity:1;stroke-width:1;stroke-linecap:butt;stroke-linejoin:miter;stroke:rgb(0%,0%,0%);stroke-opacity:1;stroke-miterlimit:10;\" d=\"M 442.335938 154.742188 C 442.335938 160.265625 437.859375 164.742188 432.335938 164.742188 C 426.8125 164.742188 422.335938 160.265625 422.335938 154.742188 C 422.335938 149.21875 426.8125 144.742188 432.335938 144.742188 C 437.859375 144.742188 442.335938 149.21875 442.335938 154.742188 \"/>\n",
       "<path style=\"fill-rule:nonzero;fill:rgb(100%,0%,0%);fill-opacity:1;stroke-width:1;stroke-linecap:butt;stroke-linejoin:miter;stroke:rgb(0%,0%,0%);stroke-opacity:1;stroke-miterlimit:10;\" d=\"M 443.148438 436.820313 C 443.148438 442.34375 438.671875 446.820313 433.148438 446.820313 C 427.625 446.820313 423.148438 442.34375 423.148438 436.820313 C 423.148438 431.296875 427.625 426.820313 433.148438 426.820313 C 438.671875 426.820313 443.148438 431.296875 443.148438 436.820313 \"/>\n",
       "<path style=\"fill-rule:nonzero;fill:rgb(100%,0%,0%);fill-opacity:1;stroke-width:1;stroke-linecap:butt;stroke-linejoin:miter;stroke:rgb(0%,0%,0%);stroke-opacity:1;stroke-miterlimit:10;\" d=\"M 450.914063 52.488281 C 450.914063 58.011719 446.4375 62.488281 440.914063 62.488281 C 435.394531 62.488281 430.914063 58.011719 430.914063 52.488281 C 430.914063 46.964844 435.394531 42.488281 440.914063 42.488281 C 446.4375 42.488281 450.914063 46.964844 450.914063 52.488281 \"/>\n",
       "<path style=\"fill-rule:nonzero;fill:rgb(100%,0%,0%);fill-opacity:1;stroke-width:1;stroke-linecap:butt;stroke-linejoin:miter;stroke:rgb(0%,0%,0%);stroke-opacity:1;stroke-miterlimit:10;\" d=\"M 452.976563 26.867188 C 452.976563 32.386719 448.5 36.867188 442.976563 36.867188 C 437.453125 36.867188 432.976563 32.386719 432.976563 26.867188 C 432.976563 21.34375 437.453125 16.867188 442.976563 16.867188 C 448.5 16.867188 452.976563 21.34375 452.976563 26.867188 \"/>\n",
       "<path style=\"fill-rule:nonzero;fill:rgb(100%,0%,0%);fill-opacity:1;stroke-width:1;stroke-linecap:butt;stroke-linejoin:miter;stroke:rgb(0%,0%,0%);stroke-opacity:1;stroke-miterlimit:10;\" d=\"M 455.046875 309.652344 C 455.046875 315.175781 450.570313 319.652344 445.046875 319.652344 C 439.523438 319.652344 435.046875 315.175781 435.046875 309.652344 C 435.046875 304.128906 439.523438 299.652344 445.046875 299.652344 C 450.570313 299.652344 455.046875 304.128906 455.046875 309.652344 \"/>\n",
       "<path style=\"fill-rule:nonzero;fill:rgb(100%,0%,0%);fill-opacity:1;stroke-width:1;stroke-linecap:butt;stroke-linejoin:miter;stroke:rgb(0%,0%,0%);stroke-opacity:1;stroke-miterlimit:10;\" d=\"M 464.234375 162.15625 C 464.234375 167.679688 459.757813 172.15625 454.234375 172.15625 C 448.714844 172.15625 444.234375 167.679688 444.234375 162.15625 C 444.234375 156.632813 448.714844 152.15625 454.234375 152.15625 C 459.757813 152.15625 464.234375 156.632813 464.234375 162.15625 \"/>\n",
       "<path style=\"fill-rule:nonzero;fill:rgb(100%,0%,0%);fill-opacity:1;stroke-width:1;stroke-linecap:butt;stroke-linejoin:miter;stroke:rgb(0%,0%,0%);stroke-opacity:1;stroke-miterlimit:10;\" d=\"M 467.007813 257.128906 C 467.007813 262.652344 462.53125 267.128906 457.007813 267.128906 C 451.484375 267.128906 447.007813 262.652344 447.007813 257.128906 C 447.007813 251.609375 451.484375 247.128906 457.007813 247.128906 C 462.53125 247.128906 467.007813 251.609375 467.007813 257.128906 \"/>\n",
       "<path style=\"fill-rule:nonzero;fill:rgb(100%,0%,0%);fill-opacity:1;stroke-width:1;stroke-linecap:butt;stroke-linejoin:miter;stroke:rgb(0%,0%,0%);stroke-opacity:1;stroke-miterlimit:10;\" d=\"M 470.007813 74.273438 C 470.007813 79.796875 465.53125 84.273438 460.007813 84.273438 C 454.484375 84.273438 450.007813 79.796875 450.007813 74.273438 C 450.007813 68.75 454.484375 64.273438 460.007813 64.273438 C 465.53125 64.273438 470.007813 68.75 470.007813 74.273438 \"/>\n",
       "<path style=\"fill-rule:nonzero;fill:rgb(100%,0%,0%);fill-opacity:1;stroke-width:1;stroke-linecap:butt;stroke-linejoin:miter;stroke:rgb(0%,0%,0%);stroke-opacity:1;stroke-miterlimit:10;\" d=\"M 471.898438 357.5 C 471.898438 363.023438 467.421875 367.5 461.898438 367.5 C 456.378906 367.5 451.898438 363.023438 451.898438 357.5 C 451.898438 351.980469 456.378906 347.5 461.898438 347.5 C 467.421875 347.5 471.898438 351.980469 471.898438 357.5 \"/>\n",
       "<path style=\"fill-rule:nonzero;fill:rgb(100%,0%,0%);fill-opacity:1;stroke-width:1;stroke-linecap:butt;stroke-linejoin:miter;stroke:rgb(0%,0%,0%);stroke-opacity:1;stroke-miterlimit:10;\" d=\"M 473.132813 454.988281 C 473.132813 460.507813 468.65625 464.988281 463.132813 464.988281 C 457.613281 464.988281 453.132813 460.507813 453.132813 454.988281 C 453.132813 449.464844 457.613281 444.988281 463.132813 444.988281 C 468.65625 444.988281 473.132813 449.464844 473.132813 454.988281 \"/>\n",
       "<path style=\"fill-rule:nonzero;fill:rgb(100%,0%,0%);fill-opacity:1;stroke-width:1;stroke-linecap:butt;stroke-linejoin:miter;stroke:rgb(0%,0%,0%);stroke-opacity:1;stroke-miterlimit:10;\" d=\"M 477.769531 191.65625 C 477.769531 197.179688 473.292969 201.65625 467.769531 201.65625 C 462.246094 201.65625 457.769531 197.179688 457.769531 191.65625 C 457.769531 186.132813 462.246094 181.65625 467.769531 181.65625 C 473.292969 181.65625 477.769531 186.132813 477.769531 191.65625 \"/>\n",
       "<path style=\"fill-rule:nonzero;fill:rgb(100%,0%,0%);fill-opacity:1;stroke-width:1;stroke-linecap:butt;stroke-linejoin:miter;stroke:rgb(0%,0%,0%);stroke-opacity:1;stroke-miterlimit:10;\" d=\"M 497.148438 271.691406 C 497.148438 277.214844 492.671875 281.691406 487.148438 281.691406 C 481.625 281.691406 477.148438 277.214844 477.148438 271.691406 C 477.148438 266.167969 481.625 261.691406 487.148438 261.691406 C 492.671875 261.691406 497.148438 266.167969 497.148438 271.691406 \"/>\n",
       "<path style=\"fill-rule:nonzero;fill:rgb(100%,0%,0%);fill-opacity:1;stroke-width:1;stroke-linecap:butt;stroke-linejoin:miter;stroke:rgb(0%,0%,0%);stroke-opacity:1;stroke-miterlimit:10;\" d=\"M 504.269531 550.808594 C 504.269531 556.332031 499.792969 560.808594 494.269531 560.808594 C 488.746094 560.808594 484.269531 556.332031 484.269531 550.808594 C 484.269531 545.285156 488.746094 540.808594 494.269531 540.808594 C 499.792969 540.808594 504.269531 545.285156 504.269531 550.808594 \"/>\n",
       "<path style=\"fill-rule:nonzero;fill:rgb(100%,0%,0%);fill-opacity:1;stroke-width:1;stroke-linecap:butt;stroke-linejoin:miter;stroke:rgb(0%,0%,0%);stroke-opacity:1;stroke-miterlimit:10;\" d=\"M 513.222656 99.214844 C 513.222656 104.738281 508.746094 109.214844 503.222656 109.214844 C 497.703125 109.214844 493.222656 104.738281 493.222656 99.214844 C 493.222656 93.695313 497.703125 89.214844 503.222656 89.214844 C 508.746094 89.214844 513.222656 93.695313 513.222656 99.214844 \"/>\n",
       "<path style=\"fill-rule:nonzero;fill:rgb(100%,0%,0%);fill-opacity:1;stroke-width:1;stroke-linecap:butt;stroke-linejoin:miter;stroke:rgb(0%,0%,0%);stroke-opacity:1;stroke-miterlimit:10;\" d=\"M 514.375 352.316406 C 514.375 357.835938 509.898438 362.316406 504.375 362.316406 C 498.851563 362.316406 494.375 357.835938 494.375 352.316406 C 494.375 346.792969 498.851563 342.316406 504.375 342.316406 C 509.898438 342.316406 514.375 346.792969 514.375 352.316406 \"/>\n",
       "<path style=\"fill-rule:nonzero;fill:rgb(100%,0%,0%);fill-opacity:1;stroke-width:1;stroke-linecap:butt;stroke-linejoin:miter;stroke:rgb(0%,0%,0%);stroke-opacity:1;stroke-miterlimit:10;\" d=\"M 529.804688 132.101563 C 529.804688 137.625 525.328125 142.101563 519.804688 142.101563 C 514.28125 142.101563 509.804688 137.625 509.804688 132.101563 C 509.804688 126.578125 514.28125 122.101563 519.804688 122.101563 C 525.328125 122.101563 529.804688 126.578125 529.804688 132.101563 \"/>\n",
       "<path style=\"fill-rule:nonzero;fill:rgb(100%,0%,0%);fill-opacity:1;stroke-width:1;stroke-linecap:butt;stroke-linejoin:miter;stroke:rgb(0%,0%,0%);stroke-opacity:1;stroke-miterlimit:10;\" d=\"M 533.804688 141.945313 C 533.804688 147.464844 529.328125 151.945313 523.804688 151.945313 C 518.28125 151.945313 513.804688 147.464844 513.804688 141.945313 C 513.804688 136.421875 518.28125 131.945313 523.804688 131.945313 C 529.328125 131.945313 533.804688 136.421875 533.804688 141.945313 \"/>\n",
       "<path style=\"fill-rule:nonzero;fill:rgb(100%,0%,0%);fill-opacity:1;stroke-width:1;stroke-linecap:butt;stroke-linejoin:miter;stroke:rgb(0%,0%,0%);stroke-opacity:1;stroke-miterlimit:10;\" d=\"M 543.402344 264.824219 C 543.402344 270.347656 538.925781 274.824219 533.402344 274.824219 C 527.878906 274.824219 523.402344 270.347656 523.402344 264.824219 C 523.402344 259.300781 527.878906 254.824219 533.402344 254.824219 C 538.925781 254.824219 543.402344 259.300781 543.402344 264.824219 \"/>\n",
       "<path style=\"fill-rule:nonzero;fill:rgb(100%,0%,0%);fill-opacity:1;stroke-width:1;stroke-linecap:butt;stroke-linejoin:miter;stroke:rgb(0%,0%,0%);stroke-opacity:1;stroke-miterlimit:10;\" d=\"M 560.875 414.515625 C 560.875 420.039063 556.398438 424.515625 550.875 424.515625 C 545.351563 424.515625 540.875 420.039063 540.875 414.515625 C 540.875 408.996094 545.351563 404.515625 550.875 404.515625 C 556.398438 404.515625 560.875 408.996094 560.875 414.515625 \"/>\n",
       "<path style=\"fill-rule:nonzero;fill:rgb(100%,0%,0%);fill-opacity:1;stroke-width:1;stroke-linecap:butt;stroke-linejoin:miter;stroke:rgb(0%,0%,0%);stroke-opacity:1;stroke-miterlimit:10;\" d=\"M 563.355469 195.675781 C 563.355469 201.195313 558.878906 205.675781 553.355469 205.675781 C 547.832031 205.675781 543.355469 201.195313 543.355469 195.675781 C 543.355469 190.152344 547.832031 185.675781 553.355469 185.675781 C 558.878906 185.675781 563.355469 190.152344 563.355469 195.675781 \"/>\n",
       "<path style=\"fill-rule:nonzero;fill:rgb(100%,0%,0%);fill-opacity:1;stroke-width:1;stroke-linecap:butt;stroke-linejoin:miter;stroke:rgb(0%,0%,0%);stroke-opacity:1;stroke-miterlimit:10;\" d=\"M 570.222656 466.296875 C 570.222656 471.820313 565.746094 476.296875 560.222656 476.296875 C 554.699219 476.296875 550.222656 471.820313 550.222656 466.296875 C 550.222656 460.773438 554.699219 456.296875 560.222656 456.296875 C 565.746094 456.296875 570.222656 460.773438 570.222656 466.296875 \"/>\n",
       "<path style=\"fill-rule:nonzero;fill:rgb(100%,0%,0%);fill-opacity:1;stroke-width:1;stroke-linecap:butt;stroke-linejoin:miter;stroke:rgb(0%,0%,0%);stroke-opacity:1;stroke-miterlimit:10;\" d=\"M 571.679688 188.167969 C 571.679688 193.691406 567.203125 198.167969 561.679688 198.167969 C 556.15625 198.167969 551.679688 193.691406 551.679688 188.167969 C 551.679688 182.644531 556.15625 178.167969 561.679688 178.167969 C 567.203125 178.167969 571.679688 182.644531 571.679688 188.167969 \"/>\n",
       "<path style=\"fill-rule:nonzero;fill:rgb(100%,0%,0%);fill-opacity:1;stroke-width:1;stroke-linecap:butt;stroke-linejoin:miter;stroke:rgb(0%,0%,0%);stroke-opacity:1;stroke-miterlimit:10;\" d=\"M 577.339844 48.714844 C 577.339844 54.238281 572.863281 58.714844 567.339844 58.714844 C 561.820313 58.714844 557.339844 54.238281 557.339844 48.714844 C 557.339844 43.191406 561.820313 38.714844 567.339844 38.714844 C 572.863281 38.714844 577.339844 43.191406 577.339844 48.714844 \"/>\n",
       "<path style=\"fill-rule:nonzero;fill:rgb(100%,0%,0%);fill-opacity:1;stroke-width:1;stroke-linecap:butt;stroke-linejoin:miter;stroke:rgb(0%,0%,0%);stroke-opacity:1;stroke-miterlimit:10;\" d=\"M 579.257813 489.128906 C 579.257813 494.652344 574.78125 499.128906 569.257813 499.128906 C 563.734375 499.128906 559.257813 494.652344 559.257813 489.128906 C 559.257813 483.609375 563.734375 479.128906 569.257813 479.128906 C 574.78125 479.128906 579.257813 483.609375 579.257813 489.128906 \"/>\n",
       "<path style=\"fill-rule:nonzero;fill:rgb(100%,0%,0%);fill-opacity:1;stroke-width:1;stroke-linecap:butt;stroke-linejoin:miter;stroke:rgb(0%,0%,0%);stroke-opacity:1;stroke-miterlimit:10;\" d=\"M 579.964844 249.625 C 579.964844 255.148438 575.488281 259.625 569.964844 259.625 C 564.441406 259.625 559.964844 255.148438 559.964844 249.625 C 559.964844 244.101563 564.441406 239.625 569.964844 239.625 C 575.488281 239.625 579.964844 244.101563 579.964844 249.625 \"/>\n",
       "<path style=\"fill-rule:nonzero;fill:rgb(100%,0%,0%);fill-opacity:1;stroke-width:1;stroke-linecap:butt;stroke-linejoin:miter;stroke:rgb(0%,0%,0%);stroke-opacity:1;stroke-miterlimit:10;\" d=\"M 585.730469 37.644531 C 585.730469 43.167969 581.253906 47.644531 575.730469 47.644531 C 570.207031 47.644531 565.730469 43.167969 565.730469 37.644531 C 565.730469 32.121094 570.207031 27.644531 575.730469 27.644531 C 581.253906 27.644531 585.730469 32.121094 585.730469 37.644531 \"/>\n",
       "<path style=\"fill-rule:nonzero;fill:rgb(100%,0%,0%);fill-opacity:1;stroke-width:1;stroke-linecap:butt;stroke-linejoin:miter;stroke:rgb(0%,0%,0%);stroke-opacity:1;stroke-miterlimit:10;\" d=\"M 587.105469 311.191406 C 587.105469 316.714844 582.628906 321.191406 577.105469 321.191406 C 571.582031 321.191406 567.105469 316.714844 567.105469 311.191406 C 567.105469 305.671875 571.582031 301.191406 577.105469 301.191406 C 582.628906 301.191406 587.105469 305.671875 587.105469 311.191406 \"/>\n",
       "<path style=\"fill-rule:nonzero;fill:rgb(100%,0%,0%);fill-opacity:1;stroke-width:1;stroke-linecap:butt;stroke-linejoin:miter;stroke:rgb(0%,0%,0%);stroke-opacity:1;stroke-miterlimit:10;\" d=\"M 590 410.253906 C 590 415.777344 585.523438 420.253906 580 420.253906 C 574.476563 420.253906 570 415.777344 570 410.253906 C 570 404.730469 574.476563 400.253906 580 400.253906 C 585.523438 400.253906 590 404.730469 590 410.253906 \"/>\n",
       "</g>\n",
       "</svg>\n"
      ],
      "text/plain": [
       "<igraph.drawing.Plot at 0x645dba8>"
      ]
     },
     "execution_count": 26,
     "metadata": {},
     "output_type": "execute_result"
    }
   ],
   "source": [
    "plot(g2)"
   ]
  },
  {
   "cell_type": "code",
   "execution_count": 27,
   "metadata": {},
   "outputs": [
    {
     "data": {
      "text/plain": [
       "False"
      ]
     },
     "execution_count": 27,
     "metadata": {},
     "output_type": "execute_result"
    }
   ],
   "source": [
    "# 由于算法的随机性，有可能您得到的确切图形不同，因此总结中的上述值与您得到的值不匹配。 这是正常的和预期的。\n",
    "g2.get_edgelist()==g.get_edgelist() "
   ]
  },
  {
   "cell_type": "code",
   "execution_count": 28,
   "metadata": {},
   "outputs": [
    {
     "data": {
      "text/plain": [
       "False"
      ]
     },
     "execution_count": 28,
     "metadata": {},
     "output_type": "execute_result"
    }
   ],
   "source": [
    "# 判断两张图是否是同构的。 一般情况下，这可能需要很长时间，特别是对于大图，但在我们的情况下，通过检查两个图的度分布可以很快得出答案。\n",
    "g.isomorphic(g2)"
   ]
  },
  {
   "cell_type": "markdown",
   "metadata": {},
   "source": [
    "# 4.Setting and retrieving attributes"
   ]
  },
  {
   "cell_type": "markdown",
   "metadata": {},
   "source": [
    "igraph在其核心使用顶点和边ID。这些ID是从零开始的整数，并且在图的生命周期内的任何给定的时间实例上,它们总是连续的。这意味着无论何时删除顶点和边，一大组边和可能的顶点ID将被重新编号以确保连续性。现在让我们假设我们的图是一个社交网络，顶点代表人，边代表社交网络。维护顶点ID之间的关联的一种方法是，相应的名称是一个额外的Python列表，从顶点ID到名称的映射。这种方法的缺点是这个附加列表必须与原始图形的修改并行保持。幸运的是，igraph知道属性的概念，即与图的给定顶点或边相关的辅助对象，甚至整个图。从某种意义上说，每个图，顶点和边都表现为标准的Python字典：您可以将键值对添加到其中的任意一个，其中键表示属性的名称（唯一的限制是它必须是字符串）和表示属性本身的值。"
   ]
  },
  {
   "cell_type": "code",
   "execution_count": 29,
   "metadata": {
    "collapsed": true
   },
   "outputs": [],
   "source": [
    "g=Graph([(0,1),(0,2),(2,3),(3,4),(4,2),(2,5),(5,0),(6,3),(5,6)])"
   ]
  },
  {
   "cell_type": "raw",
   "metadata": {},
   "source": [
    "现在让我们假设我们要把这个网络中的人的姓名，年龄和性别存储为顶点属性，并且对于每个连接，我们要存储这是一种非正式的友谊关系还是正式的关系。 每个Graph对象都包含两个特殊成员，分别称为vs和es，分别表示所有顶点和所有边的序列。 如果您尝试将vs或es用作Python字典，您将操作图形的属性存储区域："
   ]
  },
  {
   "cell_type": "code",
   "execution_count": 30,
   "metadata": {},
   "outputs": [
    {
     "data": {
      "text/plain": [
       "<igraph.VertexSeq at 0x63d8638>"
      ]
     },
     "execution_count": 30,
     "metadata": {},
     "output_type": "execute_result"
    }
   ],
   "source": [
    "g.vs"
   ]
  },
  {
   "cell_type": "code",
   "execution_count": 31,
   "metadata": {
    "collapsed": true
   },
   "outputs": [],
   "source": [
    "g.vs['name']=['Alice','Bob','Claire','Dennis','Esther','Frank','George']"
   ]
  },
  {
   "cell_type": "code",
   "execution_count": 32,
   "metadata": {
    "collapsed": true
   },
   "outputs": [],
   "source": [
    "g.vs['age']=[25,31,18,47,22,23,50]"
   ]
  },
  {
   "cell_type": "code",
   "execution_count": 33,
   "metadata": {
    "collapsed": true
   },
   "outputs": [],
   "source": [
    "g.vs['gender']=['f','m','f','m','f','m','m']"
   ]
  },
  {
   "cell_type": "code",
   "execution_count": 34,
   "metadata": {
    "collapsed": true
   },
   "outputs": [],
   "source": [
    "g.es['is_formal']=[False,False,True,True,False,True,False,False]"
   ]
  },
  {
   "cell_type": "raw",
   "metadata": {},
   "source": [
    "无论何时使用vs或es作为字典，都是将属性分配给图的所有顶点/边。 然而，你可以简单地改变顶点和边的属性，通过将整数索引为vs或es，就好像它们是列表（记住，它们是序列，它们包含所有的顶点或所有的边）。 当你索引它们时，你会得到一个Vertex或Edge对象，它指的是（我相信你已经猜到了）图的单个顶点或单个边。 顶点和边缘对象也可以用作字典来改变单个顶点或边的属性："
   ]
  },
  {
   "cell_type": "code",
   "execution_count": 35,
   "metadata": {},
   "outputs": [
    {
     "data": {
      "text/plain": [
       "igraph.Edge(<igraph.Graph object at 0x000000000645B138>, 0, {'is_formal': False})"
      ]
     },
     "execution_count": 35,
     "metadata": {},
     "output_type": "execute_result"
    }
   ],
   "source": [
    "g.es[0]"
   ]
  },
  {
   "cell_type": "code",
   "execution_count": 36,
   "metadata": {},
   "outputs": [
    {
     "data": {
      "text/plain": [
       "{'is_formal': False}"
      ]
     },
     "execution_count": 36,
     "metadata": {},
     "output_type": "execute_result"
    }
   ],
   "source": [
    "g.es[0].attributes()"
   ]
  },
  {
   "cell_type": "code",
   "execution_count": 37,
   "metadata": {
    "collapsed": true
   },
   "outputs": [],
   "source": [
    "g.es[0]['is_formal']=True"
   ]
  },
  {
   "cell_type": "raw",
   "metadata": {},
   "source": [
    "上面的代码片断说明了索引一个EdgeSeq对象返回Edge对象; 上面的表示法显示了对象所属的图，边ID（在本例中为零）以及分配给该边缘的属性字典。 边缘对象也有一些有用的属性：源属性给出了该边缘的源顶点，目标给你的目标顶点，索引给你相应的边ID，元组给你一个包含源和目标顶点和属性的元组 ）给你一个包含这个边的属性的字典。 顶点实例只有索引和属性（）。"
   ]
  },
  {
   "cell_type": "raw",
   "metadata": {},
   "source": [
    "由于Graph.es总是表示图中的所有边，因此用i索引它将始终返回ID为i的边，当然这同样适用于Graph.vs。 但是，请记住，EdgeSeq对象通常不一定代表图的整个边缘序列; 稍后在本教程中，我们将看到可以过滤EdgeSeq对象并返回限制为边的子集的其他EdgeSeq对象的方法，当然这同样适用于VertexSeq对象。 但在深入研究之前，让我们看看如何为整个图表分配属性。不足为奇的是，图形对象本身也可以像字典一样工作："
   ]
  },
  {
   "cell_type": "code",
   "execution_count": 38,
   "metadata": {
    "collapsed": true
   },
   "outputs": [],
   "source": [
    "g['date']='2009-01-01'"
   ]
  },
  {
   "cell_type": "code",
   "execution_count": 39,
   "metadata": {},
   "outputs": [
    {
     "name": "stdout",
     "output_type": "stream",
     "text": [
      "2009-01-01\n"
     ]
    }
   ],
   "source": [
    "print g['date']"
   ]
  },
  {
   "cell_type": "raw",
   "metadata": {},
   "source": [
    "最后，应该提到的是，Python关键字del可以删除属性，就像使用普通字典中的任何成员一样："
   ]
  },
  {
   "cell_type": "code",
   "execution_count": 40,
   "metadata": {
    "collapsed": true
   },
   "outputs": [],
   "source": [
    "g.vs[3]['foo'] = 'bar'"
   ]
  },
  {
   "cell_type": "code",
   "execution_count": 41,
   "metadata": {},
   "outputs": [
    {
     "data": {
      "text/plain": [
       "[None, None, None, 'bar', None, None, None]"
      ]
     },
     "execution_count": 41,
     "metadata": {},
     "output_type": "execute_result"
    }
   ],
   "source": [
    "g.vs['foo']"
   ]
  },
  {
   "cell_type": "code",
   "execution_count": 42,
   "metadata": {
    "collapsed": true
   },
   "outputs": [],
   "source": [
    "del g.vs['foo']"
   ]
  },
  {
   "cell_type": "code",
   "execution_count": 43,
   "metadata": {},
   "outputs": [
    {
     "ename": "KeyError",
     "evalue": "'Attribute does not exist'",
     "output_type": "error",
     "traceback": [
      "\u001b[1;31m---------------------------------------------------------------------------\u001b[0m",
      "\u001b[1;31mKeyError\u001b[0m                                  Traceback (most recent call last)",
      "\u001b[1;32m<ipython-input-43-627318fcad1f>\u001b[0m in \u001b[0;36m<module>\u001b[1;34m()\u001b[0m\n\u001b[1;32m----> 1\u001b[1;33m \u001b[0mg\u001b[0m\u001b[1;33m.\u001b[0m\u001b[0mvs\u001b[0m\u001b[1;33m[\u001b[0m\u001b[1;34m'foo'\u001b[0m\u001b[1;33m]\u001b[0m\u001b[1;33m\u001b[0m\u001b[0m\n\u001b[0m",
      "\u001b[1;31mKeyError\u001b[0m: 'Attribute does not exist'"
     ]
    }
   ],
   "source": [
    "g.vs['foo']"
   ]
  },
  {
   "cell_type": "markdown",
   "metadata": {},
   "source": [
    "# 5.Structural properties of graphs"
   ]
  },
  {
   "cell_type": "code",
   "execution_count": 44,
   "metadata": {},
   "outputs": [
    {
     "data": {
      "text/plain": [
       "[3, 1, 4, 3, 2, 3, 2]"
      ]
     },
     "execution_count": 44,
     "metadata": {},
     "output_type": "execute_result"
    }
   ],
   "source": [
    "g.degree()"
   ]
  },
  {
   "cell_type": "code",
   "execution_count": 45,
   "metadata": {},
   "outputs": [
    {
     "data": {
      "text/plain": [
       "2"
      ]
     },
     "execution_count": 45,
     "metadata": {},
     "output_type": "execute_result"
    }
   ],
   "source": [
    "g.degree(6)"
   ]
  },
  {
   "cell_type": "raw",
   "metadata": {},
   "source": [
    "如果图是定向的，我们可以用g.degree（type =“in”）和g.degree（type =“out”）分别计算出入度和出度。 如果要为顶点的一个子集计算度数，还可以将单个顶点ID或顶点ID的列表传递给degree（）："
   ]
  },
  {
   "cell_type": "code",
   "execution_count": 46,
   "metadata": {},
   "outputs": [
    {
     "data": {
      "text/plain": [
       "[4, 3, 2]"
      ]
     },
     "execution_count": 46,
     "metadata": {},
     "output_type": "execute_result"
    }
   ],
   "source": [
    "g.degree([2,3,4])"
   ]
  },
  {
   "cell_type": "raw",
   "metadata": {},
   "source": [
    "除了degree，igraph还包括内置的例程来计算许多其他的中心属性，包括顶点和边介数（Graph.betweenness（），Graph.edge_betweenness（））或Google的PageRank（Graph.pagerank（））等等。 这里我们只是举例说明边介数："
   ]
  },
  {
   "cell_type": "code",
   "execution_count": 47,
   "metadata": {},
   "outputs": [
    {
     "data": {
      "text/plain": [
       "[6.0, 6.0, 4.0, 2.0, 4.0, 3.0, 4.0, 3.0, 4.0]"
      ]
     },
     "execution_count": 47,
     "metadata": {},
     "output_type": "execute_result"
    }
   ],
   "source": [
    "g.edge_betweenness()"
   ]
  },
  {
   "cell_type": "raw",
   "metadata": {},
   "source": [
    "现在我们还可以找出哪个连接具有最高的中介中心性和一些Python魔法："
   ]
  },
  {
   "cell_type": "code",
   "execution_count": 48,
   "metadata": {
    "collapsed": true
   },
   "outputs": [],
   "source": [
    "ebs = g.edge_betweenness()"
   ]
  },
  {
   "cell_type": "code",
   "execution_count": 49,
   "metadata": {
    "collapsed": true
   },
   "outputs": [],
   "source": [
    "max_eb=max(ebs)"
   ]
  },
  {
   "cell_type": "code",
   "execution_count": 50,
   "metadata": {},
   "outputs": [
    {
     "data": {
      "text/plain": [
       "[(0, 1), (0, 2)]"
      ]
     },
     "execution_count": 50,
     "metadata": {},
     "output_type": "execute_result"
    }
   ],
   "source": [
    "[g.es[idx].tuple for idx,eb in enumerate(ebs) if eb == max_eb]"
   ]
  },
  {
   "cell_type": "markdown",
   "metadata": {},
   "source": [
    "# 6.Querying vertices and edges based on attributes"
   ]
  },
  {
   "cell_type": "raw",
   "metadata": {},
   "source": [
    "想象一下，在一个特定的社交网络中，你想找出谁是最大的度或介数中心性。 您可以使用迄今为止提供的工具和一些基本的Python知识来做到这一点，但是由于选择基于属性或结构属性的顶点和边是常见的任务，igraph为您提供了一种更简单的方法："
   ]
  },
  {
   "cell_type": "code",
   "execution_count": 51,
   "metadata": {},
   "outputs": [
    {
     "data": {
      "text/plain": [
       "['Claire']"
      ]
     },
     "execution_count": 51,
     "metadata": {},
     "output_type": "execute_result"
    }
   ],
   "source": [
    "g.vs.select(_degree=g.maxdegree())['name']"
   ]
  },
  {
   "cell_type": "raw",
   "metadata": {},
   "source": [
    "对于第一眼看来，语法看起来可能有些尴尬，所以我们试着一步一步地解释它。 select（）是VertexSeq的一种方法，其唯一目的是根据单个顶点的属性来过滤VertexSeq。 过滤顶点的方式取决于它的位置和关键字参数。 位置参数（没有像上面的_degree这样的明确名称的参数）总是在关键字参数之前处理，如下所示："
   ]
  },
  {
   "cell_type": "raw",
   "metadata": {},
   "source": [
    "如果第一个位置参数是None，则返回一个空序列（不包含顶点）："
   ]
  },
  {
   "cell_type": "code",
   "execution_count": 52,
   "metadata": {
    "collapsed": true
   },
   "outputs": [],
   "source": [
    "seq=g.vs.select(None)"
   ]
  },
  {
   "cell_type": "code",
   "execution_count": 53,
   "metadata": {},
   "outputs": [
    {
     "data": {
      "text/plain": [
       "0"
      ]
     },
     "execution_count": 53,
     "metadata": {},
     "output_type": "execute_result"
    }
   ],
   "source": [
    "len(seq)"
   ]
  },
  {
   "cell_type": "raw",
   "metadata": {},
   "source": [
    "如果第一个位置参数是一个可调用的对象（即一个函数，一个绑定的方法或者像一个函数那样的任何东西），那么将为该序列中当前的每个顶点调用该对象。 如果函数返回True，则将包含顶点，否则将被排除："
   ]
  },
  {
   "cell_type": "code",
   "execution_count": 54,
   "metadata": {
    "collapsed": true
   },
   "outputs": [],
   "source": [
    "graph=Graph.Full(10)"
   ]
  },
  {
   "cell_type": "code",
   "execution_count": 55,
   "metadata": {
    "collapsed": true
   },
   "outputs": [],
   "source": [
    "only_odd_vertices=graph.vs.select(lambda vertex:vertex.index % 2==1)"
   ]
  },
  {
   "cell_type": "code",
   "execution_count": 56,
   "metadata": {},
   "outputs": [
    {
     "data": {
      "text/plain": [
       "5"
      ]
     },
     "execution_count": 56,
     "metadata": {},
     "output_type": "execute_result"
    }
   ],
   "source": [
    "len(only_odd_vertices)"
   ]
  },
  {
   "cell_type": "raw",
   "metadata": {},
   "source": [
    "如果第一个位置参数是一个可迭代的（即，一个列表，一个生成器或任何可以迭代的东西），它必须返回整数，这些整数将被视为当前顶点集的索引（这不一定是整个图）。 只有那些匹配给定索引的顶点才会包含在过滤的顶点集中。 浮动，字符串，无效的顶点ID将被无声地忽略："
   ]
  },
  {
   "cell_type": "code",
   "execution_count": 57,
   "metadata": {
    "collapsed": true
   },
   "outputs": [],
   "source": [
    "seq = graph.vs.select([2, 3, 7])"
   ]
  },
  {
   "cell_type": "code",
   "execution_count": 58,
   "metadata": {},
   "outputs": [
    {
     "data": {
      "text/plain": [
       "3"
      ]
     },
     "execution_count": 58,
     "metadata": {},
     "output_type": "execute_result"
    }
   ],
   "source": [
    "len(seq)"
   ]
  },
  {
   "cell_type": "code",
   "execution_count": 59,
   "metadata": {},
   "outputs": [
    {
     "data": {
      "text/plain": [
       "[2, 3, 7]"
      ]
     },
     "execution_count": 59,
     "metadata": {},
     "output_type": "execute_result"
    }
   ],
   "source": [
    "[v.index for v in seq]"
   ]
  },
  {
   "cell_type": "code",
   "execution_count": 60,
   "metadata": {
    "collapsed": true
   },
   "outputs": [],
   "source": [
    "seq=seq.select([0,2])"
   ]
  },
  {
   "cell_type": "code",
   "execution_count": 61,
   "metadata": {},
   "outputs": [
    {
     "data": {
      "text/plain": [
       "[2, 7]"
      ]
     },
     "execution_count": 61,
     "metadata": {},
     "output_type": "execute_result"
    }
   ],
   "source": [
    "[v.index for v in seq]"
   ]
  },
  {
   "cell_type": "code",
   "execution_count": 62,
   "metadata": {
    "collapsed": true
   },
   "outputs": [],
   "source": [
    "seq=graph.vs.select([2,3,7,'foo',3.5])"
   ]
  },
  {
   "cell_type": "code",
   "execution_count": 63,
   "metadata": {},
   "outputs": [
    {
     "data": {
      "text/plain": [
       "3"
      ]
     },
     "execution_count": 63,
     "metadata": {},
     "output_type": "execute_result"
    }
   ],
   "source": [
    "len(seq)"
   ]
  },
  {
   "cell_type": "raw",
   "metadata": {},
   "source": [
    "如果第一个位置参数是一个整数，所有其余的参数也是整数，它们被解释为当前顶点集中的索引。 这只是语法上的糖，你可以通过传递一个列表作为第一个位置参数来达到相同的效果，但是这样可以省略方括号："
   ]
  },
  {
   "cell_type": "code",
   "execution_count": 64,
   "metadata": {
    "collapsed": true
   },
   "outputs": [],
   "source": [
    "seq=graph.vs.select(2,3,7)"
   ]
  },
  {
   "cell_type": "code",
   "execution_count": 65,
   "metadata": {},
   "outputs": [
    {
     "data": {
      "text/plain": [
       "3"
      ]
     },
     "execution_count": 65,
     "metadata": {},
     "output_type": "execute_result"
    }
   ],
   "source": [
    "len(seq)"
   ]
  },
  {
   "cell_type": "raw",
   "metadata": {},
   "source": [
    "这个调用约定适用于igraph可以计算的大部分结构特性。 对于顶点属性，这些方法接受一个顶点ID或一个顶点ID列表（如果省略，则默认为所有顶点的集合）。 对于边属性，这些方法接受单个边ID或边ID列表。 您也可以适当地提供VertexSeq或EdgeSeq实例，而不是ID列表。 在下一章的后面，您将学习如何将它们限制到您想要的顶点或边。"
   ]
  },
  {
   "cell_type": "raw",
   "metadata": {
    "collapsed": true
   },
   "source": [
    "例如，下面的命令给你们在我们假想的社交网络中30岁以下的人："
   ]
  },
  {
   "cell_type": "code",
   "execution_count": 66,
   "metadata": {},
   "outputs": [
    {
     "data": {
      "text/plain": [
       "<igraph.VertexSeq at 0x64df098>"
      ]
     },
     "execution_count": 66,
     "metadata": {},
     "output_type": "execute_result"
    }
   ],
   "source": [
    "g.vs(age_lt=30)"
   ]
  },
  {
   "cell_type": "raw",
   "metadata": {},
   "source": [
    "理论上，可能会出现这样的情况，即存在具有相同名称的属性和结构属性（例如，您可能有一个名为degree的顶点属性）。 在这种情况下，我们将无法决定用户是指degree是结构性质还是顶点属性。 为了解决这个不明确的问题，当用于过滤时，结构属性名称必须总是以下划线（_）作为前缀。 例如，要查找度数大于2的顶点："
   ]
  },
  {
   "cell_type": "code",
   "execution_count": 68,
   "metadata": {},
   "outputs": [
    {
     "data": {
      "text/plain": [
       "<igraph.VertexSeq at 0x64df2c8>"
      ]
     },
     "execution_count": 68,
     "metadata": {},
     "output_type": "execute_result"
    }
   ],
   "source": [
    "g.vs(_degree_gt=2)"
   ]
  },
  {
   "cell_type": "raw",
   "metadata": {},
   "source": [
    "有两种选择边的特殊结构特性：基于边的源顶点在EdgeSeq.select（）过滤器的关键字参数列表中使用_source或_from，而基于目标顶点的_target_或_to过滤。"
   ]
  },
  {
   "cell_type": "markdown",
   "metadata": {},
   "source": [
    "# 7.Layouts and plotting"
   ]
  },
  {
   "cell_type": "raw",
   "metadata": {},
   "source": [
    "图是在2D或3D空间中没有特定表示的抽象数学对象。 这意味着，无论何时我们想要可视化图形，我们都必须首先找到从二维或三维空间中的顶点到坐标的映射，最好是以一种令人满意的方式。 图论的一个独立分支，即图形绘图，试图通过多种图形布局算法来解决这个问题。 igraph实现了相当多的布局算法，也可以使用Cairo库将它们绘制到屏幕或PDF，PNG或SVG文件中。"
   ]
  },
  {
   "cell_type": "raw",
   "metadata": {},
   "source": [
    "可以直接调用布局算法，也可以使用称为layout（）的通用布局方法："
   ]
  },
  {
   "cell_type": "code",
   "execution_count": 69,
   "metadata": {
    "collapsed": true
   },
   "outputs": [],
   "source": [
    "layout=g.layout_kamada_kawai()"
   ]
  },
  {
   "cell_type": "code",
   "execution_count": 70,
   "metadata": {
    "collapsed": true
   },
   "outputs": [],
   "source": [
    "layout=g.layout('kamada_kawai')"
   ]
  },
  {
   "cell_type": "raw",
   "metadata": {},
   "source": [
    "layout（）方法的第一个参数必须是布局算法的简称（参见上表）。 所有剩下的位置和关键字参数都会完整地传递给所选的布局方法。 例如，以下两个调用是完全等价的："
   ]
  },
  {
   "cell_type": "code",
   "execution_count": 72,
   "metadata": {},
   "outputs": [
    {
     "ename": "TypeError",
     "evalue": "'int' object is not iterable",
     "output_type": "error",
     "traceback": [
      "\u001b[1;31m---------------------------------------------------------------------------\u001b[0m",
      "\u001b[1;31mTypeError\u001b[0m                                 Traceback (most recent call last)",
      "\u001b[1;32m<ipython-input-72-1060c18966b6>\u001b[0m in \u001b[0;36m<module>\u001b[1;34m()\u001b[0m\n\u001b[1;32m----> 1\u001b[1;33m \u001b[0mlayout\u001b[0m \u001b[1;33m=\u001b[0m \u001b[0mg\u001b[0m\u001b[1;33m.\u001b[0m\u001b[0mlayout_reingold_tilford\u001b[0m\u001b[1;33m(\u001b[0m\u001b[0mroot\u001b[0m\u001b[1;33m=\u001b[0m\u001b[1;36m2\u001b[0m\u001b[1;33m)\u001b[0m\u001b[1;33m\u001b[0m\u001b[0m\n\u001b[0m",
      "\u001b[1;32mC:\\Users\\yxf\\Anaconda2\\lib\\site-packages\\igraph\\__init__.pyc\u001b[0m in \u001b[0;36mresult\u001b[1;34m(*args, **kwds)\u001b[0m\n\u001b[0;32m   3949\u001b[0m         \u001b[0mlayout\u001b[0m \u001b[1;33m=\u001b[0m \u001b[0mfunc\u001b[0m\u001b[1;33m(\u001b[0m\u001b[1;33m*\u001b[0m\u001b[0margs\u001b[0m\u001b[1;33m,\u001b[0m \u001b[1;33m**\u001b[0m\u001b[0mkwds\u001b[0m\u001b[1;33m)\u001b[0m\u001b[1;33m\u001b[0m\u001b[0m\n\u001b[0;32m   3950\u001b[0m         \u001b[1;32mif\u001b[0m \u001b[1;32mnot\u001b[0m \u001b[0misinstance\u001b[0m\u001b[1;33m(\u001b[0m\u001b[0mlayout\u001b[0m\u001b[1;33m,\u001b[0m \u001b[0mLayout\u001b[0m\u001b[1;33m)\u001b[0m\u001b[1;33m:\u001b[0m\u001b[1;33m\u001b[0m\u001b[0m\n\u001b[1;32m-> 3951\u001b[1;33m             \u001b[0mlayout\u001b[0m \u001b[1;33m=\u001b[0m \u001b[0mLayout\u001b[0m\u001b[1;33m(\u001b[0m\u001b[0mlayout\u001b[0m\u001b[1;33m)\u001b[0m\u001b[1;33m\u001b[0m\u001b[0m\n\u001b[0m\u001b[0;32m   3952\u001b[0m         \u001b[1;32mreturn\u001b[0m \u001b[0mlayout\u001b[0m\u001b[1;33m\u001b[0m\u001b[0m\n\u001b[0;32m   3953\u001b[0m     \u001b[0mresult\u001b[0m\u001b[1;33m.\u001b[0m\u001b[0m__name__\u001b[0m \u001b[1;33m=\u001b[0m \u001b[0mfunc\u001b[0m\u001b[1;33m.\u001b[0m\u001b[0m__name__\u001b[0m\u001b[1;33m\u001b[0m\u001b[0m\n",
      "\u001b[1;32mC:\\Users\\yxf\\Anaconda2\\lib\\site-packages\\igraph\\layout.pyc\u001b[0m in \u001b[0;36m__init__\u001b[1;34m(self, coords, dim)\u001b[0m\n\u001b[0;32m     78\u001b[0m         \"\"\"\n\u001b[0;32m     79\u001b[0m         \u001b[1;32mif\u001b[0m \u001b[0mcoords\u001b[0m\u001b[1;33m:\u001b[0m\u001b[1;33m\u001b[0m\u001b[0m\n\u001b[1;32m---> 80\u001b[1;33m             \u001b[0mself\u001b[0m\u001b[1;33m.\u001b[0m\u001b[0m_coords\u001b[0m \u001b[1;33m=\u001b[0m \u001b[1;33m[\u001b[0m\u001b[0mlist\u001b[0m\u001b[1;33m(\u001b[0m\u001b[0mcoord\u001b[0m\u001b[1;33m)\u001b[0m \u001b[1;32mfor\u001b[0m \u001b[0mcoord\u001b[0m \u001b[1;32min\u001b[0m \u001b[0mcoords\u001b[0m\u001b[1;33m]\u001b[0m\u001b[1;33m\u001b[0m\u001b[0m\n\u001b[0m\u001b[0;32m     81\u001b[0m         \u001b[1;32melse\u001b[0m\u001b[1;33m:\u001b[0m\u001b[1;33m\u001b[0m\u001b[0m\n\u001b[0;32m     82\u001b[0m             \u001b[0mself\u001b[0m\u001b[1;33m.\u001b[0m\u001b[0m_coords\u001b[0m \u001b[1;33m=\u001b[0m \u001b[1;33m[\u001b[0m\u001b[1;33m]\u001b[0m\u001b[1;33m\u001b[0m\u001b[0m\n",
      "\u001b[1;31mTypeError\u001b[0m: 'int' object is not iterable"
     ]
    }
   ],
   "source": [
    "layout = g.layout_reingold_tilford(root=2) #英文igraph0.6版可以  我使用的是igraph0.7的不行"
   ]
  },
  {
   "cell_type": "code",
   "execution_count": 73,
   "metadata": {
    "collapsed": true
   },
   "outputs": [],
   "source": [
    "layout = g.layout(\"rt\", 2)"
   ]
  },
  {
   "cell_type": "raw",
   "metadata": {},
   "source": [
    "布局方法返回一个布局对象，其行为大部分是列表的列表。 Layout对象中的每个列表项对应于原始图中的顶点，并包含2D或3D空间中的顶点坐标。 布局对象还包含一些有用的方法来批量翻译，缩放或旋转坐标。 但是，布局对象的主要用途是可以将它们与图形一起传递给plot（）函数以获取2D图形。"
   ]
  },
  {
   "cell_type": "markdown",
   "metadata": {},
   "source": [
    "# 8.Drawing a graph using a layout"
   ]
  },
  {
   "cell_type": "raw",
   "metadata": {},
   "source": [
    "例如，我们可以用Kamada-Kawai布局算法来绘制我们想象中的社交网络，如下所示："
   ]
  },
  {
   "cell_type": "code",
   "execution_count": 74,
   "metadata": {
    "collapsed": true
   },
   "outputs": [],
   "source": [
    "layout=g.layout('kk')"
   ]
  },
  {
   "cell_type": "code",
   "execution_count": 75,
   "metadata": {},
   "outputs": [
    {
     "data": {
      "image/svg+xml": [
       "<?xml version=\"1.0\" encoding=\"UTF-8\"?>\n",
       "<svg xmlns=\"http://www.w3.org/2000/svg\" xmlns:xlink=\"http://www.w3.org/1999/xlink\" width=\"600pt\" height=\"600pt\" viewBox=\"0 0 600 600\" version=\"1.1\">\n",
       "<g id=\"surface20\">\n",
       "<rect x=\"0\" y=\"0\" width=\"600\" height=\"600\" style=\"fill:rgb(100%,100%,100%);fill-opacity:1;stroke:none;\"/>\n",
       "<path style=\"fill:none;stroke-width:1;stroke-linecap:butt;stroke-linejoin:miter;stroke:rgb(26.666667%,26.666667%,26.666667%);stroke-opacity:1;stroke-miterlimit:10;\" d=\"M 392.367188 307.574219 L 580 262.792969 \"/>\n",
       "<path style=\"fill:none;stroke-width:1;stroke-linecap:butt;stroke-linejoin:miter;stroke:rgb(26.666667%,26.666667%,26.666667%);stroke-opacity:1;stroke-miterlimit:10;\" d=\"M 392.367188 307.574219 L 214.4375 214.917969 \"/>\n",
       "<path style=\"fill:none;stroke-width:1;stroke-linecap:butt;stroke-linejoin:miter;stroke:rgb(26.666667%,26.666667%,26.666667%);stroke-opacity:1;stroke-miterlimit:10;\" d=\"M 214.4375 214.917969 L 20 286.625 \"/>\n",
       "<path style=\"fill:none;stroke-width:1;stroke-linecap:butt;stroke-linejoin:miter;stroke:rgb(26.666667%,26.666667%,26.666667%);stroke-opacity:1;stroke-miterlimit:10;\" d=\"M 20 286.625 L 78.847656 20 \"/>\n",
       "<path style=\"fill:none;stroke-width:1;stroke-linecap:butt;stroke-linejoin:miter;stroke:rgb(26.666667%,26.666667%,26.666667%);stroke-opacity:1;stroke-miterlimit:10;\" d=\"M 214.4375 214.917969 L 78.847656 20 \"/>\n",
       "<path style=\"fill:none;stroke-width:1;stroke-linecap:butt;stroke-linejoin:miter;stroke:rgb(26.666667%,26.666667%,26.666667%);stroke-opacity:1;stroke-miterlimit:10;\" d=\"M 214.4375 214.917969 L 260.695313 509.472656 \"/>\n",
       "<path style=\"fill:none;stroke-width:1;stroke-linecap:butt;stroke-linejoin:miter;stroke:rgb(26.666667%,26.666667%,26.666667%);stroke-opacity:1;stroke-miterlimit:10;\" d=\"M 392.367188 307.574219 L 260.695313 509.472656 \"/>\n",
       "<path style=\"fill:none;stroke-width:1;stroke-linecap:butt;stroke-linejoin:miter;stroke:rgb(26.666667%,26.666667%,26.666667%);stroke-opacity:1;stroke-miterlimit:10;\" d=\"M 20 286.625 L 67.242188 580 \"/>\n",
       "<path style=\"fill:none;stroke-width:1;stroke-linecap:butt;stroke-linejoin:miter;stroke:rgb(26.666667%,26.666667%,26.666667%);stroke-opacity:1;stroke-miterlimit:10;\" d=\"M 260.695313 509.472656 L 67.242188 580 \"/>\n",
       "<path style=\"fill-rule:nonzero;fill:rgb(100%,0%,0%);fill-opacity:1;stroke-width:1;stroke-linecap:butt;stroke-linejoin:miter;stroke:rgb(0%,0%,0%);stroke-opacity:1;stroke-miterlimit:10;\" d=\"M 402.367188 307.574219 C 402.367188 313.09375 397.890625 317.574219 392.367188 317.574219 C 386.84375 317.574219 382.367188 313.09375 382.367188 307.574219 C 382.367188 302.050781 386.84375 297.574219 392.367188 297.574219 C 397.890625 297.574219 402.367188 302.050781 402.367188 307.574219 \"/>\n",
       "<path style=\"fill-rule:nonzero;fill:rgb(100%,0%,0%);fill-opacity:1;stroke-width:1;stroke-linecap:butt;stroke-linejoin:miter;stroke:rgb(0%,0%,0%);stroke-opacity:1;stroke-miterlimit:10;\" d=\"M 590 262.792969 C 590 268.316406 585.523438 272.792969 580 272.792969 C 574.476563 272.792969 570 268.316406 570 262.792969 C 570 257.269531 574.476563 252.792969 580 252.792969 C 585.523438 252.792969 590 257.269531 590 262.792969 \"/>\n",
       "<path style=\"fill-rule:nonzero;fill:rgb(100%,0%,0%);fill-opacity:1;stroke-width:1;stroke-linecap:butt;stroke-linejoin:miter;stroke:rgb(0%,0%,0%);stroke-opacity:1;stroke-miterlimit:10;\" d=\"M 224.4375 214.917969 C 224.4375 220.441406 219.960938 224.917969 214.4375 224.917969 C 208.914063 224.917969 204.4375 220.441406 204.4375 214.917969 C 204.4375 209.398438 208.914063 204.917969 214.4375 204.917969 C 219.960938 204.917969 224.4375 209.398438 224.4375 214.917969 \"/>\n",
       "<path style=\"fill-rule:nonzero;fill:rgb(100%,0%,0%);fill-opacity:1;stroke-width:1;stroke-linecap:butt;stroke-linejoin:miter;stroke:rgb(0%,0%,0%);stroke-opacity:1;stroke-miterlimit:10;\" d=\"M 30 286.625 C 30 292.144531 25.523438 296.625 20 296.625 C 14.476563 296.625 10 292.144531 10 286.625 C 10 281.101563 14.476563 276.625 20 276.625 C 25.523438 276.625 30 281.101563 30 286.625 \"/>\n",
       "<path style=\"fill-rule:nonzero;fill:rgb(100%,0%,0%);fill-opacity:1;stroke-width:1;stroke-linecap:butt;stroke-linejoin:miter;stroke:rgb(0%,0%,0%);stroke-opacity:1;stroke-miterlimit:10;\" d=\"M 88.847656 20 C 88.847656 25.523438 84.367188 30 78.847656 30 C 73.324219 30 68.847656 25.523438 68.847656 20 C 68.847656 14.476563 73.324219 10 78.847656 10 C 84.367188 10 88.847656 14.476563 88.847656 20 \"/>\n",
       "<path style=\"fill-rule:nonzero;fill:rgb(100%,0%,0%);fill-opacity:1;stroke-width:1;stroke-linecap:butt;stroke-linejoin:miter;stroke:rgb(0%,0%,0%);stroke-opacity:1;stroke-miterlimit:10;\" d=\"M 270.695313 509.472656 C 270.695313 514.996094 266.214844 519.472656 260.695313 519.472656 C 255.171875 519.472656 250.695313 514.996094 250.695313 509.472656 C 250.695313 503.949219 255.171875 499.472656 260.695313 499.472656 C 266.214844 499.472656 270.695313 503.949219 270.695313 509.472656 \"/>\n",
       "<path style=\"fill-rule:nonzero;fill:rgb(100%,0%,0%);fill-opacity:1;stroke-width:1;stroke-linecap:butt;stroke-linejoin:miter;stroke:rgb(0%,0%,0%);stroke-opacity:1;stroke-miterlimit:10;\" d=\"M 77.242188 580 C 77.242188 585.523438 72.765625 590 67.242188 590 C 61.71875 590 57.242188 585.523438 57.242188 580 C 57.242188 574.476563 61.71875 570 67.242188 570 C 72.765625 570 77.242188 574.476563 77.242188 580 \"/>\n",
       "</g>\n",
       "</svg>\n"
      ],
      "text/plain": [
       "<igraph.drawing.Plot at 0x649eeb8>"
      ]
     },
     "execution_count": 75,
     "metadata": {},
     "output_type": "execute_result"
    }
   ],
   "source": [
    "plot(g,layout=layout)"
   ]
  },
  {
   "cell_type": "raw",
   "metadata": {},
   "source": [
    "嗯，到目前为止还不太漂亮。 一个微不足道的补充是使用名称作为顶点标签，并根据性别为顶点着色。 顶点标签默认从标签属性获取，顶点颜色由颜色属性确定，因此我们可以简单地创建这些属性并重新绘制图形："
   ]
  },
  {
   "cell_type": "code",
   "execution_count": 76,
   "metadata": {
    "collapsed": true
   },
   "outputs": [],
   "source": [
    "g.vs['label']=g.vs['name']"
   ]
  },
  {
   "cell_type": "code",
   "execution_count": 78,
   "metadata": {
    "collapsed": true
   },
   "outputs": [],
   "source": [
    "color_dict={'m':'blue','f':\"pink\"}"
   ]
  },
  {
   "cell_type": "code",
   "execution_count": 80,
   "metadata": {
    "collapsed": true
   },
   "outputs": [],
   "source": [
    "g.vs['color']=[color_dict[gender] for gender in g.vs['gender']]"
   ]
  },
  {
   "cell_type": "raw",
   "metadata": {},
   "source": [
    "请注意，我们只是在这里重新使用了以前的布局对象，但是我们还指定了我们需要一个较小的图（300 x 300像素）和一个较大的边缘图来适应标签（20像素）。"
   ]
  },
  {
   "cell_type": "code",
   "execution_count": 81,
   "metadata": {},
   "outputs": [
    {
     "data": {
      "image/svg+xml": [
       "<?xml version=\"1.0\" encoding=\"UTF-8\"?>\n",
       "<svg xmlns=\"http://www.w3.org/2000/svg\" xmlns:xlink=\"http://www.w3.org/1999/xlink\" width=\"300pt\" height=\"300pt\" viewBox=\"0 0 300 300\" version=\"1.1\">\n",
       "<defs>\n",
       "<g>\n",
       "<symbol overflow=\"visible\" id=\"glyph0-0\">\n",
       "<path style=\"stroke:none;\" d=\"\"/>\n",
       "</symbol>\n",
       "<symbol overflow=\"visible\" id=\"glyph0-1\">\n",
       "<path style=\"stroke:none;\" d=\"M 4.429688 -3.71875 L 1.96875 -3.71875 L 1.476563 -1.640625 C 1.4375 -1.457031 1.417969 -1.308594 1.421875 -1.203125 C 1.417969 -1.054688 1.445313 -0.910156 1.503906 -0.765625 C 1.554688 -0.617188 1.710938 -0.542969 1.96875 -0.546875 L 2.132813 -0.546875 L 2.132813 -0.21875 L 0.109375 -0.21875 L 0.109375 -0.546875 L 0.273438 -0.546875 C 0.417969 -0.542969 0.546875 -0.589844 0.65625 -0.683594 C 0.765625 -0.773438 0.835938 -0.929688 0.875 -1.148438 L 3.007813 -9.515625 L 3.828125 -9.789063 L 5.90625 -1.148438 C 5.976563 -0.929688 6.066406 -0.773438 6.179688 -0.683594 C 6.285156 -0.589844 6.414063 -0.542969 6.5625 -0.546875 L 6.726563 -0.546875 L 6.726563 -0.21875 L 4.375 -0.21875 L 4.375 -0.546875 L 4.59375 -0.546875 C 4.8125 -0.542969 4.9375 -0.589844 4.976563 -0.683594 C 5.007813 -0.773438 5.027344 -0.855469 5.03125 -0.929688 C 5.027344 -1.074219 5.007813 -1.203125 4.976563 -1.3125 Z M 3.28125 -8.585938 L 3.226563 -8.585938 L 2.078125 -4.046875 L 4.375 -4.046875 Z \"/>\n",
       "</symbol>\n",
       "<symbol overflow=\"visible\" id=\"glyph0-2\">\n",
       "<path style=\"stroke:none;\" d=\"M 2.023438 -9.570313 C 2.347656 -9.566406 2.660156 -9.605469 2.953125 -9.679688 C 3.242188 -9.75 3.515625 -9.859375 3.773438 -10.007813 L 3.882813 -10.007813 L 3.882813 -0.984375 C 3.878906 -0.835938 3.925781 -0.726563 4.019531 -0.65625 C 4.109375 -0.582031 4.226563 -0.542969 4.375 -0.546875 L 5.632813 -0.546875 L 5.632813 -0.21875 L 1.367188 -0.21875 L 1.367188 -0.546875 L 2.625 -0.546875 C 2.804688 -0.542969 2.929688 -0.582031 3.007813 -0.65625 C 3.078125 -0.726563 3.117188 -0.835938 3.117188 -0.984375 L 3.117188 -8.804688 C 3.117188 -8.949219 3.078125 -9.058594 3.007813 -9.132813 C 2.929688 -9.203125 2.804688 -9.238281 2.625 -9.242188 L 1.421875 -9.242188 L 1.421875 -9.570313 Z \"/>\n",
       "</symbol>\n",
       "<symbol overflow=\"visible\" id=\"glyph0-3\">\n",
       "<path style=\"stroke:none;\" d=\"M 3.117188 -5.496094 C 3.117188 -5.640625 3.078125 -5.757813 3.007813 -5.847656 C 2.929688 -5.9375 2.804688 -5.980469 2.625 -5.984375 L 1.476563 -6.011719 L 1.476563 -6.34375 L 2.023438 -6.355469 C 2.347656 -6.34375 2.660156 -6.367188 2.953125 -6.425781 C 3.242188 -6.476563 3.515625 -6.578125 3.773438 -6.726563 L 3.882813 -6.726563 L 3.882813 -0.984375 C 3.878906 -0.835938 3.925781 -0.726563 4.019531 -0.65625 C 4.109375 -0.582031 4.226563 -0.542969 4.375 -0.546875 L 5.523438 -0.546875 L 5.523438 -0.21875 L 1.476563 -0.21875 L 1.476563 -0.546875 L 2.625 -0.546875 C 2.804688 -0.542969 2.929688 -0.582031 3.007813 -0.65625 C 3.078125 -0.726563 3.117188 -0.832031 3.117188 -0.980469 Z M 3.554688 -9.679688 C 3.734375 -9.679688 3.898438 -9.613281 4.046875 -9.488281 C 4.191406 -9.355469 4.265625 -9.203125 4.265625 -9.023438 C 4.265625 -8.839844 4.191406 -8.675781 4.046875 -8.53125 C 3.898438 -8.382813 3.734375 -8.308594 3.554688 -8.3125 C 3.371094 -8.308594 3.207031 -8.382813 3.0625 -8.53125 C 2.914063 -8.675781 2.839844 -8.839844 2.84375 -9.023438 C 2.839844 -9.203125 2.914063 -9.355469 3.0625 -9.488281 C 3.207031 -9.613281 3.371094 -9.679688 3.554688 -9.679688 Z \"/>\n",
       "</symbol>\n",
       "<symbol overflow=\"visible\" id=\"glyph0-4\">\n",
       "<path style=\"stroke:none;\" d=\"M 4.703125 -4.867188 C 4.699219 -4.972656 4.71875 -5.046875 4.757813 -5.085938 C 4.757813 -5.121094 4.773438 -5.191406 4.8125 -5.304688 C 4.84375 -5.445313 4.773438 -5.621094 4.59375 -5.824219 C 4.410156 -6.023438 4.097656 -6.121094 3.664063 -6.125 C 3.113281 -6.121094 2.648438 -5.859375 2.269531 -5.332031 C 1.882813 -4.800781 1.691406 -4.097656 1.695313 -3.226563 C 1.691406 -2.421875 1.855469 -1.773438 2.1875 -1.285156 C 2.511719 -0.789063 3.058594 -0.542969 3.828125 -0.546875 C 4.335938 -0.542969 4.765625 -0.707031 5.113281 -1.039063 C 5.457031 -1.363281 5.703125 -1.746094 5.851563 -2.1875 L 6.125 -2.078125 C 5.976563 -1.527344 5.703125 -1.0625 5.304688 -0.683594 C 4.898438 -0.296875 4.351563 -0.105469 3.664063 -0.109375 C 2.785156 -0.105469 2.09375 -0.378906 1.585938 -0.929688 C 1.074219 -1.472656 0.820313 -2.257813 0.820313 -3.28125 C 0.820313 -4.191406 1.09375 -4.945313 1.640625 -5.550781 C 2.1875 -6.148438 2.898438 -6.449219 3.773438 -6.453125 C 4.390625 -6.449219 4.871094 -6.285156 5.222656 -5.960938 C 5.566406 -5.628906 5.742188 -5.300781 5.742188 -4.976563 C 5.742188 -4.753906 5.695313 -4.601563 5.605469 -4.511719 C 5.511719 -4.417969 5.375 -4.371094 5.195313 -4.375 C 5.046875 -4.371094 4.929688 -4.417969 4.839844 -4.511719 C 4.746094 -4.601563 4.699219 -4.71875 4.703125 -4.867188 Z \"/>\n",
       "</symbol>\n",
       "<symbol overflow=\"visible\" id=\"glyph0-5\">\n",
       "<path style=\"stroke:none;\" d=\"M 5.25 -3.609375 C 5.285156 -4.410156 5.148438 -5.019531 4.839844 -5.441406 C 4.527344 -5.859375 4.117188 -6.070313 3.609375 -6.070313 C 3.0625 -6.070313 2.613281 -5.851563 2.269531 -5.414063 C 1.917969 -4.976563 1.746094 -4.375 1.75 -3.609375 Z M 1.75 -3.28125 C 1.746094 -2.296875 1.9375 -1.59375 2.324219 -1.175781 C 2.703125 -0.753906 3.203125 -0.542969 3.828125 -0.546875 C 4.296875 -0.542969 4.699219 -0.679688 5.03125 -0.957031 C 5.355469 -1.226563 5.59375 -1.566406 5.742188 -1.96875 L 6.015625 -1.859375 C 5.902344 -1.453125 5.65625 -1.0625 5.277344 -0.683594 C 4.890625 -0.296875 4.371094 -0.105469 3.71875 -0.109375 C 2.878906 -0.105469 2.195313 -0.378906 1.667969 -0.929688 C 1.136719 -1.472656 0.871094 -2.257813 0.875 -3.28125 C 0.871094 -4.191406 1.136719 -4.945313 1.667969 -5.550781 C 2.195313 -6.148438 2.84375 -6.449219 3.609375 -6.453125 C 4.300781 -6.449219 4.902344 -6.214844 5.414063 -5.742188 C 5.921875 -5.265625 6.175781 -4.445313 6.179688 -3.28125 Z \"/>\n",
       "</symbol>\n",
       "<symbol overflow=\"visible\" id=\"glyph0-6\">\n",
       "<path style=\"stroke:none;\" d=\"M 0.21875 -0.21875 L 0.21875 -0.546875 L 0.65625 -0.546875 C 0.835938 -0.542969 0.960938 -0.582031 1.039063 -0.65625 C 1.109375 -0.726563 1.148438 -0.835938 1.148438 -0.984375 L 1.148438 -8.804688 C 1.148438 -8.949219 1.109375 -9.058594 1.039063 -9.132813 C 0.960938 -9.203125 0.835938 -9.238281 0.65625 -9.242188 L 0.328125 -9.242188 L 0.328125 -9.570313 L 3.5 -9.570313 C 4.371094 -9.566406 5.019531 -9.394531 5.441406 -9.050781 C 5.859375 -8.703125 6.070313 -8.164063 6.070313 -7.4375 C 6.070313 -6.921875 5.960938 -6.503906 5.742188 -6.179688 C 5.523438 -5.847656 5.066406 -5.554688 4.375 -5.304688 C 5.210938 -5.046875 5.777344 -4.683594 6.070313 -4.210938 C 6.359375 -3.734375 6.503906 -3.207031 6.507813 -2.625 C 6.503906 -1.894531 6.25 -1.308594 5.742188 -0.875 C 5.230469 -0.433594 4.535156 -0.214844 3.664063 -0.21875 Z M 3.5 -0.546875 C 4.117188 -0.542969 4.601563 -0.734375 4.949219 -1.121094 C 5.292969 -1.5 5.464844 -2.039063 5.46875 -2.734375 C 5.464844 -3.535156 5.285156 -4.128906 4.921875 -4.511719 C 4.554688 -4.894531 4.007813 -5.085938 3.28125 -5.085938 L 2.023438 -5.085938 L 2.023438 -0.984375 C 2.019531 -0.835938 2.066406 -0.726563 2.160156 -0.65625 C 2.25 -0.582031 2.367188 -0.542969 2.515625 -0.546875 Z M 5.140625 -7.4375 C 5.136719 -8.089844 4.957031 -8.554688 4.59375 -8.832031 C 4.226563 -9.101563 3.75 -9.238281 3.171875 -9.242188 L 2.515625 -9.242188 C 2.367188 -9.238281 2.25 -9.203125 2.160156 -9.132813 C 2.066406 -9.058594 2.019531 -8.949219 2.023438 -8.804688 L 2.023438 -5.414063 L 3.445313 -5.414063 C 3.84375 -5.414063 4.226563 -5.578125 4.59375 -5.90625 C 4.957031 -6.234375 5.136719 -6.742188 5.140625 -7.4375 Z \"/>\n",
       "</symbol>\n",
       "<symbol overflow=\"visible\" id=\"glyph0-7\">\n",
       "<path style=\"stroke:none;\" d=\"M 6.34375 -3.28125 C 6.339844 -2.367188 6.066406 -1.609375 5.523438 -1.011719 C 4.972656 -0.40625 4.296875 -0.105469 3.5 -0.109375 C 2.65625 -0.105469 1.972656 -0.414063 1.449219 -1.039063 C 0.917969 -1.65625 0.65625 -2.40625 0.65625 -3.28125 C 0.65625 -4.082031 0.917969 -4.808594 1.449219 -5.46875 C 1.972656 -6.121094 2.65625 -6.449219 3.5 -6.453125 C 4.371094 -6.449219 5.066406 -6.121094 5.578125 -5.46875 C 6.085938 -4.808594 6.339844 -4.082031 6.34375 -3.28125 Z M 1.53125 -3.226563 C 1.527344 -2.277344 1.71875 -1.574219 2.105469 -1.121094 C 2.484375 -0.660156 2.949219 -0.433594 3.5 -0.4375 C 4.117188 -0.433594 4.601563 -0.679688 4.949219 -1.175781 C 5.292969 -1.664063 5.464844 -2.347656 5.46875 -3.226563 C 5.464844 -4.171875 5.273438 -4.890625 4.894531 -5.386719 C 4.507813 -5.875 4.042969 -6.121094 3.5 -6.125 C 2.984375 -6.121094 2.53125 -5.875 2.132813 -5.386719 C 1.730469 -4.890625 1.527344 -4.171875 1.53125 -3.226563 Z \"/>\n",
       "</symbol>\n",
       "<symbol overflow=\"visible\" id=\"glyph0-8\">\n",
       "<path style=\"stroke:none;\" d=\"M 1.914063 -5.085938 C 2.09375 -5.484375 2.386719 -5.800781 2.789063 -6.042969 C 3.1875 -6.277344 3.570313 -6.398438 3.9375 -6.398438 C 4.703125 -6.398438 5.277344 -6.132813 5.660156 -5.605469 C 6.042969 -5.074219 6.234375 -4.300781 6.234375 -3.28125 C 6.234375 -2.257813 5.988281 -1.480469 5.496094 -0.957031 C 5.003906 -0.425781 4.390625 -0.164063 3.664063 -0.164063 C 3.296875 -0.164063 2.960938 -0.226563 2.652344 -0.355469 C 2.339844 -0.480469 2.074219 -0.652344 1.859375 -0.875 L 1.367188 -0.21875 L 1.148438 -0.21875 L 1.148438 -8.804688 C 1.148438 -8.949219 1.109375 -9.058594 1.039063 -9.132813 C 0.960938 -9.203125 0.835938 -9.238281 0.65625 -9.242188 L 0.328125 -9.242188 L 0.328125 -9.570313 L 0.820313 -9.570313 C 1 -9.566406 1.179688 -9.605469 1.367188 -9.679688 C 1.546875 -9.75 1.730469 -9.859375 1.914063 -10.007813 Z M 1.914063 -2.023438 C 1.910156 -1.617188 2.046875 -1.273438 2.324219 -0.984375 C 2.59375 -0.691406 3.003906 -0.542969 3.554688 -0.546875 C 4.207031 -0.542969 4.671875 -0.773438 4.949219 -1.230469 C 5.21875 -1.683594 5.355469 -2.367188 5.359375 -3.28125 C 5.355469 -4.15625 5.238281 -4.820313 5.003906 -5.277344 C 4.765625 -5.730469 4.390625 -5.957031 3.882813 -5.960938 C 3.441406 -5.957031 3.058594 -5.832031 2.734375 -5.578125 C 2.402344 -5.320313 2.128906 -4.863281 1.914063 -4.210938 Z \"/>\n",
       "</symbol>\n",
       "<symbol overflow=\"visible\" id=\"glyph0-9\">\n",
       "<path style=\"stroke:none;\" d=\"M 3.773438 -0.109375 C 2.75 -0.105469 1.9375 -0.488281 1.339844 -1.257813 C 0.734375 -2.019531 0.433594 -3.222656 0.4375 -4.867188 C 0.433594 -6.25 0.753906 -7.398438 1.394531 -8.3125 C 2.03125 -9.222656 2.894531 -9.679688 3.992188 -9.679688 C 4.242188 -9.679688 4.5 -9.640625 4.757813 -9.570313 C 5.011719 -9.457031 5.230469 -9.402344 5.414063 -9.40625 C 5.558594 -9.402344 5.675781 -9.421875 5.769531 -9.460938 C 5.859375 -9.496094 5.941406 -9.570313 6.015625 -9.679688 L 6.507813 -7.273438 L 6.179688 -7.164063 C 5.957031 -7.855469 5.664063 -8.382813 5.304688 -8.75 C 4.9375 -9.109375 4.464844 -9.292969 3.882813 -9.296875 C 3.113281 -9.292969 2.519531 -8.875 2.105469 -8.039063 C 1.683594 -7.199219 1.476563 -6.160156 1.476563 -4.921875 C 1.476563 -3.570313 1.65625 -2.511719 2.023438 -1.75 C 2.382813 -0.980469 2.984375 -0.597656 3.828125 -0.601563 C 4.40625 -0.597656 4.910156 -0.808594 5.332031 -1.230469 C 5.75 -1.648438 6.03125 -2.203125 6.179688 -2.898438 L 6.507813 -2.734375 C 6.324219 -1.964844 5.988281 -1.335938 5.496094 -0.847656 C 5.003906 -0.351563 4.429688 -0.105469 3.773438 -0.109375 Z \"/>\n",
       "</symbol>\n",
       "<symbol overflow=\"visible\" id=\"glyph0-10\">\n",
       "<path style=\"stroke:none;\" d=\"M 2.679688 -0.164063 C 2.019531 -0.164063 1.511719 -0.316406 1.148438 -0.628906 C 0.78125 -0.933594 0.597656 -1.289063 0.601563 -1.695313 C 0.597656 -2.347656 0.878906 -2.886719 1.449219 -3.308594 C 2.011719 -3.726563 3.132813 -4.027344 4.8125 -4.210938 L 4.8125 -4.867188 C 4.808594 -5.230469 4.726563 -5.53125 4.566406 -5.769531 C 4.398438 -6.003906 4.027344 -6.121094 3.445313 -6.125 C 2.824219 -6.121094 2.386719 -6.023438 2.132813 -5.824219 C 1.875 -5.621094 1.78125 -5.410156 1.859375 -5.195313 C 1.890625 -5.121094 1.910156 -5.046875 1.914063 -4.976563 C 1.910156 -4.898438 1.882813 -4.808594 1.832031 -4.703125 C 1.773438 -4.589844 1.636719 -4.535156 1.421875 -4.539063 C 1.273438 -4.535156 1.15625 -4.582031 1.066406 -4.675781 C 0.972656 -4.765625 0.925781 -4.902344 0.929688 -5.085938 C 0.925781 -5.414063 1.164063 -5.722656 1.640625 -6.015625 C 2.113281 -6.304688 2.695313 -6.449219 3.390625 -6.453125 C 4.117188 -6.449219 4.664063 -6.3125 5.03125 -6.042969 C 5.394531 -5.765625 5.578125 -5.375 5.578125 -4.867188 L 5.578125 -1.257813 C 5.578125 -0.964844 5.605469 -0.792969 5.660156 -0.738281 C 5.714844 -0.683594 5.8125 -0.65625 5.960938 -0.65625 C 6.140625 -0.65625 6.269531 -0.738281 6.34375 -0.902344 C 6.414063 -1.066406 6.449219 -1.292969 6.453125 -1.585938 L 6.726563 -1.585938 C 6.726563 -1.074219 6.632813 -0.71875 6.453125 -0.519531 C 6.265625 -0.316406 6.03125 -0.214844 5.742188 -0.21875 C 5.484375 -0.214844 5.28125 -0.269531 5.140625 -0.382813 C 4.992188 -0.488281 4.882813 -0.671875 4.8125 -0.929688 C 4.445313 -0.671875 4.109375 -0.480469 3.800781 -0.355469 C 3.488281 -0.226563 3.113281 -0.164063 2.679688 -0.164063 Z M 1.53125 -1.859375 C 1.527344 -1.527344 1.628906 -1.226563 1.832031 -0.957031 C 2.03125 -0.679688 2.351563 -0.542969 2.789063 -0.546875 C 3.117188 -0.542969 3.445313 -0.609375 3.773438 -0.738281 C 4.101563 -0.863281 4.445313 -1.054688 4.8125 -1.3125 L 4.8125 -3.882813 C 3.570313 -3.734375 2.714844 -3.488281 2.242188 -3.144531 C 1.765625 -2.796875 1.527344 -2.367188 1.53125 -1.859375 Z \"/>\n",
       "</symbol>\n",
       "<symbol overflow=\"visible\" id=\"glyph0-11\">\n",
       "<path style=\"stroke:none;\" d=\"M 2.789063 -4.648438 C 3.152344 -5.226563 3.542969 -5.675781 3.964844 -5.988281 C 4.382813 -6.296875 4.8125 -6.449219 5.25 -6.453125 C 5.613281 -6.449219 5.894531 -6.367188 6.097656 -6.207031 C 6.296875 -6.039063 6.398438 -5.847656 6.398438 -5.632813 C 6.398438 -5.445313 6.351563 -5.300781 6.261719 -5.195313 C 6.167969 -5.082031 6.03125 -5.027344 5.851563 -5.03125 C 5.667969 -5.027344 5.53125 -5.082031 5.441406 -5.195313 C 5.347656 -5.300781 5.320313 -5.445313 5.359375 -5.632813 C 5.355469 -5.738281 5.335938 -5.832031 5.304688 -5.90625 C 5.265625 -5.976563 5.15625 -6.011719 4.976563 -6.015625 C 4.679688 -6.011719 4.324219 -5.828125 3.910156 -5.46875 C 3.488281 -5.101563 3.117188 -4.59375 2.789063 -3.9375 L 2.789063 -0.984375 C 2.789063 -0.835938 2.832031 -0.726563 2.925781 -0.65625 C 3.011719 -0.582031 3.132813 -0.542969 3.28125 -0.546875 L 4.484375 -0.546875 L 4.484375 -0.21875 L 0.4375 -0.21875 L 0.4375 -0.546875 L 1.53125 -0.546875 C 1.710938 -0.542969 1.839844 -0.582031 1.914063 -0.65625 C 1.984375 -0.726563 2.019531 -0.835938 2.023438 -0.984375 L 2.023438 -5.523438 C 2.019531 -5.667969 1.984375 -5.785156 1.914063 -5.878906 C 1.839844 -5.964844 1.710938 -6.011719 1.53125 -6.015625 L 0.492188 -6.015625 L 0.492188 -6.34375 L 0.929688 -6.34375 C 1.183594 -6.339844 1.484375 -6.367188 1.832031 -6.425781 C 2.175781 -6.476563 2.441406 -6.539063 2.625 -6.617188 L 2.789063 -6.617188 Z \"/>\n",
       "</symbol>\n",
       "<symbol overflow=\"visible\" id=\"glyph0-12\">\n",
       "<path style=\"stroke:none;\" d=\"M 5.46875 -4.976563 C 5.464844 -6.539063 5.230469 -7.644531 4.757813 -8.285156 C 4.28125 -8.921875 3.625 -9.238281 2.789063 -9.242188 C 2.53125 -9.238281 2.339844 -9.203125 2.214844 -9.132813 C 2.085938 -9.058594 2.019531 -8.949219 2.023438 -8.804688 L 2.023438 -0.984375 C 2.019531 -0.835938 2.074219 -0.726563 2.1875 -0.65625 C 2.292969 -0.582031 2.441406 -0.542969 2.625 -0.546875 C 3.425781 -0.542969 4.097656 -0.84375 4.648438 -1.449219 C 5.191406 -2.046875 5.464844 -3.222656 5.46875 -4.976563 Z M 1.148438 -8.804688 C 1.148438 -8.949219 1.109375 -9.058594 1.039063 -9.132813 C 0.960938 -9.203125 0.835938 -9.238281 0.65625 -9.242188 L 0.328125 -9.242188 L 0.328125 -9.570313 L 2.789063 -9.570313 C 3.917969 -9.566406 4.820313 -9.203125 5.496094 -8.476563 C 6.167969 -7.746094 6.503906 -6.617188 6.507813 -5.085938 C 6.503906 -3.40625 6.175781 -2.175781 5.523438 -1.394531 C 4.863281 -0.609375 3.898438 -0.214844 2.625 -0.21875 L 0.273438 -0.21875 L 0.273438 -0.546875 L 0.65625 -0.546875 C 0.835938 -0.542969 0.960938 -0.582031 1.039063 -0.65625 C 1.109375 -0.726563 1.148438 -0.835938 1.148438 -0.984375 Z \"/>\n",
       "</symbol>\n",
       "<symbol overflow=\"visible\" id=\"glyph0-13\">\n",
       "<path style=\"stroke:none;\" d=\"M 0.4375 -0.21875 L 0.4375 -0.546875 L 0.710938 -0.546875 C 0.890625 -0.542969 1.019531 -0.582031 1.09375 -0.65625 C 1.164063 -0.726563 1.199219 -0.835938 1.203125 -0.984375 L 1.203125 -5.6875 C 1.199219 -5.792969 1.183594 -5.875 1.148438 -5.933594 C 1.109375 -5.984375 1.035156 -6.011719 0.929688 -6.015625 L 0.492188 -6.015625 L 0.492188 -6.34375 L 0.875 -6.34375 C 1.054688 -6.339844 1.230469 -6.359375 1.394531 -6.398438 C 1.558594 -6.433594 1.710938 -6.503906 1.859375 -6.617188 L 1.96875 -6.617188 L 1.96875 -5.359375 C 2.296875 -5.722656 2.625 -5.996094 2.953125 -6.179688 C 3.28125 -6.359375 3.625 -6.449219 3.992188 -6.453125 C 4.609375 -6.449219 5.066406 -6.285156 5.359375 -5.960938 C 5.648438 -5.628906 5.792969 -5.136719 5.796875 -4.484375 L 5.796875 -0.984375 C 5.792969 -0.835938 5.839844 -0.726563 5.933594 -0.65625 C 6.023438 -0.582031 6.140625 -0.542969 6.289063 -0.546875 L 6.5625 -0.546875 L 6.5625 -0.21875 L 4.265625 -0.21875 L 4.265625 -0.546875 L 4.539063 -0.546875 C 4.71875 -0.542969 4.847656 -0.582031 4.921875 -0.65625 C 4.992188 -0.726563 5.027344 -0.835938 5.03125 -0.984375 L 5.03125 -4.648438 C 5.027344 -5.082031 4.9375 -5.421875 4.757813 -5.660156 C 4.574219 -5.894531 4.300781 -6.011719 3.9375 -6.015625 C 3.609375 -6.011719 3.269531 -5.902344 2.925781 -5.6875 C 2.574219 -5.464844 2.257813 -5.15625 1.96875 -4.757813 L 1.96875 -0.984375 C 1.96875 -0.835938 2.011719 -0.726563 2.105469 -0.65625 C 2.191406 -0.582031 2.3125 -0.542969 2.460938 -0.546875 L 2.734375 -0.546875 L 2.734375 -0.21875 Z \"/>\n",
       "</symbol>\n",
       "<symbol overflow=\"visible\" id=\"glyph0-14\">\n",
       "<path style=\"stroke:none;\" d=\"M 1.367188 -4.757813 C 1.363281 -5.304688 1.574219 -5.722656 1.996094 -6.015625 C 2.414063 -6.304688 2.914063 -6.449219 3.5 -6.453125 C 3.824219 -6.449219 4.136719 -6.414063 4.429688 -6.34375 C 4.71875 -6.230469 4.917969 -6.175781 5.03125 -6.179688 C 5.136719 -6.175781 5.226563 -6.195313 5.304688 -6.234375 C 5.375 -6.269531 5.46875 -6.339844 5.578125 -6.453125 L 5.796875 -4.648438 L 5.46875 -4.59375 C 5.320313 -5.066406 5.074219 -5.4375 4.730469 -5.714844 C 4.378906 -5.984375 3.988281 -6.121094 3.554688 -6.125 C 3.078125 -6.121094 2.703125 -6.03125 2.433594 -5.851563 C 2.15625 -5.667969 2.019531 -5.414063 2.023438 -5.085938 C 2.019531 -4.792969 2.085938 -4.5625 2.214844 -4.402344 C 2.339844 -4.234375 2.566406 -4.117188 2.898438 -4.046875 C 3.152344 -3.933594 3.480469 -3.824219 3.882813 -3.71875 C 4.246094 -3.570313 4.59375 -3.425781 4.921875 -3.28125 C 5.210938 -3.132813 5.457031 -2.941406 5.660156 -2.707031 C 5.859375 -2.46875 5.957031 -2.203125 5.960938 -1.914063 C 5.957031 -1.363281 5.765625 -0.933594 5.386719 -0.628906 C 5 -0.316406 4.445313 -0.164063 3.71875 -0.164063 C 3.242188 -0.164063 2.894531 -0.21875 2.679688 -0.328125 C 2.421875 -0.398438 2.222656 -0.433594 2.078125 -0.4375 C 1.964844 -0.433594 1.847656 -0.40625 1.722656 -0.355469 C 1.59375 -0.296875 1.457031 -0.234375 1.3125 -0.164063 L 1.148438 -2.1875 L 1.476563 -2.242188 C 1.585938 -1.65625 1.820313 -1.21875 2.1875 -0.929688 C 2.546875 -0.636719 3.058594 -0.492188 3.71875 -0.492188 C 4.226563 -0.492188 4.617188 -0.582031 4.894531 -0.765625 C 5.164063 -0.945313 5.300781 -1.21875 5.304688 -1.585938 C 5.300781 -1.839844 5.230469 -2.050781 5.085938 -2.214844 C 4.9375 -2.378906 4.789063 -2.496094 4.648438 -2.570313 C 4.28125 -2.714844 3.882813 -2.878906 3.445313 -3.0625 C 3.007813 -3.207031 2.625 -3.351563 2.296875 -3.5 C 1.96875 -3.640625 1.730469 -3.824219 1.585938 -4.046875 C 1.4375 -4.261719 1.363281 -4.5 1.367188 -4.757813 Z \"/>\n",
       "</symbol>\n",
       "<symbol overflow=\"visible\" id=\"glyph0-15\">\n",
       "<path style=\"stroke:none;\" d=\"M 0.4375 -9.242188 L 0.4375 -9.570313 L 5.796875 -9.570313 L 6.398438 -7.710938 L 6.125 -7.601563 C 5.828125 -8.144531 5.519531 -8.554688 5.195313 -8.832031 C 4.863281 -9.101563 4.5 -9.238281 4.101563 -9.242188 L 2.570313 -9.242188 C 2.421875 -9.238281 2.304688 -9.203125 2.214844 -9.132813 C 2.121094 -9.058594 2.074219 -8.949219 2.078125 -8.804688 L 2.078125 -5.414063 L 3.664063 -5.414063 C 4.023438 -5.414063 4.289063 -5.503906 4.457031 -5.6875 C 4.617188 -5.867188 4.699219 -6.140625 4.703125 -6.507813 L 4.703125 -6.835938 L 5.03125 -6.835938 L 5.03125 -3.609375 L 4.703125 -3.609375 L 4.703125 -3.828125 C 4.699219 -4.226563 4.617188 -4.539063 4.457031 -4.757813 C 4.289063 -4.976563 4.023438 -5.085938 3.664063 -5.085938 L 2.078125 -5.085938 L 2.078125 -0.984375 C 2.074219 -0.835938 2.121094 -0.726563 2.214844 -0.65625 C 2.304688 -0.582031 2.421875 -0.542969 2.570313 -0.546875 L 3.992188 -0.546875 C 4.535156 -0.542969 5 -0.699219 5.386719 -1.011719 C 5.765625 -1.320313 6.066406 -1.804688 6.289063 -2.460938 L 6.5625 -2.351563 L 5.960938 -0.21875 L 0.382813 -0.21875 L 0.382813 -0.546875 L 0.710938 -0.546875 C 0.890625 -0.542969 1.019531 -0.582031 1.09375 -0.65625 C 1.164063 -0.726563 1.199219 -0.835938 1.203125 -0.984375 L 1.203125 -8.804688 C 1.199219 -8.949219 1.164063 -9.058594 1.09375 -9.132813 C 1.019531 -9.203125 0.890625 -9.238281 0.710938 -9.242188 Z \"/>\n",
       "</symbol>\n",
       "<symbol overflow=\"visible\" id=\"glyph0-16\">\n",
       "<path style=\"stroke:none;\" d=\"M 3.28125 -1.96875 C 3.28125 -1.457031 3.371094 -1.109375 3.554688 -0.929688 C 3.734375 -0.746094 4.007813 -0.65625 4.375 -0.65625 C 4.738281 -0.65625 5.03125 -0.773438 5.25 -1.011719 C 5.46875 -1.246094 5.613281 -1.582031 5.6875 -2.023438 L 5.960938 -1.914063 C 5.882813 -1.402344 5.691406 -0.984375 5.386719 -0.65625 C 5.074219 -0.328125 4.664063 -0.164063 4.15625 -0.164063 C 3.605469 -0.164063 3.195313 -0.328125 2.925781 -0.65625 C 2.648438 -0.984375 2.511719 -1.492188 2.515625 -2.1875 L 2.515625 -6.015625 L 0.875 -6.015625 L 0.875 -6.34375 L 1.3125 -6.34375 C 1.75 -6.339844 2.105469 -6.476563 2.378906 -6.753906 C 2.652344 -7.023438 2.824219 -7.453125 2.898438 -8.039063 L 2.953125 -8.476563 L 3.28125 -8.476563 L 3.28125 -6.34375 L 5.46875 -6.34375 L 5.46875 -6.015625 L 3.28125 -6.015625 Z \"/>\n",
       "</symbol>\n",
       "<symbol overflow=\"visible\" id=\"glyph0-17\">\n",
       "<path style=\"stroke:none;\" d=\"M 0.4375 -0.21875 L 0.4375 -0.546875 L 0.710938 -0.546875 C 0.890625 -0.542969 1.019531 -0.582031 1.09375 -0.65625 C 1.164063 -0.726563 1.199219 -0.835938 1.203125 -0.984375 L 1.203125 -8.804688 C 1.199219 -8.949219 1.164063 -9.058594 1.09375 -9.132813 C 1.019531 -9.203125 0.890625 -9.238281 0.710938 -9.242188 L 0.382813 -9.242188 L 0.382813 -9.570313 L 0.984375 -9.570313 C 1.128906 -9.566406 1.273438 -9.605469 1.421875 -9.679688 C 1.566406 -9.75 1.710938 -9.859375 1.859375 -10.007813 L 1.96875 -10.007813 L 1.96875 -5.359375 C 2.296875 -5.757813 2.632813 -6.039063 2.980469 -6.207031 C 3.324219 -6.367188 3.699219 -6.449219 4.101563 -6.453125 C 4.648438 -6.449219 5.066406 -6.296875 5.359375 -5.988281 C 5.648438 -5.675781 5.792969 -5.191406 5.796875 -4.539063 L 5.796875 -0.984375 C 5.792969 -0.835938 5.839844 -0.726563 5.933594 -0.65625 C 6.023438 -0.582031 6.140625 -0.542969 6.289063 -0.546875 L 6.5625 -0.546875 L 6.5625 -0.21875 L 4.265625 -0.21875 L 4.265625 -0.546875 L 4.539063 -0.546875 C 4.71875 -0.542969 4.847656 -0.582031 4.921875 -0.65625 C 4.992188 -0.726563 5.027344 -0.835938 5.03125 -0.984375 L 5.03125 -4.429688 C 5.027344 -5.046875 4.925781 -5.457031 4.730469 -5.660156 C 4.527344 -5.859375 4.265625 -5.957031 3.9375 -5.960938 C 3.644531 -5.957031 3.324219 -5.867188 2.980469 -5.6875 C 2.632813 -5.503906 2.296875 -5.195313 1.96875 -4.757813 L 1.96875 -0.984375 C 1.96875 -0.835938 2.011719 -0.726563 2.105469 -0.65625 C 2.191406 -0.582031 2.3125 -0.542969 2.460938 -0.546875 L 2.734375 -0.546875 L 2.734375 -0.21875 Z \"/>\n",
       "</symbol>\n",
       "<symbol overflow=\"visible\" id=\"glyph0-18\">\n",
       "<path style=\"stroke:none;\" d=\"M 2.953125 -0.546875 L 2.953125 -0.21875 L 0.328125 -0.21875 L 0.328125 -0.546875 L 0.710938 -0.546875 C 0.890625 -0.542969 1.019531 -0.582031 1.09375 -0.65625 C 1.164063 -0.726563 1.199219 -0.835938 1.203125 -0.984375 L 1.203125 -8.804688 C 1.199219 -8.949219 1.164063 -9.058594 1.09375 -9.132813 C 1.019531 -9.203125 0.890625 -9.238281 0.710938 -9.242188 L 0.382813 -9.242188 L 0.382813 -9.570313 L 6.070313 -9.570313 L 6.726563 -7.601563 L 6.453125 -7.492188 C 6.15625 -8.074219 5.8125 -8.511719 5.414063 -8.804688 C 5.011719 -9.09375 4.574219 -9.238281 4.101563 -9.242188 L 2.570313 -9.242188 C 2.421875 -9.238281 2.304688 -9.203125 2.214844 -9.132813 C 2.121094 -9.058594 2.074219 -8.949219 2.078125 -8.804688 L 2.078125 -5.304688 L 3.882813 -5.304688 C 4.246094 -5.300781 4.511719 -5.382813 4.675781 -5.550781 C 4.839844 -5.710938 4.921875 -5.976563 4.921875 -6.34375 L 4.921875 -6.617188 L 5.25 -6.617188 L 5.25 -3.445313 L 4.921875 -3.445313 L 4.921875 -3.664063 C 4.921875 -4.097656 4.839844 -4.425781 4.675781 -4.648438 C 4.511719 -4.863281 4.246094 -4.972656 3.882813 -4.976563 L 2.078125 -4.976563 L 2.078125 -0.984375 C 2.074219 -0.835938 2.121094 -0.726563 2.214844 -0.65625 C 2.304688 -0.582031 2.421875 -0.542969 2.570313 -0.546875 Z \"/>\n",
       "</symbol>\n",
       "<symbol overflow=\"visible\" id=\"glyph0-19\">\n",
       "<path style=\"stroke:none;\" d=\"M 3.664063 -4.15625 L 5.742188 -0.929688 C 5.851563 -0.78125 5.949219 -0.679688 6.042969 -0.628906 C 6.128906 -0.570313 6.230469 -0.542969 6.34375 -0.546875 L 6.5625 -0.546875 L 6.5625 -0.21875 L 4.320313 -0.21875 L 4.320313 -0.546875 L 4.484375 -0.546875 C 4.664063 -0.542969 4.792969 -0.570313 4.867188 -0.628906 C 4.9375 -0.679688 4.917969 -0.78125 4.8125 -0.929688 L 3.117188 -3.570313 L 2.023438 -2.460938 L 2.023438 -0.984375 C 2.019531 -0.835938 2.066406 -0.726563 2.160156 -0.65625 C 2.25 -0.582031 2.367188 -0.542969 2.515625 -0.546875 L 2.789063 -0.546875 L 2.789063 -0.21875 L 0.492188 -0.21875 L 0.492188 -0.546875 L 0.765625 -0.546875 C 0.945313 -0.542969 1.074219 -0.582031 1.148438 -0.65625 C 1.21875 -0.726563 1.253906 -0.835938 1.257813 -0.984375 L 1.257813 -8.804688 C 1.253906 -8.949219 1.21875 -9.058594 1.148438 -9.132813 C 1.074219 -9.203125 0.945313 -9.238281 0.765625 -9.242188 L 0.4375 -9.242188 L 0.4375 -9.570313 L 0.929688 -9.570313 C 1.144531 -9.566406 1.335938 -9.605469 1.503906 -9.679688 C 1.664063 -9.75 1.800781 -9.859375 1.914063 -10.007813 L 2.023438 -10.007813 L 2.023438 -3.0625 L 4.320313 -5.523438 C 4.390625 -5.667969 4.417969 -5.785156 4.402344 -5.878906 C 4.378906 -5.964844 4.296875 -6.011719 4.15625 -6.015625 L 3.828125 -6.015625 L 3.828125 -6.34375 L 6.125 -6.34375 L 6.125 -6.015625 L 5.851563 -6.015625 C 5.738281 -6.011719 5.601563 -5.984375 5.441406 -5.933594 C 5.273438 -5.875 5.117188 -5.773438 4.976563 -5.632813 Z \"/>\n",
       "</symbol>\n",
       "<symbol overflow=\"visible\" id=\"glyph0-20\">\n",
       "<path style=\"stroke:none;\" d=\"M 3.554688 -9.296875 C 3.003906 -9.292969 2.503906 -8.917969 2.050781 -8.175781 C 1.59375 -7.425781 1.363281 -6.289063 1.367188 -4.757813 C 1.363281 -3.734375 1.539063 -2.765625 1.886719 -1.859375 C 2.230469 -0.945313 2.804688 -0.492188 3.609375 -0.492188 C 4.007813 -0.492188 4.324219 -0.574219 4.566406 -0.738281 C 4.800781 -0.902344 4.9375 -1.148438 4.976563 -1.476563 L 4.976563 -3.335938 C 4.972656 -3.550781 4.917969 -3.714844 4.8125 -3.828125 C 4.699219 -3.933594 4.535156 -3.988281 4.320313 -3.992188 L 3.992188 -3.992188 L 3.992188 -4.320313 L 6.726563 -4.320313 L 6.726563 -3.992188 L 6.453125 -3.992188 C 6.265625 -3.988281 6.121094 -3.933594 6.015625 -3.828125 C 5.902344 -3.714844 5.847656 -3.570313 5.851563 -3.390625 L 5.851563 -0.65625 C 5.777344 -0.691406 5.714844 -0.71875 5.660156 -0.738281 C 5.605469 -0.753906 5.539063 -0.761719 5.46875 -0.765625 C 5.390625 -0.761719 5.320313 -0.753906 5.25 -0.738281 C 5.175781 -0.71875 5.101563 -0.671875 5.03125 -0.601563 C 4.808594 -0.417969 4.582031 -0.289063 4.347656 -0.21875 C 4.109375 -0.140625 3.84375 -0.105469 3.554688 -0.109375 C 2.457031 -0.105469 1.65625 -0.589844 1.148438 -1.558594 C 0.636719 -2.523438 0.378906 -3.589844 0.382813 -4.757813 C 0.378906 -6.105469 0.679688 -7.261719 1.285156 -8.230469 C 1.882813 -9.195313 2.640625 -9.679688 3.554688 -9.679688 C 3.769531 -9.679688 4.023438 -9.625 4.320313 -9.515625 C 4.609375 -9.40625 4.792969 -9.351563 4.867188 -9.351563 C 4.972656 -9.351563 5.082031 -9.378906 5.195313 -9.433594 C 5.300781 -9.488281 5.390625 -9.570313 5.46875 -9.679688 L 5.90625 -7.21875 L 5.578125 -7.109375 C 5.359375 -7.871094 5.085938 -8.429688 4.757813 -8.777344 C 4.429688 -9.121094 4.027344 -9.292969 3.554688 -9.296875 Z \"/>\n",
       "</symbol>\n",
       "<symbol overflow=\"visible\" id=\"glyph0-21\">\n",
       "<path style=\"stroke:none;\" d=\"M 1.914063 -4.320313 C 1.910156 -3.878906 2.039063 -3.507813 2.296875 -3.199219 C 2.550781 -2.886719 2.894531 -2.730469 3.335938 -2.734375 C 3.804688 -2.730469 4.160156 -2.867188 4.402344 -3.144531 C 4.636719 -3.414063 4.757813 -3.804688 4.757813 -4.320313 C 4.757813 -4.9375 4.621094 -5.386719 4.347656 -5.660156 C 4.074219 -5.933594 3.734375 -6.070313 3.335938 -6.070313 C 2.929688 -6.070313 2.59375 -5.933594 2.324219 -5.660156 C 2.046875 -5.386719 1.910156 -4.9375 1.914063 -4.320313 Z M 4.59375 -1.367188 C 5.140625 -1.289063 5.539063 -1.136719 5.796875 -0.902344 C 6.046875 -0.664063 6.175781 -0.347656 6.179688 0.0546875 C 6.175781 0.597656 5.949219 1.035156 5.496094 1.367188 C 5.039063 1.691406 4.316406 1.855469 3.335938 1.859375 C 2.566406 1.855469 1.949219 1.703125 1.476563 1.394531 C 1 1.082031 0.761719 0.726563 0.765625 0.328125 C 0.761719 0.0742188 0.851563 -0.179688 1.039063 -0.4375 C 1.21875 -0.691406 1.511719 -0.890625 1.914063 -1.039063 C 1.691406 -1.144531 1.519531 -1.265625 1.394531 -1.394531 C 1.265625 -1.519531 1.199219 -1.671875 1.203125 -1.859375 C 1.199219 -2.074219 1.273438 -2.265625 1.421875 -2.433594 C 1.566406 -2.59375 1.75 -2.730469 1.96875 -2.84375 C 1.75 -3.023438 1.558594 -3.242188 1.394531 -3.5 C 1.230469 -3.75 1.148438 -4.023438 1.148438 -4.320313 C 1.148438 -4.863281 1.339844 -5.347656 1.722656 -5.769531 C 2.105469 -6.1875 2.640625 -6.398438 3.335938 -6.398438 C 3.625 -6.398438 3.910156 -6.359375 4.183594 -6.289063 C 4.457031 -6.210938 4.683594 -6.085938 4.867188 -5.90625 C 5.121094 -6.085938 5.347656 -6.222656 5.550781 -6.316406 C 5.746094 -6.40625 5.921875 -6.449219 6.070313 -6.453125 C 6.25 -6.449219 6.375 -6.386719 6.453125 -6.261719 C 6.523438 -6.132813 6.5625 -6.015625 6.5625 -5.90625 C 6.5625 -5.757813 6.535156 -5.636719 6.480469 -5.550781 C 6.425781 -5.457031 6.324219 -5.414063 6.179688 -5.414063 C 6.066406 -5.414063 5.976563 -5.441406 5.90625 -5.496094 C 5.832031 -5.550781 5.777344 -5.632813 5.742188 -5.742188 C 5.703125 -5.851563 5.621094 -5.894531 5.496094 -5.878906 C 5.367188 -5.855469 5.230469 -5.792969 5.085938 -5.6875 C 5.230469 -5.539063 5.339844 -5.339844 5.414063 -5.085938 C 5.484375 -4.828125 5.519531 -4.570313 5.523438 -4.320313 C 5.519531 -3.878906 5.347656 -3.453125 5.003906 -3.035156 C 4.65625 -2.613281 4.097656 -2.402344 3.335938 -2.40625 C 3.113281 -2.402344 2.914063 -2.429688 2.734375 -2.488281 C 2.550781 -2.539063 2.40625 -2.601563 2.296875 -2.679688 C 2.148438 -2.601563 2.039063 -2.511719 1.96875 -2.40625 C 1.894531 -2.292969 1.855469 -2.203125 1.859375 -2.132813 C 1.855469 -1.984375 1.894531 -1.875 1.96875 -1.804688 C 2.039063 -1.730469 2.148438 -1.691406 2.296875 -1.695313 C 2.769531 -1.617188 3.195313 -1.554688 3.582031 -1.503906 C 3.960938 -1.445313 4.300781 -1.398438 4.59375 -1.367188 Z M 2.351563 -0.929688 C 2.019531 -0.78125 1.792969 -0.609375 1.667969 -0.410156 C 1.539063 -0.207031 1.476563 0.0390625 1.476563 0.328125 C 1.476563 0.617188 1.640625 0.890625 1.96875 1.148438 C 2.296875 1.402344 2.789063 1.527344 3.445313 1.53125 C 4.0625 1.527344 4.554688 1.429688 4.921875 1.230469 C 5.285156 1.027344 5.464844 0.726563 5.46875 0.328125 C 5.464844 0.0742188 5.421875 -0.125 5.332031 -0.273438 C 5.238281 -0.417969 5.101563 -0.507813 4.921875 -0.546875 C 4.554688 -0.617188 4.152344 -0.691406 3.71875 -0.765625 C 3.277344 -0.800781 2.820313 -0.855469 2.351563 -0.929688 Z \"/>\n",
       "</symbol>\n",
       "</g>\n",
       "</defs>\n",
       "<g id=\"surface38\">\n",
       "<rect x=\"0\" y=\"0\" width=\"300\" height=\"300\" style=\"fill:rgb(100%,100%,100%);fill-opacity:1;stroke:none;\"/>\n",
       "<path style=\"fill:none;stroke-width:1;stroke-linecap:butt;stroke-linejoin:miter;stroke:rgb(26.666667%,26.666667%,26.666667%);stroke-opacity:1;stroke-miterlimit:10;\" d=\"M 192.886719 153.515625 L 280 132.726563 \"/>\n",
       "<path style=\"fill:none;stroke-width:1;stroke-linecap:butt;stroke-linejoin:miter;stroke:rgb(26.666667%,26.666667%,26.666667%);stroke-opacity:1;stroke-miterlimit:10;\" d=\"M 192.886719 153.515625 L 110.273438 110.5 \"/>\n",
       "<path style=\"fill:none;stroke-width:1;stroke-linecap:butt;stroke-linejoin:miter;stroke:rgb(26.666667%,26.666667%,26.666667%);stroke-opacity:1;stroke-miterlimit:10;\" d=\"M 110.273438 110.5 L 20 143.789063 \"/>\n",
       "<path style=\"fill:none;stroke-width:1;stroke-linecap:butt;stroke-linejoin:miter;stroke:rgb(26.666667%,26.666667%,26.666667%);stroke-opacity:1;stroke-miterlimit:10;\" d=\"M 20 143.789063 L 47.320313 20 \"/>\n",
       "<path style=\"fill:none;stroke-width:1;stroke-linecap:butt;stroke-linejoin:miter;stroke:rgb(26.666667%,26.666667%,26.666667%);stroke-opacity:1;stroke-miterlimit:10;\" d=\"M 110.273438 110.5 L 47.320313 20 \"/>\n",
       "<path style=\"fill:none;stroke-width:1;stroke-linecap:butt;stroke-linejoin:miter;stroke:rgb(26.666667%,26.666667%,26.666667%);stroke-opacity:1;stroke-miterlimit:10;\" d=\"M 110.273438 110.5 L 131.75 247.253906 \"/>\n",
       "<path style=\"fill:none;stroke-width:1;stroke-linecap:butt;stroke-linejoin:miter;stroke:rgb(26.666667%,26.666667%,26.666667%);stroke-opacity:1;stroke-miterlimit:10;\" d=\"M 192.886719 153.515625 L 131.75 247.253906 \"/>\n",
       "<path style=\"fill:none;stroke-width:1;stroke-linecap:butt;stroke-linejoin:miter;stroke:rgb(26.666667%,26.666667%,26.666667%);stroke-opacity:1;stroke-miterlimit:10;\" d=\"M 20 143.789063 L 41.933594 280 \"/>\n",
       "<path style=\"fill:none;stroke-width:1;stroke-linecap:butt;stroke-linejoin:miter;stroke:rgb(26.666667%,26.666667%,26.666667%);stroke-opacity:1;stroke-miterlimit:10;\" d=\"M 131.75 247.253906 L 41.933594 280 \"/>\n",
       "<path style=\"fill-rule:nonzero;fill:rgb(100%,75.294118%,79.607843%);fill-opacity:1;stroke-width:1;stroke-linecap:butt;stroke-linejoin:miter;stroke:rgb(0%,0%,0%);stroke-opacity:1;stroke-miterlimit:10;\" d=\"M 202.886719 153.515625 C 202.886719 159.039063 198.40625 163.515625 192.886719 163.515625 C 187.363281 163.515625 182.886719 159.039063 182.886719 153.515625 C 182.886719 147.992188 187.363281 143.515625 192.886719 143.515625 C 198.40625 143.515625 202.886719 147.992188 202.886719 153.515625 \"/>\n",
       "<path style=\"fill-rule:nonzero;fill:rgb(0%,0%,100%);fill-opacity:1;stroke-width:1;stroke-linecap:butt;stroke-linejoin:miter;stroke:rgb(0%,0%,0%);stroke-opacity:1;stroke-miterlimit:10;\" d=\"M 290 132.726563 C 290 138.25 285.523438 142.726563 280 142.726563 C 274.476563 142.726563 270 138.25 270 132.726563 C 270 127.203125 274.476563 122.726563 280 122.726563 C 285.523438 122.726563 290 127.203125 290 132.726563 \"/>\n",
       "<path style=\"fill-rule:nonzero;fill:rgb(100%,75.294118%,79.607843%);fill-opacity:1;stroke-width:1;stroke-linecap:butt;stroke-linejoin:miter;stroke:rgb(0%,0%,0%);stroke-opacity:1;stroke-miterlimit:10;\" d=\"M 120.273438 110.5 C 120.273438 116.019531 115.796875 120.5 110.273438 120.5 C 104.75 120.5 100.273438 116.019531 100.273438 110.5 C 100.273438 104.976563 104.75 100.5 110.273438 100.5 C 115.796875 100.5 120.273438 104.976563 120.273438 110.5 \"/>\n",
       "<path style=\"fill-rule:nonzero;fill:rgb(0%,0%,100%);fill-opacity:1;stroke-width:1;stroke-linecap:butt;stroke-linejoin:miter;stroke:rgb(0%,0%,0%);stroke-opacity:1;stroke-miterlimit:10;\" d=\"M 30 143.789063 C 30 149.3125 25.523438 153.789063 20 153.789063 C 14.476563 153.789063 10 149.3125 10 143.789063 C 10 138.265625 14.476563 133.789063 20 133.789063 C 25.523438 133.789063 30 138.265625 30 143.789063 \"/>\n",
       "<path style=\"fill-rule:nonzero;fill:rgb(100%,75.294118%,79.607843%);fill-opacity:1;stroke-width:1;stroke-linecap:butt;stroke-linejoin:miter;stroke:rgb(0%,0%,0%);stroke-opacity:1;stroke-miterlimit:10;\" d=\"M 57.320313 20 C 57.320313 25.523438 52.84375 30 47.320313 30 C 41.796875 30 37.320313 25.523438 37.320313 20 C 37.320313 14.476563 41.796875 10 47.320313 10 C 52.84375 10 57.320313 14.476563 57.320313 20 \"/>\n",
       "<path style=\"fill-rule:nonzero;fill:rgb(0%,0%,100%);fill-opacity:1;stroke-width:1;stroke-linecap:butt;stroke-linejoin:miter;stroke:rgb(0%,0%,0%);stroke-opacity:1;stroke-miterlimit:10;\" d=\"M 141.75 247.253906 C 141.75 252.777344 137.273438 257.253906 131.75 257.253906 C 126.226563 257.253906 121.75 252.777344 121.75 247.253906 C 121.75 241.730469 126.226563 237.253906 131.75 237.253906 C 137.273438 237.253906 141.75 241.730469 141.75 247.253906 \"/>\n",
       "<path style=\"fill-rule:nonzero;fill:rgb(0%,0%,100%);fill-opacity:1;stroke-width:1;stroke-linecap:butt;stroke-linejoin:miter;stroke:rgb(0%,0%,0%);stroke-opacity:1;stroke-miterlimit:10;\" d=\"M 51.933594 280 C 51.933594 285.523438 47.457031 290 41.933594 290 C 36.410156 290 31.933594 285.523438 31.933594 280 C 31.933594 274.476563 36.410156 270 41.933594 270 C 47.457031 270 51.933594 274.476563 51.933594 280 \"/>\n",
       "<g style=\"fill:rgb(0%,0%,0%);fill-opacity:1;\">\n",
       "  <use xlink:href=\"#glyph0-1\" x=\"175.742188\" y=\"159.519531\"/>\n",
       "  <use xlink:href=\"#glyph0-2\" x=\"182.742188\" y=\"159.519531\"/>\n",
       "  <use xlink:href=\"#glyph0-3\" x=\"189.742188\" y=\"159.519531\"/>\n",
       "  <use xlink:href=\"#glyph0-4\" x=\"196.742188\" y=\"159.519531\"/>\n",
       "  <use xlink:href=\"#glyph0-5\" x=\"203.742188\" y=\"159.519531\"/>\n",
       "</g>\n",
       "<g style=\"fill:rgb(0%,0%,0%);fill-opacity:1;\">\n",
       "  <use xlink:href=\"#glyph0-6\" x=\"269.773438\" y=\"138.730469\"/>\n",
       "  <use xlink:href=\"#glyph0-7\" x=\"276.773438\" y=\"138.730469\"/>\n",
       "  <use xlink:href=\"#glyph0-8\" x=\"283.773438\" y=\"138.730469\"/>\n",
       "</g>\n",
       "<g style=\"fill:rgb(0%,0%,0%);fill-opacity:1;\">\n",
       "  <use xlink:href=\"#glyph0-9\" x=\"89.464844\" y=\"116.503906\"/>\n",
       "  <use xlink:href=\"#glyph0-2\" x=\"96.464844\" y=\"116.503906\"/>\n",
       "  <use xlink:href=\"#glyph0-10\" x=\"103.464844\" y=\"116.503906\"/>\n",
       "  <use xlink:href=\"#glyph0-3\" x=\"110.464844\" y=\"116.503906\"/>\n",
       "  <use xlink:href=\"#glyph0-11\" x=\"117.464844\" y=\"116.503906\"/>\n",
       "  <use xlink:href=\"#glyph0-5\" x=\"124.464844\" y=\"116.503906\"/>\n",
       "</g>\n",
       "<g style=\"fill:rgb(0%,0%,0%);fill-opacity:1;\">\n",
       "  <use xlink:href=\"#glyph0-12\" x=\"-0.617188\" y=\"149.628906\"/>\n",
       "  <use xlink:href=\"#glyph0-5\" x=\"6.382813\" y=\"149.628906\"/>\n",
       "  <use xlink:href=\"#glyph0-13\" x=\"13.382813\" y=\"149.628906\"/>\n",
       "  <use xlink:href=\"#glyph0-13\" x=\"20.382813\" y=\"149.628906\"/>\n",
       "  <use xlink:href=\"#glyph0-3\" x=\"27.382813\" y=\"149.628906\"/>\n",
       "  <use xlink:href=\"#glyph0-14\" x=\"34.382813\" y=\"149.628906\"/>\n",
       "</g>\n",
       "<g style=\"fill:rgb(0%,0%,0%);fill-opacity:1;\">\n",
       "  <use xlink:href=\"#glyph0-15\" x=\"26.429688\" y=\"26.003906\"/>\n",
       "  <use xlink:href=\"#glyph0-14\" x=\"33.429688\" y=\"26.003906\"/>\n",
       "  <use xlink:href=\"#glyph0-16\" x=\"40.429688\" y=\"26.003906\"/>\n",
       "  <use xlink:href=\"#glyph0-17\" x=\"47.429688\" y=\"26.003906\"/>\n",
       "  <use xlink:href=\"#glyph0-5\" x=\"54.429688\" y=\"26.003906\"/>\n",
       "  <use xlink:href=\"#glyph0-11\" x=\"61.429688\" y=\"26.003906\"/>\n",
       "</g>\n",
       "<g style=\"fill:rgb(0%,0%,0%);fill-opacity:1;\">\n",
       "  <use xlink:href=\"#glyph0-18\" x=\"114.304688\" y=\"253.257813\"/>\n",
       "  <use xlink:href=\"#glyph0-11\" x=\"121.304688\" y=\"253.257813\"/>\n",
       "  <use xlink:href=\"#glyph0-10\" x=\"128.304688\" y=\"253.257813\"/>\n",
       "  <use xlink:href=\"#glyph0-13\" x=\"135.304688\" y=\"253.257813\"/>\n",
       "  <use xlink:href=\"#glyph0-19\" x=\"142.304688\" y=\"253.257813\"/>\n",
       "</g>\n",
       "<g style=\"fill:rgb(0%,0%,0%);fill-opacity:1;\">\n",
       "  <use xlink:href=\"#glyph0-20\" x=\"21.152344\" y=\"285.839844\"/>\n",
       "  <use xlink:href=\"#glyph0-5\" x=\"28.152344\" y=\"285.839844\"/>\n",
       "  <use xlink:href=\"#glyph0-7\" x=\"35.152344\" y=\"285.839844\"/>\n",
       "  <use xlink:href=\"#glyph0-11\" x=\"42.152344\" y=\"285.839844\"/>\n",
       "  <use xlink:href=\"#glyph0-21\" x=\"49.152344\" y=\"285.839844\"/>\n",
       "  <use xlink:href=\"#glyph0-5\" x=\"56.152344\" y=\"285.839844\"/>\n",
       "</g>\n",
       "</g>\n",
       "</svg>\n"
      ],
      "text/plain": [
       "<igraph.drawing.Plot at 0x6482400>"
      ]
     },
     "execution_count": 81,
     "metadata": {},
     "output_type": "execute_result"
    }
   ],
   "source": [
    "plot(g,layout=layout,bbox=(300,300),margin=20)"
   ]
  },
  {
   "cell_type": "raw",
   "metadata": {},
   "source": [
    "您也可以将它们作为关键字参数指定为plot（），而不是将视觉属性指定为顶点和边的属性。"
   ]
  },
  {
   "cell_type": "code",
   "execution_count": 83,
   "metadata": {},
   "outputs": [],
   "source": [
    "color_dict={'m':'black','f':'white'}"
   ]
  },
  {
   "cell_type": "code",
   "execution_count": 84,
   "metadata": {},
   "outputs": [
    {
     "data": {
      "image/svg+xml": [
       "<?xml version=\"1.0\" encoding=\"UTF-8\"?>\n",
       "<svg xmlns=\"http://www.w3.org/2000/svg\" xmlns:xlink=\"http://www.w3.org/1999/xlink\" width=\"600pt\" height=\"600pt\" viewBox=\"0 0 600 600\" version=\"1.1\">\n",
       "<defs>\n",
       "<g>\n",
       "<symbol overflow=\"visible\" id=\"glyph0-0\">\n",
       "<path style=\"stroke:none;\" d=\"\"/>\n",
       "</symbol>\n",
       "<symbol overflow=\"visible\" id=\"glyph0-1\">\n",
       "<path style=\"stroke:none;\" d=\"M 4.429688 -3.71875 L 1.96875 -3.71875 L 1.476563 -1.640625 C 1.4375 -1.457031 1.417969 -1.308594 1.421875 -1.203125 C 1.417969 -1.054688 1.445313 -0.910156 1.503906 -0.765625 C 1.554688 -0.617188 1.710938 -0.542969 1.96875 -0.546875 L 2.132813 -0.546875 L 2.132813 -0.21875 L 0.109375 -0.21875 L 0.109375 -0.546875 L 0.273438 -0.546875 C 0.417969 -0.542969 0.546875 -0.589844 0.65625 -0.683594 C 0.765625 -0.773438 0.835938 -0.929688 0.875 -1.148438 L 3.007813 -9.515625 L 3.828125 -9.789063 L 5.90625 -1.148438 C 5.976563 -0.929688 6.066406 -0.773438 6.179688 -0.683594 C 6.285156 -0.589844 6.414063 -0.542969 6.5625 -0.546875 L 6.726563 -0.546875 L 6.726563 -0.21875 L 4.375 -0.21875 L 4.375 -0.546875 L 4.59375 -0.546875 C 4.8125 -0.542969 4.9375 -0.589844 4.976563 -0.683594 C 5.007813 -0.773438 5.027344 -0.855469 5.03125 -0.929688 C 5.027344 -1.074219 5.007813 -1.203125 4.976563 -1.3125 Z M 3.28125 -8.585938 L 3.226563 -8.585938 L 2.078125 -4.046875 L 4.375 -4.046875 Z \"/>\n",
       "</symbol>\n",
       "<symbol overflow=\"visible\" id=\"glyph0-2\">\n",
       "<path style=\"stroke:none;\" d=\"M 2.023438 -9.570313 C 2.347656 -9.566406 2.660156 -9.605469 2.953125 -9.679688 C 3.242188 -9.75 3.515625 -9.859375 3.773438 -10.007813 L 3.882813 -10.007813 L 3.882813 -0.984375 C 3.878906 -0.835938 3.925781 -0.726563 4.019531 -0.65625 C 4.109375 -0.582031 4.226563 -0.542969 4.375 -0.546875 L 5.632813 -0.546875 L 5.632813 -0.21875 L 1.367188 -0.21875 L 1.367188 -0.546875 L 2.625 -0.546875 C 2.804688 -0.542969 2.929688 -0.582031 3.007813 -0.65625 C 3.078125 -0.726563 3.117188 -0.835938 3.117188 -0.984375 L 3.117188 -8.804688 C 3.117188 -8.949219 3.078125 -9.058594 3.007813 -9.132813 C 2.929688 -9.203125 2.804688 -9.238281 2.625 -9.242188 L 1.421875 -9.242188 L 1.421875 -9.570313 Z \"/>\n",
       "</symbol>\n",
       "<symbol overflow=\"visible\" id=\"glyph0-3\">\n",
       "<path style=\"stroke:none;\" d=\"M 3.117188 -5.496094 C 3.117188 -5.640625 3.078125 -5.757813 3.007813 -5.847656 C 2.929688 -5.9375 2.804688 -5.980469 2.625 -5.984375 L 1.476563 -6.011719 L 1.476563 -6.34375 L 2.023438 -6.355469 C 2.347656 -6.34375 2.660156 -6.367188 2.953125 -6.425781 C 3.242188 -6.476563 3.515625 -6.578125 3.773438 -6.726563 L 3.882813 -6.726563 L 3.882813 -0.984375 C 3.878906 -0.835938 3.925781 -0.726563 4.019531 -0.65625 C 4.109375 -0.582031 4.226563 -0.542969 4.375 -0.546875 L 5.523438 -0.546875 L 5.523438 -0.21875 L 1.476563 -0.21875 L 1.476563 -0.546875 L 2.625 -0.546875 C 2.804688 -0.542969 2.929688 -0.582031 3.007813 -0.65625 C 3.078125 -0.726563 3.117188 -0.832031 3.117188 -0.980469 Z M 3.554688 -9.679688 C 3.734375 -9.679688 3.898438 -9.613281 4.046875 -9.488281 C 4.191406 -9.355469 4.265625 -9.203125 4.265625 -9.023438 C 4.265625 -8.839844 4.191406 -8.675781 4.046875 -8.53125 C 3.898438 -8.382813 3.734375 -8.308594 3.554688 -8.3125 C 3.371094 -8.308594 3.207031 -8.382813 3.0625 -8.53125 C 2.914063 -8.675781 2.839844 -8.839844 2.84375 -9.023438 C 2.839844 -9.203125 2.914063 -9.355469 3.0625 -9.488281 C 3.207031 -9.613281 3.371094 -9.679688 3.554688 -9.679688 Z \"/>\n",
       "</symbol>\n",
       "<symbol overflow=\"visible\" id=\"glyph0-4\">\n",
       "<path style=\"stroke:none;\" d=\"M 4.703125 -4.867188 C 4.699219 -4.972656 4.71875 -5.046875 4.757813 -5.085938 C 4.757813 -5.121094 4.773438 -5.191406 4.8125 -5.304688 C 4.84375 -5.445313 4.773438 -5.621094 4.59375 -5.824219 C 4.410156 -6.023438 4.097656 -6.121094 3.664063 -6.125 C 3.113281 -6.121094 2.648438 -5.859375 2.269531 -5.332031 C 1.882813 -4.800781 1.691406 -4.097656 1.695313 -3.226563 C 1.691406 -2.421875 1.855469 -1.773438 2.1875 -1.285156 C 2.511719 -0.789063 3.058594 -0.542969 3.828125 -0.546875 C 4.335938 -0.542969 4.765625 -0.707031 5.113281 -1.039063 C 5.457031 -1.363281 5.703125 -1.746094 5.851563 -2.1875 L 6.125 -2.078125 C 5.976563 -1.527344 5.703125 -1.0625 5.304688 -0.683594 C 4.898438 -0.296875 4.351563 -0.105469 3.664063 -0.109375 C 2.785156 -0.105469 2.09375 -0.378906 1.585938 -0.929688 C 1.074219 -1.472656 0.820313 -2.257813 0.820313 -3.28125 C 0.820313 -4.191406 1.09375 -4.945313 1.640625 -5.550781 C 2.1875 -6.148438 2.898438 -6.449219 3.773438 -6.453125 C 4.390625 -6.449219 4.871094 -6.285156 5.222656 -5.960938 C 5.566406 -5.628906 5.742188 -5.300781 5.742188 -4.976563 C 5.742188 -4.753906 5.695313 -4.601563 5.605469 -4.511719 C 5.511719 -4.417969 5.375 -4.371094 5.195313 -4.375 C 5.046875 -4.371094 4.929688 -4.417969 4.839844 -4.511719 C 4.746094 -4.601563 4.699219 -4.71875 4.703125 -4.867188 Z \"/>\n",
       "</symbol>\n",
       "<symbol overflow=\"visible\" id=\"glyph0-5\">\n",
       "<path style=\"stroke:none;\" d=\"M 5.25 -3.609375 C 5.285156 -4.410156 5.148438 -5.019531 4.839844 -5.441406 C 4.527344 -5.859375 4.117188 -6.070313 3.609375 -6.070313 C 3.0625 -6.070313 2.613281 -5.851563 2.269531 -5.414063 C 1.917969 -4.976563 1.746094 -4.375 1.75 -3.609375 Z M 1.75 -3.28125 C 1.746094 -2.296875 1.9375 -1.59375 2.324219 -1.175781 C 2.703125 -0.753906 3.203125 -0.542969 3.828125 -0.546875 C 4.296875 -0.542969 4.699219 -0.679688 5.03125 -0.957031 C 5.355469 -1.226563 5.59375 -1.566406 5.742188 -1.96875 L 6.015625 -1.859375 C 5.902344 -1.453125 5.65625 -1.0625 5.277344 -0.683594 C 4.890625 -0.296875 4.371094 -0.105469 3.71875 -0.109375 C 2.878906 -0.105469 2.195313 -0.378906 1.667969 -0.929688 C 1.136719 -1.472656 0.871094 -2.257813 0.875 -3.28125 C 0.871094 -4.191406 1.136719 -4.945313 1.667969 -5.550781 C 2.195313 -6.148438 2.84375 -6.449219 3.609375 -6.453125 C 4.300781 -6.449219 4.902344 -6.214844 5.414063 -5.742188 C 5.921875 -5.265625 6.175781 -4.445313 6.179688 -3.28125 Z \"/>\n",
       "</symbol>\n",
       "<symbol overflow=\"visible\" id=\"glyph0-6\">\n",
       "<path style=\"stroke:none;\" d=\"M 0.21875 -0.21875 L 0.21875 -0.546875 L 0.65625 -0.546875 C 0.835938 -0.542969 0.960938 -0.582031 1.039063 -0.65625 C 1.109375 -0.726563 1.148438 -0.835938 1.148438 -0.984375 L 1.148438 -8.804688 C 1.148438 -8.949219 1.109375 -9.058594 1.039063 -9.132813 C 0.960938 -9.203125 0.835938 -9.238281 0.65625 -9.242188 L 0.328125 -9.242188 L 0.328125 -9.570313 L 3.5 -9.570313 C 4.371094 -9.566406 5.019531 -9.394531 5.441406 -9.050781 C 5.859375 -8.703125 6.070313 -8.164063 6.070313 -7.4375 C 6.070313 -6.921875 5.960938 -6.503906 5.742188 -6.179688 C 5.523438 -5.847656 5.066406 -5.554688 4.375 -5.304688 C 5.210938 -5.046875 5.777344 -4.683594 6.070313 -4.210938 C 6.359375 -3.734375 6.503906 -3.207031 6.507813 -2.625 C 6.503906 -1.894531 6.25 -1.308594 5.742188 -0.875 C 5.230469 -0.433594 4.535156 -0.214844 3.664063 -0.21875 Z M 3.5 -0.546875 C 4.117188 -0.542969 4.601563 -0.734375 4.949219 -1.121094 C 5.292969 -1.5 5.464844 -2.039063 5.46875 -2.734375 C 5.464844 -3.535156 5.285156 -4.128906 4.921875 -4.511719 C 4.554688 -4.894531 4.007813 -5.085938 3.28125 -5.085938 L 2.023438 -5.085938 L 2.023438 -0.984375 C 2.019531 -0.835938 2.066406 -0.726563 2.160156 -0.65625 C 2.25 -0.582031 2.367188 -0.542969 2.515625 -0.546875 Z M 5.140625 -7.4375 C 5.136719 -8.089844 4.957031 -8.554688 4.59375 -8.832031 C 4.226563 -9.101563 3.75 -9.238281 3.171875 -9.242188 L 2.515625 -9.242188 C 2.367188 -9.238281 2.25 -9.203125 2.160156 -9.132813 C 2.066406 -9.058594 2.019531 -8.949219 2.023438 -8.804688 L 2.023438 -5.414063 L 3.445313 -5.414063 C 3.84375 -5.414063 4.226563 -5.578125 4.59375 -5.90625 C 4.957031 -6.234375 5.136719 -6.742188 5.140625 -7.4375 Z \"/>\n",
       "</symbol>\n",
       "<symbol overflow=\"visible\" id=\"glyph0-7\">\n",
       "<path style=\"stroke:none;\" d=\"M 6.34375 -3.28125 C 6.339844 -2.367188 6.066406 -1.609375 5.523438 -1.011719 C 4.972656 -0.40625 4.296875 -0.105469 3.5 -0.109375 C 2.65625 -0.105469 1.972656 -0.414063 1.449219 -1.039063 C 0.917969 -1.65625 0.65625 -2.40625 0.65625 -3.28125 C 0.65625 -4.082031 0.917969 -4.808594 1.449219 -5.46875 C 1.972656 -6.121094 2.65625 -6.449219 3.5 -6.453125 C 4.371094 -6.449219 5.066406 -6.121094 5.578125 -5.46875 C 6.085938 -4.808594 6.339844 -4.082031 6.34375 -3.28125 Z M 1.53125 -3.226563 C 1.527344 -2.277344 1.71875 -1.574219 2.105469 -1.121094 C 2.484375 -0.660156 2.949219 -0.433594 3.5 -0.4375 C 4.117188 -0.433594 4.601563 -0.679688 4.949219 -1.175781 C 5.292969 -1.664063 5.464844 -2.347656 5.46875 -3.226563 C 5.464844 -4.171875 5.273438 -4.890625 4.894531 -5.386719 C 4.507813 -5.875 4.042969 -6.121094 3.5 -6.125 C 2.984375 -6.121094 2.53125 -5.875 2.132813 -5.386719 C 1.730469 -4.890625 1.527344 -4.171875 1.53125 -3.226563 Z \"/>\n",
       "</symbol>\n",
       "<symbol overflow=\"visible\" id=\"glyph0-8\">\n",
       "<path style=\"stroke:none;\" d=\"M 1.914063 -5.085938 C 2.09375 -5.484375 2.386719 -5.800781 2.789063 -6.042969 C 3.1875 -6.277344 3.570313 -6.398438 3.9375 -6.398438 C 4.703125 -6.398438 5.277344 -6.132813 5.660156 -5.605469 C 6.042969 -5.074219 6.234375 -4.300781 6.234375 -3.28125 C 6.234375 -2.257813 5.988281 -1.480469 5.496094 -0.957031 C 5.003906 -0.425781 4.390625 -0.164063 3.664063 -0.164063 C 3.296875 -0.164063 2.960938 -0.226563 2.652344 -0.355469 C 2.339844 -0.480469 2.074219 -0.652344 1.859375 -0.875 L 1.367188 -0.21875 L 1.148438 -0.21875 L 1.148438 -8.804688 C 1.148438 -8.949219 1.109375 -9.058594 1.039063 -9.132813 C 0.960938 -9.203125 0.835938 -9.238281 0.65625 -9.242188 L 0.328125 -9.242188 L 0.328125 -9.570313 L 0.820313 -9.570313 C 1 -9.566406 1.179688 -9.605469 1.367188 -9.679688 C 1.546875 -9.75 1.730469 -9.859375 1.914063 -10.007813 Z M 1.914063 -2.023438 C 1.910156 -1.617188 2.046875 -1.273438 2.324219 -0.984375 C 2.59375 -0.691406 3.003906 -0.542969 3.554688 -0.546875 C 4.207031 -0.542969 4.671875 -0.773438 4.949219 -1.230469 C 5.21875 -1.683594 5.355469 -2.367188 5.359375 -3.28125 C 5.355469 -4.15625 5.238281 -4.820313 5.003906 -5.277344 C 4.765625 -5.730469 4.390625 -5.957031 3.882813 -5.960938 C 3.441406 -5.957031 3.058594 -5.832031 2.734375 -5.578125 C 2.402344 -5.320313 2.128906 -4.863281 1.914063 -4.210938 Z \"/>\n",
       "</symbol>\n",
       "<symbol overflow=\"visible\" id=\"glyph0-9\">\n",
       "<path style=\"stroke:none;\" d=\"M 3.773438 -0.109375 C 2.75 -0.105469 1.9375 -0.488281 1.339844 -1.257813 C 0.734375 -2.019531 0.433594 -3.222656 0.4375 -4.867188 C 0.433594 -6.25 0.753906 -7.398438 1.394531 -8.3125 C 2.03125 -9.222656 2.894531 -9.679688 3.992188 -9.679688 C 4.242188 -9.679688 4.5 -9.640625 4.757813 -9.570313 C 5.011719 -9.457031 5.230469 -9.402344 5.414063 -9.40625 C 5.558594 -9.402344 5.675781 -9.421875 5.769531 -9.460938 C 5.859375 -9.496094 5.941406 -9.570313 6.015625 -9.679688 L 6.507813 -7.273438 L 6.179688 -7.164063 C 5.957031 -7.855469 5.664063 -8.382813 5.304688 -8.75 C 4.9375 -9.109375 4.464844 -9.292969 3.882813 -9.296875 C 3.113281 -9.292969 2.519531 -8.875 2.105469 -8.039063 C 1.683594 -7.199219 1.476563 -6.160156 1.476563 -4.921875 C 1.476563 -3.570313 1.65625 -2.511719 2.023438 -1.75 C 2.382813 -0.980469 2.984375 -0.597656 3.828125 -0.601563 C 4.40625 -0.597656 4.910156 -0.808594 5.332031 -1.230469 C 5.75 -1.648438 6.03125 -2.203125 6.179688 -2.898438 L 6.507813 -2.734375 C 6.324219 -1.964844 5.988281 -1.335938 5.496094 -0.847656 C 5.003906 -0.351563 4.429688 -0.105469 3.773438 -0.109375 Z \"/>\n",
       "</symbol>\n",
       "<symbol overflow=\"visible\" id=\"glyph0-10\">\n",
       "<path style=\"stroke:none;\" d=\"M 2.679688 -0.164063 C 2.019531 -0.164063 1.511719 -0.316406 1.148438 -0.628906 C 0.78125 -0.933594 0.597656 -1.289063 0.601563 -1.695313 C 0.597656 -2.347656 0.878906 -2.886719 1.449219 -3.308594 C 2.011719 -3.726563 3.132813 -4.027344 4.8125 -4.210938 L 4.8125 -4.867188 C 4.808594 -5.230469 4.726563 -5.53125 4.566406 -5.769531 C 4.398438 -6.003906 4.027344 -6.121094 3.445313 -6.125 C 2.824219 -6.121094 2.386719 -6.023438 2.132813 -5.824219 C 1.875 -5.621094 1.78125 -5.410156 1.859375 -5.195313 C 1.890625 -5.121094 1.910156 -5.046875 1.914063 -4.976563 C 1.910156 -4.898438 1.882813 -4.808594 1.832031 -4.703125 C 1.773438 -4.589844 1.636719 -4.535156 1.421875 -4.539063 C 1.273438 -4.535156 1.15625 -4.582031 1.066406 -4.675781 C 0.972656 -4.765625 0.925781 -4.902344 0.929688 -5.085938 C 0.925781 -5.414063 1.164063 -5.722656 1.640625 -6.015625 C 2.113281 -6.304688 2.695313 -6.449219 3.390625 -6.453125 C 4.117188 -6.449219 4.664063 -6.3125 5.03125 -6.042969 C 5.394531 -5.765625 5.578125 -5.375 5.578125 -4.867188 L 5.578125 -1.257813 C 5.578125 -0.964844 5.605469 -0.792969 5.660156 -0.738281 C 5.714844 -0.683594 5.8125 -0.65625 5.960938 -0.65625 C 6.140625 -0.65625 6.269531 -0.738281 6.34375 -0.902344 C 6.414063 -1.066406 6.449219 -1.292969 6.453125 -1.585938 L 6.726563 -1.585938 C 6.726563 -1.074219 6.632813 -0.71875 6.453125 -0.519531 C 6.265625 -0.316406 6.03125 -0.214844 5.742188 -0.21875 C 5.484375 -0.214844 5.28125 -0.269531 5.140625 -0.382813 C 4.992188 -0.488281 4.882813 -0.671875 4.8125 -0.929688 C 4.445313 -0.671875 4.109375 -0.480469 3.800781 -0.355469 C 3.488281 -0.226563 3.113281 -0.164063 2.679688 -0.164063 Z M 1.53125 -1.859375 C 1.527344 -1.527344 1.628906 -1.226563 1.832031 -0.957031 C 2.03125 -0.679688 2.351563 -0.542969 2.789063 -0.546875 C 3.117188 -0.542969 3.445313 -0.609375 3.773438 -0.738281 C 4.101563 -0.863281 4.445313 -1.054688 4.8125 -1.3125 L 4.8125 -3.882813 C 3.570313 -3.734375 2.714844 -3.488281 2.242188 -3.144531 C 1.765625 -2.796875 1.527344 -2.367188 1.53125 -1.859375 Z \"/>\n",
       "</symbol>\n",
       "<symbol overflow=\"visible\" id=\"glyph0-11\">\n",
       "<path style=\"stroke:none;\" d=\"M 2.789063 -4.648438 C 3.152344 -5.226563 3.542969 -5.675781 3.964844 -5.988281 C 4.382813 -6.296875 4.8125 -6.449219 5.25 -6.453125 C 5.613281 -6.449219 5.894531 -6.367188 6.097656 -6.207031 C 6.296875 -6.039063 6.398438 -5.847656 6.398438 -5.632813 C 6.398438 -5.445313 6.351563 -5.300781 6.261719 -5.195313 C 6.167969 -5.082031 6.03125 -5.027344 5.851563 -5.03125 C 5.667969 -5.027344 5.53125 -5.082031 5.441406 -5.195313 C 5.347656 -5.300781 5.320313 -5.445313 5.359375 -5.632813 C 5.355469 -5.738281 5.335938 -5.832031 5.304688 -5.90625 C 5.265625 -5.976563 5.15625 -6.011719 4.976563 -6.015625 C 4.679688 -6.011719 4.324219 -5.828125 3.910156 -5.46875 C 3.488281 -5.101563 3.117188 -4.59375 2.789063 -3.9375 L 2.789063 -0.984375 C 2.789063 -0.835938 2.832031 -0.726563 2.925781 -0.65625 C 3.011719 -0.582031 3.132813 -0.542969 3.28125 -0.546875 L 4.484375 -0.546875 L 4.484375 -0.21875 L 0.4375 -0.21875 L 0.4375 -0.546875 L 1.53125 -0.546875 C 1.710938 -0.542969 1.839844 -0.582031 1.914063 -0.65625 C 1.984375 -0.726563 2.019531 -0.835938 2.023438 -0.984375 L 2.023438 -5.523438 C 2.019531 -5.667969 1.984375 -5.785156 1.914063 -5.878906 C 1.839844 -5.964844 1.710938 -6.011719 1.53125 -6.015625 L 0.492188 -6.015625 L 0.492188 -6.34375 L 0.929688 -6.34375 C 1.183594 -6.339844 1.484375 -6.367188 1.832031 -6.425781 C 2.175781 -6.476563 2.441406 -6.539063 2.625 -6.617188 L 2.789063 -6.617188 Z \"/>\n",
       "</symbol>\n",
       "<symbol overflow=\"visible\" id=\"glyph0-12\">\n",
       "<path style=\"stroke:none;\" d=\"M 5.46875 -4.976563 C 5.464844 -6.539063 5.230469 -7.644531 4.757813 -8.285156 C 4.28125 -8.921875 3.625 -9.238281 2.789063 -9.242188 C 2.53125 -9.238281 2.339844 -9.203125 2.214844 -9.132813 C 2.085938 -9.058594 2.019531 -8.949219 2.023438 -8.804688 L 2.023438 -0.984375 C 2.019531 -0.835938 2.074219 -0.726563 2.1875 -0.65625 C 2.292969 -0.582031 2.441406 -0.542969 2.625 -0.546875 C 3.425781 -0.542969 4.097656 -0.84375 4.648438 -1.449219 C 5.191406 -2.046875 5.464844 -3.222656 5.46875 -4.976563 Z M 1.148438 -8.804688 C 1.148438 -8.949219 1.109375 -9.058594 1.039063 -9.132813 C 0.960938 -9.203125 0.835938 -9.238281 0.65625 -9.242188 L 0.328125 -9.242188 L 0.328125 -9.570313 L 2.789063 -9.570313 C 3.917969 -9.566406 4.820313 -9.203125 5.496094 -8.476563 C 6.167969 -7.746094 6.503906 -6.617188 6.507813 -5.085938 C 6.503906 -3.40625 6.175781 -2.175781 5.523438 -1.394531 C 4.863281 -0.609375 3.898438 -0.214844 2.625 -0.21875 L 0.273438 -0.21875 L 0.273438 -0.546875 L 0.65625 -0.546875 C 0.835938 -0.542969 0.960938 -0.582031 1.039063 -0.65625 C 1.109375 -0.726563 1.148438 -0.835938 1.148438 -0.984375 Z \"/>\n",
       "</symbol>\n",
       "<symbol overflow=\"visible\" id=\"glyph0-13\">\n",
       "<path style=\"stroke:none;\" d=\"M 0.4375 -0.21875 L 0.4375 -0.546875 L 0.710938 -0.546875 C 0.890625 -0.542969 1.019531 -0.582031 1.09375 -0.65625 C 1.164063 -0.726563 1.199219 -0.835938 1.203125 -0.984375 L 1.203125 -5.6875 C 1.199219 -5.792969 1.183594 -5.875 1.148438 -5.933594 C 1.109375 -5.984375 1.035156 -6.011719 0.929688 -6.015625 L 0.492188 -6.015625 L 0.492188 -6.34375 L 0.875 -6.34375 C 1.054688 -6.339844 1.230469 -6.359375 1.394531 -6.398438 C 1.558594 -6.433594 1.710938 -6.503906 1.859375 -6.617188 L 1.96875 -6.617188 L 1.96875 -5.359375 C 2.296875 -5.722656 2.625 -5.996094 2.953125 -6.179688 C 3.28125 -6.359375 3.625 -6.449219 3.992188 -6.453125 C 4.609375 -6.449219 5.066406 -6.285156 5.359375 -5.960938 C 5.648438 -5.628906 5.792969 -5.136719 5.796875 -4.484375 L 5.796875 -0.984375 C 5.792969 -0.835938 5.839844 -0.726563 5.933594 -0.65625 C 6.023438 -0.582031 6.140625 -0.542969 6.289063 -0.546875 L 6.5625 -0.546875 L 6.5625 -0.21875 L 4.265625 -0.21875 L 4.265625 -0.546875 L 4.539063 -0.546875 C 4.71875 -0.542969 4.847656 -0.582031 4.921875 -0.65625 C 4.992188 -0.726563 5.027344 -0.835938 5.03125 -0.984375 L 5.03125 -4.648438 C 5.027344 -5.082031 4.9375 -5.421875 4.757813 -5.660156 C 4.574219 -5.894531 4.300781 -6.011719 3.9375 -6.015625 C 3.609375 -6.011719 3.269531 -5.902344 2.925781 -5.6875 C 2.574219 -5.464844 2.257813 -5.15625 1.96875 -4.757813 L 1.96875 -0.984375 C 1.96875 -0.835938 2.011719 -0.726563 2.105469 -0.65625 C 2.191406 -0.582031 2.3125 -0.542969 2.460938 -0.546875 L 2.734375 -0.546875 L 2.734375 -0.21875 Z \"/>\n",
       "</symbol>\n",
       "<symbol overflow=\"visible\" id=\"glyph0-14\">\n",
       "<path style=\"stroke:none;\" d=\"M 1.367188 -4.757813 C 1.363281 -5.304688 1.574219 -5.722656 1.996094 -6.015625 C 2.414063 -6.304688 2.914063 -6.449219 3.5 -6.453125 C 3.824219 -6.449219 4.136719 -6.414063 4.429688 -6.34375 C 4.71875 -6.230469 4.917969 -6.175781 5.03125 -6.179688 C 5.136719 -6.175781 5.226563 -6.195313 5.304688 -6.234375 C 5.375 -6.269531 5.46875 -6.339844 5.578125 -6.453125 L 5.796875 -4.648438 L 5.46875 -4.59375 C 5.320313 -5.066406 5.074219 -5.4375 4.730469 -5.714844 C 4.378906 -5.984375 3.988281 -6.121094 3.554688 -6.125 C 3.078125 -6.121094 2.703125 -6.03125 2.433594 -5.851563 C 2.15625 -5.667969 2.019531 -5.414063 2.023438 -5.085938 C 2.019531 -4.792969 2.085938 -4.5625 2.214844 -4.402344 C 2.339844 -4.234375 2.566406 -4.117188 2.898438 -4.046875 C 3.152344 -3.933594 3.480469 -3.824219 3.882813 -3.71875 C 4.246094 -3.570313 4.59375 -3.425781 4.921875 -3.28125 C 5.210938 -3.132813 5.457031 -2.941406 5.660156 -2.707031 C 5.859375 -2.46875 5.957031 -2.203125 5.960938 -1.914063 C 5.957031 -1.363281 5.765625 -0.933594 5.386719 -0.628906 C 5 -0.316406 4.445313 -0.164063 3.71875 -0.164063 C 3.242188 -0.164063 2.894531 -0.21875 2.679688 -0.328125 C 2.421875 -0.398438 2.222656 -0.433594 2.078125 -0.4375 C 1.964844 -0.433594 1.847656 -0.40625 1.722656 -0.355469 C 1.59375 -0.296875 1.457031 -0.234375 1.3125 -0.164063 L 1.148438 -2.1875 L 1.476563 -2.242188 C 1.585938 -1.65625 1.820313 -1.21875 2.1875 -0.929688 C 2.546875 -0.636719 3.058594 -0.492188 3.71875 -0.492188 C 4.226563 -0.492188 4.617188 -0.582031 4.894531 -0.765625 C 5.164063 -0.945313 5.300781 -1.21875 5.304688 -1.585938 C 5.300781 -1.839844 5.230469 -2.050781 5.085938 -2.214844 C 4.9375 -2.378906 4.789063 -2.496094 4.648438 -2.570313 C 4.28125 -2.714844 3.882813 -2.878906 3.445313 -3.0625 C 3.007813 -3.207031 2.625 -3.351563 2.296875 -3.5 C 1.96875 -3.640625 1.730469 -3.824219 1.585938 -4.046875 C 1.4375 -4.261719 1.363281 -4.5 1.367188 -4.757813 Z \"/>\n",
       "</symbol>\n",
       "<symbol overflow=\"visible\" id=\"glyph0-15\">\n",
       "<path style=\"stroke:none;\" d=\"M 0.4375 -9.242188 L 0.4375 -9.570313 L 5.796875 -9.570313 L 6.398438 -7.710938 L 6.125 -7.601563 C 5.828125 -8.144531 5.519531 -8.554688 5.195313 -8.832031 C 4.863281 -9.101563 4.5 -9.238281 4.101563 -9.242188 L 2.570313 -9.242188 C 2.421875 -9.238281 2.304688 -9.203125 2.214844 -9.132813 C 2.121094 -9.058594 2.074219 -8.949219 2.078125 -8.804688 L 2.078125 -5.414063 L 3.664063 -5.414063 C 4.023438 -5.414063 4.289063 -5.503906 4.457031 -5.6875 C 4.617188 -5.867188 4.699219 -6.140625 4.703125 -6.507813 L 4.703125 -6.835938 L 5.03125 -6.835938 L 5.03125 -3.609375 L 4.703125 -3.609375 L 4.703125 -3.828125 C 4.699219 -4.226563 4.617188 -4.539063 4.457031 -4.757813 C 4.289063 -4.976563 4.023438 -5.085938 3.664063 -5.085938 L 2.078125 -5.085938 L 2.078125 -0.984375 C 2.074219 -0.835938 2.121094 -0.726563 2.214844 -0.65625 C 2.304688 -0.582031 2.421875 -0.542969 2.570313 -0.546875 L 3.992188 -0.546875 C 4.535156 -0.542969 5 -0.699219 5.386719 -1.011719 C 5.765625 -1.320313 6.066406 -1.804688 6.289063 -2.460938 L 6.5625 -2.351563 L 5.960938 -0.21875 L 0.382813 -0.21875 L 0.382813 -0.546875 L 0.710938 -0.546875 C 0.890625 -0.542969 1.019531 -0.582031 1.09375 -0.65625 C 1.164063 -0.726563 1.199219 -0.835938 1.203125 -0.984375 L 1.203125 -8.804688 C 1.199219 -8.949219 1.164063 -9.058594 1.09375 -9.132813 C 1.019531 -9.203125 0.890625 -9.238281 0.710938 -9.242188 Z \"/>\n",
       "</symbol>\n",
       "<symbol overflow=\"visible\" id=\"glyph0-16\">\n",
       "<path style=\"stroke:none;\" d=\"M 3.28125 -1.96875 C 3.28125 -1.457031 3.371094 -1.109375 3.554688 -0.929688 C 3.734375 -0.746094 4.007813 -0.65625 4.375 -0.65625 C 4.738281 -0.65625 5.03125 -0.773438 5.25 -1.011719 C 5.46875 -1.246094 5.613281 -1.582031 5.6875 -2.023438 L 5.960938 -1.914063 C 5.882813 -1.402344 5.691406 -0.984375 5.386719 -0.65625 C 5.074219 -0.328125 4.664063 -0.164063 4.15625 -0.164063 C 3.605469 -0.164063 3.195313 -0.328125 2.925781 -0.65625 C 2.648438 -0.984375 2.511719 -1.492188 2.515625 -2.1875 L 2.515625 -6.015625 L 0.875 -6.015625 L 0.875 -6.34375 L 1.3125 -6.34375 C 1.75 -6.339844 2.105469 -6.476563 2.378906 -6.753906 C 2.652344 -7.023438 2.824219 -7.453125 2.898438 -8.039063 L 2.953125 -8.476563 L 3.28125 -8.476563 L 3.28125 -6.34375 L 5.46875 -6.34375 L 5.46875 -6.015625 L 3.28125 -6.015625 Z \"/>\n",
       "</symbol>\n",
       "<symbol overflow=\"visible\" id=\"glyph0-17\">\n",
       "<path style=\"stroke:none;\" d=\"M 0.4375 -0.21875 L 0.4375 -0.546875 L 0.710938 -0.546875 C 0.890625 -0.542969 1.019531 -0.582031 1.09375 -0.65625 C 1.164063 -0.726563 1.199219 -0.835938 1.203125 -0.984375 L 1.203125 -8.804688 C 1.199219 -8.949219 1.164063 -9.058594 1.09375 -9.132813 C 1.019531 -9.203125 0.890625 -9.238281 0.710938 -9.242188 L 0.382813 -9.242188 L 0.382813 -9.570313 L 0.984375 -9.570313 C 1.128906 -9.566406 1.273438 -9.605469 1.421875 -9.679688 C 1.566406 -9.75 1.710938 -9.859375 1.859375 -10.007813 L 1.96875 -10.007813 L 1.96875 -5.359375 C 2.296875 -5.757813 2.632813 -6.039063 2.980469 -6.207031 C 3.324219 -6.367188 3.699219 -6.449219 4.101563 -6.453125 C 4.648438 -6.449219 5.066406 -6.296875 5.359375 -5.988281 C 5.648438 -5.675781 5.792969 -5.191406 5.796875 -4.539063 L 5.796875 -0.984375 C 5.792969 -0.835938 5.839844 -0.726563 5.933594 -0.65625 C 6.023438 -0.582031 6.140625 -0.542969 6.289063 -0.546875 L 6.5625 -0.546875 L 6.5625 -0.21875 L 4.265625 -0.21875 L 4.265625 -0.546875 L 4.539063 -0.546875 C 4.71875 -0.542969 4.847656 -0.582031 4.921875 -0.65625 C 4.992188 -0.726563 5.027344 -0.835938 5.03125 -0.984375 L 5.03125 -4.429688 C 5.027344 -5.046875 4.925781 -5.457031 4.730469 -5.660156 C 4.527344 -5.859375 4.265625 -5.957031 3.9375 -5.960938 C 3.644531 -5.957031 3.324219 -5.867188 2.980469 -5.6875 C 2.632813 -5.503906 2.296875 -5.195313 1.96875 -4.757813 L 1.96875 -0.984375 C 1.96875 -0.835938 2.011719 -0.726563 2.105469 -0.65625 C 2.191406 -0.582031 2.3125 -0.542969 2.460938 -0.546875 L 2.734375 -0.546875 L 2.734375 -0.21875 Z \"/>\n",
       "</symbol>\n",
       "<symbol overflow=\"visible\" id=\"glyph0-18\">\n",
       "<path style=\"stroke:none;\" d=\"M 2.953125 -0.546875 L 2.953125 -0.21875 L 0.328125 -0.21875 L 0.328125 -0.546875 L 0.710938 -0.546875 C 0.890625 -0.542969 1.019531 -0.582031 1.09375 -0.65625 C 1.164063 -0.726563 1.199219 -0.835938 1.203125 -0.984375 L 1.203125 -8.804688 C 1.199219 -8.949219 1.164063 -9.058594 1.09375 -9.132813 C 1.019531 -9.203125 0.890625 -9.238281 0.710938 -9.242188 L 0.382813 -9.242188 L 0.382813 -9.570313 L 6.070313 -9.570313 L 6.726563 -7.601563 L 6.453125 -7.492188 C 6.15625 -8.074219 5.8125 -8.511719 5.414063 -8.804688 C 5.011719 -9.09375 4.574219 -9.238281 4.101563 -9.242188 L 2.570313 -9.242188 C 2.421875 -9.238281 2.304688 -9.203125 2.214844 -9.132813 C 2.121094 -9.058594 2.074219 -8.949219 2.078125 -8.804688 L 2.078125 -5.304688 L 3.882813 -5.304688 C 4.246094 -5.300781 4.511719 -5.382813 4.675781 -5.550781 C 4.839844 -5.710938 4.921875 -5.976563 4.921875 -6.34375 L 4.921875 -6.617188 L 5.25 -6.617188 L 5.25 -3.445313 L 4.921875 -3.445313 L 4.921875 -3.664063 C 4.921875 -4.097656 4.839844 -4.425781 4.675781 -4.648438 C 4.511719 -4.863281 4.246094 -4.972656 3.882813 -4.976563 L 2.078125 -4.976563 L 2.078125 -0.984375 C 2.074219 -0.835938 2.121094 -0.726563 2.214844 -0.65625 C 2.304688 -0.582031 2.421875 -0.542969 2.570313 -0.546875 Z \"/>\n",
       "</symbol>\n",
       "<symbol overflow=\"visible\" id=\"glyph0-19\">\n",
       "<path style=\"stroke:none;\" d=\"M 3.664063 -4.15625 L 5.742188 -0.929688 C 5.851563 -0.78125 5.949219 -0.679688 6.042969 -0.628906 C 6.128906 -0.570313 6.230469 -0.542969 6.34375 -0.546875 L 6.5625 -0.546875 L 6.5625 -0.21875 L 4.320313 -0.21875 L 4.320313 -0.546875 L 4.484375 -0.546875 C 4.664063 -0.542969 4.792969 -0.570313 4.867188 -0.628906 C 4.9375 -0.679688 4.917969 -0.78125 4.8125 -0.929688 L 3.117188 -3.570313 L 2.023438 -2.460938 L 2.023438 -0.984375 C 2.019531 -0.835938 2.066406 -0.726563 2.160156 -0.65625 C 2.25 -0.582031 2.367188 -0.542969 2.515625 -0.546875 L 2.789063 -0.546875 L 2.789063 -0.21875 L 0.492188 -0.21875 L 0.492188 -0.546875 L 0.765625 -0.546875 C 0.945313 -0.542969 1.074219 -0.582031 1.148438 -0.65625 C 1.21875 -0.726563 1.253906 -0.835938 1.257813 -0.984375 L 1.257813 -8.804688 C 1.253906 -8.949219 1.21875 -9.058594 1.148438 -9.132813 C 1.074219 -9.203125 0.945313 -9.238281 0.765625 -9.242188 L 0.4375 -9.242188 L 0.4375 -9.570313 L 0.929688 -9.570313 C 1.144531 -9.566406 1.335938 -9.605469 1.503906 -9.679688 C 1.664063 -9.75 1.800781 -9.859375 1.914063 -10.007813 L 2.023438 -10.007813 L 2.023438 -3.0625 L 4.320313 -5.523438 C 4.390625 -5.667969 4.417969 -5.785156 4.402344 -5.878906 C 4.378906 -5.964844 4.296875 -6.011719 4.15625 -6.015625 L 3.828125 -6.015625 L 3.828125 -6.34375 L 6.125 -6.34375 L 6.125 -6.015625 L 5.851563 -6.015625 C 5.738281 -6.011719 5.601563 -5.984375 5.441406 -5.933594 C 5.273438 -5.875 5.117188 -5.773438 4.976563 -5.632813 Z \"/>\n",
       "</symbol>\n",
       "<symbol overflow=\"visible\" id=\"glyph0-20\">\n",
       "<path style=\"stroke:none;\" d=\"M 3.554688 -9.296875 C 3.003906 -9.292969 2.503906 -8.917969 2.050781 -8.175781 C 1.59375 -7.425781 1.363281 -6.289063 1.367188 -4.757813 C 1.363281 -3.734375 1.539063 -2.765625 1.886719 -1.859375 C 2.230469 -0.945313 2.804688 -0.492188 3.609375 -0.492188 C 4.007813 -0.492188 4.324219 -0.574219 4.566406 -0.738281 C 4.800781 -0.902344 4.9375 -1.148438 4.976563 -1.476563 L 4.976563 -3.335938 C 4.972656 -3.550781 4.917969 -3.714844 4.8125 -3.828125 C 4.699219 -3.933594 4.535156 -3.988281 4.320313 -3.992188 L 3.992188 -3.992188 L 3.992188 -4.320313 L 6.726563 -4.320313 L 6.726563 -3.992188 L 6.453125 -3.992188 C 6.265625 -3.988281 6.121094 -3.933594 6.015625 -3.828125 C 5.902344 -3.714844 5.847656 -3.570313 5.851563 -3.390625 L 5.851563 -0.65625 C 5.777344 -0.691406 5.714844 -0.71875 5.660156 -0.738281 C 5.605469 -0.753906 5.539063 -0.761719 5.46875 -0.765625 C 5.390625 -0.761719 5.320313 -0.753906 5.25 -0.738281 C 5.175781 -0.71875 5.101563 -0.671875 5.03125 -0.601563 C 4.808594 -0.417969 4.582031 -0.289063 4.347656 -0.21875 C 4.109375 -0.140625 3.84375 -0.105469 3.554688 -0.109375 C 2.457031 -0.105469 1.65625 -0.589844 1.148438 -1.558594 C 0.636719 -2.523438 0.378906 -3.589844 0.382813 -4.757813 C 0.378906 -6.105469 0.679688 -7.261719 1.285156 -8.230469 C 1.882813 -9.195313 2.640625 -9.679688 3.554688 -9.679688 C 3.769531 -9.679688 4.023438 -9.625 4.320313 -9.515625 C 4.609375 -9.40625 4.792969 -9.351563 4.867188 -9.351563 C 4.972656 -9.351563 5.082031 -9.378906 5.195313 -9.433594 C 5.300781 -9.488281 5.390625 -9.570313 5.46875 -9.679688 L 5.90625 -7.21875 L 5.578125 -7.109375 C 5.359375 -7.871094 5.085938 -8.429688 4.757813 -8.777344 C 4.429688 -9.121094 4.027344 -9.292969 3.554688 -9.296875 Z \"/>\n",
       "</symbol>\n",
       "<symbol overflow=\"visible\" id=\"glyph0-21\">\n",
       "<path style=\"stroke:none;\" d=\"M 1.914063 -4.320313 C 1.910156 -3.878906 2.039063 -3.507813 2.296875 -3.199219 C 2.550781 -2.886719 2.894531 -2.730469 3.335938 -2.734375 C 3.804688 -2.730469 4.160156 -2.867188 4.402344 -3.144531 C 4.636719 -3.414063 4.757813 -3.804688 4.757813 -4.320313 C 4.757813 -4.9375 4.621094 -5.386719 4.347656 -5.660156 C 4.074219 -5.933594 3.734375 -6.070313 3.335938 -6.070313 C 2.929688 -6.070313 2.59375 -5.933594 2.324219 -5.660156 C 2.046875 -5.386719 1.910156 -4.9375 1.914063 -4.320313 Z M 4.59375 -1.367188 C 5.140625 -1.289063 5.539063 -1.136719 5.796875 -0.902344 C 6.046875 -0.664063 6.175781 -0.347656 6.179688 0.0546875 C 6.175781 0.597656 5.949219 1.035156 5.496094 1.367188 C 5.039063 1.691406 4.316406 1.855469 3.335938 1.859375 C 2.566406 1.855469 1.949219 1.703125 1.476563 1.394531 C 1 1.082031 0.761719 0.726563 0.765625 0.328125 C 0.761719 0.0742188 0.851563 -0.179688 1.039063 -0.4375 C 1.21875 -0.691406 1.511719 -0.890625 1.914063 -1.039063 C 1.691406 -1.144531 1.519531 -1.265625 1.394531 -1.394531 C 1.265625 -1.519531 1.199219 -1.671875 1.203125 -1.859375 C 1.199219 -2.074219 1.273438 -2.265625 1.421875 -2.433594 C 1.566406 -2.59375 1.75 -2.730469 1.96875 -2.84375 C 1.75 -3.023438 1.558594 -3.242188 1.394531 -3.5 C 1.230469 -3.75 1.148438 -4.023438 1.148438 -4.320313 C 1.148438 -4.863281 1.339844 -5.347656 1.722656 -5.769531 C 2.105469 -6.1875 2.640625 -6.398438 3.335938 -6.398438 C 3.625 -6.398438 3.910156 -6.359375 4.183594 -6.289063 C 4.457031 -6.210938 4.683594 -6.085938 4.867188 -5.90625 C 5.121094 -6.085938 5.347656 -6.222656 5.550781 -6.316406 C 5.746094 -6.40625 5.921875 -6.449219 6.070313 -6.453125 C 6.25 -6.449219 6.375 -6.386719 6.453125 -6.261719 C 6.523438 -6.132813 6.5625 -6.015625 6.5625 -5.90625 C 6.5625 -5.757813 6.535156 -5.636719 6.480469 -5.550781 C 6.425781 -5.457031 6.324219 -5.414063 6.179688 -5.414063 C 6.066406 -5.414063 5.976563 -5.441406 5.90625 -5.496094 C 5.832031 -5.550781 5.777344 -5.632813 5.742188 -5.742188 C 5.703125 -5.851563 5.621094 -5.894531 5.496094 -5.878906 C 5.367188 -5.855469 5.230469 -5.792969 5.085938 -5.6875 C 5.230469 -5.539063 5.339844 -5.339844 5.414063 -5.085938 C 5.484375 -4.828125 5.519531 -4.570313 5.523438 -4.320313 C 5.519531 -3.878906 5.347656 -3.453125 5.003906 -3.035156 C 4.65625 -2.613281 4.097656 -2.402344 3.335938 -2.40625 C 3.113281 -2.402344 2.914063 -2.429688 2.734375 -2.488281 C 2.550781 -2.539063 2.40625 -2.601563 2.296875 -2.679688 C 2.148438 -2.601563 2.039063 -2.511719 1.96875 -2.40625 C 1.894531 -2.292969 1.855469 -2.203125 1.859375 -2.132813 C 1.855469 -1.984375 1.894531 -1.875 1.96875 -1.804688 C 2.039063 -1.730469 2.148438 -1.691406 2.296875 -1.695313 C 2.769531 -1.617188 3.195313 -1.554688 3.582031 -1.503906 C 3.960938 -1.445313 4.300781 -1.398438 4.59375 -1.367188 Z M 2.351563 -0.929688 C 2.019531 -0.78125 1.792969 -0.609375 1.667969 -0.410156 C 1.539063 -0.207031 1.476563 0.0390625 1.476563 0.328125 C 1.476563 0.617188 1.640625 0.890625 1.96875 1.148438 C 2.296875 1.402344 2.789063 1.527344 3.445313 1.53125 C 4.0625 1.527344 4.554688 1.429688 4.921875 1.230469 C 5.285156 1.027344 5.464844 0.726563 5.46875 0.328125 C 5.464844 0.0742188 5.421875 -0.125 5.332031 -0.273438 C 5.238281 -0.417969 5.101563 -0.507813 4.921875 -0.546875 C 4.554688 -0.617188 4.152344 -0.691406 3.71875 -0.765625 C 3.277344 -0.800781 2.820313 -0.855469 2.351563 -0.929688 Z \"/>\n",
       "</symbol>\n",
       "</g>\n",
       "</defs>\n",
       "<g id=\"surface44\">\n",
       "<rect x=\"0\" y=\"0\" width=\"600\" height=\"600\" style=\"fill:rgb(100%,100%,100%);fill-opacity:1;stroke:none;\"/>\n",
       "<path style=\"fill:none;stroke-width:1;stroke-linecap:butt;stroke-linejoin:miter;stroke:rgb(26.666667%,26.666667%,26.666667%);stroke-opacity:1;stroke-miterlimit:10;\" d=\"M 392.367188 307.574219 L 580 262.792969 \"/>\n",
       "<path style=\"fill:none;stroke-width:1;stroke-linecap:butt;stroke-linejoin:miter;stroke:rgb(26.666667%,26.666667%,26.666667%);stroke-opacity:1;stroke-miterlimit:10;\" d=\"M 392.367188 307.574219 L 214.4375 214.917969 \"/>\n",
       "<path style=\"fill:none;stroke-width:1;stroke-linecap:butt;stroke-linejoin:miter;stroke:rgb(26.666667%,26.666667%,26.666667%);stroke-opacity:1;stroke-miterlimit:10;\" d=\"M 214.4375 214.917969 L 20 286.625 \"/>\n",
       "<path style=\"fill:none;stroke-width:1;stroke-linecap:butt;stroke-linejoin:miter;stroke:rgb(26.666667%,26.666667%,26.666667%);stroke-opacity:1;stroke-miterlimit:10;\" d=\"M 20 286.625 L 78.847656 20 \"/>\n",
       "<path style=\"fill:none;stroke-width:1;stroke-linecap:butt;stroke-linejoin:miter;stroke:rgb(26.666667%,26.666667%,26.666667%);stroke-opacity:1;stroke-miterlimit:10;\" d=\"M 214.4375 214.917969 L 78.847656 20 \"/>\n",
       "<path style=\"fill:none;stroke-width:1;stroke-linecap:butt;stroke-linejoin:miter;stroke:rgb(26.666667%,26.666667%,26.666667%);stroke-opacity:1;stroke-miterlimit:10;\" d=\"M 214.4375 214.917969 L 260.695313 509.472656 \"/>\n",
       "<path style=\"fill:none;stroke-width:1;stroke-linecap:butt;stroke-linejoin:miter;stroke:rgb(26.666667%,26.666667%,26.666667%);stroke-opacity:1;stroke-miterlimit:10;\" d=\"M 392.367188 307.574219 L 260.695313 509.472656 \"/>\n",
       "<path style=\"fill:none;stroke-width:1;stroke-linecap:butt;stroke-linejoin:miter;stroke:rgb(26.666667%,26.666667%,26.666667%);stroke-opacity:1;stroke-miterlimit:10;\" d=\"M 20 286.625 L 67.242188 580 \"/>\n",
       "<path style=\"fill:none;stroke-width:1;stroke-linecap:butt;stroke-linejoin:miter;stroke:rgb(26.666667%,26.666667%,26.666667%);stroke-opacity:1;stroke-miterlimit:10;\" d=\"M 260.695313 509.472656 L 67.242188 580 \"/>\n",
       "<path style=\"fill-rule:nonzero;fill:rgb(0%,0%,0%);fill-opacity:1;stroke-width:1;stroke-linecap:butt;stroke-linejoin:miter;stroke:rgb(0%,0%,0%);stroke-opacity:1;stroke-miterlimit:10;\" d=\"M 402.367188 307.574219 C 402.367188 313.09375 397.890625 317.574219 392.367188 317.574219 C 386.84375 317.574219 382.367188 313.09375 382.367188 307.574219 C 382.367188 302.050781 386.84375 297.574219 392.367188 297.574219 C 397.890625 297.574219 402.367188 302.050781 402.367188 307.574219 \"/>\n",
       "<path style=\"fill-rule:nonzero;fill:rgb(0%,0%,0%);fill-opacity:1;stroke-width:1;stroke-linecap:butt;stroke-linejoin:miter;stroke:rgb(0%,0%,0%);stroke-opacity:1;stroke-miterlimit:10;\" d=\"M 590 262.792969 C 590 268.316406 585.523438 272.792969 580 272.792969 C 574.476563 272.792969 570 268.316406 570 262.792969 C 570 257.269531 574.476563 252.792969 580 252.792969 C 585.523438 252.792969 590 257.269531 590 262.792969 \"/>\n",
       "<path style=\"fill-rule:nonzero;fill:rgb(0%,0%,0%);fill-opacity:1;stroke-width:1;stroke-linecap:butt;stroke-linejoin:miter;stroke:rgb(0%,0%,0%);stroke-opacity:1;stroke-miterlimit:10;\" d=\"M 224.4375 214.917969 C 224.4375 220.441406 219.960938 224.917969 214.4375 224.917969 C 208.914063 224.917969 204.4375 220.441406 204.4375 214.917969 C 204.4375 209.398438 208.914063 204.917969 214.4375 204.917969 C 219.960938 204.917969 224.4375 209.398438 224.4375 214.917969 \"/>\n",
       "<path style=\"fill-rule:nonzero;fill:rgb(0%,0%,0%);fill-opacity:1;stroke-width:1;stroke-linecap:butt;stroke-linejoin:miter;stroke:rgb(0%,0%,0%);stroke-opacity:1;stroke-miterlimit:10;\" d=\"M 30 286.625 C 30 292.144531 25.523438 296.625 20 296.625 C 14.476563 296.625 10 292.144531 10 286.625 C 10 281.101563 14.476563 276.625 20 276.625 C 25.523438 276.625 30 281.101563 30 286.625 \"/>\n",
       "<path style=\"fill-rule:nonzero;fill:rgb(0%,0%,0%);fill-opacity:1;stroke-width:1;stroke-linecap:butt;stroke-linejoin:miter;stroke:rgb(0%,0%,0%);stroke-opacity:1;stroke-miterlimit:10;\" d=\"M 88.847656 20 C 88.847656 25.523438 84.367188 30 78.847656 30 C 73.324219 30 68.847656 25.523438 68.847656 20 C 68.847656 14.476563 73.324219 10 78.847656 10 C 84.367188 10 88.847656 14.476563 88.847656 20 \"/>\n",
       "<path style=\"fill-rule:nonzero;fill:rgb(0%,0%,0%);fill-opacity:1;stroke-width:1;stroke-linecap:butt;stroke-linejoin:miter;stroke:rgb(0%,0%,0%);stroke-opacity:1;stroke-miterlimit:10;\" d=\"M 270.695313 509.472656 C 270.695313 514.996094 266.214844 519.472656 260.695313 519.472656 C 255.171875 519.472656 250.695313 514.996094 250.695313 509.472656 C 250.695313 503.949219 255.171875 499.472656 260.695313 499.472656 C 266.214844 499.472656 270.695313 503.949219 270.695313 509.472656 \"/>\n",
       "<path style=\"fill-rule:nonzero;fill:rgb(0%,0%,0%);fill-opacity:1;stroke-width:1;stroke-linecap:butt;stroke-linejoin:miter;stroke:rgb(0%,0%,0%);stroke-opacity:1;stroke-miterlimit:10;\" d=\"M 77.242188 580 C 77.242188 585.523438 72.765625 590 67.242188 590 C 61.71875 590 57.242188 585.523438 57.242188 580 C 57.242188 574.476563 61.71875 570 67.242188 570 C 72.765625 570 77.242188 574.476563 77.242188 580 \"/>\n",
       "<g style=\"fill:rgb(0%,0%,0%);fill-opacity:1;\">\n",
       "  <use xlink:href=\"#glyph0-1\" x=\"375.222656\" y=\"313.578125\"/>\n",
       "  <use xlink:href=\"#glyph0-2\" x=\"382.222656\" y=\"313.578125\"/>\n",
       "  <use xlink:href=\"#glyph0-3\" x=\"389.222656\" y=\"313.578125\"/>\n",
       "  <use xlink:href=\"#glyph0-4\" x=\"396.222656\" y=\"313.578125\"/>\n",
       "  <use xlink:href=\"#glyph0-5\" x=\"403.222656\" y=\"313.578125\"/>\n",
       "</g>\n",
       "<g style=\"fill:rgb(0%,0%,0%);fill-opacity:1;\">\n",
       "  <use xlink:href=\"#glyph0-6\" x=\"569.773438\" y=\"268.796875\"/>\n",
       "  <use xlink:href=\"#glyph0-7\" x=\"576.773438\" y=\"268.796875\"/>\n",
       "  <use xlink:href=\"#glyph0-8\" x=\"583.773438\" y=\"268.796875\"/>\n",
       "</g>\n",
       "<g style=\"fill:rgb(0%,0%,0%);fill-opacity:1;\">\n",
       "  <use xlink:href=\"#glyph0-9\" x=\"193.628906\" y=\"220.921875\"/>\n",
       "  <use xlink:href=\"#glyph0-2\" x=\"200.628906\" y=\"220.921875\"/>\n",
       "  <use xlink:href=\"#glyph0-10\" x=\"207.628906\" y=\"220.921875\"/>\n",
       "  <use xlink:href=\"#glyph0-3\" x=\"214.628906\" y=\"220.921875\"/>\n",
       "  <use xlink:href=\"#glyph0-11\" x=\"221.628906\" y=\"220.921875\"/>\n",
       "  <use xlink:href=\"#glyph0-5\" x=\"228.628906\" y=\"220.921875\"/>\n",
       "</g>\n",
       "<g style=\"fill:rgb(0%,0%,0%);fill-opacity:1;\">\n",
       "  <use xlink:href=\"#glyph0-12\" x=\"-0.617188\" y=\"292.464844\"/>\n",
       "  <use xlink:href=\"#glyph0-5\" x=\"6.382813\" y=\"292.464844\"/>\n",
       "  <use xlink:href=\"#glyph0-13\" x=\"13.382813\" y=\"292.464844\"/>\n",
       "  <use xlink:href=\"#glyph0-13\" x=\"20.382813\" y=\"292.464844\"/>\n",
       "  <use xlink:href=\"#glyph0-3\" x=\"27.382813\" y=\"292.464844\"/>\n",
       "  <use xlink:href=\"#glyph0-14\" x=\"34.382813\" y=\"292.464844\"/>\n",
       "</g>\n",
       "<g style=\"fill:rgb(0%,0%,0%);fill-opacity:1;\">\n",
       "  <use xlink:href=\"#glyph0-15\" x=\"57.957031\" y=\"26.003906\"/>\n",
       "  <use xlink:href=\"#glyph0-14\" x=\"64.957031\" y=\"26.003906\"/>\n",
       "  <use xlink:href=\"#glyph0-16\" x=\"71.957031\" y=\"26.003906\"/>\n",
       "  <use xlink:href=\"#glyph0-17\" x=\"78.957031\" y=\"26.003906\"/>\n",
       "  <use xlink:href=\"#glyph0-5\" x=\"85.957031\" y=\"26.003906\"/>\n",
       "  <use xlink:href=\"#glyph0-11\" x=\"92.957031\" y=\"26.003906\"/>\n",
       "</g>\n",
       "<g style=\"fill:rgb(0%,0%,0%);fill-opacity:1;\">\n",
       "  <use xlink:href=\"#glyph0-18\" x=\"243.25\" y=\"515.476563\"/>\n",
       "  <use xlink:href=\"#glyph0-11\" x=\"250.25\" y=\"515.476563\"/>\n",
       "  <use xlink:href=\"#glyph0-10\" x=\"257.25\" y=\"515.476563\"/>\n",
       "  <use xlink:href=\"#glyph0-13\" x=\"264.25\" y=\"515.476563\"/>\n",
       "  <use xlink:href=\"#glyph0-19\" x=\"271.25\" y=\"515.476563\"/>\n",
       "</g>\n",
       "<g style=\"fill:rgb(0%,0%,0%);fill-opacity:1;\">\n",
       "  <use xlink:href=\"#glyph0-20\" x=\"46.460938\" y=\"585.839844\"/>\n",
       "  <use xlink:href=\"#glyph0-5\" x=\"53.460938\" y=\"585.839844\"/>\n",
       "  <use xlink:href=\"#glyph0-7\" x=\"60.460938\" y=\"585.839844\"/>\n",
       "  <use xlink:href=\"#glyph0-11\" x=\"67.460938\" y=\"585.839844\"/>\n",
       "  <use xlink:href=\"#glyph0-21\" x=\"74.460938\" y=\"585.839844\"/>\n",
       "  <use xlink:href=\"#glyph0-5\" x=\"81.460938\" y=\"585.839844\"/>\n",
       "</g>\n",
       "</g>\n",
       "</svg>\n"
      ],
      "text/plain": [
       "<igraph.drawing.Plot at 0x64825f8>"
      ]
     },
     "execution_count": 84,
     "metadata": {},
     "output_type": "execute_result"
    }
   ],
   "source": [
    "plot(g,layout=layout,vertex_color=[color_dict[gender] for gendr in g.vs['gender']])"
   ]
  },
  {
   "cell_type": "raw",
   "metadata": {},
   "source": [
    "如果要将图形的可视化表示的属性与图形本身分开，则后一种方法是首选。 您可以简单地设置一个包含要传递给plot（）的关键字参数的Python字典，然后使用双星号（**）运算符将特定的样式属性传递给plot（）："
   ]
  },
  {
   "cell_type": "code",
   "execution_count": 85,
   "metadata": {
    "collapsed": true
   },
   "outputs": [],
   "source": [
    "visual_style={}"
   ]
  },
  {
   "cell_type": "code",
   "execution_count": 86,
   "metadata": {
    "collapsed": true
   },
   "outputs": [],
   "source": [
    "visual_style['vertex_size']=20"
   ]
  },
  {
   "cell_type": "code",
   "execution_count": 87,
   "metadata": {
    "collapsed": true
   },
   "outputs": [],
   "source": [
    "visual_style['vertex_color']=[color_dict[gender] for gender in g.vs['gender']]"
   ]
  },
  {
   "cell_type": "code",
   "execution_count": 88,
   "metadata": {
    "collapsed": true
   },
   "outputs": [],
   "source": [
    "visual_style['vertex_label']=g.vs['name']"
   ]
  },
  {
   "cell_type": "code",
   "execution_count": 89,
   "metadata": {
    "collapsed": true
   },
   "outputs": [],
   "source": [
    "visual_style['edge_width']=[1+2*int(is_formal) for is_formal in g.es['is_formal']]"
   ]
  },
  {
   "cell_type": "code",
   "execution_count": 90,
   "metadata": {
    "collapsed": true
   },
   "outputs": [],
   "source": [
    "visual_style['bbox']=(300,300)"
   ]
  },
  {
   "cell_type": "code",
   "execution_count": 91,
   "metadata": {
    "collapsed": true
   },
   "outputs": [],
   "source": [
    "visual_style['margin']=20"
   ]
  },
  {
   "cell_type": "code",
   "execution_count": 92,
   "metadata": {},
   "outputs": [
    {
     "data": {
      "image/svg+xml": [
       "<?xml version=\"1.0\" encoding=\"UTF-8\"?>\n",
       "<svg xmlns=\"http://www.w3.org/2000/svg\" xmlns:xlink=\"http://www.w3.org/1999/xlink\" width=\"300pt\" height=\"300pt\" viewBox=\"0 0 300 300\" version=\"1.1\">\n",
       "<defs>\n",
       "<g>\n",
       "<symbol overflow=\"visible\" id=\"glyph0-0\">\n",
       "<path style=\"stroke:none;\" d=\"\"/>\n",
       "</symbol>\n",
       "<symbol overflow=\"visible\" id=\"glyph0-1\">\n",
       "<path style=\"stroke:none;\" d=\"M 4.429688 -3.71875 L 1.96875 -3.71875 L 1.476563 -1.640625 C 1.4375 -1.457031 1.417969 -1.308594 1.421875 -1.203125 C 1.417969 -1.054688 1.445313 -0.910156 1.503906 -0.765625 C 1.554688 -0.617188 1.710938 -0.542969 1.96875 -0.546875 L 2.132813 -0.546875 L 2.132813 -0.21875 L 0.109375 -0.21875 L 0.109375 -0.546875 L 0.273438 -0.546875 C 0.417969 -0.542969 0.546875 -0.589844 0.65625 -0.683594 C 0.765625 -0.773438 0.835938 -0.929688 0.875 -1.148438 L 3.007813 -9.515625 L 3.828125 -9.789063 L 5.90625 -1.148438 C 5.976563 -0.929688 6.066406 -0.773438 6.179688 -0.683594 C 6.285156 -0.589844 6.414063 -0.542969 6.5625 -0.546875 L 6.726563 -0.546875 L 6.726563 -0.21875 L 4.375 -0.21875 L 4.375 -0.546875 L 4.59375 -0.546875 C 4.8125 -0.542969 4.9375 -0.589844 4.976563 -0.683594 C 5.007813 -0.773438 5.027344 -0.855469 5.03125 -0.929688 C 5.027344 -1.074219 5.007813 -1.203125 4.976563 -1.3125 Z M 3.28125 -8.585938 L 3.226563 -8.585938 L 2.078125 -4.046875 L 4.375 -4.046875 Z \"/>\n",
       "</symbol>\n",
       "<symbol overflow=\"visible\" id=\"glyph0-2\">\n",
       "<path style=\"stroke:none;\" d=\"M 2.023438 -9.570313 C 2.347656 -9.566406 2.660156 -9.605469 2.953125 -9.679688 C 3.242188 -9.75 3.515625 -9.859375 3.773438 -10.007813 L 3.882813 -10.007813 L 3.882813 -0.984375 C 3.878906 -0.835938 3.925781 -0.726563 4.019531 -0.65625 C 4.109375 -0.582031 4.226563 -0.542969 4.375 -0.546875 L 5.632813 -0.546875 L 5.632813 -0.21875 L 1.367188 -0.21875 L 1.367188 -0.546875 L 2.625 -0.546875 C 2.804688 -0.542969 2.929688 -0.582031 3.007813 -0.65625 C 3.078125 -0.726563 3.117188 -0.835938 3.117188 -0.984375 L 3.117188 -8.804688 C 3.117188 -8.949219 3.078125 -9.058594 3.007813 -9.132813 C 2.929688 -9.203125 2.804688 -9.238281 2.625 -9.242188 L 1.421875 -9.242188 L 1.421875 -9.570313 Z \"/>\n",
       "</symbol>\n",
       "<symbol overflow=\"visible\" id=\"glyph0-3\">\n",
       "<path style=\"stroke:none;\" d=\"M 3.117188 -5.496094 C 3.117188 -5.640625 3.078125 -5.757813 3.007813 -5.847656 C 2.929688 -5.9375 2.804688 -5.980469 2.625 -5.984375 L 1.476563 -6.011719 L 1.476563 -6.34375 L 2.023438 -6.355469 C 2.347656 -6.34375 2.660156 -6.367188 2.953125 -6.425781 C 3.242188 -6.476563 3.515625 -6.578125 3.773438 -6.726563 L 3.882813 -6.726563 L 3.882813 -0.984375 C 3.878906 -0.835938 3.925781 -0.726563 4.019531 -0.65625 C 4.109375 -0.582031 4.226563 -0.542969 4.375 -0.546875 L 5.523438 -0.546875 L 5.523438 -0.21875 L 1.476563 -0.21875 L 1.476563 -0.546875 L 2.625 -0.546875 C 2.804688 -0.542969 2.929688 -0.582031 3.007813 -0.65625 C 3.078125 -0.726563 3.117188 -0.832031 3.117188 -0.980469 Z M 3.554688 -9.679688 C 3.734375 -9.679688 3.898438 -9.613281 4.046875 -9.488281 C 4.191406 -9.355469 4.265625 -9.203125 4.265625 -9.023438 C 4.265625 -8.839844 4.191406 -8.675781 4.046875 -8.53125 C 3.898438 -8.382813 3.734375 -8.308594 3.554688 -8.3125 C 3.371094 -8.308594 3.207031 -8.382813 3.0625 -8.53125 C 2.914063 -8.675781 2.839844 -8.839844 2.84375 -9.023438 C 2.839844 -9.203125 2.914063 -9.355469 3.0625 -9.488281 C 3.207031 -9.613281 3.371094 -9.679688 3.554688 -9.679688 Z \"/>\n",
       "</symbol>\n",
       "<symbol overflow=\"visible\" id=\"glyph0-4\">\n",
       "<path style=\"stroke:none;\" d=\"M 4.703125 -4.867188 C 4.699219 -4.972656 4.71875 -5.046875 4.757813 -5.085938 C 4.757813 -5.121094 4.773438 -5.191406 4.8125 -5.304688 C 4.84375 -5.445313 4.773438 -5.621094 4.59375 -5.824219 C 4.410156 -6.023438 4.097656 -6.121094 3.664063 -6.125 C 3.113281 -6.121094 2.648438 -5.859375 2.269531 -5.332031 C 1.882813 -4.800781 1.691406 -4.097656 1.695313 -3.226563 C 1.691406 -2.421875 1.855469 -1.773438 2.1875 -1.285156 C 2.511719 -0.789063 3.058594 -0.542969 3.828125 -0.546875 C 4.335938 -0.542969 4.765625 -0.707031 5.113281 -1.039063 C 5.457031 -1.363281 5.703125 -1.746094 5.851563 -2.1875 L 6.125 -2.078125 C 5.976563 -1.527344 5.703125 -1.0625 5.304688 -0.683594 C 4.898438 -0.296875 4.351563 -0.105469 3.664063 -0.109375 C 2.785156 -0.105469 2.09375 -0.378906 1.585938 -0.929688 C 1.074219 -1.472656 0.820313 -2.257813 0.820313 -3.28125 C 0.820313 -4.191406 1.09375 -4.945313 1.640625 -5.550781 C 2.1875 -6.148438 2.898438 -6.449219 3.773438 -6.453125 C 4.390625 -6.449219 4.871094 -6.285156 5.222656 -5.960938 C 5.566406 -5.628906 5.742188 -5.300781 5.742188 -4.976563 C 5.742188 -4.753906 5.695313 -4.601563 5.605469 -4.511719 C 5.511719 -4.417969 5.375 -4.371094 5.195313 -4.375 C 5.046875 -4.371094 4.929688 -4.417969 4.839844 -4.511719 C 4.746094 -4.601563 4.699219 -4.71875 4.703125 -4.867188 Z \"/>\n",
       "</symbol>\n",
       "<symbol overflow=\"visible\" id=\"glyph0-5\">\n",
       "<path style=\"stroke:none;\" d=\"M 5.25 -3.609375 C 5.285156 -4.410156 5.148438 -5.019531 4.839844 -5.441406 C 4.527344 -5.859375 4.117188 -6.070313 3.609375 -6.070313 C 3.0625 -6.070313 2.613281 -5.851563 2.269531 -5.414063 C 1.917969 -4.976563 1.746094 -4.375 1.75 -3.609375 Z M 1.75 -3.28125 C 1.746094 -2.296875 1.9375 -1.59375 2.324219 -1.175781 C 2.703125 -0.753906 3.203125 -0.542969 3.828125 -0.546875 C 4.296875 -0.542969 4.699219 -0.679688 5.03125 -0.957031 C 5.355469 -1.226563 5.59375 -1.566406 5.742188 -1.96875 L 6.015625 -1.859375 C 5.902344 -1.453125 5.65625 -1.0625 5.277344 -0.683594 C 4.890625 -0.296875 4.371094 -0.105469 3.71875 -0.109375 C 2.878906 -0.105469 2.195313 -0.378906 1.667969 -0.929688 C 1.136719 -1.472656 0.871094 -2.257813 0.875 -3.28125 C 0.871094 -4.191406 1.136719 -4.945313 1.667969 -5.550781 C 2.195313 -6.148438 2.84375 -6.449219 3.609375 -6.453125 C 4.300781 -6.449219 4.902344 -6.214844 5.414063 -5.742188 C 5.921875 -5.265625 6.175781 -4.445313 6.179688 -3.28125 Z \"/>\n",
       "</symbol>\n",
       "<symbol overflow=\"visible\" id=\"glyph0-6\">\n",
       "<path style=\"stroke:none;\" d=\"M 0.21875 -0.21875 L 0.21875 -0.546875 L 0.65625 -0.546875 C 0.835938 -0.542969 0.960938 -0.582031 1.039063 -0.65625 C 1.109375 -0.726563 1.148438 -0.835938 1.148438 -0.984375 L 1.148438 -8.804688 C 1.148438 -8.949219 1.109375 -9.058594 1.039063 -9.132813 C 0.960938 -9.203125 0.835938 -9.238281 0.65625 -9.242188 L 0.328125 -9.242188 L 0.328125 -9.570313 L 3.5 -9.570313 C 4.371094 -9.566406 5.019531 -9.394531 5.441406 -9.050781 C 5.859375 -8.703125 6.070313 -8.164063 6.070313 -7.4375 C 6.070313 -6.921875 5.960938 -6.503906 5.742188 -6.179688 C 5.523438 -5.847656 5.066406 -5.554688 4.375 -5.304688 C 5.210938 -5.046875 5.777344 -4.683594 6.070313 -4.210938 C 6.359375 -3.734375 6.503906 -3.207031 6.507813 -2.625 C 6.503906 -1.894531 6.25 -1.308594 5.742188 -0.875 C 5.230469 -0.433594 4.535156 -0.214844 3.664063 -0.21875 Z M 3.5 -0.546875 C 4.117188 -0.542969 4.601563 -0.734375 4.949219 -1.121094 C 5.292969 -1.5 5.464844 -2.039063 5.46875 -2.734375 C 5.464844 -3.535156 5.285156 -4.128906 4.921875 -4.511719 C 4.554688 -4.894531 4.007813 -5.085938 3.28125 -5.085938 L 2.023438 -5.085938 L 2.023438 -0.984375 C 2.019531 -0.835938 2.066406 -0.726563 2.160156 -0.65625 C 2.25 -0.582031 2.367188 -0.542969 2.515625 -0.546875 Z M 5.140625 -7.4375 C 5.136719 -8.089844 4.957031 -8.554688 4.59375 -8.832031 C 4.226563 -9.101563 3.75 -9.238281 3.171875 -9.242188 L 2.515625 -9.242188 C 2.367188 -9.238281 2.25 -9.203125 2.160156 -9.132813 C 2.066406 -9.058594 2.019531 -8.949219 2.023438 -8.804688 L 2.023438 -5.414063 L 3.445313 -5.414063 C 3.84375 -5.414063 4.226563 -5.578125 4.59375 -5.90625 C 4.957031 -6.234375 5.136719 -6.742188 5.140625 -7.4375 Z \"/>\n",
       "</symbol>\n",
       "<symbol overflow=\"visible\" id=\"glyph0-7\">\n",
       "<path style=\"stroke:none;\" d=\"M 6.34375 -3.28125 C 6.339844 -2.367188 6.066406 -1.609375 5.523438 -1.011719 C 4.972656 -0.40625 4.296875 -0.105469 3.5 -0.109375 C 2.65625 -0.105469 1.972656 -0.414063 1.449219 -1.039063 C 0.917969 -1.65625 0.65625 -2.40625 0.65625 -3.28125 C 0.65625 -4.082031 0.917969 -4.808594 1.449219 -5.46875 C 1.972656 -6.121094 2.65625 -6.449219 3.5 -6.453125 C 4.371094 -6.449219 5.066406 -6.121094 5.578125 -5.46875 C 6.085938 -4.808594 6.339844 -4.082031 6.34375 -3.28125 Z M 1.53125 -3.226563 C 1.527344 -2.277344 1.71875 -1.574219 2.105469 -1.121094 C 2.484375 -0.660156 2.949219 -0.433594 3.5 -0.4375 C 4.117188 -0.433594 4.601563 -0.679688 4.949219 -1.175781 C 5.292969 -1.664063 5.464844 -2.347656 5.46875 -3.226563 C 5.464844 -4.171875 5.273438 -4.890625 4.894531 -5.386719 C 4.507813 -5.875 4.042969 -6.121094 3.5 -6.125 C 2.984375 -6.121094 2.53125 -5.875 2.132813 -5.386719 C 1.730469 -4.890625 1.527344 -4.171875 1.53125 -3.226563 Z \"/>\n",
       "</symbol>\n",
       "<symbol overflow=\"visible\" id=\"glyph0-8\">\n",
       "<path style=\"stroke:none;\" d=\"M 1.914063 -5.085938 C 2.09375 -5.484375 2.386719 -5.800781 2.789063 -6.042969 C 3.1875 -6.277344 3.570313 -6.398438 3.9375 -6.398438 C 4.703125 -6.398438 5.277344 -6.132813 5.660156 -5.605469 C 6.042969 -5.074219 6.234375 -4.300781 6.234375 -3.28125 C 6.234375 -2.257813 5.988281 -1.480469 5.496094 -0.957031 C 5.003906 -0.425781 4.390625 -0.164063 3.664063 -0.164063 C 3.296875 -0.164063 2.960938 -0.226563 2.652344 -0.355469 C 2.339844 -0.480469 2.074219 -0.652344 1.859375 -0.875 L 1.367188 -0.21875 L 1.148438 -0.21875 L 1.148438 -8.804688 C 1.148438 -8.949219 1.109375 -9.058594 1.039063 -9.132813 C 0.960938 -9.203125 0.835938 -9.238281 0.65625 -9.242188 L 0.328125 -9.242188 L 0.328125 -9.570313 L 0.820313 -9.570313 C 1 -9.566406 1.179688 -9.605469 1.367188 -9.679688 C 1.546875 -9.75 1.730469 -9.859375 1.914063 -10.007813 Z M 1.914063 -2.023438 C 1.910156 -1.617188 2.046875 -1.273438 2.324219 -0.984375 C 2.59375 -0.691406 3.003906 -0.542969 3.554688 -0.546875 C 4.207031 -0.542969 4.671875 -0.773438 4.949219 -1.230469 C 5.21875 -1.683594 5.355469 -2.367188 5.359375 -3.28125 C 5.355469 -4.15625 5.238281 -4.820313 5.003906 -5.277344 C 4.765625 -5.730469 4.390625 -5.957031 3.882813 -5.960938 C 3.441406 -5.957031 3.058594 -5.832031 2.734375 -5.578125 C 2.402344 -5.320313 2.128906 -4.863281 1.914063 -4.210938 Z \"/>\n",
       "</symbol>\n",
       "<symbol overflow=\"visible\" id=\"glyph0-9\">\n",
       "<path style=\"stroke:none;\" d=\"M 3.773438 -0.109375 C 2.75 -0.105469 1.9375 -0.488281 1.339844 -1.257813 C 0.734375 -2.019531 0.433594 -3.222656 0.4375 -4.867188 C 0.433594 -6.25 0.753906 -7.398438 1.394531 -8.3125 C 2.03125 -9.222656 2.894531 -9.679688 3.992188 -9.679688 C 4.242188 -9.679688 4.5 -9.640625 4.757813 -9.570313 C 5.011719 -9.457031 5.230469 -9.402344 5.414063 -9.40625 C 5.558594 -9.402344 5.675781 -9.421875 5.769531 -9.460938 C 5.859375 -9.496094 5.941406 -9.570313 6.015625 -9.679688 L 6.507813 -7.273438 L 6.179688 -7.164063 C 5.957031 -7.855469 5.664063 -8.382813 5.304688 -8.75 C 4.9375 -9.109375 4.464844 -9.292969 3.882813 -9.296875 C 3.113281 -9.292969 2.519531 -8.875 2.105469 -8.039063 C 1.683594 -7.199219 1.476563 -6.160156 1.476563 -4.921875 C 1.476563 -3.570313 1.65625 -2.511719 2.023438 -1.75 C 2.382813 -0.980469 2.984375 -0.597656 3.828125 -0.601563 C 4.40625 -0.597656 4.910156 -0.808594 5.332031 -1.230469 C 5.75 -1.648438 6.03125 -2.203125 6.179688 -2.898438 L 6.507813 -2.734375 C 6.324219 -1.964844 5.988281 -1.335938 5.496094 -0.847656 C 5.003906 -0.351563 4.429688 -0.105469 3.773438 -0.109375 Z \"/>\n",
       "</symbol>\n",
       "<symbol overflow=\"visible\" id=\"glyph0-10\">\n",
       "<path style=\"stroke:none;\" d=\"M 2.679688 -0.164063 C 2.019531 -0.164063 1.511719 -0.316406 1.148438 -0.628906 C 0.78125 -0.933594 0.597656 -1.289063 0.601563 -1.695313 C 0.597656 -2.347656 0.878906 -2.886719 1.449219 -3.308594 C 2.011719 -3.726563 3.132813 -4.027344 4.8125 -4.210938 L 4.8125 -4.867188 C 4.808594 -5.230469 4.726563 -5.53125 4.566406 -5.769531 C 4.398438 -6.003906 4.027344 -6.121094 3.445313 -6.125 C 2.824219 -6.121094 2.386719 -6.023438 2.132813 -5.824219 C 1.875 -5.621094 1.78125 -5.410156 1.859375 -5.195313 C 1.890625 -5.121094 1.910156 -5.046875 1.914063 -4.976563 C 1.910156 -4.898438 1.882813 -4.808594 1.832031 -4.703125 C 1.773438 -4.589844 1.636719 -4.535156 1.421875 -4.539063 C 1.273438 -4.535156 1.15625 -4.582031 1.066406 -4.675781 C 0.972656 -4.765625 0.925781 -4.902344 0.929688 -5.085938 C 0.925781 -5.414063 1.164063 -5.722656 1.640625 -6.015625 C 2.113281 -6.304688 2.695313 -6.449219 3.390625 -6.453125 C 4.117188 -6.449219 4.664063 -6.3125 5.03125 -6.042969 C 5.394531 -5.765625 5.578125 -5.375 5.578125 -4.867188 L 5.578125 -1.257813 C 5.578125 -0.964844 5.605469 -0.792969 5.660156 -0.738281 C 5.714844 -0.683594 5.8125 -0.65625 5.960938 -0.65625 C 6.140625 -0.65625 6.269531 -0.738281 6.34375 -0.902344 C 6.414063 -1.066406 6.449219 -1.292969 6.453125 -1.585938 L 6.726563 -1.585938 C 6.726563 -1.074219 6.632813 -0.71875 6.453125 -0.519531 C 6.265625 -0.316406 6.03125 -0.214844 5.742188 -0.21875 C 5.484375 -0.214844 5.28125 -0.269531 5.140625 -0.382813 C 4.992188 -0.488281 4.882813 -0.671875 4.8125 -0.929688 C 4.445313 -0.671875 4.109375 -0.480469 3.800781 -0.355469 C 3.488281 -0.226563 3.113281 -0.164063 2.679688 -0.164063 Z M 1.53125 -1.859375 C 1.527344 -1.527344 1.628906 -1.226563 1.832031 -0.957031 C 2.03125 -0.679688 2.351563 -0.542969 2.789063 -0.546875 C 3.117188 -0.542969 3.445313 -0.609375 3.773438 -0.738281 C 4.101563 -0.863281 4.445313 -1.054688 4.8125 -1.3125 L 4.8125 -3.882813 C 3.570313 -3.734375 2.714844 -3.488281 2.242188 -3.144531 C 1.765625 -2.796875 1.527344 -2.367188 1.53125 -1.859375 Z \"/>\n",
       "</symbol>\n",
       "<symbol overflow=\"visible\" id=\"glyph0-11\">\n",
       "<path style=\"stroke:none;\" d=\"M 2.789063 -4.648438 C 3.152344 -5.226563 3.542969 -5.675781 3.964844 -5.988281 C 4.382813 -6.296875 4.8125 -6.449219 5.25 -6.453125 C 5.613281 -6.449219 5.894531 -6.367188 6.097656 -6.207031 C 6.296875 -6.039063 6.398438 -5.847656 6.398438 -5.632813 C 6.398438 -5.445313 6.351563 -5.300781 6.261719 -5.195313 C 6.167969 -5.082031 6.03125 -5.027344 5.851563 -5.03125 C 5.667969 -5.027344 5.53125 -5.082031 5.441406 -5.195313 C 5.347656 -5.300781 5.320313 -5.445313 5.359375 -5.632813 C 5.355469 -5.738281 5.335938 -5.832031 5.304688 -5.90625 C 5.265625 -5.976563 5.15625 -6.011719 4.976563 -6.015625 C 4.679688 -6.011719 4.324219 -5.828125 3.910156 -5.46875 C 3.488281 -5.101563 3.117188 -4.59375 2.789063 -3.9375 L 2.789063 -0.984375 C 2.789063 -0.835938 2.832031 -0.726563 2.925781 -0.65625 C 3.011719 -0.582031 3.132813 -0.542969 3.28125 -0.546875 L 4.484375 -0.546875 L 4.484375 -0.21875 L 0.4375 -0.21875 L 0.4375 -0.546875 L 1.53125 -0.546875 C 1.710938 -0.542969 1.839844 -0.582031 1.914063 -0.65625 C 1.984375 -0.726563 2.019531 -0.835938 2.023438 -0.984375 L 2.023438 -5.523438 C 2.019531 -5.667969 1.984375 -5.785156 1.914063 -5.878906 C 1.839844 -5.964844 1.710938 -6.011719 1.53125 -6.015625 L 0.492188 -6.015625 L 0.492188 -6.34375 L 0.929688 -6.34375 C 1.183594 -6.339844 1.484375 -6.367188 1.832031 -6.425781 C 2.175781 -6.476563 2.441406 -6.539063 2.625 -6.617188 L 2.789063 -6.617188 Z \"/>\n",
       "</symbol>\n",
       "<symbol overflow=\"visible\" id=\"glyph0-12\">\n",
       "<path style=\"stroke:none;\" d=\"M 5.46875 -4.976563 C 5.464844 -6.539063 5.230469 -7.644531 4.757813 -8.285156 C 4.28125 -8.921875 3.625 -9.238281 2.789063 -9.242188 C 2.53125 -9.238281 2.339844 -9.203125 2.214844 -9.132813 C 2.085938 -9.058594 2.019531 -8.949219 2.023438 -8.804688 L 2.023438 -0.984375 C 2.019531 -0.835938 2.074219 -0.726563 2.1875 -0.65625 C 2.292969 -0.582031 2.441406 -0.542969 2.625 -0.546875 C 3.425781 -0.542969 4.097656 -0.84375 4.648438 -1.449219 C 5.191406 -2.046875 5.464844 -3.222656 5.46875 -4.976563 Z M 1.148438 -8.804688 C 1.148438 -8.949219 1.109375 -9.058594 1.039063 -9.132813 C 0.960938 -9.203125 0.835938 -9.238281 0.65625 -9.242188 L 0.328125 -9.242188 L 0.328125 -9.570313 L 2.789063 -9.570313 C 3.917969 -9.566406 4.820313 -9.203125 5.496094 -8.476563 C 6.167969 -7.746094 6.503906 -6.617188 6.507813 -5.085938 C 6.503906 -3.40625 6.175781 -2.175781 5.523438 -1.394531 C 4.863281 -0.609375 3.898438 -0.214844 2.625 -0.21875 L 0.273438 -0.21875 L 0.273438 -0.546875 L 0.65625 -0.546875 C 0.835938 -0.542969 0.960938 -0.582031 1.039063 -0.65625 C 1.109375 -0.726563 1.148438 -0.835938 1.148438 -0.984375 Z \"/>\n",
       "</symbol>\n",
       "<symbol overflow=\"visible\" id=\"glyph0-13\">\n",
       "<path style=\"stroke:none;\" d=\"M 0.4375 -0.21875 L 0.4375 -0.546875 L 0.710938 -0.546875 C 0.890625 -0.542969 1.019531 -0.582031 1.09375 -0.65625 C 1.164063 -0.726563 1.199219 -0.835938 1.203125 -0.984375 L 1.203125 -5.6875 C 1.199219 -5.792969 1.183594 -5.875 1.148438 -5.933594 C 1.109375 -5.984375 1.035156 -6.011719 0.929688 -6.015625 L 0.492188 -6.015625 L 0.492188 -6.34375 L 0.875 -6.34375 C 1.054688 -6.339844 1.230469 -6.359375 1.394531 -6.398438 C 1.558594 -6.433594 1.710938 -6.503906 1.859375 -6.617188 L 1.96875 -6.617188 L 1.96875 -5.359375 C 2.296875 -5.722656 2.625 -5.996094 2.953125 -6.179688 C 3.28125 -6.359375 3.625 -6.449219 3.992188 -6.453125 C 4.609375 -6.449219 5.066406 -6.285156 5.359375 -5.960938 C 5.648438 -5.628906 5.792969 -5.136719 5.796875 -4.484375 L 5.796875 -0.984375 C 5.792969 -0.835938 5.839844 -0.726563 5.933594 -0.65625 C 6.023438 -0.582031 6.140625 -0.542969 6.289063 -0.546875 L 6.5625 -0.546875 L 6.5625 -0.21875 L 4.265625 -0.21875 L 4.265625 -0.546875 L 4.539063 -0.546875 C 4.71875 -0.542969 4.847656 -0.582031 4.921875 -0.65625 C 4.992188 -0.726563 5.027344 -0.835938 5.03125 -0.984375 L 5.03125 -4.648438 C 5.027344 -5.082031 4.9375 -5.421875 4.757813 -5.660156 C 4.574219 -5.894531 4.300781 -6.011719 3.9375 -6.015625 C 3.609375 -6.011719 3.269531 -5.902344 2.925781 -5.6875 C 2.574219 -5.464844 2.257813 -5.15625 1.96875 -4.757813 L 1.96875 -0.984375 C 1.96875 -0.835938 2.011719 -0.726563 2.105469 -0.65625 C 2.191406 -0.582031 2.3125 -0.542969 2.460938 -0.546875 L 2.734375 -0.546875 L 2.734375 -0.21875 Z \"/>\n",
       "</symbol>\n",
       "<symbol overflow=\"visible\" id=\"glyph0-14\">\n",
       "<path style=\"stroke:none;\" d=\"M 1.367188 -4.757813 C 1.363281 -5.304688 1.574219 -5.722656 1.996094 -6.015625 C 2.414063 -6.304688 2.914063 -6.449219 3.5 -6.453125 C 3.824219 -6.449219 4.136719 -6.414063 4.429688 -6.34375 C 4.71875 -6.230469 4.917969 -6.175781 5.03125 -6.179688 C 5.136719 -6.175781 5.226563 -6.195313 5.304688 -6.234375 C 5.375 -6.269531 5.46875 -6.339844 5.578125 -6.453125 L 5.796875 -4.648438 L 5.46875 -4.59375 C 5.320313 -5.066406 5.074219 -5.4375 4.730469 -5.714844 C 4.378906 -5.984375 3.988281 -6.121094 3.554688 -6.125 C 3.078125 -6.121094 2.703125 -6.03125 2.433594 -5.851563 C 2.15625 -5.667969 2.019531 -5.414063 2.023438 -5.085938 C 2.019531 -4.792969 2.085938 -4.5625 2.214844 -4.402344 C 2.339844 -4.234375 2.566406 -4.117188 2.898438 -4.046875 C 3.152344 -3.933594 3.480469 -3.824219 3.882813 -3.71875 C 4.246094 -3.570313 4.59375 -3.425781 4.921875 -3.28125 C 5.210938 -3.132813 5.457031 -2.941406 5.660156 -2.707031 C 5.859375 -2.46875 5.957031 -2.203125 5.960938 -1.914063 C 5.957031 -1.363281 5.765625 -0.933594 5.386719 -0.628906 C 5 -0.316406 4.445313 -0.164063 3.71875 -0.164063 C 3.242188 -0.164063 2.894531 -0.21875 2.679688 -0.328125 C 2.421875 -0.398438 2.222656 -0.433594 2.078125 -0.4375 C 1.964844 -0.433594 1.847656 -0.40625 1.722656 -0.355469 C 1.59375 -0.296875 1.457031 -0.234375 1.3125 -0.164063 L 1.148438 -2.1875 L 1.476563 -2.242188 C 1.585938 -1.65625 1.820313 -1.21875 2.1875 -0.929688 C 2.546875 -0.636719 3.058594 -0.492188 3.71875 -0.492188 C 4.226563 -0.492188 4.617188 -0.582031 4.894531 -0.765625 C 5.164063 -0.945313 5.300781 -1.21875 5.304688 -1.585938 C 5.300781 -1.839844 5.230469 -2.050781 5.085938 -2.214844 C 4.9375 -2.378906 4.789063 -2.496094 4.648438 -2.570313 C 4.28125 -2.714844 3.882813 -2.878906 3.445313 -3.0625 C 3.007813 -3.207031 2.625 -3.351563 2.296875 -3.5 C 1.96875 -3.640625 1.730469 -3.824219 1.585938 -4.046875 C 1.4375 -4.261719 1.363281 -4.5 1.367188 -4.757813 Z \"/>\n",
       "</symbol>\n",
       "<symbol overflow=\"visible\" id=\"glyph0-15\">\n",
       "<path style=\"stroke:none;\" d=\"M 0.4375 -9.242188 L 0.4375 -9.570313 L 5.796875 -9.570313 L 6.398438 -7.710938 L 6.125 -7.601563 C 5.828125 -8.144531 5.519531 -8.554688 5.195313 -8.832031 C 4.863281 -9.101563 4.5 -9.238281 4.101563 -9.242188 L 2.570313 -9.242188 C 2.421875 -9.238281 2.304688 -9.203125 2.214844 -9.132813 C 2.121094 -9.058594 2.074219 -8.949219 2.078125 -8.804688 L 2.078125 -5.414063 L 3.664063 -5.414063 C 4.023438 -5.414063 4.289063 -5.503906 4.457031 -5.6875 C 4.617188 -5.867188 4.699219 -6.140625 4.703125 -6.507813 L 4.703125 -6.835938 L 5.03125 -6.835938 L 5.03125 -3.609375 L 4.703125 -3.609375 L 4.703125 -3.828125 C 4.699219 -4.226563 4.617188 -4.539063 4.457031 -4.757813 C 4.289063 -4.976563 4.023438 -5.085938 3.664063 -5.085938 L 2.078125 -5.085938 L 2.078125 -0.984375 C 2.074219 -0.835938 2.121094 -0.726563 2.214844 -0.65625 C 2.304688 -0.582031 2.421875 -0.542969 2.570313 -0.546875 L 3.992188 -0.546875 C 4.535156 -0.542969 5 -0.699219 5.386719 -1.011719 C 5.765625 -1.320313 6.066406 -1.804688 6.289063 -2.460938 L 6.5625 -2.351563 L 5.960938 -0.21875 L 0.382813 -0.21875 L 0.382813 -0.546875 L 0.710938 -0.546875 C 0.890625 -0.542969 1.019531 -0.582031 1.09375 -0.65625 C 1.164063 -0.726563 1.199219 -0.835938 1.203125 -0.984375 L 1.203125 -8.804688 C 1.199219 -8.949219 1.164063 -9.058594 1.09375 -9.132813 C 1.019531 -9.203125 0.890625 -9.238281 0.710938 -9.242188 Z \"/>\n",
       "</symbol>\n",
       "<symbol overflow=\"visible\" id=\"glyph0-16\">\n",
       "<path style=\"stroke:none;\" d=\"M 3.28125 -1.96875 C 3.28125 -1.457031 3.371094 -1.109375 3.554688 -0.929688 C 3.734375 -0.746094 4.007813 -0.65625 4.375 -0.65625 C 4.738281 -0.65625 5.03125 -0.773438 5.25 -1.011719 C 5.46875 -1.246094 5.613281 -1.582031 5.6875 -2.023438 L 5.960938 -1.914063 C 5.882813 -1.402344 5.691406 -0.984375 5.386719 -0.65625 C 5.074219 -0.328125 4.664063 -0.164063 4.15625 -0.164063 C 3.605469 -0.164063 3.195313 -0.328125 2.925781 -0.65625 C 2.648438 -0.984375 2.511719 -1.492188 2.515625 -2.1875 L 2.515625 -6.015625 L 0.875 -6.015625 L 0.875 -6.34375 L 1.3125 -6.34375 C 1.75 -6.339844 2.105469 -6.476563 2.378906 -6.753906 C 2.652344 -7.023438 2.824219 -7.453125 2.898438 -8.039063 L 2.953125 -8.476563 L 3.28125 -8.476563 L 3.28125 -6.34375 L 5.46875 -6.34375 L 5.46875 -6.015625 L 3.28125 -6.015625 Z \"/>\n",
       "</symbol>\n",
       "<symbol overflow=\"visible\" id=\"glyph0-17\">\n",
       "<path style=\"stroke:none;\" d=\"M 0.4375 -0.21875 L 0.4375 -0.546875 L 0.710938 -0.546875 C 0.890625 -0.542969 1.019531 -0.582031 1.09375 -0.65625 C 1.164063 -0.726563 1.199219 -0.835938 1.203125 -0.984375 L 1.203125 -8.804688 C 1.199219 -8.949219 1.164063 -9.058594 1.09375 -9.132813 C 1.019531 -9.203125 0.890625 -9.238281 0.710938 -9.242188 L 0.382813 -9.242188 L 0.382813 -9.570313 L 0.984375 -9.570313 C 1.128906 -9.566406 1.273438 -9.605469 1.421875 -9.679688 C 1.566406 -9.75 1.710938 -9.859375 1.859375 -10.007813 L 1.96875 -10.007813 L 1.96875 -5.359375 C 2.296875 -5.757813 2.632813 -6.039063 2.980469 -6.207031 C 3.324219 -6.367188 3.699219 -6.449219 4.101563 -6.453125 C 4.648438 -6.449219 5.066406 -6.296875 5.359375 -5.988281 C 5.648438 -5.675781 5.792969 -5.191406 5.796875 -4.539063 L 5.796875 -0.984375 C 5.792969 -0.835938 5.839844 -0.726563 5.933594 -0.65625 C 6.023438 -0.582031 6.140625 -0.542969 6.289063 -0.546875 L 6.5625 -0.546875 L 6.5625 -0.21875 L 4.265625 -0.21875 L 4.265625 -0.546875 L 4.539063 -0.546875 C 4.71875 -0.542969 4.847656 -0.582031 4.921875 -0.65625 C 4.992188 -0.726563 5.027344 -0.835938 5.03125 -0.984375 L 5.03125 -4.429688 C 5.027344 -5.046875 4.925781 -5.457031 4.730469 -5.660156 C 4.527344 -5.859375 4.265625 -5.957031 3.9375 -5.960938 C 3.644531 -5.957031 3.324219 -5.867188 2.980469 -5.6875 C 2.632813 -5.503906 2.296875 -5.195313 1.96875 -4.757813 L 1.96875 -0.984375 C 1.96875 -0.835938 2.011719 -0.726563 2.105469 -0.65625 C 2.191406 -0.582031 2.3125 -0.542969 2.460938 -0.546875 L 2.734375 -0.546875 L 2.734375 -0.21875 Z \"/>\n",
       "</symbol>\n",
       "<symbol overflow=\"visible\" id=\"glyph0-18\">\n",
       "<path style=\"stroke:none;\" d=\"M 2.953125 -0.546875 L 2.953125 -0.21875 L 0.328125 -0.21875 L 0.328125 -0.546875 L 0.710938 -0.546875 C 0.890625 -0.542969 1.019531 -0.582031 1.09375 -0.65625 C 1.164063 -0.726563 1.199219 -0.835938 1.203125 -0.984375 L 1.203125 -8.804688 C 1.199219 -8.949219 1.164063 -9.058594 1.09375 -9.132813 C 1.019531 -9.203125 0.890625 -9.238281 0.710938 -9.242188 L 0.382813 -9.242188 L 0.382813 -9.570313 L 6.070313 -9.570313 L 6.726563 -7.601563 L 6.453125 -7.492188 C 6.15625 -8.074219 5.8125 -8.511719 5.414063 -8.804688 C 5.011719 -9.09375 4.574219 -9.238281 4.101563 -9.242188 L 2.570313 -9.242188 C 2.421875 -9.238281 2.304688 -9.203125 2.214844 -9.132813 C 2.121094 -9.058594 2.074219 -8.949219 2.078125 -8.804688 L 2.078125 -5.304688 L 3.882813 -5.304688 C 4.246094 -5.300781 4.511719 -5.382813 4.675781 -5.550781 C 4.839844 -5.710938 4.921875 -5.976563 4.921875 -6.34375 L 4.921875 -6.617188 L 5.25 -6.617188 L 5.25 -3.445313 L 4.921875 -3.445313 L 4.921875 -3.664063 C 4.921875 -4.097656 4.839844 -4.425781 4.675781 -4.648438 C 4.511719 -4.863281 4.246094 -4.972656 3.882813 -4.976563 L 2.078125 -4.976563 L 2.078125 -0.984375 C 2.074219 -0.835938 2.121094 -0.726563 2.214844 -0.65625 C 2.304688 -0.582031 2.421875 -0.542969 2.570313 -0.546875 Z \"/>\n",
       "</symbol>\n",
       "<symbol overflow=\"visible\" id=\"glyph0-19\">\n",
       "<path style=\"stroke:none;\" d=\"M 3.664063 -4.15625 L 5.742188 -0.929688 C 5.851563 -0.78125 5.949219 -0.679688 6.042969 -0.628906 C 6.128906 -0.570313 6.230469 -0.542969 6.34375 -0.546875 L 6.5625 -0.546875 L 6.5625 -0.21875 L 4.320313 -0.21875 L 4.320313 -0.546875 L 4.484375 -0.546875 C 4.664063 -0.542969 4.792969 -0.570313 4.867188 -0.628906 C 4.9375 -0.679688 4.917969 -0.78125 4.8125 -0.929688 L 3.117188 -3.570313 L 2.023438 -2.460938 L 2.023438 -0.984375 C 2.019531 -0.835938 2.066406 -0.726563 2.160156 -0.65625 C 2.25 -0.582031 2.367188 -0.542969 2.515625 -0.546875 L 2.789063 -0.546875 L 2.789063 -0.21875 L 0.492188 -0.21875 L 0.492188 -0.546875 L 0.765625 -0.546875 C 0.945313 -0.542969 1.074219 -0.582031 1.148438 -0.65625 C 1.21875 -0.726563 1.253906 -0.835938 1.257813 -0.984375 L 1.257813 -8.804688 C 1.253906 -8.949219 1.21875 -9.058594 1.148438 -9.132813 C 1.074219 -9.203125 0.945313 -9.238281 0.765625 -9.242188 L 0.4375 -9.242188 L 0.4375 -9.570313 L 0.929688 -9.570313 C 1.144531 -9.566406 1.335938 -9.605469 1.503906 -9.679688 C 1.664063 -9.75 1.800781 -9.859375 1.914063 -10.007813 L 2.023438 -10.007813 L 2.023438 -3.0625 L 4.320313 -5.523438 C 4.390625 -5.667969 4.417969 -5.785156 4.402344 -5.878906 C 4.378906 -5.964844 4.296875 -6.011719 4.15625 -6.015625 L 3.828125 -6.015625 L 3.828125 -6.34375 L 6.125 -6.34375 L 6.125 -6.015625 L 5.851563 -6.015625 C 5.738281 -6.011719 5.601563 -5.984375 5.441406 -5.933594 C 5.273438 -5.875 5.117188 -5.773438 4.976563 -5.632813 Z \"/>\n",
       "</symbol>\n",
       "<symbol overflow=\"visible\" id=\"glyph0-20\">\n",
       "<path style=\"stroke:none;\" d=\"M 3.554688 -9.296875 C 3.003906 -9.292969 2.503906 -8.917969 2.050781 -8.175781 C 1.59375 -7.425781 1.363281 -6.289063 1.367188 -4.757813 C 1.363281 -3.734375 1.539063 -2.765625 1.886719 -1.859375 C 2.230469 -0.945313 2.804688 -0.492188 3.609375 -0.492188 C 4.007813 -0.492188 4.324219 -0.574219 4.566406 -0.738281 C 4.800781 -0.902344 4.9375 -1.148438 4.976563 -1.476563 L 4.976563 -3.335938 C 4.972656 -3.550781 4.917969 -3.714844 4.8125 -3.828125 C 4.699219 -3.933594 4.535156 -3.988281 4.320313 -3.992188 L 3.992188 -3.992188 L 3.992188 -4.320313 L 6.726563 -4.320313 L 6.726563 -3.992188 L 6.453125 -3.992188 C 6.265625 -3.988281 6.121094 -3.933594 6.015625 -3.828125 C 5.902344 -3.714844 5.847656 -3.570313 5.851563 -3.390625 L 5.851563 -0.65625 C 5.777344 -0.691406 5.714844 -0.71875 5.660156 -0.738281 C 5.605469 -0.753906 5.539063 -0.761719 5.46875 -0.765625 C 5.390625 -0.761719 5.320313 -0.753906 5.25 -0.738281 C 5.175781 -0.71875 5.101563 -0.671875 5.03125 -0.601563 C 4.808594 -0.417969 4.582031 -0.289063 4.347656 -0.21875 C 4.109375 -0.140625 3.84375 -0.105469 3.554688 -0.109375 C 2.457031 -0.105469 1.65625 -0.589844 1.148438 -1.558594 C 0.636719 -2.523438 0.378906 -3.589844 0.382813 -4.757813 C 0.378906 -6.105469 0.679688 -7.261719 1.285156 -8.230469 C 1.882813 -9.195313 2.640625 -9.679688 3.554688 -9.679688 C 3.769531 -9.679688 4.023438 -9.625 4.320313 -9.515625 C 4.609375 -9.40625 4.792969 -9.351563 4.867188 -9.351563 C 4.972656 -9.351563 5.082031 -9.378906 5.195313 -9.433594 C 5.300781 -9.488281 5.390625 -9.570313 5.46875 -9.679688 L 5.90625 -7.21875 L 5.578125 -7.109375 C 5.359375 -7.871094 5.085938 -8.429688 4.757813 -8.777344 C 4.429688 -9.121094 4.027344 -9.292969 3.554688 -9.296875 Z \"/>\n",
       "</symbol>\n",
       "<symbol overflow=\"visible\" id=\"glyph0-21\">\n",
       "<path style=\"stroke:none;\" d=\"M 1.914063 -4.320313 C 1.910156 -3.878906 2.039063 -3.507813 2.296875 -3.199219 C 2.550781 -2.886719 2.894531 -2.730469 3.335938 -2.734375 C 3.804688 -2.730469 4.160156 -2.867188 4.402344 -3.144531 C 4.636719 -3.414063 4.757813 -3.804688 4.757813 -4.320313 C 4.757813 -4.9375 4.621094 -5.386719 4.347656 -5.660156 C 4.074219 -5.933594 3.734375 -6.070313 3.335938 -6.070313 C 2.929688 -6.070313 2.59375 -5.933594 2.324219 -5.660156 C 2.046875 -5.386719 1.910156 -4.9375 1.914063 -4.320313 Z M 4.59375 -1.367188 C 5.140625 -1.289063 5.539063 -1.136719 5.796875 -0.902344 C 6.046875 -0.664063 6.175781 -0.347656 6.179688 0.0546875 C 6.175781 0.597656 5.949219 1.035156 5.496094 1.367188 C 5.039063 1.691406 4.316406 1.855469 3.335938 1.859375 C 2.566406 1.855469 1.949219 1.703125 1.476563 1.394531 C 1 1.082031 0.761719 0.726563 0.765625 0.328125 C 0.761719 0.0742188 0.851563 -0.179688 1.039063 -0.4375 C 1.21875 -0.691406 1.511719 -0.890625 1.914063 -1.039063 C 1.691406 -1.144531 1.519531 -1.265625 1.394531 -1.394531 C 1.265625 -1.519531 1.199219 -1.671875 1.203125 -1.859375 C 1.199219 -2.074219 1.273438 -2.265625 1.421875 -2.433594 C 1.566406 -2.59375 1.75 -2.730469 1.96875 -2.84375 C 1.75 -3.023438 1.558594 -3.242188 1.394531 -3.5 C 1.230469 -3.75 1.148438 -4.023438 1.148438 -4.320313 C 1.148438 -4.863281 1.339844 -5.347656 1.722656 -5.769531 C 2.105469 -6.1875 2.640625 -6.398438 3.335938 -6.398438 C 3.625 -6.398438 3.910156 -6.359375 4.183594 -6.289063 C 4.457031 -6.210938 4.683594 -6.085938 4.867188 -5.90625 C 5.121094 -6.085938 5.347656 -6.222656 5.550781 -6.316406 C 5.746094 -6.40625 5.921875 -6.449219 6.070313 -6.453125 C 6.25 -6.449219 6.375 -6.386719 6.453125 -6.261719 C 6.523438 -6.132813 6.5625 -6.015625 6.5625 -5.90625 C 6.5625 -5.757813 6.535156 -5.636719 6.480469 -5.550781 C 6.425781 -5.457031 6.324219 -5.414063 6.179688 -5.414063 C 6.066406 -5.414063 5.976563 -5.441406 5.90625 -5.496094 C 5.832031 -5.550781 5.777344 -5.632813 5.742188 -5.742188 C 5.703125 -5.851563 5.621094 -5.894531 5.496094 -5.878906 C 5.367188 -5.855469 5.230469 -5.792969 5.085938 -5.6875 C 5.230469 -5.539063 5.339844 -5.339844 5.414063 -5.085938 C 5.484375 -4.828125 5.519531 -4.570313 5.523438 -4.320313 C 5.519531 -3.878906 5.347656 -3.453125 5.003906 -3.035156 C 4.65625 -2.613281 4.097656 -2.402344 3.335938 -2.40625 C 3.113281 -2.402344 2.914063 -2.429688 2.734375 -2.488281 C 2.550781 -2.539063 2.40625 -2.601563 2.296875 -2.679688 C 2.148438 -2.601563 2.039063 -2.511719 1.96875 -2.40625 C 1.894531 -2.292969 1.855469 -2.203125 1.859375 -2.132813 C 1.855469 -1.984375 1.894531 -1.875 1.96875 -1.804688 C 2.039063 -1.730469 2.148438 -1.691406 2.296875 -1.695313 C 2.769531 -1.617188 3.195313 -1.554688 3.582031 -1.503906 C 3.960938 -1.445313 4.300781 -1.398438 4.59375 -1.367188 Z M 2.351563 -0.929688 C 2.019531 -0.78125 1.792969 -0.609375 1.667969 -0.410156 C 1.539063 -0.207031 1.476563 0.0390625 1.476563 0.328125 C 1.476563 0.617188 1.640625 0.890625 1.96875 1.148438 C 2.296875 1.402344 2.789063 1.527344 3.445313 1.53125 C 4.0625 1.527344 4.554688 1.429688 4.921875 1.230469 C 5.285156 1.027344 5.464844 0.726563 5.46875 0.328125 C 5.464844 0.0742188 5.421875 -0.125 5.332031 -0.273438 C 5.238281 -0.417969 5.101563 -0.507813 4.921875 -0.546875 C 4.554688 -0.617188 4.152344 -0.691406 3.71875 -0.765625 C 3.277344 -0.800781 2.820313 -0.855469 2.351563 -0.929688 Z \"/>\n",
       "</symbol>\n",
       "</g>\n",
       "</defs>\n",
       "<g id=\"surface50\">\n",
       "<rect x=\"0\" y=\"0\" width=\"300\" height=\"300\" style=\"fill:rgb(100%,100%,100%);fill-opacity:1;stroke:none;\"/>\n",
       "<path style=\"fill:none;stroke-width:3;stroke-linecap:butt;stroke-linejoin:miter;stroke:rgb(26.666667%,26.666667%,26.666667%);stroke-opacity:1;stroke-miterlimit:10;\" d=\"M 194.425781 87.546875 L 280 37.183594 \"/>\n",
       "<path style=\"fill:none;stroke-width:1;stroke-linecap:butt;stroke-linejoin:miter;stroke:rgb(26.666667%,26.666667%,26.666667%);stroke-opacity:1;stroke-miterlimit:10;\" d=\"M 194.425781 87.546875 L 103.800781 78.332031 \"/>\n",
       "<path style=\"fill:none;stroke-width:3;stroke-linecap:butt;stroke-linejoin:miter;stroke:rgb(26.666667%,26.666667%,26.666667%);stroke-opacity:1;stroke-miterlimit:10;\" d=\"M 103.800781 78.332031 L 20 153.84375 \"/>\n",
       "<path style=\"fill:none;stroke-width:3;stroke-linecap:butt;stroke-linejoin:miter;stroke:rgb(26.666667%,26.666667%,26.666667%);stroke-opacity:1;stroke-miterlimit:10;\" d=\"M 20 153.84375 L 22.085938 20 \"/>\n",
       "<path style=\"fill:none;stroke-width:1;stroke-linecap:butt;stroke-linejoin:miter;stroke:rgb(26.666667%,26.666667%,26.666667%);stroke-opacity:1;stroke-miterlimit:10;\" d=\"M 103.800781 78.332031 L 22.085938 20 \"/>\n",
       "<path style=\"fill:none;stroke-width:3;stroke-linecap:butt;stroke-linejoin:miter;stroke:rgb(26.666667%,26.666667%,26.666667%);stroke-opacity:1;stroke-miterlimit:10;\" d=\"M 103.800781 78.332031 L 151.210938 206.859375 \"/>\n",
       "<path style=\"fill:none;stroke-width:1;stroke-linecap:butt;stroke-linejoin:miter;stroke:rgb(26.666667%,26.666667%,26.666667%);stroke-opacity:1;stroke-miterlimit:10;\" d=\"M 194.425781 87.546875 L 151.210938 206.859375 \"/>\n",
       "<path style=\"fill:none;stroke-width:1;stroke-linecap:butt;stroke-linejoin:miter;stroke:rgb(26.666667%,26.666667%,26.666667%);stroke-opacity:1;stroke-miterlimit:10;\" d=\"M 20 153.84375 L 68.398438 280 \"/>\n",
       "<path style=\"fill:none;stroke-width:1;stroke-linecap:butt;stroke-linejoin:miter;stroke:rgb(26.666667%,26.666667%,26.666667%);stroke-opacity:1;stroke-miterlimit:10;\" d=\"M 151.210938 206.859375 L 68.398438 280 \"/>\n",
       "<path style=\"fill-rule:nonzero;fill:rgb(100%,100%,100%);fill-opacity:1;stroke-width:1;stroke-linecap:butt;stroke-linejoin:miter;stroke:rgb(0%,0%,0%);stroke-opacity:1;stroke-miterlimit:10;\" d=\"M 204.425781 87.546875 C 204.425781 93.070313 199.949219 97.546875 194.425781 97.546875 C 188.902344 97.546875 184.425781 93.070313 184.425781 87.546875 C 184.425781 82.023438 188.902344 77.546875 194.425781 77.546875 C 199.949219 77.546875 204.425781 82.023438 204.425781 87.546875 \"/>\n",
       "<path style=\"fill-rule:nonzero;fill:rgb(0%,0%,0%);fill-opacity:1;stroke-width:1;stroke-linecap:butt;stroke-linejoin:miter;stroke:rgb(0%,0%,0%);stroke-opacity:1;stroke-miterlimit:10;\" d=\"M 290 37.183594 C 290 42.707031 285.523438 47.183594 280 47.183594 C 274.476563 47.183594 270 42.707031 270 37.183594 C 270 31.660156 274.476563 27.183594 280 27.183594 C 285.523438 27.183594 290 31.660156 290 37.183594 \"/>\n",
       "<path style=\"fill-rule:nonzero;fill:rgb(100%,100%,100%);fill-opacity:1;stroke-width:1;stroke-linecap:butt;stroke-linejoin:miter;stroke:rgb(0%,0%,0%);stroke-opacity:1;stroke-miterlimit:10;\" d=\"M 113.800781 78.332031 C 113.800781 83.855469 109.324219 88.332031 103.800781 88.332031 C 98.277344 88.332031 93.800781 83.855469 93.800781 78.332031 C 93.800781 72.808594 98.277344 68.332031 103.800781 68.332031 C 109.324219 68.332031 113.800781 72.808594 113.800781 78.332031 \"/>\n",
       "<path style=\"fill-rule:nonzero;fill:rgb(0%,0%,0%);fill-opacity:1;stroke-width:1;stroke-linecap:butt;stroke-linejoin:miter;stroke:rgb(0%,0%,0%);stroke-opacity:1;stroke-miterlimit:10;\" d=\"M 30 153.84375 C 30 159.367188 25.523438 163.84375 20 163.84375 C 14.476563 163.84375 10 159.367188 10 153.84375 C 10 148.320313 14.476563 143.84375 20 143.84375 C 25.523438 143.84375 30 148.320313 30 153.84375 \"/>\n",
       "<path style=\"fill-rule:nonzero;fill:rgb(100%,100%,100%);fill-opacity:1;stroke-width:1;stroke-linecap:butt;stroke-linejoin:miter;stroke:rgb(0%,0%,0%);stroke-opacity:1;stroke-miterlimit:10;\" d=\"M 32.085938 20 C 32.085938 25.523438 27.609375 30 22.085938 30 C 16.5625 30 12.085938 25.523438 12.085938 20 C 12.085938 14.476563 16.5625 10 22.085938 10 C 27.609375 10 32.085938 14.476563 32.085938 20 \"/>\n",
       "<path style=\"fill-rule:nonzero;fill:rgb(0%,0%,0%);fill-opacity:1;stroke-width:1;stroke-linecap:butt;stroke-linejoin:miter;stroke:rgb(0%,0%,0%);stroke-opacity:1;stroke-miterlimit:10;\" d=\"M 161.210938 206.859375 C 161.210938 212.382813 156.734375 216.859375 151.210938 216.859375 C 145.6875 216.859375 141.210938 212.382813 141.210938 206.859375 C 141.210938 201.335938 145.6875 196.859375 151.210938 196.859375 C 156.734375 196.859375 161.210938 201.335938 161.210938 206.859375 \"/>\n",
       "<path style=\"fill-rule:nonzero;fill:rgb(0%,0%,0%);fill-opacity:1;stroke-width:1;stroke-linecap:butt;stroke-linejoin:miter;stroke:rgb(0%,0%,0%);stroke-opacity:1;stroke-miterlimit:10;\" d=\"M 78.398438 280 C 78.398438 285.523438 73.921875 290 68.398438 290 C 62.875 290 58.398438 285.523438 58.398438 280 C 58.398438 274.476563 62.875 270 68.398438 270 C 73.921875 270 78.398438 274.476563 78.398438 280 \"/>\n",
       "<g style=\"fill:rgb(0%,0%,0%);fill-opacity:1;\">\n",
       "  <use xlink:href=\"#glyph0-1\" x=\"177.28125\" y=\"93.550781\"/>\n",
       "  <use xlink:href=\"#glyph0-2\" x=\"184.28125\" y=\"93.550781\"/>\n",
       "  <use xlink:href=\"#glyph0-3\" x=\"191.28125\" y=\"93.550781\"/>\n",
       "  <use xlink:href=\"#glyph0-4\" x=\"198.28125\" y=\"93.550781\"/>\n",
       "  <use xlink:href=\"#glyph0-5\" x=\"205.28125\" y=\"93.550781\"/>\n",
       "</g>\n",
       "<g style=\"fill:rgb(0%,0%,0%);fill-opacity:1;\">\n",
       "  <use xlink:href=\"#glyph0-6\" x=\"269.773438\" y=\"43.1875\"/>\n",
       "  <use xlink:href=\"#glyph0-7\" x=\"276.773438\" y=\"43.1875\"/>\n",
       "  <use xlink:href=\"#glyph0-8\" x=\"283.773438\" y=\"43.1875\"/>\n",
       "</g>\n",
       "<g style=\"fill:rgb(0%,0%,0%);fill-opacity:1;\">\n",
       "  <use xlink:href=\"#glyph0-9\" x=\"82.992188\" y=\"84.335938\"/>\n",
       "  <use xlink:href=\"#glyph0-2\" x=\"89.992188\" y=\"84.335938\"/>\n",
       "  <use xlink:href=\"#glyph0-10\" x=\"96.992188\" y=\"84.335938\"/>\n",
       "  <use xlink:href=\"#glyph0-3\" x=\"103.992188\" y=\"84.335938\"/>\n",
       "  <use xlink:href=\"#glyph0-11\" x=\"110.992188\" y=\"84.335938\"/>\n",
       "  <use xlink:href=\"#glyph0-5\" x=\"117.992188\" y=\"84.335938\"/>\n",
       "</g>\n",
       "<g style=\"fill:rgb(0%,0%,0%);fill-opacity:1;\">\n",
       "  <use xlink:href=\"#glyph0-12\" x=\"-0.617188\" y=\"159.683594\"/>\n",
       "  <use xlink:href=\"#glyph0-5\" x=\"6.382813\" y=\"159.683594\"/>\n",
       "  <use xlink:href=\"#glyph0-13\" x=\"13.382813\" y=\"159.683594\"/>\n",
       "  <use xlink:href=\"#glyph0-13\" x=\"20.382813\" y=\"159.683594\"/>\n",
       "  <use xlink:href=\"#glyph0-3\" x=\"27.382813\" y=\"159.683594\"/>\n",
       "  <use xlink:href=\"#glyph0-14\" x=\"34.382813\" y=\"159.683594\"/>\n",
       "</g>\n",
       "<g style=\"fill:rgb(0%,0%,0%);fill-opacity:1;\">\n",
       "  <use xlink:href=\"#glyph0-15\" x=\"1.195313\" y=\"26.003906\"/>\n",
       "  <use xlink:href=\"#glyph0-14\" x=\"8.195313\" y=\"26.003906\"/>\n",
       "  <use xlink:href=\"#glyph0-16\" x=\"15.195313\" y=\"26.003906\"/>\n",
       "  <use xlink:href=\"#glyph0-17\" x=\"22.195313\" y=\"26.003906\"/>\n",
       "  <use xlink:href=\"#glyph0-5\" x=\"29.195313\" y=\"26.003906\"/>\n",
       "  <use xlink:href=\"#glyph0-11\" x=\"36.195313\" y=\"26.003906\"/>\n",
       "</g>\n",
       "<g style=\"fill:rgb(0%,0%,0%);fill-opacity:1;\">\n",
       "  <use xlink:href=\"#glyph0-18\" x=\"133.765625\" y=\"212.863281\"/>\n",
       "  <use xlink:href=\"#glyph0-11\" x=\"140.765625\" y=\"212.863281\"/>\n",
       "  <use xlink:href=\"#glyph0-10\" x=\"147.765625\" y=\"212.863281\"/>\n",
       "  <use xlink:href=\"#glyph0-13\" x=\"154.765625\" y=\"212.863281\"/>\n",
       "  <use xlink:href=\"#glyph0-19\" x=\"161.765625\" y=\"212.863281\"/>\n",
       "</g>\n",
       "<g style=\"fill:rgb(0%,0%,0%);fill-opacity:1;\">\n",
       "  <use xlink:href=\"#glyph0-20\" x=\"47.617188\" y=\"285.839844\"/>\n",
       "  <use xlink:href=\"#glyph0-5\" x=\"54.617188\" y=\"285.839844\"/>\n",
       "  <use xlink:href=\"#glyph0-7\" x=\"61.617188\" y=\"285.839844\"/>\n",
       "  <use xlink:href=\"#glyph0-11\" x=\"68.617188\" y=\"285.839844\"/>\n",
       "  <use xlink:href=\"#glyph0-21\" x=\"75.617188\" y=\"285.839844\"/>\n",
       "  <use xlink:href=\"#glyph0-5\" x=\"82.617188\" y=\"285.839844\"/>\n",
       "</g>\n",
       "</g>\n",
       "</svg>\n"
      ],
      "text/plain": [
       "<igraph.drawing.Plot at 0x649eba8>"
      ]
     },
     "execution_count": 92,
     "metadata": {},
     "output_type": "execute_result"
    }
   ],
   "source": [
    "plot(g,**visual_style)"
   ]
  },
  {
   "cell_type": "markdown",
   "metadata": {},
   "source": [
    "# 9.Specifying colors in plots"
   ]
  },
  {
   "cell_type": "raw",
   "metadata": {},
   "source": [
    "作为一个练习，下载着名的Zachary karate club study(http://igraph.sourceforge.net/karate.net)的图表，保存到一个文件夹，并尝试加载到igraph。 由于它是一个Pajek网络文件，所以必须使用上表中的Pajek阅读器方法（确保使用适当的路径下载文件）："
   ]
  },
  {
   "cell_type": "code",
   "execution_count": 94,
   "metadata": {},
   "outputs": [
    {
     "ename": "InternalError",
     "evalue": "Error at .\\src\\foreign.c:580: Parse error in Pajek file, line 1 (syntax error, unexpected ALNUM, expecting VERTICESLINE), Parse error",
     "output_type": "error",
     "traceback": [
      "\u001b[1;31m---------------------------------------------------------------------------\u001b[0m",
      "\u001b[1;31mInternalError\u001b[0m                             Traceback (most recent call last)",
      "\u001b[1;32m<ipython-input-94-d22f640b9003>\u001b[0m in \u001b[0;36m<module>\u001b[1;34m()\u001b[0m\n\u001b[1;32m----> 1\u001b[1;33m \u001b[0mkarate\u001b[0m \u001b[1;33m=\u001b[0m \u001b[0mGraph\u001b[0m\u001b[1;33m.\u001b[0m\u001b[0mRead_Pajek\u001b[0m\u001b[1;33m(\u001b[0m\u001b[1;34m\"karate.txt\"\u001b[0m\u001b[1;33m)\u001b[0m\u001b[1;33m\u001b[0m\u001b[0m\n\u001b[0m",
      "\u001b[1;31mInternalError\u001b[0m: Error at .\\src\\foreign.c:580: Parse error in Pajek file, line 1 (syntax error, unexpected ALNUM, expecting VERTICESLINE), Parse error"
     ]
    }
   ],
   "source": [
    "karate = Graph.Read_Pajek(\"karate.txt\")\n"
   ]
  },
  {
   "cell_type": "code",
   "execution_count": null,
   "metadata": {
    "collapsed": true
   },
   "outputs": [],
   "source": []
  }
 ],
 "metadata": {
  "kernelspec": {
   "display_name": "Python 2",
   "language": "python",
   "name": "python2"
  },
  "language_info": {
   "codemirror_mode": {
    "name": "ipython",
    "version": 2
   },
   "file_extension": ".py",
   "mimetype": "text/x-python",
   "name": "python",
   "nbconvert_exporter": "python",
   "pygments_lexer": "ipython2",
   "version": "2.7.13"
  }
 },
 "nbformat": 4,
 "nbformat_minor": 2
}
